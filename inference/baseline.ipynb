{
 "cells": [
  {
   "cell_type": "code",
   "execution_count": 2,
   "metadata": {},
   "outputs": [
    {
     "data": {
      "text/plain": [
       "'/mnt/c/Uni/Diss/inference'"
      ]
     },
     "execution_count": 2,
     "metadata": {},
     "output_type": "execute_result"
    }
   ],
   "source": [
    "import os\n",
    "os.getcwd()"
   ]
  },
  {
   "cell_type": "code",
   "execution_count": null,
   "metadata": {},
   "outputs": [],
   "source": [
    "from mistral_inference.transformer import Transformer\n",
    "from mistral_inference.generate import generate\n",
    "\n",
    "from mistral_common.tokens.tokenizers.mistral import MistralTokenizer\n",
    "from mistral_common.protocol.instruct.messages import UserMessage\n",
    "from mistral_common.protocol.instruct.request import ChatCompletionRequest\n"
   ]
  },
  {
   "cell_type": "code",
   "execution_count": null,
   "metadata": {},
   "outputs": [],
   "source": [
    "tokenizer = MistralTokenizer.from_file(\"./mistral_models/M7B/tokenizer.model.v3\")  # change to extracted tokenizer file\n",
    "model = Transformer.from_folder(\"./mistral_models/M7B\")  # change to extracted model dir\n"
   ]
  },
  {
   "cell_type": "code",
   "execution_count": null,
   "metadata": {},
   "outputs": [],
   "source": [
    "prompt = \"How expensive would it be to ask a window cleaner to clean all windows in Paris. Make a reasonable guess in US Dollar.\"\n",
    "\n",
    "completion_request = ChatCompletionRequest(messages=[UserMessage(content=prompt)])\n",
    "\n",
    "tokens = tokenizer.encode_chat_completion(completion_request).tokens\n",
    "\n",
    "out_tokens, _ = generate([tokens], model, max_tokens=1024, temperature=0.35, eos_id=tokenizer.instruct_tokenizer.tokenizer.eos_id)\n",
    "result = tokenizer.instruct_tokenizer.tokenizer.decode(out_tokens[0])\n",
    "\n",
    "print(result)"
   ]
  },
  {
   "cell_type": "code",
   "execution_count": null,
   "metadata": {},
   "outputs": [],
   "source": [
    "\n",
    "\n",
    "\"\"\"\n",
    "To provide an estimate, I'll need to make several assumptions since I don't have specific data for the number of windows in Paris, the cost of window cleaning services in France, and the labor costs for window cleaners.\n",
    "\n",
    "1. Let's assume there are approximately 20 million windows in Paris (a rough guess based on the number of buildings and average number of windows per building).\n",
    "2. Let's assume the cost of cleaning a single window is around $1 (this is a very rough estimate and may vary greatly depending on factors like window size, height, and accessibility).\n",
    "3. Let's assume that a window cleaner can clean 100 windows per hour (again, this is a rough estimate and may vary based on the factors mentioned above).\n",
    "4. Let's assume that a window cleaner works 8 hours per day and 20 days per month.        \n",
    "\n",
    "Now, let's calculate the cost:\n",
    "\n",
    "Total windows in Paris: 20,000,000\n",
    "Cost per window: $1\n",
    "\n",
    "Total cost for cleaning all windows: $20,000,000\n",
    "\n",
    "However, this is an extremely simplified calculation and doesn't take into account many factors that would affect the actual cost, such as the time and resources required to reach high windows, the cost of equipment, and the number of window cleaners needed to complete the job.\n",
    "\n",
    "In reality, the cost would likely be much higher, possibly in the hundreds of millions or even billions of dollars. This is a very rough estimate and should be taken as such. For a more accurate estimate, you would need to consult with a professional window cleaning service in Paris.\n",
    "\"\"\""
   ]
  }
 ],
 "metadata": {
  "kernelspec": {
   "display_name": "Python 3 (ipykernel)",
   "language": "python",
   "name": "python3"
  },
  "language_info": {
   "codemirror_mode": {
    "name": "ipython",
    "version": 3
   },
   "file_extension": ".py",
   "mimetype": "text/x-python",
   "name": "python",
   "nbconvert_exporter": "python",
   "pygments_lexer": "ipython3",
   "version": "3.11.10"
  }
 },
 "nbformat": 4,
 "nbformat_minor": 2
}
