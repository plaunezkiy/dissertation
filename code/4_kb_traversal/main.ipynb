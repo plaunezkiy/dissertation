{
 "cells": [
  {
   "cell_type": "code",
   "execution_count": 10,
   "metadata": {},
   "outputs": [],
   "source": [
    "import pandas as pd\n",
    "import torch\n",
    "import gc\n",
    "import Stemmer\n",
    "import re\n",
    "import networkx as nx\n",
    "import matplotlib.pyplot as plt\n",
    "import scipy"
   ]
  },
  {
   "cell_type": "markdown",
   "metadata": {},
   "source": [
    "## Explore nodes and prompts"
   ]
  },
  {
   "cell_type": "code",
   "execution_count": 2,
   "metadata": {},
   "outputs": [
    {
     "data": {
      "text/html": [
       "<div>\n",
       "<style scoped>\n",
       "    .dataframe tbody tr th:only-of-type {\n",
       "        vertical-align: middle;\n",
       "    }\n",
       "\n",
       "    .dataframe tbody tr th {\n",
       "        vertical-align: top;\n",
       "    }\n",
       "\n",
       "    .dataframe thead th {\n",
       "        text-align: right;\n",
       "    }\n",
       "</style>\n",
       "<table border=\"1\" class=\"dataframe\">\n",
       "  <thead>\n",
       "    <tr style=\"text-align: right;\">\n",
       "      <th></th>\n",
       "      <th>Dataset</th>\n",
       "      <th>Version</th>\n",
       "      <th>Questions</th>\n",
       "    </tr>\n",
       "  </thead>\n",
       "  <tbody>\n",
       "    <tr>\n",
       "      <th>0</th>\n",
       "      <td>FreebaseQA-eval</td>\n",
       "      <td>1</td>\n",
       "      <td>{'Question-ID': 'FreebaseQA-eval-0', 'RawQuest...</td>\n",
       "    </tr>\n",
       "    <tr>\n",
       "      <th>1</th>\n",
       "      <td>FreebaseQA-eval</td>\n",
       "      <td>1</td>\n",
       "      <td>{'Question-ID': 'FreebaseQA-eval-1', 'RawQuest...</td>\n",
       "    </tr>\n",
       "    <tr>\n",
       "      <th>2</th>\n",
       "      <td>FreebaseQA-eval</td>\n",
       "      <td>1</td>\n",
       "      <td>{'Question-ID': 'FreebaseQA-eval-2', 'RawQuest...</td>\n",
       "    </tr>\n",
       "    <tr>\n",
       "      <th>3</th>\n",
       "      <td>FreebaseQA-eval</td>\n",
       "      <td>1</td>\n",
       "      <td>{'Question-ID': 'FreebaseQA-eval-3', 'RawQuest...</td>\n",
       "    </tr>\n",
       "    <tr>\n",
       "      <th>4</th>\n",
       "      <td>FreebaseQA-eval</td>\n",
       "      <td>1</td>\n",
       "      <td>{'Question-ID': 'FreebaseQA-eval-4', 'RawQuest...</td>\n",
       "    </tr>\n",
       "  </tbody>\n",
       "</table>\n",
       "</div>"
      ],
      "text/plain": [
       "           Dataset  Version                                          Questions\n",
       "0  FreebaseQA-eval        1  {'Question-ID': 'FreebaseQA-eval-0', 'RawQuest...\n",
       "1  FreebaseQA-eval        1  {'Question-ID': 'FreebaseQA-eval-1', 'RawQuest...\n",
       "2  FreebaseQA-eval        1  {'Question-ID': 'FreebaseQA-eval-2', 'RawQuest...\n",
       "3  FreebaseQA-eval        1  {'Question-ID': 'FreebaseQA-eval-3', 'RawQuest...\n",
       "4  FreebaseQA-eval        1  {'Question-ID': 'FreebaseQA-eval-4', 'RawQuest..."
      ]
     },
     "execution_count": 2,
     "metadata": {},
     "output_type": "execute_result"
    }
   ],
   "source": [
    "fbqa = pd.read_json(\"/datasets/FreebaseQA/FreebaseQA-eval.json\")\n",
    "fbqa.head()"
   ]
  },
  {
   "cell_type": "code",
   "execution_count": 3,
   "metadata": {},
   "outputs": [],
   "source": [
    "def get_fbqa_data(question_row):\n",
    "    \"\"\"\n",
    "    Takes in a dataset row and returns Q and A as strings\n",
    "    \"\"\"\n",
    "    question = question_row.Questions.get(\"RawQuestion\", None)\n",
    "    parse = question_row.Questions.get(\"Parses\", [None])[0]\n",
    "    if not parse:\n",
    "        print(f\"error in question: {question}\")\n",
    "        return question, None\n",
    "    answer = parse.get(\"Answers\")\n",
    "    return question, answer"
   ]
  },
  {
   "cell_type": "code",
   "execution_count": 4,
   "metadata": {},
   "outputs": [
    {
     "data": {
      "text/plain": [
       "(\"Who is the female presenter of the Channel 4 quiz show '1001 things you should know'?\",\n",
       " [{'AnswersMid': 'm.0216y_', 'AnswersName': ['sandi toksvig']}])"
      ]
     },
     "execution_count": 4,
     "metadata": {},
     "output_type": "execute_result"
    }
   ],
   "source": [
    "get_fbqa_data(fbqa.iloc[0])"
   ]
  },
  {
   "cell_type": "markdown",
   "metadata": {},
   "source": [
    "### Text preprocessing"
   ]
  },
  {
   "cell_type": "code",
   "execution_count": 5,
   "metadata": {},
   "outputs": [],
   "source": [
    "stemmer = Stemmer.Stemmer(\"english\")\n",
    "alphanum = r\"[a-zA-Z0-9_-]*\"\n",
    "non_alphanum = r\"[^a-zA-Z0-9]\"\n",
    "\n",
    "def preprocess_text(text):\n",
    "    # tokenize\n",
    "    text = text.lower()\n",
    "    text = re.sub(non_alphanum, \"\\n\", text)\n",
    "    tokens = list(filter(lambda token: bool(token), text.split(\"\\n\")))\n",
    "    # normalize\n",
    "    tokens = list(map(lambda token: stemmer.stemWord(token), tokens))\n",
    "    return \" \".join(tokens)"
   ]
  },
  {
   "cell_type": "code",
   "execution_count": 6,
   "metadata": {},
   "outputs": [
    {
     "data": {
      "text/plain": [
       "'henri fonda'"
      ]
     },
     "execution_count": 6,
     "metadata": {},
     "output_type": "execute_result"
    }
   ],
   "source": [
    "preprocess_text(\"Henry_Fonda\")"
   ]
  },
  {
   "cell_type": "markdown",
   "metadata": {},
   "source": [
    "## Load KB\n",
    "combine train, dev and test"
   ]
  },
  {
   "cell_type": "code",
   "execution_count": 7,
   "metadata": {},
   "outputs": [
    {
     "name": "stdout",
     "output_type": "stream",
     "text": [
      "train 272115 records\n",
      "valid 17535 records\n",
      "test 20466 records\n",
      "total 310116\n"
     ]
    },
    {
     "data": {
      "text/html": [
       "<div>\n",
       "<style scoped>\n",
       "    .dataframe tbody tr th:only-of-type {\n",
       "        vertical-align: middle;\n",
       "    }\n",
       "\n",
       "    .dataframe tbody tr th {\n",
       "        vertical-align: top;\n",
       "    }\n",
       "\n",
       "    .dataframe thead th {\n",
       "        text-align: right;\n",
       "    }\n",
       "</style>\n",
       "<table border=\"1\" class=\"dataframe\">\n",
       "  <thead>\n",
       "    <tr style=\"text-align: right;\">\n",
       "      <th></th>\n",
       "      <th>subject</th>\n",
       "      <th>relation</th>\n",
       "      <th>object</th>\n",
       "    </tr>\n",
       "  </thead>\n",
       "  <tbody>\n",
       "    <tr>\n",
       "      <th>0</th>\n",
       "      <td>/m/027rn</td>\n",
       "      <td>/location/country/form_of_government</td>\n",
       "      <td>/m/06cx9</td>\n",
       "    </tr>\n",
       "    <tr>\n",
       "      <th>1</th>\n",
       "      <td>/m/017dcd</td>\n",
       "      <td>/tv/tv_program/regular_cast./tv/regular_tv_app...</td>\n",
       "      <td>/m/06v8s0</td>\n",
       "    </tr>\n",
       "    <tr>\n",
       "      <th>2</th>\n",
       "      <td>/m/07s9rl0</td>\n",
       "      <td>/media_common/netflix_genre/titles</td>\n",
       "      <td>/m/0170z3</td>\n",
       "    </tr>\n",
       "    <tr>\n",
       "      <th>3</th>\n",
       "      <td>/m/01sl1q</td>\n",
       "      <td>/award/award_winner/awards_won./award/award_ho...</td>\n",
       "      <td>/m/044mz_</td>\n",
       "    </tr>\n",
       "    <tr>\n",
       "      <th>4</th>\n",
       "      <td>/m/0cnk2q</td>\n",
       "      <td>/soccer/football_team/current_roster./sports/s...</td>\n",
       "      <td>/m/02nzb8</td>\n",
       "    </tr>\n",
       "  </tbody>\n",
       "</table>\n",
       "</div>"
      ],
      "text/plain": [
       "      subject                                           relation     object\n",
       "0    /m/027rn               /location/country/form_of_government   /m/06cx9\n",
       "1   /m/017dcd  /tv/tv_program/regular_cast./tv/regular_tv_app...  /m/06v8s0\n",
       "2  /m/07s9rl0                 /media_common/netflix_genre/titles  /m/0170z3\n",
       "3   /m/01sl1q  /award/award_winner/awards_won./award/award_ho...  /m/044mz_\n",
       "4   /m/0cnk2q  /soccer/football_team/current_roster./sports/s...  /m/02nzb8"
      ]
     },
     "execution_count": 7,
     "metadata": {},
     "output_type": "execute_result"
    }
   ],
   "source": [
    "fbkb = pd.DataFrame()\n",
    "for split in [\"train\", \"valid\", \"test\"]:\n",
    "    path = f\"/datasets/FB15k-237/{split}.txt\"\n",
    "    split_df = pd.read_csv(path, sep=\"\\t\", header=None)\n",
    "    print(split, len(split_df), \"records\")\n",
    "    fbkb = pd.concat([fbkb, split_df])\n",
    "print(\"total\", len(fbkb))\n",
    "fbkb.rename(columns={0: \"subject\", 1: \"relation\", 2: \"object\"}, inplace=True)\n",
    "fbkb.head()"
   ]
  },
  {
   "cell_type": "code",
   "execution_count": 24,
   "metadata": {},
   "outputs": [
    {
     "name": "stdout",
     "output_type": "stream",
     "text": [
      "14951 records\n"
     ]
    },
    {
     "data": {
      "text/html": [
       "<div>\n",
       "<style scoped>\n",
       "    .dataframe tbody tr th:only-of-type {\n",
       "        vertical-align: middle;\n",
       "    }\n",
       "\n",
       "    .dataframe tbody tr th {\n",
       "        vertical-align: top;\n",
       "    }\n",
       "\n",
       "    .dataframe thead th {\n",
       "        text-align: right;\n",
       "    }\n",
       "</style>\n",
       "<table border=\"1\" class=\"dataframe\">\n",
       "  <thead>\n",
       "    <tr style=\"text-align: right;\">\n",
       "      <th></th>\n",
       "      <th>0</th>\n",
       "      <th>1</th>\n",
       "    </tr>\n",
       "  </thead>\n",
       "  <tbody>\n",
       "    <tr>\n",
       "      <th>0</th>\n",
       "      <td>/m/06rf7</td>\n",
       "      <td>Schleswig-Holstein</td>\n",
       "    </tr>\n",
       "    <tr>\n",
       "      <th>1</th>\n",
       "      <td>/m/0c94fn</td>\n",
       "      <td>Gary_Rydstrom</td>\n",
       "    </tr>\n",
       "    <tr>\n",
       "      <th>2</th>\n",
       "      <td>/m/016ywr</td>\n",
       "      <td>Jeremy_Irons</td>\n",
       "    </tr>\n",
       "    <tr>\n",
       "      <th>3</th>\n",
       "      <td>/m/01yjl</td>\n",
       "      <td>Chicago_Cubs</td>\n",
       "    </tr>\n",
       "    <tr>\n",
       "      <th>4</th>\n",
       "      <td>/m/02hrh1q</td>\n",
       "      <td>Actor-GB</td>\n",
       "    </tr>\n",
       "  </tbody>\n",
       "</table>\n",
       "</div>"
      ],
      "text/plain": [
       "            0                   1\n",
       "0    /m/06rf7  Schleswig-Holstein\n",
       "1   /m/0c94fn       Gary_Rydstrom\n",
       "2   /m/016ywr        Jeremy_Irons\n",
       "3    /m/01yjl        Chicago_Cubs\n",
       "4  /m/02hrh1q            Actor-GB"
      ]
     },
     "execution_count": 24,
     "metadata": {},
     "output_type": "execute_result"
    }
   ],
   "source": [
    "mid2name = pd.read_csv(\"/datasets/FB15k-237/mid2name.txt\", sep=\"\\t\", header=None)\n",
    "print(len(mid2name), \"records\")\n",
    "mid2name.head()"
   ]
  },
  {
   "cell_type": "code",
   "execution_count": 25,
   "metadata": {},
   "outputs": [],
   "source": [
    "mid2name_dict = dict(zip(mid2name[0], mid2name[1]))"
   ]
  },
  {
   "cell_type": "code",
   "execution_count": 26,
   "metadata": {},
   "outputs": [],
   "source": [
    "from langchain_community.graphs.networkx_graph import KnowledgeTriple\n",
    "from utils.graph import KGraphPreproc\n",
    "fbkb_graph = KGraphPreproc()"
   ]
  },
  {
   "cell_type": "code",
   "execution_count": 27,
   "metadata": {},
   "outputs": [],
   "source": [
    "for i, r in fbkb.iterrows():\n",
    "    # subject = preprocess_text(mid2name_dict[r.subject])\n",
    "    # object_ = preprocess_text(mid2name_dict[r.object])\n",
    "    triplet = KnowledgeTriple(\n",
    "        r.subject,\n",
    "        r.relation,\n",
    "        r.object,\n",
    "    )\n",
    "    fbkb_graph.add_triple(triplet)\n",
    "    nx.set_node_attributes(fbkb_graph._graph, {r.subject: mid2name_dict.get(r.subject, \"OOV\")}, \"label\")\n",
    "    nx.set_node_attributes(fbkb_graph._graph, {r.object: mid2name_dict.get(r.object, \"OOV\")}, \"label\")\n",
    "    nx.set_edge_attributes(fbkb_graph._graph, {(r.subject, r.object): r.relation}, \"label\")\n"
   ]
  },
  {
   "cell_type": "code",
   "execution_count": 29,
   "metadata": {},
   "outputs": [],
   "source": [
    "nx.write_gexf(fbkb_graph._graph, \"/datasets/FB15k-237/kb.gexf\")"
   ]
  },
  {
   "cell_type": "code",
   "execution_count": 17,
   "metadata": {},
   "outputs": [
    {
     "name": "stdout",
     "output_type": "stream",
     "text": [
      "283868\n"
     ]
    },
    {
     "data": {
      "text/plain": [
       "('/m/027rn',\n",
       " '/m/0l6ny',\n",
       " '/olympics/olympic_participating_country/medals_won./olympics/olympic_medal_honor/olympics')"
      ]
     },
     "execution_count": 17,
     "metadata": {},
     "output_type": "execute_result"
    }
   ],
   "source": [
    "fbkb_graph.generate_preprocessed_nodes()\n",
    "print(len(fbkb_graph.get_triples()))\n",
    "fbkb_graph.get_triples()[1]"
   ]
  },
  {
   "cell_type": "code",
   "execution_count": 28,
   "metadata": {},
   "outputs": [
    {
     "data": {
      "text/plain": [
       "[('schleswig holstein', '/m/06rf7'),\n",
       " ('gari rydstrom', '/m/0c94fn'),\n",
       " ('jeremi iron', '/m/016ywr'),\n",
       " ('chicago cub', '/m/01yjl'),\n",
       " ('actor gb', '/m/02hrh1q')]"
      ]
     },
     "execution_count": 28,
     "metadata": {},
     "output_type": "execute_result"
    }
   ],
   "source": [
    "mid2name[1] = mid2name[1].apply(preprocess_text)\n",
    "name2mid = dict(zip(mid2name[1], mid2name[0]))\n",
    "list(name2mid.items())[:5]"
   ]
  },
  {
   "cell_type": "code",
   "execution_count": 20,
   "metadata": {},
   "outputs": [
    {
     "name": "stdout",
     "output_type": "stream",
     "text": [
      "{'Question-ID': 'FreebaseQA-eval-1100', 'RawQuestion': 'From which city do the groups Human League and Def Leppard originate?', 'ProcessedQuestion': 'from which city do the groups human league and def leppard originate', 'Parses': [{'Parse-Id': 'FreebaseQA-eval-1100.P0', 'PotentialTopicEntityMention': 'def leppard', 'TopicEntityName': 'def leppard', 'TopicEntityMid': 'm.017mbb', 'InferentialChain': 'music.artist.origin', 'Answers': [{'AnswersMid': 'm.0m75g', 'AnswersName': ['sheffield']}]}, {'Parse-Id': 'FreebaseQA-eval-1100.P1', 'PotentialTopicEntityMention': 'def leppard', 'TopicEntityName': 'def leppard', 'TopicEntityMid': 'm.01tyjc_', 'InferentialChain': 'people.person.place_of_birth', 'Answers': [{'AnswersMid': 'm.0m75g', 'AnswersName': ['sheffield']}]}, {'Parse-Id': 'FreebaseQA-eval-1100.P2', 'PotentialTopicEntityMention': 'human league', 'TopicEntityName': 'the human league', 'TopicEntityMid': 'm.013pnp', 'InferentialChain': 'music.artist.origin', 'Answers': [{'AnswersMid': 'm.0m75g', 'AnswersName': ['sheffield']}]}]}\n"
     ]
    },
    {
     "data": {
      "text/plain": [
       "'music.artist.origin'"
      ]
     },
     "execution_count": 20,
     "metadata": {},
     "output_type": "execute_result"
    }
   ],
   "source": [
    "# for i, r in fbqa.iterrows():\n",
    "#      break\n",
    "r = fbqa.iloc[1100]\n",
    "data = r.Questions\n",
    "print(data)\n",
    "parse = data[\"Parses\"][0]\n",
    "entity_mid = parse[\"TopicEntityMid\"]\n",
    "entity_mid = \"/\" + entity_mid.replace(\".\", \"/\")\n",
    "parse[\"InferentialChain\"]           \n"
   ]
  },
  {
   "cell_type": "code",
   "execution_count": 21,
   "metadata": {},
   "outputs": [
    {
     "name": "stdout",
     "output_type": "stream",
     "text": [
      "/m/017mbb\n"
     ]
    },
    {
     "data": {
      "text/plain": [
       "'def leppard'"
      ]
     },
     "execution_count": 21,
     "metadata": {},
     "output_type": "execute_result"
    }
   ],
   "source": [
    "print(entity_mid)\n",
    "mid2name_dict.get(entity_mid)"
   ]
  },
  {
   "cell_type": "code",
   "execution_count": 219,
   "metadata": {},
   "outputs": [],
   "source": [
    "def replace_mid_with_name(triplet):\n",
    "    c = triplet.split()\n",
    "    return \" \".join([mid2name_dict.get(c[0], \"OOV\"), c[1], mid2name_dict.get(c[2], \"OOV\")])"
   ]
  },
  {
   "cell_type": "code",
   "execution_count": 354,
   "metadata": {},
   "outputs": [
    {
     "data": {
      "text/plain": [
       "['def leppard /award/award_nominee/award_nominations./award/award_nomination/award mtv video music award for video of the year',\n",
       " 'def leppard /music/group_member/membership./music/group_membership/role guitar',\n",
       " 'def leppard /award/award_nominee/award_nominations./award/award_nomination/award mtv video music award for best visual effect',\n",
       " 'def leppard /common/topic/webpage./common/webpage/category offici websit',\n",
       " 'def leppard /influence/influence_node/influenced_by thin lizzi']"
      ]
     },
     "execution_count": 354,
     "metadata": {},
     "output_type": "execute_result"
    }
   ],
   "source": [
    "list(map(replace_mid_with_name, fbkb_graph.get_entity_knowledge(entity_mid)))[:5]"
   ]
  },
  {
   "cell_type": "code",
   "execution_count": 206,
   "metadata": {},
   "outputs": [
    {
     "data": {
      "text/html": [
       "<div>\n",
       "<style scoped>\n",
       "    .dataframe tbody tr th:only-of-type {\n",
       "        vertical-align: middle;\n",
       "    }\n",
       "\n",
       "    .dataframe tbody tr th {\n",
       "        vertical-align: top;\n",
       "    }\n",
       "\n",
       "    .dataframe thead th {\n",
       "        text-align: right;\n",
       "    }\n",
       "</style>\n",
       "<table border=\"1\" class=\"dataframe\">\n",
       "  <thead>\n",
       "    <tr style=\"text-align: right;\">\n",
       "      <th></th>\n",
       "      <th>subject</th>\n",
       "      <th>relation</th>\n",
       "      <th>object</th>\n",
       "    </tr>\n",
       "  </thead>\n",
       "  <tbody>\n",
       "    <tr>\n",
       "      <th>1480</th>\n",
       "      <td>/m/05qhw</td>\n",
       "      <td>/olympics/olympic_participating_country/medals...</td>\n",
       "      <td>/m/0nbjq</td>\n",
       "    </tr>\n",
       "    <tr>\n",
       "      <th>4434</th>\n",
       "      <td>/m/0154j</td>\n",
       "      <td>/olympics/olympic_participating_country/medals...</td>\n",
       "      <td>/m/0nbjq</td>\n",
       "    </tr>\n",
       "    <tr>\n",
       "      <th>6627</th>\n",
       "      <td>/m/0nbjq</td>\n",
       "      <td>/user/jg/default_domain/olympic_games/sports</td>\n",
       "      <td>/m/06f41</td>\n",
       "    </tr>\n",
       "    <tr>\n",
       "      <th>9822</th>\n",
       "      <td>/m/06mzp</td>\n",
       "      <td>/olympics/olympic_participating_country/medals...</td>\n",
       "      <td>/m/0nbjq</td>\n",
       "    </tr>\n",
       "    <tr>\n",
       "      <th>13332</th>\n",
       "      <td>/m/0nbjq</td>\n",
       "      <td>/user/jg/default_domain/olympic_games/sports</td>\n",
       "      <td>/m/07bs0</td>\n",
       "    </tr>\n",
       "    <tr>\n",
       "      <th>...</th>\n",
       "      <td>...</td>\n",
       "      <td>...</td>\n",
       "      <td>...</td>\n",
       "    </tr>\n",
       "    <tr>\n",
       "      <th>270028</th>\n",
       "      <td>/m/0nbjq</td>\n",
       "      <td>/olympics/olympic_games/sports</td>\n",
       "      <td>/m/06br8</td>\n",
       "    </tr>\n",
       "    <tr>\n",
       "      <th>5679</th>\n",
       "      <td>/m/0h7x</td>\n",
       "      <td>/olympics/olympic_participating_country/medals...</td>\n",
       "      <td>/m/0nbjq</td>\n",
       "    </tr>\n",
       "    <tr>\n",
       "      <th>7058</th>\n",
       "      <td>/m/01mk6</td>\n",
       "      <td>/olympics/olympic_participating_country/medals...</td>\n",
       "      <td>/m/0nbjq</td>\n",
       "    </tr>\n",
       "    <tr>\n",
       "      <th>247</th>\n",
       "      <td>/m/01sgl</td>\n",
       "      <td>/olympics/olympic_sport/athletes./olympics/oly...</td>\n",
       "      <td>/m/0nbjq</td>\n",
       "    </tr>\n",
       "    <tr>\n",
       "      <th>13710</th>\n",
       "      <td>/m/0nbjq</td>\n",
       "      <td>/olympics/olympic_games/medals_awarded./olympi...</td>\n",
       "      <td>/m/02lq5w</td>\n",
       "    </tr>\n",
       "  </tbody>\n",
       "</table>\n",
       "<p>77 rows × 3 columns</p>\n",
       "</div>"
      ],
      "text/plain": [
       "         subject                                           relation     object\n",
       "1480    /m/05qhw  /olympics/olympic_participating_country/medals...   /m/0nbjq\n",
       "4434    /m/0154j  /olympics/olympic_participating_country/medals...   /m/0nbjq\n",
       "6627    /m/0nbjq       /user/jg/default_domain/olympic_games/sports   /m/06f41\n",
       "9822    /m/06mzp  /olympics/olympic_participating_country/medals...   /m/0nbjq\n",
       "13332   /m/0nbjq       /user/jg/default_domain/olympic_games/sports   /m/07bs0\n",
       "...          ...                                                ...        ...\n",
       "270028  /m/0nbjq                     /olympics/olympic_games/sports   /m/06br8\n",
       "5679     /m/0h7x  /olympics/olympic_participating_country/medals...   /m/0nbjq\n",
       "7058    /m/01mk6  /olympics/olympic_participating_country/medals...   /m/0nbjq\n",
       "247     /m/01sgl  /olympics/olympic_sport/athletes./olympics/oly...   /m/0nbjq\n",
       "13710   /m/0nbjq  /olympics/olympic_games/medals_awarded./olympi...  /m/02lq5w\n",
       "\n",
       "[77 rows x 3 columns]"
      ]
     },
     "execution_count": 206,
     "metadata": {},
     "output_type": "execute_result"
    }
   ],
   "source": [
    "fbkb[(fbkb.subject == entity_mid) | (fbkb.object == entity_mid)]"
   ]
  },
  {
   "cell_type": "code",
   "execution_count": null,
   "metadata": {},
   "outputs": [
    {
     "data": {
      "text/plain": [
       "<Figure size 18000x9000 with 0 Axes>"
      ]
     },
     "execution_count": 339,
     "metadata": {},
     "output_type": "execute_result"
    },
    {
     "data": {
      "text/plain": [
       "<Figure size 18000x9000 with 0 Axes>"
      ]
     },
     "metadata": {},
     "output_type": "display_data"
    }
   ],
   "source": [
    "from matplotlib.pyplot import figure\n",
    "\n",
    "figure(figsize=(100, 50), dpi=180)"
   ]
  },
  {
   "cell_type": "code",
   "execution_count": null,
   "metadata": {},
   "outputs": [
    {
     "data": {
      "image/png": "[encoded data removed]",
      "text/plain": [
       "<Figure size 640x480 with 1 Axes>"
      ]
     },
     "metadata": {},
     "output_type": "display_data"
    }
   ],
   "source": [
    "G = fbkb_graph.get_subgraph(entity_mid)\n",
    "# Position the nodes using a layout\n",
    "pos = nx.spring_layout(G, seed=95)\n",
    "\n",
    "# Draw the nodes with labels\n",
    "node_labels = nx.get_node_attributes(G, 'label')\n",
    "nx.draw_networkx_nodes(G, pos, node_size=100)\n",
    "nx.draw_networkx_labels(G, pos, labels=node_labels, font_size=8)\n",
    "\n",
    "# Draw the edges with labels\n",
    "nx.draw_networkx_edges(G, pos, arrowstyle='->', arrowsize=20)\n",
    "edge_labels = nx.get_edge_attributes(G, \"label\")\n",
    "nx.draw_networkx_edge_labels(G, pos, edge_labels=edge_labels, font_size=4)\n",
    "\n",
    "# Remove axis\n",
    "plt.axis('off')\n",
    "# Display the graph\n",
    "plt.show()\n"
   ]
  }
 ],
 "metadata": {
  "kernelspec": {
   "display_name": "Python 3 (ipykernel)",
   "language": "python",
   "name": "python3"
  }
 },
 "nbformat": 4,
 "nbformat_minor": 2
}
