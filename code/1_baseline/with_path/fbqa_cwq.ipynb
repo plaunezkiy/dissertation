{
 "cells": [
  {
   "cell_type": "code",
   "execution_count": 54,
   "metadata": {},
   "outputs": [],
   "source": [
    "import torch\n",
    "# set to \"cuda:1\" for running in parallel on both GPUs\n",
    "device = torch.device(\"cuda:0\")\n",
    "torch.cuda.set_device(device)\n",
    "torch.set_default_device(device)\n",
    "import pandas as pd\n",
    "from utils.graph import KGraphPreproc\n",
    "from utils.llm.mistral import MistralLLM\n",
    "from utils.prompt import GRAPH_QA_PROMPT\n",
    "from tqdm import tqdm\n",
    "from utils.file import export_results_to_file\n",
    "import os\n",
    "import networkx as nx\n",
    "import ast"
   ]
  },
  {
   "cell_type": "code",
   "execution_count": 3,
   "metadata": {},
   "outputs": [],
   "source": [
    "fbkb_graph = KGraphPreproc.get_fbkb_graph()"
   ]
  },
  {
   "cell_type": "code",
   "execution_count": 63,
   "metadata": {},
   "outputs": [],
   "source": [
    "def get_triplet_path(graph, start, target):\n",
    "    try:\n",
    "        path = nx.shortest_path(graph, start, target)\n",
    "        triplets = []\n",
    "        for s,t in zip(path, path[1:]):\n",
    "            head = fbkb_graph.mid2name.get(s, None)\n",
    "            rel = graph[s][t].get(\"relation\", None)\n",
    "            tail = fbkb_graph.mid2name.get(t, None)\n",
    "            triplets.append(f'{head}-{rel}-{tail}')\n",
    "        return triplets\n",
    "    except (nx.NetworkXNoPath, nx.NodeNotFound):\n",
    "        return []"
   ]
  },
  {
   "cell_type": "code",
   "execution_count": 8,
   "metadata": {},
   "outputs": [
    {
     "data": {
      "text/html": [
       "<div>\n",
       "<style scoped>\n",
       "    .dataframe tbody tr th:only-of-type {\n",
       "        vertical-align: middle;\n",
       "    }\n",
       "\n",
       "    .dataframe tbody tr th {\n",
       "        vertical-align: top;\n",
       "    }\n",
       "\n",
       "    .dataframe thead th {\n",
       "        text-align: right;\n",
       "    }\n",
       "</style>\n",
       "<table border=\"1\" class=\"dataframe\">\n",
       "  <thead>\n",
       "    <tr style=\"text-align: right;\">\n",
       "      <th></th>\n",
       "      <th>Question-ID</th>\n",
       "      <th>RawQuestion</th>\n",
       "      <th>ProcessedQuestion</th>\n",
       "      <th>Parses</th>\n",
       "      <th>entities</th>\n",
       "    </tr>\n",
       "  </thead>\n",
       "  <tbody>\n",
       "    <tr>\n",
       "      <th>2</th>\n",
       "      <td>FreebaseQA-eval-2</td>\n",
       "      <td>Who directed the films; The Fisher King (1991)...</td>\n",
       "      <td>who directed the films; the fisher king (1991)...</td>\n",
       "      <td>[{'Parse-Id': 'FreebaseQA-eval-2.P0', 'Potenti...</td>\n",
       "      <td>[['/m/07j6w', '/m/07h5d'], ['/m/04z257', '/m/0...</td>\n",
       "    </tr>\n",
       "  </tbody>\n",
       "</table>\n",
       "</div>"
      ],
      "text/plain": [
       "         Question-ID                                        RawQuestion  \\\n",
       "2  FreebaseQA-eval-2  Who directed the films; The Fisher King (1991)...   \n",
       "\n",
       "                                   ProcessedQuestion  \\\n",
       "2  who directed the films; the fisher king (1991)...   \n",
       "\n",
       "                                              Parses  \\\n",
       "2  [{'Parse-Id': 'FreebaseQA-eval-2.P0', 'Potenti...   \n",
       "\n",
       "                                            entities  \n",
       "2  [['/m/07j6w', '/m/07h5d'], ['/m/04z257', '/m/0...  "
      ]
     },
     "execution_count": 8,
     "metadata": {},
     "output_type": "execute_result"
    }
   ],
   "source": [
    "fbqa = pd.read_csv(\"/datasets/FreebaseQA/FbQA-eval-1000.csv\", index_col=0)\n",
    "fbqa.head(1)"
   ]
  },
  {
   "cell_type": "code",
   "execution_count": 52,
   "metadata": {},
   "outputs": [],
   "source": [
    "mistral = MistralLLM()"
   ]
  },
  {
   "cell_type": "code",
   "execution_count": 64,
   "metadata": {},
   "outputs": [
    {
     "name": "stderr",
     "output_type": "stream",
     "text": [
      "  0%|          | 0/1000 [00:00<?, ?it/s]"
     ]
    },
    {
     "name": "stderr",
     "output_type": "stream",
     "text": [
      "100%|██████████| 1000/1000 [05:46<00:00,  2.88it/s]\n"
     ]
    }
   ],
   "source": [
    "# init experiment\n",
    "experiment_name = f\"kb-path\"\n",
    "res_path = f\"/datasets/FreebaseQA/results/{experiment_name}.csv\"\n",
    "results = []\n",
    "id_list = []\n",
    "l = 0\n",
    "# load if preinit'ed\n",
    "if os.path.isfile(res_path):\n",
    "    r_df = pd.read_csv(res_path)\n",
    "    l = len(r_df)\n",
    "    results = list(r_df.Model.values)\n",
    "# run through\n",
    "for c, (i, r) in enumerate(tqdm(list(fbqa.iterrows()))):\n",
    "    id_list.append(i)\n",
    "    if c < l:\n",
    "        continue\n",
    "    paths = ast.literal_eval(r.entities)\n",
    "    context = []\n",
    "    for pair in paths:\n",
    "        context.extend(get_triplet_path(fbkb_graph._graph, *pair))\n",
    "    prompt = GRAPH_QA_PROMPT.format(\n",
    "        context=\";\".join(context),\n",
    "        question=r.RawQuestion\n",
    "    )\n",
    "    response = mistral.get_response(prompt)\n",
    "    results.append(response)\n",
    "    # backup every 10 qs\n",
    "    if c % 10 == 0:\n",
    "        export_results_to_file(res_path, results, id_list)\n",
    "export_results_to_file(res_path, results)"
   ]
  },
  {
   "cell_type": "code",
   "execution_count": 65,
   "metadata": {},
   "outputs": [],
   "source": [
    "cwq = pd.read_csv(\"/datasets/CWQ/cwq-1000.csv\", index_col=0)"
   ]
  },
  {
   "cell_type": "code",
   "execution_count": 91,
   "metadata": {},
   "outputs": [
    {
     "name": "stderr",
     "output_type": "stream",
     "text": [
      "  0%|          | 0/1000 [00:00<?, ?it/s]"
     ]
    },
    {
     "name": "stderr",
     "output_type": "stream",
     "text": [
      "100%|██████████| 1000/1000 [10:02<00:00,  1.66it/s]\n"
     ]
    }
   ],
   "source": [
    "# init experiment\n",
    "experiment_name = f\"kb-path\"\n",
    "res_path = f\"/datasets/CWQ/results/{experiment_name}.csv\"\n",
    "results = []\n",
    "id_list = []\n",
    "l = 0\n",
    "# load if preinit'ed\n",
    "if os.path.isfile(res_path):\n",
    "    r_df = pd.read_csv(res_path)\n",
    "    l = len(r_df)\n",
    "    results = list(r_df.Model.values)\n",
    "# run through\n",
    "for c, (i, r) in enumerate(tqdm(list(cwq.iterrows()))):\n",
    "    id_list.append(i)\n",
    "    if c < l:\n",
    "        continue\n",
    "    topic_ids = set(ast.literal_eval(r[\"topic_ids\"]))\n",
    "    answer_ids = set(ast.literal_eval(r[\"answer_ids\"]))\n",
    "    paths = [\n",
    "        [start, target] for start in topic_ids for target in answer_ids\n",
    "    ]\n",
    "    context = []\n",
    "    for pair in paths:\n",
    "        context.extend(get_triplet_path(fbkb_graph._graph, *pair))\n",
    "    prompt = GRAPH_QA_PROMPT.format(\n",
    "        context=\";\".join(context),\n",
    "        question=r.question\n",
    "    )\n",
    "    response = mistral.get_response(prompt)\n",
    "    results.append(response)\n",
    "    # backup every 10 qs\n",
    "    if c % 10 == 0:\n",
    "        export_results_to_file(res_path, results, id_list)\n",
    "export_results_to_file(res_path, results)"
   ]
  }
 ],
 "metadata": {
  "kernelspec": {
   "display_name": "Python 3 (ipykernel)",
   "language": "python",
   "name": "python3"
  },
  "language_info": {
   "codemirror_mode": {
    "name": "ipython",
    "version": 3
   },
   "file_extension": ".py",
   "mimetype": "text/x-python",
   "name": "python",
   "nbconvert_exporter": "python",
   "pygments_lexer": "ipython3",
   "version": "3.11.10"
  }
 },
 "nbformat": 4,
 "nbformat_minor": 2
}
