{
 "cells": [
  {
   "cell_type": "code",
   "execution_count": 1,
   "metadata": {},
   "outputs": [
    {
     "data": {
      "text/plain": [
       "'/model'"
      ]
     },
     "execution_count": 1,
     "metadata": {},
     "output_type": "execute_result"
    }
   ],
   "source": [
    "import os\n",
    "import pandas as pd\n",
    "import numpy as np\n",
    "import csv\n",
    "from tqdm import tqdm\n",
    "from rouge import Rouge\n",
    "from rouge_score import rouge_scorer\n",
    "import matplotlib.pyplot as plt\n",
    "rouge = Rouge()\n",
    "os.getcwd()\n"
   ]
  },
  {
   "cell_type": "markdown",
   "metadata": {},
   "source": [
    "## FBQA"
   ]
  },
  {
   "cell_type": "code",
   "execution_count": 2,
   "metadata": {},
   "outputs": [],
   "source": [
    "fbqa = pd.read_json(\"/datasets/FreebaseQA/FreebaseQA-eval.json\")"
   ]
  },
  {
   "cell_type": "code",
   "execution_count": 3,
   "metadata": {},
   "outputs": [
    {
     "data": {
      "text/plain": [
       "0      [sandi, toksvig]\n",
       "1        [henry, fonda]\n",
       "2      [terry, gilliam]\n",
       "3      [steve, mcqueen]\n",
       "4    [harold, abrahams]\n",
       "Name: Questions, dtype: object"
      ]
     },
     "execution_count": 3,
     "metadata": {},
     "output_type": "execute_result"
    }
   ],
   "source": [
    "answers = fbqa.Questions.apply(lambda t: t[\"Parses\"][0][\"Answers\"][0][\"AnswersName\"][0].split(\" \"))\n",
    "answers.head()"
   ]
  },
  {
   "cell_type": "code",
   "execution_count": 4,
   "metadata": {},
   "outputs": [
    {
     "name": "stderr",
     "output_type": "stream",
     "text": [
      "/tmp/ipykernel_898/423993629.py:6: FutureWarning: Series.__getitem__ treating keys as positions is deprecated. In a future version, integer keys will always be treated as labels (consistent with DataFrame behavior). To access a value by position, use `ser.iloc[pos]`\n",
      "  bline_fbqa_df[\"Correct\"] = bline_fbqa_df.apply(lambda t: t[1] in t[0], axis=1)\n"
     ]
    },
    {
     "data": {
      "text/html": [
       "<div>\n",
       "<style scoped>\n",
       "    .dataframe tbody tr th:only-of-type {\n",
       "        vertical-align: middle;\n",
       "    }\n",
       "\n",
       "    .dataframe tbody tr th {\n",
       "        vertical-align: top;\n",
       "    }\n",
       "\n",
       "    .dataframe thead th {\n",
       "        text-align: right;\n",
       "    }\n",
       "</style>\n",
       "<table border=\"1\" class=\"dataframe\">\n",
       "  <thead>\n",
       "    <tr style=\"text-align: right;\">\n",
       "      <th></th>\n",
       "      <th>Model</th>\n",
       "      <th>Actual</th>\n",
       "      <th>Correct</th>\n",
       "    </tr>\n",
       "  </thead>\n",
       "  <tbody>\n",
       "    <tr>\n",
       "      <th>0</th>\n",
       "      <td>anita rani</td>\n",
       "      <td>sandi toksvig</td>\n",
       "      <td>False</td>\n",
       "    </tr>\n",
       "    <tr>\n",
       "      <th>1</th>\n",
       "      <td>mervyn leroy produced the film 12 angry men.</td>\n",
       "      <td>henry fonda</td>\n",
       "      <td>False</td>\n",
       "    </tr>\n",
       "    <tr>\n",
       "      <th>2</th>\n",
       "      <td>terry gilliam</td>\n",
       "      <td>terry gilliam</td>\n",
       "      <td>True</td>\n",
       "    </tr>\n",
       "    <tr>\n",
       "      <th>3</th>\n",
       "      <td>steve mcqueen</td>\n",
       "      <td>steve mcqueen</td>\n",
       "      <td>True</td>\n",
       "    </tr>\n",
       "    <tr>\n",
       "      <th>4</th>\n",
       "      <td>harold abrahams</td>\n",
       "      <td>harold abrahams</td>\n",
       "      <td>True</td>\n",
       "    </tr>\n",
       "  </tbody>\n",
       "</table>\n",
       "</div>"
      ],
      "text/plain": [
       "                                          Model           Actual  Correct\n",
       "0                                    anita rani    sandi toksvig    False\n",
       "1  mervyn leroy produced the film 12 angry men.      henry fonda    False\n",
       "2                                 terry gilliam    terry gilliam     True\n",
       "3                                 steve mcqueen    steve mcqueen     True\n",
       "4                               harold abrahams  harold abrahams     True"
      ]
     },
     "execution_count": 4,
     "metadata": {},
     "output_type": "execute_result"
    }
   ],
   "source": [
    "bline_fbqa_df = pd.read_csv(\"/datasets/FreebaseQA/results/baseline/m7b.csv\", header=None)\n",
    "bline_fbqa_df.rename(columns={0: \"Model\"}, inplace=True)\n",
    "bline_fbqa_df[\"Actual\"] = answers.apply(\" \".join)\n",
    "bline_fbqa_df[\"Model\"] = bline_fbqa_df[\"Model\"].apply(str.lower)\n",
    "# check correct answer is present in the output\n",
    "bline_fbqa_df[\"Correct\"] = bline_fbqa_df.apply(lambda t: t[1] in t[0], axis=1)\n",
    "bline_fbqa_df.head()"
   ]
  },
  {
   "cell_type": "code",
   "execution_count": 5,
   "metadata": {},
   "outputs": [
    {
     "name": "stdout",
     "output_type": "stream",
     "text": [
      "Baseline Accuracy: 0.736\n"
     ]
    }
   ],
   "source": [
    "print(\n",
    "    f\"Baseline Accuracy: {sum(bline_fbqa_df.Correct)/len(bline_fbqa_df):.3f}\"\n",
    ")"
   ]
  },
  {
   "cell_type": "code",
   "execution_count": 6,
   "metadata": {},
   "outputs": [
    {
     "name": "stdout",
     "output_type": "stream",
     "text": [
      "Model          pickwick papers\n",
      "Actual     the pickwick papers\n",
      "Correct                  False\n",
      "Name: 135, dtype: object\n"
     ]
    },
    {
     "data": {
      "text/plain": [
       "[{'rouge-1': {'r': 0.6666666666666666, 'p': 1.0, 'f': 0.7999999952000001},\n",
       "  'rouge-2': {'r': 0.5, 'p': 1.0, 'f': 0.6666666622222223},\n",
       "  'rouge-l': {'r': 0.6666666666666666, 'p': 1.0, 'f': 0.7999999952000001}}]"
      ]
     },
     "execution_count": 6,
     "metadata": {},
     "output_type": "execute_result"
    }
   ],
   "source": [
    "print(bline_fbqa_df.iloc[135])\n",
    "rouge.get_scores(bline_fbqa_df.iloc[135].Model, bline_fbqa_df.iloc[135].Actual)\n"
   ]
  },
  {
   "cell_type": "markdown",
   "metadata": {},
   "source": [
    "### Extract f1 values of ROUGE (1-gram,2-gram,LCS overlap)\n"
   ]
  },
  {
   "cell_type": "code",
   "execution_count": 45,
   "metadata": {},
   "outputs": [
    {
     "data": {
      "text/html": [
       "<div>\n",
       "<style scoped>\n",
       "    .dataframe tbody tr th:only-of-type {\n",
       "        vertical-align: middle;\n",
       "    }\n",
       "\n",
       "    .dataframe tbody tr th {\n",
       "        vertical-align: top;\n",
       "    }\n",
       "\n",
       "    .dataframe thead th {\n",
       "        text-align: right;\n",
       "    }\n",
       "</style>\n",
       "<table border=\"1\" class=\"dataframe\">\n",
       "  <thead>\n",
       "    <tr style=\"text-align: right;\">\n",
       "      <th></th>\n",
       "      <th>Model</th>\n",
       "      <th>Actual</th>\n",
       "      <th>Correct</th>\n",
       "      <th>rouge-1</th>\n",
       "      <th>rouge-2</th>\n",
       "      <th>rouge-l</th>\n",
       "      <th>CorrectS</th>\n",
       "    </tr>\n",
       "  </thead>\n",
       "  <tbody>\n",
       "    <tr>\n",
       "      <th>0</th>\n",
       "      <td>anita rani</td>\n",
       "      <td>sandi toksvig</td>\n",
       "      <td>False</td>\n",
       "      <td>0.0</td>\n",
       "      <td>0.0</td>\n",
       "      <td>0.0</td>\n",
       "      <td>0</td>\n",
       "    </tr>\n",
       "    <tr>\n",
       "      <th>1</th>\n",
       "      <td>mervyn leroy produced the film 12 angry men.</td>\n",
       "      <td>henry fonda</td>\n",
       "      <td>False</td>\n",
       "      <td>0.0</td>\n",
       "      <td>0.0</td>\n",
       "      <td>0.0</td>\n",
       "      <td>0</td>\n",
       "    </tr>\n",
       "    <tr>\n",
       "      <th>2</th>\n",
       "      <td>terry gilliam</td>\n",
       "      <td>terry gilliam</td>\n",
       "      <td>True</td>\n",
       "      <td>1.0</td>\n",
       "      <td>1.0</td>\n",
       "      <td>1.0</td>\n",
       "      <td>1</td>\n",
       "    </tr>\n",
       "    <tr>\n",
       "      <th>3</th>\n",
       "      <td>steve mcqueen</td>\n",
       "      <td>steve mcqueen</td>\n",
       "      <td>True</td>\n",
       "      <td>1.0</td>\n",
       "      <td>1.0</td>\n",
       "      <td>1.0</td>\n",
       "      <td>1</td>\n",
       "    </tr>\n",
       "    <tr>\n",
       "      <th>4</th>\n",
       "      <td>harold abrahams</td>\n",
       "      <td>harold abrahams</td>\n",
       "      <td>True</td>\n",
       "      <td>1.0</td>\n",
       "      <td>1.0</td>\n",
       "      <td>1.0</td>\n",
       "      <td>1</td>\n",
       "    </tr>\n",
       "  </tbody>\n",
       "</table>\n",
       "</div>"
      ],
      "text/plain": [
       "                                          Model           Actual  Correct  \\\n",
       "0                                    anita rani    sandi toksvig    False   \n",
       "1  mervyn leroy produced the film 12 angry men.      henry fonda    False   \n",
       "2                                 terry gilliam    terry gilliam     True   \n",
       "3                                 steve mcqueen    steve mcqueen     True   \n",
       "4                               harold abrahams  harold abrahams     True   \n",
       "\n",
       "   rouge-1  rouge-2  rouge-l  CorrectS  \n",
       "0      0.0      0.0      0.0         0  \n",
       "1      0.0      0.0      0.0         0  \n",
       "2      1.0      1.0      1.0         1  \n",
       "3      1.0      1.0      1.0         1  \n",
       "4      1.0      1.0      1.0         1  "
      ]
     },
     "execution_count": 45,
     "metadata": {},
     "output_type": "execute_result"
    }
   ],
   "source": [
    "metrics = [\"rouge-1\", \"rouge-2\", \"rouge-l\"]\n",
    "\n",
    "for i, r in bline_fbqa_df.iterrows():\n",
    "    # print(bline_fbqa_df.loc[i, metrics[0]])\n",
    "    scores = rouge.get_scores(r.Model, r.Actual)\n",
    "    for metric in metrics:\n",
    "        bline_fbqa_df.loc[i, metric] = round(scores[0][metric][\"r\"], 3)\n",
    "bline_fbqa_df.head()"
   ]
  },
  {
   "cell_type": "code",
   "execution_count": 46,
   "metadata": {},
   "outputs": [
    {
     "name": "stdout",
     "output_type": "stream",
     "text": [
      "3996\n"
     ]
    },
    {
     "data": {
      "text/html": [
       "<div>\n",
       "<style scoped>\n",
       "    .dataframe tbody tr th:only-of-type {\n",
       "        vertical-align: middle;\n",
       "    }\n",
       "\n",
       "    .dataframe tbody tr th {\n",
       "        vertical-align: top;\n",
       "    }\n",
       "\n",
       "    .dataframe thead th {\n",
       "        text-align: right;\n",
       "    }\n",
       "</style>\n",
       "<table border=\"1\" class=\"dataframe\">\n",
       "  <thead>\n",
       "    <tr style=\"text-align: right;\">\n",
       "      <th></th>\n",
       "      <th>rouge-1</th>\n",
       "      <th>rouge-2</th>\n",
       "      <th>rouge-l</th>\n",
       "    </tr>\n",
       "  </thead>\n",
       "  <tbody>\n",
       "    <tr>\n",
       "      <th>count</th>\n",
       "      <td>3996.000000</td>\n",
       "      <td>3996.000000</td>\n",
       "      <td>3996.000000</td>\n",
       "    </tr>\n",
       "    <tr>\n",
       "      <th>mean</th>\n",
       "      <td>0.693483</td>\n",
       "      <td>0.375059</td>\n",
       "      <td>0.691759</td>\n",
       "    </tr>\n",
       "    <tr>\n",
       "      <th>std</th>\n",
       "      <td>0.431704</td>\n",
       "      <td>0.474771</td>\n",
       "      <td>0.431758</td>\n",
       "    </tr>\n",
       "    <tr>\n",
       "      <th>min</th>\n",
       "      <td>0.000000</td>\n",
       "      <td>0.000000</td>\n",
       "      <td>0.000000</td>\n",
       "    </tr>\n",
       "    <tr>\n",
       "      <th>25%</th>\n",
       "      <td>0.191750</td>\n",
       "      <td>0.000000</td>\n",
       "      <td>0.191750</td>\n",
       "    </tr>\n",
       "    <tr>\n",
       "      <th>50%</th>\n",
       "      <td>1.000000</td>\n",
       "      <td>0.000000</td>\n",
       "      <td>1.000000</td>\n",
       "    </tr>\n",
       "    <tr>\n",
       "      <th>75%</th>\n",
       "      <td>1.000000</td>\n",
       "      <td>1.000000</td>\n",
       "      <td>1.000000</td>\n",
       "    </tr>\n",
       "    <tr>\n",
       "      <th>max</th>\n",
       "      <td>1.000000</td>\n",
       "      <td>1.000000</td>\n",
       "      <td>1.000000</td>\n",
       "    </tr>\n",
       "  </tbody>\n",
       "</table>\n",
       "</div>"
      ],
      "text/plain": [
       "           rouge-1      rouge-2      rouge-l\n",
       "count  3996.000000  3996.000000  3996.000000\n",
       "mean      0.693483     0.375059     0.691759\n",
       "std       0.431704     0.474771     0.431758\n",
       "min       0.000000     0.000000     0.000000\n",
       "25%       0.191750     0.000000     0.191750\n",
       "50%       1.000000     0.000000     1.000000\n",
       "75%       1.000000     1.000000     1.000000\n",
       "max       1.000000     1.000000     1.000000"
      ]
     },
     "execution_count": 46,
     "metadata": {},
     "output_type": "execute_result"
    },
    {
     "data": {
      "image/png": "[encoded data removed]",
      "text/plain": [
       "<Figure size 640x480 with 4 Axes>"
      ]
     },
     "metadata": {},
     "output_type": "display_data"
    }
   ],
   "source": [
    "print(len(bline_fbqa_df))\n",
    "bline_fbqa_df[metrics].hist(bins=10)\n",
    "bline_fbqa_df[metrics].describe()"
   ]
  },
  {
   "cell_type": "code",
   "execution_count": 47,
   "metadata": {},
   "outputs": [
    {
     "data": {
      "text/plain": [
       "(array([785.,   0.,   0.,   2.,   1.,   5.,  14.,   0.,  48.,   6.]),\n",
       " array([0.  , 0.04, 0.08, 0.12, 0.16, 0.2 , 0.24, 0.28, 0.32, 0.36, 0.4 ]),\n",
       " <BarContainer object of 10 artists>)"
      ]
     },
     "execution_count": 47,
     "metadata": {},
     "output_type": "execute_result"
    },
    {
     "data": {
      "image/png": "[encoded data removed]",
      "text/plain": [
       "<Figure size 640x480 with 1 Axes>"
      ]
     },
     "metadata": {},
     "output_type": "display_data"
    }
   ],
   "source": [
    "bline_fbqa_df[\"CorrectS\"] = bline_fbqa_df.apply(lambda t: 1 if t.Correct else 0, axis=1)\n",
    "fbqa_correct = bline_fbqa_df[bline_fbqa_df.Correct]\n",
    "fbqa_wrong = bline_fbqa_df[~bline_fbqa_df.Correct]\n",
    "\n",
    "fig, ax = plt.subplots(nrows=1, ncols=1)\n",
    "\n",
    "ax.hist(fbqa_correct[\"rouge-l\"], fc=(0, 1, 0, 0.5))\n",
    "ax.hist(fbqa_wrong[\"rouge-l\"], fc=(1, 0,0,0.5))\n",
    "# bline_fbqa_df.plot.scatter(x=\"rouge-l\", y=\"CorrectS\")"
   ]
  },
  {
   "cell_type": "code",
   "execution_count": 10,
   "metadata": {},
   "outputs": [
    {
     "data": {
      "text/html": [
       "<div>\n",
       "<style scoped>\n",
       "    .dataframe tbody tr th:only-of-type {\n",
       "        vertical-align: middle;\n",
       "    }\n",
       "\n",
       "    .dataframe tbody tr th {\n",
       "        vertical-align: top;\n",
       "    }\n",
       "\n",
       "    .dataframe thead th {\n",
       "        text-align: right;\n",
       "    }\n",
       "</style>\n",
       "<table border=\"1\" class=\"dataframe\">\n",
       "  <thead>\n",
       "    <tr style=\"text-align: right;\">\n",
       "      <th></th>\n",
       "      <th>Model</th>\n",
       "      <th>Actual</th>\n",
       "      <th>Correct</th>\n",
       "      <th>rouge-1</th>\n",
       "      <th>rouge-2</th>\n",
       "      <th>rouge-l</th>\n",
       "      <th>CorrectS</th>\n",
       "    </tr>\n",
       "  </thead>\n",
       "  <tbody>\n",
       "    <tr>\n",
       "      <th>8</th>\n",
       "      <td>helsinki, finland</td>\n",
       "      <td>helsinki</td>\n",
       "      <td>True</td>\n",
       "      <td>0.0</td>\n",
       "      <td>0.0</td>\n",
       "      <td>0.0</td>\n",
       "      <td>1</td>\n",
       "    </tr>\n",
       "    <tr>\n",
       "      <th>19</th>\n",
       "      <td>moscow, russia</td>\n",
       "      <td>moscow</td>\n",
       "      <td>True</td>\n",
       "      <td>0.0</td>\n",
       "      <td>0.0</td>\n",
       "      <td>0.0</td>\n",
       "      <td>1</td>\n",
       "    </tr>\n",
       "    <tr>\n",
       "      <th>24</th>\n",
       "      <td>seoul, south korea</td>\n",
       "      <td>seoul</td>\n",
       "      <td>True</td>\n",
       "      <td>0.0</td>\n",
       "      <td>0.0</td>\n",
       "      <td>0.0</td>\n",
       "      <td>1</td>\n",
       "    </tr>\n",
       "    <tr>\n",
       "      <th>53</th>\n",
       "      <td>\"hugo\" is the 2011 drama film, directed by mar...</td>\n",
       "      <td>hugo</td>\n",
       "      <td>True</td>\n",
       "      <td>0.0</td>\n",
       "      <td>0.0</td>\n",
       "      <td>0.0</td>\n",
       "      <td>1</td>\n",
       "    </tr>\n",
       "    <tr>\n",
       "      <th>56</th>\n",
       "      <td>paris, using an arrow dipped in the venom of a...</td>\n",
       "      <td>paris</td>\n",
       "      <td>True</td>\n",
       "      <td>0.0</td>\n",
       "      <td>0.0</td>\n",
       "      <td>0.0</td>\n",
       "      <td>1</td>\n",
       "    </tr>\n",
       "    <tr>\n",
       "      <th>...</th>\n",
       "      <td>...</td>\n",
       "      <td>...</td>\n",
       "      <td>...</td>\n",
       "      <td>...</td>\n",
       "      <td>...</td>\n",
       "      <td>...</td>\n",
       "      <td>...</td>\n",
       "    </tr>\n",
       "    <tr>\n",
       "      <th>3885</th>\n",
       "      <td>calvin harris (rihanna was the lead vocalist)</td>\n",
       "      <td>rihanna</td>\n",
       "      <td>True</td>\n",
       "      <td>0.0</td>\n",
       "      <td>0.0</td>\n",
       "      <td>0.0</td>\n",
       "      <td>1</td>\n",
       "    </tr>\n",
       "    <tr>\n",
       "      <th>3911</th>\n",
       "      <td>khartoum, sudan</td>\n",
       "      <td>khartoum</td>\n",
       "      <td>True</td>\n",
       "      <td>0.0</td>\n",
       "      <td>0.0</td>\n",
       "      <td>0.0</td>\n",
       "      <td>1</td>\n",
       "    </tr>\n",
       "    <tr>\n",
       "      <th>3929</th>\n",
       "      <td>\"hamlet\" is shakespeare's longest play.</td>\n",
       "      <td>hamlet</td>\n",
       "      <td>True</td>\n",
       "      <td>0.0</td>\n",
       "      <td>0.0</td>\n",
       "      <td>0.0</td>\n",
       "      <td>1</td>\n",
       "    </tr>\n",
       "    <tr>\n",
       "      <th>3933</th>\n",
       "      <td>\"the gunfight at the o.k. corral\" is not the c...</td>\n",
       "      <td>high noon</td>\n",
       "      <td>True</td>\n",
       "      <td>0.0</td>\n",
       "      <td>0.0</td>\n",
       "      <td>0.0</td>\n",
       "      <td>1</td>\n",
       "    </tr>\n",
       "    <tr>\n",
       "      <th>3990</th>\n",
       "      <td>it's a list of locations associated with tradi...</td>\n",
       "      <td>bagpipes</td>\n",
       "      <td>True</td>\n",
       "      <td>0.0</td>\n",
       "      <td>0.0</td>\n",
       "      <td>0.0</td>\n",
       "      <td>1</td>\n",
       "    </tr>\n",
       "  </tbody>\n",
       "</table>\n",
       "<p>211 rows × 7 columns</p>\n",
       "</div>"
      ],
      "text/plain": [
       "                                                  Model     Actual  Correct  \\\n",
       "8                                     helsinki, finland   helsinki     True   \n",
       "19                                       moscow, russia     moscow     True   \n",
       "24                                   seoul, south korea      seoul     True   \n",
       "53    \"hugo\" is the 2011 drama film, directed by mar...       hugo     True   \n",
       "56    paris, using an arrow dipped in the venom of a...      paris     True   \n",
       "...                                                 ...        ...      ...   \n",
       "3885      calvin harris (rihanna was the lead vocalist)    rihanna     True   \n",
       "3911                                    khartoum, sudan   khartoum     True   \n",
       "3929            \"hamlet\" is shakespeare's longest play.     hamlet     True   \n",
       "3933  \"the gunfight at the o.k. corral\" is not the c...  high noon     True   \n",
       "3990  it's a list of locations associated with tradi...   bagpipes     True   \n",
       "\n",
       "      rouge-1  rouge-2  rouge-l  CorrectS  \n",
       "8         0.0      0.0      0.0         1  \n",
       "19        0.0      0.0      0.0         1  \n",
       "24        0.0      0.0      0.0         1  \n",
       "53        0.0      0.0      0.0         1  \n",
       "56        0.0      0.0      0.0         1  \n",
       "...       ...      ...      ...       ...  \n",
       "3885      0.0      0.0      0.0         1  \n",
       "3911      0.0      0.0      0.0         1  \n",
       "3929      0.0      0.0      0.0         1  \n",
       "3933      0.0      0.0      0.0         1  \n",
       "3990      0.0      0.0      0.0         1  \n",
       "\n",
       "[211 rows x 7 columns]"
      ]
     },
     "execution_count": 10,
     "metadata": {},
     "output_type": "execute_result"
    }
   ],
   "source": [
    "fbqa_correct[fbqa_correct[\"rouge-l\"] == 0]"
   ]
  },
  {
   "cell_type": "markdown",
   "metadata": {},
   "source": [
    "### The truly correct answer is inside + rouge-l >= 0.5"
   ]
  },
  {
   "cell_type": "code",
   "execution_count": 11,
   "metadata": {},
   "outputs": [
    {
     "data": {
      "text/html": [
       "<div>\n",
       "<style scoped>\n",
       "    .dataframe tbody tr th:only-of-type {\n",
       "        vertical-align: middle;\n",
       "    }\n",
       "\n",
       "    .dataframe tbody tr th {\n",
       "        vertical-align: top;\n",
       "    }\n",
       "\n",
       "    .dataframe thead th {\n",
       "        text-align: right;\n",
       "    }\n",
       "</style>\n",
       "<table border=\"1\" class=\"dataframe\">\n",
       "  <thead>\n",
       "    <tr style=\"text-align: right;\">\n",
       "      <th></th>\n",
       "      <th>Model</th>\n",
       "      <th>Actual</th>\n",
       "      <th>Correct</th>\n",
       "      <th>rouge-1</th>\n",
       "      <th>rouge-2</th>\n",
       "      <th>rouge-l</th>\n",
       "      <th>CorrectS</th>\n",
       "    </tr>\n",
       "  </thead>\n",
       "  <tbody>\n",
       "    <tr>\n",
       "      <th>15</th>\n",
       "      <td>leeds united</td>\n",
       "      <td>leeds united f.c.</td>\n",
       "      <td>False</td>\n",
       "      <td>0.500</td>\n",
       "      <td>0.333</td>\n",
       "      <td>0.500</td>\n",
       "      <td>0</td>\n",
       "    </tr>\n",
       "    <tr>\n",
       "      <th>16</th>\n",
       "      <td>bobby moore and alan devonshire</td>\n",
       "      <td>alan taylor</td>\n",
       "      <td>False</td>\n",
       "      <td>0.500</td>\n",
       "      <td>0.000</td>\n",
       "      <td>0.500</td>\n",
       "      <td>0</td>\n",
       "    </tr>\n",
       "    <tr>\n",
       "      <th>18</th>\n",
       "      <td>seb coe</td>\n",
       "      <td>sebastian coe</td>\n",
       "      <td>False</td>\n",
       "      <td>0.500</td>\n",
       "      <td>0.000</td>\n",
       "      <td>0.500</td>\n",
       "      <td>0</td>\n",
       "    </tr>\n",
       "    <tr>\n",
       "      <th>106</th>\n",
       "      <td>federal reserve</td>\n",
       "      <td>federal reserve system</td>\n",
       "      <td>False</td>\n",
       "      <td>0.667</td>\n",
       "      <td>0.500</td>\n",
       "      <td>0.667</td>\n",
       "      <td>0</td>\n",
       "    </tr>\n",
       "    <tr>\n",
       "      <th>107</th>\n",
       "      <td>manhattan transfer</td>\n",
       "      <td>the manhattan transfer</td>\n",
       "      <td>False</td>\n",
       "      <td>0.667</td>\n",
       "      <td>0.500</td>\n",
       "      <td>0.667</td>\n",
       "      <td>0</td>\n",
       "    </tr>\n",
       "    <tr>\n",
       "      <th>...</th>\n",
       "      <td>...</td>\n",
       "      <td>...</td>\n",
       "      <td>...</td>\n",
       "      <td>...</td>\n",
       "      <td>...</td>\n",
       "      <td>...</td>\n",
       "      <td>...</td>\n",
       "    </tr>\n",
       "    <tr>\n",
       "      <th>3825</th>\n",
       "      <td>james sherman</td>\n",
       "      <td>james s. sherman</td>\n",
       "      <td>False</td>\n",
       "      <td>0.667</td>\n",
       "      <td>0.000</td>\n",
       "      <td>0.667</td>\n",
       "      <td>0</td>\n",
       "    </tr>\n",
       "    <tr>\n",
       "      <th>3828</th>\n",
       "      <td>tennis</td>\n",
       "      <td>table tennis</td>\n",
       "      <td>False</td>\n",
       "      <td>0.500</td>\n",
       "      <td>0.000</td>\n",
       "      <td>0.500</td>\n",
       "      <td>0</td>\n",
       "    </tr>\n",
       "    <tr>\n",
       "      <th>3923</th>\n",
       "      <td>dutch</td>\n",
       "      <td>dutch people</td>\n",
       "      <td>False</td>\n",
       "      <td>0.500</td>\n",
       "      <td>0.000</td>\n",
       "      <td>0.500</td>\n",
       "      <td>0</td>\n",
       "    </tr>\n",
       "    <tr>\n",
       "      <th>3934</th>\n",
       "      <td>the chiltern hills</td>\n",
       "      <td>quantock hills</td>\n",
       "      <td>False</td>\n",
       "      <td>0.500</td>\n",
       "      <td>0.000</td>\n",
       "      <td>0.500</td>\n",
       "      <td>0</td>\n",
       "    </tr>\n",
       "    <tr>\n",
       "      <th>3959</th>\n",
       "      <td>the specials released the album \"word gets aro...</td>\n",
       "      <td>the stereophonics</td>\n",
       "      <td>False</td>\n",
       "      <td>0.500</td>\n",
       "      <td>0.000</td>\n",
       "      <td>0.500</td>\n",
       "      <td>0</td>\n",
       "    </tr>\n",
       "  </tbody>\n",
       "</table>\n",
       "<p>172 rows × 7 columns</p>\n",
       "</div>"
      ],
      "text/plain": [
       "                                                  Model  \\\n",
       "15                                         leeds united   \n",
       "16                      bobby moore and alan devonshire   \n",
       "18                                              seb coe   \n",
       "106                                     federal reserve   \n",
       "107                                  manhattan transfer   \n",
       "...                                                 ...   \n",
       "3825                                      james sherman   \n",
       "3828                                             tennis   \n",
       "3923                                              dutch   \n",
       "3934                                 the chiltern hills   \n",
       "3959  the specials released the album \"word gets aro...   \n",
       "\n",
       "                      Actual  Correct  rouge-1  rouge-2  rouge-l  CorrectS  \n",
       "15         leeds united f.c.    False    0.500    0.333    0.500         0  \n",
       "16               alan taylor    False    0.500    0.000    0.500         0  \n",
       "18             sebastian coe    False    0.500    0.000    0.500         0  \n",
       "106   federal reserve system    False    0.667    0.500    0.667         0  \n",
       "107   the manhattan transfer    False    0.667    0.500    0.667         0  \n",
       "...                      ...      ...      ...      ...      ...       ...  \n",
       "3825        james s. sherman    False    0.667    0.000    0.667         0  \n",
       "3828            table tennis    False    0.500    0.000    0.500         0  \n",
       "3923            dutch people    False    0.500    0.000    0.500         0  \n",
       "3934          quantock hills    False    0.500    0.000    0.500         0  \n",
       "3959       the stereophonics    False    0.500    0.000    0.500         0  \n",
       "\n",
       "[172 rows x 7 columns]"
      ]
     },
     "execution_count": 11,
     "metadata": {},
     "output_type": "execute_result"
    }
   ],
   "source": [
    "fbqa_wrong[(fbqa_wrong[\"rouge-l\"] >= 0.5) & ~(fbqa_wrong[\"rouge-l\"] == 1)]"
   ]
  },
  {
   "cell_type": "code",
   "execution_count": 12,
   "metadata": {},
   "outputs": [],
   "source": [
    "bline_fbqa_df[\"Correct\"] = bline_fbqa_df.apply(lambda t: t.Correct + t[\"rouge-l\"] >= 0.5, axis=1)"
   ]
  },
  {
   "cell_type": "code",
   "execution_count": 13,
   "metadata": {},
   "outputs": [
    {
     "name": "stdout",
     "output_type": "stream",
     "text": [
      "Baseline Accuracy: 0.785\n"
     ]
    }
   ],
   "source": [
    "print(\n",
    "    f\"Baseline Accuracy: {sum(bline_fbqa_df.Correct)/len(bline_fbqa_df):.3f}\"\n",
    ")"
   ]
  },
  {
   "cell_type": "markdown",
   "metadata": {},
   "source": [
    "## MetaQA"
   ]
  },
  {
   "cell_type": "code",
   "execution_count": 14,
   "metadata": {},
   "outputs": [],
   "source": [
    "def check_metaqa_answer_correct(Answer, Model):\n",
    "    max_r = 0\n",
    "    for a in Answer:\n",
    "        for m in Model:\n",
    "            if m and a:\n",
    "                scores = rouge.get_scores(m, a)[0]\n",
    "                if scores[\"rouge-l\"][\"r\"] > max_r:\n",
    "                    max_r = scores[\"rouge-l\"][\"r\"]\n",
    "    return max_r"
   ]
  },
  {
   "cell_type": "markdown",
   "metadata": {},
   "source": [
    "## MetaQA 1hop"
   ]
  },
  {
   "cell_type": "markdown",
   "metadata": {},
   "source": [
    "## TODO: look into several-shot answers"
   ]
  },
  {
   "cell_type": "code",
   "execution_count": 15,
   "metadata": {},
   "outputs": [
    {
     "name": "stdout",
     "output_type": "stream",
     "text": [
      "9947\n",
      "9947\n"
     ]
    },
    {
     "data": {
      "text/html": [
       "<div>\n",
       "<style scoped>\n",
       "    .dataframe tbody tr th:only-of-type {\n",
       "        vertical-align: middle;\n",
       "    }\n",
       "\n",
       "    .dataframe tbody tr th {\n",
       "        vertical-align: top;\n",
       "    }\n",
       "\n",
       "    .dataframe thead th {\n",
       "        text-align: right;\n",
       "    }\n",
       "</style>\n",
       "<table border=\"1\" class=\"dataframe\">\n",
       "  <thead>\n",
       "    <tr style=\"text-align: right;\">\n",
       "      <th></th>\n",
       "      <th>Question</th>\n",
       "      <th>Answers</th>\n",
       "      <th>Model</th>\n",
       "    </tr>\n",
       "  </thead>\n",
       "  <tbody>\n",
       "    <tr>\n",
       "      <th>0</th>\n",
       "      <td>what does [Grégoire Colin] appear in</td>\n",
       "      <td>{before the rain}</td>\n",
       "      <td>Grégoire Colin appears in \"The Hundred-Foot Jo...</td>\n",
       "    </tr>\n",
       "    <tr>\n",
       "      <th>1</th>\n",
       "      <td>[Joe Thomas] appears in which movies</td>\n",
       "      <td>{the inbetweeners movie, the inbetweeners 2}</td>\n",
       "      <td>\"Rocky Balboa, A Cinderella Story, The Dark Kn...</td>\n",
       "    </tr>\n",
       "    <tr>\n",
       "      <th>2</th>\n",
       "      <td>what films did [Michelle Trachtenberg] star in</td>\n",
       "      <td>{inspector gadget, the scribbler, ice princess...</td>\n",
       "      <td>\"Harold &amp; Kumar Go to White Castle, EuroTrip, ...</td>\n",
       "    </tr>\n",
       "    <tr>\n",
       "      <th>3</th>\n",
       "      <td>what does [Helen Mack] star in</td>\n",
       "      <td>{the son of kong, divorce, kiss and make-up}</td>\n",
       "      <td>\"The Maltese Falcon\" | \"Susan and God\"</td>\n",
       "    </tr>\n",
       "    <tr>\n",
       "      <th>4</th>\n",
       "      <td>what films did [Shahid Kapoor] act in</td>\n",
       "      <td>{haider, chance pe dance, jab we met}</td>\n",
       "      <td>\"Haider, Udta Punjab, Padmaavat, Kabir Singh, ...</td>\n",
       "    </tr>\n",
       "  </tbody>\n",
       "</table>\n",
       "</div>"
      ],
      "text/plain": [
       "                                         Question  \\\n",
       "0            what does [Grégoire Colin] appear in   \n",
       "1            [Joe Thomas] appears in which movies   \n",
       "2  what films did [Michelle Trachtenberg] star in   \n",
       "3                  what does [Helen Mack] star in   \n",
       "4           what films did [Shahid Kapoor] act in   \n",
       "\n",
       "                                             Answers  \\\n",
       "0                                  {before the rain}   \n",
       "1       {the inbetweeners movie, the inbetweeners 2}   \n",
       "2  {inspector gadget, the scribbler, ice princess...   \n",
       "3       {the son of kong, divorce, kiss and make-up}   \n",
       "4              {haider, chance pe dance, jab we met}   \n",
       "\n",
       "                                               Model  \n",
       "0  Grégoire Colin appears in \"The Hundred-Foot Jo...  \n",
       "1  \"Rocky Balboa, A Cinderella Story, The Dark Kn...  \n",
       "2  \"Harold & Kumar Go to White Castle, EuroTrip, ...  \n",
       "3             \"The Maltese Falcon\" | \"Susan and God\"  \n",
       "4  \"Haider, Udta Punjab, Padmaavat, Kabir Singh, ...  "
      ]
     },
     "execution_count": 15,
     "metadata": {},
     "output_type": "execute_result"
    }
   ],
   "source": [
    "metaqa = pd.read_csv(\"/datasets/MetaQA/1hop/qa_test.txt\", sep=\"\\t\", header=None)\n",
    "print(len(metaqa))\n",
    "metaqa.rename(columns={0: \"Question\", 1: \"Answers\"}, inplace=True)\n",
    "metaqa.Answers = metaqa.apply(lambda t: set(t.Answers.lower().split(\"|\")), axis=1)\n",
    "bline_metaqa_df = pd.read_csv(\"/datasets/MetaQA/results/1hop/bline.csv\")\n",
    "print(len(bline_metaqa_df))\n",
    "metaqa.insert(2, \"Model\", bline_metaqa_df.Model)\n",
    "metaqa.head()"
   ]
  },
  {
   "cell_type": "code",
   "execution_count": 17,
   "metadata": {},
   "outputs": [
    {
     "name": "stderr",
     "output_type": "stream",
     "text": [
      "/tmp/ipykernel_898/1742900988.py:1: FutureWarning: A value is trying to be set on a copy of a DataFrame or Series through chained assignment using an inplace method.\n",
      "The behavior will change in pandas 3.0. This inplace method will never work because the intermediate object on which we are setting values always behaves as a copy.\n",
      "\n",
      "For example, when doing 'df[col].method(value, inplace=True)', try using 'df.method({col: value}, inplace=True)' or df[col] = df[col].method(value) instead, to perform the operation inplace on the original object.\n",
      "\n",
      "\n",
      "  metaqa.Model.fillna(\"\", inplace=True)\n"
     ]
    },
    {
     "data": {
      "text/html": [
       "<div>\n",
       "<style scoped>\n",
       "    .dataframe tbody tr th:only-of-type {\n",
       "        vertical-align: middle;\n",
       "    }\n",
       "\n",
       "    .dataframe tbody tr th {\n",
       "        vertical-align: top;\n",
       "    }\n",
       "\n",
       "    .dataframe thead th {\n",
       "        text-align: right;\n",
       "    }\n",
       "</style>\n",
       "<table border=\"1\" class=\"dataframe\">\n",
       "  <thead>\n",
       "    <tr style=\"text-align: right;\">\n",
       "      <th></th>\n",
       "      <th>Question</th>\n",
       "      <th>Answers</th>\n",
       "      <th>Model</th>\n",
       "    </tr>\n",
       "  </thead>\n",
       "  <tbody>\n",
       "    <tr>\n",
       "      <th>0</th>\n",
       "      <td>what does [Grégoire Colin] appear in</td>\n",
       "      <td>{before the rain}</td>\n",
       "      <td>{grégoire colin appears in \"the hundred-foot j...</td>\n",
       "    </tr>\n",
       "    <tr>\n",
       "      <th>1</th>\n",
       "      <td>[Joe Thomas] appears in which movies</td>\n",
       "      <td>{the inbetweeners movie, the inbetweeners 2}</td>\n",
       "      <td>{\"rocky balboa, a cinderella story, the dark k...</td>\n",
       "    </tr>\n",
       "    <tr>\n",
       "      <th>2</th>\n",
       "      <td>what films did [Michelle Trachtenberg] star in</td>\n",
       "      <td>{inspector gadget, the scribbler, ice princess...</td>\n",
       "      <td>{\"harold &amp; kumar go to white castle, eurotrip,...</td>\n",
       "    </tr>\n",
       "    <tr>\n",
       "      <th>3</th>\n",
       "      <td>what does [Helen Mack] star in</td>\n",
       "      <td>{the son of kong, divorce, kiss and make-up}</td>\n",
       "      <td>{\"the maltese falcon\" ,  \"susan and god\"}</td>\n",
       "    </tr>\n",
       "    <tr>\n",
       "      <th>4</th>\n",
       "      <td>what films did [Shahid Kapoor] act in</td>\n",
       "      <td>{haider, chance pe dance, jab we met}</td>\n",
       "      <td>{\"haider, udta punjab, padmaavat, kabir singh,...</td>\n",
       "    </tr>\n",
       "  </tbody>\n",
       "</table>\n",
       "</div>"
      ],
      "text/plain": [
       "                                         Question  \\\n",
       "0            what does [Grégoire Colin] appear in   \n",
       "1            [Joe Thomas] appears in which movies   \n",
       "2  what films did [Michelle Trachtenberg] star in   \n",
       "3                  what does [Helen Mack] star in   \n",
       "4           what films did [Shahid Kapoor] act in   \n",
       "\n",
       "                                             Answers  \\\n",
       "0                                  {before the rain}   \n",
       "1       {the inbetweeners movie, the inbetweeners 2}   \n",
       "2  {inspector gadget, the scribbler, ice princess...   \n",
       "3       {the son of kong, divorce, kiss and make-up}   \n",
       "4              {haider, chance pe dance, jab we met}   \n",
       "\n",
       "                                               Model  \n",
       "0  {grégoire colin appears in \"the hundred-foot j...  \n",
       "1  {\"rocky balboa, a cinderella story, the dark k...  \n",
       "2  {\"harold & kumar go to white castle, eurotrip,...  \n",
       "3          {\"the maltese falcon\" ,  \"susan and god\"}  \n",
       "4  {\"haider, udta punjab, padmaavat, kabir singh,...  "
      ]
     },
     "execution_count": 17,
     "metadata": {},
     "output_type": "execute_result"
    }
   ],
   "source": [
    "metaqa.Model.fillna(\"\", inplace=True)\n",
    "metaqa.Model = metaqa.apply(lambda t: set(t.Model.lower().split(\"|\")), axis=1)\n",
    "metaqa.head()"
   ]
  },
  {
   "cell_type": "code",
   "execution_count": 18,
   "metadata": {},
   "outputs": [
    {
     "data": {
      "text/plain": [
       "{'black christmas',\n",
       " 'harriet the spy',\n",
       " 'ice princess',\n",
       " 'inspector gadget',\n",
       " 'the scribbler'}"
      ]
     },
     "execution_count": 18,
     "metadata": {},
     "output_type": "execute_result"
    }
   ],
   "source": [
    "metaqa.iloc[2].Answers"
   ]
  },
  {
   "cell_type": "code",
   "execution_count": 19,
   "metadata": {},
   "outputs": [
    {
     "data": {
      "text/html": [
       "<div>\n",
       "<style scoped>\n",
       "    .dataframe tbody tr th:only-of-type {\n",
       "        vertical-align: middle;\n",
       "    }\n",
       "\n",
       "    .dataframe tbody tr th {\n",
       "        vertical-align: top;\n",
       "    }\n",
       "\n",
       "    .dataframe thead th {\n",
       "        text-align: right;\n",
       "    }\n",
       "</style>\n",
       "<table border=\"1\" class=\"dataframe\">\n",
       "  <thead>\n",
       "    <tr style=\"text-align: right;\">\n",
       "      <th></th>\n",
       "      <th>Question</th>\n",
       "      <th>Answers</th>\n",
       "      <th>Model</th>\n",
       "      <th>rouge-l</th>\n",
       "    </tr>\n",
       "  </thead>\n",
       "  <tbody>\n",
       "    <tr>\n",
       "      <th>0</th>\n",
       "      <td>what does [Grégoire Colin] appear in</td>\n",
       "      <td>{before the rain}</td>\n",
       "      <td>{grégoire colin appears in \"the hundred-foot j...</td>\n",
       "      <td>0.000000</td>\n",
       "    </tr>\n",
       "    <tr>\n",
       "      <th>1</th>\n",
       "      <td>[Joe Thomas] appears in which movies</td>\n",
       "      <td>{the inbetweeners movie, the inbetweeners 2}</td>\n",
       "      <td>{\"rocky balboa, a cinderella story, the dark k...</td>\n",
       "      <td>0.333333</td>\n",
       "    </tr>\n",
       "    <tr>\n",
       "      <th>2</th>\n",
       "      <td>what films did [Michelle Trachtenberg] star in</td>\n",
       "      <td>{inspector gadget, the scribbler, ice princess...</td>\n",
       "      <td>{\"harold &amp; kumar go to white castle, eurotrip,...</td>\n",
       "      <td>1.000000</td>\n",
       "    </tr>\n",
       "    <tr>\n",
       "      <th>3</th>\n",
       "      <td>what does [Helen Mack] star in</td>\n",
       "      <td>{the son of kong, divorce, kiss and make-up}</td>\n",
       "      <td>{\"the maltese falcon\" ,  \"susan and god\"}</td>\n",
       "      <td>0.333333</td>\n",
       "    </tr>\n",
       "    <tr>\n",
       "      <th>4</th>\n",
       "      <td>what films did [Shahid Kapoor] act in</td>\n",
       "      <td>{haider, chance pe dance, jab we met}</td>\n",
       "      <td>{\"haider, udta punjab, padmaavat, kabir singh,...</td>\n",
       "      <td>0.666667</td>\n",
       "    </tr>\n",
       "  </tbody>\n",
       "</table>\n",
       "</div>"
      ],
      "text/plain": [
       "                                         Question  \\\n",
       "0            what does [Grégoire Colin] appear in   \n",
       "1            [Joe Thomas] appears in which movies   \n",
       "2  what films did [Michelle Trachtenberg] star in   \n",
       "3                  what does [Helen Mack] star in   \n",
       "4           what films did [Shahid Kapoor] act in   \n",
       "\n",
       "                                             Answers  \\\n",
       "0                                  {before the rain}   \n",
       "1       {the inbetweeners movie, the inbetweeners 2}   \n",
       "2  {inspector gadget, the scribbler, ice princess...   \n",
       "3       {the son of kong, divorce, kiss and make-up}   \n",
       "4              {haider, chance pe dance, jab we met}   \n",
       "\n",
       "                                               Model   rouge-l  \n",
       "0  {grégoire colin appears in \"the hundred-foot j...  0.000000  \n",
       "1  {\"rocky balboa, a cinderella story, the dark k...  0.333333  \n",
       "2  {\"harold & kumar go to white castle, eurotrip,...  1.000000  \n",
       "3          {\"the maltese falcon\" ,  \"susan and god\"}  0.333333  \n",
       "4  {\"haider, udta punjab, padmaavat, kabir singh,...  0.666667  "
      ]
     },
     "execution_count": 19,
     "metadata": {},
     "output_type": "execute_result"
    }
   ],
   "source": [
    "metaqa[\"rouge-l\"] = metaqa.apply(lambda t: check_metaqa_answer_correct(t.Answers, t.Model), axis=1)\n",
    "metaqa.head()"
   ]
  },
  {
   "cell_type": "code",
   "execution_count": 20,
   "metadata": {},
   "outputs": [
    {
     "data": {
      "text/plain": [
       "array([[<Axes: title={'center': 'rouge-l'}>]], dtype=object)"
      ]
     },
     "execution_count": 20,
     "metadata": {},
     "output_type": "execute_result"
    },
    {
     "data": {
      "image/png": "[encoded data removed]",
      "text/plain": [
       "<Figure size 640x480 with 1 Axes>"
      ]
     },
     "metadata": {},
     "output_type": "display_data"
    }
   ],
   "source": [
    "metaqa.hist()"
   ]
  },
  {
   "cell_type": "code",
   "execution_count": 21,
   "metadata": {},
   "outputs": [
    {
     "data": {
      "text/html": [
       "<div>\n",
       "<style scoped>\n",
       "    .dataframe tbody tr th:only-of-type {\n",
       "        vertical-align: middle;\n",
       "    }\n",
       "\n",
       "    .dataframe tbody tr th {\n",
       "        vertical-align: top;\n",
       "    }\n",
       "\n",
       "    .dataframe thead th {\n",
       "        text-align: right;\n",
       "    }\n",
       "</style>\n",
       "<table border=\"1\" class=\"dataframe\">\n",
       "  <thead>\n",
       "    <tr style=\"text-align: right;\">\n",
       "      <th></th>\n",
       "      <th>Question</th>\n",
       "      <th>Answers</th>\n",
       "      <th>Model</th>\n",
       "      <th>rouge-l</th>\n",
       "      <th>Correct</th>\n",
       "    </tr>\n",
       "  </thead>\n",
       "  <tbody>\n",
       "    <tr>\n",
       "      <th>0</th>\n",
       "      <td>what does [Grégoire Colin] appear in</td>\n",
       "      <td>{before the rain}</td>\n",
       "      <td>{grégoire colin appears in \"the hundred-foot j...</td>\n",
       "      <td>0.000000</td>\n",
       "      <td>False</td>\n",
       "    </tr>\n",
       "    <tr>\n",
       "      <th>1</th>\n",
       "      <td>[Joe Thomas] appears in which movies</td>\n",
       "      <td>{the inbetweeners movie, the inbetweeners 2}</td>\n",
       "      <td>{\"rocky balboa, a cinderella story, the dark k...</td>\n",
       "      <td>0.333333</td>\n",
       "      <td>False</td>\n",
       "    </tr>\n",
       "    <tr>\n",
       "      <th>2</th>\n",
       "      <td>what films did [Michelle Trachtenberg] star in</td>\n",
       "      <td>{inspector gadget, the scribbler, ice princess...</td>\n",
       "      <td>{\"harold &amp; kumar go to white castle, eurotrip,...</td>\n",
       "      <td>1.000000</td>\n",
       "      <td>True</td>\n",
       "    </tr>\n",
       "    <tr>\n",
       "      <th>3</th>\n",
       "      <td>what does [Helen Mack] star in</td>\n",
       "      <td>{the son of kong, divorce, kiss and make-up}</td>\n",
       "      <td>{\"the maltese falcon\" ,  \"susan and god\"}</td>\n",
       "      <td>0.333333</td>\n",
       "      <td>False</td>\n",
       "    </tr>\n",
       "    <tr>\n",
       "      <th>4</th>\n",
       "      <td>what films did [Shahid Kapoor] act in</td>\n",
       "      <td>{haider, chance pe dance, jab we met}</td>\n",
       "      <td>{\"haider, udta punjab, padmaavat, kabir singh,...</td>\n",
       "      <td>0.666667</td>\n",
       "      <td>True</td>\n",
       "    </tr>\n",
       "  </tbody>\n",
       "</table>\n",
       "</div>"
      ],
      "text/plain": [
       "                                         Question  \\\n",
       "0            what does [Grégoire Colin] appear in   \n",
       "1            [Joe Thomas] appears in which movies   \n",
       "2  what films did [Michelle Trachtenberg] star in   \n",
       "3                  what does [Helen Mack] star in   \n",
       "4           what films did [Shahid Kapoor] act in   \n",
       "\n",
       "                                             Answers  \\\n",
       "0                                  {before the rain}   \n",
       "1       {the inbetweeners movie, the inbetweeners 2}   \n",
       "2  {inspector gadget, the scribbler, ice princess...   \n",
       "3       {the son of kong, divorce, kiss and make-up}   \n",
       "4              {haider, chance pe dance, jab we met}   \n",
       "\n",
       "                                               Model   rouge-l  Correct  \n",
       "0  {grégoire colin appears in \"the hundred-foot j...  0.000000    False  \n",
       "1  {\"rocky balboa, a cinderella story, the dark k...  0.333333    False  \n",
       "2  {\"harold & kumar go to white castle, eurotrip,...  1.000000     True  \n",
       "3          {\"the maltese falcon\" ,  \"susan and god\"}  0.333333    False  \n",
       "4  {\"haider, udta punjab, padmaavat, kabir singh,...  0.666667     True  "
      ]
     },
     "execution_count": 21,
     "metadata": {},
     "output_type": "execute_result"
    }
   ],
   "source": [
    "metaqa[\"Correct\"] = metaqa.apply(lambda t: t[\"rouge-l\"] >= 0.5, axis=1)\n",
    "metaqa.head()"
   ]
  },
  {
   "cell_type": "code",
   "execution_count": 22,
   "metadata": {},
   "outputs": [
    {
     "name": "stdout",
     "output_type": "stream",
     "text": [
      "Baseline Accuracy: 0.391\n"
     ]
    }
   ],
   "source": [
    "print(\n",
    "    f\"Baseline Accuracy: {sum(metaqa.Correct)/len(metaqa):.3f}\"\n",
    ")"
   ]
  },
  {
   "cell_type": "markdown",
   "metadata": {},
   "source": [
    "## MetaQA (2-hop)"
   ]
  },
  {
   "cell_type": "code",
   "execution_count": 23,
   "metadata": {},
   "outputs": [
    {
     "name": "stdout",
     "output_type": "stream",
     "text": [
      "14872\n",
      "14872\n"
     ]
    },
    {
     "data": {
      "text/html": [
       "<div>\n",
       "<style scoped>\n",
       "    .dataframe tbody tr th:only-of-type {\n",
       "        vertical-align: middle;\n",
       "    }\n",
       "\n",
       "    .dataframe tbody tr th {\n",
       "        vertical-align: top;\n",
       "    }\n",
       "\n",
       "    .dataframe thead th {\n",
       "        text-align: right;\n",
       "    }\n",
       "</style>\n",
       "<table border=\"1\" class=\"dataframe\">\n",
       "  <thead>\n",
       "    <tr style=\"text-align: right;\">\n",
       "      <th></th>\n",
       "      <th>Question</th>\n",
       "      <th>Answers</th>\n",
       "      <th>Model</th>\n",
       "    </tr>\n",
       "  </thead>\n",
       "  <tbody>\n",
       "    <tr>\n",
       "      <th>0</th>\n",
       "      <td>which person directed the movies starred by [J...</td>\n",
       "      <td>{nancy meyers, sam mendes, ken kwapis, george ...</td>\n",
       "      <td>J.J. Abrams, Mira Nair, and John Krasinski (fo...</td>\n",
       "    </tr>\n",
       "    <tr>\n",
       "      <th>1</th>\n",
       "      <td>who are movie co-directors of [Delbert Mann]</td>\n",
       "      <td>{robert stevenson, cary fukunaga, franco zeffi...</td>\n",
       "      <td>Franklin J. Schaffner, Robert Mulligan, John F...</td>\n",
       "    </tr>\n",
       "    <tr>\n",
       "      <th>2</th>\n",
       "      <td>what are the primary languages in the movies d...</td>\n",
       "      <td>{german}</td>\n",
       "      <td>There are no movies directed by David Mandel f...</td>\n",
       "    </tr>\n",
       "    <tr>\n",
       "      <th>3</th>\n",
       "      <td>the screenwriter [Mimsy Farmer] co-wrote movie...</td>\n",
       "      <td>{barbet schroeder}</td>\n",
       "      <td>Woody Allen (Sleeper, Bananas) | John Sayles (...</td>\n",
       "    </tr>\n",
       "    <tr>\n",
       "      <th>4</th>\n",
       "      <td>the films acted by [Shaun White] were in which...</td>\n",
       "      <td>{sport, documentary}</td>\n",
       "      <td>Action, Sports, Biography</td>\n",
       "    </tr>\n",
       "  </tbody>\n",
       "</table>\n",
       "</div>"
      ],
      "text/plain": [
       "                                            Question  \\\n",
       "0  which person directed the movies starred by [J...   \n",
       "1       who are movie co-directors of [Delbert Mann]   \n",
       "2  what are the primary languages in the movies d...   \n",
       "3  the screenwriter [Mimsy Farmer] co-wrote movie...   \n",
       "4  the films acted by [Shaun White] were in which...   \n",
       "\n",
       "                                             Answers  \\\n",
       "0  {nancy meyers, sam mendes, ken kwapis, george ...   \n",
       "1  {robert stevenson, cary fukunaga, franco zeffi...   \n",
       "2                                           {german}   \n",
       "3                                 {barbet schroeder}   \n",
       "4                               {sport, documentary}   \n",
       "\n",
       "                                               Model  \n",
       "0  J.J. Abrams, Mira Nair, and John Krasinski (fo...  \n",
       "1  Franklin J. Schaffner, Robert Mulligan, John F...  \n",
       "2  There are no movies directed by David Mandel f...  \n",
       "3  Woody Allen (Sleeper, Bananas) | John Sayles (...  \n",
       "4                          Action, Sports, Biography  "
      ]
     },
     "execution_count": 23,
     "metadata": {},
     "output_type": "execute_result"
    }
   ],
   "source": [
    "metaqa2hop = pd.read_csv(\"/datasets/MetaQA/2hop/qa_test.txt\", sep=\"\\t\", header=None)\n",
    "print(len(metaqa2hop))\n",
    "metaqa2hop.rename(columns={0: \"Question\", 1: \"Answers\"}, inplace=True)\n",
    "metaqa2hop.Answers = metaqa2hop.apply(lambda t: set(t.Answers.lower().split(\"|\")), axis=1)\n",
    "bline_metaqa2_df = pd.read_csv(\"/datasets/MetaQA/results/2hop/bline.csv\")\n",
    "print(len(bline_metaqa2_df))\n",
    "metaqa2hop.insert(2, \"Model\", bline_metaqa2_df.Model)\n",
    "metaqa2hop.head()"
   ]
  },
  {
   "cell_type": "code",
   "execution_count": 24,
   "metadata": {},
   "outputs": [
    {
     "data": {
      "text/plain": [
       "np.int64(0)"
      ]
     },
     "execution_count": 24,
     "metadata": {},
     "output_type": "execute_result"
    }
   ],
   "source": [
    "metaqa2hop.Model.isna().sum()"
   ]
  },
  {
   "cell_type": "code",
   "execution_count": 25,
   "metadata": {},
   "outputs": [
    {
     "name": "stderr",
     "output_type": "stream",
     "text": [
      "/tmp/ipykernel_898/3492113738.py:1: FutureWarning: A value is trying to be set on a copy of a DataFrame or Series through chained assignment using an inplace method.\n",
      "The behavior will change in pandas 3.0. This inplace method will never work because the intermediate object on which we are setting values always behaves as a copy.\n",
      "\n",
      "For example, when doing 'df[col].method(value, inplace=True)', try using 'df.method({col: value}, inplace=True)' or df[col] = df[col].method(value) instead, to perform the operation inplace on the original object.\n",
      "\n",
      "\n",
      "  metaqa2hop.Model.fillna(\"\", inplace=True)\n"
     ]
    },
    {
     "data": {
      "text/html": [
       "<div>\n",
       "<style scoped>\n",
       "    .dataframe tbody tr th:only-of-type {\n",
       "        vertical-align: middle;\n",
       "    }\n",
       "\n",
       "    .dataframe tbody tr th {\n",
       "        vertical-align: top;\n",
       "    }\n",
       "\n",
       "    .dataframe thead th {\n",
       "        text-align: right;\n",
       "    }\n",
       "</style>\n",
       "<table border=\"1\" class=\"dataframe\">\n",
       "  <thead>\n",
       "    <tr style=\"text-align: right;\">\n",
       "      <th></th>\n",
       "      <th>Question</th>\n",
       "      <th>Answers</th>\n",
       "      <th>Model</th>\n",
       "    </tr>\n",
       "  </thead>\n",
       "  <tbody>\n",
       "    <tr>\n",
       "      <th>0</th>\n",
       "      <td>which person directed the movies starred by [J...</td>\n",
       "      <td>{nancy meyers, sam mendes, ken kwapis, george ...</td>\n",
       "      <td>{j.j. abrams, mira nair, and john krasinski (f...</td>\n",
       "    </tr>\n",
       "    <tr>\n",
       "      <th>1</th>\n",
       "      <td>who are movie co-directors of [Delbert Mann]</td>\n",
       "      <td>{robert stevenson, cary fukunaga, franco zeffi...</td>\n",
       "      <td>{franklin j. schaffner, robert mulligan, john ...</td>\n",
       "    </tr>\n",
       "    <tr>\n",
       "      <th>2</th>\n",
       "      <td>what are the primary languages in the movies d...</td>\n",
       "      <td>{german}</td>\n",
       "      <td>{there are no movies directed by david mandel ...</td>\n",
       "    </tr>\n",
       "    <tr>\n",
       "      <th>3</th>\n",
       "      <td>the screenwriter [Mimsy Farmer] co-wrote movie...</td>\n",
       "      <td>{barbet schroeder}</td>\n",
       "      <td>{ john sayles (piranha, the howling), woody al...</td>\n",
       "    </tr>\n",
       "    <tr>\n",
       "      <th>4</th>\n",
       "      <td>the films acted by [Shaun White] were in which...</td>\n",
       "      <td>{sport, documentary}</td>\n",
       "      <td>{action, sports, biography}</td>\n",
       "    </tr>\n",
       "  </tbody>\n",
       "</table>\n",
       "</div>"
      ],
      "text/plain": [
       "                                            Question  \\\n",
       "0  which person directed the movies starred by [J...   \n",
       "1       who are movie co-directors of [Delbert Mann]   \n",
       "2  what are the primary languages in the movies d...   \n",
       "3  the screenwriter [Mimsy Farmer] co-wrote movie...   \n",
       "4  the films acted by [Shaun White] were in which...   \n",
       "\n",
       "                                             Answers  \\\n",
       "0  {nancy meyers, sam mendes, ken kwapis, george ...   \n",
       "1  {robert stevenson, cary fukunaga, franco zeffi...   \n",
       "2                                           {german}   \n",
       "3                                 {barbet schroeder}   \n",
       "4                               {sport, documentary}   \n",
       "\n",
       "                                               Model  \n",
       "0  {j.j. abrams, mira nair, and john krasinski (f...  \n",
       "1  {franklin j. schaffner, robert mulligan, john ...  \n",
       "2  {there are no movies directed by david mandel ...  \n",
       "3  { john sayles (piranha, the howling), woody al...  \n",
       "4                        {action, sports, biography}  "
      ]
     },
     "execution_count": 25,
     "metadata": {},
     "output_type": "execute_result"
    }
   ],
   "source": [
    "metaqa2hop.Model.fillna(\"\", inplace=True)\n",
    "metaqa2hop.Model = metaqa2hop.apply(lambda t: set(t.Model.lower().split(\"|\")), axis=1)\n",
    "metaqa2hop.head()"
   ]
  },
  {
   "cell_type": "code",
   "execution_count": 26,
   "metadata": {},
   "outputs": [
    {
     "data": {
      "text/html": [
       "<div>\n",
       "<style scoped>\n",
       "    .dataframe tbody tr th:only-of-type {\n",
       "        vertical-align: middle;\n",
       "    }\n",
       "\n",
       "    .dataframe tbody tr th {\n",
       "        vertical-align: top;\n",
       "    }\n",
       "\n",
       "    .dataframe thead th {\n",
       "        text-align: right;\n",
       "    }\n",
       "</style>\n",
       "<table border=\"1\" class=\"dataframe\">\n",
       "  <thead>\n",
       "    <tr style=\"text-align: right;\">\n",
       "      <th></th>\n",
       "      <th>Question</th>\n",
       "      <th>Answers</th>\n",
       "      <th>Model</th>\n",
       "      <th>rouge-l</th>\n",
       "    </tr>\n",
       "  </thead>\n",
       "  <tbody>\n",
       "    <tr>\n",
       "      <th>0</th>\n",
       "      <td>which person directed the movies starred by [J...</td>\n",
       "      <td>{nancy meyers, sam mendes, ken kwapis, george ...</td>\n",
       "      <td>{j.j. abrams, mira nair, and john krasinski (f...</td>\n",
       "      <td>0.0</td>\n",
       "    </tr>\n",
       "    <tr>\n",
       "      <th>1</th>\n",
       "      <td>who are movie co-directors of [Delbert Mann]</td>\n",
       "      <td>{robert stevenson, cary fukunaga, franco zeffi...</td>\n",
       "      <td>{franklin j. schaffner, robert mulligan, john ...</td>\n",
       "      <td>0.5</td>\n",
       "    </tr>\n",
       "    <tr>\n",
       "      <th>2</th>\n",
       "      <td>what are the primary languages in the movies d...</td>\n",
       "      <td>{german}</td>\n",
       "      <td>{there are no movies directed by david mandel ...</td>\n",
       "      <td>0.0</td>\n",
       "    </tr>\n",
       "    <tr>\n",
       "      <th>3</th>\n",
       "      <td>the screenwriter [Mimsy Farmer] co-wrote movie...</td>\n",
       "      <td>{barbet schroeder}</td>\n",
       "      <td>{ john sayles (piranha, the howling), woody al...</td>\n",
       "      <td>0.0</td>\n",
       "    </tr>\n",
       "    <tr>\n",
       "      <th>4</th>\n",
       "      <td>the films acted by [Shaun White] were in which...</td>\n",
       "      <td>{sport, documentary}</td>\n",
       "      <td>{action, sports, biography}</td>\n",
       "      <td>0.0</td>\n",
       "    </tr>\n",
       "  </tbody>\n",
       "</table>\n",
       "</div>"
      ],
      "text/plain": [
       "                                            Question  \\\n",
       "0  which person directed the movies starred by [J...   \n",
       "1       who are movie co-directors of [Delbert Mann]   \n",
       "2  what are the primary languages in the movies d...   \n",
       "3  the screenwriter [Mimsy Farmer] co-wrote movie...   \n",
       "4  the films acted by [Shaun White] were in which...   \n",
       "\n",
       "                                             Answers  \\\n",
       "0  {nancy meyers, sam mendes, ken kwapis, george ...   \n",
       "1  {robert stevenson, cary fukunaga, franco zeffi...   \n",
       "2                                           {german}   \n",
       "3                                 {barbet schroeder}   \n",
       "4                               {sport, documentary}   \n",
       "\n",
       "                                               Model  rouge-l  \n",
       "0  {j.j. abrams, mira nair, and john krasinski (f...      0.0  \n",
       "1  {franklin j. schaffner, robert mulligan, john ...      0.5  \n",
       "2  {there are no movies directed by david mandel ...      0.0  \n",
       "3  { john sayles (piranha, the howling), woody al...      0.0  \n",
       "4                        {action, sports, biography}      0.0  "
      ]
     },
     "execution_count": 26,
     "metadata": {},
     "output_type": "execute_result"
    }
   ],
   "source": [
    "metaqa2hop[\"rouge-l\"] = metaqa2hop.apply(lambda t: check_metaqa_answer_correct(t.Answers, t.Model), axis=1)\n",
    "metaqa2hop.head()"
   ]
  },
  {
   "cell_type": "code",
   "execution_count": 27,
   "metadata": {},
   "outputs": [
    {
     "data": {
      "text/plain": [
       "array([[<Axes: title={'center': 'rouge-l'}>]], dtype=object)"
      ]
     },
     "execution_count": 27,
     "metadata": {},
     "output_type": "execute_result"
    },
    {
     "data": {
      "image/png": "[encoded data removed]",
      "text/plain": [
       "<Figure size 640x480 with 1 Axes>"
      ]
     },
     "metadata": {},
     "output_type": "display_data"
    }
   ],
   "source": [
    "metaqa2hop.hist()"
   ]
  },
  {
   "cell_type": "code",
   "execution_count": 28,
   "metadata": {},
   "outputs": [
    {
     "data": {
      "text/html": [
       "<div>\n",
       "<style scoped>\n",
       "    .dataframe tbody tr th:only-of-type {\n",
       "        vertical-align: middle;\n",
       "    }\n",
       "\n",
       "    .dataframe tbody tr th {\n",
       "        vertical-align: top;\n",
       "    }\n",
       "\n",
       "    .dataframe thead th {\n",
       "        text-align: right;\n",
       "    }\n",
       "</style>\n",
       "<table border=\"1\" class=\"dataframe\">\n",
       "  <thead>\n",
       "    <tr style=\"text-align: right;\">\n",
       "      <th></th>\n",
       "      <th>Question</th>\n",
       "      <th>Answers</th>\n",
       "      <th>Model</th>\n",
       "      <th>rouge-l</th>\n",
       "      <th>Correct</th>\n",
       "    </tr>\n",
       "  </thead>\n",
       "  <tbody>\n",
       "    <tr>\n",
       "      <th>0</th>\n",
       "      <td>which person directed the movies starred by [J...</td>\n",
       "      <td>{nancy meyers, sam mendes, ken kwapis, george ...</td>\n",
       "      <td>{j.j. abrams, mira nair, and john krasinski (f...</td>\n",
       "      <td>0.0</td>\n",
       "      <td>False</td>\n",
       "    </tr>\n",
       "    <tr>\n",
       "      <th>1</th>\n",
       "      <td>who are movie co-directors of [Delbert Mann]</td>\n",
       "      <td>{robert stevenson, cary fukunaga, franco zeffi...</td>\n",
       "      <td>{franklin j. schaffner, robert mulligan, john ...</td>\n",
       "      <td>0.5</td>\n",
       "      <td>True</td>\n",
       "    </tr>\n",
       "    <tr>\n",
       "      <th>2</th>\n",
       "      <td>what are the primary languages in the movies d...</td>\n",
       "      <td>{german}</td>\n",
       "      <td>{there are no movies directed by david mandel ...</td>\n",
       "      <td>0.0</td>\n",
       "      <td>False</td>\n",
       "    </tr>\n",
       "    <tr>\n",
       "      <th>3</th>\n",
       "      <td>the screenwriter [Mimsy Farmer] co-wrote movie...</td>\n",
       "      <td>{barbet schroeder}</td>\n",
       "      <td>{ john sayles (piranha, the howling), woody al...</td>\n",
       "      <td>0.0</td>\n",
       "      <td>False</td>\n",
       "    </tr>\n",
       "    <tr>\n",
       "      <th>4</th>\n",
       "      <td>the films acted by [Shaun White] were in which...</td>\n",
       "      <td>{sport, documentary}</td>\n",
       "      <td>{action, sports, biography}</td>\n",
       "      <td>0.0</td>\n",
       "      <td>False</td>\n",
       "    </tr>\n",
       "  </tbody>\n",
       "</table>\n",
       "</div>"
      ],
      "text/plain": [
       "                                            Question  \\\n",
       "0  which person directed the movies starred by [J...   \n",
       "1       who are movie co-directors of [Delbert Mann]   \n",
       "2  what are the primary languages in the movies d...   \n",
       "3  the screenwriter [Mimsy Farmer] co-wrote movie...   \n",
       "4  the films acted by [Shaun White] were in which...   \n",
       "\n",
       "                                             Answers  \\\n",
       "0  {nancy meyers, sam mendes, ken kwapis, george ...   \n",
       "1  {robert stevenson, cary fukunaga, franco zeffi...   \n",
       "2                                           {german}   \n",
       "3                                 {barbet schroeder}   \n",
       "4                               {sport, documentary}   \n",
       "\n",
       "                                               Model  rouge-l  Correct  \n",
       "0  {j.j. abrams, mira nair, and john krasinski (f...      0.0    False  \n",
       "1  {franklin j. schaffner, robert mulligan, john ...      0.5     True  \n",
       "2  {there are no movies directed by david mandel ...      0.0    False  \n",
       "3  { john sayles (piranha, the howling), woody al...      0.0    False  \n",
       "4                        {action, sports, biography}      0.0    False  "
      ]
     },
     "execution_count": 28,
     "metadata": {},
     "output_type": "execute_result"
    }
   ],
   "source": [
    "metaqa2hop[\"Correct\"] = metaqa2hop.apply(lambda t: t[\"rouge-l\"] >= 0.5, axis=1)\n",
    "metaqa2hop.head()"
   ]
  },
  {
   "cell_type": "code",
   "execution_count": 29,
   "metadata": {},
   "outputs": [
    {
     "name": "stdout",
     "output_type": "stream",
     "text": [
      "Baseline Accuracy: 0.239\n"
     ]
    }
   ],
   "source": [
    "print(\n",
    "    f\"Baseline Accuracy: {sum(metaqa2hop.Correct)/len(metaqa2hop):.3f}\"\n",
    ")"
   ]
  },
  {
   "cell_type": "markdown",
   "metadata": {},
   "source": [
    "## MetaQA 3-hop"
   ]
  },
  {
   "cell_type": "code",
   "execution_count": 30,
   "metadata": {},
   "outputs": [
    {
     "name": "stdout",
     "output_type": "stream",
     "text": [
      "14274\n",
      "14274\n"
     ]
    },
    {
     "data": {
      "text/html": [
       "<div>\n",
       "<style scoped>\n",
       "    .dataframe tbody tr th:only-of-type {\n",
       "        vertical-align: middle;\n",
       "    }\n",
       "\n",
       "    .dataframe tbody tr th {\n",
       "        vertical-align: top;\n",
       "    }\n",
       "\n",
       "    .dataframe thead th {\n",
       "        text-align: right;\n",
       "    }\n",
       "</style>\n",
       "<table border=\"1\" class=\"dataframe\">\n",
       "  <thead>\n",
       "    <tr style=\"text-align: right;\">\n",
       "      <th></th>\n",
       "      <th>Question</th>\n",
       "      <th>Answers</th>\n",
       "      <th>Model</th>\n",
       "    </tr>\n",
       "  </thead>\n",
       "  <tbody>\n",
       "    <tr>\n",
       "      <th>0</th>\n",
       "      <td>the films that share directors with the film [...</td>\n",
       "      <td>{german, polish, japanese, mende}</td>\n",
       "      <td>English, German, French, Italian, Spanish</td>\n",
       "    </tr>\n",
       "    <tr>\n",
       "      <th>1</th>\n",
       "      <td>who starred movies for the director of [Writte...</td>\n",
       "      <td>{susan kohner, cornel wilde, joan bennett, lan...</td>\n",
       "      <td>Douglas Fairbanks Jr., Robert Stack, Rock Huds...</td>\n",
       "    </tr>\n",
       "    <tr>\n",
       "      <th>2</th>\n",
       "      <td>the films that share actors with the film [Cre...</td>\n",
       "      <td>{polish, english}</td>\n",
       "      <td>English, Spanish, French, Italian, German</td>\n",
       "    </tr>\n",
       "    <tr>\n",
       "      <th>3</th>\n",
       "      <td>what were the release years of the films that ...</td>\n",
       "      <td>{2000, 2002, 1998, 2008, 2011, 1999, 1996, 199...</td>\n",
       "      <td>2010, 2011, 2012, 2013, 2014, 2015 (for films ...</td>\n",
       "    </tr>\n",
       "    <tr>\n",
       "      <th>4</th>\n",
       "      <td>who is listed as director of the films starred...</td>\n",
       "      <td>{gary trousdale, jean delannoy, stephen frears...</td>\n",
       "      <td>Ken Kwapis, James Foley, and Jon M. Chu (varie...</td>\n",
       "    </tr>\n",
       "  </tbody>\n",
       "</table>\n",
       "</div>"
      ],
      "text/plain": [
       "                                            Question  \\\n",
       "0  the films that share directors with the film [...   \n",
       "1  who starred movies for the director of [Writte...   \n",
       "2  the films that share actors with the film [Cre...   \n",
       "3  what were the release years of the films that ...   \n",
       "4  who is listed as director of the films starred...   \n",
       "\n",
       "                                             Answers  \\\n",
       "0                  {german, polish, japanese, mende}   \n",
       "1  {susan kohner, cornel wilde, joan bennett, lan...   \n",
       "2                                  {polish, english}   \n",
       "3  {2000, 2002, 1998, 2008, 2011, 1999, 1996, 199...   \n",
       "4  {gary trousdale, jean delannoy, stephen frears...   \n",
       "\n",
       "                                               Model  \n",
       "0          English, German, French, Italian, Spanish  \n",
       "1  Douglas Fairbanks Jr., Robert Stack, Rock Huds...  \n",
       "2          English, Spanish, French, Italian, German  \n",
       "3  2010, 2011, 2012, 2013, 2014, 2015 (for films ...  \n",
       "4  Ken Kwapis, James Foley, and Jon M. Chu (varie...  "
      ]
     },
     "execution_count": 30,
     "metadata": {},
     "output_type": "execute_result"
    }
   ],
   "source": [
    "metaqa3hop = pd.read_csv(\"/datasets/MetaQA/3hop/qa_test.txt\", sep=\"\\t\", header=None)\n",
    "print(len(metaqa3hop))\n",
    "metaqa3hop.rename(columns={0: \"Question\", 1: \"Answers\"}, inplace=True)\n",
    "metaqa3hop.Answers = metaqa3hop.apply(lambda t: set(t.Answers.lower().split(\"|\")), axis=1)\n",
    "bline_metaqa3_df = pd.read_csv(\"/datasets/MetaQA/results/3hop/bline.csv\")\n",
    "print(len(bline_metaqa3_df))\n",
    "metaqa3hop.insert(2, \"Model\", bline_metaqa3_df.Model)\n",
    "metaqa3hop.head()"
   ]
  },
  {
   "cell_type": "code",
   "execution_count": 31,
   "metadata": {},
   "outputs": [
    {
     "data": {
      "text/plain": [
       "np.int64(0)"
      ]
     },
     "execution_count": 31,
     "metadata": {},
     "output_type": "execute_result"
    }
   ],
   "source": [
    "metaqa3hop.Model.isna().sum()"
   ]
  },
  {
   "cell_type": "code",
   "execution_count": 32,
   "metadata": {},
   "outputs": [
    {
     "name": "stderr",
     "output_type": "stream",
     "text": [
      "/tmp/ipykernel_898/4283186107.py:1: FutureWarning: A value is trying to be set on a copy of a DataFrame or Series through chained assignment using an inplace method.\n",
      "The behavior will change in pandas 3.0. This inplace method will never work because the intermediate object on which we are setting values always behaves as a copy.\n",
      "\n",
      "For example, when doing 'df[col].method(value, inplace=True)', try using 'df.method({col: value}, inplace=True)' or df[col] = df[col].method(value) instead, to perform the operation inplace on the original object.\n",
      "\n",
      "\n",
      "  metaqa3hop.Model.fillna(\"\", inplace=True)\n"
     ]
    },
    {
     "data": {
      "text/html": [
       "<div>\n",
       "<style scoped>\n",
       "    .dataframe tbody tr th:only-of-type {\n",
       "        vertical-align: middle;\n",
       "    }\n",
       "\n",
       "    .dataframe tbody tr th {\n",
       "        vertical-align: top;\n",
       "    }\n",
       "\n",
       "    .dataframe thead th {\n",
       "        text-align: right;\n",
       "    }\n",
       "</style>\n",
       "<table border=\"1\" class=\"dataframe\">\n",
       "  <thead>\n",
       "    <tr style=\"text-align: right;\">\n",
       "      <th></th>\n",
       "      <th>Question</th>\n",
       "      <th>Answers</th>\n",
       "      <th>Model</th>\n",
       "    </tr>\n",
       "  </thead>\n",
       "  <tbody>\n",
       "    <tr>\n",
       "      <th>0</th>\n",
       "      <td>the films that share directors with the film [...</td>\n",
       "      <td>{german, polish, japanese, mende}</td>\n",
       "      <td>{english, german, french, italian, spanish}</td>\n",
       "    </tr>\n",
       "    <tr>\n",
       "      <th>1</th>\n",
       "      <td>who starred movies for the director of [Writte...</td>\n",
       "      <td>{susan kohner, cornel wilde, joan bennett, lan...</td>\n",
       "      <td>{douglas fairbanks jr., robert stack, rock hud...</td>\n",
       "    </tr>\n",
       "    <tr>\n",
       "      <th>2</th>\n",
       "      <td>the films that share actors with the film [Cre...</td>\n",
       "      <td>{polish, english}</td>\n",
       "      <td>{english, spanish, french, italian, german}</td>\n",
       "    </tr>\n",
       "    <tr>\n",
       "      <th>3</th>\n",
       "      <td>what were the release years of the films that ...</td>\n",
       "      <td>{2000, 2002, 1998, 2008, 2011, 1999, 1996, 199...</td>\n",
       "      <td>{2010, 2011, 2012, 2013, 2014, 2015 (for films...</td>\n",
       "    </tr>\n",
       "    <tr>\n",
       "      <th>4</th>\n",
       "      <td>who is listed as director of the films starred...</td>\n",
       "      <td>{gary trousdale, jean delannoy, stephen frears...</td>\n",
       "      <td>{ken kwapis, james foley, and jon m. chu (vari...</td>\n",
       "    </tr>\n",
       "  </tbody>\n",
       "</table>\n",
       "</div>"
      ],
      "text/plain": [
       "                                            Question  \\\n",
       "0  the films that share directors with the film [...   \n",
       "1  who starred movies for the director of [Writte...   \n",
       "2  the films that share actors with the film [Cre...   \n",
       "3  what were the release years of the films that ...   \n",
       "4  who is listed as director of the films starred...   \n",
       "\n",
       "                                             Answers  \\\n",
       "0                  {german, polish, japanese, mende}   \n",
       "1  {susan kohner, cornel wilde, joan bennett, lan...   \n",
       "2                                  {polish, english}   \n",
       "3  {2000, 2002, 1998, 2008, 2011, 1999, 1996, 199...   \n",
       "4  {gary trousdale, jean delannoy, stephen frears...   \n",
       "\n",
       "                                               Model  \n",
       "0        {english, german, french, italian, spanish}  \n",
       "1  {douglas fairbanks jr., robert stack, rock hud...  \n",
       "2        {english, spanish, french, italian, german}  \n",
       "3  {2010, 2011, 2012, 2013, 2014, 2015 (for films...  \n",
       "4  {ken kwapis, james foley, and jon m. chu (vari...  "
      ]
     },
     "execution_count": 32,
     "metadata": {},
     "output_type": "execute_result"
    }
   ],
   "source": [
    "metaqa3hop.Model.fillna(\"\", inplace=True)\n",
    "metaqa3hop.Model = metaqa3hop.apply(lambda t: set(t.Model.lower().split(\"|\")), axis=1)\n",
    "metaqa3hop.head()"
   ]
  },
  {
   "cell_type": "code",
   "execution_count": 33,
   "metadata": {},
   "outputs": [
    {
     "data": {
      "text/html": [
       "<div>\n",
       "<style scoped>\n",
       "    .dataframe tbody tr th:only-of-type {\n",
       "        vertical-align: middle;\n",
       "    }\n",
       "\n",
       "    .dataframe tbody tr th {\n",
       "        vertical-align: top;\n",
       "    }\n",
       "\n",
       "    .dataframe thead th {\n",
       "        text-align: right;\n",
       "    }\n",
       "</style>\n",
       "<table border=\"1\" class=\"dataframe\">\n",
       "  <thead>\n",
       "    <tr style=\"text-align: right;\">\n",
       "      <th></th>\n",
       "      <th>Question</th>\n",
       "      <th>Answers</th>\n",
       "      <th>Model</th>\n",
       "      <th>rouge-l</th>\n",
       "    </tr>\n",
       "  </thead>\n",
       "  <tbody>\n",
       "    <tr>\n",
       "      <th>0</th>\n",
       "      <td>the films that share directors with the film [...</td>\n",
       "      <td>{german, polish, japanese, mende}</td>\n",
       "      <td>{english, german, french, italian, spanish}</td>\n",
       "      <td>0.000000</td>\n",
       "    </tr>\n",
       "    <tr>\n",
       "      <th>1</th>\n",
       "      <td>who starred movies for the director of [Writte...</td>\n",
       "      <td>{susan kohner, cornel wilde, joan bennett, lan...</td>\n",
       "      <td>{douglas fairbanks jr., robert stack, rock hud...</td>\n",
       "      <td>0.500000</td>\n",
       "    </tr>\n",
       "    <tr>\n",
       "      <th>2</th>\n",
       "      <td>the films that share actors with the film [Cre...</td>\n",
       "      <td>{polish, english}</td>\n",
       "      <td>{english, spanish, french, italian, german}</td>\n",
       "      <td>0.000000</td>\n",
       "    </tr>\n",
       "    <tr>\n",
       "      <th>3</th>\n",
       "      <td>what were the release years of the films that ...</td>\n",
       "      <td>{2000, 2002, 1998, 2008, 2011, 1999, 1996, 199...</td>\n",
       "      <td>{2010, 2011, 2012, 2013, 2014, 2015 (for films...</td>\n",
       "      <td>0.000000</td>\n",
       "    </tr>\n",
       "    <tr>\n",
       "      <th>4</th>\n",
       "      <td>who is listed as director of the films starred...</td>\n",
       "      <td>{gary trousdale, jean delannoy, stephen frears...</td>\n",
       "      <td>{ken kwapis, james foley, and jon m. chu (vari...</td>\n",
       "      <td>0.333333</td>\n",
       "    </tr>\n",
       "  </tbody>\n",
       "</table>\n",
       "</div>"
      ],
      "text/plain": [
       "                                            Question  \\\n",
       "0  the films that share directors with the film [...   \n",
       "1  who starred movies for the director of [Writte...   \n",
       "2  the films that share actors with the film [Cre...   \n",
       "3  what were the release years of the films that ...   \n",
       "4  who is listed as director of the films starred...   \n",
       "\n",
       "                                             Answers  \\\n",
       "0                  {german, polish, japanese, mende}   \n",
       "1  {susan kohner, cornel wilde, joan bennett, lan...   \n",
       "2                                  {polish, english}   \n",
       "3  {2000, 2002, 1998, 2008, 2011, 1999, 1996, 199...   \n",
       "4  {gary trousdale, jean delannoy, stephen frears...   \n",
       "\n",
       "                                               Model   rouge-l  \n",
       "0        {english, german, french, italian, spanish}  0.000000  \n",
       "1  {douglas fairbanks jr., robert stack, rock hud...  0.500000  \n",
       "2        {english, spanish, french, italian, german}  0.000000  \n",
       "3  {2010, 2011, 2012, 2013, 2014, 2015 (for films...  0.000000  \n",
       "4  {ken kwapis, james foley, and jon m. chu (vari...  0.333333  "
      ]
     },
     "execution_count": 33,
     "metadata": {},
     "output_type": "execute_result"
    }
   ],
   "source": [
    "metaqa3hop[\"rouge-l\"] = metaqa3hop.apply(lambda t: check_metaqa_answer_correct(t.Answers, t.Model), axis=1)\n",
    "metaqa3hop.head()"
   ]
  },
  {
   "cell_type": "code",
   "execution_count": 34,
   "metadata": {},
   "outputs": [
    {
     "data": {
      "text/plain": [
       "array([[<Axes: title={'center': 'rouge-l'}>]], dtype=object)"
      ]
     },
     "execution_count": 34,
     "metadata": {},
     "output_type": "execute_result"
    },
    {
     "data": {
      "image/png": "[encoded data removed]",
      "text/plain": [
       "<Figure size 640x480 with 1 Axes>"
      ]
     },
     "metadata": {},
     "output_type": "display_data"
    }
   ],
   "source": [
    "metaqa3hop.hist()"
   ]
  },
  {
   "cell_type": "code",
   "execution_count": 35,
   "metadata": {},
   "outputs": [
    {
     "data": {
      "text/html": [
       "<div>\n",
       "<style scoped>\n",
       "    .dataframe tbody tr th:only-of-type {\n",
       "        vertical-align: middle;\n",
       "    }\n",
       "\n",
       "    .dataframe tbody tr th {\n",
       "        vertical-align: top;\n",
       "    }\n",
       "\n",
       "    .dataframe thead th {\n",
       "        text-align: right;\n",
       "    }\n",
       "</style>\n",
       "<table border=\"1\" class=\"dataframe\">\n",
       "  <thead>\n",
       "    <tr style=\"text-align: right;\">\n",
       "      <th></th>\n",
       "      <th>Question</th>\n",
       "      <th>Answers</th>\n",
       "      <th>Model</th>\n",
       "      <th>rouge-l</th>\n",
       "      <th>Correct</th>\n",
       "    </tr>\n",
       "  </thead>\n",
       "  <tbody>\n",
       "    <tr>\n",
       "      <th>0</th>\n",
       "      <td>the films that share directors with the film [...</td>\n",
       "      <td>{german, polish, japanese, mende}</td>\n",
       "      <td>{english, german, french, italian, spanish}</td>\n",
       "      <td>0.000000</td>\n",
       "      <td>False</td>\n",
       "    </tr>\n",
       "    <tr>\n",
       "      <th>1</th>\n",
       "      <td>who starred movies for the director of [Writte...</td>\n",
       "      <td>{susan kohner, cornel wilde, joan bennett, lan...</td>\n",
       "      <td>{douglas fairbanks jr., robert stack, rock hud...</td>\n",
       "      <td>0.500000</td>\n",
       "      <td>True</td>\n",
       "    </tr>\n",
       "    <tr>\n",
       "      <th>2</th>\n",
       "      <td>the films that share actors with the film [Cre...</td>\n",
       "      <td>{polish, english}</td>\n",
       "      <td>{english, spanish, french, italian, german}</td>\n",
       "      <td>0.000000</td>\n",
       "      <td>False</td>\n",
       "    </tr>\n",
       "    <tr>\n",
       "      <th>3</th>\n",
       "      <td>what were the release years of the films that ...</td>\n",
       "      <td>{2000, 2002, 1998, 2008, 2011, 1999, 1996, 199...</td>\n",
       "      <td>{2010, 2011, 2012, 2013, 2014, 2015 (for films...</td>\n",
       "      <td>0.000000</td>\n",
       "      <td>False</td>\n",
       "    </tr>\n",
       "    <tr>\n",
       "      <th>4</th>\n",
       "      <td>who is listed as director of the films starred...</td>\n",
       "      <td>{gary trousdale, jean delannoy, stephen frears...</td>\n",
       "      <td>{ken kwapis, james foley, and jon m. chu (vari...</td>\n",
       "      <td>0.333333</td>\n",
       "      <td>False</td>\n",
       "    </tr>\n",
       "  </tbody>\n",
       "</table>\n",
       "</div>"
      ],
      "text/plain": [
       "                                            Question  \\\n",
       "0  the films that share directors with the film [...   \n",
       "1  who starred movies for the director of [Writte...   \n",
       "2  the films that share actors with the film [Cre...   \n",
       "3  what were the release years of the films that ...   \n",
       "4  who is listed as director of the films starred...   \n",
       "\n",
       "                                             Answers  \\\n",
       "0                  {german, polish, japanese, mende}   \n",
       "1  {susan kohner, cornel wilde, joan bennett, lan...   \n",
       "2                                  {polish, english}   \n",
       "3  {2000, 2002, 1998, 2008, 2011, 1999, 1996, 199...   \n",
       "4  {gary trousdale, jean delannoy, stephen frears...   \n",
       "\n",
       "                                               Model   rouge-l  Correct  \n",
       "0        {english, german, french, italian, spanish}  0.000000    False  \n",
       "1  {douglas fairbanks jr., robert stack, rock hud...  0.500000     True  \n",
       "2        {english, spanish, french, italian, german}  0.000000    False  \n",
       "3  {2010, 2011, 2012, 2013, 2014, 2015 (for films...  0.000000    False  \n",
       "4  {ken kwapis, james foley, and jon m. chu (vari...  0.333333    False  "
      ]
     },
     "execution_count": 35,
     "metadata": {},
     "output_type": "execute_result"
    }
   ],
   "source": [
    "metaqa3hop[\"Correct\"] = metaqa3hop.apply(lambda t: t[\"rouge-l\"] >= 0.5, axis=1)\n",
    "metaqa3hop.head()"
   ]
  },
  {
   "cell_type": "code",
   "execution_count": 36,
   "metadata": {},
   "outputs": [
    {
     "name": "stdout",
     "output_type": "stream",
     "text": [
      "Baseline Accuracy: 0.422\n"
     ]
    }
   ],
   "source": [
    "print(\n",
    "    f\"Baseline Accuracy: {sum(metaqa3hop.Correct)/len(metaqa3hop):.3f}\"\n",
    ")"
   ]
  },
  {
   "cell_type": "markdown",
   "metadata": {},
   "source": [
    "## CosmosQA"
   ]
  },
  {
   "cell_type": "code",
   "execution_count": 37,
   "metadata": {},
   "outputs": [
    {
     "name": "stdout",
     "output_type": "stream",
     "text": [
      "2985\n"
     ]
    },
    {
     "data": {
      "text/html": [
       "<div>\n",
       "<style scoped>\n",
       "    .dataframe tbody tr th:only-of-type {\n",
       "        vertical-align: middle;\n",
       "    }\n",
       "\n",
       "    .dataframe tbody tr th {\n",
       "        vertical-align: top;\n",
       "    }\n",
       "\n",
       "    .dataframe thead th {\n",
       "        text-align: right;\n",
       "    }\n",
       "</style>\n",
       "<table border=\"1\" class=\"dataframe\">\n",
       "  <thead>\n",
       "    <tr style=\"text-align: right;\">\n",
       "      <th></th>\n",
       "      <th>id</th>\n",
       "      <th>context</th>\n",
       "      <th>question</th>\n",
       "      <th>answer0</th>\n",
       "      <th>answer1</th>\n",
       "      <th>answer2</th>\n",
       "      <th>answer3</th>\n",
       "      <th>label</th>\n",
       "    </tr>\n",
       "  </thead>\n",
       "  <tbody>\n",
       "    <tr>\n",
       "      <th>0</th>\n",
       "      <td>3BFF0DJK8XA7YNK4QYIGCOG1A95STE##3180JW2OT5AF02...</td>\n",
       "      <td>Do i need to go for a legal divorce ? I wanted...</td>\n",
       "      <td>Why is this person asking about divorce ?</td>\n",
       "      <td>If he gets married in the church he wo nt have...</td>\n",
       "      <td>He wants to get married to a different person .</td>\n",
       "      <td>He wants to know if he does nt like this girl ...</td>\n",
       "      <td>None of the above choices .</td>\n",
       "      <td>1</td>\n",
       "    </tr>\n",
       "    <tr>\n",
       "      <th>1</th>\n",
       "      <td>3BFF0DJK8XA7YNK4QYIGCOG1A95STE##3180JW2OT5AF02...</td>\n",
       "      <td>Do i need to go for a legal divorce ? I wanted...</td>\n",
       "      <td>Why is he worried about getting married ?</td>\n",
       "      <td>He was married before and she might come back ...</td>\n",
       "      <td>He wants the girl he is going to marry get in ...</td>\n",
       "      <td>He knows that he will be committing polygamy .</td>\n",
       "      <td>None of the above choices .</td>\n",
       "      <td>0</td>\n",
       "    </tr>\n",
       "    <tr>\n",
       "      <th>2</th>\n",
       "      <td>3AXFSPQOYQW4GFJD8K4D3JADN54FJ9##352YTHGROWB1DD...</td>\n",
       "      <td>I was walking home from the store , when I saw...</td>\n",
       "      <td>What may happen after the young man makes his ...</td>\n",
       "      <td>An ambulance would likely come to the scene</td>\n",
       "      <td>The taxi would pick up the young man</td>\n",
       "      <td>None of the above choices .</td>\n",
       "      <td>The bus would arrive at the stop soon</td>\n",
       "      <td>0</td>\n",
       "    </tr>\n",
       "    <tr>\n",
       "      <th>3</th>\n",
       "      <td>3AXFSPQOYQW4GFJD8K4D3JADN54FJ9##352YTHGROWB1DD...</td>\n",
       "      <td>I was walking home from the store , when I saw...</td>\n",
       "      <td>What may happen after the young man makes his ...</td>\n",
       "      <td>None of the above choices .</td>\n",
       "      <td>The bus would arrive at the stop soon</td>\n",
       "      <td>The taxi would pick up the young man</td>\n",
       "      <td>Medical personnel would come to help the old man</td>\n",
       "      <td>3</td>\n",
       "    </tr>\n",
       "    <tr>\n",
       "      <th>4</th>\n",
       "      <td>3AXFSPQOYQW4GFJD8K4D3JADN54FJ9##352YTHGROWB1DD...</td>\n",
       "      <td>I was walking home from the store , when I saw...</td>\n",
       "      <td>What may have happened to the old man ?</td>\n",
       "      <td>He was waiting on a ride</td>\n",
       "      <td>He likely fell on the sidewalk and hit his hea...</td>\n",
       "      <td>He was waiting on the taxi</td>\n",
       "      <td>None of the above choices .</td>\n",
       "      <td>1</td>\n",
       "    </tr>\n",
       "  </tbody>\n",
       "</table>\n",
       "</div>"
      ],
      "text/plain": [
       "                                                  id  \\\n",
       "0  3BFF0DJK8XA7YNK4QYIGCOG1A95STE##3180JW2OT5AF02...   \n",
       "1  3BFF0DJK8XA7YNK4QYIGCOG1A95STE##3180JW2OT5AF02...   \n",
       "2  3AXFSPQOYQW4GFJD8K4D3JADN54FJ9##352YTHGROWB1DD...   \n",
       "3  3AXFSPQOYQW4GFJD8K4D3JADN54FJ9##352YTHGROWB1DD...   \n",
       "4  3AXFSPQOYQW4GFJD8K4D3JADN54FJ9##352YTHGROWB1DD...   \n",
       "\n",
       "                                             context  \\\n",
       "0  Do i need to go for a legal divorce ? I wanted...   \n",
       "1  Do i need to go for a legal divorce ? I wanted...   \n",
       "2  I was walking home from the store , when I saw...   \n",
       "3  I was walking home from the store , when I saw...   \n",
       "4  I was walking home from the store , when I saw...   \n",
       "\n",
       "                                            question  \\\n",
       "0          Why is this person asking about divorce ?   \n",
       "1          Why is he worried about getting married ?   \n",
       "2  What may happen after the young man makes his ...   \n",
       "3  What may happen after the young man makes his ...   \n",
       "4            What may have happened to the old man ?   \n",
       "\n",
       "                                             answer0  \\\n",
       "0  If he gets married in the church he wo nt have...   \n",
       "1  He was married before and she might come back ...   \n",
       "2        An ambulance would likely come to the scene   \n",
       "3                        None of the above choices .   \n",
       "4                           He was waiting on a ride   \n",
       "\n",
       "                                             answer1  \\\n",
       "0    He wants to get married to a different person .   \n",
       "1  He wants the girl he is going to marry get in ...   \n",
       "2               The taxi would pick up the young man   \n",
       "3              The bus would arrive at the stop soon   \n",
       "4  He likely fell on the sidewalk and hit his hea...   \n",
       "\n",
       "                                             answer2  \\\n",
       "0  He wants to know if he does nt like this girl ...   \n",
       "1     He knows that he will be committing polygamy .   \n",
       "2                        None of the above choices .   \n",
       "3               The taxi would pick up the young man   \n",
       "4                         He was waiting on the taxi   \n",
       "\n",
       "                                            answer3  label  \n",
       "0                       None of the above choices .      1  \n",
       "1                       None of the above choices .      0  \n",
       "2             The bus would arrive at the stop soon      0  \n",
       "3  Medical personnel would come to help the old man      3  \n",
       "4                       None of the above choices .      1  "
      ]
     },
     "execution_count": 37,
     "metadata": {},
     "output_type": "execute_result"
    }
   ],
   "source": [
    "csqa = pd.read_csv(\"/datasets/CosmosQA/valid.csv\")\n",
    "print(len(csqa))\n",
    "csqa.head()"
   ]
  },
  {
   "cell_type": "code",
   "execution_count": 38,
   "metadata": {},
   "outputs": [],
   "source": [
    "let_to_digit_map = {\"A\": 0, \"B\": 1, \"C\": 2, \"D\": 3}"
   ]
  },
  {
   "cell_type": "code",
   "execution_count": 76,
   "metadata": {},
   "outputs": [
    {
     "name": "stdout",
     "output_type": "stream",
     "text": [
      "2985\n"
     ]
    },
    {
     "ename": "NameError",
     "evalue": "name 'let_to_digit_map' is not defined",
     "output_type": "error",
     "traceback": [
      "\u001b[0;31m---------------------------------------------------------------------------\u001b[0m",
      "\u001b[0;31mNameError\u001b[0m                                 Traceback (most recent call last)",
      "Cell \u001b[0;32mIn[76], line 3\u001b[0m\n\u001b[1;32m      1\u001b[0m csqa_bline \u001b[38;5;241m=\u001b[39m pd\u001b[38;5;241m.\u001b[39mread_csv(\u001b[38;5;124m\"\u001b[39m\u001b[38;5;124m/datasets/CosmosQA/results/bline2.csv\u001b[39m\u001b[38;5;124m\"\u001b[39m)\n\u001b[1;32m      2\u001b[0m \u001b[38;5;28mprint\u001b[39m(\u001b[38;5;28mlen\u001b[39m(csqa_bline))\n\u001b[0;32m----> 3\u001b[0m csqa_bline\u001b[38;5;241m.\u001b[39mModel \u001b[38;5;241m=\u001b[39m \u001b[43mcsqa_bline\u001b[49m\u001b[38;5;241;43m.\u001b[39;49m\u001b[43mapply\u001b[49m\u001b[43m(\u001b[49m\u001b[38;5;28;43;01mlambda\u001b[39;49;00m\u001b[43m \u001b[49m\u001b[43mt\u001b[49m\u001b[43m:\u001b[49m\u001b[43m \u001b[49m\u001b[43mlet_to_digit_map\u001b[49m\u001b[43m[\u001b[49m\u001b[43mt\u001b[49m\u001b[38;5;241;43m.\u001b[39;49m\u001b[43mModel\u001b[49m\u001b[43m[\u001b[49m\u001b[38;5;241;43m0\u001b[39;49m\u001b[43m]\u001b[49m\u001b[43m]\u001b[49m\u001b[43m,\u001b[49m\u001b[43m \u001b[49m\u001b[43maxis\u001b[49m\u001b[38;5;241;43m=\u001b[39;49m\u001b[38;5;241;43m1\u001b[39;49m\u001b[43m)\u001b[49m\n\u001b[1;32m      4\u001b[0m csqa\u001b[38;5;241m.\u001b[39minsert(\u001b[38;5;241m8\u001b[39m, \u001b[38;5;124m\"\u001b[39m\u001b[38;5;124mModel\u001b[39m\u001b[38;5;124m\"\u001b[39m, csqa_bline\u001b[38;5;241m.\u001b[39mModel)\n\u001b[1;32m      5\u001b[0m csqa\u001b[38;5;241m.\u001b[39mhead()\n",
      "File \u001b[0;32m/opt/conda/lib/python3.11/site-packages/pandas/core/frame.py:10374\u001b[0m, in \u001b[0;36mDataFrame.apply\u001b[0;34m(self, func, axis, raw, result_type, args, by_row, engine, engine_kwargs, **kwargs)\u001b[0m\n\u001b[1;32m  10360\u001b[0m \u001b[38;5;28;01mfrom\u001b[39;00m \u001b[38;5;21;01mpandas\u001b[39;00m\u001b[38;5;21;01m.\u001b[39;00m\u001b[38;5;21;01mcore\u001b[39;00m\u001b[38;5;21;01m.\u001b[39;00m\u001b[38;5;21;01mapply\u001b[39;00m \u001b[38;5;28;01mimport\u001b[39;00m frame_apply\n\u001b[1;32m  10362\u001b[0m op \u001b[38;5;241m=\u001b[39m frame_apply(\n\u001b[1;32m  10363\u001b[0m     \u001b[38;5;28mself\u001b[39m,\n\u001b[1;32m  10364\u001b[0m     func\u001b[38;5;241m=\u001b[39mfunc,\n\u001b[0;32m   (...)\u001b[0m\n\u001b[1;32m  10372\u001b[0m     kwargs\u001b[38;5;241m=\u001b[39mkwargs,\n\u001b[1;32m  10373\u001b[0m )\n\u001b[0;32m> 10374\u001b[0m \u001b[38;5;28;01mreturn\u001b[39;00m \u001b[43mop\u001b[49m\u001b[38;5;241;43m.\u001b[39;49m\u001b[43mapply\u001b[49m\u001b[43m(\u001b[49m\u001b[43m)\u001b[49m\u001b[38;5;241m.\u001b[39m__finalize__(\u001b[38;5;28mself\u001b[39m, method\u001b[38;5;241m=\u001b[39m\u001b[38;5;124m\"\u001b[39m\u001b[38;5;124mapply\u001b[39m\u001b[38;5;124m\"\u001b[39m)\n",
      "File \u001b[0;32m/opt/conda/lib/python3.11/site-packages/pandas/core/apply.py:916\u001b[0m, in \u001b[0;36mFrameApply.apply\u001b[0;34m(self)\u001b[0m\n\u001b[1;32m    913\u001b[0m \u001b[38;5;28;01melif\u001b[39;00m \u001b[38;5;28mself\u001b[39m\u001b[38;5;241m.\u001b[39mraw:\n\u001b[1;32m    914\u001b[0m     \u001b[38;5;28;01mreturn\u001b[39;00m \u001b[38;5;28mself\u001b[39m\u001b[38;5;241m.\u001b[39mapply_raw(engine\u001b[38;5;241m=\u001b[39m\u001b[38;5;28mself\u001b[39m\u001b[38;5;241m.\u001b[39mengine, engine_kwargs\u001b[38;5;241m=\u001b[39m\u001b[38;5;28mself\u001b[39m\u001b[38;5;241m.\u001b[39mengine_kwargs)\n\u001b[0;32m--> 916\u001b[0m \u001b[38;5;28;01mreturn\u001b[39;00m \u001b[38;5;28;43mself\u001b[39;49m\u001b[38;5;241;43m.\u001b[39;49m\u001b[43mapply_standard\u001b[49m\u001b[43m(\u001b[49m\u001b[43m)\u001b[49m\n",
      "File \u001b[0;32m/opt/conda/lib/python3.11/site-packages/pandas/core/apply.py:1063\u001b[0m, in \u001b[0;36mFrameApply.apply_standard\u001b[0;34m(self)\u001b[0m\n\u001b[1;32m   1061\u001b[0m \u001b[38;5;28;01mdef\u001b[39;00m \u001b[38;5;21mapply_standard\u001b[39m(\u001b[38;5;28mself\u001b[39m):\n\u001b[1;32m   1062\u001b[0m     \u001b[38;5;28;01mif\u001b[39;00m \u001b[38;5;28mself\u001b[39m\u001b[38;5;241m.\u001b[39mengine \u001b[38;5;241m==\u001b[39m \u001b[38;5;124m\"\u001b[39m\u001b[38;5;124mpython\u001b[39m\u001b[38;5;124m\"\u001b[39m:\n\u001b[0;32m-> 1063\u001b[0m         results, res_index \u001b[38;5;241m=\u001b[39m \u001b[38;5;28;43mself\u001b[39;49m\u001b[38;5;241;43m.\u001b[39;49m\u001b[43mapply_series_generator\u001b[49m\u001b[43m(\u001b[49m\u001b[43m)\u001b[49m\n\u001b[1;32m   1064\u001b[0m     \u001b[38;5;28;01melse\u001b[39;00m:\n\u001b[1;32m   1065\u001b[0m         results, res_index \u001b[38;5;241m=\u001b[39m \u001b[38;5;28mself\u001b[39m\u001b[38;5;241m.\u001b[39mapply_series_numba()\n",
      "File \u001b[0;32m/opt/conda/lib/python3.11/site-packages/pandas/core/apply.py:1081\u001b[0m, in \u001b[0;36mFrameApply.apply_series_generator\u001b[0;34m(self)\u001b[0m\n\u001b[1;32m   1078\u001b[0m \u001b[38;5;28;01mwith\u001b[39;00m option_context(\u001b[38;5;124m\"\u001b[39m\u001b[38;5;124mmode.chained_assignment\u001b[39m\u001b[38;5;124m\"\u001b[39m, \u001b[38;5;28;01mNone\u001b[39;00m):\n\u001b[1;32m   1079\u001b[0m     \u001b[38;5;28;01mfor\u001b[39;00m i, v \u001b[38;5;129;01min\u001b[39;00m \u001b[38;5;28menumerate\u001b[39m(series_gen):\n\u001b[1;32m   1080\u001b[0m         \u001b[38;5;66;03m# ignore SettingWithCopy here in case the user mutates\u001b[39;00m\n\u001b[0;32m-> 1081\u001b[0m         results[i] \u001b[38;5;241m=\u001b[39m \u001b[38;5;28;43mself\u001b[39;49m\u001b[38;5;241;43m.\u001b[39;49m\u001b[43mfunc\u001b[49m\u001b[43m(\u001b[49m\u001b[43mv\u001b[49m\u001b[43m,\u001b[49m\u001b[43m \u001b[49m\u001b[38;5;241;43m*\u001b[39;49m\u001b[38;5;28;43mself\u001b[39;49m\u001b[38;5;241;43m.\u001b[39;49m\u001b[43margs\u001b[49m\u001b[43m,\u001b[49m\u001b[43m \u001b[49m\u001b[38;5;241;43m*\u001b[39;49m\u001b[38;5;241;43m*\u001b[39;49m\u001b[38;5;28;43mself\u001b[39;49m\u001b[38;5;241;43m.\u001b[39;49m\u001b[43mkwargs\u001b[49m\u001b[43m)\u001b[49m\n\u001b[1;32m   1082\u001b[0m         \u001b[38;5;28;01mif\u001b[39;00m \u001b[38;5;28misinstance\u001b[39m(results[i], ABCSeries):\n\u001b[1;32m   1083\u001b[0m             \u001b[38;5;66;03m# If we have a view on v, we need to make a copy because\u001b[39;00m\n\u001b[1;32m   1084\u001b[0m             \u001b[38;5;66;03m#  series_generator will swap out the underlying data\u001b[39;00m\n\u001b[1;32m   1085\u001b[0m             results[i] \u001b[38;5;241m=\u001b[39m results[i]\u001b[38;5;241m.\u001b[39mcopy(deep\u001b[38;5;241m=\u001b[39m\u001b[38;5;28;01mFalse\u001b[39;00m)\n",
      "Cell \u001b[0;32mIn[76], line 3\u001b[0m, in \u001b[0;36m<lambda>\u001b[0;34m(t)\u001b[0m\n\u001b[1;32m      1\u001b[0m csqa_bline \u001b[38;5;241m=\u001b[39m pd\u001b[38;5;241m.\u001b[39mread_csv(\u001b[38;5;124m\"\u001b[39m\u001b[38;5;124m/datasets/CosmosQA/results/bline2.csv\u001b[39m\u001b[38;5;124m\"\u001b[39m)\n\u001b[1;32m      2\u001b[0m \u001b[38;5;28mprint\u001b[39m(\u001b[38;5;28mlen\u001b[39m(csqa_bline))\n\u001b[0;32m----> 3\u001b[0m csqa_bline\u001b[38;5;241m.\u001b[39mModel \u001b[38;5;241m=\u001b[39m csqa_bline\u001b[38;5;241m.\u001b[39mapply(\u001b[38;5;28;01mlambda\u001b[39;00m t: \u001b[43mlet_to_digit_map\u001b[49m[t\u001b[38;5;241m.\u001b[39mModel[\u001b[38;5;241m0\u001b[39m]], axis\u001b[38;5;241m=\u001b[39m\u001b[38;5;241m1\u001b[39m)\n\u001b[1;32m      4\u001b[0m csqa\u001b[38;5;241m.\u001b[39minsert(\u001b[38;5;241m8\u001b[39m, \u001b[38;5;124m\"\u001b[39m\u001b[38;5;124mModel\u001b[39m\u001b[38;5;124m\"\u001b[39m, csqa_bline\u001b[38;5;241m.\u001b[39mModel)\n\u001b[1;32m      5\u001b[0m csqa\u001b[38;5;241m.\u001b[39mhead()\n",
      "\u001b[0;31mNameError\u001b[0m: name 'let_to_digit_map' is not defined"
     ]
    }
   ],
   "source": [
    "csqa_bline = pd.read_csv(\"/datasets/CosmosQA/results/bline2.csv\")\n",
    "print(len(csqa_bline))\n",
    "csqa_bline.Model = csqa_bline.apply(lambda t: let_to_digit_map[t.Model[0]], axis=1)\n",
    "csqa.insert(8, \"Model\", csqa_bline.Model)\n",
    "csqa.head()"
   ]
  },
  {
   "cell_type": "code",
   "execution_count": 40,
   "metadata": {},
   "outputs": [
    {
     "data": {
      "text/html": [
       "<div>\n",
       "<style scoped>\n",
       "    .dataframe tbody tr th:only-of-type {\n",
       "        vertical-align: middle;\n",
       "    }\n",
       "\n",
       "    .dataframe tbody tr th {\n",
       "        vertical-align: top;\n",
       "    }\n",
       "\n",
       "    .dataframe thead th {\n",
       "        text-align: right;\n",
       "    }\n",
       "</style>\n",
       "<table border=\"1\" class=\"dataframe\">\n",
       "  <thead>\n",
       "    <tr style=\"text-align: right;\">\n",
       "      <th></th>\n",
       "      <th>id</th>\n",
       "      <th>context</th>\n",
       "      <th>question</th>\n",
       "      <th>answer0</th>\n",
       "      <th>answer1</th>\n",
       "      <th>answer2</th>\n",
       "      <th>answer3</th>\n",
       "      <th>label</th>\n",
       "      <th>Model</th>\n",
       "      <th>Correct</th>\n",
       "    </tr>\n",
       "  </thead>\n",
       "  <tbody>\n",
       "    <tr>\n",
       "      <th>0</th>\n",
       "      <td>3BFF0DJK8XA7YNK4QYIGCOG1A95STE##3180JW2OT5AF02...</td>\n",
       "      <td>Do i need to go for a legal divorce ? I wanted...</td>\n",
       "      <td>Why is this person asking about divorce ?</td>\n",
       "      <td>If he gets married in the church he wo nt have...</td>\n",
       "      <td>He wants to get married to a different person .</td>\n",
       "      <td>He wants to know if he does nt like this girl ...</td>\n",
       "      <td>None of the above choices .</td>\n",
       "      <td>1</td>\n",
       "      <td>1</td>\n",
       "      <td>True</td>\n",
       "    </tr>\n",
       "    <tr>\n",
       "      <th>1</th>\n",
       "      <td>3BFF0DJK8XA7YNK4QYIGCOG1A95STE##3180JW2OT5AF02...</td>\n",
       "      <td>Do i need to go for a legal divorce ? I wanted...</td>\n",
       "      <td>Why is he worried about getting married ?</td>\n",
       "      <td>He was married before and she might come back ...</td>\n",
       "      <td>He wants the girl he is going to marry get in ...</td>\n",
       "      <td>He knows that he will be committing polygamy .</td>\n",
       "      <td>None of the above choices .</td>\n",
       "      <td>0</td>\n",
       "      <td>2</td>\n",
       "      <td>False</td>\n",
       "    </tr>\n",
       "    <tr>\n",
       "      <th>2</th>\n",
       "      <td>3AXFSPQOYQW4GFJD8K4D3JADN54FJ9##352YTHGROWB1DD...</td>\n",
       "      <td>I was walking home from the store , when I saw...</td>\n",
       "      <td>What may happen after the young man makes his ...</td>\n",
       "      <td>An ambulance would likely come to the scene</td>\n",
       "      <td>The taxi would pick up the young man</td>\n",
       "      <td>None of the above choices .</td>\n",
       "      <td>The bus would arrive at the stop soon</td>\n",
       "      <td>0</td>\n",
       "      <td>0</td>\n",
       "      <td>True</td>\n",
       "    </tr>\n",
       "    <tr>\n",
       "      <th>3</th>\n",
       "      <td>3AXFSPQOYQW4GFJD8K4D3JADN54FJ9##352YTHGROWB1DD...</td>\n",
       "      <td>I was walking home from the store , when I saw...</td>\n",
       "      <td>What may happen after the young man makes his ...</td>\n",
       "      <td>None of the above choices .</td>\n",
       "      <td>The bus would arrive at the stop soon</td>\n",
       "      <td>The taxi would pick up the young man</td>\n",
       "      <td>Medical personnel would come to help the old man</td>\n",
       "      <td>3</td>\n",
       "      <td>3</td>\n",
       "      <td>True</td>\n",
       "    </tr>\n",
       "    <tr>\n",
       "      <th>4</th>\n",
       "      <td>3AXFSPQOYQW4GFJD8K4D3JADN54FJ9##352YTHGROWB1DD...</td>\n",
       "      <td>I was walking home from the store , when I saw...</td>\n",
       "      <td>What may have happened to the old man ?</td>\n",
       "      <td>He was waiting on a ride</td>\n",
       "      <td>He likely fell on the sidewalk and hit his hea...</td>\n",
       "      <td>He was waiting on the taxi</td>\n",
       "      <td>None of the above choices .</td>\n",
       "      <td>1</td>\n",
       "      <td>1</td>\n",
       "      <td>True</td>\n",
       "    </tr>\n",
       "  </tbody>\n",
       "</table>\n",
       "</div>"
      ],
      "text/plain": [
       "                                                  id  \\\n",
       "0  3BFF0DJK8XA7YNK4QYIGCOG1A95STE##3180JW2OT5AF02...   \n",
       "1  3BFF0DJK8XA7YNK4QYIGCOG1A95STE##3180JW2OT5AF02...   \n",
       "2  3AXFSPQOYQW4GFJD8K4D3JADN54FJ9##352YTHGROWB1DD...   \n",
       "3  3AXFSPQOYQW4GFJD8K4D3JADN54FJ9##352YTHGROWB1DD...   \n",
       "4  3AXFSPQOYQW4GFJD8K4D3JADN54FJ9##352YTHGROWB1DD...   \n",
       "\n",
       "                                             context  \\\n",
       "0  Do i need to go for a legal divorce ? I wanted...   \n",
       "1  Do i need to go for a legal divorce ? I wanted...   \n",
       "2  I was walking home from the store , when I saw...   \n",
       "3  I was walking home from the store , when I saw...   \n",
       "4  I was walking home from the store , when I saw...   \n",
       "\n",
       "                                            question  \\\n",
       "0          Why is this person asking about divorce ?   \n",
       "1          Why is he worried about getting married ?   \n",
       "2  What may happen after the young man makes his ...   \n",
       "3  What may happen after the young man makes his ...   \n",
       "4            What may have happened to the old man ?   \n",
       "\n",
       "                                             answer0  \\\n",
       "0  If he gets married in the church he wo nt have...   \n",
       "1  He was married before and she might come back ...   \n",
       "2        An ambulance would likely come to the scene   \n",
       "3                        None of the above choices .   \n",
       "4                           He was waiting on a ride   \n",
       "\n",
       "                                             answer1  \\\n",
       "0    He wants to get married to a different person .   \n",
       "1  He wants the girl he is going to marry get in ...   \n",
       "2               The taxi would pick up the young man   \n",
       "3              The bus would arrive at the stop soon   \n",
       "4  He likely fell on the sidewalk and hit his hea...   \n",
       "\n",
       "                                             answer2  \\\n",
       "0  He wants to know if he does nt like this girl ...   \n",
       "1     He knows that he will be committing polygamy .   \n",
       "2                        None of the above choices .   \n",
       "3               The taxi would pick up the young man   \n",
       "4                         He was waiting on the taxi   \n",
       "\n",
       "                                            answer3  label  Model  Correct  \n",
       "0                       None of the above choices .      1      1     True  \n",
       "1                       None of the above choices .      0      2    False  \n",
       "2             The bus would arrive at the stop soon      0      0     True  \n",
       "3  Medical personnel would come to help the old man      3      3     True  \n",
       "4                       None of the above choices .      1      1     True  "
      ]
     },
     "execution_count": 40,
     "metadata": {},
     "output_type": "execute_result"
    }
   ],
   "source": [
    "csqa[\"Correct\"] = csqa.apply(lambda t: int(t.label) == int(t.Model), axis=1)\n",
    "csqa.head()"
   ]
  },
  {
   "cell_type": "code",
   "execution_count": 41,
   "metadata": {},
   "outputs": [
    {
     "name": "stdout",
     "output_type": "stream",
     "text": [
      "Baseline Accuracy: 0.677\n"
     ]
    }
   ],
   "source": [
    "print(\n",
    "    f\"Baseline Accuracy: {sum(csqa.Correct)/len(csqa):.3f}\"\n",
    ")"
   ]
  }
 ],
 "metadata": {
  "kernelspec": {
   "display_name": "Python 3 (ipykernel)",
   "language": "python",
   "name": "python3"
  }
 },
 "nbformat": 4,
 "nbformat_minor": 2
}
