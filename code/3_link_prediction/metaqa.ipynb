{
 "cells": [
  {
   "cell_type": "code",
   "execution_count": 10,
   "metadata": {},
   "outputs": [],
   "source": [
    "import pandas as pd\n",
    "import networkx as nx\n",
    "import heapq\n",
    "from utils.graph import KGraphPreproc\n",
    "from sentence_transformers import SentenceTransformer"
   ]
  },
  {
   "cell_type": "code",
   "execution_count": 11,
   "metadata": {},
   "outputs": [],
   "source": [
    "mqa_graph = KGraphPreproc.get_metaqa_graph()"
   ]
  },
  {
   "cell_type": "code",
   "execution_count": 12,
   "metadata": {},
   "outputs": [
    {
     "data": {
      "text/html": [
       "<div>\n",
       "<style scoped>\n",
       "    .dataframe tbody tr th:only-of-type {\n",
       "        vertical-align: middle;\n",
       "    }\n",
       "\n",
       "    .dataframe tbody tr th {\n",
       "        vertical-align: top;\n",
       "    }\n",
       "\n",
       "    .dataframe thead th {\n",
       "        text-align: right;\n",
       "    }\n",
       "</style>\n",
       "<table border=\"1\" class=\"dataframe\">\n",
       "  <thead>\n",
       "    <tr style=\"text-align: right;\">\n",
       "      <th></th>\n",
       "      <th>id</th>\n",
       "      <th>hop</th>\n",
       "      <th>Question</th>\n",
       "      <th>topic_entity</th>\n",
       "      <th>Answer</th>\n",
       "      <th>actual_hops</th>\n",
       "    </tr>\n",
       "  </thead>\n",
       "  <tbody>\n",
       "    <tr>\n",
       "      <th>0</th>\n",
       "      <td>1-0</td>\n",
       "      <td>1</td>\n",
       "      <td>what does [Grégoire Colin] appear in</td>\n",
       "      <td>Grégoire Colin</td>\n",
       "      <td>befor the rain</td>\n",
       "      <td>5</td>\n",
       "    </tr>\n",
       "  </tbody>\n",
       "</table>\n",
       "</div>"
      ],
      "text/plain": [
       "    id  hop                              Question    topic_entity  \\\n",
       "0  1-0    1  what does [Grégoire Colin] appear in  Grégoire Colin   \n",
       "\n",
       "           Answer  actual_hops  \n",
       "0  befor the rain            5  "
      ]
     },
     "execution_count": 12,
     "metadata": {},
     "output_type": "execute_result"
    }
   ],
   "source": [
    "mqa = pd.read_csv(\"/datasets/MetaQA/meta.csv\")\n",
    "mqa.head(1)"
   ]
  },
  {
   "cell_type": "code",
   "execution_count": 13,
   "metadata": {},
   "outputs": [],
   "source": [
    "mqa.dropna(inplace=True)\n",
    "# mqa[~mqa[\"Answer\"].apply(lambda e: e in mqa_graph.preprocessed_nodes)]"
   ]
  },
  {
   "cell_type": "code",
   "execution_count": 14,
   "metadata": {},
   "outputs": [],
   "source": [
    "mqa[\"chain\"] = mqa.apply(\n",
    "    lambda r: nx.shortest_path(\n",
    "        mqa_graph._graph,\n",
    "        mqa_graph.name2mid[r[\"topic_entity\"]],\n",
    "        mqa_graph.preprocessed_nodes[r.Answer]\n",
    "    ),\n",
    "    axis=1\n",
    ")"
   ]
  },
  {
   "cell_type": "code",
   "execution_count": 15,
   "metadata": {},
   "outputs": [
    {
     "data": {
      "text/plain": [
       "array([5, 2, 4, 7, 1, 6, 3, 8])"
      ]
     },
     "execution_count": 15,
     "metadata": {},
     "output_type": "execute_result"
    }
   ],
   "source": [
    "mqa[\"actual_hops\"].unique()"
   ]
  },
  {
   "cell_type": "code",
   "execution_count": 16,
   "metadata": {},
   "outputs": [
    {
     "data": {
      "text/html": [
       "<div>\n",
       "<style scoped>\n",
       "    .dataframe tbody tr th:only-of-type {\n",
       "        vertical-align: middle;\n",
       "    }\n",
       "\n",
       "    .dataframe tbody tr th {\n",
       "        vertical-align: top;\n",
       "    }\n",
       "\n",
       "    .dataframe thead th {\n",
       "        text-align: right;\n",
       "    }\n",
       "</style>\n",
       "<table border=\"1\" class=\"dataframe\">\n",
       "  <thead>\n",
       "    <tr style=\"text-align: right;\">\n",
       "      <th></th>\n",
       "      <th>id</th>\n",
       "      <th>hop</th>\n",
       "      <th>Question</th>\n",
       "      <th>topic_entity</th>\n",
       "      <th>Answer</th>\n",
       "      <th>actual_hops</th>\n",
       "      <th>chain</th>\n",
       "    </tr>\n",
       "  </thead>\n",
       "  <tbody>\n",
       "    <tr>\n",
       "      <th>0</th>\n",
       "      <td>1-0</td>\n",
       "      <td>1</td>\n",
       "      <td>what does [Grégoire Colin] appear in</td>\n",
       "      <td>Grégoire Colin</td>\n",
       "      <td>befor the rain</td>\n",
       "      <td>5</td>\n",
       "      <td>[176, 173, 16, 540, 32794]</td>\n",
       "    </tr>\n",
       "    <tr>\n",
       "      <th>1</th>\n",
       "      <td>1-1</td>\n",
       "      <td>1</td>\n",
       "      <td>[Joe Thomas] appears in which movies</td>\n",
       "      <td>Joe Thomas</td>\n",
       "      <td>the inbetween 2</td>\n",
       "      <td>2</td>\n",
       "      <td>[20874, 20869]</td>\n",
       "    </tr>\n",
       "    <tr>\n",
       "      <th>2</th>\n",
       "      <td>1-1</td>\n",
       "      <td>1</td>\n",
       "      <td>[Joe Thomas] appears in which movies</td>\n",
       "      <td>Joe Thomas</td>\n",
       "      <td>the inbetween movi</td>\n",
       "      <td>2</td>\n",
       "      <td>[20874, 40449]</td>\n",
       "    </tr>\n",
       "    <tr>\n",
       "      <th>3</th>\n",
       "      <td>1-2</td>\n",
       "      <td>1</td>\n",
       "      <td>what films did [Michelle Trachtenberg] star in</td>\n",
       "      <td>Michelle Trachtenberg</td>\n",
       "      <td>black christma</td>\n",
       "      <td>2</td>\n",
       "      <td>[17337, 36835]</td>\n",
       "    </tr>\n",
       "    <tr>\n",
       "      <th>4</th>\n",
       "      <td>1-2</td>\n",
       "      <td>1</td>\n",
       "      <td>what films did [Michelle Trachtenberg] star in</td>\n",
       "      <td>Michelle Trachtenberg</td>\n",
       "      <td>the scribbler</td>\n",
       "      <td>2</td>\n",
       "      <td>[17337, 21532]</td>\n",
       "    </tr>\n",
       "  </tbody>\n",
       "</table>\n",
       "</div>"
      ],
      "text/plain": [
       "    id  hop                                        Question  \\\n",
       "0  1-0    1            what does [Grégoire Colin] appear in   \n",
       "1  1-1    1            [Joe Thomas] appears in which movies   \n",
       "2  1-1    1            [Joe Thomas] appears in which movies   \n",
       "3  1-2    1  what films did [Michelle Trachtenberg] star in   \n",
       "4  1-2    1  what films did [Michelle Trachtenberg] star in   \n",
       "\n",
       "            topic_entity              Answer  actual_hops  \\\n",
       "0         Grégoire Colin      befor the rain            5   \n",
       "1             Joe Thomas     the inbetween 2            2   \n",
       "2             Joe Thomas  the inbetween movi            2   \n",
       "3  Michelle Trachtenberg      black christma            2   \n",
       "4  Michelle Trachtenberg       the scribbler            2   \n",
       "\n",
       "                        chain  \n",
       "0  [176, 173, 16, 540, 32794]  \n",
       "1              [20874, 20869]  \n",
       "2              [20874, 40449]  \n",
       "3              [17337, 36835]  \n",
       "4              [17337, 21532]  "
      ]
     },
     "execution_count": 16,
     "metadata": {},
     "output_type": "execute_result"
    }
   ],
   "source": [
    "mqa.head()"
   ]
  },
  {
   "cell_type": "code",
   "execution_count": 8,
   "metadata": {},
   "outputs": [
    {
     "data": {
      "text/plain": [
       "'Grégoire Colin;starred_actors;Before the Rain;has_genre;War;release_year;2007;release_year;Before the Rains'"
      ]
     },
     "execution_count": 8,
     "metadata": {},
     "output_type": "execute_result"
    }
   ],
   "source": [
    "def generate_inferential_chain(nodes):\n",
    "    chain = f\"{mqa_graph.mid2name[nodes[0]]}\"\n",
    "    for u,v in zip(nodes, nodes[1:]):\n",
    "        tail = mqa_graph.mid2name[v]\n",
    "        rel = mqa_graph._graph[u][v][\"relation\"]\n",
    "        chain += f\";{rel};{tail}\"\n",
    "    return chain\n",
    "\n",
    "generate_inferential_chain(mqa.iloc[0][\"chain\"])"
   ]
  },
  {
   "cell_type": "markdown",
   "metadata": {},
   "source": [
    "### 1. Generate a small sample subset to verify predictions\n",
    "group by hops and get 10% of each. \n",
    "\n",
    "Setting the 42 seed for reproducibility"
   ]
  },
  {
   "cell_type": "code",
   "execution_count": 17,
   "metadata": {},
   "outputs": [
    {
     "name": "stderr",
     "output_type": "stream",
     "text": [
      "/tmp/ipykernel_3123/1302853177.py:1: DeprecationWarning: DataFrameGroupBy.apply operated on the grouping columns. This behavior is deprecated, and in a future version of pandas the grouping columns will be excluded from the operation. Either pass `include_groups=False` to exclude the groupings or explicitly select the grouping columns after groupby to silence this warning.\n",
      "  mqa_subset = mqa.groupby(\"hop\", group_keys=False).apply(lambda x: x.sample(n=1000, random_state=42))\n"
     ]
    },
    {
     "data": {
      "text/plain": [
       "3000"
      ]
     },
     "execution_count": 17,
     "metadata": {},
     "output_type": "execute_result"
    }
   ],
   "source": [
    "mqa_subset = mqa.groupby(\"hop\", group_keys=False).apply(lambda x: x.sample(n=1000, random_state=42))\n",
    "mqa_subset.reset_index(inplace=True)\n",
    "len(mqa_subset)"
   ]
  },
  {
   "cell_type": "code",
   "execution_count": 18,
   "metadata": {},
   "outputs": [],
   "source": [
    "from transformers import AutoModelForCausalLM, AutoTokenizer\n",
    "import torch\n",
    "device = torch.device(\"cuda:1\")\n",
    "torch.cuda.set_device(device)\n",
    "torch.set_default_device(device)\n",
    "import os\n",
    "import threading\n",
    "import queue\n",
    "import time\n",
    "from tqdm import tqdm\n",
    "import gc\n",
    "import csv\n",
    "\n",
    "os.environ[\"HF_HOME\"] = \"/models\"\n",
    "os.environ[\"TRANSFORMERS_CACHE\"] = \"/models\""
   ]
  },
  {
   "cell_type": "code",
   "execution_count": 11,
   "metadata": {},
   "outputs": [],
   "source": [
    "def create_model_instance():\n",
    "    model_name = \"Qwen/Qwen2.5-0.5B-Instruct\"\n",
    "    model = AutoModelForCausalLM.from_pretrained(model_name, torch_dtype=\"auto\")\n",
    "    model = model.to(\"cuda:1\")\n",
    "    tokenizer = AutoTokenizer.from_pretrained(model_name)\n",
    "    def get_response(prompt, temperature=0.15):\n",
    "        inputs = tokenizer(prompt, return_tensors=\"pt\", return_attention_mask=False)\n",
    "        outputs = model.generate(**inputs, max_length=400, temperature=temperature)\n",
    "        text = tokenizer.batch_decode(outputs[:, inputs[\"input_ids\"].shape[1]:])[0]\n",
    "        return text\n",
    "    return tokenizer, model, get_response\n"
   ]
  },
  {
   "cell_type": "code",
   "execution_count": 12,
   "metadata": {},
   "outputs": [],
   "source": [
    "def save_results(fpath, data_rows):\n",
    "    with open(fpath, \"w\") as f:\n",
    "        writer = csv.writer(f)\n",
    "        writer.writerow([\"Model\"])\n",
    "        for r in data_rows:\n",
    "            writer.writerow([str(r)])"
   ]
  },
  {
   "cell_type": "code",
   "execution_count": 19,
   "metadata": {},
   "outputs": [],
   "source": [
    "def clear_cache():\n",
    "    gc.collect()\n",
    "    torch.cuda.empty_cache()"
   ]
  },
  {
   "cell_type": "markdown",
   "metadata": {},
   "source": [
    "### 2. Generate edge predictions\n"
   ]
  },
  {
   "cell_type": "code",
   "execution_count": null,
   "metadata": {},
   "outputs": [],
   "source": [
    "predict_link_prompt = '''\n",
    "You are an expert in knowledge graphs and natural language understanding. Your task is to help explore relevant relationships from given topic entities that can aid in answering a question.\n",
    "Instructions:\n",
    "Input: You will be provided with a natural language question and a list of topic entities extracted from that question.\n",
    "Objective: Analyze the question to understand its context and what information might be needed to answer it. Then, generate a list of 5 candidate relationship labels (i.e., edge types) that could be used to navigate a knowledge graph starting from each entity.\n",
    "Requirements:\n",
    "Relevance: The candidate relationship labels must be pertinent to the context of the question.\n",
    "Conciseness: Provide a brief description (1–2 sentences) of why each relationship label might help answer the question.\n",
    "Format: Return your answer as a numbered list in the following format: 1. (Entity; Relationship label; Reason)\n",
    "Do not produce any other text.\n",
    "\n",
    "Question: “What awards has Albert Einstein received?”\n",
    "Topic Entities: Albert Einstein;\n",
    "Candidate relationship labels (2 items):\n",
    "1. (Albert Einstein; awardReceived; Connects a person to the awards they have received.)\n",
    "2. (Albert Einstein; honorificAward; Links individuals to awards given in honor of their achievements.)\n",
    "\n",
    "Question: “{question}”\n",
    "Topic Entities: {entities}\n",
    "Candidate relationship labels (5 items):\n",
    "'''\n",
    "# .format(question=q, entities=\"; \".join(e[::-1]))"
   ]
  },
  {
   "cell_type": "code",
   "execution_count": 20,
   "metadata": {},
   "outputs": [],
   "source": [
    "res_path = \"/datasets/MetaQA/results/link_prediction.csv\""
   ]
  },
  {
   "cell_type": "code",
   "execution_count": null,
   "metadata": {},
   "outputs": [
    {
     "name": "stdout",
     "output_type": "stream",
     "text": [
      "model ready\n"
     ]
    },
    {
     "name": "stderr",
     "output_type": "stream",
     "text": [
      "3000it [31:29,  1.59it/s]\n"
     ]
    }
   ],
   "source": [
    "clear_cache()\n",
    "tokenizer, model, get_response = create_model_instance()\n",
    "print(\"model ready\")\n",
    "\n",
    "results = []\n",
    "res_path = \"/datasets/MetaQA/results/link_prediction.csv\"\n",
    "l = 0\n",
    "# load if preinit'ed\n",
    "if os.path.isfile(res_path):\n",
    "    r_df = pd.read_csv(res_path)\n",
    "    l = len(r_df)\n",
    "    results = list(r_df.Model.values)\n",
    "\n",
    "\n",
    "for i, r in tqdm(mqa_subset.iterrows()):\n",
    "    if i < l:\n",
    "        continue\n",
    "    q_id = r[\"id\"]\n",
    "    entities = \"; \".join([r[\"topic_entity\"]])\n",
    "    question = r.Question\n",
    "    prompt = predict_link_prompt.format(\n",
    "        question=question, entities=entities\n",
    "    )\n",
    "    response = get_response(prompt)\n",
    "    results.append((\n",
    "        q_id, response\n",
    "    ))\n",
    "    if i % 10 == 0:\n",
    "        save_results(res_path, results)\n",
    "save_results(res_path, results)\n",
    "    \n"
   ]
  },
  {
   "cell_type": "markdown",
   "metadata": {},
   "source": [
    "### 3. Verify relation predictions\n",
    "for each transition -> fetch the entire set of rel edges -> compare similarity with the correct one"
   ]
  },
  {
   "cell_type": "code",
   "execution_count": 15,
   "metadata": {},
   "outputs": [],
   "source": [
    "model = SentenceTransformer(\"all-MiniLM-L6-v2\")\n",
    "embed_sbert = lambda q: model.encode(q)\n",
    "sbert_cache_path = \"/datasets/MetaQA/cache/sbert.csv\""
   ]
  },
  {
   "cell_type": "code",
   "execution_count": 16,
   "metadata": {},
   "outputs": [
    {
     "name": "stdout",
     "output_type": "stream",
     "text": [
      "Checking embedding cache\n",
      "Loading embedding cache\n"
     ]
    },
    {
     "name": "stderr",
     "output_type": "stream",
     "text": [
      "124680it [02:13, 932.13it/s]\n"
     ]
    }
   ],
   "source": [
    "mqa_graph.embed_triplets(embedding_function=embed_sbert, cache_path=sbert_cache_path)"
   ]
  },
  {
   "cell_type": "code",
   "execution_count": 23,
   "metadata": {},
   "outputs": [],
   "source": [
    "import re\n",
    "regex_mqa_topic_entity = re.compile(\"\\[(.*?)\\]\")\n",
    "def extract_rel_answer(answer_string, group=0):\n",
    "    pattern = re.compile(\"\\d+\\.\\s*\\(([^;]+);\\s*([^;]+);\\s*(.+?)\\)\")\n",
    "    pos = 0\n",
    "    rels = []\n",
    "    while m := pattern.search(answer_string, pos):\n",
    "        pos = m.start() + 1\n",
    "        entity, rel, reason = m[group].split(\";\")[:3]\n",
    "        rels.append(rel.strip())\n",
    "    return rels[:5]"
   ]
  },
  {
   "cell_type": "code",
   "execution_count": 21,
   "metadata": {},
   "outputs": [],
   "source": [
    "import ast"
   ]
  },
  {
   "cell_type": "code",
   "execution_count": 25,
   "metadata": {},
   "outputs": [
    {
     "data": {
      "text/html": [
       "<div>\n",
       "<style scoped>\n",
       "    .dataframe tbody tr th:only-of-type {\n",
       "        vertical-align: middle;\n",
       "    }\n",
       "\n",
       "    .dataframe tbody tr th {\n",
       "        vertical-align: top;\n",
       "    }\n",
       "\n",
       "    .dataframe thead th {\n",
       "        text-align: right;\n",
       "    }\n",
       "</style>\n",
       "<table border=\"1\" class=\"dataframe\">\n",
       "  <thead>\n",
       "    <tr style=\"text-align: right;\">\n",
       "      <th></th>\n",
       "      <th>id</th>\n",
       "      <th>pred_rels</th>\n",
       "    </tr>\n",
       "  </thead>\n",
       "  <tbody>\n",
       "    <tr>\n",
       "      <th>0</th>\n",
       "      <td>1-1156</td>\n",
       "      <td>filmDirector;awardReceived;movie;awardReceived...</td>\n",
       "    </tr>\n",
       "    <tr>\n",
       "      <th>1</th>\n",
       "      <td>1-3193</td>\n",
       "      <td>directorOf;writerOf;producerOf</td>\n",
       "    </tr>\n",
       "    <tr>\n",
       "      <th>2</th>\n",
       "      <td>1-2772</td>\n",
       "      <td>director;genre;actor;screenplaywriter;cinemato...</td>\n",
       "    </tr>\n",
       "    <tr>\n",
       "      <th>3</th>\n",
       "      <td>1-169</td>\n",
       "      <td>starredIn;film;role;actor;film</td>\n",
       "    </tr>\n",
       "    <tr>\n",
       "      <th>4</th>\n",
       "      <td>1-1740</td>\n",
       "      <td>starredBy;directorOf;writerOf;producerOf;castM...</td>\n",
       "    </tr>\n",
       "  </tbody>\n",
       "</table>\n",
       "</div>"
      ],
      "text/plain": [
       "       id                                          pred_rels\n",
       "0  1-1156  filmDirector;awardReceived;movie;awardReceived...\n",
       "1  1-3193                     directorOf;writerOf;producerOf\n",
       "2  1-2772  director;genre;actor;screenplaywriter;cinemato...\n",
       "3   1-169                     starredIn;film;role;actor;film\n",
       "4  1-1740  starredBy;directorOf;writerOf;producerOf;castM..."
      ]
     },
     "execution_count": 25,
     "metadata": {},
     "output_type": "execute_result"
    }
   ],
   "source": [
    "pred_links = pd.read_csv(res_path)\n",
    "pred_links.Model = pred_links.Model.apply(ast.literal_eval)\n",
    "pred_links[[\"id\", \"pred_rels\"]] = pred_links.Model.to_list()\n",
    "pred_links.drop(columns=[\"Model\"], inplace=True)\n",
    "pred_links[\"pred_rels\"] = pred_links[\"pred_rels\"].apply(extract_rel_answer)\n",
    "pred_links[\"pred_rels\"] = pred_links[\"pred_rels\"].apply(lambda t: \";\".join(t))\n",
    "# pred_links[\"pred_emb\"] = pred_links[\"pred_rels\"].apply(embed_sbert)\n",
    "pred_links.head()"
   ]
  },
  {
   "cell_type": "code",
   "execution_count": 26,
   "metadata": {},
   "outputs": [
    {
     "data": {
      "text/html": [
       "<div>\n",
       "<style scoped>\n",
       "    .dataframe tbody tr th:only-of-type {\n",
       "        vertical-align: middle;\n",
       "    }\n",
       "\n",
       "    .dataframe tbody tr th {\n",
       "        vertical-align: top;\n",
       "    }\n",
       "\n",
       "    .dataframe thead th {\n",
       "        text-align: right;\n",
       "    }\n",
       "</style>\n",
       "<table border=\"1\" class=\"dataframe\">\n",
       "  <thead>\n",
       "    <tr style=\"text-align: right;\">\n",
       "      <th></th>\n",
       "      <th>id</th>\n",
       "      <th>pred_rels</th>\n",
       "      <th>index</th>\n",
       "      <th>hop</th>\n",
       "      <th>Question</th>\n",
       "      <th>topic_entity</th>\n",
       "      <th>Answer</th>\n",
       "      <th>actual_hops</th>\n",
       "      <th>chain</th>\n",
       "    </tr>\n",
       "  </thead>\n",
       "  <tbody>\n",
       "    <tr>\n",
       "      <th>0</th>\n",
       "      <td>1-1156</td>\n",
       "      <td>filmDirector;awardReceived;movie;awardReceived...</td>\n",
       "      <td>3486</td>\n",
       "      <td>1</td>\n",
       "      <td>[Phil Joanou] was the director of which movies</td>\n",
       "      <td>Phil Joanou</td>\n",
       "      <td>heaven s prison</td>\n",
       "      <td>2</td>\n",
       "      <td>[5040, 14099]</td>\n",
       "    </tr>\n",
       "  </tbody>\n",
       "</table>\n",
       "</div>"
      ],
      "text/plain": [
       "       id                                          pred_rels  index  hop  \\\n",
       "0  1-1156  filmDirector;awardReceived;movie;awardReceived...   3486    1   \n",
       "\n",
       "                                         Question topic_entity  \\\n",
       "0  [Phil Joanou] was the director of which movies  Phil Joanou   \n",
       "\n",
       "            Answer  actual_hops          chain  \n",
       "0  heaven s prison            2  [5040, 14099]  "
      ]
     },
     "execution_count": 26,
     "metadata": {},
     "output_type": "execute_result"
    }
   ],
   "source": [
    "link_df = pred_links.merge(mqa_subset, on=\"id\").drop_duplicates(\"id\")\n",
    "link_df.head(1)"
   ]
  },
  {
   "cell_type": "code",
   "execution_count": 70,
   "metadata": {},
   "outputs": [],
   "source": [
    "def get_retrieved_position(entry):\n",
    "    \"\"\"\n",
    "    \n",
    "    \"\"\"\n",
    "    start = entry[\"chain\"][0]\n",
    "    target = entry[\"chain\"][1]\n",
    "    cand_emb = entry[\"pred_emb\"]\n",
    "    links = []\n",
    "    for link in mqa_graph._graph[start].values():\n",
    "        score = model.similarity(link.get(\"embedding\", []), cand_emb)\n",
    "        heapq.heappush(links, (score, link.get(\"relation\")))\n",
    "    actual_link = mqa_graph._graph[start][target][\"relation\"]\n",
    "    top_links = heapq.nlargest(len(links), links)\n",
    "    for idx, (score, link) in enumerate(top_links):\n",
    "        if link == actual_link:\n",
    "            return idx\n",
    "    return -1"
   ]
  },
  {
   "cell_type": "code",
   "execution_count": 71,
   "metadata": {},
   "outputs": [],
   "source": [
    "link_df[\"retr_pos\"] = link_df.apply(get_retrieved_position, axis=1)"
   ]
  },
  {
   "cell_type": "code",
   "execution_count": 72,
   "metadata": {},
   "outputs": [
    {
     "data": {
      "text/plain": [
       "<Axes: title={'center': 'Position of correct edge in reranking based on LLM-predicted candidates'}, xlabel='Retrieved position', ylabel='Frequency'>"
      ]
     },
     "execution_count": 72,
     "metadata": {},
     "output_type": "execute_result"
    },
    {
     "data": {
      "image/png": "[encoded data removed]",
      "text/plain": [
       "<Figure size 640x480 with 1 Axes>"
      ]
     },
     "metadata": {},
     "output_type": "display_data"
    }
   ],
   "source": [
    "link_df[\"retr_pos\"].plot.hist(xlabel=\"Retrieved position\", title=\"Position of correct edge in reranking based on LLM-predicted candidates\", grid=True)"
   ]
  },
  {
   "cell_type": "code",
   "execution_count": 73,
   "metadata": {},
   "outputs": [
    {
     "data": {
      "text/plain": [
       "<Axes: xlabel='rank', ylabel='% of correct edges retrieved'>"
      ]
     },
     "execution_count": 73,
     "metadata": {},
     "output_type": "execute_result"
    },
    {
     "data": {
      "image/png": "[encoded data removed]",
      "text/plain": [
       "<Figure size 640x480 with 1 Axes>"
      ]
     },
     "metadata": {},
     "output_type": "display_data"
    }
   ],
   "source": [
    "counts = link_df[\"retr_pos\"].value_counts().sort_index()\n",
    "cumsums = counts.cumsum()\n",
    "cumsums = cumsums.to_frame()\n",
    "cumsums[\"count\"] = cumsums[\"count\"]/link_df.shape[0]\n",
    "c = ['red' if i==5 else 'blue' for i in cumsums.index]\n",
    "# cumsums\n",
    "cumsums[\"count\"].plot.bar(grid=True, color=c, alpha=0.7, ylim=(0,1), ylabel=\"% of correct edges retrieved\", xlabel=\"rank\")"
   ]
  },
  {
   "cell_type": "markdown",
   "metadata": {},
   "source": [
    "### **Use Recall@1/5/10 to quantify**"
   ]
  },
  {
   "cell_type": "markdown",
   "metadata": {},
   "source": [
    "### 4. Generate tail entity predictions"
   ]
  },
  {
   "cell_type": "markdown",
   "metadata": {},
   "source": [
    "Simply sort them by embedding similarity"
   ]
  },
  {
   "cell_type": "code",
   "execution_count": 27,
   "metadata": {},
   "outputs": [],
   "source": [
    "def get_tails(node, edge):\n",
    "    tails = set()\n",
    "    for u,v,attrs in mqa_graph._graph.edges(node, data=True):\n",
    "        if attrs.get(\"relation\") == edge:\n",
    "            tails.add(v)\n",
    "    return tails"
   ]
  },
  {
   "cell_type": "code",
   "execution_count": 28,
   "metadata": {},
   "outputs": [],
   "source": [
    "row = mqa.iloc[1]"
   ]
  },
  {
   "cell_type": "code",
   "execution_count": 29,
   "metadata": {},
   "outputs": [
    {
     "name": "stdout",
     "output_type": "stream",
     "text": [
      "Joe Thomas\n",
      "starred_actors\n",
      "['The Inbetweeners Movie', 'The Inbetweeners 2']\n"
     ]
    }
   ],
   "source": [
    "start = row.chain[0]\n",
    "target = row.chain[1]\n",
    "edge = mqa_graph._graph[start][target][\"relation\"]\n",
    "cand_tails = get_tails(start, edge)\n",
    "print(\n",
    "    mqa_graph.mid2name[start],\n",
    "    edge,\n",
    "    list(map(lambda t: mqa_graph.mid2name[t], cand_tails)),\n",
    "    sep=\"\\n\"\n",
    ")"
   ]
  },
  {
   "cell_type": "code",
   "execution_count": 22,
   "metadata": {},
   "outputs": [
    {
     "data": {
      "text/plain": [
       "(1, None)"
      ]
     },
     "execution_count": 22,
     "metadata": {},
     "output_type": "execute_result"
    }
   ],
   "source": [
    "list(mqa_graph._graph.nodes(0))[1]"
   ]
  },
  {
   "cell_type": "code",
   "execution_count": 58,
   "metadata": {},
   "outputs": [],
   "source": [
    "def local_relative_degree(node, path):\n",
    "    # node_degree = mqa_graph._graph.degree(node)\n",
    "    local_degree = 0\n",
    "    neighbors = set(mqa_graph._graph.neighbors(node))\n",
    "    for n in path:\n",
    "        if n in neighbors:\n",
    "            local_degree += 1\n",
    "    # / node_degree\n",
    "    return local_degree / len(path)"
   ]
  },
  {
   "cell_type": "code",
   "execution_count": 54,
   "metadata": {},
   "outputs": [],
   "source": [
    "def get_reranked_tail_position(row):\n",
    "    question = row.Question\n",
    "    # retrieved position at each step\n",
    "    step_retrieved_position = []\n",
    "    path = []\n",
    "    for step, (start, target) in enumerate(zip(row.chain, row.chain[1:])):\n",
    "        # -1 - no position by default\n",
    "        step_retrieved_position.append(-1)\n",
    "        edge = mqa_graph._graph[start][target][\"relation\"]\n",
    "        candidate_tails = get_tails(start, edge)\n",
    "        path.extend([mqa_graph.mid2name[start], edge])\n",
    "        # embed question + chain so far\n",
    "        # rank by similarity\n",
    "        top_tails = []\n",
    "        for tail in candidate_tails:\n",
    "            score = local_relative_degree(tail, path[::2])\n",
    "            heapq.heappush(top_tails, (score, tail))\n",
    "        # chain_so_far = \";\".join(path)\n",
    "        # q_emb = embed_sbert(question + \"\\n\" + chain_so_far)\n",
    "        # for tail in candidate_tails:\n",
    "        #     tail_emb = embed_sbert(mqa_graph.mid2name[tail])\n",
    "        #     score = model.similarity(q_emb, tail_emb)\n",
    "        #     heapq.heappush(top_tails, (score, tail))\n",
    "\n",
    "        # find the retrieved position\n",
    "        top_tails = heapq.nlargest(len(top_tails), top_tails)\n",
    "        for idx, (score, tail) in enumerate(top_tails):\n",
    "            if tail == target:\n",
    "                step_retrieved_position[step] = idx\n",
    "    pbar.update(1)\n",
    "    return step_retrieved_position\n",
    "        "
   ]
  },
  {
   "cell_type": "code",
   "execution_count": 55,
   "metadata": {},
   "outputs": [
    {
     "name": "stderr",
     "output_type": "stream",
     "text": [
      "100%|█████████▉| 302415/302514 [04:51<00:00, 520.11it/s] "
     ]
    }
   ],
   "source": [
    "pbar = tqdm(total=len(mqa))\n",
    "tail_df = mqa.apply(\n",
    "    get_reranked_tail_position,\n",
    "    axis=1\n",
    ")"
   ]
  },
  {
   "cell_type": "code",
   "execution_count": 86,
   "metadata": {},
   "outputs": [
    {
     "data": {
      "text/plain": [
       "0           [0, 0, 0, 172]\n",
       "1                      [1]\n",
       "2                      [0]\n",
       "3                      [1]\n",
       "4                      [3]\n",
       "                ...       \n",
       "302519           [0, 4, 2]\n",
       "302520                 [1]\n",
       "302521           [0, 0, 0]\n",
       "302522    [0, 0, 4, 17, 5]\n",
       "302523           [0, 0, 0]\n",
       "Length: 302514, dtype: object"
      ]
     },
     "execution_count": 86,
     "metadata": {},
     "output_type": "execute_result"
    }
   ],
   "source": [
    "tail_df"
   ]
  },
  {
   "cell_type": "code",
   "execution_count": 57,
   "metadata": {},
   "outputs": [
    {
     "data": {
      "text/html": [
       "<div>\n",
       "<style scoped>\n",
       "    .dataframe tbody tr th:only-of-type {\n",
       "        vertical-align: middle;\n",
       "    }\n",
       "\n",
       "    .dataframe tbody tr th {\n",
       "        vertical-align: top;\n",
       "    }\n",
       "\n",
       "    .dataframe thead th {\n",
       "        text-align: right;\n",
       "    }\n",
       "</style>\n",
       "<table border=\"1\" class=\"dataframe\">\n",
       "  <thead>\n",
       "    <tr style=\"text-align: right;\">\n",
       "      <th></th>\n",
       "      <th>0</th>\n",
       "      <th>1</th>\n",
       "      <th>2</th>\n",
       "      <th>3</th>\n",
       "      <th>4</th>\n",
       "      <th>5</th>\n",
       "      <th>6</th>\n",
       "    </tr>\n",
       "  </thead>\n",
       "  <tbody>\n",
       "    <tr>\n",
       "      <th>count</th>\n",
       "      <td>302500.000000</td>\n",
       "      <td>282352.000000</td>\n",
       "      <td>200028.000000</td>\n",
       "      <td>23901.000000</td>\n",
       "      <td>12513.000000</td>\n",
       "      <td>188.000000</td>\n",
       "      <td>1.0</td>\n",
       "    </tr>\n",
       "    <tr>\n",
       "      <th>mean</th>\n",
       "      <td>1.490245</td>\n",
       "      <td>274.732883</td>\n",
       "      <td>32.947292</td>\n",
       "      <td>104.088783</td>\n",
       "      <td>6.208104</td>\n",
       "      <td>0.329787</td>\n",
       "      <td>0.0</td>\n",
       "    </tr>\n",
       "    <tr>\n",
       "      <th>std</th>\n",
       "      <td>4.389650</td>\n",
       "      <td>848.433718</td>\n",
       "      <td>285.824700</td>\n",
       "      <td>475.626549</td>\n",
       "      <td>78.622077</td>\n",
       "      <td>2.239119</td>\n",
       "      <td>NaN</td>\n",
       "    </tr>\n",
       "    <tr>\n",
       "      <th>min</th>\n",
       "      <td>0.000000</td>\n",
       "      <td>0.000000</td>\n",
       "      <td>0.000000</td>\n",
       "      <td>0.000000</td>\n",
       "      <td>0.000000</td>\n",
       "      <td>0.000000</td>\n",
       "      <td>0.0</td>\n",
       "    </tr>\n",
       "    <tr>\n",
       "      <th>25%</th>\n",
       "      <td>0.000000</td>\n",
       "      <td>2.000000</td>\n",
       "      <td>0.000000</td>\n",
       "      <td>1.000000</td>\n",
       "      <td>0.000000</td>\n",
       "      <td>0.000000</td>\n",
       "      <td>0.0</td>\n",
       "    </tr>\n",
       "    <tr>\n",
       "      <th>50%</th>\n",
       "      <td>1.000000</td>\n",
       "      <td>9.000000</td>\n",
       "      <td>0.000000</td>\n",
       "      <td>4.000000</td>\n",
       "      <td>0.000000</td>\n",
       "      <td>0.000000</td>\n",
       "      <td>0.0</td>\n",
       "    </tr>\n",
       "    <tr>\n",
       "      <th>75%</th>\n",
       "      <td>2.000000</td>\n",
       "      <td>25.000000</td>\n",
       "      <td>2.000000</td>\n",
       "      <td>13.000000</td>\n",
       "      <td>1.000000</td>\n",
       "      <td>0.000000</td>\n",
       "      <td>0.0</td>\n",
       "    </tr>\n",
       "    <tr>\n",
       "      <th>max</th>\n",
       "      <td>477.000000</td>\n",
       "      <td>4175.000000</td>\n",
       "      <td>4174.000000</td>\n",
       "      <td>4166.000000</td>\n",
       "      <td>2361.000000</td>\n",
       "      <td>27.000000</td>\n",
       "      <td>0.0</td>\n",
       "    </tr>\n",
       "  </tbody>\n",
       "</table>\n",
       "</div>"
      ],
      "text/plain": [
       "                   0              1              2             3  \\\n",
       "count  302500.000000  282352.000000  200028.000000  23901.000000   \n",
       "mean        1.490245     274.732883      32.947292    104.088783   \n",
       "std         4.389650     848.433718     285.824700    475.626549   \n",
       "min         0.000000       0.000000       0.000000      0.000000   \n",
       "25%         0.000000       2.000000       0.000000      1.000000   \n",
       "50%         1.000000       9.000000       0.000000      4.000000   \n",
       "75%         2.000000      25.000000       2.000000     13.000000   \n",
       "max       477.000000    4175.000000    4174.000000   4166.000000   \n",
       "\n",
       "                  4           5    6  \n",
       "count  12513.000000  188.000000  1.0  \n",
       "mean       6.208104    0.329787  0.0  \n",
       "std       78.622077    2.239119  NaN  \n",
       "min        0.000000    0.000000  0.0  \n",
       "25%        0.000000    0.000000  0.0  \n",
       "50%        0.000000    0.000000  0.0  \n",
       "75%        1.000000    0.000000  0.0  \n",
       "max     2361.000000   27.000000  0.0  "
      ]
     },
     "execution_count": 57,
     "metadata": {},
     "output_type": "execute_result"
    }
   ],
   "source": [
    "tail_df.apply(pd.Series).describe()"
   ]
  },
  {
   "cell_type": "code",
   "execution_count": 78,
   "metadata": {},
   "outputs": [
    {
     "data": {
      "text/plain": [
       "153               [5, 14, 1]\n",
       "2362             [12, 6, 79]\n",
       "4162           [16, 16, 807]\n",
       "4195              [0, 19, 1]\n",
       "4203               [2, 9, 0]\n",
       "                 ...        \n",
       "302480            [0, 18, 0]\n",
       "302481            [0, 22, 0]\n",
       "302508           [0, 293, 0]\n",
       "302511    [0, 105, 1, 22, 4]\n",
       "302516           [0, 242, 3]\n",
       "Length: 168065, dtype: object"
      ]
     },
     "execution_count": 78,
     "metadata": {},
     "output_type": "execute_result"
    }
   ],
   "source": [
    "tail_df[tail_df.apply(lambda ps: ps[1] if len(ps) > 1 else -1) > 5]"
   ]
  },
  {
   "cell_type": "code",
   "execution_count": 90,
   "metadata": {},
   "outputs": [
    {
     "data": {
      "text/plain": [
       "<Axes: ylabel='Frequency'>"
      ]
     },
     "execution_count": 90,
     "metadata": {},
     "output_type": "execute_result"
    },
    {
     "data": {
      "image/png": "[encoded data removed]",
      "text/plain": [
       "<Figure size 640x480 with 1 Axes>"
      ]
     },
     "metadata": {},
     "output_type": "display_data"
    }
   ],
   "source": [
    "tail_df.apply(lambda ps: ps[1] if len(ps) > 1 else np.nan).plot.hist()"
   ]
  },
  {
   "cell_type": "markdown",
   "metadata": {},
   "source": [
    "local connectivity"
   ]
  },
  {
   "cell_type": "code",
   "execution_count": 6,
   "metadata": {},
   "outputs": [],
   "source": [
    "def get_reranked_tail_position(row):\n",
    "    question = row.Question\n",
    "    # retrieved position at each step\n",
    "    step_retrieved_position = []\n",
    "    path = []\n",
    "    for step, (start, target) in enumerate(zip(row.chain, row.chain[1:])):\n",
    "        # -1 - no position by default\n",
    "        step_retrieved_position.append(-1)\n",
    "        edge = mqa_graph._graph[start][target][\"relation\"]\n",
    "        candidate_tails = get_tails(start, edge)\n",
    "        path.extend([mqa_graph.mid2name[start], edge])\n",
    "        \n",
    "        top_tails = []\n",
    "        # embed question + chain so far\n",
    "        # chain_so_far = \";\".join(path)\n",
    "        # q_emb = embed_sbert(question + \"\\n\" + chain_so_far)\n",
    "        # # rank by similarity\n",
    "        # for tail in candidate_tails:\n",
    "        #     tail_emb = embed_sbert(mqa_graph.mid2name[tail])\n",
    "        #     score = model.similarity(q_emb, tail_emb)\n",
    "        #     heapq.heappush(top_tails, (score, tail))\n",
    "\n",
    "        \n",
    "        # find the retrieved position\n",
    "        top_tails = heapq.nlargest(len(top_tails), top_tails)\n",
    "        for idx, (score, tail) in enumerate(top_tails):\n",
    "            if tail == target:\n",
    "                step_retrieved_position[step] = idx\n",
    "    return step_retrieved_position\n",
    "        "
   ]
  },
  {
   "cell_type": "code",
   "execution_count": 99,
   "metadata": {},
   "outputs": [
    {
     "data": {
      "image/png": "[encoded data removed]",
      "text/plain": [
       "<Figure size 640x480 with 1 Axes>"
      ]
     },
     "metadata": {},
     "output_type": "display_data"
    }
   ],
   "source": [
    "import matplotlib.pyplot as plt\n",
    "fig, ax = plt.subplots()\n",
    "\n",
    "# Iterate through each row and plot the scatter points\n",
    "for idx, row in tail_df.apply(pd.Series).iterrows():\n",
    "    # Drop NaN values (from rows that are shorter than the max length)\n",
    "    valid_data = row.dropna()\n",
    "    \n",
    "    # x-values: the column indices (steps)\n",
    "    x = valid_data.index.astype(int)\n",
    "    # y-values: the corresponding values in the row\n",
    "    y = valid_data.values.astype(float)\n",
    "    \n",
    "    ax.scatter(x, y, label=f'Row {idx}')\n",
    "\n",
    "# Label axes and add a title\n",
    "ax.set_xlabel('Step (Column Index)')\n",
    "ax.set_ylabel('Value')\n",
    "ax.set_title('Scatter Plot: Columns as Steps, Values as Y')\n",
    "\n",
    "# Optional: Add a legend if you want to identify the rows\n",
    "# ax.legend()\n",
    "\n",
    "plt.show()"
   ]
  },
  {
   "cell_type": "markdown",
   "metadata": {},
   "source": [
    "Study local node connectivity"
   ]
  },
  {
   "cell_type": "code",
   "execution_count": null,
   "metadata": {},
   "outputs": [],
   "source": []
  },
  {
   "cell_type": "markdown",
   "metadata": {},
   "source": [
    "### 5. Verify entity predictions"
   ]
  },
  {
   "cell_type": "code",
   "execution_count": null,
   "metadata": {},
   "outputs": [],
   "source": [
    "def rerank_tails(question, node, edge, candidate)"
   ]
  }
 ],
 "metadata": {
  "kernelspec": {
   "display_name": "Python 3 (ipykernel)",
   "language": "python",
   "name": "python3"
  }
 },
 "nbformat": 4,
 "nbformat_minor": 2
}
