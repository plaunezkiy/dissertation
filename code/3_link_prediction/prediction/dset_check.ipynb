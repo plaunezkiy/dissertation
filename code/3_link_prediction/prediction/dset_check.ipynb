{
 "cells": [
  {
   "cell_type": "code",
   "execution_count": 103,
   "metadata": {},
   "outputs": [],
   "source": [
    "import pandas as pd\n",
    "from utils.graph import KGraphPreproc\n",
    "from utils.preprocessing import preprocess_text\n",
    "import networkx as nx"
   ]
  },
  {
   "cell_type": "markdown",
   "metadata": {},
   "source": [
    "## Given a question, and top relevant triplets to this point, predict next links\n",
    "\n",
    "TODO:\n",
    "1. Construct an incremental dataset (q, entity_level_1.2.3..., next_link)"
   ]
  },
  {
   "cell_type": "code",
   "execution_count": 104,
   "metadata": {},
   "outputs": [],
   "source": [
    "fbkb_graph = KGraphPreproc.get_fbkb_graph()"
   ]
  },
  {
   "cell_type": "code",
   "execution_count": 105,
   "metadata": {},
   "outputs": [
    {
     "data": {
      "text/plain": [
       "14541"
      ]
     },
     "execution_count": 105,
     "metadata": {},
     "output_type": "execute_result"
    }
   ],
   "source": [
    "len(fbkb_graph._graph.nodes())"
   ]
  },
  {
   "cell_type": "code",
   "execution_count": 25,
   "metadata": {},
   "outputs": [],
   "source": [
    "mid2name = pd.read_csv(\"/datasets/FB15k-237/mid2name.txt\", sep=\"\\t\", header=None)\n",
    "mid2name_dict = dict(zip(mid2name[0], mid2name[1]))\n",
    "name2mid_dict = dict(zip(mid2name[1], mid2name[0]))\n",
    "# \n",
    "fbkb = pd.DataFrame()\n",
    "for split in [\"train\", \"valid\", \"test\"]:\n",
    "    path = f\"/datasets/FB15k-237/{split}.txt\"\n",
    "    split_df = pd.read_csv(path, sep=\"\\t\", header=None)\n",
    "    fbkb = pd.concat([fbkb, split_df])\n",
    "fbkb.rename(columns={0: \"subject\", 1: \"relation\", 2: \"object\"}, inplace=True)"
   ]
  },
  {
   "cell_type": "code",
   "execution_count": 26,
   "metadata": {},
   "outputs": [
    {
     "data": {
      "text/html": [
       "<div>\n",
       "<style scoped>\n",
       "    .dataframe tbody tr th:only-of-type {\n",
       "        vertical-align: middle;\n",
       "    }\n",
       "\n",
       "    .dataframe tbody tr th {\n",
       "        vertical-align: top;\n",
       "    }\n",
       "\n",
       "    .dataframe thead th {\n",
       "        text-align: right;\n",
       "    }\n",
       "</style>\n",
       "<table border=\"1\" class=\"dataframe\">\n",
       "  <thead>\n",
       "    <tr style=\"text-align: right;\">\n",
       "      <th></th>\n",
       "      <th>subject</th>\n",
       "      <th>relation</th>\n",
       "      <th>object</th>\n",
       "    </tr>\n",
       "  </thead>\n",
       "  <tbody>\n",
       "    <tr>\n",
       "      <th>0</th>\n",
       "      <td>/m/027rn</td>\n",
       "      <td>/location/country/form_of_government</td>\n",
       "      <td>/m/06cx9</td>\n",
       "    </tr>\n",
       "    <tr>\n",
       "      <th>1</th>\n",
       "      <td>/m/017dcd</td>\n",
       "      <td>/tv/tv_program/regular_cast./tv/regular_tv_app...</td>\n",
       "      <td>/m/06v8s0</td>\n",
       "    </tr>\n",
       "    <tr>\n",
       "      <th>2</th>\n",
       "      <td>/m/07s9rl0</td>\n",
       "      <td>/media_common/netflix_genre/titles</td>\n",
       "      <td>/m/0170z3</td>\n",
       "    </tr>\n",
       "    <tr>\n",
       "      <th>3</th>\n",
       "      <td>/m/01sl1q</td>\n",
       "      <td>/award/award_winner/awards_won./award/award_ho...</td>\n",
       "      <td>/m/044mz_</td>\n",
       "    </tr>\n",
       "    <tr>\n",
       "      <th>4</th>\n",
       "      <td>/m/0cnk2q</td>\n",
       "      <td>/soccer/football_team/current_roster./sports/s...</td>\n",
       "      <td>/m/02nzb8</td>\n",
       "    </tr>\n",
       "  </tbody>\n",
       "</table>\n",
       "</div>"
      ],
      "text/plain": [
       "      subject                                           relation     object\n",
       "0    /m/027rn               /location/country/form_of_government   /m/06cx9\n",
       "1   /m/017dcd  /tv/tv_program/regular_cast./tv/regular_tv_app...  /m/06v8s0\n",
       "2  /m/07s9rl0                 /media_common/netflix_genre/titles  /m/0170z3\n",
       "3   /m/01sl1q  /award/award_winner/awards_won./award/award_ho...  /m/044mz_\n",
       "4   /m/0cnk2q  /soccer/football_team/current_roster./sports/s...  /m/02nzb8"
      ]
     },
     "execution_count": 26,
     "metadata": {},
     "output_type": "execute_result"
    }
   ],
   "source": [
    "fbkb.head()"
   ]
  },
  {
   "cell_type": "code",
   "execution_count": 27,
   "metadata": {},
   "outputs": [],
   "source": [
    "fbqa = pd.read_json(\"/datasets/FreebaseQA/FreebaseQA-eval.json\")\n",
    "def get_fbqa_data(question_row):\n",
    "    \"\"\"\n",
    "    Takes in a dataset row and returns Q and A as strings\n",
    "    \"\"\"\n",
    "    question = question_row.Questions.get(\"RawQuestion\", None)\n",
    "    parse = question_row.Questions.get(\"Parses\", [None])[0]\n",
    "    if not parse:\n",
    "        print(f\"error in question: {question}\")\n",
    "        return question, None\n",
    "    answer = parse.get(\"Answers\")\n",
    "    return question, answer"
   ]
  },
  {
   "cell_type": "code",
   "execution_count": 88,
   "metadata": {},
   "outputs": [],
   "source": [
    "lipr_df = pd.DataFrame(columns=[\"id\", \"question\", \"topic_entity\", \"answer_entity\"], data=[[0, 0, 0, 0]])"
   ]
  },
  {
   "cell_type": "code",
   "execution_count": 89,
   "metadata": {},
   "outputs": [],
   "source": [
    "for i, r in fbqa.iterrows():\n",
    "    question = r.Questions.get(\"RawQuestion\")\n",
    "    for parse in r.Questions[\"Parses\"]:\n",
    "        parse_id = parse.get(\"Parse-Id\")\n",
    "        topic_entity_mid = \"/\" + parse.get(\"TopicEntityMid\").replace(\".\", \"/\")\n",
    "        for answer in parse.get(\"Answers\", []):\n",
    "            answer_mid = answer.get(\"AnswersMid\")\n",
    "        lipr_df.loc[lipr_df.index.max() + 1] = [\n",
    "            parse_id, question, topic_entity_mid, answer_mid\n",
    "        ]\n",
    "# "
   ]
  },
  {
   "cell_type": "code",
   "execution_count": 90,
   "metadata": {},
   "outputs": [],
   "source": [
    "lipr_df.drop_duplicates(subset=[\"topic_entity\", \"answer_entity\"], inplace=True)\n",
    "lipr_df.drop(lipr_df.iloc[0], inplace=True)"
   ]
  },
  {
   "cell_type": "code",
   "execution_count": 91,
   "metadata": {},
   "outputs": [
    {
     "data": {
      "text/html": [
       "<div>\n",
       "<style scoped>\n",
       "    .dataframe tbody tr th:only-of-type {\n",
       "        vertical-align: middle;\n",
       "    }\n",
       "\n",
       "    .dataframe tbody tr th {\n",
       "        vertical-align: top;\n",
       "    }\n",
       "\n",
       "    .dataframe thead th {\n",
       "        text-align: right;\n",
       "    }\n",
       "</style>\n",
       "<table border=\"1\" class=\"dataframe\">\n",
       "  <thead>\n",
       "    <tr style=\"text-align: right;\">\n",
       "      <th></th>\n",
       "      <th>id</th>\n",
       "      <th>question</th>\n",
       "      <th>topic_entity</th>\n",
       "      <th>answer_entity</th>\n",
       "    </tr>\n",
       "  </thead>\n",
       "  <tbody>\n",
       "    <tr>\n",
       "      <th>1</th>\n",
       "      <td>FreebaseQA-eval-0.P0</td>\n",
       "      <td>Who is the female presenter of the Channel 4 q...</td>\n",
       "      <td>/m/0nd3t34</td>\n",
       "      <td>m.0216y_</td>\n",
       "    </tr>\n",
       "    <tr>\n",
       "      <th>2</th>\n",
       "      <td>FreebaseQA-eval-1.P0</td>\n",
       "      <td>Who produced the film 12 Angry Men, which was ...</td>\n",
       "      <td>/m/0m_tj</td>\n",
       "      <td>m.0cj8x</td>\n",
       "    </tr>\n",
       "    <tr>\n",
       "      <th>3</th>\n",
       "      <td>FreebaseQA-eval-2.P0</td>\n",
       "      <td>Who directed the films; The Fisher King (1991)...</td>\n",
       "      <td>/m/07j6w</td>\n",
       "      <td>m.07h5d</td>\n",
       "    </tr>\n",
       "    <tr>\n",
       "      <th>4</th>\n",
       "      <td>FreebaseQA-eval-2.P1</td>\n",
       "      <td>Who directed the films; The Fisher King (1991)...</td>\n",
       "      <td>/m/04z257</td>\n",
       "      <td>m.07h5d</td>\n",
       "    </tr>\n",
       "    <tr>\n",
       "      <th>5</th>\n",
       "      <td>FreebaseQA-eval-2.P2</td>\n",
       "      <td>Who directed the films; The Fisher King (1991)...</td>\n",
       "      <td>/m/016z43</td>\n",
       "      <td>m.07h5d</td>\n",
       "    </tr>\n",
       "    <tr>\n",
       "      <th>...</th>\n",
       "      <td>...</td>\n",
       "      <td>...</td>\n",
       "      <td>...</td>\n",
       "      <td>...</td>\n",
       "    </tr>\n",
       "    <tr>\n",
       "      <th>7293</th>\n",
       "      <td>FreebaseQA-eval-3991.P1</td>\n",
       "      <td>ZAZ is the Airport code for Zaragoza Airport w...</td>\n",
       "      <td>/m/012472</td>\n",
       "      <td>m.06mkj</td>\n",
       "    </tr>\n",
       "    <tr>\n",
       "      <th>7296</th>\n",
       "      <td>FreebaseQA-eval-3992.P0</td>\n",
       "      <td>Which branch of philosophy, derived from the G...</td>\n",
       "      <td>/m/09863</td>\n",
       "      <td>m.078k2</td>\n",
       "    </tr>\n",
       "    <tr>\n",
       "      <th>7297</th>\n",
       "      <td>FreebaseQA-eval-3993.P0</td>\n",
       "      <td>Zhou Yang, gold medal winner at the Winter Oly...</td>\n",
       "      <td>/m/03wctx_</td>\n",
       "      <td>m.09_bl</td>\n",
       "    </tr>\n",
       "    <tr>\n",
       "      <th>7298</th>\n",
       "      <td>FreebaseQA-eval-3994.P0</td>\n",
       "      <td>Also the name of an English city, Harare, the ...</td>\n",
       "      <td>/m/088q4</td>\n",
       "      <td>m.0fngf</td>\n",
       "    </tr>\n",
       "    <tr>\n",
       "      <th>7300</th>\n",
       "      <td>FreebaseQA-eval-3995.P0</td>\n",
       "      <td>The Zugspitze is the highest mountain in which...</td>\n",
       "      <td>/m/01qf2x</td>\n",
       "      <td>m.0345h</td>\n",
       "    </tr>\n",
       "  </tbody>\n",
       "</table>\n",
       "<p>5931 rows × 4 columns</p>\n",
       "</div>"
      ],
      "text/plain": [
       "                           id  \\\n",
       "1        FreebaseQA-eval-0.P0   \n",
       "2        FreebaseQA-eval-1.P0   \n",
       "3        FreebaseQA-eval-2.P0   \n",
       "4        FreebaseQA-eval-2.P1   \n",
       "5        FreebaseQA-eval-2.P2   \n",
       "...                       ...   \n",
       "7293  FreebaseQA-eval-3991.P1   \n",
       "7296  FreebaseQA-eval-3992.P0   \n",
       "7297  FreebaseQA-eval-3993.P0   \n",
       "7298  FreebaseQA-eval-3994.P0   \n",
       "7300  FreebaseQA-eval-3995.P0   \n",
       "\n",
       "                                               question topic_entity  \\\n",
       "1     Who is the female presenter of the Channel 4 q...   /m/0nd3t34   \n",
       "2     Who produced the film 12 Angry Men, which was ...     /m/0m_tj   \n",
       "3     Who directed the films; The Fisher King (1991)...     /m/07j6w   \n",
       "4     Who directed the films; The Fisher King (1991)...    /m/04z257   \n",
       "5     Who directed the films; The Fisher King (1991)...    /m/016z43   \n",
       "...                                                 ...          ...   \n",
       "7293  ZAZ is the Airport code for Zaragoza Airport w...    /m/012472   \n",
       "7296  Which branch of philosophy, derived from the G...     /m/09863   \n",
       "7297  Zhou Yang, gold medal winner at the Winter Oly...   /m/03wctx_   \n",
       "7298  Also the name of an English city, Harare, the ...     /m/088q4   \n",
       "7300  The Zugspitze is the highest mountain in which...    /m/01qf2x   \n",
       "\n",
       "     answer_entity  \n",
       "1         m.0216y_  \n",
       "2          m.0cj8x  \n",
       "3          m.07h5d  \n",
       "4          m.07h5d  \n",
       "5          m.07h5d  \n",
       "...            ...  \n",
       "7293       m.06mkj  \n",
       "7296       m.078k2  \n",
       "7297       m.09_bl  \n",
       "7298       m.0fngf  \n",
       "7300       m.0345h  \n",
       "\n",
       "[5931 rows x 4 columns]"
      ]
     },
     "execution_count": 91,
     "metadata": {},
     "output_type": "execute_result"
    }
   ],
   "source": [
    "lipr_df"
   ]
  },
  {
   "cell_type": "code",
   "execution_count": 98,
   "metadata": {},
   "outputs": [
    {
     "data": {
      "text/plain": [
       "True"
      ]
     },
     "execution_count": 98,
     "metadata": {},
     "output_type": "execute_result"
    }
   ],
   "source": [
    "fbkb_graph._graph.has_node(\"/m/06cx9\")"
   ]
  },
  {
   "cell_type": "code",
   "execution_count": null,
   "metadata": {},
   "outputs": [
    {
     "data": {
      "text/plain": [
       "1       False\n",
       "2       False\n",
       "3       False\n",
       "4        True\n",
       "5        True\n",
       "        ...  \n",
       "7293    False\n",
       "7296    False\n",
       "7297    False\n",
       "7298     True\n",
       "7300    False\n",
       "Name: topic_entity, Length: 5931, dtype: bool"
      ]
     },
     "execution_count": 97,
     "metadata": {},
     "output_type": "execute_result"
    }
   ],
   "source": [
    "lipr_df[\"topic_entity\"].apply(fbkb_graph._graph.has_node)"
   ]
  },
  {
   "cell_type": "markdown",
   "metadata": {},
   "source": [
    "## MQA graph"
   ]
  },
  {
   "cell_type": "code",
   "execution_count": 3,
   "metadata": {},
   "outputs": [],
   "source": [
    "mqa_graph = KGraphPreproc.get_metaqa_graph()"
   ]
  },
  {
   "cell_type": "code",
   "execution_count": 78,
   "metadata": {},
   "outputs": [
    {
     "data": {
      "text/html": [
       "<div>\n",
       "<style scoped>\n",
       "    .dataframe tbody tr th:only-of-type {\n",
       "        vertical-align: middle;\n",
       "    }\n",
       "\n",
       "    .dataframe tbody tr th {\n",
       "        vertical-align: top;\n",
       "    }\n",
       "\n",
       "    .dataframe thead th {\n",
       "        text-align: right;\n",
       "    }\n",
       "</style>\n",
       "<table border=\"1\" class=\"dataframe\">\n",
       "  <thead>\n",
       "    <tr style=\"text-align: right;\">\n",
       "      <th></th>\n",
       "      <th>id</th>\n",
       "      <th>hop</th>\n",
       "      <th>Question</th>\n",
       "      <th>topic_entity</th>\n",
       "      <th>Answer</th>\n",
       "    </tr>\n",
       "  </thead>\n",
       "  <tbody>\n",
       "  </tbody>\n",
       "</table>\n",
       "</div>"
      ],
      "text/plain": [
       "Empty DataFrame\n",
       "Columns: [id, hop, Question, topic_entity, Answer]\n",
       "Index: []"
      ]
     },
     "execution_count": 78,
     "metadata": {},
     "output_type": "execute_result"
    }
   ],
   "source": [
    "mqa = pd.DataFrame(columns=[\"id\", \"hop\", \"Question\", \"topic_entity\", \"Answer\"])\n",
    "mqa"
   ]
  },
  {
   "cell_type": "code",
   "execution_count": 79,
   "metadata": {},
   "outputs": [],
   "source": [
    "import re\n",
    "regex_mqa_topic_entity = re.compile(\"\\[(.*?)\\]\")\n",
    "def extract_mqa_topic_entity(question):\n",
    "    return regex_mqa_topic_entity.findall(question)[0]"
   ]
  },
  {
   "cell_type": "code",
   "execution_count": 80,
   "metadata": {},
   "outputs": [
    {
     "data": {
      "text/html": [
       "<div>\n",
       "<style scoped>\n",
       "    .dataframe tbody tr th:only-of-type {\n",
       "        vertical-align: middle;\n",
       "    }\n",
       "\n",
       "    .dataframe tbody tr th {\n",
       "        vertical-align: top;\n",
       "    }\n",
       "\n",
       "    .dataframe thead th {\n",
       "        text-align: right;\n",
       "    }\n",
       "</style>\n",
       "<table border=\"1\" class=\"dataframe\">\n",
       "  <thead>\n",
       "    <tr style=\"text-align: right;\">\n",
       "      <th></th>\n",
       "      <th>id</th>\n",
       "      <th>hop</th>\n",
       "      <th>Question</th>\n",
       "      <th>topic_entity</th>\n",
       "      <th>Answer</th>\n",
       "    </tr>\n",
       "  </thead>\n",
       "  <tbody>\n",
       "    <tr>\n",
       "      <th>0</th>\n",
       "      <td>1-0</td>\n",
       "      <td>1</td>\n",
       "      <td>what does [Grégoire Colin] appear in</td>\n",
       "      <td>Grégoire Colin</td>\n",
       "      <td>befor the rain</td>\n",
       "    </tr>\n",
       "    <tr>\n",
       "      <th>1</th>\n",
       "      <td>1-1</td>\n",
       "      <td>1</td>\n",
       "      <td>[Joe Thomas] appears in which movies</td>\n",
       "      <td>Joe Thomas</td>\n",
       "      <td>the inbetween 2</td>\n",
       "    </tr>\n",
       "    <tr>\n",
       "      <th>1</th>\n",
       "      <td>1-1</td>\n",
       "      <td>1</td>\n",
       "      <td>[Joe Thomas] appears in which movies</td>\n",
       "      <td>Joe Thomas</td>\n",
       "      <td>the inbetween movi</td>\n",
       "    </tr>\n",
       "    <tr>\n",
       "      <th>2</th>\n",
       "      <td>1-2</td>\n",
       "      <td>1</td>\n",
       "      <td>what films did [Michelle Trachtenberg] star in</td>\n",
       "      <td>Michelle Trachtenberg</td>\n",
       "      <td>black christma</td>\n",
       "    </tr>\n",
       "    <tr>\n",
       "      <th>2</th>\n",
       "      <td>1-2</td>\n",
       "      <td>1</td>\n",
       "      <td>what films did [Michelle Trachtenberg] star in</td>\n",
       "      <td>Michelle Trachtenberg</td>\n",
       "      <td>the scribbler</td>\n",
       "    </tr>\n",
       "  </tbody>\n",
       "</table>\n",
       "</div>"
      ],
      "text/plain": [
       "    id hop                                        Question  \\\n",
       "0  1-0   1            what does [Grégoire Colin] appear in   \n",
       "1  1-1   1            [Joe Thomas] appears in which movies   \n",
       "1  1-1   1            [Joe Thomas] appears in which movies   \n",
       "2  1-2   1  what films did [Michelle Trachtenberg] star in   \n",
       "2  1-2   1  what films did [Michelle Trachtenberg] star in   \n",
       "\n",
       "            topic_entity              Answer  \n",
       "0         Grégoire Colin      befor the rain  \n",
       "1             Joe Thomas     the inbetween 2  \n",
       "1             Joe Thomas  the inbetween movi  \n",
       "2  Michelle Trachtenberg      black christma  \n",
       "2  Michelle Trachtenberg       the scribbler  "
      ]
     },
     "execution_count": 80,
     "metadata": {},
     "output_type": "execute_result"
    }
   ],
   "source": [
    "hops = [1,2,3]\n",
    "for hop in hops:\n",
    "    test_set_path = f\"/datasets/MetaQA/{hop}hop/qa_test.txt\"\n",
    "    tset = pd.read_csv(test_set_path, sep=\"\\t\", header=None)\n",
    "    tset.rename(columns={0: \"Question\", 1: \"Answer\"}, inplace=True)\n",
    "    tset[\"topic_entity\"] = tset.Question.apply(extract_mqa_topic_entity)\n",
    "    tset.Answer = tset.apply(lambda t: set(t.Answer.lower().split(\"|\")), axis=1)\n",
    "    tset = tset.explode(\"Answer\")\n",
    "    tset.Answer = tset.Answer.apply(preprocess_text)\n",
    "    tset[\"id\"] = tset.apply(lambda r: f\"{hop}-{r.name}\", axis=1)\n",
    "    tset[\"hop\"] = hop\n",
    "    mqa = pd.concat([mqa, tset])\n",
    "mqa.head()"
   ]
  },
  {
   "cell_type": "code",
   "execution_count": 81,
   "metadata": {},
   "outputs": [],
   "source": [
    "mqa.dropna(inplace=True)"
   ]
  },
  {
   "cell_type": "code",
   "execution_count": 82,
   "metadata": {},
   "outputs": [
    {
     "data": {
      "text/plain": [
       "count     302779\n",
       "unique         1\n",
       "top         True\n",
       "freq      302779\n",
       "Name: topic_entity, dtype: object"
      ]
     },
     "execution_count": 82,
     "metadata": {},
     "output_type": "execute_result"
    }
   ],
   "source": [
    "mqa[\"topic_entity\"].apply(lambda e: e in mqa_graph.name2mid).describe()"
   ]
  },
  {
   "cell_type": "code",
   "execution_count": 83,
   "metadata": {},
   "outputs": [
    {
     "data": {
      "text/plain": [
       "count     302779\n",
       "unique         1\n",
       "top         True\n",
       "freq      302779\n",
       "Name: Answer, dtype: object"
      ]
     },
     "execution_count": 83,
     "metadata": {},
     "output_type": "execute_result"
    }
   ],
   "source": [
    "mqa[\"Answer\"].apply(lambda e: e in mqa_graph.preprocessed_nodes).describe()"
   ]
  },
  {
   "cell_type": "code",
   "execution_count": 84,
   "metadata": {},
   "outputs": [],
   "source": [
    "mqa[\"actual_hops\"] = mqa.apply(\n",
    "    lambda r: len(nx.shortest_path(\n",
    "        mqa_graph._graph,\n",
    "        mqa_graph.name2mid[r[\"topic_entity\"]],\n",
    "        mqa_graph.preprocessed_nodes[r.Answer]\n",
    "    )),\n",
    "    axis=1\n",
    ")"
   ]
  },
  {
   "cell_type": "code",
   "execution_count": 85,
   "metadata": {},
   "outputs": [
    {
     "data": {
      "text/plain": [
       "302524"
      ]
     },
     "execution_count": 85,
     "metadata": {},
     "output_type": "execute_result"
    }
   ],
   "source": [
    "#302779\n",
    "mqa.drop_duplicates(inplace=True)\n",
    "#302524\n",
    "len(mqa)"
   ]
  },
  {
   "cell_type": "code",
   "execution_count": 86,
   "metadata": {},
   "outputs": [],
   "source": [
    "mqa.to_csv(\"/datasets/MetaQA/meta.csv\", index=False)"
   ]
  },
  {
   "cell_type": "code",
   "execution_count": 188,
   "metadata": {},
   "outputs": [],
   "source": [
    "import matplotlib.pyplot as plt\n",
    "import numpy as np"
   ]
  },
  {
   "cell_type": "code",
   "execution_count": 191,
   "metadata": {},
   "outputs": [
    {
     "data": {
      "image/png": "[encoded data removed]",
      "text/plain": [
       "<Figure size 1000x400 with 3 Axes>"
      ]
     },
     "metadata": {},
     "output_type": "display_data"
    }
   ],
   "source": [
    "fig, axs = plt.subplots(1, 3, figsize=(10, 4))\n",
    "\n",
    "for hop in hops:\n",
    "    \n",
    "    axs[hop-1].hist(mqa[mqa.hop == hop][\"actual_hops\"])\n",
    "\n",
    "plt.show()"
   ]
  }
 ],
 "metadata": {
  "kernelspec": {
   "display_name": "Python 3 (ipykernel)",
   "language": "python",
   "name": "python3"
  }
 },
 "nbformat": 4,
 "nbformat_minor": 2
}
