{
 "cells": [
  {
   "cell_type": "code",
   "execution_count": 1,
   "metadata": {},
   "outputs": [],
   "source": [
    "%load_ext autoreload\n",
    "%autoreload 2"
   ]
  },
  {
   "cell_type": "code",
   "execution_count": 2,
   "metadata": {},
   "outputs": [],
   "source": [
    "import pandas as pd\n",
    "import torch\n",
    "import gc\n",
    "import Stemmer\n",
    "import re\n",
    "from tqdm import tqdm\n",
    "import csv\n",
    "import gc\n",
    "from utils.graph import KGraphPreproc\n",
    "from utils.graph.chain import GraphChain\n",
    "from utils.llm.mistral import MistralLLM"
   ]
  },
  {
   "cell_type": "code",
   "execution_count": 3,
   "metadata": {},
   "outputs": [],
   "source": [
    "fbqa = pd.read_json(\"/datasets/FreebaseQA/FreebaseQA-eval.json\")\n",
    "def get_fbqa_data(question_row):\n",
    "    \"\"\"\n",
    "    Takes in a dataset row and returns Q and A as strings\n",
    "    \"\"\"\n",
    "    question = question_row.Questions.get(\"RawQuestion\", None)\n",
    "    parse = question_row.Questions.get(\"Parses\", [None])[0]\n",
    "    if not parse:\n",
    "        print(f\"error in question: {question}\")\n",
    "        return question, None\n",
    "    answer = parse.get(\"Answers\")\n",
    "    return question, answer\n",
    "\n",
    "####### load the graph\n",
    "fbkb_graph = KGraphPreproc.get_fbkb_graph()"
   ]
  },
  {
   "cell_type": "code",
   "execution_count": 4,
   "metadata": {},
   "outputs": [],
   "source": [
    "from utils.prompt import GRAPH_QA_PROMPT, ENTITY_PROMPT\n",
    "\n",
    "mistral = MistralLLM()\n",
    "chain = GraphChain.from_llm(\n",
    "    llm=mistral,\n",
    "    graph=fbkb_graph,\n",
    "    qa_prompt=GRAPH_QA_PROMPT,\n",
    "    entity_prompt=ENTITY_PROMPT,\n",
    "    verbose=False,\n",
    ")"
   ]
  },
  {
   "cell_type": "code",
   "execution_count": 5,
   "metadata": {},
   "outputs": [],
   "source": [
    "def get_response(prompt):\n",
    "    global chain\n",
    "    # del mistral\n",
    "    gc.collect()\n",
    "    torch.cuda.empty_cache()\n",
    "    r = chain.invoke(prompt)\n",
    "    return r[\"result\"]"
   ]
  },
  {
   "cell_type": "code",
   "execution_count": 60,
   "metadata": {},
   "outputs": [],
   "source": [
    "chain.exploration_depth = 1"
   ]
  },
  {
   "cell_type": "code",
   "execution_count": 79,
   "metadata": {},
   "outputs": [
    {
     "name": "stderr",
     "output_type": "stream",
     "text": [
      "  0%|          | 0/3996 [00:00<?, ?it/s]"
     ]
    },
    {
     "name": "stdout",
     "output_type": "stream",
     "text": [
      "Who is the female presenter of the Channel 4 quiz show '1001 things you should know'?\n",
      "\n",
      "\n",
      "\u001b[1m> Entering new GraphChain chain...\u001b[0m\n",
      "Entities Extracted:\n",
      "\u001b[32;1m\u001b[1;3mAnne Robinson\u001b[0m\n",
      "Full Context:\n",
      "\u001b[32;1m\u001b[1;3m\u001b[0m\n"
     ]
    },
    {
     "name": "stderr",
     "output_type": "stream",
     "text": [
      "  0%|          | 1/3996 [00:00<49:11,  1.35it/s]"
     ]
    },
    {
     "name": "stdout",
     "output_type": "stream",
     "text": [
      "\n",
      "\u001b[1m> Finished chain.\u001b[0m\n",
      "Model: Anita Rani\n",
      "Who produced the film 12 Angry Men, which was scripted by Reginald Rose, starred Henry Fonda and was directed by Sidney Lumet?\n",
      "\n",
      "\n",
      "\u001b[1m> Entering new GraphChain chain...\u001b[0m\n",
      "Entities Extracted:\n",
      "\u001b[32;1m\u001b[1;3m12 Angry Men, Reginald Rose, Henry Fonda, Sidney Lumet\u001b[0m\n",
      "['BAFTA_Award_for_Best_Actor_in_a_Leading_Role /award/award_category/nominees./award/award_nomination/nominated_for Network', 'BAFTA_Award_for_Best_Actor_in_a_Leading_Role /award/award_category/nominees./award/award_nomination/nominated_for Murder_on_the_Orient_Express', 'BAFTA_Award_for_Best_Actor_in_a_Leading_Role /award/award_category/nominees./award/award_nomination/nominated_for Serpico', 'BAFTA_Award_for_Best_Actor_in_a_Leading_Role /award/award_category/nominees./award/award_nomination/nominated_for On_Golden_Pond', 'BAFTA_Award_for_Best_Actor_in_a_Leading_Role /award/award_winning_work/awards_won./award/award_honor/award Dog_Day_Afternoon', 'BAFTA_Award_for_Best_Actor_in_a_Leading_Role /award/award_nominee/award_nominations./award/award_nomination/award Henry_Fonda', 'Grammy_Award_for_Best_Spoken_Word_Album /award/award_nominee/award_nominations./award/award_nomination/award Orson_Welles', 'Grammy_Award_for_Best_Spoken_Word_Album /award/award_nominee/award_nominations./award/award_nomination/award Helen_Hayes', 'Grammy_Award_for_Best_Spoken_Word_Album /award/award_nominee/award_nominations./award/award_nomination/award Henry_Fonda', 'Grammy_Award_for_Best_Spoken_Word_Album /award/award_category/winners./award/award_honor/award_winner James_Earl_Jones', \"Palme_d'Or /award/award_nominee/award_nominations./award/award_nomination/award Sidney_Lumet\", 'National_Board_of_Review_Award_for_Best_Actor /award/award_winning_work/awards_won./award/award_honor/award Serpico', 'National_Board_of_Review_Award_for_Best_Actor /award/award_winning_work/awards_won./award/award_honor/award On_Golden_Pond', 'National_Board_of_Review_Award_for_Best_Actor /award/award_category/winners./award/award_honor/award_winner Henry_Fonda', 'Rich_Little /people/person/profession Actor-GB', 'Rich_Little /people/person/spouse_s./people/marriage/type_of_union Marriage', 'Rich_Little /base/americancomedy/celebrity_impressionist/celebrities_impersonated Orson_Welles', 'Rich_Little /base/americancomedy/celebrity_impressionist/celebrities_impersonated Henry_Fonda', 'Rich_Little /base/americancomedy/celebrity_impressionist/celebrities_impersonated James_Stewart', 'Rich_Little /people/person/nationality United_States_of_America', 'Rich_Little /people/person/gender Male', 'War_and_Peace /award/award_category/nominees./award/award_nomination/nominated_for BAFTA_Award_for_Best_Film', 'War_and_Peace /award/award_category/nominees./award/award_nomination/nominated_for Golden_Globe_Award_for_Best_Director_-_Motion_Picture', 'War_and_Peace /award/award_category/nominees./award/award_nomination/nominated_for Academy_Award_for_Best_Director', 'War_and_Peace /film/actor/film./film/performance/film Henry_Fonda', 'War_and_Peace /film/film/country United_States_of_America', 'Cardiovascular_disease /people/cause_of_death/people Henry_Fonda', 'Cardiovascular_disease /medicine/disease/risk_factors Male', 'National_Society_of_Film_Critics_Award_for_Best_Actor /award/award_nominee/award_nominations./award/award_nomination/award Henry_Fonda', 'National_Society_of_Film_Critics_Award_for_Best_Actor /award/award_category/nominees./award/award_nomination/nominated_for Network', \"National_Society_of_Film_Critics_Award_for_Best_Actor /award/award_category/nominees./award/award_nomination/nominated_for Before_the_Devil_Knows_You're_Dead\", 'National_Society_of_Film_Critics_Award_for_Best_Actor /award/award_category/nominees./award/award_nomination/nominated_for On_Golden_Pond', 'Roots:_The_Next_Generations /tv/tv_program/regular_cast./tv/regular_tv_appearance/actor James_Earl_Jones', 'Roots:_The_Next_Generations /tv/tv_program/regular_cast./tv/regular_tv_appearance/actor Henry_Fonda', 'Roots:_The_Next_Generations /tv/tv_program/country_of_origin United_States_of_America', 'Henry_Fonda /award/award_nominee/award_nominations./award/award_nomination/award Tony_Award_for_Best_Actor_in_a_Play', 'Henry_Fonda /award/award_category/winners./award/award_honor/award_winner Academy_Award_for_Best_Actor', 'Henry_Fonda /people/ethnicity/people Irish_American', 'Henry_Fonda /award/award_ceremony/awards_presented./award/award_honor/award_winner 54th_Academy_Awards', 'Henry_Fonda /film/actor/film./film/performance/film On_Golden_Pond', 'Henry_Fonda /award/award_category/winners./award/award_honor/award_winner Golden_Globe_Cecil_B._DeMille_Award', 'Henry_Fonda /award/award_ceremony/awards_presented./award/award_honor/award_winner 37th_Golden_Globe_Awards', 'Henry_Fonda /people/person/nationality United_States_of_America', 'Henry_Fonda /award/award_winner/awards_won./award/award_honor/award_winner Helen_Hayes', 'Henry_Fonda /film/actor/film./film/performance/special_performance_type Cameo_appearance', 'Henry_Fonda /film/actor/film./film/performance/film How_the_West_Was_Won', 'Henry_Fonda /award/award_nominee/award_nominations./award/award_nomination/award_nominee James_Earl_Jones', 'Henry_Fonda /award/award_nominee/award_nominations./award/award_nomination/award Primetime_Emmy_Award_for_Outstanding_Lead_Actor_-_Miniseries_or_a_Movie', 'Henry_Fonda /award/award_nominee/award_nominations./award/award_nomination/award_nominee Orson_Welles', 'Henry_Fonda /people/person/gender Male', 'Henry_Fonda /people/person/places_lived./people/place_lived/location Omaha', 'Henry_Fonda /people/deceased_person/place_of_death Los_Angeles', 'Henry_Fonda /people/person/profession Actor-GB', 'Henry_Fonda /base/popstra/celebrity/friendship./base/popstra/friendship/participant James_Stewart', 'Henry_Fonda /people/person/spouse_s./people/marriage/type_of_union Marriage', 'Henry_Fonda /film/actor/film./film/performance/film The_Grapes_of_Wrath', \"Henry_Fonda /film/actor/film./film/performance/film In_Harm's_Way\", 'Henry_Fonda /people/person/spouse_s./people/marriage/location_of_ceremony Baltimore', 'Henry_Fonda /award/award_nominee/award_nominations./award/award_nomination/award Academy_Award_for_Best_Picture', 'Henry_Fonda /film/actor/film./film/performance/film The_Longest_Day', 'Henry_Fonda /education/educational_institution/students_graduates./education/education/student University_of_Minnesota', 'Henry_Fonda /award/award_category/winners./award/award_honor/award_winner Special_Tony_Award', 'Henry_Fonda /people/ethnicity/people Dutch-American', 'Network /award/award_category/nominees./award/award_nomination/nominated_for BAFTA_Award_for_Best_Film', 'Network /award/award_winning_work/awards_won./award/award_honor/award Academy_Award_for_Best_Actor', 'Network /award/award_winning_work/awards_won./award/award_honor/award Golden_Globe_Award_for_Best_Director_-_Motion_Picture', 'Network /award/award_category/nominees./award/award_nomination/nominated_for BAFTA_Award_for_Best_Direction', 'Network /award/award_category/nominees./award/award_nomination/nominated_for Academy_Award_for_Best_Picture', 'Network /award/award_category/nominees./award/award_nomination/nominated_for Academy_Award_for_Best_Director', 'Network /award/award_winning_work/awards_won./award/award_honor/award_winner Sidney_Lumet', 'Network /film/film/country United_States_of_America', 'Network /award/award_winning_work/awards_won./award/award_honor/award Los_Angeles_Film_Critics_Association_Award_for_Best_Director', 'Network /film/film/featured_film_locations New_York_City', 'Equus /award/award_category/nominees./award/award_nomination/nominated_for Academy_Award_for_Best_Actor', 'Equus /award/award_category/nominees./award/award_nomination/nominated_for Academy_Award_for_Best_Writing_Adapted_Screenplay', 'Equus /film/director/film Sidney_Lumet', 'Equus /film/film/release_date_s./film/film_regional_release_date/film_release_region United_States_of_America', \"In_Harm's_Way /film/film/country United_States_of_America\", 'Academy_Award_for_Best_Picture /award/award_category/nominees./award/award_nomination/nominated_for The_Verdict', 'Academy_Award_for_Best_Picture /award/award_category/nominees./award/award_nomination/nominated_for The_Grapes_of_Wrath', 'Academy_Award_for_Best_Picture /award/award_category/nominees./award/award_nomination/nominated_for On_Golden_Pond', 'Academy_Award_for_Best_Picture /award/award_category/winners./award/award_honor/ceremony 54th_Academy_Awards', 'Academy_Award_for_Best_Picture /award/award_category/nominees./award/award_nomination/nominated_for The_Longest_Day', 'Academy_Award_for_Best_Picture /award/award_category/nominees./award/award_nomination/nominated_for Dog_Day_Afternoon', 'Academy_Award_for_Best_Picture /award/award_category/nominees./award/award_nomination/nominated_for How_the_West_Was_Won', 'Academy_Award_for_Best_Picture /award/award_nominee/award_nominations./award/award_nomination/award Orson_Welles', '37th_Golden_Globe_Awards /award/award_category/winners./award/award_honor/ceremony Golden_Globe_Award_for_Best_Director_-_Motion_Picture', '37th_Golden_Globe_Awards /award/award_category/winners./award/award_honor/ceremony Golden_Globe_Cecil_B._DeMille_Award', 'Los_Angeles_Film_Critics_Association_Award_for_Best_Director /award/award_category/winners./award/award_honor/award_winner Sidney_Lumet', 'Los_Angeles_Film_Critics_Association_Award_for_Best_Director /award/award_winning_work/awards_won./award/award_honor/award Dog_Day_Afternoon', 'Serpico /award/award_nominated_work/award_nominations./award/award_nomination/nominated_for Murder_on_the_Orient_Express', 'Serpico /film/film/country United_States_of_America', 'Serpico /film/film/featured_film_locations New_York_City', 'Serpico /award/award_category/nominees./award/award_nomination/nominated_for Academy_Award_for_Best_Actor', 'Serpico /award/award_category/nominees./award/award_nomination/nominated_for Academy_Award_for_Best_Writing_Adapted_Screenplay', 'Serpico /award/award_category/nominees./award/award_nomination/nominated_for BAFTA_Award_for_Best_Direction', 'Serpico /film/director/film Sidney_Lumet', 'The_Manchurian_Candidate /film/actor/film./film/performance/film Sidney_Lumet', 'The_Manchurian_Candidate /film/film/release_date_s./film/film_regional_release_date/film_release_region United_States_of_America', 'The_Manchurian_Candidate /film/film/featured_film_locations New_York_City', 'Academy_Award_for_Best_Actor /award/award_category/nominees./award/award_nomination/nominated_for The_Verdict', 'Academy_Award_for_Best_Actor /award/award_winning_work/awards_won./award/award_honor/award On_Golden_Pond', 'Academy_Award_for_Best_Actor /award/award_category/winners./award/award_honor/ceremony 54th_Academy_Awards', 'Academy_Award_for_Best_Actor /award/award_category/nominees./award/award_nomination/nominated_for Dog_Day_Afternoon', 'Academy_Award_for_Best_Actor /award/award_nominee/award_nominations./award/award_nomination/award James_Stewart', 'Academy_Award_for_Best_Actor /award/award_category/nominees./award/award_nomination/nominated_for Murder_on_the_Orient_Express', 'Academy_Award_for_Best_Actor /award/award_category/nominees./award/award_nomination/nominated_for The_Grapes_of_Wrath', 'Academy_Award_for_Best_Actor /award/award_nominee/award_nominations./award/award_nomination/award James_Earl_Jones', 'Academy_Award_for_Best_Actor /award/award_nominee/award_nominations./award/award_nomination/award Orson_Welles', 'National_Board_of_Review_Award_for_Best_Director /award/award_category/winners./award/award_honor/award_winner Sidney_Lumet', 'United_States_of_America /location/administrative_division/country New_York_City', 'United_States_of_America /dataworld/gardening_hint/split_to United_States_of_America', 'United_States_of_America /base/biblioness/bibs_location/country Baltimore', 'United_States_of_America /location/location/contains Philadelphia', 'United_States_of_America /base/biblioness/bibs_location/country Los_Angeles', 'United_States_of_America /base/biblioness/bibs_location/country Omaha', 'United_States_of_America /people/marriage_union_type/unions_of_this_type./people/marriage/location_of_ceremony Marriage', 'United_States_of_America /people/ethnicity/geographic_distribution Irish_American', 'United_States_of_America /film/film/country On_Golden_Pond', 'United_States_of_America /people/person/nationality Sidney_Lumet', 'United_States_of_America /film/film/release_date_s./film/film_regional_release_date/film_release_region How_the_West_Was_Won', 'United_States_of_America /people/person/nationality James_Earl_Jones', 'United_States_of_America /base/schemastaging/organization_extra/phone_number./base/schemastaging/phone_sandbox/service_location University_of_Minnesota', 'United_States_of_America /people/person/nationality James_Stewart', 'United_States_of_America /people/person/nationality Orson_Welles', \"United_States_of_America /film/film/release_date_s./film/film_regional_release_date/film_release_region Before_the_Devil_Knows_You're_Dead\", 'United_States_of_America /film/film/release_date_s./film/film_regional_release_date/film_release_region The_Grapes_of_Wrath', 'United_States_of_America /film/film/release_date_s./film/film_regional_release_date/film_release_region Dog_Day_Afternoon', 'United_States_of_America /film/film/release_date_s./film/film_regional_release_date/film_release_region The_Verdict', 'United_States_of_America /film/film/country The_Longest_Day', \"United_States_of_America /organization/organization/headquarters./location/mailing_address/country Professional_Children's_School\", 'United_States_of_America /film/film/release_date_s./film/film_regional_release_date/film_release_region The_Wiz', 'United_States_of_America /people/person/nationality Helen_Hayes', 'Los_Angeles /people/marriage_union_type/unions_of_this_type./people/marriage/location_of_ceremony Marriage', 'Los_Angeles /location/hud_county_place/place Los_Angeles', 'Orson_Welles /award/award_winner/awards_won./award/award_honor/award_winner James_Earl_Jones', 'Orson_Welles /award/award_nominee/award_nominations./award/award_nomination/award Academy_Award_for_Best_Director', 'Orson_Welles /people/person/profession Screenwriter', 'Orson_Welles /people/person/profession Television_Director', 'Orson_Welles /people/person/profession Film_Producer-GB', 'Orson_Welles /people/person/profession Film_Director', 'Orson_Welles /people/person/profession Actor-GB', 'Orson_Welles /people/person/spouse_s./people/marriage/type_of_union Marriage', 'Orson_Welles /people/person/gender Male', 'Orson_Welles /award/award_winner/awards_won./award/award_honor/award_winner Helen_Hayes', 'Sidney_Lumet /award/award_nominee/award_nominations./award/award_nomination/award Golden_Globe_Award_for_Best_Director_-_Motion_Picture', 'Sidney_Lumet /film/director/film Murder_on_the_Orient_Express', 'Sidney_Lumet /people/person/gender Male', 'Sidney_Lumet /film/director/film The_Verdict', 'Sidney_Lumet /award/award_nominee/award_nominations./award/award_nomination/nominated_for Dog_Day_Afternoon', 'Sidney_Lumet /award/award_nominee/award_nominations./award/award_nomination/award Academy_Award_for_Best_Writing_Adapted_Screenplay', 'Sidney_Lumet /award/award_nominee/award_nominations./award/award_nomination/award BAFTA_Award_for_Best_Film', 'Sidney_Lumet /people/person/profession Film_Director', 'Sidney_Lumet /people/person/profession Actor-GB', 'Sidney_Lumet /people/person/profession Film_Producer-GB', 'Sidney_Lumet /award/award_nominee/award_nominations./award/award_nomination/award BAFTA_Award_for_Best_Direction', 'Sidney_Lumet /people/person/places_lived./people/place_lived/location Philadelphia', 'Sidney_Lumet /people/person/profession Television_Director', 'Sidney_Lumet /film/director/film The_Wiz', 'Sidney_Lumet /award/award_nominee/award_nominations./award/award_nomination/award National_Society_of_Film_Critics_Award_for_Best_Director', 'Sidney_Lumet /people/deceased_person/place_of_death New_York_City', 'Sidney_Lumet /film/film/film_festivals 1982_Cannes_Film_Festival', 'Sidney_Lumet /people/person/profession Screenwriter', \"Sidney_Lumet /award/award_nominee/award_nominations./award/award_nomination/nominated_for Before_the_Devil_Knows_You're_Dead\", 'Sidney_Lumet /people/person/spouse_s./people/marriage/type_of_union Marriage', 'Sidney_Lumet /people/person/profession Television_producer-GB', 'Sidney_Lumet /award/award_nominee/award_nominations./award/award_nomination/award Academy_Award_for_Best_Director', 'Sidney_Lumet /education/educational_institution/students_graduates./education/education/student Columbia_University', 'Sidney_Lumet /people/cause_of_death/people Lymphoma', \"Sidney_Lumet /education/educational_institution/students_graduates./education/education/student Professional_Children's_School\", 'Golden_Globe_Award_for_Best_Director_-_Motion_Picture /award/award_category/disciplines_or_subjects Film_Director', 'Golden_Globe_Award_for_Best_Director_-_Motion_Picture /award/award_category/nominees./award/award_nomination/nominated_for The_Verdict', 'Golden_Globe_Award_for_Best_Director_-_Motion_Picture /award/award_category/nominees./award/award_nomination/nominated_for Dog_Day_Afternoon', 'Golden_Globe_Award_for_Best_Director_-_Motion_Picture /award/award_category/nominees./award/award_nomination/nominated_for On_Golden_Pond', '54th_Academy_Awards /award/award_category/winners./award/award_honor/ceremony Academy_Award_for_Best_Writing_Adapted_Screenplay', '54th_Academy_Awards /award/award_category/winners./award/award_honor/ceremony Academy_Award_for_Best_Director', '54th_Academy_Awards /award/award_ceremony/awards_presented./award/award_honor/honored_for On_Golden_Pond', 'Baltimore /people/marriage_union_type/unions_of_this_type./people/marriage/location_of_ceremony Marriage', 'Baltimore /location/hud_county_place/place Baltimore', 'BAFTA_Award_for_Best_Film /award/award_category/nominees./award/award_nomination/nominated_for Murder_on_the_Orient_Express', 'BAFTA_Award_for_Best_Film /award/award_category/nominees./award/award_nomination/nominated_for Dog_Day_Afternoon', 'BAFTA_Award_for_Best_Film /award/award_category/nominees./award/award_nomination/nominated_for On_Golden_Pond', 'Marriage /people/marriage_union_type/unions_of_this_type./people/marriage/location_of_ceremony Philadelphia', 'Marriage /people/marriage_union_type/unions_of_this_type./people/marriage/location_of_ceremony New_York_City', 'Marriage /people/person/spouse_s./people/marriage/type_of_union James_Earl_Jones', 'Marriage /people/person/spouse_s./people/marriage/type_of_union James_Stewart', 'Marriage /people/person/spouse_s./people/marriage/type_of_union Helen_Hayes', 'The_Verdict /award/award_category/nominees./award/award_nomination/nominated_for Academy_Award_for_Best_Writing_Adapted_Screenplay', 'The_Verdict /award/award_category/nominees./award/award_nomination/nominated_for Academy_Award_for_Best_Director', 'Philadelphia /location/hud_county_place/place Philadelphia', 'Murder_on_the_Orient_Express /award/award_category/nominees./award/award_nomination/nominated_for Academy_Award_for_Best_Writing_Adapted_Screenplay', 'Murder_on_the_Orient_Express /award/award_category/nominees./award/award_nomination/nominated_for BAFTA_Award_for_Best_Direction', \"Professional_Children's_School /organization/organization/headquarters./location/mailing_address/citytown New_York_City\", 'Helen_Hayes /award/award_winner/awards_won./award/award_honor/award_winner James_Earl_Jones', 'Helen_Hayes /award/award_category/winners./award/award_honor/award_winner Special_Tony_Award', 'Helen_Hayes /people/person/profession Actor-GB', 'On_Golden_Pond /award/award_winning_work/awards_won./award/award_honor/award Academy_Award_for_Best_Writing_Adapted_Screenplay', 'On_Golden_Pond /award/award_category/nominees./award/award_nomination/nominated_for BAFTA_Award_for_Best_Direction', 'On_Golden_Pond /award/award_category/nominees./award/award_nomination/nominated_for Academy_Award_for_Best_Director', 'Golden_Globe_Cecil_B._DeMille_Award /award/award_nominee/award_nominations./award/award_nomination/award James_Stewart', 'Primetime_Emmy_Award_for_Outstanding_Lead_Actor_-_Miniseries_or_a_Movie /award/award_nominee/award_nominations./award/award_nomination/award James_Earl_Jones', 'Dog_Day_Afternoon /award/award_category/nominees./award/award_nomination/nominated_for BAFTA_Award_for_Best_Direction', 'Dog_Day_Afternoon /award/award_category/nominees./award/award_nomination/nominated_for Academy_Award_for_Best_Director', 'Dog_Day_Afternoon /film/film/featured_film_locations New_York_City', 'James_Earl_Jones /award/award_nominee/award_nominations./award/award_nomination/award Tony_Award_for_Best_Actor_in_a_Play', 'James_Earl_Jones /people/person/gender Male', 'James_Earl_Jones /people/person/profession Actor-GB', 'Male /people/person/gender James_Stewart', 'University_of_Minnesota /education/educational_institution_campus/educational_institution University_of_Minnesota', 'The_Grapes_of_Wrath /award/award_category/nominees./award/award_nomination/nominated_for Academy_Award_for_Best_Writing_Adapted_Screenplay', 'The_Grapes_of_Wrath /award/award_winning_work/awards_won./award/award_honor/award Academy_Award_for_Best_Director', 'James_Stewart /film/actor/film./film/performance/film How_the_West_Was_Won', 'James_Stewart /people/person/profession Actor-GB', 'New_York_City /location/hud_county_place/place New_York_City', 'New_York_City /organization/organization/headquarters./location/mailing_address/citytown Columbia_University', 'Actor-GB /dataworld/gardening_hint/split_to Actor-GB', 'Omaha /location/hud_county_place/place Omaha', 'Television_producer-GB /dataworld/gardening_hint/split_to Television_producer-GB']\n"
     ]
    },
    {
     "data": {
      "application/vnd.jupyter.widget-view+json": {
       "model_id": "bbab9b310b0f4980b649aa51ba139605",
       "version_major": 2,
       "version_minor": 0
      },
      "text/plain": [
       "Split strings: 0it [00:00, ?it/s]"
      ]
     },
     "metadata": {},
     "output_type": "display_data"
    },
    {
     "data": {
      "application/vnd.jupyter.widget-view+json": {
       "model_id": "2881efbde7cc4d2786481802fd11e80f",
       "version_major": 2,
       "version_minor": 0
      },
      "text/plain": [
       "Stem Tokens:   0%|          | 0/218 [00:00<?, ?it/s]"
      ]
     },
     "metadata": {},
     "output_type": "display_data"
    },
    {
     "data": {
      "application/vnd.jupyter.widget-view+json": {
       "model_id": "11dbe580af2c47cd94c764965af2021b",
       "version_major": 2,
       "version_minor": 0
      },
      "text/plain": [
       "BM25S Count Tokens:   0%|          | 0/218 [00:00<?, ?it/s]"
      ]
     },
     "metadata": {},
     "output_type": "display_data"
    },
    {
     "data": {
      "application/vnd.jupyter.widget-view+json": {
       "model_id": "89d265f19c344f8382cbb54fe5c1eea5",
       "version_major": 2,
       "version_minor": 0
      },
      "text/plain": [
       "BM25S Compute Scores:   0%|          | 0/218 [00:00<?, ?it/s]"
      ]
     },
     "metadata": {},
     "output_type": "display_data"
    },
    {
     "data": {
      "application/vnd.jupyter.widget-view+json": {
       "model_id": "9f25fdb0a3ba438782404975eb4e9d4d",
       "version_major": 2,
       "version_minor": 0
      },
      "text/plain": [
       "Split strings:   0%|          | 0/1 [00:00<?, ?it/s]"
      ]
     },
     "metadata": {},
     "output_type": "display_data"
    },
    {
     "data": {
      "application/vnd.jupyter.widget-view+json": {
       "model_id": "83d4865147164b57a1b91320877353cb",
       "version_major": 2,
       "version_minor": 0
      },
      "text/plain": [
       "Stem Tokens:   0%|          | 0/1 [00:00<?, ?it/s]"
      ]
     },
     "metadata": {},
     "output_type": "display_data"
    },
    {
     "data": {
      "application/vnd.jupyter.widget-view+json": {
       "model_id": "52b4959316e04f81a7c849f227897fee",
       "version_major": 2,
       "version_minor": 0
      },
      "text/plain": [
       "BM25S Retrieve:   0%|          | 0/1 [00:00<?, ?it/s]"
      ]
     },
     "metadata": {},
     "output_type": "display_data"
    },
    {
     "name": "stdout",
     "output_type": "stream",
     "text": [
      "Full Context:\n",
      "\u001b[32;1m\u001b[1;3mSidney_Lumet /people/person/profession Film_Producer-GB\n",
      "Sidney_Lumet /people/person/profession Television_producer-GB\n",
      "Equus /film/director/film Sidney_Lumet\n",
      "Serpico /film/director/film Sidney_Lumet\n",
      "Sidney_Lumet /film/director/film The_Verdict\n",
      "Sidney_Lumet /film/director/film The_Wiz\n",
      "The_Manchurian_Candidate /film/actor/film./film/performance/film Sidney_Lumet\n",
      "Sidney_Lumet /film/film/film_festivals 1982_Cannes_Film_Festival\n",
      "Sidney_Lumet /film/director/film Murder_on_the_Orient_Express\n",
      "Sidney_Lumet /award/award_nominee/award_nominations./award/award_nomination/award BAFTA_Award_for_Best_Direction\n",
      "War_and_Peace /film/actor/film./film/performance/film Henry_Fonda\n",
      "Henry_Fonda /film/actor/film./film/performance/film The_Longest_Day\n",
      "Henry_Fonda /film/actor/film./film/performance/film In_Harm's_Way\n",
      "Henry_Fonda /film/actor/film./film/performance/film The_Grapes_of_Wrath\n",
      "Henry_Fonda /film/actor/film./film/performance/film On_Golden_Pond\n",
      "Sidney_Lumet /people/person/profession Film_Director\n",
      "Henry_Fonda /film/actor/film./film/performance/film How_the_West_Was_Won\n",
      "Orson_Welles /people/person/profession Film_Producer-GB\n",
      "Henry_Fonda /film/actor/film./film/performance/special_performance_type Cameo_appearance\n",
      "Television_producer-GB /dataworld/gardening_hint/split_to Television_producer-GB\n",
      "Sidney_Lumet /people/person/gender Male\n",
      "Sidney_Lumet /people/person/profession Screenwriter\n",
      "Sidney_Lumet /award/award_nominee/award_nominations./award/award_nomination/award BAFTA_Award_for_Best_Film\n",
      "Sidney_Lumet /people/person/profession Actor-GB\n",
      "Sidney_Lumet /people/cause_of_death/people Lymphoma\n",
      "Sidney_Lumet /people/person/profession Television_Director\n",
      "Henry_Fonda /people/person/gender Male\n",
      "United_States_of_America /people/person/nationality Sidney_Lumet\n",
      "Henry_Fonda /people/person/profession Actor-GB\n",
      "Henry_Fonda /people/ethnicity/people Dutch-American\n",
      "Henry_Fonda /people/ethnicity/people Irish_American\n",
      "Sidney_Lumet /award/award_nominee/award_nominations./award/award_nomination/award National_Society_of_Film_Critics_Award_for_Best_Director\n",
      "Cardiovascular_disease /people/cause_of_death/people Henry_Fonda\n",
      "Henry_Fonda /people/person/nationality United_States_of_America\n",
      "Los_Angeles_Film_Critics_Association_Award_for_Best_Director /award/award_category/winners./award/award_honor/award_winner Sidney_Lumet\n",
      "National_Society_of_Film_Critics_Award_for_Best_Actor /award/award_nominee/award_nominations./award/award_nomination/award Henry_Fonda\n",
      "Sidney_Lumet /people/person/spouse_s./people/marriage/type_of_union Marriage\n",
      "Sidney_Lumet /people/deceased_person/place_of_death New_York_City\n",
      "Henry_Fonda /people/deceased_person/place_of_death Los_Angeles\n",
      "Sidney_Lumet /people/person/places_lived./people/place_lived/location Philadelphia\n",
      "Henry_Fonda /people/person/spouse_s./people/marriage/type_of_union Marriage\n",
      "Rich_Little /base/americancomedy/celebrity_impressionist/celebrities_impersonated Henry_Fonda\n",
      "Henry_Fonda /people/person/spouse_s./people/marriage/location_of_ceremony Baltimore\n",
      "Palme_d'Or /award/award_nominee/award_nominations./award/award_nomination/award Sidney_Lumet\n",
      "Sidney_Lumet /education/educational_institution/students_graduates./education/education/student Columbia_University\n",
      "Henry_Fonda /people/person/places_lived./people/place_lived/location Omaha\n",
      "Sidney_Lumet /education/educational_institution/students_graduates./education/education/student Professional_Children's_School\n",
      "Henry_Fonda /base/popstra/celebrity/friendship./base/popstra/friendship/participant James_Stewart\n",
      "Henry_Fonda /education/educational_institution/students_graduates./education/education/student University_of_Minnesota\n",
      "Network /award/award_winning_work/awards_won./award/award_honor/award_winner Sidney_Lumet\n",
      "Sidney_Lumet /award/award_nominee/award_nominations./award/award_nomination/nominated_for Dog_Day_Afternoon\n",
      "Network /award/award_category/nominees./award/award_nomination/nominated_for BAFTA_Award_for_Best_Direction\n",
      "Serpico /award/award_category/nominees./award/award_nomination/nominated_for BAFTA_Award_for_Best_Direction\n",
      "Sidney_Lumet /award/award_nominee/award_nominations./award/award_nomination/award Academy_Award_for_Best_Director\n",
      "Henry_Fonda /award/award_category/winners./award/award_honor/award_winner Special_Tony_Award\n",
      "Henry_Fonda /award/award_nominee/award_nominations./award/award_nomination/award_nominee Orson_Welles\n",
      "Henry_Fonda /award/award_winner/awards_won./award/award_honor/award_winner Helen_Hayes\n",
      "On_Golden_Pond /award/award_category/nominees./award/award_nomination/nominated_for BAFTA_Award_for_Best_Direction\n",
      "Henry_Fonda /award/award_nominee/award_nominations./award/award_nomination/award_nominee James_Earl_Jones\n",
      "Henry_Fonda /award/award_category/winners./award/award_honor/award_winner Academy_Award_for_Best_Actor\n",
      "Henry_Fonda /award/award_nominee/award_nominations./award/award_nomination/award Academy_Award_for_Best_Picture\n",
      "Henry_Fonda /award/award_ceremony/awards_presented./award/award_honor/award_winner 54th_Academy_Awards\n",
      "Roots:_The_Next_Generations /tv/tv_program/regular_cast./tv/regular_tv_appearance/actor Henry_Fonda\n",
      "Sidney_Lumet /award/award_nominee/award_nominations./award/award_nomination/nominated_for Before_the_Devil_Knows_You're_Dead\n",
      "National_Board_of_Review_Award_for_Best_Director /award/award_category/winners./award/award_honor/award_winner Sidney_Lumet\n",
      "Sidney_Lumet /award/award_nominee/award_nominations./award/award_nomination/award Academy_Award_for_Best_Writing_Adapted_Screenplay\n",
      "Dog_Day_Afternoon /award/award_category/nominees./award/award_nomination/nominated_for BAFTA_Award_for_Best_Direction\n",
      "Murder_on_the_Orient_Express /award/award_category/nominees./award/award_nomination/nominated_for BAFTA_Award_for_Best_Direction\n",
      "Henry_Fonda /award/award_nominee/award_nominations./award/award_nomination/award Tony_Award_for_Best_Actor_in_a_Play\n",
      "Henry_Fonda /award/award_ceremony/awards_presented./award/award_honor/award_winner 37th_Golden_Globe_Awards\n",
      "Henry_Fonda /award/award_category/winners./award/award_honor/award_winner Golden_Globe_Cecil_B._DeMille_Award\n",
      "Sidney_Lumet /award/award_nominee/award_nominations./award/award_nomination/award Golden_Globe_Award_for_Best_Director_-_Motion_Picture\n",
      "BAFTA_Award_for_Best_Actor_in_a_Leading_Role /award/award_nominee/award_nominations./award/award_nomination/award Henry_Fonda\n",
      "National_Board_of_Review_Award_for_Best_Actor /award/award_category/winners./award/award_honor/award_winner Henry_Fonda\n",
      "Grammy_Award_for_Best_Spoken_Word_Album /award/award_nominee/award_nominations./award/award_nomination/award Henry_Fonda\n",
      "Henry_Fonda /award/award_nominee/award_nominations./award/award_nomination/award Primetime_Emmy_Award_for_Outstanding_Lead_Actor_-_Miniseries_or_a_Movie\n",
      "James_Stewart /film/actor/film./film/performance/film How_the_West_Was_Won\n",
      "United_States_of_America /film/film/release_date_s./film/film_regional_release_date/film_release_region The_Wiz\n",
      "Equus /film/film/release_date_s./film/film_regional_release_date/film_release_region United_States_of_America\n",
      "United_States_of_America /film/film/release_date_s./film/film_regional_release_date/film_release_region The_Verdict\n",
      "The_Manchurian_Candidate /film/film/release_date_s./film/film_regional_release_date/film_release_region United_States_of_America\n",
      "United_States_of_America /film/film/release_date_s./film/film_regional_release_date/film_release_region The_Grapes_of_Wrath\n",
      "Network /film/film/featured_film_locations New_York_City\n",
      "Serpico /film/film/featured_film_locations New_York_City\n",
      "United_States_of_America /film/film/release_date_s./film/film_regional_release_date/film_release_region How_the_West_Was_Won\n",
      "United_States_of_America /film/film/release_date_s./film/film_regional_release_date/film_release_region Dog_Day_Afternoon\n",
      "The_Manchurian_Candidate /film/film/featured_film_locations New_York_City\n",
      "United_States_of_America /film/film/release_date_s./film/film_regional_release_date/film_release_region Before_the_Devil_Knows_You're_Dead\n",
      "Dog_Day_Afternoon /film/film/featured_film_locations New_York_City\n",
      "Network /film/film/country United_States_of_America\n",
      "Serpico /film/film/country United_States_of_America\n",
      "United_States_of_America /film/film/country The_Longest_Day\n",
      "War_and_Peace /film/film/country United_States_of_America\n",
      "United_States_of_America /film/film/country On_Golden_Pond\n",
      "In_Harm's_Way /film/film/country United_States_of_America\n",
      "Orson_Welles /people/person/profession Film_Director\n",
      "Network /award/award_category/nominees./award/award_nomination/nominated_for BAFTA_Award_for_Best_Film\n",
      "BAFTA_Award_for_Best_Film /award/award_category/nominees./award/award_nomination/nominated_for On_Golden_Pond\n",
      "War_and_Peace /award/award_category/nominees./award/award_nomination/nominated_for BAFTA_Award_for_Best_Film\n",
      "Golden_Globe_Award_for_Best_Director_-_Motion_Picture /award/award_category/disciplines_or_subjects Film_Director\n",
      "BAFTA_Award_for_Best_Film /award/award_category/nominees./award/award_nomination/nominated_for Dog_Day_Afternoon\n",
      "BAFTA_Award_for_Best_Film /award/award_category/nominees./award/award_nomination/nominated_for Murder_on_the_Orient_Express\n",
      "National_Society_of_Film_Critics_Award_for_Best_Actor /award/award_category/nominees./award/award_nomination/nominated_for Network\n",
      "National_Society_of_Film_Critics_Award_for_Best_Actor /award/award_category/nominees./award/award_nomination/nominated_for On_Golden_Pond\n",
      "Network /award/award_winning_work/awards_won./award/award_honor/award Los_Angeles_Film_Critics_Association_Award_for_Best_Director\n",
      "Los_Angeles_Film_Critics_Association_Award_for_Best_Director /award/award_winning_work/awards_won./award/award_honor/award Dog_Day_Afternoon\n",
      "National_Society_of_Film_Critics_Award_for_Best_Actor /award/award_category/nominees./award/award_nomination/nominated_for Before_the_Devil_Knows_You're_Dead\n",
      "National_Board_of_Review_Award_for_Best_Actor /award/award_winning_work/awards_won./award/award_honor/award Serpico\n",
      "Academy_Award_for_Best_Picture /award/award_category/nominees./award/award_nomination/nominated_for The_Verdict\n",
      "National_Board_of_Review_Award_for_Best_Actor /award/award_winning_work/awards_won./award/award_honor/award On_Golden_Pond\n",
      "Equus /award/award_category/nominees./award/award_nomination/nominated_for Academy_Award_for_Best_Actor\n",
      "Equus /award/award_category/nominees./award/award_nomination/nominated_for Academy_Award_for_Best_Writing_Adapted_Screenplay\n",
      "Academy_Award_for_Best_Picture /award/award_category/nominees./award/award_nomination/nominated_for The_Grapes_of_Wrath\n",
      "Network /award/award_category/nominees./award/award_nomination/nominated_for Academy_Award_for_Best_Director\n",
      "Roots:_The_Next_Generations /tv/tv_program/country_of_origin United_States_of_America\n",
      "Roots:_The_Next_Generations /tv/tv_program/regular_cast./tv/regular_tv_appearance/actor James_Earl_Jones\n",
      "Cardiovascular_disease /medicine/disease/risk_factors Male\n",
      "Academy_Award_for_Best_Picture /award/award_category/winners./award/award_honor/ceremony 54th_Academy_Awards\n",
      "War_and_Peace /award/award_category/nominees./award/award_nomination/nominated_for Academy_Award_for_Best_Director\n",
      "War_and_Peace /award/award_category/nominees./award/award_nomination/nominated_for Golden_Globe_Award_for_Best_Director_-_Motion_Picture\n",
      "Rich_Little /people/person/gender Male\n",
      "Rich_Little /people/person/nationality United_States_of_America\n",
      "Rich_Little /base/americancomedy/celebrity_impressionist/celebrities_impersonated James_Stewart\n",
      "Rich_Little /base/americancomedy/celebrity_impressionist/celebrities_impersonated Orson_Welles\n",
      "Academy_Award_for_Best_Picture /award/award_category/nominees./award/award_nomination/nominated_for On_Golden_Pond\n",
      "New_York_City /organization/organization/headquarters./location/mailing_address/citytown Columbia_University\n",
      "New_York_City /location/hud_county_place/place New_York_City\n",
      "James_Stewart /people/person/profession Actor-GB\n",
      "The_Grapes_of_Wrath /award/award_winning_work/awards_won./award/award_honor/award Academy_Award_for_Best_Director\n",
      "The_Grapes_of_Wrath /award/award_category/nominees./award/award_nomination/nominated_for Academy_Award_for_Best_Writing_Adapted_Screenplay\n",
      "University_of_Minnesota /education/educational_institution_campus/educational_institution University_of_Minnesota\n",
      "Rich_Little /people/person/spouse_s./people/marriage/type_of_union Marriage\n",
      "Rich_Little /people/person/profession Actor-GB\n",
      "Network /award/award_winning_work/awards_won./award/award_honor/award Academy_Award_for_Best_Actor\n",
      "Network /award/award_winning_work/awards_won./award/award_honor/award Golden_Globe_Award_for_Best_Director_-_Motion_Picture\n",
      "Network /award/award_category/nominees./award/award_nomination/nominated_for Academy_Award_for_Best_Picture\n",
      "Actor-GB /dataworld/gardening_hint/split_to Actor-GB\n",
      "Professional_Children's_School /organization/organization/headquarters./location/mailing_address/citytown New_York_City\n",
      "Murder_on_the_Orient_Express /award/award_category/nominees./award/award_nomination/nominated_for Academy_Award_for_Best_Writing_Adapted_Screenplay\n",
      "Philadelphia /location/hud_county_place/place Philadelphia\n",
      "The_Verdict /award/award_category/nominees./award/award_nomination/nominated_for Academy_Award_for_Best_Director\n",
      "The_Verdict /award/award_category/nominees./award/award_nomination/nominated_for Academy_Award_for_Best_Writing_Adapted_Screenplay\n",
      "Marriage /people/person/spouse_s./people/marriage/type_of_union Helen_Hayes\n",
      "Marriage /people/person/spouse_s./people/marriage/type_of_union James_Stewart\n",
      "Marriage /people/person/spouse_s./people/marriage/type_of_union James_Earl_Jones\n",
      "Marriage /people/marriage_union_type/unions_of_this_type./people/marriage/location_of_ceremony New_York_City\n",
      "Grammy_Award_for_Best_Spoken_Word_Album /award/award_category/winners./award/award_honor/award_winner James_Earl_Jones\n",
      "Baltimore /location/hud_county_place/place Baltimore\n",
      "Baltimore /people/marriage_union_type/unions_of_this_type./people/marriage/location_of_ceremony Marriage\n",
      "54th_Academy_Awards /award/award_ceremony/awards_presented./award/award_honor/honored_for On_Golden_Pond\n",
      "54th_Academy_Awards /award/award_category/winners./award/award_honor/ceremony Academy_Award_for_Best_Director\n",
      "54th_Academy_Awards /award/award_category/winners./award/award_honor/ceremony Academy_Award_for_Best_Writing_Adapted_Screenplay\n",
      "Golden_Globe_Award_for_Best_Director_-_Motion_Picture /award/award_category/nominees./award/award_nomination/nominated_for On_Golden_Pond\n",
      "Golden_Globe_Award_for_Best_Director_-_Motion_Picture /award/award_category/nominees./award/award_nomination/nominated_for Dog_Day_Afternoon\n",
      "Golden_Globe_Award_for_Best_Director_-_Motion_Picture /award/award_category/nominees./award/award_nomination/nominated_for The_Verdict\n",
      "Orson_Welles /award/award_winner/awards_won./award/award_honor/award_winner Helen_Hayes\n",
      "Marriage /people/marriage_union_type/unions_of_this_type./people/marriage/location_of_ceremony Philadelphia\n",
      "Omaha /location/hud_county_place/place Omaha\n",
      "Grammy_Award_for_Best_Spoken_Word_Album /award/award_nominee/award_nominations./award/award_nomination/award Helen_Hayes\n",
      "Grammy_Award_for_Best_Spoken_Word_Album /award/award_nominee/award_nominations./award/award_nomination/award Orson_Welles\n",
      "BAFTA_Award_for_Best_Actor_in_a_Leading_Role /award/award_winning_work/awards_won./award/award_honor/award Dog_Day_Afternoon\n",
      "BAFTA_Award_for_Best_Actor_in_a_Leading_Role /award/award_category/nominees./award/award_nomination/nominated_for On_Golden_Pond\n",
      "BAFTA_Award_for_Best_Actor_in_a_Leading_Role /award/award_category/nominees./award/award_nomination/nominated_for Serpico\n",
      "BAFTA_Award_for_Best_Actor_in_a_Leading_Role /award/award_category/nominees./award/award_nomination/nominated_for Murder_on_the_Orient_Express\n",
      "BAFTA_Award_for_Best_Actor_in_a_Leading_Role /award/award_category/nominees./award/award_nomination/nominated_for Network\n",
      "Male /people/person/gender James_Stewart\n",
      "Helen_Hayes /award/award_winner/awards_won./award/award_honor/award_winner James_Earl_Jones\n",
      "James_Earl_Jones /people/person/gender Male\n",
      "James_Earl_Jones /award/award_nominee/award_nominations./award/award_nomination/award Tony_Award_for_Best_Actor_in_a_Play\n",
      "Dog_Day_Afternoon /award/award_category/nominees./award/award_nomination/nominated_for Academy_Award_for_Best_Director\n",
      "Primetime_Emmy_Award_for_Outstanding_Lead_Actor_-_Miniseries_or_a_Movie /award/award_nominee/award_nominations./award/award_nomination/award James_Earl_Jones\n",
      "Golden_Globe_Cecil_B._DeMille_Award /award/award_nominee/award_nominations./award/award_nomination/award James_Stewart\n",
      "On_Golden_Pond /award/award_category/nominees./award/award_nomination/nominated_for Academy_Award_for_Best_Director\n",
      "On_Golden_Pond /award/award_winning_work/awards_won./award/award_honor/award Academy_Award_for_Best_Writing_Adapted_Screenplay\n",
      "Helen_Hayes /people/person/profession Actor-GB\n",
      "Helen_Hayes /award/award_category/winners./award/award_honor/award_winner Special_Tony_Award\n",
      "James_Earl_Jones /people/person/profession Actor-GB\n",
      "United_States_of_America /location/administrative_division/country New_York_City\n",
      "Academy_Award_for_Best_Actor /award/award_nominee/award_nominations./award/award_nomination/award Orson_Welles\n",
      "Academy_Award_for_Best_Actor /award/award_nominee/award_nominations./award/award_nomination/award James_Earl_Jones\n",
      "Academy_Award_for_Best_Actor /award/award_category/nominees./award/award_nomination/nominated_for The_Grapes_of_Wrath\n",
      "Academy_Award_for_Best_Actor /award/award_category/nominees./award/award_nomination/nominated_for Murder_on_the_Orient_Express\n",
      "Academy_Award_for_Best_Actor /award/award_nominee/award_nominations./award/award_nomination/award James_Stewart\n",
      "Academy_Award_for_Best_Actor /award/award_category/nominees./award/award_nomination/nominated_for Dog_Day_Afternoon\n",
      "Academy_Award_for_Best_Actor /award/award_category/winners./award/award_honor/ceremony 54th_Academy_Awards\n",
      "Academy_Award_for_Best_Actor /award/award_winning_work/awards_won./award/award_honor/award On_Golden_Pond\n",
      "Orson_Welles /people/person/gender Male\n",
      "Serpico /award/award_category/nominees./award/award_nomination/nominated_for Academy_Award_for_Best_Writing_Adapted_Screenplay\n",
      "Serpico /award/award_category/nominees./award/award_nomination/nominated_for Academy_Award_for_Best_Actor\n",
      "Serpico /award/award_nominated_work/award_nominations./award/award_nomination/nominated_for Murder_on_the_Orient_Express\n",
      "37th_Golden_Globe_Awards /award/award_category/winners./award/award_honor/ceremony Golden_Globe_Cecil_B._DeMille_Award\n",
      "37th_Golden_Globe_Awards /award/award_category/winners./award/award_honor/ceremony Golden_Globe_Award_for_Best_Director_-_Motion_Picture\n",
      "Academy_Award_for_Best_Picture /award/award_nominee/award_nominations./award/award_nomination/award Orson_Welles\n",
      "Academy_Award_for_Best_Picture /award/award_category/nominees./award/award_nomination/nominated_for How_the_West_Was_Won\n",
      "Academy_Award_for_Best_Picture /award/award_category/nominees./award/award_nomination/nominated_for Dog_Day_Afternoon\n",
      "Academy_Award_for_Best_Picture /award/award_category/nominees./award/award_nomination/nominated_for The_Longest_Day\n",
      "Academy_Award_for_Best_Actor /award/award_category/nominees./award/award_nomination/nominated_for The_Verdict\n",
      "Orson_Welles /people/person/spouse_s./people/marriage/type_of_union Marriage\n",
      "Orson_Welles /people/person/profession Actor-GB\n",
      "Orson_Welles /people/person/profession Television_Director\n",
      "Orson_Welles /people/person/profession Screenwriter\n",
      "Orson_Welles /award/award_nominee/award_nominations./award/award_nomination/award Academy_Award_for_Best_Director\n",
      "Orson_Welles /award/award_winner/awards_won./award/award_honor/award_winner James_Earl_Jones\n",
      "Los_Angeles /location/hud_county_place/place Los_Angeles\n",
      "Los_Angeles /people/marriage_union_type/unions_of_this_type./people/marriage/location_of_ceremony Marriage\n",
      "United_States_of_America /people/person/nationality Helen_Hayes\n",
      "United_States_of_America /dataworld/gardening_hint/split_to United_States_of_America\n",
      "United_States_of_America /people/person/nationality Orson_Welles\n",
      "United_States_of_America /people/person/nationality James_Stewart\n",
      "United_States_of_America /base/schemastaging/organization_extra/phone_number./base/schemastaging/phone_sandbox/service_location University_of_Minnesota\n",
      "United_States_of_America /people/person/nationality James_Earl_Jones\n",
      "United_States_of_America /people/ethnicity/geographic_distribution Irish_American\n",
      "United_States_of_America /people/marriage_union_type/unions_of_this_type./people/marriage/location_of_ceremony Marriage\n",
      "United_States_of_America /base/biblioness/bibs_location/country Omaha\n",
      "United_States_of_America /base/biblioness/bibs_location/country Los_Angeles\n",
      "United_States_of_America /location/location/contains Philadelphia\n",
      "United_States_of_America /base/biblioness/bibs_location/country Baltimore\n",
      "United_States_of_America /organization/organization/headquarters./location/mailing_address/country Professional_Children's_School\u001b[0m\n"
     ]
    },
    {
     "name": "stderr",
     "output_type": "stream",
     "text": [
      "  0%|          | 2/3996 [00:05<3:17:38,  2.97s/it]"
     ]
    },
    {
     "name": "stdout",
     "output_type": "stream",
     "text": [
      "\n",
      "\u001b[1m> Finished chain.\u001b[0m\n",
      "Model: Sidney Lumet (produced the film 12 Angry Men)\n",
      "Who directed the films; The Fisher King (1991), 12 Monkeys (1995) and the Brothers Grimm (2005)?\n",
      "\n",
      "\n",
      "\u001b[1m> Entering new GraphChain chain...\u001b[0m\n",
      "Entities Extracted:\n",
      "\u001b[32;1m\u001b[1;3mTerry Gilliam\u001b[0m\n",
      "['The_Brothers_Grimm /film/film/distributors./film/film_film_distributor_relationship/region United_Kingdom', 'The_Brothers_Grimm /film/director/film Terry_Gilliam', 'Minnesota /people/marriage_union_type/unions_of_this_type./people/marriage/location_of_ceremony Marriage', 'Minnesota /location/location/contains Minneapolis', 'Minnesota /people/person/places_lived./people/place_lived/location Terry_Gilliam', 'Minneapolis /location/hud_county_place/place Minneapolis', 'Minneapolis /people/person/place_of_birth Terry_Gilliam', 'BAFTA_Academy_Fellowship_Award /award/award_nominee/award_nominations./award/award_nomination/award Terry_Gilliam', 'BAFTA_Academy_Fellowship_Award /award/award_nominee/award_nominations./award/award_nomination/award Dawn_French', 'Writer-GB /people/profession/specialization_of Screenwriter', 'Writer-GB /people/person/profession Michael_Palin', 'Writer-GB /people/person/profession Eric_Idle', 'Writer-GB /people/person/profession Terry_Gilliam', 'Writer-GB /people/person/profession Philip_K._Dick', 'Writer-GB /people/person/profession Graham_Chapman', 'Writer-GB /people/person/profession Terry_Jones', 'Los_Angeles_Film_Critics_Association_Award_for_Best_Director /award/award_winning_work/awards_won./award/award_honor/award Brazil', 'Los_Angeles_Film_Critics_Association_Award_for_Best_Director /award/award_category/winners./award/award_honor/award_winner Terry_Gilliam', 'Monty_Python /music/group_member/membership./music/group_membership/group Michael_Palin', 'Monty_Python /music/group_member/membership./music/group_membership/group Eric_Idle', 'Monty_Python /music/group_member/membership./music/group_membership/group John_Cleese', 'Monty_Python /music/group_member/membership./music/group_membership/group Terry_Gilliam', 'Monty_Python /music/group_member/membership./music/group_membership/group Graham_Chapman', 'Monty_Python /music/group_member/membership./music/group_membership/group Terry_Jones', 'Eric_Idle /film/actor/film./film/performance/film The_Adventures_of_Baron_Munchausen', 'Eric_Idle /award/award_nominee/award_nominations./award/award_nomination/award_nominee John_Cleese', 'Eric_Idle /award/award_nominee/award_nominations./award/award_nomination/award_nominee Terry_Gilliam', 'Eric_Idle /award/award_nominee/award_nominations./award/award_nomination/award_nominee Terry_Jones', 'Eric_Idle /award/award_nominee/award_nominations./award/award_nomination/award_nominee Michael_Palin', 'Eric_Idle /award/award_nominee/award_nominations./award/award_nomination/award_nominee Graham_Chapman', 'Eric_Idle /film/film/written_by Monty_Python_and_the_Holy_Grail', 'Eric_Idle /award/award_nominee/award_nominations./award/award_nomination/award Hugo_Award_for_Best_Dramatic_Presentation', 'Eric_Idle /people/person/spouse_s./people/marriage/type_of_union Marriage', 'Eric_Idle /people/person/profession Film_Director', 'Eric_Idle /people/person/profession Film_Producer-GB', 'Eric_Idle /people/person/profession Screenwriter', 'Eric_Idle /people/person/profession Actor-GB', 'Eric_Idle /people/person/gender Male', 'Dawn_French /award/award_nominee/award_nominations./award/award_nomination/award_nominee Terry_Gilliam', 'Dawn_French /people/person/profession Actor-GB', 'Dawn_French /people/person/nationality United_Kingdom', 'Dawn_French /people/person/spouse_s./people/marriage/type_of_union Marriage', 'Dawn_French /influence/influence_node/influenced_by John_Cleese', 'Dawn_French /people/person/profession Screenwriter', 'Occidental_College /education/educational_institution_campus/educational_institution Occidental_College', 'Occidental_College /education/educational_institution/students_graduates./education/education/student Terry_Gilliam', 'Michael_Palin /film/film/written_by Monty_Python_and_the_Holy_Grail', 'Michael_Palin /film/actor/film./film/performance/film Brazil', 'Michael_Palin /award/award_nominee/award_nominations./award/award_nomination/award_nominee John_Cleese', 'Michael_Palin /people/person/spouse_s./people/marriage/type_of_union Marriage', 'Michael_Palin /award/award_nominee/award_nominations./award/award_nomination/award Hugo_Award_for_Best_Dramatic_Presentation', 'Michael_Palin /people/person/gender Male', 'Michael_Palin /people/person/profession Actor-GB', 'Michael_Palin /award/award_nominee/award_nominations./award/award_nomination/award_nominee Terry_Jones', 'Michael_Palin /people/person/profession Screenwriter', 'Michael_Palin /award/award_nominee/award_nominations./award/award_nomination/award_nominee Graham_Chapman', 'Michael_Palin /award/award_nominee/award_nominations./award/award_nomination/award_nominee Terry_Gilliam', 'Golden_Globe_Award_for_Best_Director_-_Motion_Picture /award/award_category/disciplines_or_subjects Film_Director', 'Golden_Globe_Award_for_Best_Director_-_Motion_Picture /award/award_category/nominees./award/award_nomination/nominated_for The_Fisher_King', 'Golden_Globe_Award_for_Best_Director_-_Motion_Picture /award/award_nominee/award_nominations./award/award_nomination/award Terry_Gilliam', 'The_Adventures_of_Baron_Munchausen /film/film/country United_Kingdom', 'The_Adventures_of_Baron_Munchausen /film/director/film Terry_Gilliam', 'Fear_and_Loathing_in_Las_Vegas /film/film/written_by Terry_Gilliam', 'Terry_Jones /award/award_nominee/award_nominations./award/award_nomination/award_nominee John_Cleese', 'Terry_Jones /film/director/film Monty_Python_and_the_Holy_Grail', 'Terry_Jones /award/award_nominee/award_nominations./award/award_nomination/award_nominee Terry_Gilliam', 'Terry_Jones /people/person/spouse_s./people/marriage/type_of_union Marriage', 'Terry_Jones /people/person/profession Film_Director', 'Terry_Jones /award/award_nominee/award_nominations./award/award_nomination/award_nominee Graham_Chapman', 'Terry_Jones /people/person/gender Male', 'Terry_Jones /people/person/profession Actor-GB', 'Terry_Jones /people/person/nationality United_Kingdom', 'Terry_Jones /people/person/profession Screenwriter', 'Terry_Jones /award/award_nominee/award_nominations./award/award_nomination/award Hugo_Award_for_Best_Dramatic_Presentation', 'Marriage /people/marriage_union_type/unions_of_this_type./people/marriage/location_of_ceremony United_Kingdom', 'Marriage /people/person/spouse_s./people/marriage/type_of_union Tom_Stoppard', 'Marriage /people/person/spouse_s./people/marriage/type_of_union John_Cleese', 'Marriage /people/person/spouse_s./people/marriage/type_of_union Terry_Gilliam', 'Marriage /people/person/spouse_s./people/marriage/type_of_union Philip_K._Dick', 'The_Imaginarium_of_Dr._Parnassus /film/film/country United_Kingdom', 'The_Imaginarium_of_Dr._Parnassus /film/director/film Terry_Gilliam', 'Satellite_Award_for_Best_Original_Song /award/award_nominee/award_nominations./award/award_nomination/award Terry_Gilliam', 'Animator-GB /people/person/profession Terry_Gilliam', 'Academy_Award_for_Best_Original_Screenplay /award/award_category/nominees./award/award_nomination/nominated_for The_Fisher_King', 'Academy_Award_for_Best_Original_Screenplay /award/award_nominee/award_nominations./award/award_nomination/award Tom_Stoppard', 'Academy_Award_for_Best_Original_Screenplay /award/award_category/nominees./award/award_nomination/nominated_for Brazil', 'Academy_Award_for_Best_Original_Screenplay /award/award_nominee/award_nominations./award/award_nomination/award John_Cleese', 'Academy_Award_for_Best_Original_Screenplay /award/award_nominee/award_nominations./award/award_nomination/award Terry_Gilliam', 'Brazil /film/film/release_date_s./film/film_regional_release_date/film_release_region United_Kingdom', 'Brazil /award/award_nominee/award_nominations./award/award_nomination/nominated_for Terry_Gilliam', 'Brazil /award/award_nominee/award_nominations./award/award_nomination/nominated_for Tom_Stoppard', 'Terry_Gilliam /award/award_nominee/award_nominations./award/award_nomination/award_nominee John_Cleese', 'Terry_Gilliam /film/director/film Monty_Python_and_the_Holy_Grail', 'Terry_Gilliam /people/person/profession Film_Producer-GB', 'Terry_Gilliam /people/person/nationality United_Kingdom', 'Terry_Gilliam /people/person/profession Actor-GB', 'Terry_Gilliam /film/director/film The_Fisher_King', 'Terry_Gilliam /people/person/profession Film_Director', 'Terry_Gilliam /award/award_nominee/award_nominations./award/award_nomination/award_nominee Tom_Stoppard', 'Terry_Gilliam /award/award_nominee/award_nominations./award/award_nomination/award Hugo_Award_for_Best_Dramatic_Presentation', 'Terry_Gilliam /people/person/profession Screenwriter', 'Terry_Gilliam /influence/influence_node/influenced_by Philip_K._Dick', 'Terry_Gilliam /people/person/gender Male', 'Terry_Gilliam /award/award_nominee/award_nominations./award/award_nomination/award_nominee Graham_Chapman', 'Male /people/person/gender Tom_Stoppard', 'Male /people/person/gender John_Cleese', 'Male /people/person/gender Philip_K._Dick', 'Male /people/person/gender Graham_Chapman', 'Film_Producer-GB /people/person/profession John_Cleese', 'United_Kingdom /film/film/country Monty_Python_and_the_Holy_Grail', 'United_Kingdom /people/person/nationality John_Cleese', 'United_Kingdom /people/person/nationality Graham_Chapman', 'Hugo_Award_for_Best_Dramatic_Presentation /award/award_nominee/award_nominations./award/award_nomination/award John_Cleese', 'Hugo_Award_for_Best_Dramatic_Presentation /award/award_nominee/award_nominations./award/award_nomination/award Graham_Chapman', 'Hugo_Award_for_Best_Dramatic_Presentation /award/award_category/nominees./award/award_nomination/nominated_for Monty_Python_and_the_Holy_Grail', 'Graham_Chapman /award/award_nominee/award_nominations./award/award_nomination/award_nominee John_Cleese', 'Graham_Chapman /award/award_nominee/award_nominations./award/award_nomination/nominated_for Monty_Python_and_the_Holy_Grail', 'Graham_Chapman /people/person/profession Screenwriter', 'Graham_Chapman /people/person/profession Actor-GB', 'Tom_Stoppard /people/person/profession Screenwriter', 'Actor-GB /dataworld/gardening_hint/split_to Actor-GB', 'Actor-GB /people/person/profession John_Cleese', 'Screenwriter /people/person/profession John_Cleese', 'Film_Director /people/person/profession John_Cleese', 'Monty_Python_and_the_Holy_Grail /film/film/written_by John_Cleese']\n"
     ]
    },
    {
     "data": {
      "application/vnd.jupyter.widget-view+json": {
       "model_id": "841f28627124408fad119aee3361764e",
       "version_major": 2,
       "version_minor": 0
      },
      "text/plain": [
       "Split strings: 0it [00:00, ?it/s]"
      ]
     },
     "metadata": {},
     "output_type": "display_data"
    },
    {
     "data": {
      "application/vnd.jupyter.widget-view+json": {
       "model_id": "3b840a4b41384f06a23a4907137d37a4",
       "version_major": 2,
       "version_minor": 0
      },
      "text/plain": [
       "Stem Tokens:   0%|          | 0/125 [00:00<?, ?it/s]"
      ]
     },
     "metadata": {},
     "output_type": "display_data"
    },
    {
     "data": {
      "application/vnd.jupyter.widget-view+json": {
       "model_id": "11dc4b0cc2664fbda90e4c602deb3266",
       "version_major": 2,
       "version_minor": 0
      },
      "text/plain": [
       "BM25S Count Tokens:   0%|          | 0/125 [00:00<?, ?it/s]"
      ]
     },
     "metadata": {},
     "output_type": "display_data"
    },
    {
     "data": {
      "application/vnd.jupyter.widget-view+json": {
       "model_id": "dad80b5223e649dfa3a117d0bcea2b8c",
       "version_major": 2,
       "version_minor": 0
      },
      "text/plain": [
       "BM25S Compute Scores:   0%|          | 0/125 [00:00<?, ?it/s]"
      ]
     },
     "metadata": {},
     "output_type": "display_data"
    },
    {
     "data": {
      "application/vnd.jupyter.widget-view+json": {
       "model_id": "d20ef93e4bef46cd8d7b0fbcc29a70c1",
       "version_major": 2,
       "version_minor": 0
      },
      "text/plain": [
       "Split strings:   0%|          | 0/1 [00:00<?, ?it/s]"
      ]
     },
     "metadata": {},
     "output_type": "display_data"
    },
    {
     "data": {
      "application/vnd.jupyter.widget-view+json": {
       "model_id": "19b60b2d52aa4fa8a67575ae1fbe1ad5",
       "version_major": 2,
       "version_minor": 0
      },
      "text/plain": [
       "Stem Tokens:   0%|          | 0/1 [00:00<?, ?it/s]"
      ]
     },
     "metadata": {},
     "output_type": "display_data"
    },
    {
     "data": {
      "application/vnd.jupyter.widget-view+json": {
       "model_id": "dffaae2661d44112b96158af0f455484",
       "version_major": 2,
       "version_minor": 0
      },
      "text/plain": [
       "BM25S Retrieve:   0%|          | 0/1 [00:00<?, ?it/s]"
      ]
     },
     "metadata": {},
     "output_type": "display_data"
    },
    {
     "name": "stdout",
     "output_type": "stream",
     "text": [
      "Full Context:\n",
      "\u001b[32;1m\u001b[1;3mThe_Brothers_Grimm /film/director/film Terry_Gilliam\n",
      "Terry_Gilliam /film/director/film The_Fisher_King\n",
      "The_Brothers_Grimm /film/film/distributors./film/film_film_distributor_relationship/region United_Kingdom\n",
      "Academy_Award_for_Best_Original_Screenplay /award/award_category/nominees./award/award_nomination/nominated_for The_Fisher_King\n",
      "Golden_Globe_Award_for_Best_Director_-_Motion_Picture /award/award_category/nominees./award/award_nomination/nominated_for The_Fisher_King\n",
      "Michael_Palin /film/actor/film./film/performance/film Brazil\n",
      "Eric_Idle /film/actor/film./film/performance/film The_Adventures_of_Baron_Munchausen\n",
      "Brazil /film/film/release_date_s./film/film_regional_release_date/film_release_region United_Kingdom\n",
      "The_Adventures_of_Baron_Munchausen /film/film/country United_Kingdom\n",
      "The_Adventures_of_Baron_Munchausen /film/director/film Terry_Gilliam\n",
      "The_Imaginarium_of_Dr._Parnassus /film/film/country United_Kingdom\n",
      "The_Imaginarium_of_Dr._Parnassus /film/director/film Terry_Gilliam\n",
      "Eric_Idle /film/film/written_by Monty_Python_and_the_Holy_Grail\n",
      "Michael_Palin /film/film/written_by Monty_Python_and_the_Holy_Grail\n",
      "Terry_Jones /film/director/film Monty_Python_and_the_Holy_Grail\n",
      "Terry_Gilliam /film/director/film Monty_Python_and_the_Holy_Grail\n",
      "Fear_and_Loathing_in_Las_Vegas /film/film/written_by Terry_Gilliam\n",
      "United_Kingdom /film/film/country Monty_Python_and_the_Holy_Grail\n",
      "Monty_Python_and_the_Holy_Grail /film/film/written_by John_Cleese\n",
      "Eric_Idle /people/person/profession Film_Director\n",
      "Terry_Jones /people/person/profession Film_Director\n",
      "Terry_Gilliam /people/person/profession Film_Director\n",
      "Film_Director /people/person/profession John_Cleese\n",
      "Eric_Idle /people/person/profession Film_Producer-GB\n",
      "Terry_Gilliam /people/person/profession Film_Producer-GB\n",
      "Film_Producer-GB /people/person/profession John_Cleese\n",
      "Golden_Globe_Award_for_Best_Director_-_Motion_Picture /award/award_category/disciplines_or_subjects Film_Director\n",
      "Los_Angeles_Film_Critics_Association_Award_for_Best_Director /award/award_winning_work/awards_won./award/award_honor/award Brazil\n",
      "Los_Angeles_Film_Critics_Association_Award_for_Best_Director /award/award_category/winners./award/award_honor/award_winner Terry_Gilliam\n",
      "Eric_Idle /award/award_nominee/award_nominations./award/award_nomination/award Hugo_Award_for_Best_Dramatic_Presentation\n",
      "Eric_Idle /people/person/spouse_s./people/marriage/type_of_union Marriage\n",
      "Eric_Idle /award/award_nominee/award_nominations./award/award_nomination/award_nominee Graham_Chapman\n",
      "Michael_Palin /people/person/gender Male\n",
      "Eric_Idle /people/person/profession Screenwriter\n",
      "Eric_Idle /people/person/profession Actor-GB\n",
      "Eric_Idle /people/person/gender Male\n",
      "Michael_Palin /people/person/spouse_s./people/marriage/type_of_union Marriage\n",
      "Dawn_French /award/award_nominee/award_nominations./award/award_nomination/award_nominee Terry_Gilliam\n",
      "Dawn_French /people/person/profession Actor-GB\n",
      "Dawn_French /people/person/nationality United_Kingdom\n",
      "Dawn_French /people/person/spouse_s./people/marriage/type_of_union Marriage\n",
      "Michael_Palin /award/award_nominee/award_nominations./award/award_nomination/award_nominee John_Cleese\n",
      "Dawn_French /influence/influence_node/influenced_by John_Cleese\n",
      "Dawn_French /people/person/profession Screenwriter\n",
      "Tom_Stoppard /people/person/profession Screenwriter\n",
      "Occidental_College /education/educational_institution_campus/educational_institution Occidental_College\n",
      "Occidental_College /education/educational_institution/students_graduates./education/education/student Terry_Gilliam\n",
      "Minnesota /people/marriage_union_type/unions_of_this_type./people/marriage/location_of_ceremony Marriage\n",
      "BAFTA_Academy_Fellowship_Award /award/award_nominee/award_nominations./award/award_nomination/award Dawn_French\n",
      "Minnesota /location/location/contains Minneapolis\n",
      "Minnesota /people/person/places_lived./people/place_lived/location Terry_Gilliam\n",
      "Minneapolis /location/hud_county_place/place Minneapolis\n",
      "Minneapolis /people/person/place_of_birth Terry_Gilliam\n",
      "BAFTA_Academy_Fellowship_Award /award/award_nominee/award_nominations./award/award_nomination/award Terry_Gilliam\n",
      "Writer-GB /people/profession/specialization_of Screenwriter\n",
      "Writer-GB /people/person/profession Michael_Palin\n",
      "Writer-GB /people/person/profession Eric_Idle\n",
      "Writer-GB /people/person/profession Terry_Gilliam\n",
      "Writer-GB /people/person/profession Philip_K._Dick\n",
      "Michael_Palin /award/award_nominee/award_nominations./award/award_nomination/award Hugo_Award_for_Best_Dramatic_Presentation\n",
      "Writer-GB /people/person/profession Terry_Jones\n",
      "Monty_Python /music/group_member/membership./music/group_membership/group Michael_Palin\n",
      "Monty_Python /music/group_member/membership./music/group_membership/group Eric_Idle\n",
      "Monty_Python /music/group_member/membership./music/group_membership/group John_Cleese\n",
      "Monty_Python /music/group_member/membership./music/group_membership/group Terry_Gilliam\n",
      "Monty_Python /music/group_member/membership./music/group_membership/group Graham_Chapman\n",
      "Monty_Python /music/group_member/membership./music/group_membership/group Terry_Jones\n",
      "Hugo_Award_for_Best_Dramatic_Presentation /award/award_nominee/award_nominations./award/award_nomination/award John_Cleese\n",
      "Eric_Idle /award/award_nominee/award_nominations./award/award_nomination/award_nominee John_Cleese\n",
      "Eric_Idle /award/award_nominee/award_nominations./award/award_nomination/award_nominee Terry_Gilliam\n",
      "Eric_Idle /award/award_nominee/award_nominations./award/award_nomination/award_nominee Terry_Jones\n",
      "Eric_Idle /award/award_nominee/award_nominations./award/award_nomination/award_nominee Michael_Palin\n",
      "Writer-GB /people/person/profession Graham_Chapman\n",
      "Hugo_Award_for_Best_Dramatic_Presentation /award/award_nominee/award_nominations./award/award_nomination/award Graham_Chapman\n",
      "Satellite_Award_for_Best_Original_Song /award/award_nominee/award_nominations./award/award_nomination/award Terry_Gilliam\n",
      "Animator-GB /people/person/profession Terry_Gilliam\n",
      "Screenwriter /people/person/profession John_Cleese\n",
      "Academy_Award_for_Best_Original_Screenplay /award/award_nominee/award_nominations./award/award_nomination/award Tom_Stoppard\n",
      "Academy_Award_for_Best_Original_Screenplay /award/award_category/nominees./award/award_nomination/nominated_for Brazil\n",
      "Academy_Award_for_Best_Original_Screenplay /award/award_nominee/award_nominations./award/award_nomination/award John_Cleese\n",
      "Academy_Award_for_Best_Original_Screenplay /award/award_nominee/award_nominations./award/award_nomination/award Terry_Gilliam\n",
      "United_Kingdom /people/person/nationality Graham_Chapman\n",
      "Brazil /award/award_nominee/award_nominations./award/award_nomination/nominated_for Terry_Gilliam\n",
      "Brazil /award/award_nominee/award_nominations./award/award_nomination/nominated_for Tom_Stoppard\n",
      "Terry_Gilliam /award/award_nominee/award_nominations./award/award_nomination/award_nominee John_Cleese\n",
      "Actor-GB /dataworld/gardening_hint/split_to Actor-GB\n",
      "Terry_Gilliam /people/person/nationality United_Kingdom\n",
      "Terry_Gilliam /people/person/profession Actor-GB\n",
      "Terry_Gilliam /award/award_nominee/award_nominations./award/award_nomination/award_nominee Tom_Stoppard\n",
      "Terry_Gilliam /award/award_nominee/award_nominations./award/award_nomination/award Hugo_Award_for_Best_Dramatic_Presentation\n",
      "Terry_Gilliam /people/person/profession Screenwriter\n",
      "Terry_Gilliam /influence/influence_node/influenced_by Philip_K._Dick\n",
      "Terry_Gilliam /people/person/gender Male\n",
      "Terry_Gilliam /award/award_nominee/award_nominations./award/award_nomination/award_nominee Graham_Chapman\n",
      "Male /people/person/gender Tom_Stoppard\n",
      "Male /people/person/gender John_Cleese\n",
      "Male /people/person/gender Philip_K._Dick\n",
      "Male /people/person/gender Graham_Chapman\n",
      "United_Kingdom /people/person/nationality John_Cleese\n",
      "Michael_Palin /people/person/profession Actor-GB\n",
      "Michael_Palin /award/award_nominee/award_nominations./award/award_nomination/award_nominee Terry_Jones\n",
      "Michael_Palin /people/person/profession Screenwriter\n",
      "Michael_Palin /award/award_nominee/award_nominations./award/award_nomination/award_nominee Graham_Chapman\n",
      "Michael_Palin /award/award_nominee/award_nominations./award/award_nomination/award_nominee Terry_Gilliam\n",
      "Graham_Chapman /people/person/profession Actor-GB\n",
      "Golden_Globe_Award_for_Best_Director_-_Motion_Picture /award/award_nominee/award_nominations./award/award_nomination/award Terry_Gilliam\n",
      "Graham_Chapman /people/person/profession Screenwriter\n",
      "Graham_Chapman /award/award_nominee/award_nominations./award/award_nomination/nominated_for Monty_Python_and_the_Holy_Grail\n",
      "Actor-GB /people/person/profession John_Cleese\n",
      "Terry_Jones /award/award_nominee/award_nominations./award/award_nomination/award_nominee John_Cleese\n",
      "Graham_Chapman /award/award_nominee/award_nominations./award/award_nomination/award_nominee John_Cleese\n",
      "Hugo_Award_for_Best_Dramatic_Presentation /award/award_category/nominees./award/award_nomination/nominated_for Monty_Python_and_the_Holy_Grail\n",
      "Terry_Jones /people/person/spouse_s./people/marriage/type_of_union Marriage\n",
      "Terry_Jones /award/award_nominee/award_nominations./award/award_nomination/award_nominee Graham_Chapman\n",
      "Terry_Jones /people/person/gender Male\n",
      "Terry_Jones /people/person/profession Actor-GB\n",
      "Terry_Jones /people/person/nationality United_Kingdom\n",
      "Terry_Jones /people/person/profession Screenwriter\n",
      "Terry_Jones /award/award_nominee/award_nominations./award/award_nomination/award Hugo_Award_for_Best_Dramatic_Presentation\n",
      "Marriage /people/marriage_union_type/unions_of_this_type./people/marriage/location_of_ceremony United_Kingdom\n",
      "Marriage /people/person/spouse_s./people/marriage/type_of_union Tom_Stoppard\n",
      "Marriage /people/person/spouse_s./people/marriage/type_of_union John_Cleese\n",
      "Marriage /people/person/spouse_s./people/marriage/type_of_union Terry_Gilliam\n",
      "Marriage /people/person/spouse_s./people/marriage/type_of_union Philip_K._Dick\n",
      "Terry_Jones /award/award_nominee/award_nominations./award/award_nomination/award_nominee Terry_Gilliam\u001b[0m\n"
     ]
    },
    {
     "name": "stderr",
     "output_type": "stream",
     "text": [
      "  0%|          | 3/3996 [00:07<2:44:24,  2.47s/it]"
     ]
    },
    {
     "name": "stdout",
     "output_type": "stream",
     "text": [
      "\n",
      "\u001b[1m> Finished chain.\u001b[0m\n",
      "Model: Terry Gilliam\n",
      "Who directed the 2013 film 12 Years a Slave?\n",
      "\n",
      "\n",
      "\u001b[1m> Entering new GraphChain chain...\u001b[0m\n",
      "Entities Extracted:\n",
      "\u001b[32;1m\u001b[1;3mSteve McQueen\u001b[0m\n",
      "['Barbra_Streisand /award/award_winner/awards_won./award/award_honor/award_winner Steve_McQueen', 'Barbra_Streisand /people/person/profession Actor-GB', 'Barbra_Streisand /people/person/spouse_s./people/marriage/type_of_union Marriage', 'Barbra_Streisand /people/person/profession Film_Producer-GB', 'Barbra_Streisand /people/person/nationality United_States_of_America', 'Steve_McQueen /people/person/nationality United_States_of_America', 'Steve_McQueen /film/actor/film./film/performance/film The_Sand_Pebbles', 'Steve_McQueen /award/award_nominee/award_nominations./award/award_nomination/award Academy_Award_for_Best_Actor', 'Steve_McQueen /people/person/profession Actor-GB', 'Steve_McQueen /award/award_nominee/award_nominations./award/award_nomination/award_nominee Julie_Andrews', 'Steve_McQueen /people/person/places_lived./people/place_lived/location Indianapolis', 'Steve_McQueen /film/actor/film./film/performance/film The_Towering_Inferno', 'Steve_McQueen /people/person/employment_history./business/employment_tenure/company US_Marines', 'Steve_McQueen /people/person/gender Male', 'Steve_McQueen /people/person/profession Film_Producer-GB', 'Steve_McQueen /people/person/spouse_s./people/marriage/type_of_union Marriage', 'Steve_McQueen /people/person/religion Catholicism', 'Steve_McQueen /people/person/places_lived./people/place_lived/location Los_Angeles', 'Steve_McQueen /people/person/places_lived./people/place_lived/location Long_Island', 'Steve_McQueen /people/cause_of_death/people Myocardial_infarction', 'Steve_McQueen /people/ethnicity/people Scottish_American', 'United_States_of_America /location/location/contains Long_Island', 'United_States_of_America /dataworld/gardening_hint/split_to United_States_of_America', 'United_States_of_America /base/biblioness/bibs_location/country Los_Angeles', 'United_States_of_America /location/location/contains Indianapolis', 'United_States_of_America /people/marriage_union_type/unions_of_this_type./people/marriage/location_of_ceremony Marriage', 'United_States_of_America /film/film/country The_Sand_Pebbles', 'United_States_of_America /film/film/country The_Towering_Inferno', 'United_States_of_America /people/ethnicity/geographic_distribution Scottish_American', 'The_Sand_Pebbles /award/award_category/nominees./award/award_nomination/nominated_for Academy_Award_for_Best_Actor', 'Indianapolis /people/marriage_union_type/unions_of_this_type./people/marriage/location_of_ceremony Marriage', 'Indianapolis /location/hud_county_place/place Indianapolis', 'Los_Angeles /people/marriage_union_type/unions_of_this_type./people/marriage/location_of_ceremony Marriage', 'Los_Angeles /location/hud_county_place/place Los_Angeles', 'Myocardial_infarction /medicine/disease/risk_factors Male', 'Actor-GB /dataworld/gardening_hint/split_to Actor-GB', 'Actor-GB /people/person/profession Julie_Andrews', 'Julie_Andrews /people/person/spouse_s./people/marriage/type_of_union Marriage', 'Marriage /people/marriage_union_type/unions_of_this_type./people/marriage/location_of_ceremony Long_Island']\n"
     ]
    },
    {
     "data": {
      "application/vnd.jupyter.widget-view+json": {
       "model_id": "cf8a30240bb8400cbfc719577ced5917",
       "version_major": 2,
       "version_minor": 0
      },
      "text/plain": [
       "Split strings: 0it [00:00, ?it/s]"
      ]
     },
     "metadata": {},
     "output_type": "display_data"
    },
    {
     "data": {
      "application/vnd.jupyter.widget-view+json": {
       "model_id": "6317bca8af4f481b8925f1777133ad1d",
       "version_major": 2,
       "version_minor": 0
      },
      "text/plain": [
       "Stem Tokens:   0%|          | 0/39 [00:00<?, ?it/s]"
      ]
     },
     "metadata": {},
     "output_type": "display_data"
    },
    {
     "data": {
      "application/vnd.jupyter.widget-view+json": {
       "model_id": "f1dcd16acce64e5d82612afb2139a878",
       "version_major": 2,
       "version_minor": 0
      },
      "text/plain": [
       "BM25S Count Tokens:   0%|          | 0/39 [00:00<?, ?it/s]"
      ]
     },
     "metadata": {},
     "output_type": "display_data"
    },
    {
     "data": {
      "application/vnd.jupyter.widget-view+json": {
       "model_id": "9aa8ddfc8d614b848cc166f7aad9bcb7",
       "version_major": 2,
       "version_minor": 0
      },
      "text/plain": [
       "BM25S Compute Scores:   0%|          | 0/39 [00:00<?, ?it/s]"
      ]
     },
     "metadata": {},
     "output_type": "display_data"
    },
    {
     "data": {
      "application/vnd.jupyter.widget-view+json": {
       "model_id": "ea90e68f26564e408e0b42f47896e470",
       "version_major": 2,
       "version_minor": 0
      },
      "text/plain": [
       "Split strings:   0%|          | 0/1 [00:00<?, ?it/s]"
      ]
     },
     "metadata": {},
     "output_type": "display_data"
    },
    {
     "data": {
      "application/vnd.jupyter.widget-view+json": {
       "model_id": "8f934a5eb92746dabb951d3d33822838",
       "version_major": 2,
       "version_minor": 0
      },
      "text/plain": [
       "Stem Tokens:   0%|          | 0/1 [00:00<?, ?it/s]"
      ]
     },
     "metadata": {},
     "output_type": "display_data"
    },
    {
     "data": {
      "application/vnd.jupyter.widget-view+json": {
       "model_id": "d1c8aa51d76840b28ac39c5ac59f87dd",
       "version_major": 2,
       "version_minor": 0
      },
      "text/plain": [
       "BM25S Retrieve:   0%|          | 0/1 [00:00<?, ?it/s]"
      ]
     },
     "metadata": {},
     "output_type": "display_data"
    },
    {
     "name": "stdout",
     "output_type": "stream",
     "text": [
      "Full Context:\n",
      "\u001b[32;1m\u001b[1;3mSteve_McQueen /film/actor/film./film/performance/film The_Sand_Pebbles\n",
      "Steve_McQueen /film/actor/film./film/performance/film The_Towering_Inferno\n",
      "United_States_of_America /film/film/country The_Sand_Pebbles\n",
      "United_States_of_America /film/film/country The_Towering_Inferno\n",
      "Steve_McQueen /people/person/profession Film_Producer-GB\n",
      "Barbra_Streisand /people/person/profession Film_Producer-GB\n",
      "Marriage /people/marriage_union_type/unions_of_this_type./people/marriage/location_of_ceremony Long_Island\n",
      "Los_Angeles /people/marriage_union_type/unions_of_this_type./people/marriage/location_of_ceremony Marriage\n",
      "Los_Angeles /location/hud_county_place/place Los_Angeles\n",
      "Myocardial_infarction /medicine/disease/risk_factors Male\n",
      "Actor-GB /dataworld/gardening_hint/split_to Actor-GB\n",
      "Actor-GB /people/person/profession Julie_Andrews\n",
      "Julie_Andrews /people/person/spouse_s./people/marriage/type_of_union Marriage\n",
      "Indianapolis /location/hud_county_place/place Indianapolis\n",
      "Indianapolis /people/marriage_union_type/unions_of_this_type./people/marriage/location_of_ceremony Marriage\n",
      "United_States_of_America /base/biblioness/bibs_location/country Los_Angeles\n",
      "United_States_of_America /dataworld/gardening_hint/split_to United_States_of_America\n",
      "United_States_of_America /location/location/contains Long_Island\n",
      "Steve_McQueen /people/ethnicity/people Scottish_American\n",
      "United_States_of_America /people/ethnicity/geographic_distribution Scottish_American\n",
      "The_Sand_Pebbles /award/award_category/nominees./award/award_nomination/nominated_for Academy_Award_for_Best_Actor\n",
      "United_States_of_America /people/marriage_union_type/unions_of_this_type./people/marriage/location_of_ceremony Marriage\n",
      "United_States_of_America /location/location/contains Indianapolis\n",
      "Steve_McQueen /people/person/religion Catholicism\n",
      "Steve_McQueen /people/person/places_lived./people/place_lived/location Los_Angeles\n",
      "Steve_McQueen /people/person/places_lived./people/place_lived/location Long_Island\n",
      "Steve_McQueen /people/cause_of_death/people Myocardial_infarction\n",
      "Steve_McQueen /people/person/employment_history./business/employment_tenure/company US_Marines\n",
      "Steve_McQueen /people/person/places_lived./people/place_lived/location Indianapolis\n",
      "Steve_McQueen /people/person/gender Male\n",
      "Steve_McQueen /people/person/spouse_s./people/marriage/type_of_union Marriage\n",
      "Steve_McQueen /people/person/profession Actor-GB\n",
      "Steve_McQueen /award/award_nominee/award_nominations./award/award_nomination/award_nominee Julie_Andrews\n",
      "Steve_McQueen /people/person/nationality United_States_of_America\n",
      "Steve_McQueen /award/award_nominee/award_nominations./award/award_nomination/award Academy_Award_for_Best_Actor\n",
      "Barbra_Streisand /people/person/nationality United_States_of_America\n",
      "Barbra_Streisand /people/person/spouse_s./people/marriage/type_of_union Marriage\n",
      "Barbra_Streisand /people/person/profession Actor-GB\n",
      "Barbra_Streisand /award/award_winner/awards_won./award/award_honor/award_winner Steve_McQueen\u001b[0m\n"
     ]
    },
    {
     "name": "stderr",
     "output_type": "stream",
     "text": [
      "  0%|          | 4/3996 [00:10<3:19:50,  3.00s/it]"
     ]
    },
    {
     "name": "stdout",
     "output_type": "stream",
     "text": [
      "\n",
      "\u001b[1m> Finished chain.\u001b[0m\n",
      "Model: The question refers to a film that is not present in the provided context. The context only includes information about films starring Steve McQueen and Barbra Streisand, but it does not provide information about who directed the 2013 film 12 Years a Slave. Therefore, the answer to the question cannot be determined based on the provided context.\n",
      "Which British athlete won the 100 m. at the 1924 Olympics?\n",
      "\n",
      "\n",
      "\u001b[1m> Entering new GraphChain chain...\u001b[0m\n"
     ]
    },
    {
     "name": "stderr",
     "output_type": "stream",
     "text": [
      "  0%|          | 4/3996 [00:11<3:16:22,  2.95s/it]\n"
     ]
    },
    {
     "ename": "KeyboardInterrupt",
     "evalue": "",
     "output_type": "error",
     "traceback": [
      "\u001b[0;31m---------------------------------------------------------------------------\u001b[0m",
      "\u001b[0;31mKeyboardInterrupt\u001b[0m                         Traceback (most recent call last)",
      "Cell \u001b[0;32mIn[79], line 23\u001b[0m\n\u001b[1;32m     18\u001b[0m \u001b[38;5;66;03m# \u001b[39;00m\n\u001b[1;32m     19\u001b[0m \u001b[38;5;66;03m# print(\"Question:\", q)\u001b[39;00m\n\u001b[1;32m     20\u001b[0m \u001b[38;5;66;03m# print(\"Answer:\", a)\u001b[39;00m\n\u001b[1;32m     21\u001b[0m \u001b[38;5;66;03m# print(\"Prompt:\", prompt)\u001b[39;00m\n\u001b[1;32m     22\u001b[0m \u001b[38;5;28mprint\u001b[39m(q)\n\u001b[0;32m---> 23\u001b[0m response \u001b[38;5;241m=\u001b[39m \u001b[43mget_response\u001b[49m\u001b[43m(\u001b[49m\u001b[43mq\u001b[49m\u001b[43m)\u001b[49m\n\u001b[1;32m     24\u001b[0m \u001b[38;5;28mprint\u001b[39m(\u001b[38;5;124m\"\u001b[39m\u001b[38;5;124mModel:\u001b[39m\u001b[38;5;124m\"\u001b[39m, response)\n\u001b[1;32m     25\u001b[0m results\u001b[38;5;241m.\u001b[39mappend(response)\n",
      "Cell \u001b[0;32mIn[5], line 6\u001b[0m, in \u001b[0;36mget_response\u001b[0;34m(prompt)\u001b[0m\n\u001b[1;32m      4\u001b[0m gc\u001b[38;5;241m.\u001b[39mcollect()\n\u001b[1;32m      5\u001b[0m torch\u001b[38;5;241m.\u001b[39mcuda\u001b[38;5;241m.\u001b[39mempty_cache()\n\u001b[0;32m----> 6\u001b[0m r \u001b[38;5;241m=\u001b[39m \u001b[43mchain\u001b[49m\u001b[38;5;241;43m.\u001b[39;49m\u001b[43minvoke\u001b[49m\u001b[43m(\u001b[49m\u001b[43mprompt\u001b[49m\u001b[43m)\u001b[49m\n\u001b[1;32m      7\u001b[0m \u001b[38;5;28;01mreturn\u001b[39;00m r[\u001b[38;5;124m\"\u001b[39m\u001b[38;5;124mresult\u001b[39m\u001b[38;5;124m\"\u001b[39m]\n",
      "File \u001b[0;32m/opt/conda/lib/python3.11/site-packages/langchain/chains/base.py:170\u001b[0m, in \u001b[0;36mChain.invoke\u001b[0;34m(self, input, config, **kwargs)\u001b[0m\n\u001b[1;32m    168\u001b[0m \u001b[38;5;28;01mexcept\u001b[39;00m \u001b[38;5;167;01mBaseException\u001b[39;00m \u001b[38;5;28;01mas\u001b[39;00m e:\n\u001b[1;32m    169\u001b[0m     run_manager\u001b[38;5;241m.\u001b[39mon_chain_error(e)\n\u001b[0;32m--> 170\u001b[0m     \u001b[38;5;28;01mraise\u001b[39;00m e\n\u001b[1;32m    171\u001b[0m run_manager\u001b[38;5;241m.\u001b[39mon_chain_end(outputs)\n\u001b[1;32m    173\u001b[0m \u001b[38;5;28;01mif\u001b[39;00m include_run_info:\n",
      "File \u001b[0;32m/opt/conda/lib/python3.11/site-packages/langchain/chains/base.py:160\u001b[0m, in \u001b[0;36mChain.invoke\u001b[0;34m(self, input, config, **kwargs)\u001b[0m\n\u001b[1;32m    157\u001b[0m \u001b[38;5;28;01mtry\u001b[39;00m:\n\u001b[1;32m    158\u001b[0m     \u001b[38;5;28mself\u001b[39m\u001b[38;5;241m.\u001b[39m_validate_inputs(inputs)\n\u001b[1;32m    159\u001b[0m     outputs \u001b[38;5;241m=\u001b[39m (\n\u001b[0;32m--> 160\u001b[0m         \u001b[38;5;28;43mself\u001b[39;49m\u001b[38;5;241;43m.\u001b[39;49m\u001b[43m_call\u001b[49m\u001b[43m(\u001b[49m\u001b[43minputs\u001b[49m\u001b[43m,\u001b[49m\u001b[43m \u001b[49m\u001b[43mrun_manager\u001b[49m\u001b[38;5;241;43m=\u001b[39;49m\u001b[43mrun_manager\u001b[49m\u001b[43m)\u001b[49m\n\u001b[1;32m    161\u001b[0m         \u001b[38;5;28;01mif\u001b[39;00m new_arg_supported\n\u001b[1;32m    162\u001b[0m         \u001b[38;5;28;01melse\u001b[39;00m \u001b[38;5;28mself\u001b[39m\u001b[38;5;241m.\u001b[39m_call(inputs)\n\u001b[1;32m    163\u001b[0m     )\n\u001b[1;32m    165\u001b[0m     final_outputs: Dict[\u001b[38;5;28mstr\u001b[39m, Any] \u001b[38;5;241m=\u001b[39m \u001b[38;5;28mself\u001b[39m\u001b[38;5;241m.\u001b[39mprep_outputs(\n\u001b[1;32m    166\u001b[0m         inputs, outputs, return_only_outputs\n\u001b[1;32m    167\u001b[0m     )\n\u001b[1;32m    168\u001b[0m \u001b[38;5;28;01mexcept\u001b[39;00m \u001b[38;5;167;01mBaseException\u001b[39;00m \u001b[38;5;28;01mas\u001b[39;00m e:\n",
      "File \u001b[0;32m/model/utils/graph/chain.py:28\u001b[0m, in \u001b[0;36mGraphChain._call\u001b[0;34m(self, inputs, run_manager)\u001b[0m\n\u001b[1;32m     25\u001b[0m _run_manager \u001b[38;5;241m=\u001b[39m run_manager \u001b[38;5;129;01mor\u001b[39;00m CallbackManagerForChainRun\u001b[38;5;241m.\u001b[39mget_noop_manager()\n\u001b[1;32m     26\u001b[0m question \u001b[38;5;241m=\u001b[39m inputs[\u001b[38;5;28mself\u001b[39m\u001b[38;5;241m.\u001b[39minput_key]\n\u001b[0;32m---> 28\u001b[0m entity_string \u001b[38;5;241m=\u001b[39m \u001b[38;5;28;43mself\u001b[39;49m\u001b[38;5;241;43m.\u001b[39;49m\u001b[43mentity_extraction_chain\u001b[49m\u001b[38;5;241;43m.\u001b[39;49m\u001b[43mrun\u001b[49m\u001b[43m(\u001b[49m\u001b[43mquestion\u001b[49m\u001b[43m)\u001b[49m\n\u001b[1;32m     30\u001b[0m _run_manager\u001b[38;5;241m.\u001b[39mon_text(\u001b[38;5;124m\"\u001b[39m\u001b[38;5;124mEntities Extracted:\u001b[39m\u001b[38;5;124m\"\u001b[39m, end\u001b[38;5;241m=\u001b[39m\u001b[38;5;124m\"\u001b[39m\u001b[38;5;130;01m\\n\u001b[39;00m\u001b[38;5;124m\"\u001b[39m, verbose\u001b[38;5;241m=\u001b[39m\u001b[38;5;28mself\u001b[39m\u001b[38;5;241m.\u001b[39mverbose)\n\u001b[1;32m     31\u001b[0m _run_manager\u001b[38;5;241m.\u001b[39mon_text(\n\u001b[1;32m     32\u001b[0m     entity_string, color\u001b[38;5;241m=\u001b[39m\u001b[38;5;124m\"\u001b[39m\u001b[38;5;124mgreen\u001b[39m\u001b[38;5;124m\"\u001b[39m, end\u001b[38;5;241m=\u001b[39m\u001b[38;5;124m\"\u001b[39m\u001b[38;5;130;01m\\n\u001b[39;00m\u001b[38;5;124m\"\u001b[39m, verbose\u001b[38;5;241m=\u001b[39m\u001b[38;5;28mself\u001b[39m\u001b[38;5;241m.\u001b[39mverbose\n\u001b[1;32m     33\u001b[0m )\n",
      "File \u001b[0;32m/opt/conda/lib/python3.11/site-packages/langchain_core/_api/deprecation.py:182\u001b[0m, in \u001b[0;36mdeprecated.<locals>.deprecate.<locals>.warning_emitting_wrapper\u001b[0;34m(*args, **kwargs)\u001b[0m\n\u001b[1;32m    180\u001b[0m     warned \u001b[38;5;241m=\u001b[39m \u001b[38;5;28;01mTrue\u001b[39;00m\n\u001b[1;32m    181\u001b[0m     emit_warning()\n\u001b[0;32m--> 182\u001b[0m \u001b[38;5;28;01mreturn\u001b[39;00m \u001b[43mwrapped\u001b[49m\u001b[43m(\u001b[49m\u001b[38;5;241;43m*\u001b[39;49m\u001b[43margs\u001b[49m\u001b[43m,\u001b[49m\u001b[43m \u001b[49m\u001b[38;5;241;43m*\u001b[39;49m\u001b[38;5;241;43m*\u001b[39;49m\u001b[43mkwargs\u001b[49m\u001b[43m)\u001b[49m\n",
      "File \u001b[0;32m/opt/conda/lib/python3.11/site-packages/langchain/chains/base.py:606\u001b[0m, in \u001b[0;36mChain.run\u001b[0;34m(self, callbacks, tags, metadata, *args, **kwargs)\u001b[0m\n\u001b[1;32m    604\u001b[0m     \u001b[38;5;28;01mif\u001b[39;00m \u001b[38;5;28mlen\u001b[39m(args) \u001b[38;5;241m!=\u001b[39m \u001b[38;5;241m1\u001b[39m:\n\u001b[1;32m    605\u001b[0m         \u001b[38;5;28;01mraise\u001b[39;00m \u001b[38;5;167;01mValueError\u001b[39;00m(\u001b[38;5;124m\"\u001b[39m\u001b[38;5;124m`run` supports only one positional argument.\u001b[39m\u001b[38;5;124m\"\u001b[39m)\n\u001b[0;32m--> 606\u001b[0m     \u001b[38;5;28;01mreturn\u001b[39;00m \u001b[38;5;28;43mself\u001b[39;49m\u001b[43m(\u001b[49m\u001b[43margs\u001b[49m\u001b[43m[\u001b[49m\u001b[38;5;241;43m0\u001b[39;49m\u001b[43m]\u001b[49m\u001b[43m,\u001b[49m\u001b[43m \u001b[49m\u001b[43mcallbacks\u001b[49m\u001b[38;5;241;43m=\u001b[39;49m\u001b[43mcallbacks\u001b[49m\u001b[43m,\u001b[49m\u001b[43m \u001b[49m\u001b[43mtags\u001b[49m\u001b[38;5;241;43m=\u001b[39;49m\u001b[43mtags\u001b[49m\u001b[43m,\u001b[49m\u001b[43m \u001b[49m\u001b[43mmetadata\u001b[49m\u001b[38;5;241;43m=\u001b[39;49m\u001b[43mmetadata\u001b[49m\u001b[43m)\u001b[49m[\n\u001b[1;32m    607\u001b[0m         _output_key\n\u001b[1;32m    608\u001b[0m     ]\n\u001b[1;32m    610\u001b[0m \u001b[38;5;28;01mif\u001b[39;00m kwargs \u001b[38;5;129;01mand\u001b[39;00m \u001b[38;5;129;01mnot\u001b[39;00m args:\n\u001b[1;32m    611\u001b[0m     \u001b[38;5;28;01mreturn\u001b[39;00m \u001b[38;5;28mself\u001b[39m(kwargs, callbacks\u001b[38;5;241m=\u001b[39mcallbacks, tags\u001b[38;5;241m=\u001b[39mtags, metadata\u001b[38;5;241m=\u001b[39mmetadata)[\n\u001b[1;32m    612\u001b[0m         _output_key\n\u001b[1;32m    613\u001b[0m     ]\n",
      "File \u001b[0;32m/opt/conda/lib/python3.11/site-packages/langchain_core/_api/deprecation.py:182\u001b[0m, in \u001b[0;36mdeprecated.<locals>.deprecate.<locals>.warning_emitting_wrapper\u001b[0;34m(*args, **kwargs)\u001b[0m\n\u001b[1;32m    180\u001b[0m     warned \u001b[38;5;241m=\u001b[39m \u001b[38;5;28;01mTrue\u001b[39;00m\n\u001b[1;32m    181\u001b[0m     emit_warning()\n\u001b[0;32m--> 182\u001b[0m \u001b[38;5;28;01mreturn\u001b[39;00m \u001b[43mwrapped\u001b[49m\u001b[43m(\u001b[49m\u001b[38;5;241;43m*\u001b[39;49m\u001b[43margs\u001b[49m\u001b[43m,\u001b[49m\u001b[43m \u001b[49m\u001b[38;5;241;43m*\u001b[39;49m\u001b[38;5;241;43m*\u001b[39;49m\u001b[43mkwargs\u001b[49m\u001b[43m)\u001b[49m\n",
      "File \u001b[0;32m/opt/conda/lib/python3.11/site-packages/langchain/chains/base.py:389\u001b[0m, in \u001b[0;36mChain.__call__\u001b[0;34m(self, inputs, return_only_outputs, callbacks, tags, metadata, run_name, include_run_info)\u001b[0m\n\u001b[1;32m    357\u001b[0m \u001b[38;5;250m\u001b[39m\u001b[38;5;124;03m\"\"\"Execute the chain.\u001b[39;00m\n\u001b[1;32m    358\u001b[0m \n\u001b[1;32m    359\u001b[0m \u001b[38;5;124;03mArgs:\u001b[39;00m\n\u001b[0;32m   (...)\u001b[0m\n\u001b[1;32m    380\u001b[0m \u001b[38;5;124;03m        `Chain.output_keys`.\u001b[39;00m\n\u001b[1;32m    381\u001b[0m \u001b[38;5;124;03m\"\"\"\u001b[39;00m\n\u001b[1;32m    382\u001b[0m config \u001b[38;5;241m=\u001b[39m {\n\u001b[1;32m    383\u001b[0m     \u001b[38;5;124m\"\u001b[39m\u001b[38;5;124mcallbacks\u001b[39m\u001b[38;5;124m\"\u001b[39m: callbacks,\n\u001b[1;32m    384\u001b[0m     \u001b[38;5;124m\"\u001b[39m\u001b[38;5;124mtags\u001b[39m\u001b[38;5;124m\"\u001b[39m: tags,\n\u001b[1;32m    385\u001b[0m     \u001b[38;5;124m\"\u001b[39m\u001b[38;5;124mmetadata\u001b[39m\u001b[38;5;124m\"\u001b[39m: metadata,\n\u001b[1;32m    386\u001b[0m     \u001b[38;5;124m\"\u001b[39m\u001b[38;5;124mrun_name\u001b[39m\u001b[38;5;124m\"\u001b[39m: run_name,\n\u001b[1;32m    387\u001b[0m }\n\u001b[0;32m--> 389\u001b[0m \u001b[38;5;28;01mreturn\u001b[39;00m \u001b[38;5;28;43mself\u001b[39;49m\u001b[38;5;241;43m.\u001b[39;49m\u001b[43minvoke\u001b[49m\u001b[43m(\u001b[49m\n\u001b[1;32m    390\u001b[0m \u001b[43m    \u001b[49m\u001b[43minputs\u001b[49m\u001b[43m,\u001b[49m\n\u001b[1;32m    391\u001b[0m \u001b[43m    \u001b[49m\u001b[43mcast\u001b[49m\u001b[43m(\u001b[49m\u001b[43mRunnableConfig\u001b[49m\u001b[43m,\u001b[49m\u001b[43m \u001b[49m\u001b[43m{\u001b[49m\u001b[43mk\u001b[49m\u001b[43m:\u001b[49m\u001b[43m \u001b[49m\u001b[43mv\u001b[49m\u001b[43m \u001b[49m\u001b[38;5;28;43;01mfor\u001b[39;49;00m\u001b[43m \u001b[49m\u001b[43mk\u001b[49m\u001b[43m,\u001b[49m\u001b[43m \u001b[49m\u001b[43mv\u001b[49m\u001b[43m \u001b[49m\u001b[38;5;129;43;01min\u001b[39;49;00m\u001b[43m \u001b[49m\u001b[43mconfig\u001b[49m\u001b[38;5;241;43m.\u001b[39;49m\u001b[43mitems\u001b[49m\u001b[43m(\u001b[49m\u001b[43m)\u001b[49m\u001b[43m \u001b[49m\u001b[38;5;28;43;01mif\u001b[39;49;00m\u001b[43m \u001b[49m\u001b[43mv\u001b[49m\u001b[43m \u001b[49m\u001b[38;5;129;43;01mis\u001b[39;49;00m\u001b[43m \u001b[49m\u001b[38;5;129;43;01mnot\u001b[39;49;00m\u001b[43m \u001b[49m\u001b[38;5;28;43;01mNone\u001b[39;49;00m\u001b[43m}\u001b[49m\u001b[43m)\u001b[49m\u001b[43m,\u001b[49m\n\u001b[1;32m    392\u001b[0m \u001b[43m    \u001b[49m\u001b[43mreturn_only_outputs\u001b[49m\u001b[38;5;241;43m=\u001b[39;49m\u001b[43mreturn_only_outputs\u001b[49m\u001b[43m,\u001b[49m\n\u001b[1;32m    393\u001b[0m \u001b[43m    \u001b[49m\u001b[43minclude_run_info\u001b[49m\u001b[38;5;241;43m=\u001b[39;49m\u001b[43minclude_run_info\u001b[49m\u001b[43m,\u001b[49m\n\u001b[1;32m    394\u001b[0m \u001b[43m\u001b[49m\u001b[43m)\u001b[49m\n",
      "File \u001b[0;32m/opt/conda/lib/python3.11/site-packages/langchain/chains/base.py:170\u001b[0m, in \u001b[0;36mChain.invoke\u001b[0;34m(self, input, config, **kwargs)\u001b[0m\n\u001b[1;32m    168\u001b[0m \u001b[38;5;28;01mexcept\u001b[39;00m \u001b[38;5;167;01mBaseException\u001b[39;00m \u001b[38;5;28;01mas\u001b[39;00m e:\n\u001b[1;32m    169\u001b[0m     run_manager\u001b[38;5;241m.\u001b[39mon_chain_error(e)\n\u001b[0;32m--> 170\u001b[0m     \u001b[38;5;28;01mraise\u001b[39;00m e\n\u001b[1;32m    171\u001b[0m run_manager\u001b[38;5;241m.\u001b[39mon_chain_end(outputs)\n\u001b[1;32m    173\u001b[0m \u001b[38;5;28;01mif\u001b[39;00m include_run_info:\n",
      "File \u001b[0;32m/opt/conda/lib/python3.11/site-packages/langchain/chains/base.py:160\u001b[0m, in \u001b[0;36mChain.invoke\u001b[0;34m(self, input, config, **kwargs)\u001b[0m\n\u001b[1;32m    157\u001b[0m \u001b[38;5;28;01mtry\u001b[39;00m:\n\u001b[1;32m    158\u001b[0m     \u001b[38;5;28mself\u001b[39m\u001b[38;5;241m.\u001b[39m_validate_inputs(inputs)\n\u001b[1;32m    159\u001b[0m     outputs \u001b[38;5;241m=\u001b[39m (\n\u001b[0;32m--> 160\u001b[0m         \u001b[38;5;28;43mself\u001b[39;49m\u001b[38;5;241;43m.\u001b[39;49m\u001b[43m_call\u001b[49m\u001b[43m(\u001b[49m\u001b[43minputs\u001b[49m\u001b[43m,\u001b[49m\u001b[43m \u001b[49m\u001b[43mrun_manager\u001b[49m\u001b[38;5;241;43m=\u001b[39;49m\u001b[43mrun_manager\u001b[49m\u001b[43m)\u001b[49m\n\u001b[1;32m    161\u001b[0m         \u001b[38;5;28;01mif\u001b[39;00m new_arg_supported\n\u001b[1;32m    162\u001b[0m         \u001b[38;5;28;01melse\u001b[39;00m \u001b[38;5;28mself\u001b[39m\u001b[38;5;241m.\u001b[39m_call(inputs)\n\u001b[1;32m    163\u001b[0m     )\n\u001b[1;32m    165\u001b[0m     final_outputs: Dict[\u001b[38;5;28mstr\u001b[39m, Any] \u001b[38;5;241m=\u001b[39m \u001b[38;5;28mself\u001b[39m\u001b[38;5;241m.\u001b[39mprep_outputs(\n\u001b[1;32m    166\u001b[0m         inputs, outputs, return_only_outputs\n\u001b[1;32m    167\u001b[0m     )\n\u001b[1;32m    168\u001b[0m \u001b[38;5;28;01mexcept\u001b[39;00m \u001b[38;5;167;01mBaseException\u001b[39;00m \u001b[38;5;28;01mas\u001b[39;00m e:\n",
      "File \u001b[0;32m/opt/conda/lib/python3.11/site-packages/langchain/chains/llm.py:126\u001b[0m, in \u001b[0;36mLLMChain._call\u001b[0;34m(self, inputs, run_manager)\u001b[0m\n\u001b[1;32m    121\u001b[0m \u001b[38;5;28;01mdef\u001b[39;00m \u001b[38;5;21m_call\u001b[39m(\n\u001b[1;32m    122\u001b[0m     \u001b[38;5;28mself\u001b[39m,\n\u001b[1;32m    123\u001b[0m     inputs: Dict[\u001b[38;5;28mstr\u001b[39m, Any],\n\u001b[1;32m    124\u001b[0m     run_manager: Optional[CallbackManagerForChainRun] \u001b[38;5;241m=\u001b[39m \u001b[38;5;28;01mNone\u001b[39;00m,\n\u001b[1;32m    125\u001b[0m ) \u001b[38;5;241m-\u001b[39m\u001b[38;5;241m>\u001b[39m Dict[\u001b[38;5;28mstr\u001b[39m, \u001b[38;5;28mstr\u001b[39m]:\n\u001b[0;32m--> 126\u001b[0m     response \u001b[38;5;241m=\u001b[39m \u001b[38;5;28;43mself\u001b[39;49m\u001b[38;5;241;43m.\u001b[39;49m\u001b[43mgenerate\u001b[49m\u001b[43m(\u001b[49m\u001b[43m[\u001b[49m\u001b[43minputs\u001b[49m\u001b[43m]\u001b[49m\u001b[43m,\u001b[49m\u001b[43m \u001b[49m\u001b[43mrun_manager\u001b[49m\u001b[38;5;241;43m=\u001b[39;49m\u001b[43mrun_manager\u001b[49m\u001b[43m)\u001b[49m\n\u001b[1;32m    127\u001b[0m     \u001b[38;5;28;01mreturn\u001b[39;00m \u001b[38;5;28mself\u001b[39m\u001b[38;5;241m.\u001b[39mcreate_outputs(response)[\u001b[38;5;241m0\u001b[39m]\n",
      "File \u001b[0;32m/opt/conda/lib/python3.11/site-packages/langchain/chains/llm.py:138\u001b[0m, in \u001b[0;36mLLMChain.generate\u001b[0;34m(self, input_list, run_manager)\u001b[0m\n\u001b[1;32m    136\u001b[0m callbacks \u001b[38;5;241m=\u001b[39m run_manager\u001b[38;5;241m.\u001b[39mget_child() \u001b[38;5;28;01mif\u001b[39;00m run_manager \u001b[38;5;28;01melse\u001b[39;00m \u001b[38;5;28;01mNone\u001b[39;00m\n\u001b[1;32m    137\u001b[0m \u001b[38;5;28;01mif\u001b[39;00m \u001b[38;5;28misinstance\u001b[39m(\u001b[38;5;28mself\u001b[39m\u001b[38;5;241m.\u001b[39mllm, BaseLanguageModel):\n\u001b[0;32m--> 138\u001b[0m     \u001b[38;5;28;01mreturn\u001b[39;00m \u001b[38;5;28;43mself\u001b[39;49m\u001b[38;5;241;43m.\u001b[39;49m\u001b[43mllm\u001b[49m\u001b[38;5;241;43m.\u001b[39;49m\u001b[43mgenerate_prompt\u001b[49m\u001b[43m(\u001b[49m\n\u001b[1;32m    139\u001b[0m \u001b[43m        \u001b[49m\u001b[43mprompts\u001b[49m\u001b[43m,\u001b[49m\n\u001b[1;32m    140\u001b[0m \u001b[43m        \u001b[49m\u001b[43mstop\u001b[49m\u001b[43m,\u001b[49m\n\u001b[1;32m    141\u001b[0m \u001b[43m        \u001b[49m\u001b[43mcallbacks\u001b[49m\u001b[38;5;241;43m=\u001b[39;49m\u001b[43mcallbacks\u001b[49m\u001b[43m,\u001b[49m\n\u001b[1;32m    142\u001b[0m \u001b[43m        \u001b[49m\u001b[38;5;241;43m*\u001b[39;49m\u001b[38;5;241;43m*\u001b[39;49m\u001b[38;5;28;43mself\u001b[39;49m\u001b[38;5;241;43m.\u001b[39;49m\u001b[43mllm_kwargs\u001b[49m\u001b[43m,\u001b[49m\n\u001b[1;32m    143\u001b[0m \u001b[43m    \u001b[49m\u001b[43m)\u001b[49m\n\u001b[1;32m    144\u001b[0m \u001b[38;5;28;01melse\u001b[39;00m:\n\u001b[1;32m    145\u001b[0m     results \u001b[38;5;241m=\u001b[39m \u001b[38;5;28mself\u001b[39m\u001b[38;5;241m.\u001b[39mllm\u001b[38;5;241m.\u001b[39mbind(stop\u001b[38;5;241m=\u001b[39mstop, \u001b[38;5;241m*\u001b[39m\u001b[38;5;241m*\u001b[39m\u001b[38;5;28mself\u001b[39m\u001b[38;5;241m.\u001b[39mllm_kwargs)\u001b[38;5;241m.\u001b[39mbatch(\n\u001b[1;32m    146\u001b[0m         cast(List, prompts), {\u001b[38;5;124m\"\u001b[39m\u001b[38;5;124mcallbacks\u001b[39m\u001b[38;5;124m\"\u001b[39m: callbacks}\n\u001b[1;32m    147\u001b[0m     )\n",
      "File \u001b[0;32m/opt/conda/lib/python3.11/site-packages/langchain_core/language_models/llms.py:755\u001b[0m, in \u001b[0;36mBaseLLM.generate_prompt\u001b[0;34m(self, prompts, stop, callbacks, **kwargs)\u001b[0m\n\u001b[1;32m    747\u001b[0m \u001b[38;5;28;01mdef\u001b[39;00m \u001b[38;5;21mgenerate_prompt\u001b[39m(\n\u001b[1;32m    748\u001b[0m     \u001b[38;5;28mself\u001b[39m,\n\u001b[1;32m    749\u001b[0m     prompts: \u001b[38;5;28mlist\u001b[39m[PromptValue],\n\u001b[0;32m   (...)\u001b[0m\n\u001b[1;32m    752\u001b[0m     \u001b[38;5;241m*\u001b[39m\u001b[38;5;241m*\u001b[39mkwargs: Any,\n\u001b[1;32m    753\u001b[0m ) \u001b[38;5;241m-\u001b[39m\u001b[38;5;241m>\u001b[39m LLMResult:\n\u001b[1;32m    754\u001b[0m     prompt_strings \u001b[38;5;241m=\u001b[39m [p\u001b[38;5;241m.\u001b[39mto_string() \u001b[38;5;28;01mfor\u001b[39;00m p \u001b[38;5;129;01min\u001b[39;00m prompts]\n\u001b[0;32m--> 755\u001b[0m     \u001b[38;5;28;01mreturn\u001b[39;00m \u001b[38;5;28;43mself\u001b[39;49m\u001b[38;5;241;43m.\u001b[39;49m\u001b[43mgenerate\u001b[49m\u001b[43m(\u001b[49m\u001b[43mprompt_strings\u001b[49m\u001b[43m,\u001b[49m\u001b[43m \u001b[49m\u001b[43mstop\u001b[49m\u001b[38;5;241;43m=\u001b[39;49m\u001b[43mstop\u001b[49m\u001b[43m,\u001b[49m\u001b[43m \u001b[49m\u001b[43mcallbacks\u001b[49m\u001b[38;5;241;43m=\u001b[39;49m\u001b[43mcallbacks\u001b[49m\u001b[43m,\u001b[49m\u001b[43m \u001b[49m\u001b[38;5;241;43m*\u001b[39;49m\u001b[38;5;241;43m*\u001b[39;49m\u001b[43mkwargs\u001b[49m\u001b[43m)\u001b[49m\n",
      "File \u001b[0;32m/opt/conda/lib/python3.11/site-packages/langchain_core/language_models/llms.py:950\u001b[0m, in \u001b[0;36mBaseLLM.generate\u001b[0;34m(self, prompts, stop, callbacks, tags, metadata, run_name, run_id, **kwargs)\u001b[0m\n\u001b[1;32m    935\u001b[0m \u001b[38;5;28;01mif\u001b[39;00m (\u001b[38;5;28mself\u001b[39m\u001b[38;5;241m.\u001b[39mcache \u001b[38;5;129;01mis\u001b[39;00m \u001b[38;5;28;01mNone\u001b[39;00m \u001b[38;5;129;01mand\u001b[39;00m get_llm_cache() \u001b[38;5;129;01mis\u001b[39;00m \u001b[38;5;28;01mNone\u001b[39;00m) \u001b[38;5;129;01mor\u001b[39;00m \u001b[38;5;28mself\u001b[39m\u001b[38;5;241m.\u001b[39mcache \u001b[38;5;129;01mis\u001b[39;00m \u001b[38;5;28;01mFalse\u001b[39;00m:\n\u001b[1;32m    936\u001b[0m     run_managers \u001b[38;5;241m=\u001b[39m [\n\u001b[1;32m    937\u001b[0m         callback_manager\u001b[38;5;241m.\u001b[39mon_llm_start(\n\u001b[1;32m    938\u001b[0m             \u001b[38;5;28mself\u001b[39m\u001b[38;5;241m.\u001b[39m_serialized,\n\u001b[0;32m   (...)\u001b[0m\n\u001b[1;32m    948\u001b[0m         )\n\u001b[1;32m    949\u001b[0m     ]\n\u001b[0;32m--> 950\u001b[0m     output \u001b[38;5;241m=\u001b[39m \u001b[38;5;28;43mself\u001b[39;49m\u001b[38;5;241;43m.\u001b[39;49m\u001b[43m_generate_helper\u001b[49m\u001b[43m(\u001b[49m\n\u001b[1;32m    951\u001b[0m \u001b[43m        \u001b[49m\u001b[43mprompts\u001b[49m\u001b[43m,\u001b[49m\u001b[43m \u001b[49m\u001b[43mstop\u001b[49m\u001b[43m,\u001b[49m\u001b[43m \u001b[49m\u001b[43mrun_managers\u001b[49m\u001b[43m,\u001b[49m\u001b[43m \u001b[49m\u001b[38;5;28;43mbool\u001b[39;49m\u001b[43m(\u001b[49m\u001b[43mnew_arg_supported\u001b[49m\u001b[43m)\u001b[49m\u001b[43m,\u001b[49m\u001b[43m \u001b[49m\u001b[38;5;241;43m*\u001b[39;49m\u001b[38;5;241;43m*\u001b[39;49m\u001b[43mkwargs\u001b[49m\n\u001b[1;32m    952\u001b[0m \u001b[43m    \u001b[49m\u001b[43m)\u001b[49m\n\u001b[1;32m    953\u001b[0m     \u001b[38;5;28;01mreturn\u001b[39;00m output\n\u001b[1;32m    954\u001b[0m \u001b[38;5;28;01mif\u001b[39;00m \u001b[38;5;28mlen\u001b[39m(missing_prompts) \u001b[38;5;241m>\u001b[39m \u001b[38;5;241m0\u001b[39m:\n",
      "File \u001b[0;32m/opt/conda/lib/python3.11/site-packages/langchain_core/language_models/llms.py:792\u001b[0m, in \u001b[0;36mBaseLLM._generate_helper\u001b[0;34m(self, prompts, stop, run_managers, new_arg_supported, **kwargs)\u001b[0m\n\u001b[1;32m    790\u001b[0m     \u001b[38;5;28;01mfor\u001b[39;00m run_manager \u001b[38;5;129;01min\u001b[39;00m run_managers:\n\u001b[1;32m    791\u001b[0m         run_manager\u001b[38;5;241m.\u001b[39mon_llm_error(e, response\u001b[38;5;241m=\u001b[39mLLMResult(generations\u001b[38;5;241m=\u001b[39m[]))\n\u001b[0;32m--> 792\u001b[0m     \u001b[38;5;28;01mraise\u001b[39;00m e\n\u001b[1;32m    793\u001b[0m flattened_outputs \u001b[38;5;241m=\u001b[39m output\u001b[38;5;241m.\u001b[39mflatten()\n\u001b[1;32m    794\u001b[0m \u001b[38;5;28;01mfor\u001b[39;00m manager, flattened_output \u001b[38;5;129;01min\u001b[39;00m \u001b[38;5;28mzip\u001b[39m(run_managers, flattened_outputs):\n",
      "File \u001b[0;32m/opt/conda/lib/python3.11/site-packages/langchain_core/language_models/llms.py:779\u001b[0m, in \u001b[0;36mBaseLLM._generate_helper\u001b[0;34m(self, prompts, stop, run_managers, new_arg_supported, **kwargs)\u001b[0m\n\u001b[1;32m    769\u001b[0m \u001b[38;5;28;01mdef\u001b[39;00m \u001b[38;5;21m_generate_helper\u001b[39m(\n\u001b[1;32m    770\u001b[0m     \u001b[38;5;28mself\u001b[39m,\n\u001b[1;32m    771\u001b[0m     prompts: \u001b[38;5;28mlist\u001b[39m[\u001b[38;5;28mstr\u001b[39m],\n\u001b[0;32m   (...)\u001b[0m\n\u001b[1;32m    775\u001b[0m     \u001b[38;5;241m*\u001b[39m\u001b[38;5;241m*\u001b[39mkwargs: Any,\n\u001b[1;32m    776\u001b[0m ) \u001b[38;5;241m-\u001b[39m\u001b[38;5;241m>\u001b[39m LLMResult:\n\u001b[1;32m    777\u001b[0m     \u001b[38;5;28;01mtry\u001b[39;00m:\n\u001b[1;32m    778\u001b[0m         output \u001b[38;5;241m=\u001b[39m (\n\u001b[0;32m--> 779\u001b[0m             \u001b[38;5;28;43mself\u001b[39;49m\u001b[38;5;241;43m.\u001b[39;49m\u001b[43m_generate\u001b[49m\u001b[43m(\u001b[49m\n\u001b[1;32m    780\u001b[0m \u001b[43m                \u001b[49m\u001b[43mprompts\u001b[49m\u001b[43m,\u001b[49m\n\u001b[1;32m    781\u001b[0m \u001b[43m                \u001b[49m\u001b[43mstop\u001b[49m\u001b[38;5;241;43m=\u001b[39;49m\u001b[43mstop\u001b[49m\u001b[43m,\u001b[49m\n\u001b[1;32m    782\u001b[0m \u001b[43m                \u001b[49m\u001b[38;5;66;43;03m# TODO: support multiple run managers\u001b[39;49;00m\n\u001b[1;32m    783\u001b[0m \u001b[43m                \u001b[49m\u001b[43mrun_manager\u001b[49m\u001b[38;5;241;43m=\u001b[39;49m\u001b[43mrun_managers\u001b[49m\u001b[43m[\u001b[49m\u001b[38;5;241;43m0\u001b[39;49m\u001b[43m]\u001b[49m\u001b[43m \u001b[49m\u001b[38;5;28;43;01mif\u001b[39;49;00m\u001b[43m \u001b[49m\u001b[43mrun_managers\u001b[49m\u001b[43m \u001b[49m\u001b[38;5;28;43;01melse\u001b[39;49;00m\u001b[43m \u001b[49m\u001b[38;5;28;43;01mNone\u001b[39;49;00m\u001b[43m,\u001b[49m\n\u001b[1;32m    784\u001b[0m \u001b[43m                \u001b[49m\u001b[38;5;241;43m*\u001b[39;49m\u001b[38;5;241;43m*\u001b[39;49m\u001b[43mkwargs\u001b[49m\u001b[43m,\u001b[49m\n\u001b[1;32m    785\u001b[0m \u001b[43m            \u001b[49m\u001b[43m)\u001b[49m\n\u001b[1;32m    786\u001b[0m             \u001b[38;5;28;01mif\u001b[39;00m new_arg_supported\n\u001b[1;32m    787\u001b[0m             \u001b[38;5;28;01melse\u001b[39;00m \u001b[38;5;28mself\u001b[39m\u001b[38;5;241m.\u001b[39m_generate(prompts, stop\u001b[38;5;241m=\u001b[39mstop)\n\u001b[1;32m    788\u001b[0m         )\n\u001b[1;32m    789\u001b[0m     \u001b[38;5;28;01mexcept\u001b[39;00m \u001b[38;5;167;01mBaseException\u001b[39;00m \u001b[38;5;28;01mas\u001b[39;00m e:\n\u001b[1;32m    790\u001b[0m         \u001b[38;5;28;01mfor\u001b[39;00m run_manager \u001b[38;5;129;01min\u001b[39;00m run_managers:\n",
      "File \u001b[0;32m/opt/conda/lib/python3.11/site-packages/langchain_core/language_models/llms.py:1502\u001b[0m, in \u001b[0;36mLLM._generate\u001b[0;34m(self, prompts, stop, run_manager, **kwargs)\u001b[0m\n\u001b[1;32m   1499\u001b[0m new_arg_supported \u001b[38;5;241m=\u001b[39m inspect\u001b[38;5;241m.\u001b[39msignature(\u001b[38;5;28mself\u001b[39m\u001b[38;5;241m.\u001b[39m_call)\u001b[38;5;241m.\u001b[39mparameters\u001b[38;5;241m.\u001b[39mget(\u001b[38;5;124m\"\u001b[39m\u001b[38;5;124mrun_manager\u001b[39m\u001b[38;5;124m\"\u001b[39m)\n\u001b[1;32m   1500\u001b[0m \u001b[38;5;28;01mfor\u001b[39;00m prompt \u001b[38;5;129;01min\u001b[39;00m prompts:\n\u001b[1;32m   1501\u001b[0m     text \u001b[38;5;241m=\u001b[39m (\n\u001b[0;32m-> 1502\u001b[0m         \u001b[38;5;28;43mself\u001b[39;49m\u001b[38;5;241;43m.\u001b[39;49m\u001b[43m_call\u001b[49m\u001b[43m(\u001b[49m\u001b[43mprompt\u001b[49m\u001b[43m,\u001b[49m\u001b[43m \u001b[49m\u001b[43mstop\u001b[49m\u001b[38;5;241;43m=\u001b[39;49m\u001b[43mstop\u001b[49m\u001b[43m,\u001b[49m\u001b[43m \u001b[49m\u001b[43mrun_manager\u001b[49m\u001b[38;5;241;43m=\u001b[39;49m\u001b[43mrun_manager\u001b[49m\u001b[43m,\u001b[49m\u001b[43m \u001b[49m\u001b[38;5;241;43m*\u001b[39;49m\u001b[38;5;241;43m*\u001b[39;49m\u001b[43mkwargs\u001b[49m\u001b[43m)\u001b[49m\n\u001b[1;32m   1503\u001b[0m         \u001b[38;5;28;01mif\u001b[39;00m new_arg_supported\n\u001b[1;32m   1504\u001b[0m         \u001b[38;5;28;01melse\u001b[39;00m \u001b[38;5;28mself\u001b[39m\u001b[38;5;241m.\u001b[39m_call(prompt, stop\u001b[38;5;241m=\u001b[39mstop, \u001b[38;5;241m*\u001b[39m\u001b[38;5;241m*\u001b[39mkwargs)\n\u001b[1;32m   1505\u001b[0m     )\n\u001b[1;32m   1506\u001b[0m     generations\u001b[38;5;241m.\u001b[39mappend([Generation(text\u001b[38;5;241m=\u001b[39mtext)])\n\u001b[1;32m   1507\u001b[0m \u001b[38;5;28;01mreturn\u001b[39;00m LLMResult(generations\u001b[38;5;241m=\u001b[39mgenerations)\n",
      "File \u001b[0;32m/model/utils/llm/mistral.py:40\u001b[0m, in \u001b[0;36mMistralLLM._call\u001b[0;34m(self, prompt, stop, run_manager, **kwargs)\u001b[0m\n\u001b[1;32m     37\u001b[0m \u001b[38;5;28;01mif\u001b[39;00m stop \u001b[38;5;129;01mis\u001b[39;00m \u001b[38;5;129;01mnot\u001b[39;00m \u001b[38;5;28;01mNone\u001b[39;00m:\n\u001b[1;32m     38\u001b[0m     \u001b[38;5;28;01mraise\u001b[39;00m \u001b[38;5;167;01mValueError\u001b[39;00m(\u001b[38;5;124m\"\u001b[39m\u001b[38;5;124mstop kwargs are not permitted.\u001b[39m\u001b[38;5;124m\"\u001b[39m)\n\u001b[0;32m---> 40\u001b[0m \u001b[38;5;28;01mreturn\u001b[39;00m \u001b[38;5;28;43mself\u001b[39;49m\u001b[38;5;241;43m.\u001b[39;49m\u001b[43mget_response\u001b[49m\u001b[43m(\u001b[49m\u001b[43mprompt\u001b[49m\u001b[43m)\u001b[49m\n",
      "File \u001b[0;32m/model/utils/llm/mistral.py:26\u001b[0m, in \u001b[0;36mMistralLLM.get_response\u001b[0;34m(self, prompt)\u001b[0m\n\u001b[1;32m     24\u001b[0m completion_request \u001b[38;5;241m=\u001b[39m ChatCompletionRequest(messages\u001b[38;5;241m=\u001b[39m[UserMessage(content\u001b[38;5;241m=\u001b[39mprompt)])\n\u001b[1;32m     25\u001b[0m tokens \u001b[38;5;241m=\u001b[39m tokenizer\u001b[38;5;241m.\u001b[39mencode_chat_completion(completion_request)\u001b[38;5;241m.\u001b[39mtokens\n\u001b[0;32m---> 26\u001b[0m out_tokens, _ \u001b[38;5;241m=\u001b[39m \u001b[43mgenerate\u001b[49m\u001b[43m(\u001b[49m\u001b[43m[\u001b[49m\u001b[43mtokens\u001b[49m\u001b[43m]\u001b[49m\u001b[43m,\u001b[49m\u001b[43m \u001b[49m\u001b[43mmodel\u001b[49m\u001b[43m,\u001b[49m\u001b[43m \u001b[49m\u001b[43mmax_tokens\u001b[49m\u001b[38;5;241;43m=\u001b[39;49m\u001b[38;5;241;43m1024\u001b[39;49m\u001b[43m,\u001b[49m\u001b[43m \u001b[49m\u001b[43mtemperature\u001b[49m\u001b[38;5;241;43m=\u001b[39;49m\u001b[38;5;241;43m0.35\u001b[39;49m\u001b[43m,\u001b[49m\u001b[43m \u001b[49m\u001b[43meos_id\u001b[49m\u001b[38;5;241;43m=\u001b[39;49m\u001b[43mtokenizer\u001b[49m\u001b[38;5;241;43m.\u001b[39;49m\u001b[43minstruct_tokenizer\u001b[49m\u001b[38;5;241;43m.\u001b[39;49m\u001b[43mtokenizer\u001b[49m\u001b[38;5;241;43m.\u001b[39;49m\u001b[43meos_id\u001b[49m\u001b[43m)\u001b[49m\n\u001b[1;32m     27\u001b[0m result \u001b[38;5;241m=\u001b[39m tokenizer\u001b[38;5;241m.\u001b[39minstruct_tokenizer\u001b[38;5;241m.\u001b[39mtokenizer\u001b[38;5;241m.\u001b[39mdecode(out_tokens[\u001b[38;5;241m0\u001b[39m])\n\u001b[1;32m     28\u001b[0m \u001b[38;5;28;01mreturn\u001b[39;00m result\n",
      "File \u001b[0;32m/opt/conda/lib/python3.11/site-packages/torch/utils/_contextlib.py:116\u001b[0m, in \u001b[0;36mcontext_decorator.<locals>.decorate_context\u001b[0;34m(*args, **kwargs)\u001b[0m\n\u001b[1;32m    113\u001b[0m \u001b[38;5;129m@functools\u001b[39m\u001b[38;5;241m.\u001b[39mwraps(func)\n\u001b[1;32m    114\u001b[0m \u001b[38;5;28;01mdef\u001b[39;00m \u001b[38;5;21mdecorate_context\u001b[39m(\u001b[38;5;241m*\u001b[39margs, \u001b[38;5;241m*\u001b[39m\u001b[38;5;241m*\u001b[39mkwargs):\n\u001b[1;32m    115\u001b[0m     \u001b[38;5;28;01mwith\u001b[39;00m ctx_factory():\n\u001b[0;32m--> 116\u001b[0m         \u001b[38;5;28;01mreturn\u001b[39;00m \u001b[43mfunc\u001b[49m\u001b[43m(\u001b[49m\u001b[38;5;241;43m*\u001b[39;49m\u001b[43margs\u001b[49m\u001b[43m,\u001b[49m\u001b[43m \u001b[49m\u001b[38;5;241;43m*\u001b[39;49m\u001b[38;5;241;43m*\u001b[39;49m\u001b[43mkwargs\u001b[49m\u001b[43m)\u001b[49m\n",
      "File \u001b[0;32m/opt/conda/lib/python3.11/site-packages/mistral_inference/generate.py:139\u001b[0m, in \u001b[0;36mgenerate\u001b[0;34m(encoded_prompts, model, images, max_tokens, temperature, chunk_size, eos_id)\u001b[0m\n\u001b[1;32m    136\u001b[0m         logprobs[i]\u001b[38;5;241m.\u001b[39mappend(last_token_logits[i, next_token[i]]\u001b[38;5;241m.\u001b[39mitem())\n\u001b[1;32m    138\u001b[0m     generated_tensors\u001b[38;5;241m.\u001b[39mappend(next_token[:, \u001b[38;5;28;01mNone\u001b[39;00m])\n\u001b[0;32m--> 139\u001b[0m     last_token_prelogits \u001b[38;5;241m=\u001b[39m \u001b[43mmodel\u001b[49m\u001b[38;5;241;43m.\u001b[39;49m\u001b[43mforward\u001b[49m\u001b[43m(\u001b[49m\u001b[43mnext_token\u001b[49m\u001b[43m,\u001b[49m\u001b[43m \u001b[49m\u001b[43mseqlens\u001b[49m\u001b[38;5;241;43m=\u001b[39;49m\u001b[43m[\u001b[49m\u001b[38;5;241;43m1\u001b[39;49m\u001b[43m]\u001b[49m\u001b[43m \u001b[49m\u001b[38;5;241;43m*\u001b[39;49m\u001b[43m \u001b[49m\u001b[43mB\u001b[49m\u001b[43m,\u001b[49m\u001b[43m \u001b[49m\u001b[43mcache\u001b[49m\u001b[38;5;241;43m=\u001b[39;49m\u001b[43mcache\u001b[49m\u001b[43m)\u001b[49m\n\u001b[1;32m    140\u001b[0m     \u001b[38;5;28;01massert\u001b[39;00m last_token_prelogits\u001b[38;5;241m.\u001b[39mshape \u001b[38;5;241m==\u001b[39m (B, V)\n\u001b[1;32m    142\u001b[0m generated_tokens: List[List[\u001b[38;5;28mint\u001b[39m]]\n",
      "File \u001b[0;32m/opt/conda/lib/python3.11/site-packages/mistral_inference/transformer.py:203\u001b[0m, in \u001b[0;36mTransformer.forward\u001b[0;34m(self, input_ids, seqlens, cache, images)\u001b[0m\n\u001b[1;32m    196\u001b[0m \u001b[38;5;28;01mdef\u001b[39;00m \u001b[38;5;21mforward\u001b[39m(\n\u001b[1;32m    197\u001b[0m     \u001b[38;5;28mself\u001b[39m,\n\u001b[1;32m    198\u001b[0m     input_ids: torch\u001b[38;5;241m.\u001b[39mTensor,\n\u001b[0;32m   (...)\u001b[0m\n\u001b[1;32m    201\u001b[0m     images: Optional[List[torch\u001b[38;5;241m.\u001b[39mTensor]] \u001b[38;5;241m=\u001b[39m \u001b[38;5;28;01mNone\u001b[39;00m,\n\u001b[1;32m    202\u001b[0m ) \u001b[38;5;241m-\u001b[39m\u001b[38;5;241m>\u001b[39m torch\u001b[38;5;241m.\u001b[39mTensor:\n\u001b[0;32m--> 203\u001b[0m     h \u001b[38;5;241m=\u001b[39m \u001b[38;5;28;43mself\u001b[39;49m\u001b[38;5;241;43m.\u001b[39;49m\u001b[43mforward_partial\u001b[49m\u001b[43m(\u001b[49m\u001b[43minput_ids\u001b[49m\u001b[43m,\u001b[49m\u001b[43m \u001b[49m\u001b[43mseqlens\u001b[49m\u001b[43m,\u001b[49m\u001b[43m \u001b[49m\u001b[43mcache\u001b[49m\u001b[38;5;241;43m=\u001b[39;49m\u001b[43mcache\u001b[49m\u001b[43m,\u001b[49m\u001b[43m \u001b[49m\u001b[43mimages\u001b[49m\u001b[38;5;241;43m=\u001b[39;49m\u001b[43mimages\u001b[49m\u001b[43m)\u001b[49m\n\u001b[1;32m    204\u001b[0m     \u001b[38;5;28;01mif\u001b[39;00m \u001b[38;5;28mself\u001b[39m\u001b[38;5;241m.\u001b[39mpipeline_rank \u001b[38;5;241m<\u001b[39m \u001b[38;5;28mself\u001b[39m\u001b[38;5;241m.\u001b[39mnum_pipeline_ranks \u001b[38;5;241m-\u001b[39m \u001b[38;5;241m1\u001b[39m:\n\u001b[1;32m    205\u001b[0m         \u001b[38;5;66;03m# ignore the intermediate activations as we'll get the final output from\u001b[39;00m\n\u001b[1;32m    206\u001b[0m         \u001b[38;5;66;03m# the last stage\u001b[39;00m\n\u001b[1;32m    207\u001b[0m         outs \u001b[38;5;241m=\u001b[39m torch\u001b[38;5;241m.\u001b[39mempty(h\u001b[38;5;241m.\u001b[39mshape[\u001b[38;5;241m0\u001b[39m], \u001b[38;5;28mself\u001b[39m\u001b[38;5;241m.\u001b[39mvocab_size, device\u001b[38;5;241m=\u001b[39mh\u001b[38;5;241m.\u001b[39mdevice, dtype\u001b[38;5;241m=\u001b[39mh\u001b[38;5;241m.\u001b[39mdtype)\n",
      "File \u001b[0;32m/opt/conda/lib/python3.11/site-packages/mistral_inference/transformer.py:184\u001b[0m, in \u001b[0;36mTransformer.forward_partial\u001b[0;34m(self, input_ids, seqlens, cache, images)\u001b[0m\n\u001b[1;32m    182\u001b[0m     \u001b[38;5;28;01melse\u001b[39;00m:\n\u001b[1;32m    183\u001b[0m         cache_view \u001b[38;5;241m=\u001b[39m \u001b[38;5;28;01mNone\u001b[39;00m\n\u001b[0;32m--> 184\u001b[0m     h \u001b[38;5;241m=\u001b[39m \u001b[43mlayer\u001b[49m\u001b[43m(\u001b[49m\u001b[43mh\u001b[49m\u001b[43m,\u001b[49m\u001b[43m \u001b[49m\u001b[43mfreqs_cis\u001b[49m\u001b[43m,\u001b[49m\u001b[43m \u001b[49m\u001b[43mcache_view\u001b[49m\u001b[43m)\u001b[49m\n\u001b[1;32m    186\u001b[0m \u001b[38;5;28;01mif\u001b[39;00m cache \u001b[38;5;129;01mis\u001b[39;00m \u001b[38;5;129;01mnot\u001b[39;00m \u001b[38;5;28;01mNone\u001b[39;00m:\n\u001b[1;32m    187\u001b[0m     cache\u001b[38;5;241m.\u001b[39mupdate_seqlens(seqlens)\n",
      "File \u001b[0;32m/opt/conda/lib/python3.11/site-packages/torch/nn/modules/module.py:1736\u001b[0m, in \u001b[0;36mModule._wrapped_call_impl\u001b[0;34m(self, *args, **kwargs)\u001b[0m\n\u001b[1;32m   1734\u001b[0m     \u001b[38;5;28;01mreturn\u001b[39;00m \u001b[38;5;28mself\u001b[39m\u001b[38;5;241m.\u001b[39m_compiled_call_impl(\u001b[38;5;241m*\u001b[39margs, \u001b[38;5;241m*\u001b[39m\u001b[38;5;241m*\u001b[39mkwargs)  \u001b[38;5;66;03m# type: ignore[misc]\u001b[39;00m\n\u001b[1;32m   1735\u001b[0m \u001b[38;5;28;01melse\u001b[39;00m:\n\u001b[0;32m-> 1736\u001b[0m     \u001b[38;5;28;01mreturn\u001b[39;00m \u001b[38;5;28;43mself\u001b[39;49m\u001b[38;5;241;43m.\u001b[39;49m\u001b[43m_call_impl\u001b[49m\u001b[43m(\u001b[49m\u001b[38;5;241;43m*\u001b[39;49m\u001b[43margs\u001b[49m\u001b[43m,\u001b[49m\u001b[43m \u001b[49m\u001b[38;5;241;43m*\u001b[39;49m\u001b[38;5;241;43m*\u001b[39;49m\u001b[43mkwargs\u001b[49m\u001b[43m)\u001b[49m\n",
      "File \u001b[0;32m/opt/conda/lib/python3.11/site-packages/torch/nn/modules/module.py:1747\u001b[0m, in \u001b[0;36mModule._call_impl\u001b[0;34m(self, *args, **kwargs)\u001b[0m\n\u001b[1;32m   1742\u001b[0m \u001b[38;5;66;03m# If we don't have any hooks, we want to skip the rest of the logic in\u001b[39;00m\n\u001b[1;32m   1743\u001b[0m \u001b[38;5;66;03m# this function, and just call forward.\u001b[39;00m\n\u001b[1;32m   1744\u001b[0m \u001b[38;5;28;01mif\u001b[39;00m \u001b[38;5;129;01mnot\u001b[39;00m (\u001b[38;5;28mself\u001b[39m\u001b[38;5;241m.\u001b[39m_backward_hooks \u001b[38;5;129;01mor\u001b[39;00m \u001b[38;5;28mself\u001b[39m\u001b[38;5;241m.\u001b[39m_backward_pre_hooks \u001b[38;5;129;01mor\u001b[39;00m \u001b[38;5;28mself\u001b[39m\u001b[38;5;241m.\u001b[39m_forward_hooks \u001b[38;5;129;01mor\u001b[39;00m \u001b[38;5;28mself\u001b[39m\u001b[38;5;241m.\u001b[39m_forward_pre_hooks\n\u001b[1;32m   1745\u001b[0m         \u001b[38;5;129;01mor\u001b[39;00m _global_backward_pre_hooks \u001b[38;5;129;01mor\u001b[39;00m _global_backward_hooks\n\u001b[1;32m   1746\u001b[0m         \u001b[38;5;129;01mor\u001b[39;00m _global_forward_hooks \u001b[38;5;129;01mor\u001b[39;00m _global_forward_pre_hooks):\n\u001b[0;32m-> 1747\u001b[0m     \u001b[38;5;28;01mreturn\u001b[39;00m \u001b[43mforward_call\u001b[49m\u001b[43m(\u001b[49m\u001b[38;5;241;43m*\u001b[39;49m\u001b[43margs\u001b[49m\u001b[43m,\u001b[49m\u001b[43m \u001b[49m\u001b[38;5;241;43m*\u001b[39;49m\u001b[38;5;241;43m*\u001b[39;49m\u001b[43mkwargs\u001b[49m\u001b[43m)\u001b[49m\n\u001b[1;32m   1749\u001b[0m result \u001b[38;5;241m=\u001b[39m \u001b[38;5;28;01mNone\u001b[39;00m\n\u001b[1;32m   1750\u001b[0m called_always_called_hooks \u001b[38;5;241m=\u001b[39m \u001b[38;5;28mset\u001b[39m()\n",
      "File \u001b[0;32m/opt/conda/lib/python3.11/site-packages/mistral_inference/transformer_layers.py:165\u001b[0m, in \u001b[0;36mTransformerBlock.forward\u001b[0;34m(self, x, freqs_cis, cache, mask)\u001b[0m\n\u001b[1;32m    158\u001b[0m \u001b[38;5;28;01mdef\u001b[39;00m \u001b[38;5;21mforward\u001b[39m(\n\u001b[1;32m    159\u001b[0m     \u001b[38;5;28mself\u001b[39m,\n\u001b[1;32m    160\u001b[0m     x: torch\u001b[38;5;241m.\u001b[39mTensor,\n\u001b[0;32m   (...)\u001b[0m\n\u001b[1;32m    163\u001b[0m     mask: Optional[BlockDiagonalMask] \u001b[38;5;241m=\u001b[39m \u001b[38;5;28;01mNone\u001b[39;00m,\n\u001b[1;32m    164\u001b[0m ) \u001b[38;5;241m-\u001b[39m\u001b[38;5;241m>\u001b[39m torch\u001b[38;5;241m.\u001b[39mTensor:\n\u001b[0;32m--> 165\u001b[0m     r \u001b[38;5;241m=\u001b[39m \u001b[38;5;28;43mself\u001b[39;49m\u001b[38;5;241;43m.\u001b[39;49m\u001b[43mattention\u001b[49m\u001b[38;5;241;43m.\u001b[39;49m\u001b[43mforward\u001b[49m\u001b[43m(\u001b[49m\u001b[38;5;28;43mself\u001b[39;49m\u001b[38;5;241;43m.\u001b[39;49m\u001b[43mattention_norm\u001b[49m\u001b[43m(\u001b[49m\u001b[43mx\u001b[49m\u001b[43m)\u001b[49m\u001b[43m,\u001b[49m\u001b[43m \u001b[49m\u001b[43mfreqs_cis\u001b[49m\u001b[43m,\u001b[49m\u001b[43m \u001b[49m\u001b[43mcache\u001b[49m\u001b[43m)\u001b[49m\n\u001b[1;32m    166\u001b[0m     h \u001b[38;5;241m=\u001b[39m x \u001b[38;5;241m+\u001b[39m r\n\u001b[1;32m    167\u001b[0m     r \u001b[38;5;241m=\u001b[39m \u001b[38;5;28mself\u001b[39m\u001b[38;5;241m.\u001b[39mfeed_forward\u001b[38;5;241m.\u001b[39mforward(\u001b[38;5;28mself\u001b[39m\u001b[38;5;241m.\u001b[39mffn_norm(h))\n",
      "File \u001b[0;32m/opt/conda/lib/python3.11/site-packages/mistral_inference/transformer_layers.py:78\u001b[0m, in \u001b[0;36mAttention.forward\u001b[0;34m(self, x, freqs_cis, cache, mask)\u001b[0m\n\u001b[1;32m     76\u001b[0m     cache\u001b[38;5;241m.\u001b[39mupdate(xk, xv)\n\u001b[1;32m     77\u001b[0m \u001b[38;5;28;01melse\u001b[39;00m:\n\u001b[0;32m---> 78\u001b[0m     \u001b[43mcache\u001b[49m\u001b[38;5;241;43m.\u001b[39;49m\u001b[43mupdate\u001b[49m\u001b[43m(\u001b[49m\u001b[43mxk\u001b[49m\u001b[43m,\u001b[49m\u001b[43m \u001b[49m\u001b[43mxv\u001b[49m\u001b[43m)\u001b[49m\n\u001b[1;32m     79\u001b[0m     key, val \u001b[38;5;241m=\u001b[39m cache\u001b[38;5;241m.\u001b[39mkey, cache\u001b[38;5;241m.\u001b[39mvalue\n\u001b[1;32m     80\u001b[0m     key \u001b[38;5;241m=\u001b[39m key\u001b[38;5;241m.\u001b[39mview(seqlen_sum \u001b[38;5;241m*\u001b[39m cache\u001b[38;5;241m.\u001b[39mmax_seq_len, \u001b[38;5;28mself\u001b[39m\u001b[38;5;241m.\u001b[39mn_kv_heads, \u001b[38;5;28mself\u001b[39m\u001b[38;5;241m.\u001b[39mhead_dim)\n",
      "File \u001b[0;32m/opt/conda/lib/python3.11/site-packages/mistral_inference/cache.py:91\u001b[0m, in \u001b[0;36mCacheView.update\u001b[0;34m(self, xk, xv)\u001b[0m\n\u001b[1;32m     88\u001b[0m flat_cache_k \u001b[38;5;241m=\u001b[39m \u001b[38;5;28mself\u001b[39m\u001b[38;5;241m.\u001b[39mcache_k\u001b[38;5;241m.\u001b[39mview(\u001b[38;5;241m-\u001b[39m\u001b[38;5;241m1\u001b[39m, n_kv_heads, head_dim)\n\u001b[1;32m     89\u001b[0m flat_cache_v \u001b[38;5;241m=\u001b[39m \u001b[38;5;28mself\u001b[39m\u001b[38;5;241m.\u001b[39mcache_v\u001b[38;5;241m.\u001b[39mview(\u001b[38;5;241m-\u001b[39m\u001b[38;5;241m1\u001b[39m, n_kv_heads, head_dim)\n\u001b[0;32m---> 91\u001b[0m \u001b[43mflat_cache_k\u001b[49m\u001b[38;5;241;43m.\u001b[39;49m\u001b[43mindex_copy_\u001b[49m\u001b[43m(\u001b[49m\u001b[38;5;241;43m0\u001b[39;49m\u001b[43m,\u001b[49m\u001b[43m \u001b[49m\u001b[38;5;28;43mself\u001b[39;49m\u001b[38;5;241;43m.\u001b[39;49m\u001b[43mmetadata\u001b[49m\u001b[38;5;241;43m.\u001b[39;49m\u001b[43mcache_positions\u001b[49m\u001b[43m,\u001b[49m\u001b[43m \u001b[49m\u001b[43mxk\u001b[49m\u001b[43m[\u001b[49m\u001b[38;5;28;43mself\u001b[39;49m\u001b[38;5;241;43m.\u001b[39;49m\u001b[43mmetadata\u001b[49m\u001b[38;5;241;43m.\u001b[39;49m\u001b[43mto_cache_mask\u001b[49m\u001b[43m]\u001b[49m\u001b[43m)\u001b[49m\n\u001b[1;32m     92\u001b[0m flat_cache_v\u001b[38;5;241m.\u001b[39mindex_copy_(\u001b[38;5;241m0\u001b[39m, \u001b[38;5;28mself\u001b[39m\u001b[38;5;241m.\u001b[39mmetadata\u001b[38;5;241m.\u001b[39mcache_positions, xv[\u001b[38;5;28mself\u001b[39m\u001b[38;5;241m.\u001b[39mmetadata\u001b[38;5;241m.\u001b[39mto_cache_mask])\n",
      "\u001b[0;31mKeyboardInterrupt\u001b[0m: "
     ]
    }
   ],
   "source": [
    "\n",
    "###### tests\n",
    "\n",
    "experiment_name = \"kb2\"\n",
    "bline_path = f\"/datasets/FreebaseQA/results/{experiment_name}.csv\"\n",
    "bline = pd.read_csv(bline_path)\n",
    "l = len(bline)\n",
    "baseline_results = list(bline.Model.values)\n",
    "\n",
    "fbqa = pd.read_json(\"/datasets/FreebaseQA/FreebaseQA-eval.json\")\n",
    "# fbqa.Questions[0].get(\"RawQuestions\", None)\n",
    "results = []\n",
    "for i, r in tqdm(list(fbqa.iterrows())):\n",
    "    if i == 10:\n",
    "        break\n",
    "    if i < l:\n",
    "        continue\n",
    "    q, a = get_fbqa_data(r)\n",
    "    # \n",
    "    # print(\"Question:\", q)\n",
    "    # print(\"Answer:\", a)\n",
    "    # print(\"Prompt:\", prompt)\n",
    "    print(q)\n",
    "    response = get_response(q)\n",
    "    print(\"Model:\", response)\n",
    "    results.append(response)\n",
    "\n",
    "    if i % 250 == 0:\n",
    "        with open(bline_path, \"w\") as f:\n",
    "            writer = csv.writer(f)\n",
    "            writer.writerow([\"Model\"])\n",
    "            for r in results:\n",
    "                writer.writerow([str(r)])\n",
    "\n",
    "with open(bline_path, \"w\") as f:\n",
    "    writer = csv.writer(f)\n",
    "    writer.writerow([\"Model\"])\n",
    "    for r in results:\n",
    "        writer.writerow([str(r)])\n"
   ]
  },
  {
   "cell_type": "code",
   "execution_count": 71,
   "metadata": {},
   "outputs": [
    {
     "data": {
      "application/vnd.jupyter.widget-view+json": {
       "model_id": "1de1c531eadc40bf81ead20e862b0064",
       "version_major": 2,
       "version_minor": 0
      },
      "text/plain": [
       "Split strings: 0it [00:00, ?it/s]"
      ]
     },
     "metadata": {},
     "output_type": "display_data"
    },
    {
     "data": {
      "application/vnd.jupyter.widget-view+json": {
       "model_id": "afb8c560761b4c32bea89bc68f1b224e",
       "version_major": 2,
       "version_minor": 0
      },
      "text/plain": [
       "BM25S Count Tokens:   0%|          | 0/218 [00:00<?, ?it/s]"
      ]
     },
     "metadata": {},
     "output_type": "display_data"
    },
    {
     "data": {
      "application/vnd.jupyter.widget-view+json": {
       "model_id": "31b5a95faff94d8f968fc37b6f7142e4",
       "version_major": 2,
       "version_minor": 0
      },
      "text/plain": [
       "BM25S Compute Scores:   0%|          | 0/218 [00:00<?, ?it/s]"
      ]
     },
     "metadata": {},
     "output_type": "display_data"
    },
    {
     "name": "stdout",
     "output_type": "stream",
     "text": [
      "who produc the film 12 angri men which was script by reginald rose star henri fonda and was direct by sidney lumet\n"
     ]
    },
    {
     "data": {
      "application/vnd.jupyter.widget-view+json": {
       "model_id": "75fe449b650b4b8fb1282d4977a0d53b",
       "version_major": 2,
       "version_minor": 0
      },
      "text/plain": [
       "Split strings:   0%|          | 0/1 [00:00<?, ?it/s]"
      ]
     },
     "metadata": {},
     "output_type": "display_data"
    },
    {
     "data": {
      "application/vnd.jupyter.widget-view+json": {
       "model_id": "2506b5b8b2a644b283dffbcae8ab0cf6",
       "version_major": 2,
       "version_minor": 0
      },
      "text/plain": [
       "Stem Tokens:   0%|          | 0/1 [00:00<?, ?it/s]"
      ]
     },
     "metadata": {},
     "output_type": "display_data"
    },
    {
     "data": {
      "application/vnd.jupyter.widget-view+json": {
       "model_id": "1cb4d136f5eb40d8981481586a75fb4b",
       "version_major": 2,
       "version_minor": 0
      },
      "text/plain": [
       "BM25S Retrieve:   0%|          | 0/1 [00:00<?, ?it/s]"
      ]
     },
     "metadata": {},
     "output_type": "display_data"
    },
    {
     "name": "stdout",
     "output_type": "stream",
     "text": [
      "Rank 1 (score: 4.336): Sidney_Lumet /people/person/profession Film_Producer-GB\n",
      "Rank 2 (score: 3.653): Sidney_Lumet /people/person/profession Television_producer-GB\n"
     ]
    }
   ],
   "source": [
    "import bm25s\n",
    "import Stemmer  # optional: for stemming\n",
    "from utils.preprocessing import preprocess_text\n",
    "\n",
    "ts = bm25s.tokenize(\n",
    "    map(\n",
    "        preprocess_text,\n",
    "        triplets\n",
    "    )\n",
    ")\n",
    "retriever = bm25s.BM25()\n",
    "retriever.index(ts)\n",
    "\n",
    "query = \"Who produced the film 12 Angry Men, which was scripted by Reginald Rose, starred Henry Fonda and was directed by Sidney Lumet?\"\n",
    "print(preprocess_text(query))\n",
    "query_tokens = bm25s.tokenize(preprocess_text(query), stemmer=stemmer)\n",
    "\n",
    "results, scores = retriever.retrieve(query_tokens, k=len(ts))\n",
    "\n",
    "for i in range(results.shape[1]):\n",
    "    doc, score = results[0, i], scores[0, i]\n",
    "    print(f\"Rank {i+1} (score: {score:.3f}): {triplets[doc]}\")"
   ]
  }
 ],
 "metadata": {
  "kernelspec": {
   "display_name": "Python 3 (ipykernel)",
   "language": "python",
   "name": "python3"
  }
 },
 "nbformat": 4,
 "nbformat_minor": 2
}
