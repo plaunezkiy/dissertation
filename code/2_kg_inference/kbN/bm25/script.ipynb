{
 "cells": [
  {
   "cell_type": "code",
   "execution_count": 2,
   "metadata": {},
   "outputs": [],
   "source": [
    "%load_ext autoreload\n",
    "%autoreload 2"
   ]
  },
  {
   "cell_type": "code",
   "execution_count": 1,
   "metadata": {},
   "outputs": [],
   "source": [
    "import pandas as pd\n",
    "import torch\n",
    "import gc\n",
    "import Stemmer\n",
    "import re\n",
    "from tqdm import tqdm\n",
    "import csv\n",
    "import gc\n",
    "from utils.graph import KGraphPreproc\n",
    "from utils.graph.chain import GraphChain\n",
    "from utils.llm.mistral import MistralLLM\n",
    "from utils.prompt import GRAPH_QA_PROMPT, ENTITY_PROMPT\n",
    "from utils.file import export_results_to_file\n",
    "import os"
   ]
  },
  {
   "cell_type": "code",
   "execution_count": 32,
   "metadata": {},
   "outputs": [],
   "source": [
    "clear_cache()"
   ]
  },
  {
   "cell_type": "code",
   "execution_count": 9,
   "metadata": {},
   "outputs": [],
   "source": [
    "def clear_cache():\n",
    "    gc.collect()\n",
    "    torch.cuda.empty_cache()"
   ]
  },
  {
   "cell_type": "code",
   "execution_count": 8,
   "metadata": {},
   "outputs": [],
   "source": [
    "l = 10"
   ]
  },
  {
   "cell_type": "code",
   "execution_count": null,
   "metadata": {},
   "outputs": [
    {
     "name": "stderr",
     "output_type": "stream",
     "text": [
      "  1%|          | 10/1000 [00:00<00:00, 54050.31it/s]"
     ]
    },
    {
     "name": "stdout",
     "output_type": "stream",
     "text": [
      "0 10\n",
      "1 10\n",
      "2 10\n",
      "3 10\n",
      "4 10\n",
      "5 10\n",
      "6 10\n",
      "7 10\n",
      "8 10\n",
      "9 10\n",
      "10 10\n",
      "4764 10\n"
     ]
    },
    {
     "name": "stderr",
     "output_type": "stream",
     "text": [
      "\n"
     ]
    },
    {
     "ename": "",
     "evalue": "",
     "output_type": "error",
     "traceback": [
      "\u001b[1;31mThe Kernel crashed while executing code in the current cell or a previous cell. \n",
      "\u001b[1;31mPlease review the code in the cell(s) to identify a possible cause of the failure. \n",
      "\u001b[1;31mClick <a href='https://aka.ms/vscodeJupyterKernelCrash'>here</a> for more info. \n",
      "\u001b[1;31mView Jupyter <a href='command:jupyter.viewOutput'>log</a> for further details."
     ]
    },
    {
     "ename": "",
     "evalue": "",
     "output_type": "error",
     "traceback": [
      "\u001b[1;31mThe Kernel crashed while executing code in the current cell or a previous cell. \n",
      "\u001b[1;31mPlease review the code in the cell(s) to identify a possible cause of the failure. \n",
      "\u001b[1;31mClick <a href='https://aka.ms/vscodeJupyterKernelCrash'>here</a> for more info. \n",
      "\u001b[1;31mView Jupyter <a href='command:jupyter.viewOutput'>log</a> for further details."
     ]
    }
   ],
   "source": [
    "for c, (i, r) in enumerate(tqdm(list(metaqa.iterrows()))):\n",
    "    print(c, l)\n",
    "    if c < l:\n",
    "        continue\n",
    "    print(i, c)\n",
    "    break"
   ]
  },
  {
   "cell_type": "code",
   "execution_count": 2,
   "metadata": {},
   "outputs": [
    {
     "data": {
      "text/html": [
       "<div>\n",
       "<style scoped>\n",
       "    .dataframe tbody tr th:only-of-type {\n",
       "        vertical-align: middle;\n",
       "    }\n",
       "\n",
       "    .dataframe tbody tr th {\n",
       "        vertical-align: top;\n",
       "    }\n",
       "\n",
       "    .dataframe thead th {\n",
       "        text-align: right;\n",
       "    }\n",
       "</style>\n",
       "<table border=\"1\" class=\"dataframe\">\n",
       "  <thead>\n",
       "    <tr style=\"text-align: right;\">\n",
       "      <th></th>\n",
       "      <th>Question</th>\n",
       "      <th>Answers</th>\n",
       "    </tr>\n",
       "    <tr>\n",
       "      <th>0</th>\n",
       "      <th></th>\n",
       "      <th></th>\n",
       "    </tr>\n",
       "  </thead>\n",
       "  <tbody>\n",
       "    <tr>\n",
       "      <th>9043</th>\n",
       "      <td>what are the genres of the films whose directo...</td>\n",
       "      <td>Drama|Comedy</td>\n",
       "    </tr>\n",
       "    <tr>\n",
       "      <th>2984</th>\n",
       "      <td>when did the movies starred by [First Daughter...</td>\n",
       "      <td>1986|1987|1984|1985|1982|1983|1979|1988|1989|2...</td>\n",
       "    </tr>\n",
       "    <tr>\n",
       "      <th>10223</th>\n",
       "      <td>what are the genres of the films whose actors ...</td>\n",
       "      <td>Drama|Action|Comedy|Adventure|Crime</td>\n",
       "    </tr>\n",
       "    <tr>\n",
       "      <th>10876</th>\n",
       "      <td>what are the genres of the movies whose writer...</td>\n",
       "      <td>Drama|Crime</td>\n",
       "    </tr>\n",
       "    <tr>\n",
       "      <th>10672</th>\n",
       "      <td>what are the languages spoken in the films who...</td>\n",
       "      <td>English|Italian</td>\n",
       "    </tr>\n",
       "    <tr>\n",
       "      <th>...</th>\n",
       "      <td>...</td>\n",
       "      <td>...</td>\n",
       "    </tr>\n",
       "    <tr>\n",
       "      <th>5563</th>\n",
       "      <td>what were the release years of the films that ...</td>\n",
       "      <td>2014|2001|2011|2010|2007</td>\n",
       "    </tr>\n",
       "    <tr>\n",
       "      <th>11098</th>\n",
       "      <td>the films that share writers with the film [Th...</td>\n",
       "      <td>Drama|Comedy|Thriller</td>\n",
       "    </tr>\n",
       "    <tr>\n",
       "      <th>7199</th>\n",
       "      <td>the movies that share writers with the movie [...</td>\n",
       "      <td>German</td>\n",
       "    </tr>\n",
       "    <tr>\n",
       "      <th>2807</th>\n",
       "      <td>who is listed as screenwriter of the movies di...</td>\n",
       "      <td>Jerico|Michael Barrie|Dana Olsen|Jim Mulhollan...</td>\n",
       "    </tr>\n",
       "    <tr>\n",
       "      <th>5263</th>\n",
       "      <td>what were the release years of the movies that...</td>\n",
       "      <td>1967|1935|1960|1947|1944|1948|1949|1968|1983|1...</td>\n",
       "    </tr>\n",
       "  </tbody>\n",
       "</table>\n",
       "<p>1000 rows × 2 columns</p>\n",
       "</div>"
      ],
      "text/plain": [
       "                                                Question  \\\n",
       "0                                                          \n",
       "9043   what are the genres of the films whose directo...   \n",
       "2984   when did the movies starred by [First Daughter...   \n",
       "10223  what are the genres of the films whose actors ...   \n",
       "10876  what are the genres of the movies whose writer...   \n",
       "10672  what are the languages spoken in the films who...   \n",
       "...                                                  ...   \n",
       "5563   what were the release years of the films that ...   \n",
       "11098  the films that share writers with the film [Th...   \n",
       "7199   the movies that share writers with the movie [...   \n",
       "2807   who is listed as screenwriter of the movies di...   \n",
       "5263   what were the release years of the movies that...   \n",
       "\n",
       "                                                 Answers  \n",
       "0                                                         \n",
       "9043                                        Drama|Comedy  \n",
       "2984   1986|1987|1984|1985|1982|1983|1979|1988|1989|2...  \n",
       "10223                Drama|Action|Comedy|Adventure|Crime  \n",
       "10876                                        Drama|Crime  \n",
       "10672                                    English|Italian  \n",
       "...                                                  ...  \n",
       "5563                            2014|2001|2011|2010|2007  \n",
       "11098                              Drama|Comedy|Thriller  \n",
       "7199                                              German  \n",
       "2807   Jerico|Michael Barrie|Dana Olsen|Jim Mulhollan...  \n",
       "5263   1967|1935|1960|1947|1944|1948|1949|1968|1983|1...  \n",
       "\n",
       "[1000 rows x 2 columns]"
      ]
     },
     "execution_count": 2,
     "metadata": {},
     "output_type": "execute_result"
    }
   ],
   "source": [
    "metaqa = pd.read_csv(f\"/datasets/MetaQA/3hop/test_1000.txt\", header=None, index_col=0)\n",
    "metaqa.rename(columns={1: \"Question\", 2: \"Answers\"}, inplace=True)\n",
    "metaqa"
   ]
  },
  {
   "cell_type": "code",
   "execution_count": 7,
   "metadata": {},
   "outputs": [],
   "source": [
    "fbqa = pd.read_csv(\"/datasets/FreebaseQA/FbQA-eval-1000.csv\")\n",
    "def get_fbqa_data(question_row):\n",
    "    \"\"\"\n",
    "    Takes in a dataset row and returns Q and A as strings\n",
    "    \"\"\"\n",
    "    question = question_row.Questions.get(\"RawQuestion\", None)\n",
    "    parse = question_row.Questions.get(\"Parses\", [None])[0]\n",
    "    if not parse:\n",
    "        print(f\"error in question: {question}\")\n",
    "        return question, None\n",
    "    answer = parse.get(\"Answers\")\n",
    "    return question, answer\n"
   ]
  },
  {
   "cell_type": "code",
   "execution_count": null,
   "metadata": {},
   "outputs": [],
   "source": [
    "\n",
    "####### load the graph\n",
    "fbkb_graph = KGraphPreproc.get_fbkb_graph()"
   ]
  },
  {
   "cell_type": "code",
   "execution_count": 3,
   "metadata": {},
   "outputs": [
    {
     "ename": "NameError",
     "evalue": "name 'fbkb_graph' is not defined",
     "output_type": "error",
     "traceback": [
      "\u001b[0;31m---------------------------------------------------------------------------\u001b[0m",
      "\u001b[0;31mNameError\u001b[0m                                 Traceback (most recent call last)",
      "Cell \u001b[0;32mIn[3], line 6\u001b[0m\n\u001b[1;32m      1\u001b[0m \u001b[38;5;28;01mfrom\u001b[39;00m \u001b[38;5;21;01mutils\u001b[39;00m\u001b[38;5;21;01m.\u001b[39;00m\u001b[38;5;21;01mprompt\u001b[39;00m \u001b[38;5;28;01mimport\u001b[39;00m GRAPH_QA_PROMPT, ENTITY_PROMPT\n\u001b[1;32m      3\u001b[0m mistral \u001b[38;5;241m=\u001b[39m MistralLLM()\n\u001b[1;32m      4\u001b[0m chain \u001b[38;5;241m=\u001b[39m GraphChain\u001b[38;5;241m.\u001b[39mfrom_llm(\n\u001b[1;32m      5\u001b[0m     llm\u001b[38;5;241m=\u001b[39mmistral,\n\u001b[0;32m----> 6\u001b[0m     graph\u001b[38;5;241m=\u001b[39m\u001b[43mfbkb_graph\u001b[49m,\n\u001b[1;32m      7\u001b[0m     qa_prompt\u001b[38;5;241m=\u001b[39mGRAPH_QA_PROMPT,\n\u001b[1;32m      8\u001b[0m     entity_prompt\u001b[38;5;241m=\u001b[39mENTITY_PROMPT,\n\u001b[1;32m      9\u001b[0m     verbose\u001b[38;5;241m=\u001b[39m\u001b[38;5;28;01mFalse\u001b[39;00m,\n\u001b[1;32m     10\u001b[0m )\n",
      "\u001b[0;31mNameError\u001b[0m: name 'fbkb_graph' is not defined"
     ]
    }
   ],
   "source": [
    "from utils.prompt import GRAPH_QA_PROMPT, ENTITY_PROMPT\n",
    "\n",
    "mistral = MistralLLM()\n",
    "chain = GraphChain.from_llm(\n",
    "    llm=mistral,\n",
    "    graph=fbkb_graph,\n",
    "    qa_prompt=GRAPH_QA_PROMPT,\n",
    "    entity_prompt=ENTITY_PROMPT,\n",
    "    verbose=False,\n",
    ")"
   ]
  },
  {
   "cell_type": "code",
   "execution_count": 5,
   "metadata": {},
   "outputs": [],
   "source": [
    "def get_response(prompt):\n",
    "    global chain\n",
    "    # del mistral\n",
    "    gc.collect()\n",
    "    torch.cuda.empty_cache()\n",
    "    r = chain.invoke(prompt)\n",
    "    return r[\"result\"]"
   ]
  },
  {
   "cell_type": "code",
   "execution_count": 60,
   "metadata": {},
   "outputs": [],
   "source": [
    "chain.exploration_depth = 1"
   ]
  },
  {
   "cell_type": "code",
   "execution_count": 8,
   "metadata": {},
   "outputs": [
    {
     "name": "stderr",
     "output_type": "stream",
     "text": [
      "  0%|          | 10/3996 [00:00<00:01, 2158.67it/s]\n"
     ]
    }
   ],
   "source": [
    "\n",
    "###### tests\n",
    "\n",
    "experiment_name = \"kb2\"\n",
    "bline_path = f\"/datasets/FreebaseQA/results/{experiment_name}.csv\"\n",
    "bline = pd.read_csv(bline_path)\n",
    "l = len(bline)\n",
    "baseline_results = list(bline.Model.values)\n",
    "\n",
    "fbqa = pd.read_json(\"/datasets/FreebaseQA/FreebaseQA-eval.json\")\n",
    "# fbqa.Questions[0].get(\"RawQuestions\", None)\n",
    "results = []\n",
    "for i, r in tqdm(list(fbqa.iterrows())):\n",
    "    if i == 10:\n",
    "        break\n",
    "    if i < l:\n",
    "        continue\n",
    "    q, a = get_fbqa_data(r)\n",
    "    # \n",
    "    # print(\"Question:\", q)\n",
    "    # print(\"Answer:\", a)\n",
    "    # print(\"Prompt:\", prompt)\n",
    "    print(q)\n",
    "    response = get_response(q)\n",
    "    print(\"Model:\", response)\n",
    "    results.append(response)\n",
    "\n",
    "    if i % 250 == 0:\n",
    "        with open(bline_path, \"w\") as f:\n",
    "            writer = csv.writer(f)\n",
    "            writer.writerow([\"Model\"])\n",
    "            for r in results:\n",
    "                writer.writerow([str(r)])\n",
    "\n",
    "with open(bline_path, \"w\") as f:\n",
    "    writer = csv.writer(f)\n",
    "    writer.writerow([\"Model\"])\n",
    "    for r in results:\n",
    "        writer.writerow([str(r)])\n"
   ]
  },
  {
   "cell_type": "code",
   "execution_count": 71,
   "metadata": {},
   "outputs": [
    {
     "data": {
      "application/vnd.jupyter.widget-view+json": {
       "model_id": "1de1c531eadc40bf81ead20e862b0064",
       "version_major": 2,
       "version_minor": 0
      },
      "text/plain": [
       "Split strings: 0it [00:00, ?it/s]"
      ]
     },
     "metadata": {},
     "output_type": "display_data"
    },
    {
     "data": {
      "application/vnd.jupyter.widget-view+json": {
       "model_id": "afb8c560761b4c32bea89bc68f1b224e",
       "version_major": 2,
       "version_minor": 0
      },
      "text/plain": [
       "BM25S Count Tokens:   0%|          | 0/218 [00:00<?, ?it/s]"
      ]
     },
     "metadata": {},
     "output_type": "display_data"
    },
    {
     "data": {
      "application/vnd.jupyter.widget-view+json": {
       "model_id": "31b5a95faff94d8f968fc37b6f7142e4",
       "version_major": 2,
       "version_minor": 0
      },
      "text/plain": [
       "BM25S Compute Scores:   0%|          | 0/218 [00:00<?, ?it/s]"
      ]
     },
     "metadata": {},
     "output_type": "display_data"
    },
    {
     "name": "stdout",
     "output_type": "stream",
     "text": [
      "who produc the film 12 angri men which was script by reginald rose star henri fonda and was direct by sidney lumet\n"
     ]
    },
    {
     "data": {
      "application/vnd.jupyter.widget-view+json": {
       "model_id": "75fe449b650b4b8fb1282d4977a0d53b",
       "version_major": 2,
       "version_minor": 0
      },
      "text/plain": [
       "Split strings:   0%|          | 0/1 [00:00<?, ?it/s]"
      ]
     },
     "metadata": {},
     "output_type": "display_data"
    },
    {
     "data": {
      "application/vnd.jupyter.widget-view+json": {
       "model_id": "2506b5b8b2a644b283dffbcae8ab0cf6",
       "version_major": 2,
       "version_minor": 0
      },
      "text/plain": [
       "Stem Tokens:   0%|          | 0/1 [00:00<?, ?it/s]"
      ]
     },
     "metadata": {},
     "output_type": "display_data"
    },
    {
     "data": {
      "application/vnd.jupyter.widget-view+json": {
       "model_id": "1cb4d136f5eb40d8981481586a75fb4b",
       "version_major": 2,
       "version_minor": 0
      },
      "text/plain": [
       "BM25S Retrieve:   0%|          | 0/1 [00:00<?, ?it/s]"
      ]
     },
     "metadata": {},
     "output_type": "display_data"
    },
    {
     "name": "stdout",
     "output_type": "stream",
     "text": [
      "Rank 1 (score: 4.336): Sidney_Lumet /people/person/profession Film_Producer-GB\n",
      "Rank 2 (score: 3.653): Sidney_Lumet /people/person/profession Television_producer-GB\n"
     ]
    }
   ],
   "source": [
    "import bm25s\n",
    "import Stemmer  # optional: for stemming\n",
    "from utils.preprocessing import preprocess_text\n",
    "\n",
    "ts = bm25s.tokenize(\n",
    "    map(\n",
    "        preprocess_text,\n",
    "        triplets\n",
    "    )\n",
    ")\n",
    "retriever = bm25s.BM25()\n",
    "retriever.index(ts)\n",
    "\n",
    "query = \"Who produced the film 12 Angry Men, which was scripted by Reginald Rose, starred Henry Fonda and was directed by Sidney Lumet?\"\n",
    "print(preprocess_text(query))\n",
    "query_tokens = bm25s.tokenize(preprocess_text(query), stemmer=stemmer)\n",
    "\n",
    "results, scores = retriever.retrieve(query_tokens, k=len(ts))\n",
    "\n",
    "for i in range(results.shape[1]):\n",
    "    doc, score = results[0, i], scores[0, i]\n",
    "    print(f\"Rank {i+1} (score: {score:.3f}): {triplets[doc]}\")"
   ]
  }
 ],
 "metadata": {
  "kernelspec": {
   "display_name": "Python 3 (ipykernel)",
   "language": "python",
   "name": "python3"
  },
  "language_info": {
   "codemirror_mode": {
    "name": "ipython",
    "version": 3
   },
   "file_extension": ".py",
   "mimetype": "text/x-python",
   "name": "python",
   "nbconvert_exporter": "python",
   "pygments_lexer": "ipython3",
   "version": "3.11.10"
  }
 },
 "nbformat": 4,
 "nbformat_minor": 2
}
