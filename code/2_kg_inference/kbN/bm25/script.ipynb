{
 "cells": [
  {
   "cell_type": "code",
   "execution_count": 1,
   "metadata": {},
   "outputs": [],
   "source": [
    "%load_ext autoreload\n",
    "%autoreload 2"
   ]
  },
  {
   "cell_type": "code",
   "execution_count": 2,
   "metadata": {},
   "outputs": [],
   "source": [
    "import pandas as pd\n",
    "import torch\n",
    "import gc\n",
    "import Stemmer\n",
    "import re\n",
    "from tqdm import tqdm\n",
    "import csv\n",
    "import gc\n",
    "from utils.graph import KGraphPreproc\n",
    "from utils.graph.chain import GraphChain\n",
    "from utils.llm.mistral import MistralLLM"
   ]
  },
  {
   "cell_type": "code",
   "execution_count": 3,
   "metadata": {},
   "outputs": [],
   "source": [
    "fbqa = pd.read_json(\"/datasets/FreebaseQA/FreebaseQA-eval.json\")\n",
    "def get_fbqa_data(question_row):\n",
    "    \"\"\"\n",
    "    Takes in a dataset row and returns Q and A as strings\n",
    "    \"\"\"\n",
    "    question = question_row.Questions.get(\"RawQuestion\", None)\n",
    "    parse = question_row.Questions.get(\"Parses\", [None])[0]\n",
    "    if not parse:\n",
    "        print(f\"error in question: {question}\")\n",
    "        return question, None\n",
    "    answer = parse.get(\"Answers\")\n",
    "    return question, answer\n",
    "\n",
    "####### load the graph\n",
    "fbkb_graph = KGraphPreproc.get_fbkb_graph()"
   ]
  },
  {
   "cell_type": "code",
   "execution_count": 4,
   "metadata": {},
   "outputs": [],
   "source": [
    "from utils.prompt import GRAPH_QA_PROMPT, ENTITY_PROMPT\n",
    "\n",
    "mistral = MistralLLM()\n",
    "chain = GraphChain.from_llm(\n",
    "    llm=mistral,\n",
    "    graph=fbkb_graph,\n",
    "    qa_prompt=GRAPH_QA_PROMPT,\n",
    "    entity_prompt=ENTITY_PROMPT,\n",
    "    verbose=False,\n",
    ")"
   ]
  },
  {
   "cell_type": "code",
   "execution_count": 5,
   "metadata": {},
   "outputs": [],
   "source": [
    "def get_response(prompt):\n",
    "    global chain\n",
    "    # del mistral\n",
    "    gc.collect()\n",
    "    torch.cuda.empty_cache()\n",
    "    r = chain.invoke(prompt)\n",
    "    return r[\"result\"]"
   ]
  },
  {
   "cell_type": "code",
   "execution_count": 60,
   "metadata": {},
   "outputs": [],
   "source": [
    "chain.exploration_depth = 1"
   ]
  },
  {
   "cell_type": "code",
   "execution_count": 8,
   "metadata": {},
   "outputs": [
    {
     "name": "stderr",
     "output_type": "stream",
     "text": [
      "  0%|          | 10/3996 [00:00<00:01, 2158.67it/s]\n"
     ]
    }
   ],
   "source": [
    "\n",
    "###### tests\n",
    "\n",
    "experiment_name = \"kb2\"\n",
    "bline_path = f\"/datasets/FreebaseQA/results/{experiment_name}.csv\"\n",
    "bline = pd.read_csv(bline_path)\n",
    "l = len(bline)\n",
    "baseline_results = list(bline.Model.values)\n",
    "\n",
    "fbqa = pd.read_json(\"/datasets/FreebaseQA/FreebaseQA-eval.json\")\n",
    "# fbqa.Questions[0].get(\"RawQuestions\", None)\n",
    "results = []\n",
    "for i, r in tqdm(list(fbqa.iterrows())):\n",
    "    if i == 10:\n",
    "        break\n",
    "    if i < l:\n",
    "        continue\n",
    "    q, a = get_fbqa_data(r)\n",
    "    # \n",
    "    # print(\"Question:\", q)\n",
    "    # print(\"Answer:\", a)\n",
    "    # print(\"Prompt:\", prompt)\n",
    "    print(q)\n",
    "    response = get_response(q)\n",
    "    print(\"Model:\", response)\n",
    "    results.append(response)\n",
    "\n",
    "    if i % 250 == 0:\n",
    "        with open(bline_path, \"w\") as f:\n",
    "            writer = csv.writer(f)\n",
    "            writer.writerow([\"Model\"])\n",
    "            for r in results:\n",
    "                writer.writerow([str(r)])\n",
    "\n",
    "with open(bline_path, \"w\") as f:\n",
    "    writer = csv.writer(f)\n",
    "    writer.writerow([\"Model\"])\n",
    "    for r in results:\n",
    "        writer.writerow([str(r)])\n"
   ]
  },
  {
   "cell_type": "code",
   "execution_count": 71,
   "metadata": {},
   "outputs": [
    {
     "data": {
      "application/vnd.jupyter.widget-view+json": {
       "model_id": "1de1c531eadc40bf81ead20e862b0064",
       "version_major": 2,
       "version_minor": 0
      },
      "text/plain": [
       "Split strings: 0it [00:00, ?it/s]"
      ]
     },
     "metadata": {},
     "output_type": "display_data"
    },
    {
     "data": {
      "application/vnd.jupyter.widget-view+json": {
       "model_id": "afb8c560761b4c32bea89bc68f1b224e",
       "version_major": 2,
       "version_minor": 0
      },
      "text/plain": [
       "BM25S Count Tokens:   0%|          | 0/218 [00:00<?, ?it/s]"
      ]
     },
     "metadata": {},
     "output_type": "display_data"
    },
    {
     "data": {
      "application/vnd.jupyter.widget-view+json": {
       "model_id": "31b5a95faff94d8f968fc37b6f7142e4",
       "version_major": 2,
       "version_minor": 0
      },
      "text/plain": [
       "BM25S Compute Scores:   0%|          | 0/218 [00:00<?, ?it/s]"
      ]
     },
     "metadata": {},
     "output_type": "display_data"
    },
    {
     "name": "stdout",
     "output_type": "stream",
     "text": [
      "who produc the film 12 angri men which was script by reginald rose star henri fonda and was direct by sidney lumet\n"
     ]
    },
    {
     "data": {
      "application/vnd.jupyter.widget-view+json": {
       "model_id": "75fe449b650b4b8fb1282d4977a0d53b",
       "version_major": 2,
       "version_minor": 0
      },
      "text/plain": [
       "Split strings:   0%|          | 0/1 [00:00<?, ?it/s]"
      ]
     },
     "metadata": {},
     "output_type": "display_data"
    },
    {
     "data": {
      "application/vnd.jupyter.widget-view+json": {
       "model_id": "2506b5b8b2a644b283dffbcae8ab0cf6",
       "version_major": 2,
       "version_minor": 0
      },
      "text/plain": [
       "Stem Tokens:   0%|          | 0/1 [00:00<?, ?it/s]"
      ]
     },
     "metadata": {},
     "output_type": "display_data"
    },
    {
     "data": {
      "application/vnd.jupyter.widget-view+json": {
       "model_id": "1cb4d136f5eb40d8981481586a75fb4b",
       "version_major": 2,
       "version_minor": 0
      },
      "text/plain": [
       "BM25S Retrieve:   0%|          | 0/1 [00:00<?, ?it/s]"
      ]
     },
     "metadata": {},
     "output_type": "display_data"
    },
    {
     "name": "stdout",
     "output_type": "stream",
     "text": [
      "Rank 1 (score: 4.336): Sidney_Lumet /people/person/profession Film_Producer-GB\n",
      "Rank 2 (score: 3.653): Sidney_Lumet /people/person/profession Television_producer-GB\n"
     ]
    }
   ],
   "source": [
    "import bm25s\n",
    "import Stemmer  # optional: for stemming\n",
    "from utils.preprocessing import preprocess_text\n",
    "\n",
    "ts = bm25s.tokenize(\n",
    "    map(\n",
    "        preprocess_text,\n",
    "        triplets\n",
    "    )\n",
    ")\n",
    "retriever = bm25s.BM25()\n",
    "retriever.index(ts)\n",
    "\n",
    "query = \"Who produced the film 12 Angry Men, which was scripted by Reginald Rose, starred Henry Fonda and was directed by Sidney Lumet?\"\n",
    "print(preprocess_text(query))\n",
    "query_tokens = bm25s.tokenize(preprocess_text(query), stemmer=stemmer)\n",
    "\n",
    "results, scores = retriever.retrieve(query_tokens, k=len(ts))\n",
    "\n",
    "for i in range(results.shape[1]):\n",
    "    doc, score = results[0, i], scores[0, i]\n",
    "    print(f\"Rank {i+1} (score: {score:.3f}): {triplets[doc]}\")"
   ]
  }
 ],
 "metadata": {
  "kernelspec": {
   "display_name": "Python 3 (ipykernel)",
   "language": "python",
   "name": "python3"
  },
  "language_info": {
   "codemirror_mode": {
    "name": "ipython",
    "version": 3
   },
   "file_extension": ".py",
   "mimetype": "text/x-python",
   "name": "python",
   "nbconvert_exporter": "python",
   "pygments_lexer": "ipython3",
   "version": "3.11.10"
  }
 },
 "nbformat": 4,
 "nbformat_minor": 2
}
