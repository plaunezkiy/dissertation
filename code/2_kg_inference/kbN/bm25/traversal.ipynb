{
 "cells": [
  {
   "cell_type": "code",
   "execution_count": 180,
   "metadata": {},
   "outputs": [
    {
     "name": "stdout",
     "output_type": "stream",
     "text": [
      "The autoreload extension is already loaded. To reload it, use:\n",
      "  %reload_ext autoreload\n"
     ]
    }
   ],
   "source": [
    "%load_ext autoreload\n",
    "%autoreload 2"
   ]
  },
  {
   "cell_type": "code",
   "execution_count": 186,
   "metadata": {},
   "outputs": [],
   "source": [
    "import pandas as pd\n",
    "import torch\n",
    "import gc\n",
    "import Stemmer\n",
    "import re\n",
    "from tqdm import tqdm\n",
    "import csv\n",
    "import gc\n",
    "import networkx as nx\n",
    "from utils.preprocessing import preprocess_text\n",
    "from utils.graph import KGraphPreproc"
   ]
  },
  {
   "cell_type": "code",
   "execution_count": 282,
   "metadata": {},
   "outputs": [],
   "source": [
    "s = fbkb_graph._graph.edges(data=True)"
   ]
  },
  {
   "cell_type": "code",
   "execution_count": 283,
   "metadata": {},
   "outputs": [
    {
     "data": {
      "text/plain": [
       "[('/m/027rn', '/m/06cx9'),\n",
       " ('/m/027rn', '/m/0l6ny'),\n",
       " ('/m/027rn', '/m/09nqf'),\n",
       " ('/m/027rn', '/m/026wp'),\n",
       " ('/m/027rn', '/m/02lq67'),\n",
       " ('/m/027rn', '/m/02j71'),\n",
       " ('/m/027rn', '/m/06sks6'),\n",
       " ('/m/027rn', '/m/02lq5w'),\n",
       " ('/m/027rn', '/m/0kbws'),\n",
       " ('/m/027rn', '/m/02lpp7')]"
      ]
     },
     "execution_count": 283,
     "metadata": {},
     "output_type": "execute_result"
    }
   ],
   "source": [
    "list(s)[:10]"
   ]
  },
  {
   "cell_type": "code",
   "execution_count": 187,
   "metadata": {},
   "outputs": [],
   "source": [
    "fbkb_graph = KGraphPreproc.get_fbkb_graph()"
   ]
  },
  {
   "cell_type": "code",
   "execution_count": 188,
   "metadata": {},
   "outputs": [
    {
     "data": {
      "text/plain": [
       "['Reds /film/film/genre Drama',\n",
       " 'Reds /award/award_winning_work/awards_won./award/award_honor/award BAFTA_Award_for_Best_Actor_in_a_Supporting_Role',\n",
       " 'Reds /award/award_winning_work/awards_won./award/award_honor/award_winner Jack_Nicholson',\n",
       " 'Reds /award/award_category/nominees./award/award_nomination/nominated_for Academy_Award_for_Best_Production_Design',\n",
       " 'Reds /award/award_category/nominees./award/award_nomination/nominated_for Academy_Award_for_Best_Sound_Mixing']"
      ]
     },
     "execution_count": 188,
     "metadata": {},
     "output_type": "execute_result"
    }
   ],
   "source": [
    "triplets = fbkb_graph._get_entity_knowledge(\"/m/0c9k8\", depth=1)\n",
    "triplets[:5]"
   ]
  },
  {
   "cell_type": "code",
   "execution_count": 189,
   "metadata": {},
   "outputs": [],
   "source": [
    "from sentence_transformers import SentenceTransformer\n",
    "model = SentenceTransformer(\"all-MiniLM-L6-v2\")"
   ]
  },
  {
   "cell_type": "code",
   "execution_count": 193,
   "metadata": {},
   "outputs": [],
   "source": [
    "def node_query_similarity(query, node):\n",
    "    print(node)\n",
    "    return 0\n",
    "    return model.similarity(\n",
    "        *model.encode([query, node])\n",
    "    )"
   ]
  },
  {
   "cell_type": "code",
   "execution_count": null,
   "metadata": {},
   "outputs": [],
   "source": [
    "from collections import deque\n",
    "\n",
    "def bfs_triplet_similarity(graph, query, start_node, width):\n",
    "    \"\"\"\n",
    "    BeamSearch over KG.\n",
    "    Exploring `width` branches from a node\n",
    "    Query-Triplet embedding similarity is a scoring function\n",
    "    \"\"\"\n",
    "    queue = deque([start_node])\n",
    "    visited = set()\n",
    "    result = []\n",
    "\n",
    "    while queue:\n",
    "        current = queue.popleft()\n",
    "        if current in visited:\n",
    "            continue\n",
    "        visited.add(current)\n",
    "        # add top 5 triplets\n",
    "        if graph.\n",
    "        # \n"
   ]
  },
  {
   "cell_type": "code",
   "execution_count": 259,
   "metadata": {},
   "outputs": [],
   "source": [
    "query = \"Who was the first Roman Catholic to become American President?\"\n",
    "start_node = \"/m/060d2\"\n",
    "target_node = \"/m/0d3k14\"\n",
    "N = 3"
   ]
  },
  {
   "cell_type": "code",
   "execution_count": 196,
   "metadata": {},
   "outputs": [],
   "source": [
    "bfs = nx.bfs_beam_edges(\n",
    "    fbkb_graph._graph, \n",
    "    source=start_node,\n",
    "    value=lambda n: node_query_similarity(query, n),\n",
    "    width=N,\n",
    ")"
   ]
  },
  {
   "cell_type": "markdown",
   "metadata": {},
   "source": [
    "### Collect similarity of each triplet edge along the way\n",
    "### scatterplot the similarities"
   ]
  },
  {
   "cell_type": "code",
   "execution_count": 260,
   "metadata": {},
   "outputs": [],
   "source": [
    "subgraph = nx.bfs_tree(fbkb_graph._graph, source=start_node, depth_limit=N)"
   ]
  },
  {
   "cell_type": "code",
   "execution_count": 265,
   "metadata": {},
   "outputs": [
    {
     "data": {
      "text/plain": [
       "12764"
      ]
     },
     "execution_count": 265,
     "metadata": {},
     "output_type": "execute_result"
    }
   ],
   "source": [
    "len(subgraph.edges)"
   ]
  },
  {
   "cell_type": "code",
   "execution_count": 262,
   "metadata": {},
   "outputs": [
    {
     "data": {
      "text/html": [
       "<div>\n",
       "<style scoped>\n",
       "    .dataframe tbody tr th:only-of-type {\n",
       "        vertical-align: middle;\n",
       "    }\n",
       "\n",
       "    .dataframe tbody tr th {\n",
       "        vertical-align: top;\n",
       "    }\n",
       "\n",
       "    .dataframe thead th {\n",
       "        text-align: right;\n",
       "    }\n",
       "</style>\n",
       "<table border=\"1\" class=\"dataframe\">\n",
       "  <thead>\n",
       "    <tr style=\"text-align: right;\">\n",
       "      <th></th>\n",
       "      <th>start</th>\n",
       "      <th>end</th>\n",
       "      <th>depth</th>\n",
       "      <th>similarity</th>\n",
       "    </tr>\n",
       "  </thead>\n",
       "  <tbody>\n",
       "  </tbody>\n",
       "</table>\n",
       "</div>"
      ],
      "text/plain": [
       "Empty DataFrame\n",
       "Columns: [start, end, depth, similarity]\n",
       "Index: []"
      ]
     },
     "execution_count": 262,
     "metadata": {},
     "output_type": "execute_result"
    }
   ],
   "source": [
    "edge_sim_df = pd.DataFrame(columns=[\"start\", \"end\", \"depth\", \"similarity\", \"emnbedding\"])\n",
    "edge_sim_df"
   ]
  },
  {
   "cell_type": "code",
   "execution_count": 263,
   "metadata": {},
   "outputs": [
    {
     "data": {
      "text/html": [
       "<div>\n",
       "<style scoped>\n",
       "    .dataframe tbody tr th:only-of-type {\n",
       "        vertical-align: middle;\n",
       "    }\n",
       "\n",
       "    .dataframe tbody tr th {\n",
       "        vertical-align: top;\n",
       "    }\n",
       "\n",
       "    .dataframe thead th {\n",
       "        text-align: right;\n",
       "    }\n",
       "</style>\n",
       "<table border=\"1\" class=\"dataframe\">\n",
       "  <thead>\n",
       "    <tr style=\"text-align: right;\">\n",
       "      <th></th>\n",
       "      <th>start</th>\n",
       "      <th>end</th>\n",
       "      <th>depth</th>\n",
       "      <th>similarity</th>\n",
       "    </tr>\n",
       "  </thead>\n",
       "  <tbody>\n",
       "    <tr>\n",
       "      <th>0</th>\n",
       "      <td>/m/060d2</td>\n",
       "      <td>/m/0gfhg1y</td>\n",
       "      <td>1</td>\n",
       "      <td>0</td>\n",
       "    </tr>\n",
       "    <tr>\n",
       "      <th>1</th>\n",
       "      <td>/m/060d2</td>\n",
       "      <td>/m/08mbj5d</td>\n",
       "      <td>1</td>\n",
       "      <td>0</td>\n",
       "    </tr>\n",
       "    <tr>\n",
       "      <th>2</th>\n",
       "      <td>/m/0gfhg1y</td>\n",
       "      <td>/m/01cpjx</td>\n",
       "      <td>2</td>\n",
       "      <td>0</td>\n",
       "    </tr>\n",
       "    <tr>\n",
       "      <th>3</th>\n",
       "      <td>/m/0gfhg1y</td>\n",
       "      <td>/m/04gqr</td>\n",
       "      <td>2</td>\n",
       "      <td>0</td>\n",
       "    </tr>\n",
       "    <tr>\n",
       "      <th>4</th>\n",
       "      <td>/m/0gfhg1y</td>\n",
       "      <td>/m/02mjmr</td>\n",
       "      <td>2</td>\n",
       "      <td>0</td>\n",
       "    </tr>\n",
       "    <tr>\n",
       "      <th>...</th>\n",
       "      <td>...</td>\n",
       "      <td>...</td>\n",
       "      <td>...</td>\n",
       "      <td>...</td>\n",
       "    </tr>\n",
       "    <tr>\n",
       "      <th>12759</th>\n",
       "      <td>/m/017575</td>\n",
       "      <td>/m/019m5j</td>\n",
       "      <td>3</td>\n",
       "      <td>0</td>\n",
       "    </tr>\n",
       "    <tr>\n",
       "      <th>12760</th>\n",
       "      <td>/m/01q_22</td>\n",
       "      <td>/m/0djgt</td>\n",
       "      <td>3</td>\n",
       "      <td>0</td>\n",
       "    </tr>\n",
       "    <tr>\n",
       "      <th>12761</th>\n",
       "      <td>/m/0bkv0</td>\n",
       "      <td>/m/01m3dv</td>\n",
       "      <td>3</td>\n",
       "      <td>0</td>\n",
       "    </tr>\n",
       "    <tr>\n",
       "      <th>12762</th>\n",
       "      <td>/m/01r9nk</td>\n",
       "      <td>/m/0847q</td>\n",
       "      <td>3</td>\n",
       "      <td>0</td>\n",
       "    </tr>\n",
       "    <tr>\n",
       "      <th>12763</th>\n",
       "      <td>/m/09wwlj</td>\n",
       "      <td>/m/019mdt</td>\n",
       "      <td>3</td>\n",
       "      <td>0</td>\n",
       "    </tr>\n",
       "  </tbody>\n",
       "</table>\n",
       "<p>12764 rows × 4 columns</p>\n",
       "</div>"
      ],
      "text/plain": [
       "            start         end  depth  similarity\n",
       "0        /m/060d2  /m/0gfhg1y      1           0\n",
       "1        /m/060d2  /m/08mbj5d      1           0\n",
       "2      /m/0gfhg1y   /m/01cpjx      2           0\n",
       "3      /m/0gfhg1y    /m/04gqr      2           0\n",
       "4      /m/0gfhg1y   /m/02mjmr      2           0\n",
       "...           ...         ...    ...         ...\n",
       "12759   /m/017575   /m/019m5j      3           0\n",
       "12760   /m/01q_22    /m/0djgt      3           0\n",
       "12761    /m/0bkv0   /m/01m3dv      3           0\n",
       "12762   /m/01r9nk    /m/0847q      3           0\n",
       "12763   /m/09wwlj   /m/019mdt      3           0\n",
       "\n",
       "[12764 rows x 4 columns]"
      ]
     },
     "execution_count": 263,
     "metadata": {},
     "output_type": "execute_result"
    }
   ],
   "source": [
    "# Compute the depth of each node\n",
    "depth = nx.single_source_shortest_path_length(fbkb_graph._graph, start_node)\n",
    "# Annotate each edge in the BFS tree\n",
    "for i, (u, v) in enumerate(list(subgraph.edges)):\n",
    "    edge_sim_df.loc[i] = [u, v, depth[v], 0]\n",
    "    # bfs_tree[u][v]['depth'] = depth[v]\n",
    "edge_sim_df"
   ]
  },
  {
   "cell_type": "code",
   "execution_count": 272,
   "metadata": {},
   "outputs": [
    {
     "name": "stderr",
     "output_type": "stream",
     "text": [
      "huggingface/tokenizers: The current process just got forked, after parallelism has already been used. Disabling parallelism to avoid deadlocks...\n",
      "To disable this warning, you can either:\n",
      "\t- Avoid using `tokenizers` before the fork if possible\n",
      "\t- Explicitly set the environment variable TOKENIZERS_PARALLELISM=(true | false)\n",
      "632849.30s - pydevd: Sending message related to process being replaced timed-out after 5 seconds\n"
     ]
    },
    {
     "name": "stdout",
     "output_type": "stream",
     "text": [
      "Collecting bm25s\n",
      "  Downloading bm25s-0.2.7.post1-py3-none-any.whl.metadata (21 kB)\n",
      "Requirement already satisfied: scipy in /opt/conda/lib/python3.11/site-packages (from bm25s) (1.14.1)\n",
      "Requirement already satisfied: numpy in /opt/conda/lib/python3.11/site-packages (from bm25s) (1.26.4)\n",
      "Downloading bm25s-0.2.7.post1-py3-none-any.whl (53 kB)\n",
      "Installing collected packages: bm25s\n",
      "Successfully installed bm25s-0.2.7.post1\n",
      "\u001b[33mWARNING: Running pip as the 'root' user can result in broken permissions and conflicting behaviour with the system package manager, possibly rendering your system unusable.It is recommended to use a virtual environment instead: https://pip.pypa.io/warnings/venv. Use the --root-user-action option if you know what you are doing and want to suppress this warning.\u001b[0m\u001b[33m\n",
      "\u001b[0m"
     ]
    }
   ],
   "source": [
    "!pip install bm25s"
   ]
  },
  {
   "cell_type": "code",
   "execution_count": 264,
   "metadata": {},
   "outputs": [
    {
     "name": "stderr",
     "output_type": "stream",
     "text": [
      "0it [00:00, ?it/s]"
     ]
    },
    {
     "name": "stderr",
     "output_type": "stream",
     "text": [
      "/tmp/ipykernel_2170/1244169983.py:11: FutureWarning: Setting an item of incompatible dtype is deprecated and will raise an error in a future version of pandas. Value '0.22322' has dtype incompatible with int64, please explicitly cast to a compatible dtype first.\n",
      "  edge_sim_df.at[i, \"similarity\"] = sim\n",
      "12764it [01:02, 202.98it/s]\n"
     ]
    },
    {
     "data": {
      "text/html": [
       "<div>\n",
       "<style scoped>\n",
       "    .dataframe tbody tr th:only-of-type {\n",
       "        vertical-align: middle;\n",
       "    }\n",
       "\n",
       "    .dataframe tbody tr th {\n",
       "        vertical-align: top;\n",
       "    }\n",
       "\n",
       "    .dataframe thead th {\n",
       "        text-align: right;\n",
       "    }\n",
       "</style>\n",
       "<table border=\"1\" class=\"dataframe\">\n",
       "  <thead>\n",
       "    <tr style=\"text-align: right;\">\n",
       "      <th></th>\n",
       "      <th>start</th>\n",
       "      <th>end</th>\n",
       "      <th>depth</th>\n",
       "      <th>similarity</th>\n",
       "    </tr>\n",
       "  </thead>\n",
       "  <tbody>\n",
       "    <tr>\n",
       "      <th>0</th>\n",
       "      <td>/m/060d2</td>\n",
       "      <td>/m/0gfhg1y</td>\n",
       "      <td>1</td>\n",
       "      <td>0.22322</td>\n",
       "    </tr>\n",
       "    <tr>\n",
       "      <th>1</th>\n",
       "      <td>/m/060d2</td>\n",
       "      <td>/m/08mbj5d</td>\n",
       "      <td>1</td>\n",
       "      <td>0.27369</td>\n",
       "    </tr>\n",
       "    <tr>\n",
       "      <th>2</th>\n",
       "      <td>/m/0gfhg1y</td>\n",
       "      <td>/m/01cpjx</td>\n",
       "      <td>2</td>\n",
       "      <td>0.05348</td>\n",
       "    </tr>\n",
       "    <tr>\n",
       "      <th>3</th>\n",
       "      <td>/m/0gfhg1y</td>\n",
       "      <td>/m/04gqr</td>\n",
       "      <td>2</td>\n",
       "      <td>0.02005</td>\n",
       "    </tr>\n",
       "    <tr>\n",
       "      <th>4</th>\n",
       "      <td>/m/0gfhg1y</td>\n",
       "      <td>/m/02mjmr</td>\n",
       "      <td>2</td>\n",
       "      <td>0.16118</td>\n",
       "    </tr>\n",
       "  </tbody>\n",
       "</table>\n",
       "</div>"
      ],
      "text/plain": [
       "        start         end  depth  similarity\n",
       "0    /m/060d2  /m/0gfhg1y      1     0.22322\n",
       "1    /m/060d2  /m/08mbj5d      1     0.27369\n",
       "2  /m/0gfhg1y   /m/01cpjx      2     0.05348\n",
       "3  /m/0gfhg1y    /m/04gqr      2     0.02005\n",
       "4  /m/0gfhg1y   /m/02mjmr      2     0.16118"
      ]
     },
     "execution_count": 264,
     "metadata": {},
     "output_type": "execute_result"
    }
   ],
   "source": [
    "for i, r in tqdm(edge_sim_df.iterrows()):\n",
    "    src = r.start\n",
    "    sink = r.end\n",
    "    relation = fbkb_graph._graph[src][sink][\"relation\"]\n",
    "    s = fbkb_graph.mid2name[src]\n",
    "    o = fbkb_graph.mid2name[sink]\n",
    "    triplet = f\"{s} {relation} {o}\"\n",
    "    sim = round(float(model.similarity(\n",
    "        *model.encode([query, triplet])\n",
    "    )[0][0]), 5)\n",
    "    edge_sim_df.at[i, \"similarity\"] = sim\n",
    "edge_sim_df.head()"
   ]
  },
  {
   "cell_type": "code",
   "execution_count": 270,
   "metadata": {},
   "outputs": [
    {
     "data": {
      "text/plain": [
       "['/m/060d2', '/m/08mbj5d', '/m/0rh6k', '/m/0d3k14']"
      ]
     },
     "execution_count": 270,
     "metadata": {},
     "output_type": "execute_result"
    }
   ],
   "source": [
    "s_path = nx.shortest_path(fbkb_graph._graph, start_node, target_node)\n",
    "s_path"
   ]
  },
  {
   "cell_type": "code",
   "execution_count": 271,
   "metadata": {},
   "outputs": [
    {
     "data": {
      "image/png": "[encoded data removed]",
      "text/plain": [
       "<Figure size 640x480 with 1 Axes>"
      ]
     },
     "metadata": {},
     "output_type": "display_data"
    }
   ],
   "source": [
    "import matplotlib.pyplot as plt\n",
    "plt.scatter(edge_sim_df.depth, edge_sim_df.similarity, color='blue', label='Data Points')\n",
    "for s, t in zip(s_path, s_path[1:]):\n",
    "    path = edge_sim_df[(edge_sim_df[\"start\"] == s) & (edge_sim_df[\"end\"] == t)].iloc[0]\n",
    "    plt.scatter(path.depth, path.similarity, c=\"red\")\n",
    "# Add labels and title\n",
    "plt.xlabel('hops')\n",
    "plt.ylabel('similarity')\n",
    "# plt.title('Scatter Plot Example')\n",
    "# Show plot\n",
    "plt.show()"
   ]
  },
  {
   "cell_type": "code",
   "execution_count": 268,
   "metadata": {},
   "outputs": [
    {
     "data": {
      "text/plain": [
       "['/m/060d2', '/m/08mbj5d', '/m/0rh6k', '/m/0d3k14']"
      ]
     },
     "execution_count": 268,
     "metadata": {},
     "output_type": "execute_result"
    }
   ],
   "source": [
    "nx.shortest_path(fbkb_graph._graph, start_node, target_node)"
   ]
  },
  {
   "cell_type": "markdown",
   "metadata": {},
   "source": [
    "Perf degradation with the increase in number of hops\n",
    "but with my heuristics:\n",
    "- I can go up to N+1\n",
    "- Perf increase\n",
    "\n",
    "[Traversing Knowledge Graphs in Vector Space](https://aclanthology.org/D15-1038.pdf)\n",
    "\n",
    "[KNOWLEDGE SOLVER: TEACHING LLMS TO SEARCH FOR\n",
    "DOMAIN KNOWLEDGE FROM KNOWLEDGE GRAPHS](https://www.semanticscholar.org/reader/d60bc65862c9aca2b4c18595cc1d0f34cadaf4cf)"
   ]
  },
  {
   "cell_type": "markdown",
   "metadata": {},
   "source": [
    "!!! [Think on Graph](https://arxiv.org/pdf/2307.07697)"
   ]
  }
 ],
 "metadata": {
  "kernelspec": {
   "display_name": "Python 3 (ipykernel)",
   "language": "python",
   "name": "python3"
  }
 },
 "nbformat": 4,
 "nbformat_minor": 2
}
