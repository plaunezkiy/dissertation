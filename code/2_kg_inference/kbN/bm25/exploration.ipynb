{
 "cells": [
  {
   "cell_type": "code",
   "execution_count": 20,
   "metadata": {},
   "outputs": [
    {
     "name": "stdout",
     "output_type": "stream",
     "text": [
      "The autoreload extension is already loaded. To reload it, use:\n",
      "  %reload_ext autoreload\n"
     ]
    }
   ],
   "source": [
    "%load_ext autoreload\n",
    "%autoreload 2\n"
   ]
  },
  {
   "cell_type": "code",
   "execution_count": 1,
   "metadata": {},
   "outputs": [],
   "source": [
    "import pandas as pd\n",
    "import torch\n",
    "import gc\n",
    "import Stemmer\n",
    "import re\n",
    "from tqdm import tqdm\n",
    "import csv\n",
    "import gc\n",
    "import networkx as nx\n",
    "from utils.preprocessing import preprocess_text"
   ]
  },
  {
   "cell_type": "code",
   "execution_count": 2,
   "metadata": {},
   "outputs": [
    {
     "data": {
      "text/html": [
       "<div>\n",
       "<style scoped>\n",
       "    .dataframe tbody tr th:only-of-type {\n",
       "        vertical-align: middle;\n",
       "    }\n",
       "\n",
       "    .dataframe tbody tr th {\n",
       "        vertical-align: top;\n",
       "    }\n",
       "\n",
       "    .dataframe thead th {\n",
       "        text-align: right;\n",
       "    }\n",
       "</style>\n",
       "<table border=\"1\" class=\"dataframe\">\n",
       "  <thead>\n",
       "    <tr style=\"text-align: right;\">\n",
       "      <th></th>\n",
       "      <th>Dataset</th>\n",
       "      <th>Version</th>\n",
       "      <th>Questions</th>\n",
       "    </tr>\n",
       "  </thead>\n",
       "  <tbody>\n",
       "    <tr>\n",
       "      <th>0</th>\n",
       "      <td>FreebaseQA-eval</td>\n",
       "      <td>1</td>\n",
       "      <td>{'Question-ID': 'FreebaseQA-eval-0', 'RawQuest...</td>\n",
       "    </tr>\n",
       "    <tr>\n",
       "      <th>1</th>\n",
       "      <td>FreebaseQA-eval</td>\n",
       "      <td>1</td>\n",
       "      <td>{'Question-ID': 'FreebaseQA-eval-1', 'RawQuest...</td>\n",
       "    </tr>\n",
       "    <tr>\n",
       "      <th>2</th>\n",
       "      <td>FreebaseQA-eval</td>\n",
       "      <td>1</td>\n",
       "      <td>{'Question-ID': 'FreebaseQA-eval-2', 'RawQuest...</td>\n",
       "    </tr>\n",
       "    <tr>\n",
       "      <th>3</th>\n",
       "      <td>FreebaseQA-eval</td>\n",
       "      <td>1</td>\n",
       "      <td>{'Question-ID': 'FreebaseQA-eval-3', 'RawQuest...</td>\n",
       "    </tr>\n",
       "    <tr>\n",
       "      <th>4</th>\n",
       "      <td>FreebaseQA-eval</td>\n",
       "      <td>1</td>\n",
       "      <td>{'Question-ID': 'FreebaseQA-eval-4', 'RawQuest...</td>\n",
       "    </tr>\n",
       "  </tbody>\n",
       "</table>\n",
       "</div>"
      ],
      "text/plain": [
       "           Dataset  Version                                          Questions\n",
       "0  FreebaseQA-eval        1  {'Question-ID': 'FreebaseQA-eval-0', 'RawQuest...\n",
       "1  FreebaseQA-eval        1  {'Question-ID': 'FreebaseQA-eval-1', 'RawQuest...\n",
       "2  FreebaseQA-eval        1  {'Question-ID': 'FreebaseQA-eval-2', 'RawQuest...\n",
       "3  FreebaseQA-eval        1  {'Question-ID': 'FreebaseQA-eval-3', 'RawQuest...\n",
       "4  FreebaseQA-eval        1  {'Question-ID': 'FreebaseQA-eval-4', 'RawQuest..."
      ]
     },
     "execution_count": 2,
     "metadata": {},
     "output_type": "execute_result"
    }
   ],
   "source": [
    "fbqa = pd.read_json(\"/datasets/FreebaseQA/FreebaseQA-eval.json\")\n",
    "fbqa=pd.json_normalize(fbqa.Questions)\n",
    "fbqa.head()"
   ]
  },
  {
   "cell_type": "code",
   "execution_count": 3,
   "metadata": {},
   "outputs": [
    {
     "data": {
      "text/plain": [
       "{'Question-ID': 'FreebaseQA-eval-0',\n",
       " 'RawQuestion': \"Who is the female presenter of the Channel 4 quiz show '1001 things you should know'?\",\n",
       " 'ProcessedQuestion': \"who is the female presenter of the channel 4 quiz show '1001 things you should know'\",\n",
       " 'Parses': [{'Parse-Id': 'FreebaseQA-eval-0.P0',\n",
       "   'PotentialTopicEntityMention': '1001 things you should know',\n",
       "   'TopicEntityName': '1001 things you should know',\n",
       "   'TopicEntityMid': 'm.0nd3t34',\n",
       "   'InferentialChain': 'tv.tv_program.regular_personal_appearances..tv.tv_regular_personal_appearance.person',\n",
       "   'Answers': [{'AnswersMid': 'm.0216y_', 'AnswersName': ['sandi toksvig']}]}]}"
      ]
     },
     "execution_count": 3,
     "metadata": {},
     "output_type": "execute_result"
    }
   ],
   "source": [
    "fbqa.iloc[0].Questions"
   ]
  },
  {
   "cell_type": "code",
   "execution_count": 4,
   "metadata": {},
   "outputs": [
    {
     "data": {
      "text/html": [
       "<div>\n",
       "<style scoped>\n",
       "    .dataframe tbody tr th:only-of-type {\n",
       "        vertical-align: middle;\n",
       "    }\n",
       "\n",
       "    .dataframe tbody tr th {\n",
       "        vertical-align: top;\n",
       "    }\n",
       "\n",
       "    .dataframe thead th {\n",
       "        text-align: right;\n",
       "    }\n",
       "</style>\n",
       "<table border=\"1\" class=\"dataframe\">\n",
       "  <thead>\n",
       "    <tr style=\"text-align: right;\">\n",
       "      <th></th>\n",
       "      <th>qid</th>\n",
       "      <th>question</th>\n",
       "      <th>entity</th>\n",
       "      <th>entity_mid</th>\n",
       "      <th>answer_mid</th>\n",
       "      <th>answer</th>\n",
       "      <th>chain</th>\n",
       "    </tr>\n",
       "  </thead>\n",
       "  <tbody>\n",
       "    <tr>\n",
       "      <th>0</th>\n",
       "      <td>FreebaseQA-eval-0</td>\n",
       "      <td>Who is the female presenter of the Channel 4 q...</td>\n",
       "      <td>1001 things you should know</td>\n",
       "      <td>/m/0nd3t34</td>\n",
       "      <td>/m/0216y_</td>\n",
       "      <td>[sandi toksvig]</td>\n",
       "      <td>tv.tv_program.regular_personal_appearances..tv...</td>\n",
       "    </tr>\n",
       "    <tr>\n",
       "      <th>1</th>\n",
       "      <td>FreebaseQA-eval-1</td>\n",
       "      <td>Who produced the film 12 Angry Men, which was ...</td>\n",
       "      <td>12 angry men</td>\n",
       "      <td>/m/0m_tj</td>\n",
       "      <td>/m/0cj8x</td>\n",
       "      <td>[henry fonda]</td>\n",
       "      <td>film.film.produced_by</td>\n",
       "    </tr>\n",
       "    <tr>\n",
       "      <th>2</th>\n",
       "      <td>FreebaseQA-eval-2</td>\n",
       "      <td>Who directed the films; The Fisher King (1991)...</td>\n",
       "      <td>12 monkeys</td>\n",
       "      <td>/m/07j6w</td>\n",
       "      <td>/m/07h5d</td>\n",
       "      <td>[terry gilliam]</td>\n",
       "      <td>film.film.directed_by</td>\n",
       "    </tr>\n",
       "    <tr>\n",
       "      <th>3</th>\n",
       "      <td>FreebaseQA-eval-2</td>\n",
       "      <td>Who directed the films; The Fisher King (1991)...</td>\n",
       "      <td>the brothers grimm</td>\n",
       "      <td>/m/04z257</td>\n",
       "      <td>/m/07h5d</td>\n",
       "      <td>[terry gilliam]</td>\n",
       "      <td>film.film.directed_by</td>\n",
       "    </tr>\n",
       "    <tr>\n",
       "      <th>4</th>\n",
       "      <td>FreebaseQA-eval-2</td>\n",
       "      <td>Who directed the films; The Fisher King (1991)...</td>\n",
       "      <td>fisher king</td>\n",
       "      <td>/m/016z43</td>\n",
       "      <td>/m/07h5d</td>\n",
       "      <td>[terry gilliam]</td>\n",
       "      <td>film.film.directed_by</td>\n",
       "    </tr>\n",
       "  </tbody>\n",
       "</table>\n",
       "</div>"
      ],
      "text/plain": [
       "                 qid                                           question  \\\n",
       "0  FreebaseQA-eval-0  Who is the female presenter of the Channel 4 q...   \n",
       "1  FreebaseQA-eval-1  Who produced the film 12 Angry Men, which was ...   \n",
       "2  FreebaseQA-eval-2  Who directed the films; The Fisher King (1991)...   \n",
       "3  FreebaseQA-eval-2  Who directed the films; The Fisher King (1991)...   \n",
       "4  FreebaseQA-eval-2  Who directed the films; The Fisher King (1991)...   \n",
       "\n",
       "                        entity  entity_mid answer_mid           answer  \\\n",
       "0  1001 things you should know  /m/0nd3t34  /m/0216y_  [sandi toksvig]   \n",
       "1                 12 angry men    /m/0m_tj   /m/0cj8x    [henry fonda]   \n",
       "2                   12 monkeys    /m/07j6w   /m/07h5d  [terry gilliam]   \n",
       "3           the brothers grimm   /m/04z257   /m/07h5d  [terry gilliam]   \n",
       "4                  fisher king   /m/016z43   /m/07h5d  [terry gilliam]   \n",
       "\n",
       "                                               chain  \n",
       "0  tv.tv_program.regular_personal_appearances..tv...  \n",
       "1                              film.film.produced_by  \n",
       "2                              film.film.directed_by  \n",
       "3                              film.film.directed_by  \n",
       "4                              film.film.directed_by  "
      ]
     },
     "execution_count": 4,
     "metadata": {},
     "output_type": "execute_result"
    }
   ],
   "source": [
    "data = []\n",
    "for i, r in fbqa.iterrows():\n",
    "    question = r.Questions.get(\"RawQuestion\")\n",
    "    qid = r.Questions.get(\"Question-ID\")\n",
    "    parses = r.Questions.get(\"Parses\", [])\n",
    "    for parse in parses:\n",
    "        if not parse:\n",
    "            print(f\"error in question: {question}\")\n",
    "            continue\n",
    "        chain = parse.get(\"InferentialChain\")\n",
    "        entity = parse.get(\"TopicEntityName\")\n",
    "        entity_mid = parse.get(\"TopicEntityMid\")\n",
    "        answers = parse.get(\"Answers\")\n",
    "        for answer in answers:\n",
    "            answer_mid = answer.get(\"AnswersMid\")\n",
    "            answer_name = answer.get(\"AnswersName\")\n",
    "            data.append([\n",
    "                qid, question, entity, entity_mid, \n",
    "                answer_mid, answer_name, chain,\n",
    "                ])\n",
    "items = pd.DataFrame(columns=[\"qid\", \"question\", \"entity\", \"entity_mid\", \"answer_mid\", \"answer\", \"chain\"], data=data)\n",
    "# reformats the mid's to match with kb\n",
    "items[\"entity_mid\"] = items.apply(lambda m: f\".{m['entity_mid']}\".replace(\".\", \"/\"), axis=1)\n",
    "items[\"answer_mid\"] = items.apply(lambda m: f\".{m['answer_mid']}\".replace(\".\", \"/\"), axis=1)\n",
    "items.head()"
   ]
  },
  {
   "cell_type": "code",
   "execution_count": 175,
   "metadata": {},
   "outputs": [],
   "source": [
    "####### create a graph\n",
    "from utils.graph import KGraphPreproc\n",
    "fbkb_graph = KGraphPreproc.get_fbkb_graph()"
   ]
  },
  {
   "cell_type": "code",
   "execution_count": 71,
   "metadata": {},
   "outputs": [],
   "source": [
    "shortest_paths = dict(nx.all_pairs_shortest_path_length(fbkb_graph._graph))"
   ]
  },
  {
   "cell_type": "code",
   "execution_count": 8,
   "metadata": {},
   "outputs": [],
   "source": [
    "# import json\n",
    "# # serialize dict for caching\n",
    "# with open(\"/datasets/FreebaseQA/cache/graph_paths.json\", \"w\") as cache_file:\n",
    "#     json.dump(shortest_paths, cache_file)\n"
   ]
  },
  {
   "cell_type": "code",
   "execution_count": 9,
   "metadata": {},
   "outputs": [],
   "source": [
    "# with open(\"/datasets/FreebaseQA/cache/graph_paths.json\", \"r\") as cache_file:\n",
    "#     json.load(cache_file)"
   ]
  },
  {
   "cell_type": "code",
   "execution_count": 10,
   "metadata": {},
   "outputs": [
    {
     "data": {
      "text/plain": [
       "['/m/027rn', '/m/06cx9', '/m/017dcd', '/m/06v8s0', '/m/07s9rl0']"
      ]
     },
     "execution_count": 10,
     "metadata": {},
     "output_type": "execute_result"
    }
   ],
   "source": [
    "list(shortest_paths.keys())[:5]"
   ]
  },
  {
   "cell_type": "code",
   "execution_count": 72,
   "metadata": {},
   "outputs": [],
   "source": [
    "def get_n_hops(q_row):\n",
    "    start = q_row[\"entity_mid\"]\n",
    "    end = q_row[\"answer_mid\"]\n",
    "    return shortest_paths.get(start, {}).get(end, -1)"
   ]
  },
  {
   "cell_type": "code",
   "execution_count": 73,
   "metadata": {},
   "outputs": [
    {
     "name": "stdout",
     "output_type": "stream",
     "text": [
      "hops\n",
      "-1    6027\n",
      " 1    1160\n",
      " 2      75\n",
      " 3      38\n",
      " 4       1\n",
      "dtype: int64\n"
     ]
    },
    {
     "data": {
      "text/html": [
       "<div>\n",
       "<style scoped>\n",
       "    .dataframe tbody tr th:only-of-type {\n",
       "        vertical-align: middle;\n",
       "    }\n",
       "\n",
       "    .dataframe tbody tr th {\n",
       "        vertical-align: top;\n",
       "    }\n",
       "\n",
       "    .dataframe thead th {\n",
       "        text-align: right;\n",
       "    }\n",
       "</style>\n",
       "<table border=\"1\" class=\"dataframe\">\n",
       "  <thead>\n",
       "    <tr style=\"text-align: right;\">\n",
       "      <th></th>\n",
       "      <th>qid</th>\n",
       "      <th>question</th>\n",
       "      <th>entity</th>\n",
       "      <th>entity_mid</th>\n",
       "      <th>answer_mid</th>\n",
       "      <th>answer</th>\n",
       "      <th>chain</th>\n",
       "      <th>hops</th>\n",
       "    </tr>\n",
       "  </thead>\n",
       "  <tbody>\n",
       "    <tr>\n",
       "      <th>0</th>\n",
       "      <td>FreebaseQA-eval-0</td>\n",
       "      <td>Who is the female presenter of the Channel 4 q...</td>\n",
       "      <td>1001 things you should know</td>\n",
       "      <td>/m/0nd3t34</td>\n",
       "      <td>/m/0216y_</td>\n",
       "      <td>[sandi toksvig]</td>\n",
       "      <td>tv.tv_program.regular_personal_appearances..tv...</td>\n",
       "      <td>-1</td>\n",
       "    </tr>\n",
       "    <tr>\n",
       "      <th>1</th>\n",
       "      <td>FreebaseQA-eval-1</td>\n",
       "      <td>Who produced the film 12 Angry Men, which was ...</td>\n",
       "      <td>12 angry men</td>\n",
       "      <td>/m/0m_tj</td>\n",
       "      <td>/m/0cj8x</td>\n",
       "      <td>[henry fonda]</td>\n",
       "      <td>film.film.produced_by</td>\n",
       "      <td>-1</td>\n",
       "    </tr>\n",
       "    <tr>\n",
       "      <th>2</th>\n",
       "      <td>FreebaseQA-eval-2</td>\n",
       "      <td>Who directed the films; The Fisher King (1991)...</td>\n",
       "      <td>12 monkeys</td>\n",
       "      <td>/m/07j6w</td>\n",
       "      <td>/m/07h5d</td>\n",
       "      <td>[terry gilliam]</td>\n",
       "      <td>film.film.directed_by</td>\n",
       "      <td>-1</td>\n",
       "    </tr>\n",
       "    <tr>\n",
       "      <th>3</th>\n",
       "      <td>FreebaseQA-eval-2</td>\n",
       "      <td>Who directed the films; The Fisher King (1991)...</td>\n",
       "      <td>the brothers grimm</td>\n",
       "      <td>/m/04z257</td>\n",
       "      <td>/m/07h5d</td>\n",
       "      <td>[terry gilliam]</td>\n",
       "      <td>film.film.directed_by</td>\n",
       "      <td>1</td>\n",
       "    </tr>\n",
       "    <tr>\n",
       "      <th>4</th>\n",
       "      <td>FreebaseQA-eval-2</td>\n",
       "      <td>Who directed the films; The Fisher King (1991)...</td>\n",
       "      <td>fisher king</td>\n",
       "      <td>/m/016z43</td>\n",
       "      <td>/m/07h5d</td>\n",
       "      <td>[terry gilliam]</td>\n",
       "      <td>film.film.directed_by</td>\n",
       "      <td>1</td>\n",
       "    </tr>\n",
       "  </tbody>\n",
       "</table>\n",
       "</div>"
      ],
      "text/plain": [
       "                 qid                                           question  \\\n",
       "0  FreebaseQA-eval-0  Who is the female presenter of the Channel 4 q...   \n",
       "1  FreebaseQA-eval-1  Who produced the film 12 Angry Men, which was ...   \n",
       "2  FreebaseQA-eval-2  Who directed the films; The Fisher King (1991)...   \n",
       "3  FreebaseQA-eval-2  Who directed the films; The Fisher King (1991)...   \n",
       "4  FreebaseQA-eval-2  Who directed the films; The Fisher King (1991)...   \n",
       "\n",
       "                        entity  entity_mid answer_mid           answer  \\\n",
       "0  1001 things you should know  /m/0nd3t34  /m/0216y_  [sandi toksvig]   \n",
       "1                 12 angry men    /m/0m_tj   /m/0cj8x    [henry fonda]   \n",
       "2                   12 monkeys    /m/07j6w   /m/07h5d  [terry gilliam]   \n",
       "3           the brothers grimm   /m/04z257   /m/07h5d  [terry gilliam]   \n",
       "4                  fisher king   /m/016z43   /m/07h5d  [terry gilliam]   \n",
       "\n",
       "                                               chain  hops  \n",
       "0  tv.tv_program.regular_personal_appearances..tv...    -1  \n",
       "1                              film.film.produced_by    -1  \n",
       "2                              film.film.directed_by    -1  \n",
       "3                              film.film.directed_by     1  \n",
       "4                              film.film.directed_by     1  "
      ]
     },
     "execution_count": 73,
     "metadata": {},
     "output_type": "execute_result"
    }
   ],
   "source": [
    "items[\"hops\"] = items.apply(get_n_hops, axis=1)\n",
    "print(items.groupby(by=\"hops\").size())\n",
    "items.head()"
   ]
  },
  {
   "cell_type": "markdown",
   "metadata": {},
   "source": [
    "### FBQA hop numbers\n",
    "after comparing the number of hops with the KB, the number of hops is actually different. Makes sense, as the number of edges in the inferential chain is not the same as neighbor distance in the graph.\n"
   ]
  },
  {
   "cell_type": "markdown",
   "metadata": {},
   "source": [
    "### Next steps:\n",
    "1. Recompute the baseline and KB1 results, filter by question and recompute statistics.\n",
    "2. Similarity-based graph traversal (top 5 branches at a time)"
   ]
  },
  {
   "cell_type": "code",
   "execution_count": 176,
   "metadata": {},
   "outputs": [
    {
     "data": {
      "text/html": [
       "<div>\n",
       "<style scoped>\n",
       "    .dataframe tbody tr th:only-of-type {\n",
       "        vertical-align: middle;\n",
       "    }\n",
       "\n",
       "    .dataframe tbody tr th {\n",
       "        vertical-align: top;\n",
       "    }\n",
       "\n",
       "    .dataframe thead th {\n",
       "        text-align: right;\n",
       "    }\n",
       "</style>\n",
       "<table border=\"1\" class=\"dataframe\">\n",
       "  <thead>\n",
       "    <tr style=\"text-align: right;\">\n",
       "      <th></th>\n",
       "      <th>Actual</th>\n",
       "      <th>bline</th>\n",
       "      <th>bline2</th>\n",
       "      <th>kb1</th>\n",
       "      <th>quid</th>\n",
       "      <th>qid</th>\n",
       "    </tr>\n",
       "  </thead>\n",
       "  <tbody>\n",
       "    <tr>\n",
       "      <th>0</th>\n",
       "      <td>sandi toksvig</td>\n",
       "      <td>Anita Rani</td>\n",
       "      <td>Anna Richardson</td>\n",
       "      <td>Anna Richardson</td>\n",
       "      <td>FreebaseQA-eval-0</td>\n",
       "      <td>FreebaseQA-eval-0</td>\n",
       "    </tr>\n",
       "    <tr>\n",
       "      <th>1</th>\n",
       "      <td>henry fonda</td>\n",
       "      <td>Mervyn LeRoy produced the film 12 Angry Men.</td>\n",
       "      <td>Mervyn LeRoy produced the film 12 Angry Men.</td>\n",
       "      <td>Sidney Lumet</td>\n",
       "      <td>FreebaseQA-eval-1</td>\n",
       "      <td>FreebaseQA-eval-1</td>\n",
       "    </tr>\n",
       "  </tbody>\n",
       "</table>\n",
       "</div>"
      ],
      "text/plain": [
       "          Actual                                         bline  \\\n",
       "0  sandi toksvig                                    Anita Rani   \n",
       "1    henry fonda  Mervyn LeRoy produced the film 12 Angry Men.   \n",
       "\n",
       "                                         bline2              kb1  \\\n",
       "0                               Anna Richardson  Anna Richardson   \n",
       "1  Mervyn LeRoy produced the film 12 Angry Men.     Sidney Lumet   \n",
       "\n",
       "                quid                qid  \n",
       "0  FreebaseQA-eval-0  FreebaseQA-eval-0  \n",
       "1  FreebaseQA-eval-1  FreebaseQA-eval-1  "
      ]
     },
     "execution_count": 176,
     "metadata": {},
     "output_type": "execute_result"
    }
   ],
   "source": [
    "from utils.evaluation import FBQA_Dataset\n",
    "fbqa_eval = FBQA_Dataset()\n",
    "results = fbqa_eval.results\n",
    "results[\"qid\"] = fbqa_eval.test_set.Questions.apply(lambda t: t.get(\"Question-ID\"))\n",
    "results[:2]\n"
   ]
  },
  {
   "cell_type": "code",
   "execution_count": 177,
   "metadata": {},
   "outputs": [
    {
     "data": {
      "text/html": [
       "<div>\n",
       "<style scoped>\n",
       "    .dataframe tbody tr th:only-of-type {\n",
       "        vertical-align: middle;\n",
       "    }\n",
       "\n",
       "    .dataframe tbody tr th {\n",
       "        vertical-align: top;\n",
       "    }\n",
       "\n",
       "    .dataframe thead th {\n",
       "        text-align: right;\n",
       "    }\n",
       "</style>\n",
       "<table border=\"1\" class=\"dataframe\">\n",
       "  <thead>\n",
       "    <tr style=\"text-align: right;\">\n",
       "      <th></th>\n",
       "      <th>qid</th>\n",
       "      <th>hops</th>\n",
       "      <th>Actual</th>\n",
       "      <th>bline</th>\n",
       "      <th>bline2</th>\n",
       "      <th>kb1</th>\n",
       "      <th>quid</th>\n",
       "    </tr>\n",
       "  </thead>\n",
       "  <tbody>\n",
       "    <tr>\n",
       "      <th>0</th>\n",
       "      <td>FreebaseQA-eval-0</td>\n",
       "      <td>-1</td>\n",
       "      <td>sandi toksvig</td>\n",
       "      <td>Anita Rani</td>\n",
       "      <td>Anna Richardson</td>\n",
       "      <td>Anna Richardson</td>\n",
       "      <td>FreebaseQA-eval-0</td>\n",
       "    </tr>\n",
       "    <tr>\n",
       "      <th>1</th>\n",
       "      <td>FreebaseQA-eval-1</td>\n",
       "      <td>-1</td>\n",
       "      <td>henry fonda</td>\n",
       "      <td>Mervyn LeRoy produced the film 12 Angry Men.</td>\n",
       "      <td>Mervyn LeRoy produced the film 12 Angry Men.</td>\n",
       "      <td>Sidney Lumet</td>\n",
       "      <td>FreebaseQA-eval-1</td>\n",
       "    </tr>\n",
       "  </tbody>\n",
       "</table>\n",
       "</div>"
      ],
      "text/plain": [
       "                 qid  hops         Actual  \\\n",
       "0  FreebaseQA-eval-0    -1  sandi toksvig   \n",
       "1  FreebaseQA-eval-1    -1    henry fonda   \n",
       "\n",
       "                                          bline  \\\n",
       "0                                    Anita Rani   \n",
       "1  Mervyn LeRoy produced the film 12 Angry Men.   \n",
       "\n",
       "                                         bline2              kb1  \\\n",
       "0                               Anna Richardson  Anna Richardson   \n",
       "1  Mervyn LeRoy produced the film 12 Angry Men.     Sidney Lumet   \n",
       "\n",
       "                quid  \n",
       "0  FreebaseQA-eval-0  \n",
       "1  FreebaseQA-eval-1  "
      ]
     },
     "execution_count": 177,
     "metadata": {},
     "output_type": "execute_result"
    }
   ],
   "source": [
    "results_df = items[[\"qid\", \"hops\"]].merge(results, on=\"qid\", how=\"left\")\n",
    "results_df[:2]"
   ]
  },
  {
   "cell_type": "code",
   "execution_count": 178,
   "metadata": {},
   "outputs": [
    {
     "data": {
      "text/html": [
       "<div>\n",
       "<style scoped>\n",
       "    .dataframe tbody tr th:only-of-type {\n",
       "        vertical-align: middle;\n",
       "    }\n",
       "\n",
       "    .dataframe tbody tr th {\n",
       "        vertical-align: top;\n",
       "    }\n",
       "\n",
       "    .dataframe thead th {\n",
       "        text-align: right;\n",
       "    }\n",
       "</style>\n",
       "<table border=\"1\" class=\"dataframe\">\n",
       "  <thead>\n",
       "    <tr style=\"text-align: right;\">\n",
       "      <th></th>\n",
       "      <th>qid</th>\n",
       "      <th>hops</th>\n",
       "      <th>Actual</th>\n",
       "      <th>bline</th>\n",
       "      <th>bline2</th>\n",
       "      <th>kb1</th>\n",
       "      <th>quid</th>\n",
       "      <th>bline_correct</th>\n",
       "      <th>bline2_correct</th>\n",
       "      <th>kb1_correct</th>\n",
       "    </tr>\n",
       "  </thead>\n",
       "  <tbody>\n",
       "    <tr>\n",
       "      <th>0</th>\n",
       "      <td>FreebaseQA-eval-0</td>\n",
       "      <td>-1</td>\n",
       "      <td>sandi toksvig</td>\n",
       "      <td>Anita Rani</td>\n",
       "      <td>Anna Richardson</td>\n",
       "      <td>Anna Richardson</td>\n",
       "      <td>FreebaseQA-eval-0</td>\n",
       "      <td>False</td>\n",
       "      <td>False</td>\n",
       "      <td>False</td>\n",
       "    </tr>\n",
       "    <tr>\n",
       "      <th>1</th>\n",
       "      <td>FreebaseQA-eval-1</td>\n",
       "      <td>-1</td>\n",
       "      <td>henry fonda</td>\n",
       "      <td>Mervyn LeRoy produced the film 12 Angry Men.</td>\n",
       "      <td>Mervyn LeRoy produced the film 12 Angry Men.</td>\n",
       "      <td>Sidney Lumet</td>\n",
       "      <td>FreebaseQA-eval-1</td>\n",
       "      <td>False</td>\n",
       "      <td>False</td>\n",
       "      <td>False</td>\n",
       "    </tr>\n",
       "  </tbody>\n",
       "</table>\n",
       "</div>"
      ],
      "text/plain": [
       "                 qid  hops         Actual  \\\n",
       "0  FreebaseQA-eval-0    -1  sandi toksvig   \n",
       "1  FreebaseQA-eval-1    -1    henry fonda   \n",
       "\n",
       "                                          bline  \\\n",
       "0                                    Anita Rani   \n",
       "1  Mervyn LeRoy produced the film 12 Angry Men.   \n",
       "\n",
       "                                         bline2              kb1  \\\n",
       "0                               Anna Richardson  Anna Richardson   \n",
       "1  Mervyn LeRoy produced the film 12 Angry Men.     Sidney Lumet   \n",
       "\n",
       "                quid  bline_correct  bline2_correct  kb1_correct  \n",
       "0  FreebaseQA-eval-0          False           False        False  \n",
       "1  FreebaseQA-eval-1          False           False        False  "
      ]
     },
     "execution_count": 178,
     "metadata": {},
     "output_type": "execute_result"
    }
   ],
   "source": [
    "bmarks = [\"bline\", \"bline2\", \"kb1\"]\n",
    "for bmark in bmarks:\n",
    "    results_df[f\"{bmark}_correct\"] = results_df.apply(\n",
    "        lambda t: fbqa_eval.check_correct(t[bmark], t[\"Actual\"]), \n",
    "        axis=1\n",
    "    )\n",
    "results_df[:2]"
   ]
  },
  {
   "cell_type": "code",
   "execution_count": 78,
   "metadata": {},
   "outputs": [
    {
     "data": {
      "text/html": [
       "<div>\n",
       "<style scoped>\n",
       "    .dataframe tbody tr th:only-of-type {\n",
       "        vertical-align: middle;\n",
       "    }\n",
       "\n",
       "    .dataframe tbody tr th {\n",
       "        vertical-align: top;\n",
       "    }\n",
       "\n",
       "    .dataframe thead tr th {\n",
       "        text-align: left;\n",
       "    }\n",
       "\n",
       "    .dataframe thead tr:last-of-type th {\n",
       "        text-align: right;\n",
       "    }\n",
       "</style>\n",
       "<table border=\"1\" class=\"dataframe\">\n",
       "  <thead>\n",
       "    <tr>\n",
       "      <th></th>\n",
       "      <th colspan=\"2\" halign=\"left\">bline_correct</th>\n",
       "      <th colspan=\"2\" halign=\"left\">bline2_correct</th>\n",
       "      <th colspan=\"2\" halign=\"left\">kb1_correct</th>\n",
       "    </tr>\n",
       "    <tr>\n",
       "      <th></th>\n",
       "      <th>size</th>\n",
       "      <th>sum</th>\n",
       "      <th>size</th>\n",
       "      <th>sum</th>\n",
       "      <th>size</th>\n",
       "      <th>sum</th>\n",
       "    </tr>\n",
       "    <tr>\n",
       "      <th>hops</th>\n",
       "      <th></th>\n",
       "      <th></th>\n",
       "      <th></th>\n",
       "      <th></th>\n",
       "      <th></th>\n",
       "      <th></th>\n",
       "    </tr>\n",
       "  </thead>\n",
       "  <tbody>\n",
       "    <tr>\n",
       "      <th>-1</th>\n",
       "      <td>6027</td>\n",
       "      <td>4874</td>\n",
       "      <td>6027</td>\n",
       "      <td>4916</td>\n",
       "      <td>6027</td>\n",
       "      <td>4370</td>\n",
       "    </tr>\n",
       "    <tr>\n",
       "      <th>1</th>\n",
       "      <td>1160</td>\n",
       "      <td>1036</td>\n",
       "      <td>1160</td>\n",
       "      <td>1032</td>\n",
       "      <td>1160</td>\n",
       "      <td>971</td>\n",
       "    </tr>\n",
       "    <tr>\n",
       "      <th>2</th>\n",
       "      <td>75</td>\n",
       "      <td>67</td>\n",
       "      <td>75</td>\n",
       "      <td>67</td>\n",
       "      <td>75</td>\n",
       "      <td>57</td>\n",
       "    </tr>\n",
       "    <tr>\n",
       "      <th>3</th>\n",
       "      <td>38</td>\n",
       "      <td>30</td>\n",
       "      <td>38</td>\n",
       "      <td>29</td>\n",
       "      <td>38</td>\n",
       "      <td>26</td>\n",
       "    </tr>\n",
       "    <tr>\n",
       "      <th>4</th>\n",
       "      <td>1</td>\n",
       "      <td>1</td>\n",
       "      <td>1</td>\n",
       "      <td>1</td>\n",
       "      <td>1</td>\n",
       "      <td>1</td>\n",
       "    </tr>\n",
       "  </tbody>\n",
       "</table>\n",
       "</div>"
      ],
      "text/plain": [
       "     bline_correct       bline2_correct       kb1_correct      \n",
       "              size   sum           size   sum        size   sum\n",
       "hops                                                           \n",
       "-1            6027  4874           6027  4916        6027  4370\n",
       " 1            1160  1036           1160  1032        1160   971\n",
       " 2              75    67             75    67          75    57\n",
       " 3              38    30             38    29          38    26\n",
       " 4               1     1              1     1           1     1"
      ]
     },
     "execution_count": 78,
     "metadata": {},
     "output_type": "execute_result"
    }
   ],
   "source": [
    "results_df.groupby(by=\"hops\")[[f\"{bmark}_correct\" for bmark in bmarks]].agg([\"size\", \"sum\"])"
   ]
  },
  {
   "cell_type": "code",
   "execution_count": 257,
   "metadata": {},
   "outputs": [
    {
     "data": {
      "text/plain": [
       "qid                                             FreebaseQA-eval-178\n",
       "hops                                                              3\n",
       "Actual                                              john f. kennedy\n",
       "bline                                               John F. Kennedy\n",
       "bline2                                              John F. Kennedy\n",
       "kb1               John F. Kennedy was the first Roman Catholic t...\n",
       "quid                                            FreebaseQA-eval-178\n",
       "bline_correct                                                  True\n",
       "bline2_correct                                                 True\n",
       "kb1_correct                                                    True\n",
       "Name: 340, dtype: object"
      ]
     },
     "execution_count": 257,
     "metadata": {},
     "output_type": "execute_result"
    }
   ],
   "source": [
    "results_df[results_df.hops == 3].iloc[0]"
   ]
  },
  {
   "cell_type": "code",
   "execution_count": 179,
   "metadata": {},
   "outputs": [
    {
     "data": {
      "text/html": [
       "<div>\n",
       "<style scoped>\n",
       "    .dataframe tbody tr th:only-of-type {\n",
       "        vertical-align: middle;\n",
       "    }\n",
       "\n",
       "    .dataframe tbody tr th {\n",
       "        vertical-align: top;\n",
       "    }\n",
       "\n",
       "    .dataframe thead th {\n",
       "        text-align: right;\n",
       "    }\n",
       "</style>\n",
       "<table border=\"1\" class=\"dataframe\">\n",
       "  <thead>\n",
       "    <tr style=\"text-align: right;\">\n",
       "      <th></th>\n",
       "      <th>qid</th>\n",
       "      <th>hops</th>\n",
       "      <th>Actual</th>\n",
       "      <th>bline</th>\n",
       "      <th>bline2</th>\n",
       "      <th>kb1</th>\n",
       "      <th>quid</th>\n",
       "      <th>bline_correct</th>\n",
       "      <th>bline2_correct</th>\n",
       "      <th>kb1_correct</th>\n",
       "    </tr>\n",
       "  </thead>\n",
       "  <tbody>\n",
       "    <tr>\n",
       "      <th>30</th>\n",
       "      <td>FreebaseQA-eval-14</td>\n",
       "      <td>1</td>\n",
       "      <td>poland</td>\n",
       "      <td>Mexico (Men's Football)</td>\n",
       "      <td>Mexico (men's team)</td>\n",
       "      <td>The context does not provide information about...</td>\n",
       "      <td>FreebaseQA-eval-14</td>\n",
       "      <td>False</td>\n",
       "      <td>False</td>\n",
       "      <td>False</td>\n",
       "    </tr>\n",
       "    <tr>\n",
       "      <th>31</th>\n",
       "      <td>FreebaseQA-eval-14</td>\n",
       "      <td>1</td>\n",
       "      <td>poland</td>\n",
       "      <td>Mexico (Men's Football)</td>\n",
       "      <td>Mexico (men's team)</td>\n",
       "      <td>The context does not provide information about...</td>\n",
       "      <td>FreebaseQA-eval-14</td>\n",
       "      <td>False</td>\n",
       "      <td>False</td>\n",
       "      <td>False</td>\n",
       "    </tr>\n",
       "  </tbody>\n",
       "</table>\n",
       "</div>"
      ],
      "text/plain": [
       "                   qid  hops  Actual                    bline  \\\n",
       "30  FreebaseQA-eval-14     1  poland  Mexico (Men's Football)   \n",
       "31  FreebaseQA-eval-14     1  poland  Mexico (Men's Football)   \n",
       "\n",
       "                 bline2                                                kb1  \\\n",
       "30  Mexico (men's team)  The context does not provide information about...   \n",
       "31  Mexico (men's team)  The context does not provide information about...   \n",
       "\n",
       "                  quid  bline_correct  bline2_correct  kb1_correct  \n",
       "30  FreebaseQA-eval-14          False           False        False  \n",
       "31  FreebaseQA-eval-14          False           False        False  "
      ]
     },
     "execution_count": 179,
     "metadata": {},
     "output_type": "execute_result"
    }
   ],
   "source": [
    "results_df[(results_df.hops == 1) & (~results_df[\"kb1_correct\"])][:2]"
   ]
  },
  {
   "cell_type": "code",
   "execution_count": 258,
   "metadata": {},
   "outputs": [
    {
     "name": "stdout",
     "output_type": "stream",
     "text": [
      "Who was the first Roman Catholic to become American President?\n"
     ]
    },
    {
     "data": {
      "text/plain": [
       "[{'Parse-Id': 'FreebaseQA-eval-178.P0',\n",
       "  'PotentialTopicEntityMention': 'american president',\n",
       "  'TopicEntityName': 'president of the united states',\n",
       "  'TopicEntityMid': 'm.060d2',\n",
       "  'InferentialChain': 'base.firsts.achievement.firsts..base.firsts.first_achievement.first',\n",
       "  'Answers': [{'AnswersMid': 'm.0d3k14', 'AnswersName': ['john f. kennedy']}]}]"
      ]
     },
     "execution_count": 258,
     "metadata": {},
     "output_type": "execute_result"
    }
   ],
   "source": [
    "# \n",
    "qid = \"FreebaseQA-eval-178\"\n",
    "q = fbqa[fbqa[\"Question-ID\"] == qid].iloc[0].RawQuestion\n",
    "print(q)\n",
    "fbqa[fbqa[\"Question-ID\"] == qid].Parses.iloc[0]"
   ]
  },
  {
   "cell_type": "code",
   "execution_count": 149,
   "metadata": {},
   "outputs": [
    {
     "data": {
      "text/plain": [
       "['Reds /film/film/genre Drama',\n",
       " 'Reds /award/award_winning_work/awards_won./award/award_honor/award BAFTA_Award_for_Best_Actor_in_a_Supporting_Role',\n",
       " 'Reds /award/award_winning_work/awards_won./award/award_honor/award_winner Jack_Nicholson',\n",
       " 'Reds /award/award_category/nominees./award/award_nomination/nominated_for Academy_Award_for_Best_Production_Design',\n",
       " 'Reds /award/award_category/nominees./award/award_nomination/nominated_for Academy_Award_for_Best_Sound_Mixing',\n",
       " 'Reds /award/award_category/nominees./award/award_nomination/nominated_for Academy_Award_for_Best_Actor',\n",
       " 'Reds /award/award_winning_work/awards_won./award/award_honor/award_winner Diane_Keaton',\n",
       " 'Reds /award/award_category/nominees./award/award_nomination/nominated_for Golden_Globe_Award_for_Best_Screenplay_-_Motion_Picture',\n",
       " 'Reds /award/award_category/nominees./award/award_nomination/nominated_for BAFTA_Award_for_Best_Actress_in_a_Leading_Role',\n",
       " 'Reds /film/film/production_companies Paramount_Pictures',\n",
       " 'Reds /award/award_category/nominees./award/award_nomination/nominated_for National_Society_of_Film_Critics_Award_for_Best_Supporting_Actor',\n",
       " 'Reds /award/award_category/nominees./award/award_nomination/nominated_for Golden_Globe_Award_for_Best_Director_-_Motion_Picture',\n",
       " 'Reds /film/actor/film./film/performance/film Gene_Hackman',\n",
       " 'Reds /award/award_winning_work/awards_won./award/award_honor/award Academy_Award_for_Best_Cinematography',\n",
       " 'Reds /award/award_category/nominees./award/award_nomination/nominated_for Academy_Award_for_Best_Actress',\n",
       " 'Reds /award/award_winning_work/awards_won./award/award_honor/award National_Society_of_Film_Critics_Award_for_Best_Supporting_Actress',\n",
       " 'Reds /award/award_category/nominees./award/award_nomination/nominated_for Academy_Award_for_Best_Picture',\n",
       " 'Reds /film/film/genre Biography',\n",
       " 'Reds /film/actor/film./film/performance/film Edward_Herrmann',\n",
       " 'Reds /award/award_category/nominees./award/award_nomination/nominated_for Academy_Award_for_Best_Film_Editing',\n",
       " 'Reds /award/award_category/nominees./award/award_nomination/nominated_for National_Society_of_Film_Critics_Award_for_Best_Actress',\n",
       " 'Reds /award/award_ceremony/awards_presented./award/award_honor/honored_for 54th_Academy_Awards',\n",
       " 'Reds /award/award_category/nominees./award/award_nomination/nominated_for Academy_Award_for_Best_Original_Screenplay',\n",
       " 'Reds /award/award_winning_work/awards_won./award/award_honor/award Academy_Award_for_Best_Actress_in_a_Supporting_Role',\n",
       " 'Reds /award/award_category/nominees./award/award_nomination/nominated_for Academy_Award_for_Best_Costume_Design',\n",
       " 'Reds /award/award_category/nominees./award/award_nomination/nominated_for BAFTA_Award_for_Best_Actor_in_a_Leading_Role',\n",
       " 'Reds /film/actor/film./film/performance/film Paul_Sorvino',\n",
       " 'Reds /award/award_winning_work/awards_won./award/award_honor/award BAFTA_Award_for_Best_Actress_in_a_Supporting_Role',\n",
       " 'Reds /award/award_nominee/award_nominations./award/award_nomination/nominated_for Vittorio_Storaro',\n",
       " 'Reds /film/film/language France',\n",
       " 'Reds /media_common/netflix_genre/titles Political_drama',\n",
       " 'Reds /film/director/film Warren_Beatty',\n",
       " 'Reds /award/award_winning_work/awards_won./award/award_honor/award National_Board_of_Review_Award_for_Best_Director',\n",
       " 'Reds /film/film/language Russian_Language',\n",
       " 'Reds /award/award_winning_work/awards_won./award/award_honor/award New_York_Film_Critics_Circle_Award_for_Best_Film',\n",
       " 'Reds /film/film/genre Biographical_film',\n",
       " 'Reds /film/film/release_date_s./film/film_regional_release_date/film_release_region United_States_of_America',\n",
       " 'Reds /film/film/language German_Language',\n",
       " 'Reds /award/award_nominee/award_nominations./award/award_nomination/nominated_for Maureen_Stapleton',\n",
       " 'Reds /film/film/genre Period_piece',\n",
       " 'Reds /film/film/language English_Language',\n",
       " 'Reds /film/film/costume_design_by Shirley_Ann_Russell',\n",
       " 'Reds /film/film/release_date_s./film/film_regional_release_date/film_release_distribution_medium DVD',\n",
       " 'Reds /film/film/music Stephen_Sondheim',\n",
       " 'Reds /award/award_winning_work/awards_won./award/award_honor/award Academy_Award_for_Best_Director',\n",
       " 'Reds /award/award_winning_work/awards_won./award/award_honor/award Los_Angeles_Film_Critics_Association_Award_for_Best_Director',\n",
       " 'Reds /film/film/genre Romance_Film',\n",
       " 'Reds /film/film/language Finnish_Language',\n",
       " 'Reds /film/film/genre War_film',\n",
       " 'Reds /film/film/music Dave_Grusin',\n",
       " 'Reds /film/film/estimated_budget./measurement_unit/dated_money_value/currency United_States_Dollar',\n",
       " 'Reds /award/award_category/nominees./award/award_nomination/nominated_for Academy_Award_for_Best_Actor_in_a_Supporting_Role',\n",
       " 'Reds /award/award_nominee/award_nominations./award/award_nomination/nominated_for Richard_Sylbert',\n",
       " 'Reds /award/award_nominee/award_nominations./award/award_nomination/nominated_for Tom_Fleischman',\n",
       " 'Reds /film/actor/film./film/performance/film M._Emmet_Walsh']"
      ]
     },
     "execution_count": 149,
     "metadata": {},
     "output_type": "execute_result"
    }
   ],
   "source": [
    "triplets = fbkb_graph._get_entity_knowledge(\"/m/0c9k8\", depth=1)\n",
    "triplets"
   ]
  },
  {
   "cell_type": "markdown",
   "metadata": {},
   "source": [
    "### Reranking based on semantic similarity (embeddings)\n"
   ]
  },
  {
   "cell_type": "code",
   "execution_count": 147,
   "metadata": {},
   "outputs": [],
   "source": [
    "from sentence_transformers import SentenceTransformer\n",
    "model = SentenceTransformer(\"all-MiniLM-L6-v2\")"
   ]
  },
  {
   "cell_type": "code",
   "execution_count": 150,
   "metadata": {},
   "outputs": [
    {
     "data": {
      "text/plain": [
       "tensor([[0.3808, 0.1630, 0.1757, 0.1302, 0.1316, 0.1847, 0.1878, 0.1998, 0.1991,\n",
       "         0.3598, 0.2083, 0.1740, 0.3529, 0.1899, 0.1839, 0.1854, 0.1502, 0.4192,\n",
       "         0.3502, 0.2250, 0.2300, 0.1209, 0.2494, 0.1478, 0.1141, 0.1955, 0.4301,\n",
       "         0.1669, 0.1638, 0.2914, 0.2163, 0.6508, 0.1053, 0.3684, 0.1896, 0.4720,\n",
       "         0.3249, 0.2582, 0.1575, 0.3615, 0.3228, 0.4357, 0.2880, 0.3194, 0.1381,\n",
       "         0.1993, 0.4239, 0.2730, 0.3933, 0.3424, 0.2021, 0.1678, 0.1233, 0.1558,\n",
       "         0.3547]])"
      ]
     },
     "execution_count": 150,
     "metadata": {},
     "output_type": "execute_result"
    }
   ],
   "source": [
    "triplet_embeddings = model.encode(triplets)\n",
    "q_embedding = model.encode(q)\n",
    "qt_sim = model.similarity(q_embedding, triplet_embeddings)\n",
    "# list(zip(qt_sim[0], triplets))\n",
    "qt_sim"
   ]
  }
 ],
 "metadata": {
  "kernelspec": {
   "display_name": "Python 3 (ipykernel)",
   "language": "python",
   "name": "python3"
  }
 },
 "nbformat": 4,
 "nbformat_minor": 2
}
