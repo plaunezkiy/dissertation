{
 "cells": [
  {
   "cell_type": "code",
   "execution_count": 180,
   "metadata": {},
   "outputs": [
    {
     "name": "stdout",
     "output_type": "stream",
     "text": [
      "The autoreload extension is already loaded. To reload it, use:\n",
      "  %reload_ext autoreload\n"
     ]
    }
   ],
   "source": [
    "%load_ext autoreload\n",
    "%autoreload 2"
   ]
  },
  {
   "cell_type": "code",
   "execution_count": 186,
   "metadata": {},
   "outputs": [],
   "source": [
    "import pandas as pd\n",
    "import torch\n",
    "import gc\n",
    "import Stemmer\n",
    "import re\n",
    "from tqdm import tqdm\n",
    "import csv\n",
    "import gc\n",
    "import networkx as nx\n",
    "from utils.preprocessing import preprocess_text\n",
    "from utils.graph import KGraphPreproc"
   ]
  },
  {
   "cell_type": "code",
   "execution_count": 187,
   "metadata": {},
   "outputs": [],
   "source": [
    "fbkb_graph = KGraphPreproc.get_fbkb_graph()"
   ]
  },
  {
   "cell_type": "code",
   "execution_count": 188,
   "metadata": {},
   "outputs": [
    {
     "data": {
      "text/plain": [
       "['Reds /film/film/genre Drama',\n",
       " 'Reds /award/award_winning_work/awards_won./award/award_honor/award BAFTA_Award_for_Best_Actor_in_a_Supporting_Role',\n",
       " 'Reds /award/award_winning_work/awards_won./award/award_honor/award_winner Jack_Nicholson',\n",
       " 'Reds /award/award_category/nominees./award/award_nomination/nominated_for Academy_Award_for_Best_Production_Design',\n",
       " 'Reds /award/award_category/nominees./award/award_nomination/nominated_for Academy_Award_for_Best_Sound_Mixing']"
      ]
     },
     "execution_count": 188,
     "metadata": {},
     "output_type": "execute_result"
    }
   ],
   "source": [
    "triplets = fbkb_graph._get_entity_knowledge(\"/m/0c9k8\", depth=1)\n",
    "triplets[:5]"
   ]
  },
  {
   "cell_type": "code",
   "execution_count": 189,
   "metadata": {},
   "outputs": [],
   "source": [
    "from sentence_transformers import SentenceTransformer\n",
    "model = SentenceTransformer(\"all-MiniLM-L6-v2\")"
   ]
  },
  {
   "cell_type": "code",
   "execution_count": null,
   "metadata": {},
   "outputs": [],
   "source": [
    "def similarity_bfs(graph, query):\n",
    "    return"
   ]
  }
 ],
 "metadata": {
  "kernelspec": {
   "display_name": "Python 3 (ipykernel)",
   "language": "python",
   "name": "python3"
  },
  "language_info": {
   "codemirror_mode": {
    "name": "ipython",
    "version": 3
   },
   "file_extension": ".py",
   "mimetype": "text/x-python",
   "name": "python",
   "nbconvert_exporter": "python",
   "pygments_lexer": "ipython3",
   "version": "3.11.10"
  }
 },
 "nbformat": 4,
 "nbformat_minor": 2
}
