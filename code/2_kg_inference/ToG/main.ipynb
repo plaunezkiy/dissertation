{
 "cells": [
  {
   "cell_type": "code",
   "execution_count": 1,
   "metadata": {},
   "outputs": [],
   "source": [
    "%load_ext autoreload\n",
    "%autoreload 2"
   ]
  },
  {
   "cell_type": "code",
   "execution_count": 64,
   "metadata": {},
   "outputs": [],
   "source": [
    "import gc\n",
    "import re\n",
    "import csv\n",
    "import os\n",
    "import torch\n",
    "import Stemmer\n",
    "import pandas as pd\n",
    "from tqdm import tqdm\n",
    "from typing import Any, Dict, Iterator, List, Mapping, Optional\n",
    "from langchain_core.callbacks.manager import CallbackManagerForChainRun\n",
    "from langchain_core.language_models import BaseLanguageModel\n",
    "from langchain_core.prompts import BasePromptTemplate\n",
    "from langchain_community.graphs.networkx_graph import get_entities\n",
    "from langchain.chains import GraphQAChain\n",
    "from langchain.chains.llm import LLMChain\n",
    "import bm25s\n",
    "import heapq\n",
    "import networkx as nx\n",
    "from utils.preprocessing import stemmer, preprocess_text\n",
    "from utils.graph import KGraphPreproc\n",
    "from utils.llm.mistral import MistralLLM\n",
    "from utils.prompt import GRAPH_QA_PROMPT, ENTITY_PROMPT, NO_CONTEXT_PROMPT, EVALUATE_CONTEXT_PROMPT, RERANK_TRIPLETS_PROMPT, RERANK_CANDIDATE_ENTITIES_PROMPT"
   ]
  },
  {
   "cell_type": "markdown",
   "metadata": {},
   "source": [
    "# ToG Algorithm pseudocode\n",
    "given a list of entities $E^{D-1}$:\n",
    "1. Select all relations $R^D$\n",
    "2. Select top-N relevant $E^{D-1}$-$R^D$-? | ?-$R^D$-$E^{D-1}$\n",
    "3. Extend P by top-N paths\n",
    "4. Decide if enough to answer the question (YES/NO)\n",
    "5. Repeat (NO), return (YES)\n"
   ]
  },
  {
   "cell_type": "code",
   "execution_count": 1,
   "metadata": {},
   "outputs": [
    {
     "data": {
      "text/plain": [
       "{4, 5}"
      ]
     },
     "execution_count": 1,
     "metadata": {},
     "output_type": "execute_result"
    }
   ],
   "source": [
    "a = set([1,2,3])\n",
    "b = set([3,4,5])\n",
    "b.difference(a)"
   ]
  },
  {
   "cell_type": "code",
   "execution_count": 29,
   "metadata": {},
   "outputs": [],
   "source": [
    "class ToGChain(GraphQAChain):\n",
    "    max_exploration_depth: int = 10\n",
    "    beam_width: int = 25\n",
    "    max_triplets: int = 250\n",
    "    plain_qa_chain: LLMChain\n",
    "    evaluate_context_chain: LLMChain\n",
    "\n",
    "    def tog_answer(self, question):\n",
    "        \"\"\"\n",
    "        Think-on-Graph QA implementation\n",
    "        \"\"\"\n",
    "        explored_entities = set()\n",
    "        P = [\n",
    "            # step: [triplet1, ...], \n",
    "        ] # max_depth X beam_width\n",
    "        max_depth = self.max_exploration_depth\n",
    "        beam_width = self.beam_width\n",
    "\n",
    "        # init entities from question        \n",
    "        extracted_entities = set(\n",
    "            self.extract_entities(question)\n",
    "        )\n",
    "        unexplored_entities = extracted_entities.difference(explored_entities)\n",
    "        explored_entities.update(unexplored_entities)\n",
    "        # extract all triplets and rank them\n",
    "        triplets = self.extract_triplets(unexplored_entities)\n",
    "        # ranked_triplets: list[triplet]\n",
    "        ranked_triplets = self.rerank_triplets_bm25(question, triplets, top_k=beam_width)\n",
    "        # extend the paths by next step\n",
    "        P.append(ranked_triplets)\n",
    "\n",
    "        # check at least one path to explore is initialised\n",
    "        if len(P[0]):\n",
    "            for depth in range(1, max_depth):\n",
    "                self._run_manager.on_text(f\"Exploring depth: {depth}\", color=\"green\", end=\"\\n\", verbose=self.verbose)\n",
    "                ######## Extraction\n",
    "                tail_entities = set()\n",
    "                for t in P[depth-1]:\n",
    "                    tail_entities.add(t.split()[-1])\n",
    "                # select unexplored tails and update\n",
    "                unexplored_entities = tail_entities.difference(explored_entities)\n",
    "                explored_entities.update(unexplored_entities)\n",
    "                # extract and rank triplets\n",
    "                triplets = self.extract_triplets(unexplored_entities)\n",
    "                ranked_triplets = self.rerank_triplets_bm25(question, triplets, top_k=beam_width)\n",
    "                # extend the paths by next step\n",
    "                P.append(ranked_triplets)\n",
    "                ######## Reasoning\n",
    "                is_enough = self.check_enough_context_to_answer(question, reasoning_chain=P)\n",
    "                if is_enough:\n",
    "                    return self.generate_answer_with_context(question, reasoning_chain=P)\n",
    "                else:\n",
    "                    continue\n",
    "        # otherwise, use internal knowledge\n",
    "        return self.generate_answer_no_context(question)\n",
    "    \n",
    "    #### GRAPH OPEATIONS AND RANKING\n",
    "\n",
    "    def rerank_triplets_llm(self, question, triplets, top_k=max_triplets):\n",
    "        top_triplets = []\n",
    "        min_heap = []\n",
    "        for triplet_portion in triplets[::top_k]:\n",
    "            self.\n",
    "\n",
    "    def extract_triplets(self, entities, depth=1):\n",
    "        subgraph_entities = set()\n",
    "        for entity in entities:\n",
    "            processed_entity = preprocess_text(entity)\n",
    "            node = self.graph.preprocessed_nodes.get(processed_entity)\n",
    "            if node is None:\n",
    "                continue\n",
    "            bfs_nodes = nx.single_source_shortest_path_length(\n",
    "                self.graph._graph,\n",
    "                node,\n",
    "                cutoff=depth\n",
    "            ).keys()\n",
    "            subgraph_entities.update(bfs_nodes)\n",
    "        subgraph = self.graph._graph.subgraph(subgraph_entities)\n",
    "        # \n",
    "        triplets = []\n",
    "        mid2name_dict = self.graph.mid2name\n",
    "        for head, tail, attrs in subgraph.edges(data=True):\n",
    "            rel = attrs.get(\"relation\", None)\n",
    "            if head and rel and tail:\n",
    "                triplets.append(\n",
    "                    f\"{mid2name_dict.get(head, '')} {rel} {mid2name_dict.get(tail, '')}\"\n",
    "                )\n",
    "        return triplets\n",
    "\n",
    "    \n",
    "    #### PROMPTING AND CHAINS\n",
    "\n",
    "    def generate_answer_with_context(self, question, reasoning_chain):\n",
    "        context = \"\\n\".join([\"\\n\".join(chain) for chain in reasoning_chain])\n",
    "        self._run_manager.on_text(\"Full Context:\", end=\"\\n\", verbose=self.verbose)\n",
    "        self._run_manager.on_text(context, color=\"green\", end=\"\\n\", verbose=self.verbose)\n",
    "        return self.qa_chain(\n",
    "            {\"question\": question, \"context\": context},\n",
    "            callbacks=self._run_manager.get_child(),\n",
    "        )\n",
    "    \n",
    "    def generate_answer_no_context(self, question):\n",
    "        return self.plain_qa_chain(\n",
    "            {\"question\": question},\n",
    "            callbacks=self._run_manager.get_child(),\n",
    "        )\n",
    "    \n",
    "    def check_enough_context_to_answer(self, question, reasoning_chain):\n",
    "        context = \"\\n\".join([\"\\n\".join(chain) for chain in reasoning_chain])\n",
    "        self._run_manager.on_text(\"Checking if the context is sufficient:\", end=\"\\n\", verbose=self.verbose)\n",
    "        self._run_manager.on_text(\"Full Context:\", end=\"\\n\", verbose=self.verbose)\n",
    "        self._run_manager.on_text(context, color=\"green\", end=\"\\n\", verbose=self.verbose)\n",
    "        answer = self.evaluate_context_chain(\n",
    "            {\"question\": question, \"context\": context},\n",
    "            callbacks=self._run_manager.get_child(),\n",
    "        )\n",
    "        self._run_manager.on_text(f\"Model decision: {answer['text']}\", end=\"\\n\", verbose=self.verbose)\n",
    "        if \"yes\" in answer[\"text\"].strip().lower():\n",
    "            return True\n",
    "        return False\n",
    "\n",
    "    def extract_entities(self, string):\n",
    "        entity_string = self.entity_extraction_chain.run(string)\n",
    "        self._run_manager.on_text(\"Entities Extracted:\", end=\"\\n\", verbose=self.verbose)\n",
    "        self._run_manager.on_text(\n",
    "            entity_string, color=\"green\", end=\"\\n\", verbose=self.verbose\n",
    "        )\n",
    "        entities = get_entities(entity_string)\n",
    "        return entities\n",
    "\n",
    "    #### INITIALIZATION AND INVOKATION\n",
    "\n",
    "    def _call(\n",
    "        self,\n",
    "        inputs: Dict[str, Any],\n",
    "        run_manager: Optional[CallbackManagerForChainRun] = None,\n",
    "    ) -> Dict[str, str]:\n",
    "        \"\"\"Extract entities, look up info and answer question.\"\"\"\n",
    "        _run_manager = run_manager or CallbackManagerForChainRun.get_noop_manager()\n",
    "        self._run_manager = _run_manager\n",
    "        question = inputs[self.input_key]        \n",
    "        # \n",
    "        result = self.tog_answer(question)\n",
    "        return {self.output_key: result[self.qa_chain.output_key]}\n",
    "    \n",
    "    @classmethod\n",
    "    def from_llm(\n",
    "        cls,\n",
    "        llm: BaseLanguageModel,\n",
    "        qa_prompt: BasePromptTemplate = GRAPH_QA_PROMPT,\n",
    "        qa_no_context_prompt: BasePromptTemplate = NO_CONTEXT_PROMPT,\n",
    "        evaluate_context_prompt: BasePromptTemplate = EVALUATE_CONTEXT_PROMPT,\n",
    "        entity_prompt: BasePromptTemplate = ENTITY_PROMPT,\n",
    "        **kwargs: Any,\n",
    "    ) -> GraphQAChain:\n",
    "        \"\"\"Initialize from LLM.\"\"\"\n",
    "        qa_chain = LLMChain(llm=llm, prompt=qa_prompt)\n",
    "        plain_qa_chain = LLMChain(llm=llm, prompt=qa_no_context_prompt)\n",
    "        evaluate_context_chain = LLMChain(llm=llm, prompt=evaluate_context_prompt)\n",
    "        entity_chain = LLMChain(llm=llm, prompt=entity_prompt)\n",
    "\n",
    "        return cls(\n",
    "            qa_chain=qa_chain,\n",
    "            plain_qa_chain=plain_qa_chain,\n",
    "            evaluate_context_chain=evaluate_context_chain,\n",
    "            entity_extraction_chain=entity_chain,\n",
    "            **kwargs,\n",
    "        )"
   ]
  },
  {
   "cell_type": "code",
   "execution_count": 6,
   "metadata": {},
   "outputs": [],
   "source": [
    "metaqa = pd.read_csv(f\"/datasets/MetaQA/3hop/qa_test.txt\", sep=\"\\t\", header=None)\n",
    "metaqa.rename(columns={0: \"Question\", 1: \"Answers\"}, inplace=True)\n",
    "metaqa_graph = KGraphPreproc.get_metaqa_graph()"
   ]
  },
  {
   "cell_type": "code",
   "execution_count": 3,
   "metadata": {},
   "outputs": [],
   "source": [
    "fbqa = pd.read_json(\"/datasets/FreebaseQA/FreebaseQA-eval.json\")\n",
    "fbkb_graph = KGraphPreproc.get_fbkb_graph()"
   ]
  },
  {
   "cell_type": "code",
   "execution_count": 4,
   "metadata": {},
   "outputs": [],
   "source": [
    "mistral = MistralLLM()"
   ]
  },
  {
   "cell_type": "code",
   "execution_count": 5,
   "metadata": {},
   "outputs": [],
   "source": [
    "def get_fbqa_data(question_row):\n",
    "    \"\"\"\n",
    "    Takes in a dataset row and returns Q and A as strings\n",
    "    \"\"\"\n",
    "    question = question_row.Questions.get(\"RawQuestion\", None)\n",
    "    parse = question_row.Questions.get(\"Parses\", [None])[0]\n",
    "    if not parse:\n",
    "        print(f\"error in question: {question}\")\n",
    "        return question, None\n",
    "    answer = parse.get(\"Answers\")\n",
    "    return question, answer"
   ]
  },
  {
   "cell_type": "code",
   "execution_count": 6,
   "metadata": {},
   "outputs": [
    {
     "name": "stdout",
     "output_type": "stream",
     "text": [
      "[{'AnswersMid': 'm.04v0v72', 'AnswersName': ['david copperfield']}]\n"
     ]
    },
    {
     "data": {
      "text/plain": [
       "\"Which Dickens novel features the character 'Uriah Heep'?\""
      ]
     },
     "execution_count": 6,
     "metadata": {},
     "output_type": "execute_result"
    }
   ],
   "source": [
    "q, a = get_fbqa_data(fbqa.iloc[1135])\n",
    "print(a)\n",
    "q"
   ]
  },
  {
   "cell_type": "code",
   "execution_count": 7,
   "metadata": {},
   "outputs": [
    {
     "data": {
      "text/plain": [
       "'/m/01v9724'"
      ]
     },
     "execution_count": 7,
     "metadata": {},
     "output_type": "execute_result"
    }
   ],
   "source": [
    "fbkb_graph.preprocessed_nodes[preprocess_text(\"charles dickens\")]"
   ]
  },
  {
   "cell_type": "markdown",
   "metadata": {},
   "source": [
    "## Rank rels"
   ]
  },
  {
   "cell_type": "code",
   "execution_count": 82,
   "metadata": {},
   "outputs": [],
   "source": [
    "def rank_rel_portion(question, entity, rel_portion):\n",
    "    \"\"\"\n",
    "    Prompts the LLM to rank candidate relations and parses the response\n",
    "    \"\"\"\n",
    "    prompt = RERANK_TRIPLETS_PROMPT.format(\n",
    "        question=question,\n",
    "        entity=entity,\n",
    "        relations=\"; \".join(rel_portion))\n",
    "    # print(prompt)\n",
    "    response = mistral.get_response(prompt, temperature=0.15)\n",
    "    return response\n",
    "\n",
    "def extract_ranked_rels(rel_set, rel_rank_string, group=0):\n",
    "    \"\"\"\n",
    "    Regex extracts the scores and relations\n",
    "    Makes sure the extracted relations are real\n",
    "    \"\"\"\n",
    "    pattern = re.compile(\"[^()]+;\\s?[0-9.]+\")\n",
    "    pos = 0\n",
    "    scored_rels = []\n",
    "    while m := pattern.search(rel_rank_string, pos):\n",
    "        pos = m.start() + 1\n",
    "        rel, rank = m[group].split(\";\")\n",
    "        if rel in rel_set:\n",
    "            scored_rels.append((rel, float(rank)))\n",
    "    return scored_rels\n",
    "    "
   ]
  },
  {
   "cell_type": "code",
   "execution_count": 83,
   "metadata": {},
   "outputs": [],
   "source": [
    "max_size = 250\n",
    "def rank_entity_rels(question, mid, mid_rels):\n",
    "    \"\"\"\n",
    "    Goes over candidate rels in portions, ranks them\n",
    "    Returns the list of relevance ranked rels\n",
    "    \"\"\"\n",
    "    rel_heap = []\n",
    "    step = max_size\n",
    "    for i in range(0, len(mid_rels), step):\n",
    "        rel_set = mid_rels[i : i+step]\n",
    "        answer = rank_rel_portion(question, entity, rel_set)\n",
    "        # [(rel, rank)]\n",
    "        ranked_rels = extract_ranked_rels(rel_set, answer)\n",
    "        for rel, score in ranked_rels:\n",
    "            if len(rel_heap) < step:\n",
    "                heapq.heappush(rel_heap, (score, rel, mid))\n",
    "            else:\n",
    "                if score > rel_heap[0][0]:\n",
    "                    heapq.heappushpop(rel_heap, (score, rel, mid))\n",
    "    top_rels = sorted(rel_heap, key=lambda x: -x[0])\n",
    "    return top_rels"
   ]
  },
  {
   "cell_type": "markdown",
   "metadata": {},
   "source": [
    "## Rank entities"
   ]
  },
  {
   "cell_type": "code",
   "execution_count": 84,
   "metadata": {},
   "outputs": [],
   "source": [
    "def rank_candidate_entities_portion(question, mid, rel, candidates):\n",
    "    \"\"\"\n",
    "    Prompts the LLM to rank candidate entities and parses the response\n",
    "    \"\"\"\n",
    "    prompt = RERANK_CANDIDATE_ENTITIES_PROMPT.format(\n",
    "        question=question,\n",
    "        relation=rel,\n",
    "        entities=\"; \".join(candidates))\n",
    "    # print(prompt)\n",
    "    response = mistral.get_response(prompt, temperature=0.15)\n",
    "    return response\n",
    "\n",
    "def extract_ranked_entities(entity_set, entity_set_rank_string, group=0):\n",
    "    \"\"\"\n",
    "    Regex extracts the scores and entities\n",
    "    Makes sure the extracted entities are real\n",
    "    \"\"\"\n",
    "    pattern = re.compile(\"[^()]+;\\s?[0-9.]+\")\n",
    "    pos = 0\n",
    "    scored_entities = []\n",
    "    while m := pattern.search(entity_set_rank_string, pos):\n",
    "        pos = m.start() + 1\n",
    "        entity, rank = m[group].split(\";\")\n",
    "        if entity in entity_set:\n",
    "            scored_entities.append((entity, float(rank)))\n",
    "    return scored_entities"
   ]
  },
  {
   "cell_type": "code",
   "execution_count": 88,
   "metadata": {},
   "outputs": [],
   "source": [
    "def rank_candidate_triplets(question, mid, rel, rel_score, candidate_entities):\n",
    "    \"\"\"\n",
    "    Goes over candidate other end entities in portions\n",
    "    Returns the list of ranked resulting triplets\n",
    "    Score = rel_score * entity_score\n",
    "    \"\"\"\n",
    "    # return [(score, \"mid-rel-entity1\"), ...]\n",
    "    triplet_heap = []\n",
    "    step = max_size\n",
    "    for i in range(0, len(candidate_entities), step):\n",
    "        cand_entity_set = candidate_entities[i : i+step]\n",
    "        answer = rank_candidate_entities_portion(question, entity, rel, cand_entity_set)\n",
    "        # [(rel, rank)]\n",
    "        ranked_entities = extract_ranked_entities(cand_entity_set, answer)\n",
    "        for cand_entity, score in ranked_entities:\n",
    "            total_score = rel_score*score\n",
    "            heapq.heappush(triplet_heap, (total_score, (mid, rel, cand_entity)))\n",
    "    top_triplets = sorted(triplet_heap, key=lambda x: -x[0])\n",
    "    return top_triplets\n"
   ]
  },
  {
   "cell_type": "code",
   "execution_count": 63,
   "metadata": {},
   "outputs": [
    {
     "data": {
      "text/plain": [
       "\"Which Dickens novel features the character 'Uriah Heep'?\""
      ]
     },
     "execution_count": 63,
     "metadata": {},
     "output_type": "execute_result"
    }
   ],
   "source": [
    "q"
   ]
  },
  {
   "cell_type": "code",
   "execution_count": null,
   "metadata": {},
   "outputs": [
    {
     "name": "stdout",
     "output_type": "stream",
     "text": [
      "/m/01v9724\n",
      "depth: 1\n",
      "exploring entities\n",
      "exploring Charles_Dickens\n"
     ]
    }
   ],
   "source": [
    "entity = \"Charles Dickens\"\n",
    "mid = fbkb_graph.preprocessed_nodes.get(preprocess_text(entity))\n",
    "print(mid)\n",
    "entities = [mid]\n",
    "\n",
    "explored_entities = set(entities)\n",
    "P = [\n",
    "    [e] for e in entities\n",
    "    # step: [triplet1, ...], \n",
    "] # max_depth X beam_width\n",
    "\n",
    "max_depth = 5\n",
    "beam_width = 25\n",
    "if len(P[0]):\n",
    "    for depth in range(1, max_depth):\n",
    "        print(\"depth:\", depth)\n",
    "        tail_entities = set()\n",
    "        for t in P[depth-1]:\n",
    "            tail_entities.add(t.split()[-1])\n",
    "        \n",
    "        # search and prune rels\n",
    "        top_rels = []\n",
    "        print(\"exploring entities\")\n",
    "        for entity_mid in entities:\n",
    "            entity = fbkb_graph.mid2name[entity_mid]\n",
    "            print(f\"exploring {entity}\")\n",
    "            mid_rels = set(map(lambda t: t[2][\"relation\"], fbkb_graph._graph.edges(mid, data=True)))\n",
    "            mid_rels = list(mid_rels)\n",
    "            top_rels.extend(rank_entity_rels(q, entity, mid_rels))\n",
    "            heapq.heapify(top_rels)\n",
    "        top_rels = sorted(top_rels, key=lambda x: -x[0])\n",
    "        # top_rels = [(0.3, '/influence/influence_node/influenced_by', 'Charles_Dickens'), (0.2, '/people/person/places_lived./people/place_lived/location', 'Charles_Dickens'), (0.2, '/people/person/profession', 'Charles_Dickens'), (0.1, '/people/cause_of_death/people', 'Charles_Dickens'), (0.1, '/people/person/nationality', 'Charles_Dickens')]\n",
    "        print(f\"top rels: {top_rels[:5]}\")\n",
    "        # search and prune entities on other end of rels\n",
    "        top_new_triplets = []\n",
    "        # [ (tail, top_rel, top_candidate)]\n",
    "        for rel_score, rel, entity in top_rels:\n",
    "            mid = fbkb_graph.name2mid[entity]\n",
    "            print(f\"exploring candidate entities for: {rel}\")\n",
    "            candidate_entities = [\n",
    "                fbkb_graph.mid2name[v] for u,v,data in fbkb_graph._graph.edges(mid, data=True) if data.get(\"relation\") == rel\n",
    "            ]\n",
    "            print(f\"candidate_entities: {candidate_entities}\")\n",
    "            ranked_triplets = rank_candidate_triplets(q, mid, rel, rel_score, candidate_entities)\n",
    "            top_new_triplets.extend(ranked_triplets)\n",
    "            heapq.heapify(top_new_triplets)\n",
    "        # sort the triplets\n",
    "        top_new_triplets = sorted(top_new_triplets, key=lambda x: -x[0])\n",
    "        print(f\"top paths: {top_new_triplets[:5]}\")\n",
    "        # remove the scores and extend P\n",
    "        P.append(\n",
    "            list(map(lambda t: t[1], top_new_triplets))\n",
    "        )\n",
    "        print(\"End of round \\n\")\n",
    "        break\n",
    "        \n",
    "    \n"
   ]
  },
  {
   "cell_type": "markdown",
   "metadata": {},
   "source": [
    "## LLM-guided traversal\n",
    "1. Extract entities from question (LLM)\n",
    "2. Fetch relevant triplets (Graph)\n",
    "3. Rerank triplets based on relevance (BM25, SBERT, LLM)\n",
    "    3.1 \n",
    "    3.2 \n",
    "4. Extend path beam list (P) with top-k triplets\n",
    "5. Check if the current pathlist is enough to answer (LLM)\n",
    "6. Repeat or Generate Answer (LLM)"
   ]
  },
  {
   "cell_type": "code",
   "execution_count": 38,
   "metadata": {},
   "outputs": [
    {
     "name": "stdout",
     "output_type": "stream",
     "text": [
      "\n",
      "\n",
      "\u001b[1m> Entering new ToGChain chain...\u001b[0m\n",
      "Entities Extracted:\n",
      "\u001b[32;1m\u001b[1;3mSydney, Australia, Olympics, Triathlon, Men's event, Medals, 2000, 2008, Australia (as the host country)\u001b[0m\n"
     ]
    },
    {
     "data": {
      "application/vnd.jupyter.widget-view+json": {
       "model_id": "1c72a72b8c00446f8f6d22b5fe286507",
       "version_major": 2,
       "version_minor": 0
      },
      "text/plain": [
       "Split strings: 0it [00:00, ?it/s]"
      ]
     },
     "metadata": {},
     "output_type": "display_data"
    },
    {
     "data": {
      "application/vnd.jupyter.widget-view+json": {
       "model_id": "045c6f77361c40819ea4806eaeb8349d",
       "version_major": 2,
       "version_minor": 0
      },
      "text/plain": [
       "Stem Tokens:   0%|          | 0/1165 [00:00<?, ?it/s]"
      ]
     },
     "metadata": {},
     "output_type": "display_data"
    },
    {
     "data": {
      "application/vnd.jupyter.widget-view+json": {
       "model_id": "c93562cd25ca4eb197c166a84faef500",
       "version_major": 2,
       "version_minor": 0
      },
      "text/plain": [
       "BM25S Count Tokens:   0%|          | 0/1165 [00:00<?, ?it/s]"
      ]
     },
     "metadata": {},
     "output_type": "display_data"
    },
    {
     "data": {
      "application/vnd.jupyter.widget-view+json": {
       "model_id": "3fd52027bd444271a1f2eecce3a37f44",
       "version_major": 2,
       "version_minor": 0
      },
      "text/plain": [
       "BM25S Compute Scores:   0%|          | 0/1165 [00:00<?, ?it/s]"
      ]
     },
     "metadata": {},
     "output_type": "display_data"
    },
    {
     "data": {
      "application/vnd.jupyter.widget-view+json": {
       "model_id": "04063413249c4881a4abec3a5f76d3d3",
       "version_major": 2,
       "version_minor": 0
      },
      "text/plain": [
       "Split strings:   0%|          | 0/1 [00:00<?, ?it/s]"
      ]
     },
     "metadata": {},
     "output_type": "display_data"
    },
    {
     "data": {
      "application/vnd.jupyter.widget-view+json": {
       "model_id": "166ed4dda8db4c2aa098088b77bdd0f9",
       "version_major": 2,
       "version_minor": 0
      },
      "text/plain": [
       "Stem Tokens:   0%|          | 0/1 [00:00<?, ?it/s]"
      ]
     },
     "metadata": {},
     "output_type": "display_data"
    },
    {
     "data": {
      "application/vnd.jupyter.widget-view+json": {
       "model_id": "84fffcd0104645bfa0c33f953a24e8f7",
       "version_major": 2,
       "version_minor": 0
      },
      "text/plain": [
       "BM25S Retrieve:   0%|          | 0/1 [00:00<?, ?it/s]"
      ]
     },
     "metadata": {},
     "output_type": "display_data"
    },
    {
     "name": "stdout",
     "output_type": "stream",
     "text": [
      "\u001b[32;1m\u001b[1;3mExploring depth: 1\u001b[0m\n"
     ]
    },
    {
     "data": {
      "application/vnd.jupyter.widget-view+json": {
       "model_id": "2712a7c983cc48e9899ac7585f7918bc",
       "version_major": 2,
       "version_minor": 0
      },
      "text/plain": [
       "Split strings: 0it [00:00, ?it/s]"
      ]
     },
     "metadata": {},
     "output_type": "display_data"
    },
    {
     "data": {
      "application/vnd.jupyter.widget-view+json": {
       "model_id": "c91b104139f9496f939184f3075dd512",
       "version_major": 2,
       "version_minor": 0
      },
      "text/plain": [
       "Stem Tokens:   0%|          | 0/129 [00:00<?, ?it/s]"
      ]
     },
     "metadata": {},
     "output_type": "display_data"
    },
    {
     "data": {
      "application/vnd.jupyter.widget-view+json": {
       "model_id": "f3ed1bf7a6654bd0bcf356164b32b1d2",
       "version_major": 2,
       "version_minor": 0
      },
      "text/plain": [
       "BM25S Count Tokens:   0%|          | 0/129 [00:00<?, ?it/s]"
      ]
     },
     "metadata": {},
     "output_type": "display_data"
    },
    {
     "data": {
      "application/vnd.jupyter.widget-view+json": {
       "model_id": "9017f184d2424458b768542d7cb4ef79",
       "version_major": 2,
       "version_minor": 0
      },
      "text/plain": [
       "BM25S Compute Scores:   0%|          | 0/129 [00:00<?, ?it/s]"
      ]
     },
     "metadata": {},
     "output_type": "display_data"
    },
    {
     "data": {
      "application/vnd.jupyter.widget-view+json": {
       "model_id": "115c085015904e1cad1594a0b68cb0d7",
       "version_major": 2,
       "version_minor": 0
      },
      "text/plain": [
       "Split strings:   0%|          | 0/1 [00:00<?, ?it/s]"
      ]
     },
     "metadata": {},
     "output_type": "display_data"
    },
    {
     "data": {
      "application/vnd.jupyter.widget-view+json": {
       "model_id": "f49f202041da4df89532d20b508289b8",
       "version_major": 2,
       "version_minor": 0
      },
      "text/plain": [
       "Stem Tokens:   0%|          | 0/1 [00:00<?, ?it/s]"
      ]
     },
     "metadata": {},
     "output_type": "display_data"
    },
    {
     "data": {
      "application/vnd.jupyter.widget-view+json": {
       "model_id": "3caa2b735e38456098c4c8b27b7bb832",
       "version_major": 2,
       "version_minor": 0
      },
      "text/plain": [
       "BM25S Retrieve:   0%|          | 0/1 [00:00<?, ?it/s]"
      ]
     },
     "metadata": {},
     "output_type": "display_data"
    },
    {
     "name": "stdout",
     "output_type": "stream",
     "text": [
      "Checking if the context is sufficient:\n",
      "Full Context:\n",
      "\u001b[32;1m\u001b[1;3molympics has_tags Munich\n",
      "olympics has_tags Miracle\n",
      "olympics has_tags Chariots of Fire\n",
      "olympics has_tags Cool Runnings\n",
      "olympics has_tags The Other Dream Team\n",
      "2008 release_year Asterix at the Olympic Games\n",
      "Lantana has_tags sydney\n",
      "australia has_tags Australia\n",
      "Finding Nemo has_tags sydney\n",
      "Drama has_genre The Country Teacher\n",
      "Drama has_genre Summer Hours\n",
      "australia has_tags $9.99\n",
      "australia has_tags Lantana\n",
      "australia has_tags On the Beach\n",
      "story has_tags Australia\n",
      "Drama has_genre Australia\n",
      "Chopper has_tags australia\n",
      "Drama has_genre Men of Honor\n",
      "Drama has_genre Diamond Men\n",
      "hugh jackman has_tags X-Men\n",
      "nicole kidman has_tags Australia\n",
      "Australia has_tags baz luhrmann\n",
      "hugh jackman has_tags Australia\n",
      "2000 release_year The New Country\n",
      "2000 release_year A Storm in Summer\n",
      "olympics has_tags Munich\n",
      "2008 release_year Australia\n",
      "2000 release_year X-Men\n",
      "Running has_genre Sport\n",
      "Lantana has_tags sydney\n",
      "sydney has_tags Finding Nemo\n",
      "australia has_tags Australia\n",
      "2008 release_year $9.99\n",
      "Drama has_genre Australia\n",
      "story has_tags Australia\n",
      "australia has_tags $9.99\n",
      "australia has_tags Lantana\n",
      "x-men has_tags X-Men\n",
      "Australia has_tags baz luhrmann\n",
      "nicole kidman has_tags Australia\n",
      "hugh jackman has_tags Australia\n",
      "Richard Pearce directed_by Country\n",
      "1984 release_year Country\n",
      "William D. Wittliff written_by Country\n",
      "world war ii has_tags Australia\n",
      "marvel has_tags X-Men\n",
      "franchise has_tags X-Men\n",
      "future has_tags X-Men\n",
      "wolverine has_tags X-Men\n",
      "X-Men has_tags rogue\u001b[0m\n",
      "Model decision: NO\n",
      "\u001b[32;1m\u001b[1;3mExploring depth: 2\u001b[0m\n"
     ]
    },
    {
     "data": {
      "application/vnd.jupyter.widget-view+json": {
       "model_id": "8fde459f02fc4e8c95c116cd621ecb57",
       "version_major": 2,
       "version_minor": 0
      },
      "text/plain": [
       "Split strings: 0it [00:00, ?it/s]"
      ]
     },
     "metadata": {},
     "output_type": "display_data"
    },
    {
     "data": {
      "application/vnd.jupyter.widget-view+json": {
       "model_id": "3ba8f834472e404d925f59e64b19e335",
       "version_major": 2,
       "version_minor": 0
      },
      "text/plain": [
       "Stem Tokens:   0%|          | 0/4 [00:00<?, ?it/s]"
      ]
     },
     "metadata": {},
     "output_type": "display_data"
    },
    {
     "data": {
      "application/vnd.jupyter.widget-view+json": {
       "model_id": "83002850cd8840feb5fe20c2799dc13d",
       "version_major": 2,
       "version_minor": 0
      },
      "text/plain": [
       "BM25S Count Tokens:   0%|          | 0/4 [00:00<?, ?it/s]"
      ]
     },
     "metadata": {},
     "output_type": "display_data"
    },
    {
     "data": {
      "application/vnd.jupyter.widget-view+json": {
       "model_id": "9dcb7f97c7fc4258b5b90dc3d7525387",
       "version_major": 2,
       "version_minor": 0
      },
      "text/plain": [
       "BM25S Compute Scores:   0%|          | 0/4 [00:00<?, ?it/s]"
      ]
     },
     "metadata": {},
     "output_type": "display_data"
    },
    {
     "data": {
      "application/vnd.jupyter.widget-view+json": {
       "model_id": "13543570fc4442afaf4cafa2b81fdd6c",
       "version_major": 2,
       "version_minor": 0
      },
      "text/plain": [
       "Split strings:   0%|          | 0/1 [00:00<?, ?it/s]"
      ]
     },
     "metadata": {},
     "output_type": "display_data"
    },
    {
     "data": {
      "application/vnd.jupyter.widget-view+json": {
       "model_id": "1739a792799b4ad3aa816a268c851b82",
       "version_major": 2,
       "version_minor": 0
      },
      "text/plain": [
       "Stem Tokens:   0%|          | 0/1 [00:00<?, ?it/s]"
      ]
     },
     "metadata": {},
     "output_type": "display_data"
    },
    {
     "data": {
      "application/vnd.jupyter.widget-view+json": {
       "model_id": "6d8a41679de74503ada5946a55679843",
       "version_major": 2,
       "version_minor": 0
      },
      "text/plain": [
       "BM25S Retrieve:   0%|          | 0/1 [00:00<?, ?it/s]"
      ]
     },
     "metadata": {},
     "output_type": "display_data"
    },
    {
     "name": "stdout",
     "output_type": "stream",
     "text": [
      "Checking if the context is sufficient:\n",
      "Full Context:\n",
      "\u001b[32;1m\u001b[1;3molympics has_tags Munich\n",
      "olympics has_tags Miracle\n",
      "olympics has_tags Chariots of Fire\n",
      "olympics has_tags Cool Runnings\n",
      "olympics has_tags The Other Dream Team\n",
      "2008 release_year Asterix at the Olympic Games\n",
      "Lantana has_tags sydney\n",
      "australia has_tags Australia\n",
      "Finding Nemo has_tags sydney\n",
      "Drama has_genre The Country Teacher\n",
      "Drama has_genre Summer Hours\n",
      "australia has_tags $9.99\n",
      "australia has_tags Lantana\n",
      "australia has_tags On the Beach\n",
      "story has_tags Australia\n",
      "Drama has_genre Australia\n",
      "Chopper has_tags australia\n",
      "Drama has_genre Men of Honor\n",
      "Drama has_genre Diamond Men\n",
      "hugh jackman has_tags X-Men\n",
      "nicole kidman has_tags Australia\n",
      "Australia has_tags baz luhrmann\n",
      "hugh jackman has_tags Australia\n",
      "2000 release_year The New Country\n",
      "2000 release_year A Storm in Summer\n",
      "olympics has_tags Munich\n",
      "2008 release_year Australia\n",
      "2000 release_year X-Men\n",
      "Running has_genre Sport\n",
      "Lantana has_tags sydney\n",
      "sydney has_tags Finding Nemo\n",
      "australia has_tags Australia\n",
      "2008 release_year $9.99\n",
      "Drama has_genre Australia\n",
      "story has_tags Australia\n",
      "australia has_tags $9.99\n",
      "australia has_tags Lantana\n",
      "x-men has_tags X-Men\n",
      "Australia has_tags baz luhrmann\n",
      "nicole kidman has_tags Australia\n",
      "hugh jackman has_tags Australia\n",
      "Richard Pearce directed_by Country\n",
      "1984 release_year Country\n",
      "William D. Wittliff written_by Country\n",
      "world war ii has_tags Australia\n",
      "marvel has_tags X-Men\n",
      "franchise has_tags X-Men\n",
      "future has_tags X-Men\n",
      "wolverine has_tags X-Men\n",
      "X-Men has_tags rogue\n",
      "X-Men has_tags rogue\n",
      "BASEketball has_tags sport\n",
      "The Wrestler has_tags sport\n",
      "sport has_tags Bhaag Milkha Bhaag\u001b[0m\n",
      "Model decision: NO\n",
      "\u001b[32;1m\u001b[1;3mExploring depth: 3\u001b[0m\n"
     ]
    },
    {
     "data": {
      "application/vnd.jupyter.widget-view+json": {
       "model_id": "2922217fa7b64ba3b59606a377e3e460",
       "version_major": 2,
       "version_minor": 0
      },
      "text/plain": [
       "Split strings: 0it [00:00, ?it/s]"
      ]
     },
     "metadata": {},
     "output_type": "display_data"
    },
    {
     "data": {
      "application/vnd.jupyter.widget-view+json": {
       "model_id": "541087279b254636b26a4fed9fb6ae49",
       "version_major": 2,
       "version_minor": 0
      },
      "text/plain": [
       "Stem Tokens:   0%|          | 0/3 [00:00<?, ?it/s]"
      ]
     },
     "metadata": {},
     "output_type": "display_data"
    },
    {
     "data": {
      "application/vnd.jupyter.widget-view+json": {
       "model_id": "2a361d971f204585b7f1bbb85ed6670f",
       "version_major": 2,
       "version_minor": 0
      },
      "text/plain": [
       "BM25S Count Tokens:   0%|          | 0/3 [00:00<?, ?it/s]"
      ]
     },
     "metadata": {},
     "output_type": "display_data"
    },
    {
     "data": {
      "application/vnd.jupyter.widget-view+json": {
       "model_id": "580b5fed9d3c4ef3b70b25b9c3ebc5ea",
       "version_major": 2,
       "version_minor": 0
      },
      "text/plain": [
       "BM25S Compute Scores:   0%|          | 0/3 [00:00<?, ?it/s]"
      ]
     },
     "metadata": {},
     "output_type": "display_data"
    },
    {
     "data": {
      "application/vnd.jupyter.widget-view+json": {
       "model_id": "015d935d592a4068873e81dfe65e55f6",
       "version_major": 2,
       "version_minor": 0
      },
      "text/plain": [
       "Split strings:   0%|          | 0/1 [00:00<?, ?it/s]"
      ]
     },
     "metadata": {},
     "output_type": "display_data"
    },
    {
     "data": {
      "application/vnd.jupyter.widget-view+json": {
       "model_id": "e54a627645a34c4d9cdfc984825030ac",
       "version_major": 2,
       "version_minor": 0
      },
      "text/plain": [
       "Stem Tokens:   0%|          | 0/1 [00:00<?, ?it/s]"
      ]
     },
     "metadata": {},
     "output_type": "display_data"
    },
    {
     "data": {
      "application/vnd.jupyter.widget-view+json": {
       "model_id": "a6d5a31d283343bdb246e679ee5f602c",
       "version_major": 2,
       "version_minor": 0
      },
      "text/plain": [
       "BM25S Retrieve:   0%|          | 0/1 [00:00<?, ?it/s]"
      ]
     },
     "metadata": {},
     "output_type": "display_data"
    },
    {
     "name": "stdout",
     "output_type": "stream",
     "text": [
      "Checking if the context is sufficient:\n",
      "Full Context:\n",
      "\u001b[32;1m\u001b[1;3molympics has_tags Munich\n",
      "olympics has_tags Miracle\n",
      "olympics has_tags Chariots of Fire\n",
      "olympics has_tags Cool Runnings\n",
      "olympics has_tags The Other Dream Team\n",
      "2008 release_year Asterix at the Olympic Games\n",
      "Lantana has_tags sydney\n",
      "australia has_tags Australia\n",
      "Finding Nemo has_tags sydney\n",
      "Drama has_genre The Country Teacher\n",
      "Drama has_genre Summer Hours\n",
      "australia has_tags $9.99\n",
      "australia has_tags Lantana\n",
      "australia has_tags On the Beach\n",
      "story has_tags Australia\n",
      "Drama has_genre Australia\n",
      "Chopper has_tags australia\n",
      "Drama has_genre Men of Honor\n",
      "Drama has_genre Diamond Men\n",
      "hugh jackman has_tags X-Men\n",
      "nicole kidman has_tags Australia\n",
      "Australia has_tags baz luhrmann\n",
      "hugh jackman has_tags Australia\n",
      "2000 release_year The New Country\n",
      "2000 release_year A Storm in Summer\n",
      "olympics has_tags Munich\n",
      "2008 release_year Australia\n",
      "2000 release_year X-Men\n",
      "Running has_genre Sport\n",
      "Lantana has_tags sydney\n",
      "sydney has_tags Finding Nemo\n",
      "australia has_tags Australia\n",
      "2008 release_year $9.99\n",
      "Drama has_genre Australia\n",
      "story has_tags Australia\n",
      "australia has_tags $9.99\n",
      "australia has_tags Lantana\n",
      "x-men has_tags X-Men\n",
      "Australia has_tags baz luhrmann\n",
      "nicole kidman has_tags Australia\n",
      "hugh jackman has_tags Australia\n",
      "Richard Pearce directed_by Country\n",
      "1984 release_year Country\n",
      "William D. Wittliff written_by Country\n",
      "world war ii has_tags Australia\n",
      "marvel has_tags X-Men\n",
      "franchise has_tags X-Men\n",
      "future has_tags X-Men\n",
      "wolverine has_tags X-Men\n",
      "X-Men has_tags rogue\n",
      "X-Men has_tags rogue\n",
      "BASEketball has_tags sport\n",
      "The Wrestler has_tags sport\n",
      "sport has_tags Bhaag Milkha Bhaag\n",
      "sport has_tags BASEketball\n",
      "The Wrestler has_tags sport\n",
      "Bhaag Milkha Bhaag has_tags sport\u001b[0m\n",
      "Model decision: NO\n",
      "\u001b[32;1m\u001b[1;3mExploring depth: 4\u001b[0m\n"
     ]
    },
    {
     "data": {
      "application/vnd.jupyter.widget-view+json": {
       "model_id": "dcd55c836bc748ffbcee8c46c91288ed",
       "version_major": 2,
       "version_minor": 0
      },
      "text/plain": [
       "Split strings: 0it [00:00, ?it/s]"
      ]
     },
     "metadata": {},
     "output_type": "display_data"
    },
    {
     "data": {
      "application/vnd.jupyter.widget-view+json": {
       "model_id": "a771a7a14e9548fa83f3f206e8de6969",
       "version_major": 2,
       "version_minor": 0
      },
      "text/plain": [
       "Stem Tokens:   0%|          | 0/14 [00:00<?, ?it/s]"
      ]
     },
     "metadata": {},
     "output_type": "display_data"
    },
    {
     "data": {
      "application/vnd.jupyter.widget-view+json": {
       "model_id": "e3c4e297b3ea41b4a329d42cd925a96a",
       "version_major": 2,
       "version_minor": 0
      },
      "text/plain": [
       "BM25S Count Tokens:   0%|          | 0/14 [00:00<?, ?it/s]"
      ]
     },
     "metadata": {},
     "output_type": "display_data"
    },
    {
     "data": {
      "application/vnd.jupyter.widget-view+json": {
       "model_id": "ce1dc19c554f407cbfe9ef108f66e3a1",
       "version_major": 2,
       "version_minor": 0
      },
      "text/plain": [
       "BM25S Compute Scores:   0%|          | 0/14 [00:00<?, ?it/s]"
      ]
     },
     "metadata": {},
     "output_type": "display_data"
    },
    {
     "data": {
      "application/vnd.jupyter.widget-view+json": {
       "model_id": "01a48977d1cd406a9bbe7d2a365919e0",
       "version_major": 2,
       "version_minor": 0
      },
      "text/plain": [
       "Split strings:   0%|          | 0/1 [00:00<?, ?it/s]"
      ]
     },
     "metadata": {},
     "output_type": "display_data"
    },
    {
     "data": {
      "application/vnd.jupyter.widget-view+json": {
       "model_id": "d239ed28857f4b3fa0fe12f003810afd",
       "version_major": 2,
       "version_minor": 0
      },
      "text/plain": [
       "Stem Tokens:   0%|          | 0/1 [00:00<?, ?it/s]"
      ]
     },
     "metadata": {},
     "output_type": "display_data"
    },
    {
     "data": {
      "application/vnd.jupyter.widget-view+json": {
       "model_id": "132b9343cc064ee881d5162adf3a3bb0",
       "version_major": 2,
       "version_minor": 0
      },
      "text/plain": [
       "BM25S Retrieve:   0%|          | 0/1 [00:00<?, ?it/s]"
      ]
     },
     "metadata": {},
     "output_type": "display_data"
    },
    {
     "name": "stdout",
     "output_type": "stream",
     "text": [
      "Checking if the context is sufficient:\n",
      "Full Context:\n",
      "\u001b[32;1m\u001b[1;3molympics has_tags Munich\n",
      "olympics has_tags Miracle\n",
      "olympics has_tags Chariots of Fire\n",
      "olympics has_tags Cool Runnings\n",
      "olympics has_tags The Other Dream Team\n",
      "2008 release_year Asterix at the Olympic Games\n",
      "Lantana has_tags sydney\n",
      "australia has_tags Australia\n",
      "Finding Nemo has_tags sydney\n",
      "Drama has_genre The Country Teacher\n",
      "Drama has_genre Summer Hours\n",
      "australia has_tags $9.99\n",
      "australia has_tags Lantana\n",
      "australia has_tags On the Beach\n",
      "story has_tags Australia\n",
      "Drama has_genre Australia\n",
      "Chopper has_tags australia\n",
      "Drama has_genre Men of Honor\n",
      "Drama has_genre Diamond Men\n",
      "hugh jackman has_tags X-Men\n",
      "nicole kidman has_tags Australia\n",
      "Australia has_tags baz luhrmann\n",
      "hugh jackman has_tags Australia\n",
      "2000 release_year The New Country\n",
      "2000 release_year A Storm in Summer\n",
      "olympics has_tags Munich\n",
      "2008 release_year Australia\n",
      "2000 release_year X-Men\n",
      "Running has_genre Sport\n",
      "Lantana has_tags sydney\n",
      "sydney has_tags Finding Nemo\n",
      "australia has_tags Australia\n",
      "2008 release_year $9.99\n",
      "Drama has_genre Australia\n",
      "story has_tags Australia\n",
      "australia has_tags $9.99\n",
      "australia has_tags Lantana\n",
      "x-men has_tags X-Men\n",
      "Australia has_tags baz luhrmann\n",
      "nicole kidman has_tags Australia\n",
      "hugh jackman has_tags Australia\n",
      "Richard Pearce directed_by Country\n",
      "1984 release_year Country\n",
      "William D. Wittliff written_by Country\n",
      "world war ii has_tags Australia\n",
      "marvel has_tags X-Men\n",
      "franchise has_tags X-Men\n",
      "future has_tags X-Men\n",
      "wolverine has_tags X-Men\n",
      "X-Men has_tags rogue\n",
      "X-Men has_tags rogue\n",
      "BASEketball has_tags sport\n",
      "The Wrestler has_tags sport\n",
      "sport has_tags Bhaag Milkha Bhaag\n",
      "sport has_tags BASEketball\n",
      "The Wrestler has_tags sport\n",
      "Bhaag Milkha Bhaag has_tags sport\n",
      "BASEketball has_tags sport\n",
      "BASEketball has_genre Sport\n",
      "BASEketball has_genre Comedy\n",
      "BASEketball has_tags comedy\n",
      "BASEketball has_tags south park\n",
      "BASEketball has_tags matt stone\n",
      "trey parker has_tags BASEketball\n",
      "david zucker has_tags BASEketball\n",
      "BASEketball starred_actors Yasmine Bleeth\n",
      "BASEketball release_year 1998\n",
      "BASEketball starred_actors Matt Stone\n",
      "Trey Parker starred_actors BASEketball\n",
      "Dian Bachar starred_actors BASEketball\n",
      "David Zucker written_by BASEketball\u001b[0m\n",
      "Model decision: NO\n",
      "\u001b[32;1m\u001b[1;3mExploring depth: 5\u001b[0m\n"
     ]
    },
    {
     "data": {
      "application/vnd.jupyter.widget-view+json": {
       "model_id": "58ba4f74e980459988fedcd9ff5226f7",
       "version_major": 2,
       "version_minor": 0
      },
      "text/plain": [
       "Split strings: 0it [00:00, ?it/s]"
      ]
     },
     "metadata": {},
     "output_type": "display_data"
    },
    {
     "data": {
      "application/vnd.jupyter.widget-view+json": {
       "model_id": "c5c343addab046548dd7b71c85373bf9",
       "version_major": 2,
       "version_minor": 0
      },
      "text/plain": [
       "Stem Tokens:   0%|          | 0/1085 [00:00<?, ?it/s]"
      ]
     },
     "metadata": {},
     "output_type": "display_data"
    },
    {
     "data": {
      "application/vnd.jupyter.widget-view+json": {
       "model_id": "6c0d6692cd054df08522595f35e17ee7",
       "version_major": 2,
       "version_minor": 0
      },
      "text/plain": [
       "BM25S Count Tokens:   0%|          | 0/1085 [00:00<?, ?it/s]"
      ]
     },
     "metadata": {},
     "output_type": "display_data"
    },
    {
     "data": {
      "application/vnd.jupyter.widget-view+json": {
       "model_id": "718e25535a584e30878ebdadf238ef8d",
       "version_major": 2,
       "version_minor": 0
      },
      "text/plain": [
       "BM25S Compute Scores:   0%|          | 0/1085 [00:00<?, ?it/s]"
      ]
     },
     "metadata": {},
     "output_type": "display_data"
    },
    {
     "data": {
      "application/vnd.jupyter.widget-view+json": {
       "model_id": "706e69c99dca471faf7d990456971782",
       "version_major": 2,
       "version_minor": 0
      },
      "text/plain": [
       "Split strings:   0%|          | 0/1 [00:00<?, ?it/s]"
      ]
     },
     "metadata": {},
     "output_type": "display_data"
    },
    {
     "data": {
      "application/vnd.jupyter.widget-view+json": {
       "model_id": "03cc0e5699c14263bf9d16ec0dc53b9c",
       "version_major": 2,
       "version_minor": 0
      },
      "text/plain": [
       "Stem Tokens:   0%|          | 0/1 [00:00<?, ?it/s]"
      ]
     },
     "metadata": {},
     "output_type": "display_data"
    },
    {
     "data": {
      "application/vnd.jupyter.widget-view+json": {
       "model_id": "2e66552e803b4fbd8ee3bf34e161e277",
       "version_major": 2,
       "version_minor": 0
      },
      "text/plain": [
       "BM25S Retrieve:   0%|          | 0/1 [00:00<?, ?it/s]"
      ]
     },
     "metadata": {},
     "output_type": "display_data"
    },
    {
     "name": "stdout",
     "output_type": "stream",
     "text": [
      "Checking if the context is sufficient:\n",
      "Full Context:\n",
      "\u001b[32;1m\u001b[1;3molympics has_tags Munich\n",
      "olympics has_tags Miracle\n",
      "olympics has_tags Chariots of Fire\n",
      "olympics has_tags Cool Runnings\n",
      "olympics has_tags The Other Dream Team\n",
      "2008 release_year Asterix at the Olympic Games\n",
      "Lantana has_tags sydney\n",
      "australia has_tags Australia\n",
      "Finding Nemo has_tags sydney\n",
      "Drama has_genre The Country Teacher\n",
      "Drama has_genre Summer Hours\n",
      "australia has_tags $9.99\n",
      "australia has_tags Lantana\n",
      "australia has_tags On the Beach\n",
      "story has_tags Australia\n",
      "Drama has_genre Australia\n",
      "Chopper has_tags australia\n",
      "Drama has_genre Men of Honor\n",
      "Drama has_genre Diamond Men\n",
      "hugh jackman has_tags X-Men\n",
      "nicole kidman has_tags Australia\n",
      "Australia has_tags baz luhrmann\n",
      "hugh jackman has_tags Australia\n",
      "2000 release_year The New Country\n",
      "2000 release_year A Storm in Summer\n",
      "olympics has_tags Munich\n",
      "2008 release_year Australia\n",
      "2000 release_year X-Men\n",
      "Running has_genre Sport\n",
      "Lantana has_tags sydney\n",
      "sydney has_tags Finding Nemo\n",
      "australia has_tags Australia\n",
      "2008 release_year $9.99\n",
      "Drama has_genre Australia\n",
      "story has_tags Australia\n",
      "australia has_tags $9.99\n",
      "australia has_tags Lantana\n",
      "x-men has_tags X-Men\n",
      "Australia has_tags baz luhrmann\n",
      "nicole kidman has_tags Australia\n",
      "hugh jackman has_tags Australia\n",
      "Richard Pearce directed_by Country\n",
      "1984 release_year Country\n",
      "William D. Wittliff written_by Country\n",
      "world war ii has_tags Australia\n",
      "marvel has_tags X-Men\n",
      "franchise has_tags X-Men\n",
      "future has_tags X-Men\n",
      "wolverine has_tags X-Men\n",
      "X-Men has_tags rogue\n",
      "X-Men has_tags rogue\n",
      "BASEketball has_tags sport\n",
      "The Wrestler has_tags sport\n",
      "sport has_tags Bhaag Milkha Bhaag\n",
      "sport has_tags BASEketball\n",
      "The Wrestler has_tags sport\n",
      "Bhaag Milkha Bhaag has_tags sport\n",
      "BASEketball has_tags sport\n",
      "BASEketball has_genre Sport\n",
      "BASEketball has_genre Comedy\n",
      "BASEketball has_tags comedy\n",
      "BASEketball has_tags south park\n",
      "BASEketball has_tags matt stone\n",
      "trey parker has_tags BASEketball\n",
      "david zucker has_tags BASEketball\n",
      "BASEketball starred_actors Yasmine Bleeth\n",
      "BASEketball release_year 1998\n",
      "BASEketball starred_actors Matt Stone\n",
      "Trey Parker starred_actors BASEketball\n",
      "Dian Bachar starred_actors BASEketball\n",
      "David Zucker written_by BASEketball\n",
      "50 First Dates has_tags comedy\n",
      "Drama has_genre The Hi-Lo Country\n",
      "comedy has_tags Summer School\n",
      "1998 release_year Blues Brothers 2000\n",
      "comedy has_tags Smiles of a Summer Night\n",
      "comedy has_tags Matchstick Men\n",
      "comedy has_tags Mystery Men\n",
      "comedy has_tags Real Men\n",
      "Drama has_genre Matchstick Men\n",
      "1998 release_year The Hi-Lo Country\n",
      "1998 release_year A Summer by the River\n",
      "comedy has_tags Grumpier Old Men\n",
      "comedy has_tags Grumpy Old Men\n",
      "comedy has_tags The Men Who Stare at Goats\n",
      "White Men Can't Jump has_tags comedy\n",
      "1998 release_year Safe Men\n",
      "1998 release_year I Still Know What You Did Last Summer\n",
      "comedy has_tags To Be or Not to Be\n",
      "comedy has_tags K-9\n",
      "comedy has_tags RV\n",
      "Bananas has_tags comedy\n",
      "Drama has_genre Midnight\n",
      "comedy has_tags Megamind\n",
      "comedy has_tags The Closet\n",
      "The Croods has_tags comedy\u001b[0m\n",
      "Model decision: NO\n",
      "\u001b[32;1m\u001b[1;3mExploring depth: 6\u001b[0m\n"
     ]
    },
    {
     "data": {
      "application/vnd.jupyter.widget-view+json": {
       "model_id": "4d88283962b0474889fe06833fbabad1",
       "version_major": 2,
       "version_minor": 0
      },
      "text/plain": [
       "Split strings: 0it [00:00, ?it/s]"
      ]
     },
     "metadata": {},
     "output_type": "display_data"
    },
    {
     "data": {
      "application/vnd.jupyter.widget-view+json": {
       "model_id": "5253abe0f94d441bb4a3503e5a0dbd39",
       "version_major": 2,
       "version_minor": 0
      },
      "text/plain": [
       "Stem Tokens:   0%|          | 0/106 [00:00<?, ?it/s]"
      ]
     },
     "metadata": {},
     "output_type": "display_data"
    },
    {
     "data": {
      "application/vnd.jupyter.widget-view+json": {
       "model_id": "393b14b4fa44493aae79289da97e3984",
       "version_major": 2,
       "version_minor": 0
      },
      "text/plain": [
       "BM25S Count Tokens:   0%|          | 0/106 [00:00<?, ?it/s]"
      ]
     },
     "metadata": {},
     "output_type": "display_data"
    },
    {
     "data": {
      "application/vnd.jupyter.widget-view+json": {
       "model_id": "5aca3a03530a42348dc45086f68fde6e",
       "version_major": 2,
       "version_minor": 0
      },
      "text/plain": [
       "BM25S Compute Scores:   0%|          | 0/106 [00:00<?, ?it/s]"
      ]
     },
     "metadata": {},
     "output_type": "display_data"
    },
    {
     "data": {
      "application/vnd.jupyter.widget-view+json": {
       "model_id": "9fbcf459ff464995a57ca764d97afd40",
       "version_major": 2,
       "version_minor": 0
      },
      "text/plain": [
       "Split strings:   0%|          | 0/1 [00:00<?, ?it/s]"
      ]
     },
     "metadata": {},
     "output_type": "display_data"
    },
    {
     "data": {
      "application/vnd.jupyter.widget-view+json": {
       "model_id": "9e6f304390274329b2ce8ccb4cef9046",
       "version_major": 2,
       "version_minor": 0
      },
      "text/plain": [
       "Stem Tokens:   0%|          | 0/1 [00:00<?, ?it/s]"
      ]
     },
     "metadata": {},
     "output_type": "display_data"
    },
    {
     "data": {
      "application/vnd.jupyter.widget-view+json": {
       "model_id": "403a30f4c772464788f428c177cd909e",
       "version_major": 2,
       "version_minor": 0
      },
      "text/plain": [
       "BM25S Retrieve:   0%|          | 0/1 [00:00<?, ?it/s]"
      ]
     },
     "metadata": {},
     "output_type": "display_data"
    },
    {
     "name": "stdout",
     "output_type": "stream",
     "text": [
      "Checking if the context is sufficient:\n",
      "Full Context:\n",
      "\u001b[32;1m\u001b[1;3molympics has_tags Munich\n",
      "olympics has_tags Miracle\n",
      "olympics has_tags Chariots of Fire\n",
      "olympics has_tags Cool Runnings\n",
      "olympics has_tags The Other Dream Team\n",
      "2008 release_year Asterix at the Olympic Games\n",
      "Lantana has_tags sydney\n",
      "australia has_tags Australia\n",
      "Finding Nemo has_tags sydney\n",
      "Drama has_genre The Country Teacher\n",
      "Drama has_genre Summer Hours\n",
      "australia has_tags $9.99\n",
      "australia has_tags Lantana\n",
      "australia has_tags On the Beach\n",
      "story has_tags Australia\n",
      "Drama has_genre Australia\n",
      "Chopper has_tags australia\n",
      "Drama has_genre Men of Honor\n",
      "Drama has_genre Diamond Men\n",
      "hugh jackman has_tags X-Men\n",
      "nicole kidman has_tags Australia\n",
      "Australia has_tags baz luhrmann\n",
      "hugh jackman has_tags Australia\n",
      "2000 release_year The New Country\n",
      "2000 release_year A Storm in Summer\n",
      "olympics has_tags Munich\n",
      "2008 release_year Australia\n",
      "2000 release_year X-Men\n",
      "Running has_genre Sport\n",
      "Lantana has_tags sydney\n",
      "sydney has_tags Finding Nemo\n",
      "australia has_tags Australia\n",
      "2008 release_year $9.99\n",
      "Drama has_genre Australia\n",
      "story has_tags Australia\n",
      "australia has_tags $9.99\n",
      "australia has_tags Lantana\n",
      "x-men has_tags X-Men\n",
      "Australia has_tags baz luhrmann\n",
      "nicole kidman has_tags Australia\n",
      "hugh jackman has_tags Australia\n",
      "Richard Pearce directed_by Country\n",
      "1984 release_year Country\n",
      "William D. Wittliff written_by Country\n",
      "world war ii has_tags Australia\n",
      "marvel has_tags X-Men\n",
      "franchise has_tags X-Men\n",
      "future has_tags X-Men\n",
      "wolverine has_tags X-Men\n",
      "X-Men has_tags rogue\n",
      "X-Men has_tags rogue\n",
      "BASEketball has_tags sport\n",
      "The Wrestler has_tags sport\n",
      "sport has_tags Bhaag Milkha Bhaag\n",
      "sport has_tags BASEketball\n",
      "The Wrestler has_tags sport\n",
      "Bhaag Milkha Bhaag has_tags sport\n",
      "BASEketball has_tags sport\n",
      "BASEketball has_genre Sport\n",
      "BASEketball has_genre Comedy\n",
      "BASEketball has_tags comedy\n",
      "BASEketball has_tags south park\n",
      "BASEketball has_tags matt stone\n",
      "trey parker has_tags BASEketball\n",
      "david zucker has_tags BASEketball\n",
      "BASEketball starred_actors Yasmine Bleeth\n",
      "BASEketball release_year 1998\n",
      "BASEketball starred_actors Matt Stone\n",
      "Trey Parker starred_actors BASEketball\n",
      "Dian Bachar starred_actors BASEketball\n",
      "David Zucker written_by BASEketball\n",
      "50 First Dates has_tags comedy\n",
      "Drama has_genre The Hi-Lo Country\n",
      "comedy has_tags Summer School\n",
      "1998 release_year Blues Brothers 2000\n",
      "comedy has_tags Smiles of a Summer Night\n",
      "comedy has_tags Matchstick Men\n",
      "comedy has_tags Mystery Men\n",
      "comedy has_tags Real Men\n",
      "Drama has_genre Matchstick Men\n",
      "1998 release_year The Hi-Lo Country\n",
      "1998 release_year A Summer by the River\n",
      "comedy has_tags Grumpier Old Men\n",
      "comedy has_tags Grumpy Old Men\n",
      "comedy has_tags The Men Who Stare at Goats\n",
      "White Men Can't Jump has_tags comedy\n",
      "1998 release_year Safe Men\n",
      "1998 release_year I Still Know What You Did Last Summer\n",
      "comedy has_tags To Be or Not to Be\n",
      "comedy has_tags K-9\n",
      "comedy has_tags RV\n",
      "Bananas has_tags comedy\n",
      "Drama has_genre Midnight\n",
      "comedy has_tags Megamind\n",
      "comedy has_tags The Closet\n",
      "The Croods has_tags comedy\n",
      "comedy has_tags K-9\n",
      "Comedy has_genre K-9\n",
      "Action has_genre K-9\n",
      "Drama has_genre Midnight\n",
      "Comedy has_genre Goats\n",
      "rod daniel has_tags K-9\n",
      "Comedy has_genre Megamind\n",
      "comedy has_tags Megamind\n",
      "Comedy has_genre Midnight\n",
      "comedy has_tags RV\n",
      "Drama has_genre An Education\n",
      "Midnight has_tags paris\n",
      "Machuca has_tags school\n",
      "Comedy has_genre RV\n",
      "Megamind has_tags 3d\n",
      "Megamind has_genre Action\n",
      "RV has_tags vacation\n",
      "Megamind has_tags will ferrell\n",
      "An Education has_tags school\n",
      "Megamind has_tags dreamworks\n",
      "Megamind has_genre Animation\n",
      "Megamind has_tags animated\n",
      "Innocence has_tags school\n",
      "james belushi has_tags K-9\n",
      "Megamind has_tags superhero\u001b[0m\n",
      "Model decision: NO\n",
      "\u001b[32;1m\u001b[1;3mExploring depth: 7\u001b[0m\n"
     ]
    },
    {
     "data": {
      "application/vnd.jupyter.widget-view+json": {
       "model_id": "947c0b5edd034f218cbc36f3b7256fc8",
       "version_major": 2,
       "version_minor": 0
      },
      "text/plain": [
       "Split strings: 0it [00:00, ?it/s]"
      ]
     },
     "metadata": {},
     "output_type": "display_data"
    },
    {
     "data": {
      "application/vnd.jupyter.widget-view+json": {
       "model_id": "672952b0723e415bac32dc3a302e8959",
       "version_major": 2,
       "version_minor": 0
      },
      "text/plain": [
       "Stem Tokens:   0%|          | 0/316 [00:00<?, ?it/s]"
      ]
     },
     "metadata": {},
     "output_type": "display_data"
    },
    {
     "data": {
      "application/vnd.jupyter.widget-view+json": {
       "model_id": "280b74f982014568bc531d81582ff8d1",
       "version_major": 2,
       "version_minor": 0
      },
      "text/plain": [
       "BM25S Count Tokens:   0%|          | 0/316 [00:00<?, ?it/s]"
      ]
     },
     "metadata": {},
     "output_type": "display_data"
    },
    {
     "data": {
      "application/vnd.jupyter.widget-view+json": {
       "model_id": "9e5053a2a21f423692e80e288cff4319",
       "version_major": 2,
       "version_minor": 0
      },
      "text/plain": [
       "BM25S Compute Scores:   0%|          | 0/316 [00:00<?, ?it/s]"
      ]
     },
     "metadata": {},
     "output_type": "display_data"
    },
    {
     "data": {
      "application/vnd.jupyter.widget-view+json": {
       "model_id": "ebf5353242bc4bc7b0d12f6a6eec6fa0",
       "version_major": 2,
       "version_minor": 0
      },
      "text/plain": [
       "Split strings:   0%|          | 0/1 [00:00<?, ?it/s]"
      ]
     },
     "metadata": {},
     "output_type": "display_data"
    },
    {
     "data": {
      "application/vnd.jupyter.widget-view+json": {
       "model_id": "db6d042ad6324bd4817b31a76ce25d87",
       "version_major": 2,
       "version_minor": 0
      },
      "text/plain": [
       "Stem Tokens:   0%|          | 0/1 [00:00<?, ?it/s]"
      ]
     },
     "metadata": {},
     "output_type": "display_data"
    },
    {
     "data": {
      "application/vnd.jupyter.widget-view+json": {
       "model_id": "ee494724a6064a4bac455d3a6b11b303",
       "version_major": 2,
       "version_minor": 0
      },
      "text/plain": [
       "BM25S Retrieve:   0%|          | 0/1 [00:00<?, ?it/s]"
      ]
     },
     "metadata": {},
     "output_type": "display_data"
    },
    {
     "name": "stdout",
     "output_type": "stream",
     "text": [
      "Checking if the context is sufficient:\n",
      "Full Context:\n",
      "\u001b[32;1m\u001b[1;3molympics has_tags Munich\n",
      "olympics has_tags Miracle\n",
      "olympics has_tags Chariots of Fire\n",
      "olympics has_tags Cool Runnings\n",
      "olympics has_tags The Other Dream Team\n",
      "2008 release_year Asterix at the Olympic Games\n",
      "Lantana has_tags sydney\n",
      "australia has_tags Australia\n",
      "Finding Nemo has_tags sydney\n",
      "Drama has_genre The Country Teacher\n",
      "Drama has_genre Summer Hours\n",
      "australia has_tags $9.99\n",
      "australia has_tags Lantana\n",
      "australia has_tags On the Beach\n",
      "story has_tags Australia\n",
      "Drama has_genre Australia\n",
      "Chopper has_tags australia\n",
      "Drama has_genre Men of Honor\n",
      "Drama has_genre Diamond Men\n",
      "hugh jackman has_tags X-Men\n",
      "nicole kidman has_tags Australia\n",
      "Australia has_tags baz luhrmann\n",
      "hugh jackman has_tags Australia\n",
      "2000 release_year The New Country\n",
      "2000 release_year A Storm in Summer\n",
      "olympics has_tags Munich\n",
      "2008 release_year Australia\n",
      "2000 release_year X-Men\n",
      "Running has_genre Sport\n",
      "Lantana has_tags sydney\n",
      "sydney has_tags Finding Nemo\n",
      "australia has_tags Australia\n",
      "2008 release_year $9.99\n",
      "Drama has_genre Australia\n",
      "story has_tags Australia\n",
      "australia has_tags $9.99\n",
      "australia has_tags Lantana\n",
      "x-men has_tags X-Men\n",
      "Australia has_tags baz luhrmann\n",
      "nicole kidman has_tags Australia\n",
      "hugh jackman has_tags Australia\n",
      "Richard Pearce directed_by Country\n",
      "1984 release_year Country\n",
      "William D. Wittliff written_by Country\n",
      "world war ii has_tags Australia\n",
      "marvel has_tags X-Men\n",
      "franchise has_tags X-Men\n",
      "future has_tags X-Men\n",
      "wolverine has_tags X-Men\n",
      "X-Men has_tags rogue\n",
      "X-Men has_tags rogue\n",
      "BASEketball has_tags sport\n",
      "The Wrestler has_tags sport\n",
      "sport has_tags Bhaag Milkha Bhaag\n",
      "sport has_tags BASEketball\n",
      "The Wrestler has_tags sport\n",
      "Bhaag Milkha Bhaag has_tags sport\n",
      "BASEketball has_tags sport\n",
      "BASEketball has_genre Sport\n",
      "BASEketball has_genre Comedy\n",
      "BASEketball has_tags comedy\n",
      "BASEketball has_tags south park\n",
      "BASEketball has_tags matt stone\n",
      "trey parker has_tags BASEketball\n",
      "david zucker has_tags BASEketball\n",
      "BASEketball starred_actors Yasmine Bleeth\n",
      "BASEketball release_year 1998\n",
      "BASEketball starred_actors Matt Stone\n",
      "Trey Parker starred_actors BASEketball\n",
      "Dian Bachar starred_actors BASEketball\n",
      "David Zucker written_by BASEketball\n",
      "50 First Dates has_tags comedy\n",
      "Drama has_genre The Hi-Lo Country\n",
      "comedy has_tags Summer School\n",
      "1998 release_year Blues Brothers 2000\n",
      "comedy has_tags Smiles of a Summer Night\n",
      "comedy has_tags Matchstick Men\n",
      "comedy has_tags Mystery Men\n",
      "comedy has_tags Real Men\n",
      "Drama has_genre Matchstick Men\n",
      "1998 release_year The Hi-Lo Country\n",
      "1998 release_year A Summer by the River\n",
      "comedy has_tags Grumpier Old Men\n",
      "comedy has_tags Grumpy Old Men\n",
      "comedy has_tags The Men Who Stare at Goats\n",
      "White Men Can't Jump has_tags comedy\n",
      "1998 release_year Safe Men\n",
      "1998 release_year I Still Know What You Did Last Summer\n",
      "comedy has_tags To Be or Not to Be\n",
      "comedy has_tags K-9\n",
      "comedy has_tags RV\n",
      "Bananas has_tags comedy\n",
      "Drama has_genre Midnight\n",
      "comedy has_tags Megamind\n",
      "comedy has_tags The Closet\n",
      "The Croods has_tags comedy\n",
      "comedy has_tags K-9\n",
      "Comedy has_genre K-9\n",
      "Action has_genre K-9\n",
      "Drama has_genre Midnight\n",
      "Comedy has_genre Goats\n",
      "rod daniel has_tags K-9\n",
      "Comedy has_genre Megamind\n",
      "comedy has_tags Megamind\n",
      "Comedy has_genre Midnight\n",
      "comedy has_tags RV\n",
      "Drama has_genre An Education\n",
      "Midnight has_tags paris\n",
      "Machuca has_tags school\n",
      "Comedy has_genre RV\n",
      "Megamind has_tags 3d\n",
      "Megamind has_genre Action\n",
      "RV has_tags vacation\n",
      "Megamind has_tags will ferrell\n",
      "An Education has_tags school\n",
      "Megamind has_tags dreamworks\n",
      "Megamind has_genre Animation\n",
      "Megamind has_tags animated\n",
      "Innocence has_tags school\n",
      "james belushi has_tags K-9\n",
      "Megamind has_tags superhero\n",
      "First Blood has_tags action\n",
      "3d has_tags Men in Black 3\n",
      "Mystery Men has_tags superheroes\n",
      "Men in Black has_tags action\n",
      "Men in Black 3 has_tags action\n",
      "2008 release_year Transporter 3\n",
      "2008 release_year Rambo\n",
      "Wanted release_year 2008\n",
      "2008 release_year Taken\n",
      "Paris release_year 2008\n",
      "Ip Man release_year 2008\n",
      "Quantum of Solace release_year 2008\n",
      "2008 release_year Iron Man\n",
      "Kung Fu Panda release_year 2008\n",
      "Journey to the Center of the Earth release_year 2008\n",
      "Olympus Has Fallen has_tags action\n",
      "action has_tags S.W.A.T.\n",
      "The Net has_tags action\n",
      "3d has_tags Pina\n",
      "3d has_tags Beowulf\n",
      "The A-Team has_tags action\n",
      "The One has_tags action\n",
      "3d has_tags Avatar\n",
      "Wanted has_tags action\n",
      "Sahara has_tags action\u001b[0m\n",
      "Model decision: NO\n",
      "\u001b[32;1m\u001b[1;3mExploring depth: 8\u001b[0m\n"
     ]
    },
    {
     "data": {
      "application/vnd.jupyter.widget-view+json": {
       "model_id": "9897e3458f374248a1e11846ee0384e9",
       "version_major": 2,
       "version_minor": 0
      },
      "text/plain": [
       "Split strings: 0it [00:00, ?it/s]"
      ]
     },
     "metadata": {},
     "output_type": "display_data"
    },
    {
     "data": {
      "application/vnd.jupyter.widget-view+json": {
       "model_id": "3bce95f6f86f4c5c8bc42c279b8f1ef1",
       "version_major": 2,
       "version_minor": 0
      },
      "text/plain": [
       "Stem Tokens:   0%|          | 0/824 [00:00<?, ?it/s]"
      ]
     },
     "metadata": {},
     "output_type": "display_data"
    },
    {
     "data": {
      "application/vnd.jupyter.widget-view+json": {
       "model_id": "cad2d4e84af840e5964f6c5fc755af0d",
       "version_major": 2,
       "version_minor": 0
      },
      "text/plain": [
       "BM25S Count Tokens:   0%|          | 0/824 [00:00<?, ?it/s]"
      ]
     },
     "metadata": {},
     "output_type": "display_data"
    },
    {
     "data": {
      "application/vnd.jupyter.widget-view+json": {
       "model_id": "634e97210b51425690a90682b9ecf663",
       "version_major": 2,
       "version_minor": 0
      },
      "text/plain": [
       "BM25S Compute Scores:   0%|          | 0/824 [00:00<?, ?it/s]"
      ]
     },
     "metadata": {},
     "output_type": "display_data"
    },
    {
     "data": {
      "application/vnd.jupyter.widget-view+json": {
       "model_id": "c837931d8bcd468a825764edc65d5ad2",
       "version_major": 2,
       "version_minor": 0
      },
      "text/plain": [
       "Split strings:   0%|          | 0/1 [00:00<?, ?it/s]"
      ]
     },
     "metadata": {},
     "output_type": "display_data"
    },
    {
     "data": {
      "application/vnd.jupyter.widget-view+json": {
       "model_id": "f48f389c8da44582af6e7720aa921323",
       "version_major": 2,
       "version_minor": 0
      },
      "text/plain": [
       "Stem Tokens:   0%|          | 0/1 [00:00<?, ?it/s]"
      ]
     },
     "metadata": {},
     "output_type": "display_data"
    },
    {
     "data": {
      "application/vnd.jupyter.widget-view+json": {
       "model_id": "78ac452285de4ced913dd86e969db31d",
       "version_major": 2,
       "version_minor": 0
      },
      "text/plain": [
       "BM25S Retrieve:   0%|          | 0/1 [00:00<?, ?it/s]"
      ]
     },
     "metadata": {},
     "output_type": "display_data"
    },
    {
     "name": "stdout",
     "output_type": "stream",
     "text": [
      "Checking if the context is sufficient:\n",
      "Full Context:\n",
      "\u001b[32;1m\u001b[1;3molympics has_tags Munich\n",
      "olympics has_tags Miracle\n",
      "olympics has_tags Chariots of Fire\n",
      "olympics has_tags Cool Runnings\n",
      "olympics has_tags The Other Dream Team\n",
      "2008 release_year Asterix at the Olympic Games\n",
      "Lantana has_tags sydney\n",
      "australia has_tags Australia\n",
      "Finding Nemo has_tags sydney\n",
      "Drama has_genre The Country Teacher\n",
      "Drama has_genre Summer Hours\n",
      "australia has_tags $9.99\n",
      "australia has_tags Lantana\n",
      "australia has_tags On the Beach\n",
      "story has_tags Australia\n",
      "Drama has_genre Australia\n",
      "Chopper has_tags australia\n",
      "Drama has_genre Men of Honor\n",
      "Drama has_genre Diamond Men\n",
      "hugh jackman has_tags X-Men\n",
      "nicole kidman has_tags Australia\n",
      "Australia has_tags baz luhrmann\n",
      "hugh jackman has_tags Australia\n",
      "2000 release_year The New Country\n",
      "2000 release_year A Storm in Summer\n",
      "olympics has_tags Munich\n",
      "2008 release_year Australia\n",
      "2000 release_year X-Men\n",
      "Running has_genre Sport\n",
      "Lantana has_tags sydney\n",
      "sydney has_tags Finding Nemo\n",
      "australia has_tags Australia\n",
      "2008 release_year $9.99\n",
      "Drama has_genre Australia\n",
      "story has_tags Australia\n",
      "australia has_tags $9.99\n",
      "australia has_tags Lantana\n",
      "x-men has_tags X-Men\n",
      "Australia has_tags baz luhrmann\n",
      "nicole kidman has_tags Australia\n",
      "hugh jackman has_tags Australia\n",
      "Richard Pearce directed_by Country\n",
      "1984 release_year Country\n",
      "William D. Wittliff written_by Country\n",
      "world war ii has_tags Australia\n",
      "marvel has_tags X-Men\n",
      "franchise has_tags X-Men\n",
      "future has_tags X-Men\n",
      "wolverine has_tags X-Men\n",
      "X-Men has_tags rogue\n",
      "X-Men has_tags rogue\n",
      "BASEketball has_tags sport\n",
      "The Wrestler has_tags sport\n",
      "sport has_tags Bhaag Milkha Bhaag\n",
      "sport has_tags BASEketball\n",
      "The Wrestler has_tags sport\n",
      "Bhaag Milkha Bhaag has_tags sport\n",
      "BASEketball has_tags sport\n",
      "BASEketball has_genre Sport\n",
      "BASEketball has_genre Comedy\n",
      "BASEketball has_tags comedy\n",
      "BASEketball has_tags south park\n",
      "BASEketball has_tags matt stone\n",
      "trey parker has_tags BASEketball\n",
      "david zucker has_tags BASEketball\n",
      "BASEketball starred_actors Yasmine Bleeth\n",
      "BASEketball release_year 1998\n",
      "BASEketball starred_actors Matt Stone\n",
      "Trey Parker starred_actors BASEketball\n",
      "Dian Bachar starred_actors BASEketball\n",
      "David Zucker written_by BASEketball\n",
      "50 First Dates has_tags comedy\n",
      "Drama has_genre The Hi-Lo Country\n",
      "comedy has_tags Summer School\n",
      "1998 release_year Blues Brothers 2000\n",
      "comedy has_tags Smiles of a Summer Night\n",
      "comedy has_tags Matchstick Men\n",
      "comedy has_tags Mystery Men\n",
      "comedy has_tags Real Men\n",
      "Drama has_genre Matchstick Men\n",
      "1998 release_year The Hi-Lo Country\n",
      "1998 release_year A Summer by the River\n",
      "comedy has_tags Grumpier Old Men\n",
      "comedy has_tags Grumpy Old Men\n",
      "comedy has_tags The Men Who Stare at Goats\n",
      "White Men Can't Jump has_tags comedy\n",
      "1998 release_year Safe Men\n",
      "1998 release_year I Still Know What You Did Last Summer\n",
      "comedy has_tags To Be or Not to Be\n",
      "comedy has_tags K-9\n",
      "comedy has_tags RV\n",
      "Bananas has_tags comedy\n",
      "Drama has_genre Midnight\n",
      "comedy has_tags Megamind\n",
      "comedy has_tags The Closet\n",
      "The Croods has_tags comedy\n",
      "comedy has_tags K-9\n",
      "Comedy has_genre K-9\n",
      "Action has_genre K-9\n",
      "Drama has_genre Midnight\n",
      "Comedy has_genre Goats\n",
      "rod daniel has_tags K-9\n",
      "Comedy has_genre Megamind\n",
      "comedy has_tags Megamind\n",
      "Comedy has_genre Midnight\n",
      "comedy has_tags RV\n",
      "Drama has_genre An Education\n",
      "Midnight has_tags paris\n",
      "Machuca has_tags school\n",
      "Comedy has_genre RV\n",
      "Megamind has_tags 3d\n",
      "Megamind has_genre Action\n",
      "RV has_tags vacation\n",
      "Megamind has_tags will ferrell\n",
      "An Education has_tags school\n",
      "Megamind has_tags dreamworks\n",
      "Megamind has_genre Animation\n",
      "Megamind has_tags animated\n",
      "Innocence has_tags school\n",
      "james belushi has_tags K-9\n",
      "Megamind has_tags superhero\n",
      "First Blood has_tags action\n",
      "3d has_tags Men in Black 3\n",
      "Mystery Men has_tags superheroes\n",
      "Men in Black has_tags action\n",
      "Men in Black 3 has_tags action\n",
      "2008 release_year Transporter 3\n",
      "2008 release_year Rambo\n",
      "Wanted release_year 2008\n",
      "2008 release_year Taken\n",
      "Paris release_year 2008\n",
      "Ip Man release_year 2008\n",
      "Quantum of Solace release_year 2008\n",
      "2008 release_year Iron Man\n",
      "Kung Fu Panda release_year 2008\n",
      "Journey to the Center of the Earth release_year 2008\n",
      "Olympus Has Fallen has_tags action\n",
      "action has_tags S.W.A.T.\n",
      "The Net has_tags action\n",
      "3d has_tags Pina\n",
      "3d has_tags Beowulf\n",
      "The A-Team has_tags action\n",
      "The One has_tags action\n",
      "3d has_tags Avatar\n",
      "Wanted has_tags action\n",
      "Sahara has_tags action\n",
      "Men in Black 3 has_tags action\n",
      "Men in Black 3 has_tags 3d\n",
      "superheroes has_tags Mystery Men\n",
      "Action has_genre Men in Black 3\n",
      "action has_tags Men in Black\n",
      "Thriller has_genre First Blood\n",
      "Action has_genre First Blood\n",
      "First Blood has_tags action\n",
      "2008 release_year Rambo\n",
      "2008 release_year Transporter 3\n",
      "2008 release_year Taken\n",
      "2008 release_year Wanted\n",
      "1999 release_year Mystery Men\n",
      "First Blood written_by David Morrell\n",
      "First Blood has_tags sylvester stallone\n",
      "2008 release_year Quantum of Solace\n",
      "2008 release_year Ip Man\n",
      "2008 release_year Iron Man\n",
      "First Blood starred_actors Sylvester Stallone\n",
      "2008 release_year Kung Fu Panda\n",
      "action has_tags Olympus Has Fallen\n",
      "Action has_genre Olympus Has Fallen\n",
      "r has_tags Troy\n",
      "r has_tags Wanted\n",
      "Action has_genre S.W.A.T.\u001b[0m\n",
      "Model decision: NO\n",
      "\u001b[32;1m\u001b[1;3mExploring depth: 9\u001b[0m\n"
     ]
    },
    {
     "data": {
      "application/vnd.jupyter.widget-view+json": {
       "model_id": "f416a7ca3316442eaa0918752e480e96",
       "version_major": 2,
       "version_minor": 0
      },
      "text/plain": [
       "Split strings: 0it [00:00, ?it/s]"
      ]
     },
     "metadata": {},
     "output_type": "display_data"
    },
    {
     "data": {
      "application/vnd.jupyter.widget-view+json": {
       "model_id": "ca3e2c3d477c4bafa1d67fb24683ee86",
       "version_major": 2,
       "version_minor": 0
      },
      "text/plain": [
       "Stem Tokens:   0%|          | 0/56 [00:00<?, ?it/s]"
      ]
     },
     "metadata": {},
     "output_type": "display_data"
    },
    {
     "data": {
      "application/vnd.jupyter.widget-view+json": {
       "model_id": "cc3d0a430c944c8ebb18e7f138d7ebd7",
       "version_major": 2,
       "version_minor": 0
      },
      "text/plain": [
       "BM25S Count Tokens:   0%|          | 0/56 [00:00<?, ?it/s]"
      ]
     },
     "metadata": {},
     "output_type": "display_data"
    },
    {
     "data": {
      "application/vnd.jupyter.widget-view+json": {
       "model_id": "8135e7f4be814fc092b58a69f143f50c",
       "version_major": 2,
       "version_minor": 0
      },
      "text/plain": [
       "BM25S Compute Scores:   0%|          | 0/56 [00:00<?, ?it/s]"
      ]
     },
     "metadata": {},
     "output_type": "display_data"
    },
    {
     "data": {
      "application/vnd.jupyter.widget-view+json": {
       "model_id": "692bee28dcfa4e51a118cba038eaca3e",
       "version_major": 2,
       "version_minor": 0
      },
      "text/plain": [
       "Split strings:   0%|          | 0/1 [00:00<?, ?it/s]"
      ]
     },
     "metadata": {},
     "output_type": "display_data"
    },
    {
     "data": {
      "application/vnd.jupyter.widget-view+json": {
       "model_id": "8746697849cc4a7b874868989e7575e4",
       "version_major": 2,
       "version_minor": 0
      },
      "text/plain": [
       "Stem Tokens:   0%|          | 0/1 [00:00<?, ?it/s]"
      ]
     },
     "metadata": {},
     "output_type": "display_data"
    },
    {
     "data": {
      "application/vnd.jupyter.widget-view+json": {
       "model_id": "2e22b49d77b04ea28f2b4320bebb3f80",
       "version_major": 2,
       "version_minor": 0
      },
      "text/plain": [
       "BM25S Retrieve:   0%|          | 0/1 [00:00<?, ?it/s]"
      ]
     },
     "metadata": {},
     "output_type": "display_data"
    },
    {
     "name": "stdout",
     "output_type": "stream",
     "text": [
      "Checking if the context is sufficient:\n",
      "Full Context:\n",
      "\u001b[32;1m\u001b[1;3molympics has_tags Munich\n",
      "olympics has_tags Miracle\n",
      "olympics has_tags Chariots of Fire\n",
      "olympics has_tags Cool Runnings\n",
      "olympics has_tags The Other Dream Team\n",
      "2008 release_year Asterix at the Olympic Games\n",
      "Lantana has_tags sydney\n",
      "australia has_tags Australia\n",
      "Finding Nemo has_tags sydney\n",
      "Drama has_genre The Country Teacher\n",
      "Drama has_genre Summer Hours\n",
      "australia has_tags $9.99\n",
      "australia has_tags Lantana\n",
      "australia has_tags On the Beach\n",
      "story has_tags Australia\n",
      "Drama has_genre Australia\n",
      "Chopper has_tags australia\n",
      "Drama has_genre Men of Honor\n",
      "Drama has_genre Diamond Men\n",
      "hugh jackman has_tags X-Men\n",
      "nicole kidman has_tags Australia\n",
      "Australia has_tags baz luhrmann\n",
      "hugh jackman has_tags Australia\n",
      "2000 release_year The New Country\n",
      "2000 release_year A Storm in Summer\n",
      "olympics has_tags Munich\n",
      "2008 release_year Australia\n",
      "2000 release_year X-Men\n",
      "Running has_genre Sport\n",
      "Lantana has_tags sydney\n",
      "sydney has_tags Finding Nemo\n",
      "australia has_tags Australia\n",
      "2008 release_year $9.99\n",
      "Drama has_genre Australia\n",
      "story has_tags Australia\n",
      "australia has_tags $9.99\n",
      "australia has_tags Lantana\n",
      "x-men has_tags X-Men\n",
      "Australia has_tags baz luhrmann\n",
      "nicole kidman has_tags Australia\n",
      "hugh jackman has_tags Australia\n",
      "Richard Pearce directed_by Country\n",
      "1984 release_year Country\n",
      "William D. Wittliff written_by Country\n",
      "world war ii has_tags Australia\n",
      "marvel has_tags X-Men\n",
      "franchise has_tags X-Men\n",
      "future has_tags X-Men\n",
      "wolverine has_tags X-Men\n",
      "X-Men has_tags rogue\n",
      "X-Men has_tags rogue\n",
      "BASEketball has_tags sport\n",
      "The Wrestler has_tags sport\n",
      "sport has_tags Bhaag Milkha Bhaag\n",
      "sport has_tags BASEketball\n",
      "The Wrestler has_tags sport\n",
      "Bhaag Milkha Bhaag has_tags sport\n",
      "BASEketball has_tags sport\n",
      "BASEketball has_genre Sport\n",
      "BASEketball has_genre Comedy\n",
      "BASEketball has_tags comedy\n",
      "BASEketball has_tags south park\n",
      "BASEketball has_tags matt stone\n",
      "trey parker has_tags BASEketball\n",
      "david zucker has_tags BASEketball\n",
      "BASEketball starred_actors Yasmine Bleeth\n",
      "BASEketball release_year 1998\n",
      "BASEketball starred_actors Matt Stone\n",
      "Trey Parker starred_actors BASEketball\n",
      "Dian Bachar starred_actors BASEketball\n",
      "David Zucker written_by BASEketball\n",
      "50 First Dates has_tags comedy\n",
      "Drama has_genre The Hi-Lo Country\n",
      "comedy has_tags Summer School\n",
      "1998 release_year Blues Brothers 2000\n",
      "comedy has_tags Smiles of a Summer Night\n",
      "comedy has_tags Matchstick Men\n",
      "comedy has_tags Mystery Men\n",
      "comedy has_tags Real Men\n",
      "Drama has_genre Matchstick Men\n",
      "1998 release_year The Hi-Lo Country\n",
      "1998 release_year A Summer by the River\n",
      "comedy has_tags Grumpier Old Men\n",
      "comedy has_tags Grumpy Old Men\n",
      "comedy has_tags The Men Who Stare at Goats\n",
      "White Men Can't Jump has_tags comedy\n",
      "1998 release_year Safe Men\n",
      "1998 release_year I Still Know What You Did Last Summer\n",
      "comedy has_tags To Be or Not to Be\n",
      "comedy has_tags K-9\n",
      "comedy has_tags RV\n",
      "Bananas has_tags comedy\n",
      "Drama has_genre Midnight\n",
      "comedy has_tags Megamind\n",
      "comedy has_tags The Closet\n",
      "The Croods has_tags comedy\n",
      "comedy has_tags K-9\n",
      "Comedy has_genre K-9\n",
      "Action has_genre K-9\n",
      "Drama has_genre Midnight\n",
      "Comedy has_genre Goats\n",
      "rod daniel has_tags K-9\n",
      "Comedy has_genre Megamind\n",
      "comedy has_tags Megamind\n",
      "Comedy has_genre Midnight\n",
      "comedy has_tags RV\n",
      "Drama has_genre An Education\n",
      "Midnight has_tags paris\n",
      "Machuca has_tags school\n",
      "Comedy has_genre RV\n",
      "Megamind has_tags 3d\n",
      "Megamind has_genre Action\n",
      "RV has_tags vacation\n",
      "Megamind has_tags will ferrell\n",
      "An Education has_tags school\n",
      "Megamind has_tags dreamworks\n",
      "Megamind has_genre Animation\n",
      "Megamind has_tags animated\n",
      "Innocence has_tags school\n",
      "james belushi has_tags K-9\n",
      "Megamind has_tags superhero\n",
      "First Blood has_tags action\n",
      "3d has_tags Men in Black 3\n",
      "Mystery Men has_tags superheroes\n",
      "Men in Black has_tags action\n",
      "Men in Black 3 has_tags action\n",
      "2008 release_year Transporter 3\n",
      "2008 release_year Rambo\n",
      "Wanted release_year 2008\n",
      "2008 release_year Taken\n",
      "Paris release_year 2008\n",
      "Ip Man release_year 2008\n",
      "Quantum of Solace release_year 2008\n",
      "2008 release_year Iron Man\n",
      "Kung Fu Panda release_year 2008\n",
      "Journey to the Center of the Earth release_year 2008\n",
      "Olympus Has Fallen has_tags action\n",
      "action has_tags S.W.A.T.\n",
      "The Net has_tags action\n",
      "3d has_tags Pina\n",
      "3d has_tags Beowulf\n",
      "The A-Team has_tags action\n",
      "The One has_tags action\n",
      "3d has_tags Avatar\n",
      "Wanted has_tags action\n",
      "Sahara has_tags action\n",
      "Men in Black 3 has_tags action\n",
      "Men in Black 3 has_tags 3d\n",
      "superheroes has_tags Mystery Men\n",
      "Action has_genre Men in Black 3\n",
      "action has_tags Men in Black\n",
      "Thriller has_genre First Blood\n",
      "Action has_genre First Blood\n",
      "First Blood has_tags action\n",
      "2008 release_year Rambo\n",
      "2008 release_year Transporter 3\n",
      "2008 release_year Taken\n",
      "2008 release_year Wanted\n",
      "1999 release_year Mystery Men\n",
      "First Blood written_by David Morrell\n",
      "First Blood has_tags sylvester stallone\n",
      "2008 release_year Quantum of Solace\n",
      "2008 release_year Ip Man\n",
      "2008 release_year Iron Man\n",
      "First Blood starred_actors Sylvester Stallone\n",
      "2008 release_year Kung Fu Panda\n",
      "action has_tags Olympus Has Fallen\n",
      "Action has_genre Olympus Has Fallen\n",
      "r has_tags Troy\n",
      "r has_tags Wanted\n",
      "Action has_genre S.W.A.T.\n",
      "r has_tags Troy\n",
      "Nighthawks has_tags stallone\n",
      "action has_tags Troy\n",
      "Troy has_genre Adventure\n",
      "The Warlords has_tags blood\n",
      "epic has_tags Troy\n",
      "homer has_tags Troy\n",
      "epic has_tags The Warlords\n",
      "war has_tags Troy\n",
      "war has_tags The Warlords\n",
      "Rocky has_genre Drama\n",
      "Rocky has_tags stallone\n",
      "Fallen has_genre Crime\n",
      "Black has_genre Drama\n",
      "Fallen has_tags supernatural\n",
      "blood has_tags Daybreakers\n",
      "Fallen has_tags john goodman\n",
      "orlando bloom has_tags Troy\n",
      "Drama has_genre Schindler's List\n",
      "Troy has_tags brad pitt\n",
      "stallone has_tags Judge Dredd\n",
      "Troy has_tags eric bana\n",
      "epic has_tags Schindler's List\n",
      "Crime has_genre Judge Dredd\n",
      "Cop Land has_genre Crime\u001b[0m\n",
      "Model decision: NO\n",
      "\n",
      "\u001b[1m> Finished chain.\u001b[0m\n"
     ]
    },
    {
     "data": {
      "text/plain": [
       "{'query': \"Triathlon has been an Olympic sport since the 2000 Summer Olympics in Sydney, Australia. Which country has won the most medals in the men's event in the first 3 Olympiads to 2008?\",\n",
       " 'result': 'Australia, USA, Germany'}"
      ]
     },
     "execution_count": 38,
     "metadata": {},
     "output_type": "execute_result"
    }
   ],
   "source": [
    "chain = ToGChain.from_llm(\n",
    "    llm=mistral,\n",
    "    graph=metaqa_graph,\n",
    "    verbose=True,\n",
    ")\n",
    "chain.invoke(q)"
   ]
  }
 ],
 "metadata": {
  "kernelspec": {
   "display_name": "Python 3 (ipykernel)",
   "language": "python",
   "name": "python3"
  },
  "language_info": {
   "codemirror_mode": {
    "name": "ipython",
    "version": 3
   },
   "file_extension": ".py",
   "mimetype": "text/x-python",
   "name": "python",
   "nbconvert_exporter": "python",
   "pygments_lexer": "ipython3",
   "version": "3.11.10"
  }
 },
 "nbformat": 4,
 "nbformat_minor": 2
}
