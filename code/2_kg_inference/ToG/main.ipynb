{
 "cells": [
  {
   "cell_type": "code",
   "execution_count": 1,
   "metadata": {},
   "outputs": [],
   "source": [
    "%load_ext autoreload\n",
    "%autoreload 2"
   ]
  },
  {
   "cell_type": "code",
   "execution_count": 64,
   "metadata": {},
   "outputs": [],
   "source": [
    "import gc\n",
    "import re\n",
    "import csv\n",
    "import os\n",
    "import torch\n",
    "import Stemmer\n",
    "import pandas as pd\n",
    "from tqdm import tqdm\n",
    "from typing import Any, Dict, Iterator, List, Mapping, Optional\n",
    "from langchain_core.callbacks.manager import CallbackManagerForChainRun\n",
    "from langchain_core.language_models import BaseLanguageModel\n",
    "from langchain_core.prompts import BasePromptTemplate\n",
    "from langchain_community.graphs.networkx_graph import get_entities\n",
    "from langchain.chains import GraphQAChain\n",
    "from langchain.chains.llm import LLMChain\n",
    "import bm25s\n",
    "import heapq\n",
    "import networkx as nx\n",
    "from utils.preprocessing import stemmer, preprocess_text\n",
    "from utils.graph import KGraphPreproc\n",
    "from utils.llm.mistral import MistralLLM\n",
    "from utils.prompt import GRAPH_QA_PROMPT, ENTITY_PROMPT, NO_CONTEXT_PROMPT, EVALUATE_CONTEXT_PROMPT, RERANK_TRIPLETS_PROMPT, RERANK_CANDIDATE_ENTITIES_PROMPT"
   ]
  },
  {
   "cell_type": "markdown",
   "metadata": {},
   "source": [
    "# ToG Algorithm pseudocode\n",
    "given a list of entities $E^{D-1}$:\n",
    "1. Select all relations $R^D$\n",
    "2. Select top-N relevant $E^{D-1}$-$R^D$-? | ?-$R^D$-$E^{D-1}$\n",
    "3. Extend P by top-N paths\n",
    "4. Decide if enough to answer the question (YES/NO)\n",
    "5. Repeat (NO), return (YES)\n"
   ]
  },
  {
   "cell_type": "code",
   "execution_count": 1,
   "metadata": {},
   "outputs": [
    {
     "data": {
      "text/plain": [
       "{4, 5}"
      ]
     },
     "execution_count": 1,
     "metadata": {},
     "output_type": "execute_result"
    }
   ],
   "source": [
    "a = set([1,2,3])\n",
    "b = set([3,4,5])\n",
    "b.difference(a)"
   ]
  },
  {
   "cell_type": "code",
   "execution_count": 29,
   "metadata": {},
   "outputs": [],
   "source": [
    "class ToGChain(GraphQAChain):\n",
    "    max_exploration_depth: int = 10\n",
    "    beam_width: int = 25\n",
    "    max_triplets: int = 250\n",
    "    plain_qa_chain: LLMChain\n",
    "    evaluate_context_chain: LLMChain\n",
    "\n",
    "    def tog_answer(self, question):\n",
    "        \"\"\"\n",
    "        Think-on-Graph QA implementation\n",
    "        \"\"\"\n",
    "        explored_entities = set()\n",
    "        P = [\n",
    "            # step: [triplet1, ...], \n",
    "        ] # max_depth X beam_width\n",
    "        max_depth = self.max_exploration_depth\n",
    "        beam_width = self.beam_width\n",
    "\n",
    "        # init entities from question        \n",
    "        extracted_entities = set(\n",
    "            self.extract_entities(question)\n",
    "        )\n",
    "        unexplored_entities = extracted_entities.difference(explored_entities)\n",
    "        explored_entities.update(unexplored_entities)\n",
    "        # extract all triplets and rank them\n",
    "        triplets = self.extract_triplets(unexplored_entities)\n",
    "        # ranked_triplets: list[triplet]\n",
    "        ranked_triplets = self.rerank_triplets_bm25(question, triplets, top_k=beam_width)\n",
    "        # extend the paths by next step\n",
    "        P.append(ranked_triplets)\n",
    "\n",
    "        # check at least one path to explore is initialised\n",
    "        if len(P[0]):\n",
    "            for depth in range(1, max_depth):\n",
    "                self._run_manager.on_text(f\"Exploring depth: {depth}\", color=\"green\", end=\"\\n\", verbose=self.verbose)\n",
    "                ######## Extraction\n",
    "                tail_entities = set()\n",
    "                for t in P[depth-1]:\n",
    "                    tail_entities.add(t.split()[-1])\n",
    "                # select unexplored tails and update\n",
    "                unexplored_entities = tail_entities.difference(explored_entities)\n",
    "                explored_entities.update(unexplored_entities)\n",
    "                # extract and rank triplets\n",
    "                triplets = self.extract_triplets(unexplored_entities)\n",
    "                ranked_triplets = self.rerank_triplets_bm25(question, triplets, top_k=beam_width)\n",
    "                # extend the paths by next step\n",
    "                P.append(ranked_triplets)\n",
    "                ######## Reasoning\n",
    "                is_enough = self.check_enough_context_to_answer(question, reasoning_chain=P)\n",
    "                if is_enough:\n",
    "                    return self.generate_answer_with_context(question, reasoning_chain=P)\n",
    "                else:\n",
    "                    continue\n",
    "        # otherwise, use internal knowledge\n",
    "        return self.generate_answer_no_context(question)\n",
    "    \n",
    "    #### GRAPH OPEATIONS AND RANKING\n",
    "\n",
    "    def rerank_triplets_llm(self, question, triplets, top_k=max_triplets):\n",
    "        top_triplets = []\n",
    "        min_heap = []\n",
    "        for triplet_portion in triplets[::top_k]:\n",
    "            self.\n",
    "\n",
    "    def extract_triplets(self, entities, depth=1):\n",
    "        subgraph_entities = set()\n",
    "        for entity in entities:\n",
    "            processed_entity = preprocess_text(entity)\n",
    "            node = self.graph.preprocessed_nodes.get(processed_entity)\n",
    "            if node is None:\n",
    "                continue\n",
    "            bfs_nodes = nx.single_source_shortest_path_length(\n",
    "                self.graph._graph,\n",
    "                node,\n",
    "                cutoff=depth\n",
    "            ).keys()\n",
    "            subgraph_entities.update(bfs_nodes)\n",
    "        subgraph = self.graph._graph.subgraph(subgraph_entities)\n",
    "        # \n",
    "        triplets = []\n",
    "        mid2name_dict = self.graph.mid2name\n",
    "        for head, tail, attrs in subgraph.edges(data=True):\n",
    "            rel = attrs.get(\"relation\", None)\n",
    "            if head and rel and tail:\n",
    "                triplets.append(\n",
    "                    f\"{mid2name_dict.get(head, '')} {rel} {mid2name_dict.get(tail, '')}\"\n",
    "                )\n",
    "        return triplets\n",
    "\n",
    "    \n",
    "    #### PROMPTING AND CHAINS\n",
    "\n",
    "    def generate_answer_with_context(self, question, reasoning_chain):\n",
    "        context = \"\\n\".join([\"\\n\".join(chain) for chain in reasoning_chain])\n",
    "        self._run_manager.on_text(\"Full Context:\", end=\"\\n\", verbose=self.verbose)\n",
    "        self._run_manager.on_text(context, color=\"green\", end=\"\\n\", verbose=self.verbose)\n",
    "        return self.qa_chain(\n",
    "            {\"question\": question, \"context\": context},\n",
    "            callbacks=self._run_manager.get_child(),\n",
    "        )\n",
    "    \n",
    "    def generate_answer_no_context(self, question):\n",
    "        return self.plain_qa_chain(\n",
    "            {\"question\": question},\n",
    "            callbacks=self._run_manager.get_child(),\n",
    "        )\n",
    "    \n",
    "    def check_enough_context_to_answer(self, question, reasoning_chain):\n",
    "        context = \"\\n\".join([\"\\n\".join(chain) for chain in reasoning_chain])\n",
    "        self._run_manager.on_text(\"Checking if the context is sufficient:\", end=\"\\n\", verbose=self.verbose)\n",
    "        self._run_manager.on_text(\"Full Context:\", end=\"\\n\", verbose=self.verbose)\n",
    "        self._run_manager.on_text(context, color=\"green\", end=\"\\n\", verbose=self.verbose)\n",
    "        answer = self.evaluate_context_chain(\n",
    "            {\"question\": question, \"context\": context},\n",
    "            callbacks=self._run_manager.get_child(),\n",
    "        )\n",
    "        self._run_manager.on_text(f\"Model decision: {answer['text']}\", end=\"\\n\", verbose=self.verbose)\n",
    "        if \"yes\" in answer[\"text\"].strip().lower():\n",
    "            return True\n",
    "        return False\n",
    "\n",
    "    def extract_entities(self, string):\n",
    "        entity_string = self.entity_extraction_chain.run(string)\n",
    "        self._run_manager.on_text(\"Entities Extracted:\", end=\"\\n\", verbose=self.verbose)\n",
    "        self._run_manager.on_text(\n",
    "            entity_string, color=\"green\", end=\"\\n\", verbose=self.verbose\n",
    "        )\n",
    "        entities = get_entities(entity_string)\n",
    "        return entities\n",
    "\n",
    "    #### INITIALIZATION AND INVOKATION\n",
    "\n",
    "    def _call(\n",
    "        self,\n",
    "        inputs: Dict[str, Any],\n",
    "        run_manager: Optional[CallbackManagerForChainRun] = None,\n",
    "    ) -> Dict[str, str]:\n",
    "        \"\"\"Extract entities, look up info and answer question.\"\"\"\n",
    "        _run_manager = run_manager or CallbackManagerForChainRun.get_noop_manager()\n",
    "        self._run_manager = _run_manager\n",
    "        question = inputs[self.input_key]        \n",
    "        # \n",
    "        result = self.tog_answer(question)\n",
    "        return {self.output_key: result[self.qa_chain.output_key]}\n",
    "    \n",
    "    @classmethod\n",
    "    def from_llm(\n",
    "        cls,\n",
    "        llm: BaseLanguageModel,\n",
    "        qa_prompt: BasePromptTemplate = GRAPH_QA_PROMPT,\n",
    "        qa_no_context_prompt: BasePromptTemplate = NO_CONTEXT_PROMPT,\n",
    "        evaluate_context_prompt: BasePromptTemplate = EVALUATE_CONTEXT_PROMPT,\n",
    "        entity_prompt: BasePromptTemplate = ENTITY_PROMPT,\n",
    "        **kwargs: Any,\n",
    "    ) -> GraphQAChain:\n",
    "        \"\"\"Initialize from LLM.\"\"\"\n",
    "        qa_chain = LLMChain(llm=llm, prompt=qa_prompt)\n",
    "        plain_qa_chain = LLMChain(llm=llm, prompt=qa_no_context_prompt)\n",
    "        evaluate_context_chain = LLMChain(llm=llm, prompt=evaluate_context_prompt)\n",
    "        entity_chain = LLMChain(llm=llm, prompt=entity_prompt)\n",
    "\n",
    "        return cls(\n",
    "            qa_chain=qa_chain,\n",
    "            plain_qa_chain=plain_qa_chain,\n",
    "            evaluate_context_chain=evaluate_context_chain,\n",
    "            entity_extraction_chain=entity_chain,\n",
    "            **kwargs,\n",
    "        )"
   ]
  },
  {
   "cell_type": "code",
   "execution_count": 6,
   "metadata": {},
   "outputs": [],
   "source": [
    "metaqa = pd.read_csv(f\"/datasets/MetaQA/3hop/qa_test.txt\", sep=\"\\t\", header=None)\n",
    "metaqa.rename(columns={0: \"Question\", 1: \"Answers\"}, inplace=True)\n",
    "metaqa_graph = KGraphPreproc.get_metaqa_graph()"
   ]
  },
  {
   "cell_type": "code",
   "execution_count": 3,
   "metadata": {},
   "outputs": [],
   "source": [
    "fbqa = pd.read_json(\"/datasets/FreebaseQA/FreebaseQA-eval.json\")\n",
    "fbkb_graph = KGraphPreproc.get_fbkb_graph()"
   ]
  },
  {
   "cell_type": "code",
   "execution_count": 4,
   "metadata": {},
   "outputs": [],
   "source": [
    "mistral = MistralLLM()"
   ]
  },
  {
   "cell_type": "code",
   "execution_count": 5,
   "metadata": {},
   "outputs": [],
   "source": [
    "def get_fbqa_data(question_row):\n",
    "    \"\"\"\n",
    "    Takes in a dataset row and returns Q and A as strings\n",
    "    \"\"\"\n",
    "    question = question_row.Questions.get(\"RawQuestion\", None)\n",
    "    parse = question_row.Questions.get(\"Parses\", [None])[0]\n",
    "    if not parse:\n",
    "        print(f\"error in question: {question}\")\n",
    "        return question, None\n",
    "    answer = parse.get(\"Answers\")\n",
    "    return question, answer"
   ]
  },
  {
   "cell_type": "code",
   "execution_count": 6,
   "metadata": {},
   "outputs": [
    {
     "name": "stdout",
     "output_type": "stream",
     "text": [
      "[{'AnswersMid': 'm.04v0v72', 'AnswersName': ['david copperfield']}]\n"
     ]
    },
    {
     "data": {
      "text/plain": [
       "\"Which Dickens novel features the character 'Uriah Heep'?\""
      ]
     },
     "execution_count": 6,
     "metadata": {},
     "output_type": "execute_result"
    }
   ],
   "source": [
    "q, a = get_fbqa_data(fbqa.iloc[1135])\n",
    "print(a)\n",
    "q"
   ]
  },
  {
   "cell_type": "code",
   "execution_count": 7,
   "metadata": {},
   "outputs": [
    {
     "data": {
      "text/plain": [
       "'/m/01v9724'"
      ]
     },
     "execution_count": 7,
     "metadata": {},
     "output_type": "execute_result"
    }
   ],
   "source": [
    "fbkb_graph.preprocessed_nodes[preprocess_text(\"charles dickens\")]"
   ]
  },
  {
   "cell_type": "markdown",
   "metadata": {},
   "source": [
    "## Rank rels"
   ]
  },
  {
   "cell_type": "code",
   "execution_count": 82,
   "metadata": {},
   "outputs": [],
   "source": [
    "def rank_rel_portion(question, entity, rel_portion):\n",
    "    \"\"\"\n",
    "    Prompts the LLM to rank candidate relations and parses the response\n",
    "    \"\"\"\n",
    "    prompt = RERANK_TRIPLETS_PROMPT.format(\n",
    "        question=question,\n",
    "        entity=entity,\n",
    "        relations=\"; \".join(rel_portion))\n",
    "    # print(prompt)\n",
    "    response = mistral.get_response(prompt, temperature=0.15)\n",
    "    return response\n",
    "\n",
    "def extract_ranked_rels(rel_set, rel_rank_string, group=0):\n",
    "    \"\"\"\n",
    "    Regex extracts the scores and relations\n",
    "    Makes sure the extracted relations are real\n",
    "    \"\"\"\n",
    "    pattern = re.compile(\"[^()]+;\\s?[0-9.]+\")\n",
    "    pos = 0\n",
    "    scored_rels = []\n",
    "    while m := pattern.search(rel_rank_string, pos):\n",
    "        pos = m.start() + 1\n",
    "        rel, rank = m[group].split(\";\")\n",
    "        if rel in rel_set:\n",
    "            scored_rels.append((rel, float(rank)))\n",
    "    return scored_rels\n",
    "    "
   ]
  },
  {
   "cell_type": "code",
   "execution_count": 83,
   "metadata": {},
   "outputs": [],
   "source": [
    "max_size = 250\n",
    "def rank_entity_rels(question, mid, mid_rels):\n",
    "    \"\"\"\n",
    "    Goes over candidate rels in portions, ranks them\n",
    "    Returns the list of relevance ranked rels\n",
    "    \"\"\"\n",
    "    rel_heap = []\n",
    "    step = max_size\n",
    "    for i in range(0, len(mid_rels), step):\n",
    "        rel_set = mid_rels[i : i+step]\n",
    "        answer = rank_rel_portion(question, entity, rel_set)\n",
    "        # [(rel, rank)]\n",
    "        ranked_rels = extract_ranked_rels(rel_set, answer)\n",
    "        for rel, score in ranked_rels:\n",
    "            if len(rel_heap) < step:\n",
    "                heapq.heappush(rel_heap, (score, rel, mid))\n",
    "            else:\n",
    "                if score > rel_heap[0][0]:\n",
    "                    heapq.heappushpop(rel_heap, (score, rel, mid))\n",
    "    top_rels = sorted(rel_heap, key=lambda x: -x[0])\n",
    "    return top_rels"
   ]
  },
  {
   "cell_type": "markdown",
   "metadata": {},
   "source": [
    "## Rank entities"
   ]
  },
  {
   "cell_type": "code",
   "execution_count": 84,
   "metadata": {},
   "outputs": [],
   "source": [
    "def rank_candidate_entities_portion(question, mid, rel, candidates):\n",
    "    \"\"\"\n",
    "    Prompts the LLM to rank candidate entities and parses the response\n",
    "    \"\"\"\n",
    "    prompt = RERANK_CANDIDATE_ENTITIES_PROMPT.format(\n",
    "        question=question,\n",
    "        relation=rel,\n",
    "        entities=\"; \".join(candidates))\n",
    "    # print(prompt)\n",
    "    response = mistral.get_response(prompt, temperature=0.15)\n",
    "    return response\n",
    "\n",
    "def extract_ranked_entities(entity_set, entity_set_rank_string, group=0):\n",
    "    \"\"\"\n",
    "    Regex extracts the scores and entities\n",
    "    Makes sure the extracted entities are real\n",
    "    \"\"\"\n",
    "    pattern = re.compile(\"[^()]+;\\s?[0-9.]+\")\n",
    "    pos = 0\n",
    "    scored_entities = []\n",
    "    while m := pattern.search(entity_set_rank_string, pos):\n",
    "        pos = m.start() + 1\n",
    "        entity, rank = m[group].split(\";\")\n",
    "        if entity in entity_set:\n",
    "            scored_entities.append((entity, float(rank)))\n",
    "    return scored_entities"
   ]
  },
  {
   "cell_type": "code",
   "execution_count": 103,
   "metadata": {},
   "outputs": [],
   "source": [
    "def rank_candidate_triplets(question, mid, rel, rel_score, candidate_entities):\n",
    "    \"\"\"\n",
    "    Goes over candidate other end entities in portions\n",
    "    Returns the list of ranked resulting triplets\n",
    "    Score = rel_score * entity_score\n",
    "    \"\"\"\n",
    "    # return [(score, \"mid-rel-entity1\"), ...]\n",
    "    triplet_heap = []\n",
    "    step = max_size\n",
    "    for i in range(0, len(candidate_entities), step):\n",
    "        cand_entity_set = candidate_entities[i : i+step]\n",
    "        answer = rank_candidate_entities_portion(question, entity, rel, cand_entity_set)\n",
    "        # [(rel, rank)]\n",
    "        ranked_entities = extract_ranked_entities(cand_entity_set, answer)\n",
    "        for cand_entity, score in ranked_entities:\n",
    "            total_score = rel_score*score\n",
    "            heapq.heappush(triplet_heap, (total_score, (fbkb_graph.mid2name[mid], rel, cand_entity)))\n",
    "    top_triplets = sorted(triplet_heap, key=lambda x: -x[0])\n",
    "    return top_triplets\n"
   ]
  },
  {
   "cell_type": "code",
   "execution_count": 63,
   "metadata": {},
   "outputs": [
    {
     "data": {
      "text/plain": [
       "\"Which Dickens novel features the character 'Uriah Heep'?\""
      ]
     },
     "execution_count": 63,
     "metadata": {},
     "output_type": "execute_result"
    }
   ],
   "source": [
    "q"
   ]
  },
  {
   "cell_type": "code",
   "execution_count": 111,
   "metadata": {},
   "outputs": [
    {
     "name": "stdout",
     "output_type": "stream",
     "text": [
      "Which Dickens novel features the character 'Uriah Heep'?\n",
      "[1, 2, 3, 4]\n",
      "/m/01v9724\n",
      "depth: 1\n",
      "exploring entities\n",
      "exploring Charles_Dickens\n",
      "top rels: [(0.3, '/influence/influence_node/influenced_by', 'Charles_Dickens'), (0.2, '/people/person/places_lived./people/place_lived/location', 'Charles_Dickens'), (0.2, '/people/person/profession', 'Charles_Dickens'), (0.1, '/people/cause_of_death/people', 'Charles_Dickens'), (0.0, '/film/film/story_by', 'Charles_Dickens'), (0.0, '/people/person/gender', 'Charles_Dickens'), (0.0, '/people/deceased_person/place_of_burial', 'Charles_Dickens'), (0.0, '/people/person/nationality', 'Charles_Dickens'), (0.0, '/people/person/religion', 'Charles_Dickens'), (0.0, '/people/ethnicity/people', 'Charles_Dickens'), (0.0, '/people/person/spouse_s./people/marriage/type_of_union', 'Charles_Dickens')]\n",
      "exploring candidate entities for: /influence/influence_node/influenced_by\n",
      "candidate_entities: ['William_Faulkner', 'T._S._Eliot', 'Margaret_Atwood', 'Fyodor_Dostoyevsky', 'Jonathan_Lethem', 'Mark_Twain', 'George_Orwell', 'Edgar_Allan_Poe', 'Franz_Kafka', 'George_R._R._Martin', 'Thomas_Hardy', 'Douglas_Adams', 'Leo_Tolstoy', 'Victor_Hugo', 'Walter_Scott', 'William_Shakespeare', 'Miguel_de_Cervantes', 'Aldous_Huxley', 'Robert_Louis_Stevenson', 'James_Joyce', 'G._K._Chesterton', 'Anthony_Horowitz', 'Henry_James', 'Karl_Marx', 'Maya_Angelou', 'Gene_Wolfe', 'Ray_Bradbury', 'Paul_Auster', 'John_Irving', 'Anne_Rice', 'Tom_Wolfe', 'Joyce_Carol_Oates', 'Dean_Koontz', 'George_Bernard_Shaw', 'Roald_Dahl']\n",
      "exploring candidate entities for: /people/person/places_lived./people/place_lived/location\n",
      "candidate_entities: ['London']\n",
      "exploring candidate entities for: /people/person/profession\n",
      "candidate_entities: ['Writer-GB', 'Screenwriter', 'Author-GB', 'Playwright-GB']\n",
      "exploring candidate entities for: /people/cause_of_death/people\n",
      "candidate_entities: ['Stroke']\n",
      "exploring candidate entities for: /film/film/story_by\n",
      "candidate_entities: ['A_Christmas_Carol', 'Great_Expectations', 'Scrooged', 'Oliver!', 'Bleak_House-GB', 'David_Copperfield-GB', 'Oliver_Twist']\n",
      "exploring candidate entities for: /people/person/gender\n",
      "candidate_entities: ['Male']\n",
      "exploring candidate entities for: /people/deceased_person/place_of_burial\n",
      "candidate_entities: ['Westminster_Abbey']\n",
      "exploring candidate entities for: /people/person/nationality\n",
      "candidate_entities: ['England']\n",
      "exploring candidate entities for: /people/person/religion\n",
      "candidate_entities: ['Anglicanism']\n",
      "exploring candidate entities for: /people/ethnicity/people\n",
      "candidate_entities: ['English_people']\n",
      "exploring candidate entities for: /people/person/spouse_s./people/marriage/type_of_union\n",
      "candidate_entities: ['Marriage']\n",
      "top paths: [(0.2, ('Charles_Dickens', '/people/person/profession', 'Author-GB')), (0.0, ('Charles_Dickens', '/film/film/story_by', 'A_Christmas_Carol')), (0.0, ('Charles_Dickens', '/film/film/story_by', 'David_Copperfield-GB')), (0.0, ('Charles_Dickens', '/film/film/story_by', 'Bleak_House-GB')), (0.0, ('Charles_Dickens', '/film/film/story_by', 'Oliver!')), (0.0, ('Charles_Dickens', '/people/person/nationality', 'England')), (0.0, ('Charles_Dickens', '/film/film/story_by', 'Great_Expectations')), (0.0, ('Charles_Dickens', '/film/film/story_by', 'Oliver_Twist')), (0.0, ('Charles_Dickens', '/film/film/story_by', 'Scrooged')), (0.0, ('Charles_Dickens', '/people/deceased_person/place_of_burial', 'Westminster_Abbey'))]\n",
      "P: [[('_', 'Charles_Dickens')], [('Charles_Dickens', '/people/person/profession', 'Author-GB'), ('Charles_Dickens', '/film/film/story_by', 'A_Christmas_Carol'), ('Charles_Dickens', '/film/film/story_by', 'David_Copperfield-GB'), ('Charles_Dickens', '/film/film/story_by', 'Bleak_House-GB'), ('Charles_Dickens', '/film/film/story_by', 'Oliver!'), ('Charles_Dickens', '/people/person/nationality', 'England'), ('Charles_Dickens', '/film/film/story_by', 'Great_Expectations'), ('Charles_Dickens', '/film/film/story_by', 'Oliver_Twist'), ('Charles_Dickens', '/film/film/story_by', 'Scrooged'), ('Charles_Dickens', '/people/deceased_person/place_of_burial', 'Westminster_Abbey')]]\n",
      "End of round \n",
      "\n",
      "depth: 2\n",
      "exploring entities\n",
      "exploring A_Christmas_Carol\n",
      "exploring England\n",
      "exploring Oliver_Twist\n",
      "exploring Great_Expectations\n",
      "exploring Author-GB\n",
      "exploring Oliver!\n",
      "exploring Scrooged\n",
      "exploring Bleak_House-GB\n",
      "exploring Westminster_Abbey\n",
      "exploring David_Copperfield-GB\n",
      "top rels: [(1.0, '/film/film/story_by', 'Scrooged'), (1.0, '/people/person/nationality', 'England'), (1.0, '/people/person/spouse_s./people/marriage/type_of_union', 'Oliver_Twist'), (0.9, '/film/film/story_by', 'Westminster_Abbey'), (0.9, '/people/person/profession', 'Oliver_Twist'), (0.8, '/people/deceased_person/place_of_burial', 'Oliver_Twist'), (0.8, '/people/person/places_lived./people/place_lived/location', 'England'), (0.7, '/people/ethnicity/people', 'Oliver_Twist'), (0.6, '/people/person/gender', 'Oliver_Twist'), (0.6, '/people/person/profession', 'England'), (0.5, '/people/person/places_lived./people/place_lived/location', 'Author-GB'), (0.5, '/people/person/nationality', 'Oliver_Twist'), (0.5, '/people/person/spouse_s./people/marriage/type_of_union', 'Westminster_Abbey'), (0.5, '/people/person/gender', 'Author-GB'), (0.5, '/people/person/spouse_s./people/marriage/type_of_union', 'Author-GB'), (0.5, '/people/person/religion', 'Author-GB'), (0.5, '/influence/influence_node/influenced_by', 'Author-GB'), (0.5, '/people/ethnicity/people', 'Author-GB'), (0.5, '/people/person/nationality', 'Author-GB'), (0.5, '/people/deceased_person/place_of_burial', 'Author-GB'), (0.5, '/people/person/profession', 'Author-GB'), (0.4, '/people/cause_of_death/people', 'Westminster_Abbey'), (0.4, '/people/person/places_lived./people/place_lived/location', 'Oliver_Twist'), (0.4, '/people/person/gender', 'England'), (0.3, '/people/person/profession', 'Westminster_Abbey'), (0.3, '/people/cause_of_death/people', 'Oliver_Twist'), (0.3, '/people/person/religion', 'England'), (0.2, '/people/person/gender', 'Westminster_Abbey'), (0.2, '/people/person/nationality', 'Westminster_Abbey'), (0.2, '/people/deceased_person/place_of_burial', 'England'), (0.2, '/people/person/places_lived./people/place_lived/location', 'Westminster_Abbey'), (0.2, '/people/person/religion', 'Westminster_Abbey'), (0.2, '/film/film/story_by', 'Oliver_Twist'), (0.1, '/influence/influence_node/influenced_by', 'England'), (0.1, '/people/deceased_person/place_of_burial', 'Scrooged'), (0.1, '/people/deceased_person/place_of_burial', 'Westminster_Abbey'), (0.1, '/film/film/story_by', 'England'), (0.1, '/people/ethnicity/people', 'Scrooged'), (0.1, '/people/person/gender', 'Scrooged'), (0.1, '/influence/influence_node/influenced_by', 'Scrooged'), (0.1, '/people/person/religion', 'Oliver_Twist'), (0.1, '/people/person/nationality', 'Scrooged'), (0.1, '/people/person/profession', 'Scrooged'), (0.1, '/people/person/places_lived./people/place_lived/location', 'Scrooged'), (0.1, '/people/person/religion', 'Scrooged'), (0.1, '/people/person/spouse_s./people/marriage/type_of_union', 'Scrooged'), (0.0, '/film/film/story_by', 'Author-GB'), (0.0, '/people/person/spouse_s./people/marriage/type_of_union', 'England')]\n",
      "exploring candidate entities for: /film/film/story_by\n",
      "candidate_entities: ['Charles_Dickens']\n",
      "exploring candidate entities for: /people/person/nationality\n",
      "candidate_entities: ['Naveen_Andrews', 'Guy_Pearce', 'Chiwetel_Ejiofor', 'Rosemary_Harris', 'Alan_Bennett', 'Roger_Deakins', 'Sting', 'Laurence_Olivier', 'Danny_Boyle', \"Peter_O'Toole\", 'Peter_Morgan', 'Eileen_Atkins', 'Thomas_Sangster', 'Emma_Thompson', 'Jack_Huston', 'T._S._Eliot', 'Orlando_Bloom', 'Richard_Wright', 'Richard_Attenborough', 'Stephen_Graham', 'Jonny_Lee_Miller', 'Richard_E._Grant', 'Joanne_Froggatt', 'Gillian_Anderson', 'Emma_Watson', 'Jason_Roberts', 'Imelda_Staunton', 'Sienna_Miller', 'Daniel_Craig', 'Terence_Stamp', 'Nicollette_Sheridan', 'Corinne_Bailey_Rae', 'Sean_Bean', 'Colin_Firth', 'Derek_Jacobi', 'Graham_Gouldman', 'Jason_Flemyng', 'Mick_Jagger', 'David_A._Stewart', 'Norman_Foster', 'Robbie_Williams', 'Rick_Wakeman', 'Albert_Lee', 'Richard_Griffiths', 'Alan_Rickman', 'David_Niven', 'Keira_Knightley', 'Fatboy_Slim', 'Minnie_Driver', 'Fred_Frith', 'Tony_Walton', 'David_Beckham', 'Moses_Ashikodi', 'Sophie_Thompson', 'John_Wood', 'Malcolm_Arnold', 'Jeremy_Northam', 'David_Walliams', 'Pete_Postlethwaite', 'Ricky_Gervais', 'Pete_Townshend', 'Alan_Bates', 'Billie_Whitelaw', 'Olivia_Williams', 'Ralph_Fiennes', 'Michael_Nyman', 'Brendan_Coyle', 'Maggie_Smith', 'Roddy_McDowall', 'Bill_Nighy', 'Alfred_Hitchcock', 'Andrew_Lincoln', 'Robert_Smith', 'Helen_Mirren', 'Ken_Adam', 'Elizabeth_Taylor', 'Helena_Bonham_Carter', 'Christopher_Nolan', 'Anne_V._Coates', 'Bryan_Ferry', 'Christopher_Hitchens', 'Ian_McEwan', 'William_Blake', 'Tilda_Swinton', 'Elizabeth_Hurley', 'Mark_Ronson', 'Keith_Richards', 'John_Lennon', 'Ridley_Scott', \"Olivia_d'Abo\", 'Maurice_Gibb', 'Steve_Winwood', 'Robert_Plant', 'Jim_Broadbent', 'Toby_Jones', 'Lewis_Gilbert', 'Christopher_Lee', 'George_Martin', 'Marc_Joseph', 'Dominic_West', 'Naomi_Campbell', 'Albert_Finney', 'Jeff_Beck', 'PJ_Harvey', 'Nick_Mason', 'Paul_Bettany', 'Anthony_Burgess', 'Charlotte_Gainsbourg', 'Mark_Gatiss', 'Seal', 'George_Harrison', 'Brenda_Blethyn', 'Kiefer_Sutherland', 'Eric_Clapton', 'Slash', 'Lynn_Redgrave', 'H._G._Wells', 'Damian_Lewis', 'Clive_Owen', 'Cary_Grant', 'Jenny_Agutter', 'Gary_Chalk', 'Damon_Albarn', 'Ian_Fleming', 'Kelly_Osbourne', 'Robert_Palmer', 'Jule_Styne', 'John_Hurt', 'David_Attenborough', 'Andrew_Lloyd_Webber', 'Trevor_Horn', 'Neil_Gaiman', 'Robert_Pattinson', 'Daniel_Radcliffe', 'Brian_May', 'Robert_Fripp', 'Jason_Isaacs', 'George_Michael', 'Ozzy_Osbourne', 'Ruth_Prawer_Jhabvala', 'Tom_Stoppard', 'Harry_Gregson-Williams', 'John_Powell', 'Mark_Knopfler', 'Mike_Oldfield', 'George_Orwell', 'Alan_Parker', 'Marianne_Faithfull', 'Bob_Hoskins', 'Kevin_Betsy', 'Claire_Forlani', 'Chris_Menges', 'Morrissey', 'Ray_Winstone', 'Mark_Strong', 'Jude_Law', 'Michael_Palin', 'Rod_Stewart', 'Vanessa_Redgrave', 'Simon_Cowell', 'Stephen_Frears', 'Richard_Thompson', 'Freddie_Young', 'Bill_Nelson', 'David_Bowie', 'Peter_Gabriel', 'Miriam_Margolyes', 'Thandie_Newton', 'Dido', 'Paul_McCartney', 'Lily_Allen', 'Tim_Roth', 'Joe_Cocker', 'Ken_Russell', 'Hugh_Bonneville', 'Samantha_Morton', 'Ronnie_Wood', 'Sam_Mendes', 'Leslie_Bricusse', 'David_Hemmings', 'Emily_Blunt', 'Ben_Kingsley', 'Eric_Idle', 'Susannah_York', 'Bernard_Hill', 'Rudyard_Kipling', 'Kate_Bush', 'Thomas_Hardy', 'Stephen_Hawking', 'Penelope_Wilton', 'The_Edge', 'Michael_Winterbottom', 'Tim_Rice', 'Amy_Winehouse', 'Virginia_Woolf', 'Bryan_Forbes', 'Gary_Oldman', 'Charlotte_Rampling', 'Douglas_Adams', 'Daniel_Day-Lewis', 'Peter_Ustinov', 'Delroy_Lindo', 'Chris_Waddle', 'Charles_Dance', 'Richard_Hammond', 'Charles_Dickens', 'Kate_Beckinsale', 'Brian_Eno', 'Ian_Holm', 'David_Warner', 'Guy_Ritchie', 'Mike_Leigh', 'George_Frideric_Handel', 'Jimmy_Page', 'Kate_Moss', 'Michael_Powell', 'Oswald_Morris', 'Mark_Williams', 'Wayne_Dyer', 'Charlie_Cox', 'Noel_Gallagher', 'Adam_Ant', 'George_Gordon_Byron', 'Christopher_Eccleston', 'Kate_Winslet', 'Jim_Clark', 'Aldous_Huxley', 'Roger_Meddows_Taylor', 'Barry_Gibb', 'Timothy_Spall', 'Rupert_Holmes', 'Rachel_Portman', 'David_Robb', 'James_Walker', 'Bill_Wyman', 'John_Keats', 'Keith_Moon', 'William_Morris', 'John_Box', 'Don_Black', 'Craig_Rocastle', 'Denholm_Elliott', 'Jim_Carter', 'Robin_Gibb', 'Mike_Figgis', 'Julian_Fellowes', 'Stephen_Dillane', 'Paul_Weller', 'G._K._Chesterton', 'Jon_Anderson', 'Jim_Dale', 'Simon_Fuller', 'Ringo_Starr', 'Julie_Walters', 'Sarah_Brightman', 'David_Arnold', 'Mark_Addy', 'Jonny_Greenwood', 'Simon_Callow', 'David_Gilmour', 'Adele', 'Steve_Howe', 'Martine_McCutcheon', 'Robert_Morley', 'Joe_Jackson', 'Jonathan_Forte', 'Delroy_Facey', 'Jeff_Lynne', 'Jared_Harris', 'Roger_Waters', 'Anthony_Horowitz', 'Michael_Caine', 'John_Paul_Jones', 'J._G._Ballard', 'Geoffrey_Unsworth', 'Trevor_Howard', 'Stephen_Merchant', 'Joan_Collins', 'Chris_Nurse', 'Hugh_Laurie', 'Edward_Woodward', 'Dick_Clement', 'John_Schlesinger', 'William_Orbit', 'Vinnie_Jones', 'Ian_La_Frenais', 'M.I.A.', 'Lesley_Sharp', 'Steven_Wilson', 'Anthony_Minghella', 'John_Milton', 'John_Ruddy', 'Robert_Bolt', 'Elvis_Costello', 'Rob_James-Collier', 'Matt_Lucas', 'Harold_Pinter', 'Robyn_Hitchcock', 'Julie_Andrews', 'D._H._Lawrence', 'Peter_Sellers', 'David_Sylvian', 'Rowan_Atkinson', 'Gina_McKee', 'Tom_Hardy', 'Syd_Barrett', 'Boaz_Myhill', 'David_Lean', 'Jeremy_Thomas', 'Jane_Horrocks', 'Kim_Cattrall', 'Alan_Moore', 'Allan_Holdsworth', 'Ralph_Richardson', 'W._H._Auden', 'Jane_Austen', 'Peter_Cushing', 'Sharon_Osbourne', 'Jon_Lord', 'Yusuf_Islam', 'Ian_McShane', 'Joe_Strummer', 'Ken_Annakin', 'Mischa_Barton', 'Ronald_Neame', 'George_Fenton', 'Leon_Cort', 'Carl_Cort', 'John_Boorman', 'David_Suchet', 'Michael_Balcon', 'Eddie_Redmayne', 'Stan_Laurel', 'Jean_Simmons', 'Eddie_Marsan', 'Taiwo_Atieno', 'Steve_Hackett', 'Ross_Turnbull', 'Ralph_Vaughan_Williams', 'Frank_Skinner', 'Justin_Cochrane', 'Tony_Scott', 'Terry_Pratchett', 'Natasha_Richardson', 'Maggie_Cheung', 'Frances_Fisher', 'Joss_Stone', 'Nick_Broomfield', 'Billy_Idol', 'Edward_Elgar', 'Hugh_Dancy', 'Jeremy_Clarkson', 'Michael_Moorcock', 'Bill_Bruford', 'Brian_Jones', 'Roger_Daltrey', 'Rory_Fallon', 'Julian_Glover', 'Joss_Ackland', 'Graham_Chapman', 'Peter_Frampton', 'Patrick_Stewart', 'Eric_Burdon', 'John_Maynard_Keynes', 'Philip_Pullman', 'Anthony_Newley', 'Jerome_Flynn', 'Michelle_Dockery', 'Mary_Shelley', 'Carol_Reed', 'Roy_Wood', 'Nick_Park', 'Angela_Lansbury', 'Rex_Harrison', 'Anthony_Stewart_Head', 'Dirk_Bogarde', 'Victoria_Beckham', 'Lewis_Carroll', 'Rolfe_Kent', 'Boris_Karloff', 'Charlie_Chaplin', 'Graham_Greene', 'Ida_Lupino', 'Francis_Bacon', 'Burn_Gorman', 'John_Gielgud', 'H._H._Asquith', 'Anthony_B._Richmond', 'Tim_Curry', 'Emily_Mortimer', 'Albert_Jarrett', 'Winston_Churchill', 'Jonathan_Walters', 'Joan_Plowright', 'Jane_Seymour', 'Nigel_Lythgoe', 'Gary_Numan', 'David_Thewlis', 'Imogen_Heap', 'Peter_Cook', 'Miranda_Richardson', 'Stephen_Woolley', 'Ben_Foster', 'Douglas_Slocombe', 'Richard_Branson', 'Peter_Lawford', 'Michael_Apted', 'Rupert_Everett', 'James_Fox', 'Ben_Elton', 'Callum_Keith_Rennie', 'Adolph_Deutsch', 'Charles_Laughton', 'Jonathan_Lynn', 'Clive_A._Smith', 'Harry_Andrews', 'Jacqueline_Bisset', 'Shirley_Ann_Russell', 'Thom_Yorke', 'Oliver_Reed', 'Warren_Ellis', 'James_Blunt', 'Jamie_Cullum', 'Neil_Ross', 'Verity_Lambert', 'Joely_Richardson', 'Michael_Redgrave', 'John_Osborne', 'Michael_Hordern', 'Donald_Pleasence', 'Sid_James', 'Marit_Allen', 'Charles_Rosher', 'Benjamin_Britten', 'Cyril_J._Mockridge', 'Ian_McNeice', 'Billy_Bragg', 'Gerry_Anderson', 'J._K._Rowling', 'Alexander_Korda', 'Claire_Bloom', 'Hayley_Mills']\n",
      "exploring candidate entities for: /people/person/spouse_s./people/marriage/type_of_union\n",
      "candidate_entities: []\n",
      "exploring candidate entities for: /film/film/story_by\n",
      "candidate_entities: []\n",
      "exploring candidate entities for: /people/person/profession\n",
      "candidate_entities: []\n",
      "exploring candidate entities for: /people/deceased_person/place_of_burial\n",
      "candidate_entities: []\n",
      "exploring candidate entities for: /people/person/places_lived./people/place_lived/location\n",
      "candidate_entities: ['Rachel_Weisz', 'Chris_Noth', 'Zooey_Deschanel', 'Madonna', 'Robert_Downey_Jr.', 'Ernest_Rutherford', 'Courtney_Love', 'Alan_Turing', 'Sam_Shepard', 'Christian_Bale', 'Christopher_Wren', 'Viggo_Mortensen', 'Errol_Flynn', 'Elizabeth_McGovern', 'Tracey_Ullman', 'Rabindranath_Tagore', 'Isaac_Newton', 'Donald_Sutherland', 'Kathleen_Turner', 'Pierce_Brosnan', 'Charles_Darwin']\n",
      "exploring candidate entities for: /people/ethnicity/people\n",
      "candidate_entities: []\n",
      "exploring candidate entities for: /people/person/gender\n",
      "candidate_entities: []\n",
      "exploring candidate entities for: /people/person/profession\n",
      "candidate_entities: []\n",
      "exploring candidate entities for: /people/person/places_lived./people/place_lived/location\n",
      "candidate_entities: []\n",
      "exploring candidate entities for: /people/person/nationality\n",
      "candidate_entities: []\n",
      "exploring candidate entities for: /people/person/spouse_s./people/marriage/type_of_union\n",
      "candidate_entities: []\n",
      "exploring candidate entities for: /people/person/gender\n",
      "candidate_entities: []\n",
      "exploring candidate entities for: /people/person/spouse_s./people/marriage/type_of_union\n",
      "candidate_entities: []\n",
      "exploring candidate entities for: /people/person/religion\n",
      "candidate_entities: []\n",
      "exploring candidate entities for: /influence/influence_node/influenced_by\n",
      "candidate_entities: []\n",
      "exploring candidate entities for: /people/ethnicity/people\n",
      "candidate_entities: []\n",
      "exploring candidate entities for: /people/person/nationality\n",
      "candidate_entities: []\n",
      "exploring candidate entities for: /people/deceased_person/place_of_burial\n",
      "candidate_entities: []\n",
      "exploring candidate entities for: /people/person/profession\n",
      "candidate_entities: ['Hunter_S._Thompson', 'James_Franco', 'Alan_Bennett', 'Burt_Young', 'Don_Cheadle', 'Tyrese_Gibson', 'Denis_Leary', 'Ursula_K._Le_Guin', 'J._R._R._Tolkien', 'Emma_Thompson', 'Nick_Cave', 'Charles_Stross', 'LeVar_Burton', 'Jimmy_Buffett', 'Diane_Keaton', 'Sarah_Palin', 'Harry_Shearer', 'Arnold_Schoenberg', 'Isabella_Rossellini', 'Arthur_Miller', 'Woody_Allen', 'Treat_Williams', 'Bob_Dylan', 'Gene_Hackman', 'Bill_Cosby', 'Peter_Coyote', 'Doris_Lessing', 'Jean-Paul_Sartre', 'Pier_Paolo_Pasolini', 'Roger_Zelazny', 'C._J._Cherryh', 'Michael_Nesmith', 'Kirk_Douglas', 'Bill_Clinton', 'Steve_Earle', 'Bill_Maher', 'Greg_Bear', 'Nora_Ephron', 'Andy_Serkis', 'Sylvia_Plath', 'Raymond_Chandler', 'Pierre_Trudeau', 'David_Walliams', 'Will_Ferrell', 'Ricky_Gervais', 'Jorge_Luis_Borges', 'Miguel_de_Cervantes', 'Pete_Townshend', 'Michael_York', 'Madonna', 'Joseph_Campbell', 'Larry_McMurtry', 'Jermaine_Jackson', 'La_Toya_Jackson', 'John_McCain', 'Jules_Bass', 'Margaret_Atwood', 'Christopher_Hitchens', 'Ian_McEwan', 'Henrik_Ibsen', 'Mariah_Carey', 'Barack_Obama', 'Jonathan_Frakes', 'Gene_Wilder', 'Judi_Dench', 'Allen_Ginsberg', 'Salman_Rushdie', 'Michael_Cimino', 'Michael_Chabon', 'Dave_Mustaine', 'Christopher_Lee', 'Ethan_Hawke', 'Common', 'Whoopi_Goldberg', 'Christopher_Reeve', 'Tina_Turner', 'Nick_Mason', 'Anthony_Burgess', 'Frank_Vincent', 'Tyra_Banks', 'Saul_Bellow', 'Albert_Einstein', 'Fyodor_Dostoyevsky', 'Joe_Haldeman', 'George_Takei', 'Britney_Spears', 'Pamela_Anderson', 'Loretta_Lynn', 'James_A._Michener', 'William_Goldman', 'Joseph_Conrad', 'Gwyneth_Paltrow', 'Gina_Gershon', 'Ted_Danson', 'Jonathan_Lethem', 'Mo_Willems', 'Ian_Fleming', 'Kelly_Osbourne', 'Ben_Stein', 'Ludwig_van_Beethoven', 'J._Michael_Straczynski', 'Neil_Gaiman', 'James_Schamus', 'Steve_Martin', 'Ozzy_Osbourne', 'William_James', 'David_O._Russell', 'Dan_Simmons', 'Mark_Twain', 'Al_Roker', 'Sam_Shepard', 'Janet_Jackson', 'Tom_Stoppard', 'Norman_Stiles', 'Edgar_Allan_Poe', 'Gil_Scott-Heron', 'Juliette_Binoche', 'Barbara_Walters', 'Edward_Albee', 'Samuel_Beckett', 'August_Strindberg', 'Noam_Chomsky', 'Alan_Alda', 'Kylie_Minogue', 'Shannen_Doherty', 'Larry_Niven', 'Jenna_Bush_Hager', 'Al_Gore', 'Paul_Shaffer', 'Jenny_McCarthy', 'Don_DeLillo', 'Ken_Russell', 'John_Cage', 'Ice-T', 'Arthur_C._Clarke', 'Franz_Kafka', 'Henry_Rollins', 'Eric_Idle', 'William_Shakespeare', 'David_Benioff', 'George_R._R._Martin', 'Lois_McMaster_Bujold', 'Bruce_Sterling', 'Thomas_Hardy', 'Shirley_MacLaine', 'Julianne_Moore', 'Kristin_Chenoweth', 'Stephen_Hawking', 'Bruce_Campbell', 'Regis_Philbin', 'Thomas_Jefferson', 'Virginia_Woolf', 'Ron_Paul', 'Bryan_Forbes', 'Viggo_Mortensen', 'Hayao_Miyazaki', 'Robbie_Coltrane', 'Robert_E._Howard', 'Ernest_Hemingway', 'Douglas_Adams', 'Kurt_Vonnegut', 'Peter_Ustinov', 'Richard_Hammond', 'Leo_Tolstoy', 'Charles_Dickens', 'Kim_Stanley_Robinson', 'Richard_Nixon', 'Jeff_Garlin', 'Bob_Geldof', 'Jamie_Lee_Curtis', 'James_Madison', 'P._G._Wodehouse', 'Aldous_Huxley', 'Michael_Crichton', 'Dennis_Lehane', 'David_Simon', 'Craig_Barron', 'Richard_Wagner', 'LL_Cool_J', 'Jane_Alexander', 'Sheri_Anderson', 'Bill_Wyman', 'Alicia_Keys', 'Robert_Louis_Stevenson', 'James_Joyce', 'Vladimir_Vladimirovich_Nabokov', 'Tony_Kushner', 'Mike_Figgis', 'Robert_Mitchum', 'Julian_Fellowes', 'Grant_Morrison', 'John_Sayles', 'Daniel_Handler', 'Mario_López', 'Crispin_Glover', 'David_Mamet', 'Abe_Burrows', 'Rabindranath_Tagore', 'Richard_Price', 'Connie_Willis', 'Alicia_Silverstone', 'Simon_Callow', 'Tony_Geiss', 'Marilyn_Bergman', 'Peter_David', 'Martine_McCutcheon', 'Joe_Jackson', 'Anthony_Horowitz', 'Michael_Caine', 'Henry_James', 'W._Somerset_Maugham', 'Buzz_Aldrin', 'William_Shatner', 'Maya_Angelou', 'Russell_Brand', 'Friedrich_Hollaender', 'Jada_Pinkett_Smith', 'Stephen_Fry', 'Gus_Van_Sant', 'Billy_Corgan', 'Wim_Wenders', 'Les_Claypool', 'John_Milton', 'Katie_Couric', 'Edgar_Rice_Burroughs', 'Gabriel_Byrne', 'Colin_Wilson', 'Harold_Pinter', 'Paul_Auster', 'Hannah_Arendt', 'Mario_Puzo', 'Bernadette_Peters', 'Julie_Andrews', 'Robert_A._Heinlein', 'Robert_Anton_Wilson', 'Carl_Sagan', 'Tori_Spelling', 'Michael_J._Fox', 'Lorenzo_Ferrero', 'John_Irving', 'Darren_Aronofsky', 'Neil_Simon', 'Jules_Verne', 'William_Gibson', 'John_Grisham', 'Alan_Moore', 'Thomas_Mann', 'Jay_Mohr', 'Paris_Hilton', 'Dolly_Parton', 'David_Lee_Roth', 'KRS-One', 'George_Burns', 'Haruki_Murakami', 'Frank_Miller', 'Orson_Scott_Card', 'Jane_Lynch', 'W._H._Auden', 'Richard_Matheson', 'Sidney_Sheldon', 'Sharon_Osbourne', 'Lloyd_Alexander', 'David_Brown', 'Frances_Marion', 'Ryan_Adams', 'Betty_White', 'LeAnn_Rimes', \"Mo'Nique_Imes-Jackson\", 'Seamus_Heaney', 'Craig_Ferguson', 'Hermann_Hesse', 'Lewis_Black', 'Ossie_Davis', 'L._Frank_Baum', 'George_Sanders', 'Steven_Curtis_Chapman', 'Maurice_Sendak', 'CeCe_Winans', 'Elmore_Leonard', 'Tennessee_Williams', 'Tracy_Morgan', 'Keith_Allen', 'Bob_Hope', 'Isaac_Asimov', 'Takeshi_Kitano', 'Terry_Pratchett', 'Gore_Vidal', 'Anne_McCaffrey', 'Andy_Warhol', 'Jeremy_Clarkson', 'Michael_Moorcock', 'Harlan_Ellison', 'Carl_Reiner', 'Thomas_Pynchon', 'Ronald_Harwood', 'Vernor_Vinge', 'Martin_Mull', 'Philip_Pullman', 'Marvin_Hatley', 'Arthur_Conan_Doyle', 'Neal_Stephenson', 'Anne_Rice', 'Friedrich_Schiller', 'Tobymac', 'Howard_Stern', 'Vittorio_Storaro', 'David_Kirschner', 'Edward_Said', 'Henry_Winkler', 'Mary_Shelley', \"Rosie_O'Donnell\", 'Glenn_Danzig', 'Nicole_Richie', 'Tom_Wolfe', 'Theodore_Roosevelt', 'Cheech_Marin', 'Yoko_Ono', 'Angela_Lansbury', 'Joyce_Carol_Oates', 'Christopher_Cerf', 'Richard_Dawkins', 'John_F._Kennedy', 'Jack_London', 'Victoria_Beckham', 'Lewis_Carroll', 'Clive_Barker', 'Graham_Greene', 'Francis_Bacon', 'David_Brin', 'Jimmy_Carter', 'Al_Franken', 'Winston_Churchill', 'Ralph_Waldo_Emerson', 'June_Carter_Cash', 'George_Bernard_Shaw', 'Diane_Ladd', 'Roald_Dahl', 'David_Thewlis', 'Michael_Connelly', 'Gertrude_Stein', 'Tyler_Perry', 'Jennifer_Love_Hewitt', 'Cory_Doctorow', 'Lauren_Katherine_Conrad', 'Gladys_Knight', 'Stephen_Jay_Gould', 'Ben_Elton', 'Donny_Osmond', 'Sandra_Bernhard', 'Benjamin_Franklin', 'Kareem_Abdul-Jabbar', 'Jonathan_Swift', 'Burl_Ives', 'Walt_Whitman', 'Adam_Smith', 'Warren_Ellis', 'Iain_Banks', 'Michael_Redgrave', 'Charles_Bukowski', 'Agatha_Christie', 'Frank_Herbert', 'Joseph_Heller', 'Diana_Wynne_Jones', 'J._K._Rowling']\n",
      "exploring candidate entities for: /people/cause_of_death/people\n",
      "candidate_entities: []\n",
      "exploring candidate entities for: /people/person/places_lived./people/place_lived/location\n",
      "candidate_entities: []\n",
      "exploring candidate entities for: /people/person/gender\n",
      "candidate_entities: []\n",
      "exploring candidate entities for: /people/person/profession\n",
      "candidate_entities: []\n",
      "exploring candidate entities for: /people/cause_of_death/people\n",
      "candidate_entities: []\n",
      "exploring candidate entities for: /people/person/religion\n",
      "candidate_entities: []\n",
      "exploring candidate entities for: /people/person/gender\n",
      "candidate_entities: []\n",
      "exploring candidate entities for: /people/person/nationality\n",
      "candidate_entities: []\n",
      "exploring candidate entities for: /people/deceased_person/place_of_burial\n",
      "candidate_entities: []\n",
      "exploring candidate entities for: /people/person/places_lived./people/place_lived/location\n",
      "candidate_entities: []\n",
      "exploring candidate entities for: /people/person/religion\n",
      "candidate_entities: []\n",
      "exploring candidate entities for: /film/film/story_by\n",
      "candidate_entities: ['Charles_Dickens']\n",
      "exploring candidate entities for: /influence/influence_node/influenced_by\n",
      "candidate_entities: []\n",
      "exploring candidate entities for: /people/deceased_person/place_of_burial\n",
      "candidate_entities: []\n",
      "exploring candidate entities for: /people/deceased_person/place_of_burial\n",
      "candidate_entities: ['Laurence_Olivier', 'William_Pitt_the_Younger', 'Ernest_Rutherford', 'Rudyard_Kipling', 'Thomas_Hardy', 'Charles_Dickens', 'George_Frideric_Handel', 'Isaac_Newton', 'Ralph_Vaughan_Williams', 'Charles_Darwin']\n",
      "exploring candidate entities for: /film/film/story_by\n",
      "candidate_entities: []\n",
      "exploring candidate entities for: /people/ethnicity/people\n",
      "candidate_entities: []\n",
      "exploring candidate entities for: /people/person/gender\n",
      "candidate_entities: []\n",
      "exploring candidate entities for: /influence/influence_node/influenced_by\n",
      "candidate_entities: []\n",
      "exploring candidate entities for: /people/person/religion\n",
      "candidate_entities: []\n",
      "exploring candidate entities for: /people/person/nationality\n",
      "candidate_entities: []\n",
      "exploring candidate entities for: /people/person/profession\n",
      "candidate_entities: []\n",
      "exploring candidate entities for: /people/person/places_lived./people/place_lived/location\n",
      "candidate_entities: []\n",
      "exploring candidate entities for: /people/person/religion\n",
      "candidate_entities: []\n",
      "exploring candidate entities for: /people/person/spouse_s./people/marriage/type_of_union\n",
      "candidate_entities: []\n",
      "exploring candidate entities for: /film/film/story_by\n",
      "candidate_entities: []\n",
      "exploring candidate entities for: /people/person/spouse_s./people/marriage/type_of_union\n",
      "candidate_entities: []\n",
      "top paths: [(1.0, ('England', '/people/person/nationality', 'David_Gilmour')), (1.0, ('Scrooged', '/film/film/story_by', 'Charles_Dickens')), (1.0, ('England', '/people/person/nationality', 'Charles_Dickens')), (0.8, ('England', '/people/person/nationality', 'Jonathan_Forte')), (0.7200000000000001, ('England', '/people/person/places_lived./people/place_lived/location', 'Charles_Darwin')), (0.7, ('England', '/people/person/nationality', 'Jared_Harris')), (0.6, ('England', '/people/person/nationality', 'Syd_Barrett')), (0.5, ('Author-GB', '/people/person/profession', 'Charles_Dickens')), (0.5, ('Author-GB', '/people/person/profession', 'Charles_Bukowski')), (0.5, ('England', '/people/person/nationality', 'Jim_Dale')), (0.4, ('Author-GB', '/people/person/profession', 'Agatha_Christie')), (0.35, ('Author-GB', '/people/person/profession', 'J._K._Rowling')), (0.3, ('Author-GB', '/people/person/profession', 'Frank_Herbert')), (0.3, ('Author-GB', '/people/person/profession', 'Graham_Greene')), (0.3, ('Author-GB', '/people/person/profession', 'Joseph_Heller')), (0.25, ('Author-GB', '/people/person/profession', 'Diana_Wynne_Jones')), (0.25, ('Author-GB', '/people/person/profession', 'Michael_Connelly')), (0.2, ('Author-GB', '/people/person/profession', 'Agatha_Christie')), (0.2, ('Author-GB', '/people/person/profession', 'Frank_Herbert')), (0.2, ('Author-GB', '/people/person/profession', 'Charles_Bukowski')), (0.2, ('Author-GB', '/people/person/profession', 'J._K._Rowling')), (0.2, ('Author-GB', '/people/person/profession', 'Graham_Greene')), (0.2, ('Oliver_Twist', '/film/film/story_by', 'Charles_Dickens')), (0.1, ('Westminster_Abbey', '/people/deceased_person/place_of_burial', 'Charles_Dickens')), (0.0, ('England', '/people/person/nationality', 'Adele')), (0.0, ('England', '/people/person/nationality', 'D._H._Lawrence')), (0.0, ('England', '/people/person/nationality', 'David_Arnold')), (0.0, ('England', '/people/person/nationality', 'Jane_Austen')), (0.0, ('England', '/people/person/nationality', 'Joe_Jackson')), (0.0, ('England', '/people/person/nationality', 'Sarah_Brightman')), (0.0, ('England', '/people/person/nationality', 'Martine_McCutcheon')), (0.0, ('England', '/people/person/nationality', 'Julie_Walters')), (0.0, ('England', '/people/person/nationality', 'John_Milton')), (0.0, ('England', '/people/person/nationality', 'Ringo_Starr')), (0.0, ('England', '/people/person/nationality', 'Jonny_Greenwood')), (0.0, ('England', '/people/person/nationality', 'Robert_Morley')), (0.0, ('England', '/people/person/nationality', 'Steve_Howe')), (0.0, ('England', '/people/person/nationality', 'Simon_Fuller')), (0.0, ('England', '/people/person/nationality', 'Mark_Addy')), (0.0, ('England', '/people/person/nationality', 'Simon_Callow'))]\n",
      "P: [[('_', 'Charles_Dickens')], [('Charles_Dickens', '/people/person/profession', 'Author-GB'), ('Charles_Dickens', '/film/film/story_by', 'A_Christmas_Carol'), ('Charles_Dickens', '/film/film/story_by', 'David_Copperfield-GB'), ('Charles_Dickens', '/film/film/story_by', 'Bleak_House-GB'), ('Charles_Dickens', '/film/film/story_by', 'Oliver!'), ('Charles_Dickens', '/people/person/nationality', 'England'), ('Charles_Dickens', '/film/film/story_by', 'Great_Expectations'), ('Charles_Dickens', '/film/film/story_by', 'Oliver_Twist'), ('Charles_Dickens', '/film/film/story_by', 'Scrooged'), ('Charles_Dickens', '/people/deceased_person/place_of_burial', 'Westminster_Abbey')], [('England', '/people/person/nationality', 'David_Gilmour'), ('Scrooged', '/film/film/story_by', 'Charles_Dickens'), ('England', '/people/person/nationality', 'Charles_Dickens'), ('England', '/people/person/nationality', 'Jonathan_Forte'), ('England', '/people/person/places_lived./people/place_lived/location', 'Charles_Darwin'), ('England', '/people/person/nationality', 'Jared_Harris'), ('England', '/people/person/nationality', 'Syd_Barrett'), ('Author-GB', '/people/person/profession', 'Charles_Dickens'), ('Author-GB', '/people/person/profession', 'Charles_Bukowski'), ('England', '/people/person/nationality', 'Jim_Dale'), ('Author-GB', '/people/person/profession', 'Agatha_Christie'), ('Author-GB', '/people/person/profession', 'J._K._Rowling'), ('Author-GB', '/people/person/profession', 'Frank_Herbert'), ('Author-GB', '/people/person/profession', 'Graham_Greene'), ('Author-GB', '/people/person/profession', 'Joseph_Heller'), ('Author-GB', '/people/person/profession', 'Diana_Wynne_Jones'), ('Author-GB', '/people/person/profession', 'Michael_Connelly'), ('Author-GB', '/people/person/profession', 'Agatha_Christie'), ('Author-GB', '/people/person/profession', 'Frank_Herbert'), ('Author-GB', '/people/person/profession', 'Charles_Bukowski'), ('Author-GB', '/people/person/profession', 'J._K._Rowling'), ('Author-GB', '/people/person/profession', 'Graham_Greene'), ('Oliver_Twist', '/film/film/story_by', 'Charles_Dickens'), ('Westminster_Abbey', '/people/deceased_person/place_of_burial', 'Charles_Dickens'), ('England', '/people/person/nationality', 'Adele'), ('England', '/people/person/nationality', 'D._H._Lawrence'), ('England', '/people/person/nationality', 'David_Arnold'), ('England', '/people/person/nationality', 'Jane_Austen'), ('England', '/people/person/nationality', 'Joe_Jackson'), ('England', '/people/person/nationality', 'Sarah_Brightman'), ('England', '/people/person/nationality', 'Martine_McCutcheon'), ('England', '/people/person/nationality', 'Julie_Walters'), ('England', '/people/person/nationality', 'John_Milton'), ('England', '/people/person/nationality', 'Ringo_Starr'), ('England', '/people/person/nationality', 'Jonny_Greenwood'), ('England', '/people/person/nationality', 'Robert_Morley'), ('England', '/people/person/nationality', 'Steve_Howe'), ('England', '/people/person/nationality', 'Simon_Fuller'), ('England', '/people/person/nationality', 'Mark_Addy'), ('England', '/people/person/nationality', 'Simon_Callow')]]\n",
      "End of round \n",
      "\n",
      "depth: 3\n",
      "exploring entities\n",
      "exploring Graham_Greene\n",
      "exploring Simon_Fuller\n"
     ]
    },
    {
     "ename": "KeyboardInterrupt",
     "evalue": "",
     "output_type": "error",
     "traceback": [
      "\u001b[0;31m---------------------------------------------------------------------------\u001b[0m",
      "\u001b[0;31mKeyboardInterrupt\u001b[0m                         Traceback (most recent call last)",
      "Cell \u001b[0;32mIn[111], line 31\u001b[0m\n\u001b[1;32m     29\u001b[0m     mid_rels \u001b[38;5;241m=\u001b[39m \u001b[38;5;28mset\u001b[39m(\u001b[38;5;28mmap\u001b[39m(\u001b[38;5;28;01mlambda\u001b[39;00m t: t[\u001b[38;5;241m2\u001b[39m][\u001b[38;5;124m\"\u001b[39m\u001b[38;5;124mrelation\u001b[39m\u001b[38;5;124m\"\u001b[39m], fbkb_graph\u001b[38;5;241m.\u001b[39m_graph\u001b[38;5;241m.\u001b[39medges(mid, data\u001b[38;5;241m=\u001b[39m\u001b[38;5;28;01mTrue\u001b[39;00m)))\n\u001b[1;32m     30\u001b[0m     mid_rels \u001b[38;5;241m=\u001b[39m \u001b[38;5;28mlist\u001b[39m(mid_rels)\n\u001b[0;32m---> 31\u001b[0m     top_rels\u001b[38;5;241m.\u001b[39mextend(\u001b[43mrank_entity_rels\u001b[49m\u001b[43m(\u001b[49m\u001b[43mq\u001b[49m\u001b[43m,\u001b[49m\u001b[43m \u001b[49m\u001b[43mentity\u001b[49m\u001b[43m,\u001b[49m\u001b[43m \u001b[49m\u001b[43mmid_rels\u001b[49m\u001b[43m)\u001b[49m)\n\u001b[1;32m     32\u001b[0m     heapq\u001b[38;5;241m.\u001b[39mheapify(top_rels)\n\u001b[1;32m     33\u001b[0m top_rels \u001b[38;5;241m=\u001b[39m \u001b[38;5;28msorted\u001b[39m(top_rels, key\u001b[38;5;241m=\u001b[39m\u001b[38;5;28;01mlambda\u001b[39;00m x: \u001b[38;5;241m-\u001b[39mx[\u001b[38;5;241m0\u001b[39m])\n",
      "Cell \u001b[0;32mIn[83], line 11\u001b[0m, in \u001b[0;36mrank_entity_rels\u001b[0;34m(question, mid, mid_rels)\u001b[0m\n\u001b[1;32m      9\u001b[0m \u001b[38;5;28;01mfor\u001b[39;00m i \u001b[38;5;129;01min\u001b[39;00m \u001b[38;5;28mrange\u001b[39m(\u001b[38;5;241m0\u001b[39m, \u001b[38;5;28mlen\u001b[39m(mid_rels), step):\n\u001b[1;32m     10\u001b[0m     rel_set \u001b[38;5;241m=\u001b[39m mid_rels[i : i\u001b[38;5;241m+\u001b[39mstep]\n\u001b[0;32m---> 11\u001b[0m     answer \u001b[38;5;241m=\u001b[39m \u001b[43mrank_rel_portion\u001b[49m\u001b[43m(\u001b[49m\u001b[43mquestion\u001b[49m\u001b[43m,\u001b[49m\u001b[43m \u001b[49m\u001b[43mentity\u001b[49m\u001b[43m,\u001b[49m\u001b[43m \u001b[49m\u001b[43mrel_set\u001b[49m\u001b[43m)\u001b[49m\n\u001b[1;32m     12\u001b[0m     \u001b[38;5;66;03m# [(rel, rank)]\u001b[39;00m\n\u001b[1;32m     13\u001b[0m     ranked_rels \u001b[38;5;241m=\u001b[39m extract_ranked_rels(rel_set, answer)\n",
      "Cell \u001b[0;32mIn[82], line 10\u001b[0m, in \u001b[0;36mrank_rel_portion\u001b[0;34m(question, entity, rel_portion)\u001b[0m\n\u001b[1;32m      5\u001b[0m prompt \u001b[38;5;241m=\u001b[39m RERANK_TRIPLETS_PROMPT\u001b[38;5;241m.\u001b[39mformat(\n\u001b[1;32m      6\u001b[0m     question\u001b[38;5;241m=\u001b[39mquestion,\n\u001b[1;32m      7\u001b[0m     entity\u001b[38;5;241m=\u001b[39mentity,\n\u001b[1;32m      8\u001b[0m     relations\u001b[38;5;241m=\u001b[39m\u001b[38;5;124m\"\u001b[39m\u001b[38;5;124m; \u001b[39m\u001b[38;5;124m\"\u001b[39m\u001b[38;5;241m.\u001b[39mjoin(rel_portion))\n\u001b[1;32m      9\u001b[0m \u001b[38;5;66;03m# print(prompt)\u001b[39;00m\n\u001b[0;32m---> 10\u001b[0m response \u001b[38;5;241m=\u001b[39m \u001b[43mmistral\u001b[49m\u001b[38;5;241;43m.\u001b[39;49m\u001b[43mget_response\u001b[49m\u001b[43m(\u001b[49m\u001b[43mprompt\u001b[49m\u001b[43m,\u001b[49m\u001b[43m \u001b[49m\u001b[43mtemperature\u001b[49m\u001b[38;5;241;43m=\u001b[39;49m\u001b[38;5;241;43m0.15\u001b[39;49m\u001b[43m)\u001b[49m\n\u001b[1;32m     11\u001b[0m \u001b[38;5;28;01mreturn\u001b[39;00m response\n",
      "File \u001b[0;32m/model/utils/llm/mistral.py:177\u001b[0m, in \u001b[0;36mMistralLLM.get_response\u001b[0;34m(self, prompt, temperature)\u001b[0m\n\u001b[1;32m    175\u001b[0m completion_request \u001b[38;5;241m=\u001b[39m ChatCompletionRequest(messages\u001b[38;5;241m=\u001b[39m[UserMessage(content\u001b[38;5;241m=\u001b[39mprompt)])\n\u001b[1;32m    176\u001b[0m tokens \u001b[38;5;241m=\u001b[39m tokenizer\u001b[38;5;241m.\u001b[39mencode_chat_completion(completion_request)\u001b[38;5;241m.\u001b[39mtokens\n\u001b[0;32m--> 177\u001b[0m out_tokens, _ \u001b[38;5;241m=\u001b[39m \u001b[43mgenerate\u001b[49m\u001b[43m(\u001b[49m\u001b[43m[\u001b[49m\u001b[43mtokens\u001b[49m\u001b[43m]\u001b[49m\u001b[43m,\u001b[49m\u001b[43m \u001b[49m\u001b[43mmodel\u001b[49m\u001b[43m,\u001b[49m\u001b[43m \u001b[49m\u001b[43mmax_tokens\u001b[49m\u001b[38;5;241;43m=\u001b[39;49m\u001b[38;5;241;43m1024\u001b[39;49m\u001b[43m,\u001b[49m\u001b[43m \u001b[49m\u001b[43mtemperature\u001b[49m\u001b[38;5;241;43m=\u001b[39;49m\u001b[43mtemperature\u001b[49m\u001b[43m,\u001b[49m\u001b[43m \u001b[49m\u001b[43meos_id\u001b[49m\u001b[38;5;241;43m=\u001b[39;49m\u001b[43mtokenizer\u001b[49m\u001b[38;5;241;43m.\u001b[39;49m\u001b[43minstruct_tokenizer\u001b[49m\u001b[38;5;241;43m.\u001b[39;49m\u001b[43mtokenizer\u001b[49m\u001b[38;5;241;43m.\u001b[39;49m\u001b[43meos_id\u001b[49m\u001b[43m)\u001b[49m\n\u001b[1;32m    178\u001b[0m result \u001b[38;5;241m=\u001b[39m tokenizer\u001b[38;5;241m.\u001b[39minstruct_tokenizer\u001b[38;5;241m.\u001b[39mtokenizer\u001b[38;5;241m.\u001b[39mdecode(out_tokens[\u001b[38;5;241m0\u001b[39m])\n\u001b[1;32m    179\u001b[0m \u001b[38;5;28;01mreturn\u001b[39;00m result\n",
      "File \u001b[0;32m/opt/conda/lib/python3.11/site-packages/torch/utils/_contextlib.py:116\u001b[0m, in \u001b[0;36mcontext_decorator.<locals>.decorate_context\u001b[0;34m(*args, **kwargs)\u001b[0m\n\u001b[1;32m    113\u001b[0m \u001b[38;5;129m@functools\u001b[39m\u001b[38;5;241m.\u001b[39mwraps(func)\n\u001b[1;32m    114\u001b[0m \u001b[38;5;28;01mdef\u001b[39;00m \u001b[38;5;21mdecorate_context\u001b[39m(\u001b[38;5;241m*\u001b[39margs, \u001b[38;5;241m*\u001b[39m\u001b[38;5;241m*\u001b[39mkwargs):\n\u001b[1;32m    115\u001b[0m     \u001b[38;5;28;01mwith\u001b[39;00m ctx_factory():\n\u001b[0;32m--> 116\u001b[0m         \u001b[38;5;28;01mreturn\u001b[39;00m \u001b[43mfunc\u001b[49m\u001b[43m(\u001b[49m\u001b[38;5;241;43m*\u001b[39;49m\u001b[43margs\u001b[49m\u001b[43m,\u001b[49m\u001b[43m \u001b[49m\u001b[38;5;241;43m*\u001b[39;49m\u001b[38;5;241;43m*\u001b[39;49m\u001b[43mkwargs\u001b[49m\u001b[43m)\u001b[49m\n",
      "File \u001b[0;32m/model/utils/llm/mistral.py:126\u001b[0m, in \u001b[0;36mgenerate\u001b[0;34m(encoded_prompts, model, images, max_tokens, temperature, chunk_size, eos_id)\u001b[0m\n\u001b[1;32m    123\u001b[0m         logprobs[i]\u001b[38;5;241m.\u001b[39mappend(last_token_logits[i, next_token[i]]\u001b[38;5;241m.\u001b[39mitem())\n\u001b[1;32m    125\u001b[0m     generated_tensors\u001b[38;5;241m.\u001b[39mappend(next_token[:, \u001b[38;5;28;01mNone\u001b[39;00m])\n\u001b[0;32m--> 126\u001b[0m     last_token_prelogits \u001b[38;5;241m=\u001b[39m \u001b[43mmodel\u001b[49m\u001b[38;5;241;43m.\u001b[39;49m\u001b[43mforward\u001b[49m\u001b[43m(\u001b[49m\u001b[43mnext_token\u001b[49m\u001b[43m,\u001b[49m\u001b[43m \u001b[49m\u001b[43mseqlens\u001b[49m\u001b[38;5;241;43m=\u001b[39;49m\u001b[43m[\u001b[49m\u001b[38;5;241;43m1\u001b[39;49m\u001b[43m]\u001b[49m\u001b[43m \u001b[49m\u001b[38;5;241;43m*\u001b[39;49m\u001b[43m \u001b[49m\u001b[43mB\u001b[49m\u001b[43m,\u001b[49m\u001b[43m \u001b[49m\u001b[43mcache\u001b[49m\u001b[38;5;241;43m=\u001b[39;49m\u001b[43mcache\u001b[49m\u001b[43m)\u001b[49m\n\u001b[1;32m    127\u001b[0m     \u001b[38;5;28;01massert\u001b[39;00m last_token_prelogits\u001b[38;5;241m.\u001b[39mshape \u001b[38;5;241m==\u001b[39m (B, V)\n\u001b[1;32m    129\u001b[0m generated_tokens: List[List[\u001b[38;5;28mint\u001b[39m]]\n",
      "File \u001b[0;32m/opt/conda/lib/python3.11/site-packages/mistral_inference/transformer.py:203\u001b[0m, in \u001b[0;36mTransformer.forward\u001b[0;34m(self, input_ids, seqlens, cache, images)\u001b[0m\n\u001b[1;32m    196\u001b[0m \u001b[38;5;28;01mdef\u001b[39;00m \u001b[38;5;21mforward\u001b[39m(\n\u001b[1;32m    197\u001b[0m     \u001b[38;5;28mself\u001b[39m,\n\u001b[1;32m    198\u001b[0m     input_ids: torch\u001b[38;5;241m.\u001b[39mTensor,\n\u001b[0;32m   (...)\u001b[0m\n\u001b[1;32m    201\u001b[0m     images: Optional[List[torch\u001b[38;5;241m.\u001b[39mTensor]] \u001b[38;5;241m=\u001b[39m \u001b[38;5;28;01mNone\u001b[39;00m,\n\u001b[1;32m    202\u001b[0m ) \u001b[38;5;241m-\u001b[39m\u001b[38;5;241m>\u001b[39m torch\u001b[38;5;241m.\u001b[39mTensor:\n\u001b[0;32m--> 203\u001b[0m     h \u001b[38;5;241m=\u001b[39m \u001b[38;5;28;43mself\u001b[39;49m\u001b[38;5;241;43m.\u001b[39;49m\u001b[43mforward_partial\u001b[49m\u001b[43m(\u001b[49m\u001b[43minput_ids\u001b[49m\u001b[43m,\u001b[49m\u001b[43m \u001b[49m\u001b[43mseqlens\u001b[49m\u001b[43m,\u001b[49m\u001b[43m \u001b[49m\u001b[43mcache\u001b[49m\u001b[38;5;241;43m=\u001b[39;49m\u001b[43mcache\u001b[49m\u001b[43m,\u001b[49m\u001b[43m \u001b[49m\u001b[43mimages\u001b[49m\u001b[38;5;241;43m=\u001b[39;49m\u001b[43mimages\u001b[49m\u001b[43m)\u001b[49m\n\u001b[1;32m    204\u001b[0m     \u001b[38;5;28;01mif\u001b[39;00m \u001b[38;5;28mself\u001b[39m\u001b[38;5;241m.\u001b[39mpipeline_rank \u001b[38;5;241m<\u001b[39m \u001b[38;5;28mself\u001b[39m\u001b[38;5;241m.\u001b[39mnum_pipeline_ranks \u001b[38;5;241m-\u001b[39m \u001b[38;5;241m1\u001b[39m:\n\u001b[1;32m    205\u001b[0m         \u001b[38;5;66;03m# ignore the intermediate activations as we'll get the final output from\u001b[39;00m\n\u001b[1;32m    206\u001b[0m         \u001b[38;5;66;03m# the last stage\u001b[39;00m\n\u001b[1;32m    207\u001b[0m         outs \u001b[38;5;241m=\u001b[39m torch\u001b[38;5;241m.\u001b[39mempty(h\u001b[38;5;241m.\u001b[39mshape[\u001b[38;5;241m0\u001b[39m], \u001b[38;5;28mself\u001b[39m\u001b[38;5;241m.\u001b[39mvocab_size, device\u001b[38;5;241m=\u001b[39mh\u001b[38;5;241m.\u001b[39mdevice, dtype\u001b[38;5;241m=\u001b[39mh\u001b[38;5;241m.\u001b[39mdtype)\n",
      "File \u001b[0;32m/opt/conda/lib/python3.11/site-packages/mistral_inference/transformer.py:184\u001b[0m, in \u001b[0;36mTransformer.forward_partial\u001b[0;34m(self, input_ids, seqlens, cache, images)\u001b[0m\n\u001b[1;32m    182\u001b[0m     \u001b[38;5;28;01melse\u001b[39;00m:\n\u001b[1;32m    183\u001b[0m         cache_view \u001b[38;5;241m=\u001b[39m \u001b[38;5;28;01mNone\u001b[39;00m\n\u001b[0;32m--> 184\u001b[0m     h \u001b[38;5;241m=\u001b[39m \u001b[43mlayer\u001b[49m\u001b[43m(\u001b[49m\u001b[43mh\u001b[49m\u001b[43m,\u001b[49m\u001b[43m \u001b[49m\u001b[43mfreqs_cis\u001b[49m\u001b[43m,\u001b[49m\u001b[43m \u001b[49m\u001b[43mcache_view\u001b[49m\u001b[43m)\u001b[49m\n\u001b[1;32m    186\u001b[0m \u001b[38;5;28;01mif\u001b[39;00m cache \u001b[38;5;129;01mis\u001b[39;00m \u001b[38;5;129;01mnot\u001b[39;00m \u001b[38;5;28;01mNone\u001b[39;00m:\n\u001b[1;32m    187\u001b[0m     cache\u001b[38;5;241m.\u001b[39mupdate_seqlens(seqlens)\n",
      "File \u001b[0;32m/opt/conda/lib/python3.11/site-packages/torch/nn/modules/module.py:1736\u001b[0m, in \u001b[0;36mModule._wrapped_call_impl\u001b[0;34m(self, *args, **kwargs)\u001b[0m\n\u001b[1;32m   1734\u001b[0m     \u001b[38;5;28;01mreturn\u001b[39;00m \u001b[38;5;28mself\u001b[39m\u001b[38;5;241m.\u001b[39m_compiled_call_impl(\u001b[38;5;241m*\u001b[39margs, \u001b[38;5;241m*\u001b[39m\u001b[38;5;241m*\u001b[39mkwargs)  \u001b[38;5;66;03m# type: ignore[misc]\u001b[39;00m\n\u001b[1;32m   1735\u001b[0m \u001b[38;5;28;01melse\u001b[39;00m:\n\u001b[0;32m-> 1736\u001b[0m     \u001b[38;5;28;01mreturn\u001b[39;00m \u001b[38;5;28;43mself\u001b[39;49m\u001b[38;5;241;43m.\u001b[39;49m\u001b[43m_call_impl\u001b[49m\u001b[43m(\u001b[49m\u001b[38;5;241;43m*\u001b[39;49m\u001b[43margs\u001b[49m\u001b[43m,\u001b[49m\u001b[43m \u001b[49m\u001b[38;5;241;43m*\u001b[39;49m\u001b[38;5;241;43m*\u001b[39;49m\u001b[43mkwargs\u001b[49m\u001b[43m)\u001b[49m\n",
      "File \u001b[0;32m/opt/conda/lib/python3.11/site-packages/torch/nn/modules/module.py:1747\u001b[0m, in \u001b[0;36mModule._call_impl\u001b[0;34m(self, *args, **kwargs)\u001b[0m\n\u001b[1;32m   1742\u001b[0m \u001b[38;5;66;03m# If we don't have any hooks, we want to skip the rest of the logic in\u001b[39;00m\n\u001b[1;32m   1743\u001b[0m \u001b[38;5;66;03m# this function, and just call forward.\u001b[39;00m\n\u001b[1;32m   1744\u001b[0m \u001b[38;5;28;01mif\u001b[39;00m \u001b[38;5;129;01mnot\u001b[39;00m (\u001b[38;5;28mself\u001b[39m\u001b[38;5;241m.\u001b[39m_backward_hooks \u001b[38;5;129;01mor\u001b[39;00m \u001b[38;5;28mself\u001b[39m\u001b[38;5;241m.\u001b[39m_backward_pre_hooks \u001b[38;5;129;01mor\u001b[39;00m \u001b[38;5;28mself\u001b[39m\u001b[38;5;241m.\u001b[39m_forward_hooks \u001b[38;5;129;01mor\u001b[39;00m \u001b[38;5;28mself\u001b[39m\u001b[38;5;241m.\u001b[39m_forward_pre_hooks\n\u001b[1;32m   1745\u001b[0m         \u001b[38;5;129;01mor\u001b[39;00m _global_backward_pre_hooks \u001b[38;5;129;01mor\u001b[39;00m _global_backward_hooks\n\u001b[1;32m   1746\u001b[0m         \u001b[38;5;129;01mor\u001b[39;00m _global_forward_hooks \u001b[38;5;129;01mor\u001b[39;00m _global_forward_pre_hooks):\n\u001b[0;32m-> 1747\u001b[0m     \u001b[38;5;28;01mreturn\u001b[39;00m \u001b[43mforward_call\u001b[49m\u001b[43m(\u001b[49m\u001b[38;5;241;43m*\u001b[39;49m\u001b[43margs\u001b[49m\u001b[43m,\u001b[49m\u001b[43m \u001b[49m\u001b[38;5;241;43m*\u001b[39;49m\u001b[38;5;241;43m*\u001b[39;49m\u001b[43mkwargs\u001b[49m\u001b[43m)\u001b[49m\n\u001b[1;32m   1749\u001b[0m result \u001b[38;5;241m=\u001b[39m \u001b[38;5;28;01mNone\u001b[39;00m\n\u001b[1;32m   1750\u001b[0m called_always_called_hooks \u001b[38;5;241m=\u001b[39m \u001b[38;5;28mset\u001b[39m()\n",
      "File \u001b[0;32m/opt/conda/lib/python3.11/site-packages/mistral_inference/transformer_layers.py:165\u001b[0m, in \u001b[0;36mTransformerBlock.forward\u001b[0;34m(self, x, freqs_cis, cache, mask)\u001b[0m\n\u001b[1;32m    158\u001b[0m \u001b[38;5;28;01mdef\u001b[39;00m \u001b[38;5;21mforward\u001b[39m(\n\u001b[1;32m    159\u001b[0m     \u001b[38;5;28mself\u001b[39m,\n\u001b[1;32m    160\u001b[0m     x: torch\u001b[38;5;241m.\u001b[39mTensor,\n\u001b[0;32m   (...)\u001b[0m\n\u001b[1;32m    163\u001b[0m     mask: Optional[BlockDiagonalMask] \u001b[38;5;241m=\u001b[39m \u001b[38;5;28;01mNone\u001b[39;00m,\n\u001b[1;32m    164\u001b[0m ) \u001b[38;5;241m-\u001b[39m\u001b[38;5;241m>\u001b[39m torch\u001b[38;5;241m.\u001b[39mTensor:\n\u001b[0;32m--> 165\u001b[0m     r \u001b[38;5;241m=\u001b[39m \u001b[38;5;28;43mself\u001b[39;49m\u001b[38;5;241;43m.\u001b[39;49m\u001b[43mattention\u001b[49m\u001b[38;5;241;43m.\u001b[39;49m\u001b[43mforward\u001b[49m\u001b[43m(\u001b[49m\u001b[38;5;28;43mself\u001b[39;49m\u001b[38;5;241;43m.\u001b[39;49m\u001b[43mattention_norm\u001b[49m\u001b[43m(\u001b[49m\u001b[43mx\u001b[49m\u001b[43m)\u001b[49m\u001b[43m,\u001b[49m\u001b[43m \u001b[49m\u001b[43mfreqs_cis\u001b[49m\u001b[43m,\u001b[49m\u001b[43m \u001b[49m\u001b[43mcache\u001b[49m\u001b[43m)\u001b[49m\n\u001b[1;32m    166\u001b[0m     h \u001b[38;5;241m=\u001b[39m x \u001b[38;5;241m+\u001b[39m r\n\u001b[1;32m    167\u001b[0m     r \u001b[38;5;241m=\u001b[39m \u001b[38;5;28mself\u001b[39m\u001b[38;5;241m.\u001b[39mfeed_forward\u001b[38;5;241m.\u001b[39mforward(\u001b[38;5;28mself\u001b[39m\u001b[38;5;241m.\u001b[39mffn_norm(h))\n",
      "File \u001b[0;32m/opt/conda/lib/python3.11/site-packages/mistral_inference/transformer_layers.py:78\u001b[0m, in \u001b[0;36mAttention.forward\u001b[0;34m(self, x, freqs_cis, cache, mask)\u001b[0m\n\u001b[1;32m     76\u001b[0m     cache\u001b[38;5;241m.\u001b[39mupdate(xk, xv)\n\u001b[1;32m     77\u001b[0m \u001b[38;5;28;01melse\u001b[39;00m:\n\u001b[0;32m---> 78\u001b[0m     \u001b[43mcache\u001b[49m\u001b[38;5;241;43m.\u001b[39;49m\u001b[43mupdate\u001b[49m\u001b[43m(\u001b[49m\u001b[43mxk\u001b[49m\u001b[43m,\u001b[49m\u001b[43m \u001b[49m\u001b[43mxv\u001b[49m\u001b[43m)\u001b[49m\n\u001b[1;32m     79\u001b[0m     key, val \u001b[38;5;241m=\u001b[39m cache\u001b[38;5;241m.\u001b[39mkey, cache\u001b[38;5;241m.\u001b[39mvalue\n\u001b[1;32m     80\u001b[0m     key \u001b[38;5;241m=\u001b[39m key\u001b[38;5;241m.\u001b[39mview(seqlen_sum \u001b[38;5;241m*\u001b[39m cache\u001b[38;5;241m.\u001b[39mmax_seq_len, \u001b[38;5;28mself\u001b[39m\u001b[38;5;241m.\u001b[39mn_kv_heads, \u001b[38;5;28mself\u001b[39m\u001b[38;5;241m.\u001b[39mhead_dim)\n",
      "File \u001b[0;32m/opt/conda/lib/python3.11/site-packages/mistral_inference/cache.py:91\u001b[0m, in \u001b[0;36mCacheView.update\u001b[0;34m(self, xk, xv)\u001b[0m\n\u001b[1;32m     88\u001b[0m flat_cache_k \u001b[38;5;241m=\u001b[39m \u001b[38;5;28mself\u001b[39m\u001b[38;5;241m.\u001b[39mcache_k\u001b[38;5;241m.\u001b[39mview(\u001b[38;5;241m-\u001b[39m\u001b[38;5;241m1\u001b[39m, n_kv_heads, head_dim)\n\u001b[1;32m     89\u001b[0m flat_cache_v \u001b[38;5;241m=\u001b[39m \u001b[38;5;28mself\u001b[39m\u001b[38;5;241m.\u001b[39mcache_v\u001b[38;5;241m.\u001b[39mview(\u001b[38;5;241m-\u001b[39m\u001b[38;5;241m1\u001b[39m, n_kv_heads, head_dim)\n\u001b[0;32m---> 91\u001b[0m \u001b[43mflat_cache_k\u001b[49m\u001b[38;5;241;43m.\u001b[39;49m\u001b[43mindex_copy_\u001b[49m\u001b[43m(\u001b[49m\u001b[38;5;241;43m0\u001b[39;49m\u001b[43m,\u001b[49m\u001b[43m \u001b[49m\u001b[38;5;28;43mself\u001b[39;49m\u001b[38;5;241;43m.\u001b[39;49m\u001b[43mmetadata\u001b[49m\u001b[38;5;241;43m.\u001b[39;49m\u001b[43mcache_positions\u001b[49m\u001b[43m,\u001b[49m\u001b[43m \u001b[49m\u001b[43mxk\u001b[49m\u001b[43m[\u001b[49m\u001b[38;5;28;43mself\u001b[39;49m\u001b[38;5;241;43m.\u001b[39;49m\u001b[43mmetadata\u001b[49m\u001b[38;5;241;43m.\u001b[39;49m\u001b[43mto_cache_mask\u001b[49m\u001b[43m]\u001b[49m\u001b[43m)\u001b[49m\n\u001b[1;32m     92\u001b[0m flat_cache_v\u001b[38;5;241m.\u001b[39mindex_copy_(\u001b[38;5;241m0\u001b[39m, \u001b[38;5;28mself\u001b[39m\u001b[38;5;241m.\u001b[39mmetadata\u001b[38;5;241m.\u001b[39mcache_positions, xv[\u001b[38;5;28mself\u001b[39m\u001b[38;5;241m.\u001b[39mmetadata\u001b[38;5;241m.\u001b[39mto_cache_mask])\n",
      "\u001b[0;31mKeyboardInterrupt\u001b[0m: "
     ]
    }
   ],
   "source": [
    "entity = \"Charles Dickens\"\n",
    "print(q)\n",
    "print(a)\n",
    "mid = fbkb_graph.preprocessed_nodes.get(preprocess_text(entity))\n",
    "print(mid)\n",
    "entities = [mid]\n",
    "\n",
    "explored_entities = set(entities)\n",
    "P = [\n",
    "    [(\"_\", fbkb_graph.mid2name[e])] for e in entities\n",
    "    # step: [triplet1, ...], \n",
    "] # max_depth X beam_width\n",
    "\n",
    "max_depth = 5\n",
    "beam_width = 25\n",
    "if len(P[0]):\n",
    "    for depth in range(1, max_depth):\n",
    "        print(\"depth:\", depth)\n",
    "        tail_entities = set()\n",
    "        for t in P[depth-1]:\n",
    "            tail_entities.add(t[-1])\n",
    "        \n",
    "        # search and prune rels\n",
    "        top_rels = []\n",
    "        print(\"exploring entities\")\n",
    "        for entity_mid in tail_entities:\n",
    "            entity = entity_mid\n",
    "            print(f\"exploring {entity}\")\n",
    "            mid_rels = set(map(lambda t: t[2][\"relation\"], fbkb_graph._graph.edges(mid, data=True)))\n",
    "            mid_rels = list(mid_rels)\n",
    "            top_rels.extend(rank_entity_rels(q, entity, mid_rels))\n",
    "            heapq.heapify(top_rels)\n",
    "        top_rels = sorted(top_rels, key=lambda x: -x[0])\n",
    "        # top_rels = [(0.3, '/influence/influence_node/influenced_by', 'Charles_Dickens'), (0.2, '/people/person/places_lived./people/place_lived/location', 'Charles_Dickens'), (0.2, '/people/person/profession', 'Charles_Dickens'), (0.1, '/people/cause_of_death/people', 'Charles_Dickens'), (0.1, '/people/person/nationality', 'Charles_Dickens')]\n",
    "        print(f\"top rels: {top_rels}\")\n",
    "        # search and prune entities on other end of rels\n",
    "        top_new_triplets = []\n",
    "        # [ (tail, top_rel, top_candidate)]\n",
    "        for rel_score, rel, entity in top_rels:\n",
    "            mid = fbkb_graph.name2mid[entity]\n",
    "            print(f\"exploring candidate entities for: {rel}\")\n",
    "            candidate_entities = [\n",
    "                fbkb_graph.mid2name[v] for u,v,data in fbkb_graph._graph.edges(mid, data=True) if data.get(\"relation\") == rel\n",
    "            ]\n",
    "            print(f\"candidate_entities: {candidate_entities}\")\n",
    "            ranked_triplets = rank_candidate_triplets(q, mid, rel, rel_score, candidate_entities)\n",
    "            top_new_triplets.extend(ranked_triplets)\n",
    "            heapq.heapify(top_new_triplets)\n",
    "        # sort the triplets\n",
    "        top_new_triplets = sorted(top_new_triplets, key=lambda x: -x[0])\n",
    "        print(f\"top paths: {top_new_triplets}\")\n",
    "        # remove the scores and extend P\n",
    "        P.append(\n",
    "            list(map(lambda t: t[1], top_new_triplets))\n",
    "        )\n",
    "        print(\"P:\", P)\n",
    "        print(\"End of round \\n\")\n",
    "        ######## Reasoning\n",
    "        is_enough = self.check_enough_context_to_answer(question, reasoning_chain=P)\n",
    "        if is_enough:\n",
    "            return self.generate_answer_with_context(question, reasoning_chain=P)\n",
    "        else:\n",
    "            continue\n",
    "        \n",
    "    \n"
   ]
  },
  {
   "cell_type": "markdown",
   "metadata": {},
   "source": [
    "## LLM-guided traversal\n",
    "1. Extract entities from question (LLM)\n",
    "2. Fetch relevant triplets (Graph)\n",
    "3. Rerank triplets based on relevance (BM25, SBERT, LLM)\n",
    "    3.1 \n",
    "    3.2 \n",
    "4. Extend path beam list (P) with top-k triplets\n",
    "5. Check if the current pathlist is enough to answer (LLM)\n",
    "6. Repeat or Generate Answer (LLM)"
   ]
  },
  {
   "cell_type": "code",
   "execution_count": 38,
   "metadata": {},
   "outputs": [
    {
     "name": "stdout",
     "output_type": "stream",
     "text": [
      "\n",
      "\n",
      "\u001b[1m> Entering new ToGChain chain...\u001b[0m\n",
      "Entities Extracted:\n",
      "\u001b[32;1m\u001b[1;3mSydney, Australia, Olympics, Triathlon, Men's event, Medals, 2000, 2008, Australia (as the host country)\u001b[0m\n"
     ]
    },
    {
     "data": {
      "application/vnd.jupyter.widget-view+json": {
       "model_id": "1c72a72b8c00446f8f6d22b5fe286507",
       "version_major": 2,
       "version_minor": 0
      },
      "text/plain": [
       "Split strings: 0it [00:00, ?it/s]"
      ]
     },
     "metadata": {},
     "output_type": "display_data"
    },
    {
     "data": {
      "application/vnd.jupyter.widget-view+json": {
       "model_id": "045c6f77361c40819ea4806eaeb8349d",
       "version_major": 2,
       "version_minor": 0
      },
      "text/plain": [
       "Stem Tokens:   0%|          | 0/1165 [00:00<?, ?it/s]"
      ]
     },
     "metadata": {},
     "output_type": "display_data"
    },
    {
     "data": {
      "application/vnd.jupyter.widget-view+json": {
       "model_id": "c93562cd25ca4eb197c166a84faef500",
       "version_major": 2,
       "version_minor": 0
      },
      "text/plain": [
       "BM25S Count Tokens:   0%|          | 0/1165 [00:00<?, ?it/s]"
      ]
     },
     "metadata": {},
     "output_type": "display_data"
    },
    {
     "data": {
      "application/vnd.jupyter.widget-view+json": {
       "model_id": "3fd52027bd444271a1f2eecce3a37f44",
       "version_major": 2,
       "version_minor": 0
      },
      "text/plain": [
       "BM25S Compute Scores:   0%|          | 0/1165 [00:00<?, ?it/s]"
      ]
     },
     "metadata": {},
     "output_type": "display_data"
    },
    {
     "data": {
      "application/vnd.jupyter.widget-view+json": {
       "model_id": "04063413249c4881a4abec3a5f76d3d3",
       "version_major": 2,
       "version_minor": 0
      },
      "text/plain": [
       "Split strings:   0%|          | 0/1 [00:00<?, ?it/s]"
      ]
     },
     "metadata": {},
     "output_type": "display_data"
    },
    {
     "data": {
      "application/vnd.jupyter.widget-view+json": {
       "model_id": "166ed4dda8db4c2aa098088b77bdd0f9",
       "version_major": 2,
       "version_minor": 0
      },
      "text/plain": [
       "Stem Tokens:   0%|          | 0/1 [00:00<?, ?it/s]"
      ]
     },
     "metadata": {},
     "output_type": "display_data"
    },
    {
     "data": {
      "application/vnd.jupyter.widget-view+json": {
       "model_id": "84fffcd0104645bfa0c33f953a24e8f7",
       "version_major": 2,
       "version_minor": 0
      },
      "text/plain": [
       "BM25S Retrieve:   0%|          | 0/1 [00:00<?, ?it/s]"
      ]
     },
     "metadata": {},
     "output_type": "display_data"
    },
    {
     "name": "stdout",
     "output_type": "stream",
     "text": [
      "\u001b[32;1m\u001b[1;3mExploring depth: 1\u001b[0m\n"
     ]
    },
    {
     "data": {
      "application/vnd.jupyter.widget-view+json": {
       "model_id": "2712a7c983cc48e9899ac7585f7918bc",
       "version_major": 2,
       "version_minor": 0
      },
      "text/plain": [
       "Split strings: 0it [00:00, ?it/s]"
      ]
     },
     "metadata": {},
     "output_type": "display_data"
    },
    {
     "data": {
      "application/vnd.jupyter.widget-view+json": {
       "model_id": "c91b104139f9496f939184f3075dd512",
       "version_major": 2,
       "version_minor": 0
      },
      "text/plain": [
       "Stem Tokens:   0%|          | 0/129 [00:00<?, ?it/s]"
      ]
     },
     "metadata": {},
     "output_type": "display_data"
    },
    {
     "data": {
      "application/vnd.jupyter.widget-view+json": {
       "model_id": "f3ed1bf7a6654bd0bcf356164b32b1d2",
       "version_major": 2,
       "version_minor": 0
      },
      "text/plain": [
       "BM25S Count Tokens:   0%|          | 0/129 [00:00<?, ?it/s]"
      ]
     },
     "metadata": {},
     "output_type": "display_data"
    },
    {
     "data": {
      "application/vnd.jupyter.widget-view+json": {
       "model_id": "9017f184d2424458b768542d7cb4ef79",
       "version_major": 2,
       "version_minor": 0
      },
      "text/plain": [
       "BM25S Compute Scores:   0%|          | 0/129 [00:00<?, ?it/s]"
      ]
     },
     "metadata": {},
     "output_type": "display_data"
    },
    {
     "data": {
      "application/vnd.jupyter.widget-view+json": {
       "model_id": "115c085015904e1cad1594a0b68cb0d7",
       "version_major": 2,
       "version_minor": 0
      },
      "text/plain": [
       "Split strings:   0%|          | 0/1 [00:00<?, ?it/s]"
      ]
     },
     "metadata": {},
     "output_type": "display_data"
    },
    {
     "data": {
      "application/vnd.jupyter.widget-view+json": {
       "model_id": "f49f202041da4df89532d20b508289b8",
       "version_major": 2,
       "version_minor": 0
      },
      "text/plain": [
       "Stem Tokens:   0%|          | 0/1 [00:00<?, ?it/s]"
      ]
     },
     "metadata": {},
     "output_type": "display_data"
    },
    {
     "data": {
      "application/vnd.jupyter.widget-view+json": {
       "model_id": "3caa2b735e38456098c4c8b27b7bb832",
       "version_major": 2,
       "version_minor": 0
      },
      "text/plain": [
       "BM25S Retrieve:   0%|          | 0/1 [00:00<?, ?it/s]"
      ]
     },
     "metadata": {},
     "output_type": "display_data"
    },
    {
     "name": "stdout",
     "output_type": "stream",
     "text": [
      "Checking if the context is sufficient:\n",
      "Full Context:\n",
      "\u001b[32;1m\u001b[1;3molympics has_tags Munich\n",
      "olympics has_tags Miracle\n",
      "olympics has_tags Chariots of Fire\n",
      "olympics has_tags Cool Runnings\n",
      "olympics has_tags The Other Dream Team\n",
      "2008 release_year Asterix at the Olympic Games\n",
      "Lantana has_tags sydney\n",
      "australia has_tags Australia\n",
      "Finding Nemo has_tags sydney\n",
      "Drama has_genre The Country Teacher\n",
      "Drama has_genre Summer Hours\n",
      "australia has_tags $9.99\n",
      "australia has_tags Lantana\n",
      "australia has_tags On the Beach\n",
      "story has_tags Australia\n",
      "Drama has_genre Australia\n",
      "Chopper has_tags australia\n",
      "Drama has_genre Men of Honor\n",
      "Drama has_genre Diamond Men\n",
      "hugh jackman has_tags X-Men\n",
      "nicole kidman has_tags Australia\n",
      "Australia has_tags baz luhrmann\n",
      "hugh jackman has_tags Australia\n",
      "2000 release_year The New Country\n",
      "2000 release_year A Storm in Summer\n",
      "olympics has_tags Munich\n",
      "2008 release_year Australia\n",
      "2000 release_year X-Men\n",
      "Running has_genre Sport\n",
      "Lantana has_tags sydney\n",
      "sydney has_tags Finding Nemo\n",
      "australia has_tags Australia\n",
      "2008 release_year $9.99\n",
      "Drama has_genre Australia\n",
      "story has_tags Australia\n",
      "australia has_tags $9.99\n",
      "australia has_tags Lantana\n",
      "x-men has_tags X-Men\n",
      "Australia has_tags baz luhrmann\n",
      "nicole kidman has_tags Australia\n",
      "hugh jackman has_tags Australia\n",
      "Richard Pearce directed_by Country\n",
      "1984 release_year Country\n",
      "William D. Wittliff written_by Country\n",
      "world war ii has_tags Australia\n",
      "marvel has_tags X-Men\n",
      "franchise has_tags X-Men\n",
      "future has_tags X-Men\n",
      "wolverine has_tags X-Men\n",
      "X-Men has_tags rogue\u001b[0m\n",
      "Model decision: NO\n",
      "\u001b[32;1m\u001b[1;3mExploring depth: 2\u001b[0m\n"
     ]
    },
    {
     "data": {
      "application/vnd.jupyter.widget-view+json": {
       "model_id": "8fde459f02fc4e8c95c116cd621ecb57",
       "version_major": 2,
       "version_minor": 0
      },
      "text/plain": [
       "Split strings: 0it [00:00, ?it/s]"
      ]
     },
     "metadata": {},
     "output_type": "display_data"
    },
    {
     "data": {
      "application/vnd.jupyter.widget-view+json": {
       "model_id": "3ba8f834472e404d925f59e64b19e335",
       "version_major": 2,
       "version_minor": 0
      },
      "text/plain": [
       "Stem Tokens:   0%|          | 0/4 [00:00<?, ?it/s]"
      ]
     },
     "metadata": {},
     "output_type": "display_data"
    },
    {
     "data": {
      "application/vnd.jupyter.widget-view+json": {
       "model_id": "83002850cd8840feb5fe20c2799dc13d",
       "version_major": 2,
       "version_minor": 0
      },
      "text/plain": [
       "BM25S Count Tokens:   0%|          | 0/4 [00:00<?, ?it/s]"
      ]
     },
     "metadata": {},
     "output_type": "display_data"
    },
    {
     "data": {
      "application/vnd.jupyter.widget-view+json": {
       "model_id": "9dcb7f97c7fc4258b5b90dc3d7525387",
       "version_major": 2,
       "version_minor": 0
      },
      "text/plain": [
       "BM25S Compute Scores:   0%|          | 0/4 [00:00<?, ?it/s]"
      ]
     },
     "metadata": {},
     "output_type": "display_data"
    },
    {
     "data": {
      "application/vnd.jupyter.widget-view+json": {
       "model_id": "13543570fc4442afaf4cafa2b81fdd6c",
       "version_major": 2,
       "version_minor": 0
      },
      "text/plain": [
       "Split strings:   0%|          | 0/1 [00:00<?, ?it/s]"
      ]
     },
     "metadata": {},
     "output_type": "display_data"
    },
    {
     "data": {
      "application/vnd.jupyter.widget-view+json": {
       "model_id": "1739a792799b4ad3aa816a268c851b82",
       "version_major": 2,
       "version_minor": 0
      },
      "text/plain": [
       "Stem Tokens:   0%|          | 0/1 [00:00<?, ?it/s]"
      ]
     },
     "metadata": {},
     "output_type": "display_data"
    },
    {
     "data": {
      "application/vnd.jupyter.widget-view+json": {
       "model_id": "6d8a41679de74503ada5946a55679843",
       "version_major": 2,
       "version_minor": 0
      },
      "text/plain": [
       "BM25S Retrieve:   0%|          | 0/1 [00:00<?, ?it/s]"
      ]
     },
     "metadata": {},
     "output_type": "display_data"
    },
    {
     "name": "stdout",
     "output_type": "stream",
     "text": [
      "Checking if the context is sufficient:\n",
      "Full Context:\n",
      "\u001b[32;1m\u001b[1;3molympics has_tags Munich\n",
      "olympics has_tags Miracle\n",
      "olympics has_tags Chariots of Fire\n",
      "olympics has_tags Cool Runnings\n",
      "olympics has_tags The Other Dream Team\n",
      "2008 release_year Asterix at the Olympic Games\n",
      "Lantana has_tags sydney\n",
      "australia has_tags Australia\n",
      "Finding Nemo has_tags sydney\n",
      "Drama has_genre The Country Teacher\n",
      "Drama has_genre Summer Hours\n",
      "australia has_tags $9.99\n",
      "australia has_tags Lantana\n",
      "australia has_tags On the Beach\n",
      "story has_tags Australia\n",
      "Drama has_genre Australia\n",
      "Chopper has_tags australia\n",
      "Drama has_genre Men of Honor\n",
      "Drama has_genre Diamond Men\n",
      "hugh jackman has_tags X-Men\n",
      "nicole kidman has_tags Australia\n",
      "Australia has_tags baz luhrmann\n",
      "hugh jackman has_tags Australia\n",
      "2000 release_year The New Country\n",
      "2000 release_year A Storm in Summer\n",
      "olympics has_tags Munich\n",
      "2008 release_year Australia\n",
      "2000 release_year X-Men\n",
      "Running has_genre Sport\n",
      "Lantana has_tags sydney\n",
      "sydney has_tags Finding Nemo\n",
      "australia has_tags Australia\n",
      "2008 release_year $9.99\n",
      "Drama has_genre Australia\n",
      "story has_tags Australia\n",
      "australia has_tags $9.99\n",
      "australia has_tags Lantana\n",
      "x-men has_tags X-Men\n",
      "Australia has_tags baz luhrmann\n",
      "nicole kidman has_tags Australia\n",
      "hugh jackman has_tags Australia\n",
      "Richard Pearce directed_by Country\n",
      "1984 release_year Country\n",
      "William D. Wittliff written_by Country\n",
      "world war ii has_tags Australia\n",
      "marvel has_tags X-Men\n",
      "franchise has_tags X-Men\n",
      "future has_tags X-Men\n",
      "wolverine has_tags X-Men\n",
      "X-Men has_tags rogue\n",
      "X-Men has_tags rogue\n",
      "BASEketball has_tags sport\n",
      "The Wrestler has_tags sport\n",
      "sport has_tags Bhaag Milkha Bhaag\u001b[0m\n",
      "Model decision: NO\n",
      "\u001b[32;1m\u001b[1;3mExploring depth: 3\u001b[0m\n"
     ]
    },
    {
     "data": {
      "application/vnd.jupyter.widget-view+json": {
       "model_id": "2922217fa7b64ba3b59606a377e3e460",
       "version_major": 2,
       "version_minor": 0
      },
      "text/plain": [
       "Split strings: 0it [00:00, ?it/s]"
      ]
     },
     "metadata": {},
     "output_type": "display_data"
    },
    {
     "data": {
      "application/vnd.jupyter.widget-view+json": {
       "model_id": "541087279b254636b26a4fed9fb6ae49",
       "version_major": 2,
       "version_minor": 0
      },
      "text/plain": [
       "Stem Tokens:   0%|          | 0/3 [00:00<?, ?it/s]"
      ]
     },
     "metadata": {},
     "output_type": "display_data"
    },
    {
     "data": {
      "application/vnd.jupyter.widget-view+json": {
       "model_id": "2a361d971f204585b7f1bbb85ed6670f",
       "version_major": 2,
       "version_minor": 0
      },
      "text/plain": [
       "BM25S Count Tokens:   0%|          | 0/3 [00:00<?, ?it/s]"
      ]
     },
     "metadata": {},
     "output_type": "display_data"
    },
    {
     "data": {
      "application/vnd.jupyter.widget-view+json": {
       "model_id": "580b5fed9d3c4ef3b70b25b9c3ebc5ea",
       "version_major": 2,
       "version_minor": 0
      },
      "text/plain": [
       "BM25S Compute Scores:   0%|          | 0/3 [00:00<?, ?it/s]"
      ]
     },
     "metadata": {},
     "output_type": "display_data"
    },
    {
     "data": {
      "application/vnd.jupyter.widget-view+json": {
       "model_id": "015d935d592a4068873e81dfe65e55f6",
       "version_major": 2,
       "version_minor": 0
      },
      "text/plain": [
       "Split strings:   0%|          | 0/1 [00:00<?, ?it/s]"
      ]
     },
     "metadata": {},
     "output_type": "display_data"
    },
    {
     "data": {
      "application/vnd.jupyter.widget-view+json": {
       "model_id": "e54a627645a34c4d9cdfc984825030ac",
       "version_major": 2,
       "version_minor": 0
      },
      "text/plain": [
       "Stem Tokens:   0%|          | 0/1 [00:00<?, ?it/s]"
      ]
     },
     "metadata": {},
     "output_type": "display_data"
    },
    {
     "data": {
      "application/vnd.jupyter.widget-view+json": {
       "model_id": "a6d5a31d283343bdb246e679ee5f602c",
       "version_major": 2,
       "version_minor": 0
      },
      "text/plain": [
       "BM25S Retrieve:   0%|          | 0/1 [00:00<?, ?it/s]"
      ]
     },
     "metadata": {},
     "output_type": "display_data"
    },
    {
     "name": "stdout",
     "output_type": "stream",
     "text": [
      "Checking if the context is sufficient:\n",
      "Full Context:\n",
      "\u001b[32;1m\u001b[1;3molympics has_tags Munich\n",
      "olympics has_tags Miracle\n",
      "olympics has_tags Chariots of Fire\n",
      "olympics has_tags Cool Runnings\n",
      "olympics has_tags The Other Dream Team\n",
      "2008 release_year Asterix at the Olympic Games\n",
      "Lantana has_tags sydney\n",
      "australia has_tags Australia\n",
      "Finding Nemo has_tags sydney\n",
      "Drama has_genre The Country Teacher\n",
      "Drama has_genre Summer Hours\n",
      "australia has_tags $9.99\n",
      "australia has_tags Lantana\n",
      "australia has_tags On the Beach\n",
      "story has_tags Australia\n",
      "Drama has_genre Australia\n",
      "Chopper has_tags australia\n",
      "Drama has_genre Men of Honor\n",
      "Drama has_genre Diamond Men\n",
      "hugh jackman has_tags X-Men\n",
      "nicole kidman has_tags Australia\n",
      "Australia has_tags baz luhrmann\n",
      "hugh jackman has_tags Australia\n",
      "2000 release_year The New Country\n",
      "2000 release_year A Storm in Summer\n",
      "olympics has_tags Munich\n",
      "2008 release_year Australia\n",
      "2000 release_year X-Men\n",
      "Running has_genre Sport\n",
      "Lantana has_tags sydney\n",
      "sydney has_tags Finding Nemo\n",
      "australia has_tags Australia\n",
      "2008 release_year $9.99\n",
      "Drama has_genre Australia\n",
      "story has_tags Australia\n",
      "australia has_tags $9.99\n",
      "australia has_tags Lantana\n",
      "x-men has_tags X-Men\n",
      "Australia has_tags baz luhrmann\n",
      "nicole kidman has_tags Australia\n",
      "hugh jackman has_tags Australia\n",
      "Richard Pearce directed_by Country\n",
      "1984 release_year Country\n",
      "William D. Wittliff written_by Country\n",
      "world war ii has_tags Australia\n",
      "marvel has_tags X-Men\n",
      "franchise has_tags X-Men\n",
      "future has_tags X-Men\n",
      "wolverine has_tags X-Men\n",
      "X-Men has_tags rogue\n",
      "X-Men has_tags rogue\n",
      "BASEketball has_tags sport\n",
      "The Wrestler has_tags sport\n",
      "sport has_tags Bhaag Milkha Bhaag\n",
      "sport has_tags BASEketball\n",
      "The Wrestler has_tags sport\n",
      "Bhaag Milkha Bhaag has_tags sport\u001b[0m\n",
      "Model decision: NO\n",
      "\u001b[32;1m\u001b[1;3mExploring depth: 4\u001b[0m\n"
     ]
    },
    {
     "data": {
      "application/vnd.jupyter.widget-view+json": {
       "model_id": "dcd55c836bc748ffbcee8c46c91288ed",
       "version_major": 2,
       "version_minor": 0
      },
      "text/plain": [
       "Split strings: 0it [00:00, ?it/s]"
      ]
     },
     "metadata": {},
     "output_type": "display_data"
    },
    {
     "data": {
      "application/vnd.jupyter.widget-view+json": {
       "model_id": "a771a7a14e9548fa83f3f206e8de6969",
       "version_major": 2,
       "version_minor": 0
      },
      "text/plain": [
       "Stem Tokens:   0%|          | 0/14 [00:00<?, ?it/s]"
      ]
     },
     "metadata": {},
     "output_type": "display_data"
    },
    {
     "data": {
      "application/vnd.jupyter.widget-view+json": {
       "model_id": "e3c4e297b3ea41b4a329d42cd925a96a",
       "version_major": 2,
       "version_minor": 0
      },
      "text/plain": [
       "BM25S Count Tokens:   0%|          | 0/14 [00:00<?, ?it/s]"
      ]
     },
     "metadata": {},
     "output_type": "display_data"
    },
    {
     "data": {
      "application/vnd.jupyter.widget-view+json": {
       "model_id": "ce1dc19c554f407cbfe9ef108f66e3a1",
       "version_major": 2,
       "version_minor": 0
      },
      "text/plain": [
       "BM25S Compute Scores:   0%|          | 0/14 [00:00<?, ?it/s]"
      ]
     },
     "metadata": {},
     "output_type": "display_data"
    },
    {
     "data": {
      "application/vnd.jupyter.widget-view+json": {
       "model_id": "01a48977d1cd406a9bbe7d2a365919e0",
       "version_major": 2,
       "version_minor": 0
      },
      "text/plain": [
       "Split strings:   0%|          | 0/1 [00:00<?, ?it/s]"
      ]
     },
     "metadata": {},
     "output_type": "display_data"
    },
    {
     "data": {
      "application/vnd.jupyter.widget-view+json": {
       "model_id": "d239ed28857f4b3fa0fe12f003810afd",
       "version_major": 2,
       "version_minor": 0
      },
      "text/plain": [
       "Stem Tokens:   0%|          | 0/1 [00:00<?, ?it/s]"
      ]
     },
     "metadata": {},
     "output_type": "display_data"
    },
    {
     "data": {
      "application/vnd.jupyter.widget-view+json": {
       "model_id": "132b9343cc064ee881d5162adf3a3bb0",
       "version_major": 2,
       "version_minor": 0
      },
      "text/plain": [
       "BM25S Retrieve:   0%|          | 0/1 [00:00<?, ?it/s]"
      ]
     },
     "metadata": {},
     "output_type": "display_data"
    },
    {
     "name": "stdout",
     "output_type": "stream",
     "text": [
      "Checking if the context is sufficient:\n",
      "Full Context:\n",
      "\u001b[32;1m\u001b[1;3molympics has_tags Munich\n",
      "olympics has_tags Miracle\n",
      "olympics has_tags Chariots of Fire\n",
      "olympics has_tags Cool Runnings\n",
      "olympics has_tags The Other Dream Team\n",
      "2008 release_year Asterix at the Olympic Games\n",
      "Lantana has_tags sydney\n",
      "australia has_tags Australia\n",
      "Finding Nemo has_tags sydney\n",
      "Drama has_genre The Country Teacher\n",
      "Drama has_genre Summer Hours\n",
      "australia has_tags $9.99\n",
      "australia has_tags Lantana\n",
      "australia has_tags On the Beach\n",
      "story has_tags Australia\n",
      "Drama has_genre Australia\n",
      "Chopper has_tags australia\n",
      "Drama has_genre Men of Honor\n",
      "Drama has_genre Diamond Men\n",
      "hugh jackman has_tags X-Men\n",
      "nicole kidman has_tags Australia\n",
      "Australia has_tags baz luhrmann\n",
      "hugh jackman has_tags Australia\n",
      "2000 release_year The New Country\n",
      "2000 release_year A Storm in Summer\n",
      "olympics has_tags Munich\n",
      "2008 release_year Australia\n",
      "2000 release_year X-Men\n",
      "Running has_genre Sport\n",
      "Lantana has_tags sydney\n",
      "sydney has_tags Finding Nemo\n",
      "australia has_tags Australia\n",
      "2008 release_year $9.99\n",
      "Drama has_genre Australia\n",
      "story has_tags Australia\n",
      "australia has_tags $9.99\n",
      "australia has_tags Lantana\n",
      "x-men has_tags X-Men\n",
      "Australia has_tags baz luhrmann\n",
      "nicole kidman has_tags Australia\n",
      "hugh jackman has_tags Australia\n",
      "Richard Pearce directed_by Country\n",
      "1984 release_year Country\n",
      "William D. Wittliff written_by Country\n",
      "world war ii has_tags Australia\n",
      "marvel has_tags X-Men\n",
      "franchise has_tags X-Men\n",
      "future has_tags X-Men\n",
      "wolverine has_tags X-Men\n",
      "X-Men has_tags rogue\n",
      "X-Men has_tags rogue\n",
      "BASEketball has_tags sport\n",
      "The Wrestler has_tags sport\n",
      "sport has_tags Bhaag Milkha Bhaag\n",
      "sport has_tags BASEketball\n",
      "The Wrestler has_tags sport\n",
      "Bhaag Milkha Bhaag has_tags sport\n",
      "BASEketball has_tags sport\n",
      "BASEketball has_genre Sport\n",
      "BASEketball has_genre Comedy\n",
      "BASEketball has_tags comedy\n",
      "BASEketball has_tags south park\n",
      "BASEketball has_tags matt stone\n",
      "trey parker has_tags BASEketball\n",
      "david zucker has_tags BASEketball\n",
      "BASEketball starred_actors Yasmine Bleeth\n",
      "BASEketball release_year 1998\n",
      "BASEketball starred_actors Matt Stone\n",
      "Trey Parker starred_actors BASEketball\n",
      "Dian Bachar starred_actors BASEketball\n",
      "David Zucker written_by BASEketball\u001b[0m\n",
      "Model decision: NO\n",
      "\u001b[32;1m\u001b[1;3mExploring depth: 5\u001b[0m\n"
     ]
    },
    {
     "data": {
      "application/vnd.jupyter.widget-view+json": {
       "model_id": "58ba4f74e980459988fedcd9ff5226f7",
       "version_major": 2,
       "version_minor": 0
      },
      "text/plain": [
       "Split strings: 0it [00:00, ?it/s]"
      ]
     },
     "metadata": {},
     "output_type": "display_data"
    },
    {
     "data": {
      "application/vnd.jupyter.widget-view+json": {
       "model_id": "c5c343addab046548dd7b71c85373bf9",
       "version_major": 2,
       "version_minor": 0
      },
      "text/plain": [
       "Stem Tokens:   0%|          | 0/1085 [00:00<?, ?it/s]"
      ]
     },
     "metadata": {},
     "output_type": "display_data"
    },
    {
     "data": {
      "application/vnd.jupyter.widget-view+json": {
       "model_id": "6c0d6692cd054df08522595f35e17ee7",
       "version_major": 2,
       "version_minor": 0
      },
      "text/plain": [
       "BM25S Count Tokens:   0%|          | 0/1085 [00:00<?, ?it/s]"
      ]
     },
     "metadata": {},
     "output_type": "display_data"
    },
    {
     "data": {
      "application/vnd.jupyter.widget-view+json": {
       "model_id": "718e25535a584e30878ebdadf238ef8d",
       "version_major": 2,
       "version_minor": 0
      },
      "text/plain": [
       "BM25S Compute Scores:   0%|          | 0/1085 [00:00<?, ?it/s]"
      ]
     },
     "metadata": {},
     "output_type": "display_data"
    },
    {
     "data": {
      "application/vnd.jupyter.widget-view+json": {
       "model_id": "706e69c99dca471faf7d990456971782",
       "version_major": 2,
       "version_minor": 0
      },
      "text/plain": [
       "Split strings:   0%|          | 0/1 [00:00<?, ?it/s]"
      ]
     },
     "metadata": {},
     "output_type": "display_data"
    },
    {
     "data": {
      "application/vnd.jupyter.widget-view+json": {
       "model_id": "03cc0e5699c14263bf9d16ec0dc53b9c",
       "version_major": 2,
       "version_minor": 0
      },
      "text/plain": [
       "Stem Tokens:   0%|          | 0/1 [00:00<?, ?it/s]"
      ]
     },
     "metadata": {},
     "output_type": "display_data"
    },
    {
     "data": {
      "application/vnd.jupyter.widget-view+json": {
       "model_id": "2e66552e803b4fbd8ee3bf34e161e277",
       "version_major": 2,
       "version_minor": 0
      },
      "text/plain": [
       "BM25S Retrieve:   0%|          | 0/1 [00:00<?, ?it/s]"
      ]
     },
     "metadata": {},
     "output_type": "display_data"
    },
    {
     "name": "stdout",
     "output_type": "stream",
     "text": [
      "Checking if the context is sufficient:\n",
      "Full Context:\n",
      "\u001b[32;1m\u001b[1;3molympics has_tags Munich\n",
      "olympics has_tags Miracle\n",
      "olympics has_tags Chariots of Fire\n",
      "olympics has_tags Cool Runnings\n",
      "olympics has_tags The Other Dream Team\n",
      "2008 release_year Asterix at the Olympic Games\n",
      "Lantana has_tags sydney\n",
      "australia has_tags Australia\n",
      "Finding Nemo has_tags sydney\n",
      "Drama has_genre The Country Teacher\n",
      "Drama has_genre Summer Hours\n",
      "australia has_tags $9.99\n",
      "australia has_tags Lantana\n",
      "australia has_tags On the Beach\n",
      "story has_tags Australia\n",
      "Drama has_genre Australia\n",
      "Chopper has_tags australia\n",
      "Drama has_genre Men of Honor\n",
      "Drama has_genre Diamond Men\n",
      "hugh jackman has_tags X-Men\n",
      "nicole kidman has_tags Australia\n",
      "Australia has_tags baz luhrmann\n",
      "hugh jackman has_tags Australia\n",
      "2000 release_year The New Country\n",
      "2000 release_year A Storm in Summer\n",
      "olympics has_tags Munich\n",
      "2008 release_year Australia\n",
      "2000 release_year X-Men\n",
      "Running has_genre Sport\n",
      "Lantana has_tags sydney\n",
      "sydney has_tags Finding Nemo\n",
      "australia has_tags Australia\n",
      "2008 release_year $9.99\n",
      "Drama has_genre Australia\n",
      "story has_tags Australia\n",
      "australia has_tags $9.99\n",
      "australia has_tags Lantana\n",
      "x-men has_tags X-Men\n",
      "Australia has_tags baz luhrmann\n",
      "nicole kidman has_tags Australia\n",
      "hugh jackman has_tags Australia\n",
      "Richard Pearce directed_by Country\n",
      "1984 release_year Country\n",
      "William D. Wittliff written_by Country\n",
      "world war ii has_tags Australia\n",
      "marvel has_tags X-Men\n",
      "franchise has_tags X-Men\n",
      "future has_tags X-Men\n",
      "wolverine has_tags X-Men\n",
      "X-Men has_tags rogue\n",
      "X-Men has_tags rogue\n",
      "BASEketball has_tags sport\n",
      "The Wrestler has_tags sport\n",
      "sport has_tags Bhaag Milkha Bhaag\n",
      "sport has_tags BASEketball\n",
      "The Wrestler has_tags sport\n",
      "Bhaag Milkha Bhaag has_tags sport\n",
      "BASEketball has_tags sport\n",
      "BASEketball has_genre Sport\n",
      "BASEketball has_genre Comedy\n",
      "BASEketball has_tags comedy\n",
      "BASEketball has_tags south park\n",
      "BASEketball has_tags matt stone\n",
      "trey parker has_tags BASEketball\n",
      "david zucker has_tags BASEketball\n",
      "BASEketball starred_actors Yasmine Bleeth\n",
      "BASEketball release_year 1998\n",
      "BASEketball starred_actors Matt Stone\n",
      "Trey Parker starred_actors BASEketball\n",
      "Dian Bachar starred_actors BASEketball\n",
      "David Zucker written_by BASEketball\n",
      "50 First Dates has_tags comedy\n",
      "Drama has_genre The Hi-Lo Country\n",
      "comedy has_tags Summer School\n",
      "1998 release_year Blues Brothers 2000\n",
      "comedy has_tags Smiles of a Summer Night\n",
      "comedy has_tags Matchstick Men\n",
      "comedy has_tags Mystery Men\n",
      "comedy has_tags Real Men\n",
      "Drama has_genre Matchstick Men\n",
      "1998 release_year The Hi-Lo Country\n",
      "1998 release_year A Summer by the River\n",
      "comedy has_tags Grumpier Old Men\n",
      "comedy has_tags Grumpy Old Men\n",
      "comedy has_tags The Men Who Stare at Goats\n",
      "White Men Can't Jump has_tags comedy\n",
      "1998 release_year Safe Men\n",
      "1998 release_year I Still Know What You Did Last Summer\n",
      "comedy has_tags To Be or Not to Be\n",
      "comedy has_tags K-9\n",
      "comedy has_tags RV\n",
      "Bananas has_tags comedy\n",
      "Drama has_genre Midnight\n",
      "comedy has_tags Megamind\n",
      "comedy has_tags The Closet\n",
      "The Croods has_tags comedy\u001b[0m\n",
      "Model decision: NO\n",
      "\u001b[32;1m\u001b[1;3mExploring depth: 6\u001b[0m\n"
     ]
    },
    {
     "data": {
      "application/vnd.jupyter.widget-view+json": {
       "model_id": "4d88283962b0474889fe06833fbabad1",
       "version_major": 2,
       "version_minor": 0
      },
      "text/plain": [
       "Split strings: 0it [00:00, ?it/s]"
      ]
     },
     "metadata": {},
     "output_type": "display_data"
    },
    {
     "data": {
      "application/vnd.jupyter.widget-view+json": {
       "model_id": "5253abe0f94d441bb4a3503e5a0dbd39",
       "version_major": 2,
       "version_minor": 0
      },
      "text/plain": [
       "Stem Tokens:   0%|          | 0/106 [00:00<?, ?it/s]"
      ]
     },
     "metadata": {},
     "output_type": "display_data"
    },
    {
     "data": {
      "application/vnd.jupyter.widget-view+json": {
       "model_id": "393b14b4fa44493aae79289da97e3984",
       "version_major": 2,
       "version_minor": 0
      },
      "text/plain": [
       "BM25S Count Tokens:   0%|          | 0/106 [00:00<?, ?it/s]"
      ]
     },
     "metadata": {},
     "output_type": "display_data"
    },
    {
     "data": {
      "application/vnd.jupyter.widget-view+json": {
       "model_id": "5aca3a03530a42348dc45086f68fde6e",
       "version_major": 2,
       "version_minor": 0
      },
      "text/plain": [
       "BM25S Compute Scores:   0%|          | 0/106 [00:00<?, ?it/s]"
      ]
     },
     "metadata": {},
     "output_type": "display_data"
    },
    {
     "data": {
      "application/vnd.jupyter.widget-view+json": {
       "model_id": "9fbcf459ff464995a57ca764d97afd40",
       "version_major": 2,
       "version_minor": 0
      },
      "text/plain": [
       "Split strings:   0%|          | 0/1 [00:00<?, ?it/s]"
      ]
     },
     "metadata": {},
     "output_type": "display_data"
    },
    {
     "data": {
      "application/vnd.jupyter.widget-view+json": {
       "model_id": "9e6f304390274329b2ce8ccb4cef9046",
       "version_major": 2,
       "version_minor": 0
      },
      "text/plain": [
       "Stem Tokens:   0%|          | 0/1 [00:00<?, ?it/s]"
      ]
     },
     "metadata": {},
     "output_type": "display_data"
    },
    {
     "data": {
      "application/vnd.jupyter.widget-view+json": {
       "model_id": "403a30f4c772464788f428c177cd909e",
       "version_major": 2,
       "version_minor": 0
      },
      "text/plain": [
       "BM25S Retrieve:   0%|          | 0/1 [00:00<?, ?it/s]"
      ]
     },
     "metadata": {},
     "output_type": "display_data"
    },
    {
     "name": "stdout",
     "output_type": "stream",
     "text": [
      "Checking if the context is sufficient:\n",
      "Full Context:\n",
      "\u001b[32;1m\u001b[1;3molympics has_tags Munich\n",
      "olympics has_tags Miracle\n",
      "olympics has_tags Chariots of Fire\n",
      "olympics has_tags Cool Runnings\n",
      "olympics has_tags The Other Dream Team\n",
      "2008 release_year Asterix at the Olympic Games\n",
      "Lantana has_tags sydney\n",
      "australia has_tags Australia\n",
      "Finding Nemo has_tags sydney\n",
      "Drama has_genre The Country Teacher\n",
      "Drama has_genre Summer Hours\n",
      "australia has_tags $9.99\n",
      "australia has_tags Lantana\n",
      "australia has_tags On the Beach\n",
      "story has_tags Australia\n",
      "Drama has_genre Australia\n",
      "Chopper has_tags australia\n",
      "Drama has_genre Men of Honor\n",
      "Drama has_genre Diamond Men\n",
      "hugh jackman has_tags X-Men\n",
      "nicole kidman has_tags Australia\n",
      "Australia has_tags baz luhrmann\n",
      "hugh jackman has_tags Australia\n",
      "2000 release_year The New Country\n",
      "2000 release_year A Storm in Summer\n",
      "olympics has_tags Munich\n",
      "2008 release_year Australia\n",
      "2000 release_year X-Men\n",
      "Running has_genre Sport\n",
      "Lantana has_tags sydney\n",
      "sydney has_tags Finding Nemo\n",
      "australia has_tags Australia\n",
      "2008 release_year $9.99\n",
      "Drama has_genre Australia\n",
      "story has_tags Australia\n",
      "australia has_tags $9.99\n",
      "australia has_tags Lantana\n",
      "x-men has_tags X-Men\n",
      "Australia has_tags baz luhrmann\n",
      "nicole kidman has_tags Australia\n",
      "hugh jackman has_tags Australia\n",
      "Richard Pearce directed_by Country\n",
      "1984 release_year Country\n",
      "William D. Wittliff written_by Country\n",
      "world war ii has_tags Australia\n",
      "marvel has_tags X-Men\n",
      "franchise has_tags X-Men\n",
      "future has_tags X-Men\n",
      "wolverine has_tags X-Men\n",
      "X-Men has_tags rogue\n",
      "X-Men has_tags rogue\n",
      "BASEketball has_tags sport\n",
      "The Wrestler has_tags sport\n",
      "sport has_tags Bhaag Milkha Bhaag\n",
      "sport has_tags BASEketball\n",
      "The Wrestler has_tags sport\n",
      "Bhaag Milkha Bhaag has_tags sport\n",
      "BASEketball has_tags sport\n",
      "BASEketball has_genre Sport\n",
      "BASEketball has_genre Comedy\n",
      "BASEketball has_tags comedy\n",
      "BASEketball has_tags south park\n",
      "BASEketball has_tags matt stone\n",
      "trey parker has_tags BASEketball\n",
      "david zucker has_tags BASEketball\n",
      "BASEketball starred_actors Yasmine Bleeth\n",
      "BASEketball release_year 1998\n",
      "BASEketball starred_actors Matt Stone\n",
      "Trey Parker starred_actors BASEketball\n",
      "Dian Bachar starred_actors BASEketball\n",
      "David Zucker written_by BASEketball\n",
      "50 First Dates has_tags comedy\n",
      "Drama has_genre The Hi-Lo Country\n",
      "comedy has_tags Summer School\n",
      "1998 release_year Blues Brothers 2000\n",
      "comedy has_tags Smiles of a Summer Night\n",
      "comedy has_tags Matchstick Men\n",
      "comedy has_tags Mystery Men\n",
      "comedy has_tags Real Men\n",
      "Drama has_genre Matchstick Men\n",
      "1998 release_year The Hi-Lo Country\n",
      "1998 release_year A Summer by the River\n",
      "comedy has_tags Grumpier Old Men\n",
      "comedy has_tags Grumpy Old Men\n",
      "comedy has_tags The Men Who Stare at Goats\n",
      "White Men Can't Jump has_tags comedy\n",
      "1998 release_year Safe Men\n",
      "1998 release_year I Still Know What You Did Last Summer\n",
      "comedy has_tags To Be or Not to Be\n",
      "comedy has_tags K-9\n",
      "comedy has_tags RV\n",
      "Bananas has_tags comedy\n",
      "Drama has_genre Midnight\n",
      "comedy has_tags Megamind\n",
      "comedy has_tags The Closet\n",
      "The Croods has_tags comedy\n",
      "comedy has_tags K-9\n",
      "Comedy has_genre K-9\n",
      "Action has_genre K-9\n",
      "Drama has_genre Midnight\n",
      "Comedy has_genre Goats\n",
      "rod daniel has_tags K-9\n",
      "Comedy has_genre Megamind\n",
      "comedy has_tags Megamind\n",
      "Comedy has_genre Midnight\n",
      "comedy has_tags RV\n",
      "Drama has_genre An Education\n",
      "Midnight has_tags paris\n",
      "Machuca has_tags school\n",
      "Comedy has_genre RV\n",
      "Megamind has_tags 3d\n",
      "Megamind has_genre Action\n",
      "RV has_tags vacation\n",
      "Megamind has_tags will ferrell\n",
      "An Education has_tags school\n",
      "Megamind has_tags dreamworks\n",
      "Megamind has_genre Animation\n",
      "Megamind has_tags animated\n",
      "Innocence has_tags school\n",
      "james belushi has_tags K-9\n",
      "Megamind has_tags superhero\u001b[0m\n",
      "Model decision: NO\n",
      "\u001b[32;1m\u001b[1;3mExploring depth: 7\u001b[0m\n"
     ]
    },
    {
     "data": {
      "application/vnd.jupyter.widget-view+json": {
       "model_id": "947c0b5edd034f218cbc36f3b7256fc8",
       "version_major": 2,
       "version_minor": 0
      },
      "text/plain": [
       "Split strings: 0it [00:00, ?it/s]"
      ]
     },
     "metadata": {},
     "output_type": "display_data"
    },
    {
     "data": {
      "application/vnd.jupyter.widget-view+json": {
       "model_id": "672952b0723e415bac32dc3a302e8959",
       "version_major": 2,
       "version_minor": 0
      },
      "text/plain": [
       "Stem Tokens:   0%|          | 0/316 [00:00<?, ?it/s]"
      ]
     },
     "metadata": {},
     "output_type": "display_data"
    },
    {
     "data": {
      "application/vnd.jupyter.widget-view+json": {
       "model_id": "280b74f982014568bc531d81582ff8d1",
       "version_major": 2,
       "version_minor": 0
      },
      "text/plain": [
       "BM25S Count Tokens:   0%|          | 0/316 [00:00<?, ?it/s]"
      ]
     },
     "metadata": {},
     "output_type": "display_data"
    },
    {
     "data": {
      "application/vnd.jupyter.widget-view+json": {
       "model_id": "9e5053a2a21f423692e80e288cff4319",
       "version_major": 2,
       "version_minor": 0
      },
      "text/plain": [
       "BM25S Compute Scores:   0%|          | 0/316 [00:00<?, ?it/s]"
      ]
     },
     "metadata": {},
     "output_type": "display_data"
    },
    {
     "data": {
      "application/vnd.jupyter.widget-view+json": {
       "model_id": "ebf5353242bc4bc7b0d12f6a6eec6fa0",
       "version_major": 2,
       "version_minor": 0
      },
      "text/plain": [
       "Split strings:   0%|          | 0/1 [00:00<?, ?it/s]"
      ]
     },
     "metadata": {},
     "output_type": "display_data"
    },
    {
     "data": {
      "application/vnd.jupyter.widget-view+json": {
       "model_id": "db6d042ad6324bd4817b31a76ce25d87",
       "version_major": 2,
       "version_minor": 0
      },
      "text/plain": [
       "Stem Tokens:   0%|          | 0/1 [00:00<?, ?it/s]"
      ]
     },
     "metadata": {},
     "output_type": "display_data"
    },
    {
     "data": {
      "application/vnd.jupyter.widget-view+json": {
       "model_id": "ee494724a6064a4bac455d3a6b11b303",
       "version_major": 2,
       "version_minor": 0
      },
      "text/plain": [
       "BM25S Retrieve:   0%|          | 0/1 [00:00<?, ?it/s]"
      ]
     },
     "metadata": {},
     "output_type": "display_data"
    },
    {
     "name": "stdout",
     "output_type": "stream",
     "text": [
      "Checking if the context is sufficient:\n",
      "Full Context:\n",
      "\u001b[32;1m\u001b[1;3molympics has_tags Munich\n",
      "olympics has_tags Miracle\n",
      "olympics has_tags Chariots of Fire\n",
      "olympics has_tags Cool Runnings\n",
      "olympics has_tags The Other Dream Team\n",
      "2008 release_year Asterix at the Olympic Games\n",
      "Lantana has_tags sydney\n",
      "australia has_tags Australia\n",
      "Finding Nemo has_tags sydney\n",
      "Drama has_genre The Country Teacher\n",
      "Drama has_genre Summer Hours\n",
      "australia has_tags $9.99\n",
      "australia has_tags Lantana\n",
      "australia has_tags On the Beach\n",
      "story has_tags Australia\n",
      "Drama has_genre Australia\n",
      "Chopper has_tags australia\n",
      "Drama has_genre Men of Honor\n",
      "Drama has_genre Diamond Men\n",
      "hugh jackman has_tags X-Men\n",
      "nicole kidman has_tags Australia\n",
      "Australia has_tags baz luhrmann\n",
      "hugh jackman has_tags Australia\n",
      "2000 release_year The New Country\n",
      "2000 release_year A Storm in Summer\n",
      "olympics has_tags Munich\n",
      "2008 release_year Australia\n",
      "2000 release_year X-Men\n",
      "Running has_genre Sport\n",
      "Lantana has_tags sydney\n",
      "sydney has_tags Finding Nemo\n",
      "australia has_tags Australia\n",
      "2008 release_year $9.99\n",
      "Drama has_genre Australia\n",
      "story has_tags Australia\n",
      "australia has_tags $9.99\n",
      "australia has_tags Lantana\n",
      "x-men has_tags X-Men\n",
      "Australia has_tags baz luhrmann\n",
      "nicole kidman has_tags Australia\n",
      "hugh jackman has_tags Australia\n",
      "Richard Pearce directed_by Country\n",
      "1984 release_year Country\n",
      "William D. Wittliff written_by Country\n",
      "world war ii has_tags Australia\n",
      "marvel has_tags X-Men\n",
      "franchise has_tags X-Men\n",
      "future has_tags X-Men\n",
      "wolverine has_tags X-Men\n",
      "X-Men has_tags rogue\n",
      "X-Men has_tags rogue\n",
      "BASEketball has_tags sport\n",
      "The Wrestler has_tags sport\n",
      "sport has_tags Bhaag Milkha Bhaag\n",
      "sport has_tags BASEketball\n",
      "The Wrestler has_tags sport\n",
      "Bhaag Milkha Bhaag has_tags sport\n",
      "BASEketball has_tags sport\n",
      "BASEketball has_genre Sport\n",
      "BASEketball has_genre Comedy\n",
      "BASEketball has_tags comedy\n",
      "BASEketball has_tags south park\n",
      "BASEketball has_tags matt stone\n",
      "trey parker has_tags BASEketball\n",
      "david zucker has_tags BASEketball\n",
      "BASEketball starred_actors Yasmine Bleeth\n",
      "BASEketball release_year 1998\n",
      "BASEketball starred_actors Matt Stone\n",
      "Trey Parker starred_actors BASEketball\n",
      "Dian Bachar starred_actors BASEketball\n",
      "David Zucker written_by BASEketball\n",
      "50 First Dates has_tags comedy\n",
      "Drama has_genre The Hi-Lo Country\n",
      "comedy has_tags Summer School\n",
      "1998 release_year Blues Brothers 2000\n",
      "comedy has_tags Smiles of a Summer Night\n",
      "comedy has_tags Matchstick Men\n",
      "comedy has_tags Mystery Men\n",
      "comedy has_tags Real Men\n",
      "Drama has_genre Matchstick Men\n",
      "1998 release_year The Hi-Lo Country\n",
      "1998 release_year A Summer by the River\n",
      "comedy has_tags Grumpier Old Men\n",
      "comedy has_tags Grumpy Old Men\n",
      "comedy has_tags The Men Who Stare at Goats\n",
      "White Men Can't Jump has_tags comedy\n",
      "1998 release_year Safe Men\n",
      "1998 release_year I Still Know What You Did Last Summer\n",
      "comedy has_tags To Be or Not to Be\n",
      "comedy has_tags K-9\n",
      "comedy has_tags RV\n",
      "Bananas has_tags comedy\n",
      "Drama has_genre Midnight\n",
      "comedy has_tags Megamind\n",
      "comedy has_tags The Closet\n",
      "The Croods has_tags comedy\n",
      "comedy has_tags K-9\n",
      "Comedy has_genre K-9\n",
      "Action has_genre K-9\n",
      "Drama has_genre Midnight\n",
      "Comedy has_genre Goats\n",
      "rod daniel has_tags K-9\n",
      "Comedy has_genre Megamind\n",
      "comedy has_tags Megamind\n",
      "Comedy has_genre Midnight\n",
      "comedy has_tags RV\n",
      "Drama has_genre An Education\n",
      "Midnight has_tags paris\n",
      "Machuca has_tags school\n",
      "Comedy has_genre RV\n",
      "Megamind has_tags 3d\n",
      "Megamind has_genre Action\n",
      "RV has_tags vacation\n",
      "Megamind has_tags will ferrell\n",
      "An Education has_tags school\n",
      "Megamind has_tags dreamworks\n",
      "Megamind has_genre Animation\n",
      "Megamind has_tags animated\n",
      "Innocence has_tags school\n",
      "james belushi has_tags K-9\n",
      "Megamind has_tags superhero\n",
      "First Blood has_tags action\n",
      "3d has_tags Men in Black 3\n",
      "Mystery Men has_tags superheroes\n",
      "Men in Black has_tags action\n",
      "Men in Black 3 has_tags action\n",
      "2008 release_year Transporter 3\n",
      "2008 release_year Rambo\n",
      "Wanted release_year 2008\n",
      "2008 release_year Taken\n",
      "Paris release_year 2008\n",
      "Ip Man release_year 2008\n",
      "Quantum of Solace release_year 2008\n",
      "2008 release_year Iron Man\n",
      "Kung Fu Panda release_year 2008\n",
      "Journey to the Center of the Earth release_year 2008\n",
      "Olympus Has Fallen has_tags action\n",
      "action has_tags S.W.A.T.\n",
      "The Net has_tags action\n",
      "3d has_tags Pina\n",
      "3d has_tags Beowulf\n",
      "The A-Team has_tags action\n",
      "The One has_tags action\n",
      "3d has_tags Avatar\n",
      "Wanted has_tags action\n",
      "Sahara has_tags action\u001b[0m\n",
      "Model decision: NO\n",
      "\u001b[32;1m\u001b[1;3mExploring depth: 8\u001b[0m\n"
     ]
    },
    {
     "data": {
      "application/vnd.jupyter.widget-view+json": {
       "model_id": "9897e3458f374248a1e11846ee0384e9",
       "version_major": 2,
       "version_minor": 0
      },
      "text/plain": [
       "Split strings: 0it [00:00, ?it/s]"
      ]
     },
     "metadata": {},
     "output_type": "display_data"
    },
    {
     "data": {
      "application/vnd.jupyter.widget-view+json": {
       "model_id": "3bce95f6f86f4c5c8bc42c279b8f1ef1",
       "version_major": 2,
       "version_minor": 0
      },
      "text/plain": [
       "Stem Tokens:   0%|          | 0/824 [00:00<?, ?it/s]"
      ]
     },
     "metadata": {},
     "output_type": "display_data"
    },
    {
     "data": {
      "application/vnd.jupyter.widget-view+json": {
       "model_id": "cad2d4e84af840e5964f6c5fc755af0d",
       "version_major": 2,
       "version_minor": 0
      },
      "text/plain": [
       "BM25S Count Tokens:   0%|          | 0/824 [00:00<?, ?it/s]"
      ]
     },
     "metadata": {},
     "output_type": "display_data"
    },
    {
     "data": {
      "application/vnd.jupyter.widget-view+json": {
       "model_id": "634e97210b51425690a90682b9ecf663",
       "version_major": 2,
       "version_minor": 0
      },
      "text/plain": [
       "BM25S Compute Scores:   0%|          | 0/824 [00:00<?, ?it/s]"
      ]
     },
     "metadata": {},
     "output_type": "display_data"
    },
    {
     "data": {
      "application/vnd.jupyter.widget-view+json": {
       "model_id": "c837931d8bcd468a825764edc65d5ad2",
       "version_major": 2,
       "version_minor": 0
      },
      "text/plain": [
       "Split strings:   0%|          | 0/1 [00:00<?, ?it/s]"
      ]
     },
     "metadata": {},
     "output_type": "display_data"
    },
    {
     "data": {
      "application/vnd.jupyter.widget-view+json": {
       "model_id": "f48f389c8da44582af6e7720aa921323",
       "version_major": 2,
       "version_minor": 0
      },
      "text/plain": [
       "Stem Tokens:   0%|          | 0/1 [00:00<?, ?it/s]"
      ]
     },
     "metadata": {},
     "output_type": "display_data"
    },
    {
     "data": {
      "application/vnd.jupyter.widget-view+json": {
       "model_id": "78ac452285de4ced913dd86e969db31d",
       "version_major": 2,
       "version_minor": 0
      },
      "text/plain": [
       "BM25S Retrieve:   0%|          | 0/1 [00:00<?, ?it/s]"
      ]
     },
     "metadata": {},
     "output_type": "display_data"
    },
    {
     "name": "stdout",
     "output_type": "stream",
     "text": [
      "Checking if the context is sufficient:\n",
      "Full Context:\n",
      "\u001b[32;1m\u001b[1;3molympics has_tags Munich\n",
      "olympics has_tags Miracle\n",
      "olympics has_tags Chariots of Fire\n",
      "olympics has_tags Cool Runnings\n",
      "olympics has_tags The Other Dream Team\n",
      "2008 release_year Asterix at the Olympic Games\n",
      "Lantana has_tags sydney\n",
      "australia has_tags Australia\n",
      "Finding Nemo has_tags sydney\n",
      "Drama has_genre The Country Teacher\n",
      "Drama has_genre Summer Hours\n",
      "australia has_tags $9.99\n",
      "australia has_tags Lantana\n",
      "australia has_tags On the Beach\n",
      "story has_tags Australia\n",
      "Drama has_genre Australia\n",
      "Chopper has_tags australia\n",
      "Drama has_genre Men of Honor\n",
      "Drama has_genre Diamond Men\n",
      "hugh jackman has_tags X-Men\n",
      "nicole kidman has_tags Australia\n",
      "Australia has_tags baz luhrmann\n",
      "hugh jackman has_tags Australia\n",
      "2000 release_year The New Country\n",
      "2000 release_year A Storm in Summer\n",
      "olympics has_tags Munich\n",
      "2008 release_year Australia\n",
      "2000 release_year X-Men\n",
      "Running has_genre Sport\n",
      "Lantana has_tags sydney\n",
      "sydney has_tags Finding Nemo\n",
      "australia has_tags Australia\n",
      "2008 release_year $9.99\n",
      "Drama has_genre Australia\n",
      "story has_tags Australia\n",
      "australia has_tags $9.99\n",
      "australia has_tags Lantana\n",
      "x-men has_tags X-Men\n",
      "Australia has_tags baz luhrmann\n",
      "nicole kidman has_tags Australia\n",
      "hugh jackman has_tags Australia\n",
      "Richard Pearce directed_by Country\n",
      "1984 release_year Country\n",
      "William D. Wittliff written_by Country\n",
      "world war ii has_tags Australia\n",
      "marvel has_tags X-Men\n",
      "franchise has_tags X-Men\n",
      "future has_tags X-Men\n",
      "wolverine has_tags X-Men\n",
      "X-Men has_tags rogue\n",
      "X-Men has_tags rogue\n",
      "BASEketball has_tags sport\n",
      "The Wrestler has_tags sport\n",
      "sport has_tags Bhaag Milkha Bhaag\n",
      "sport has_tags BASEketball\n",
      "The Wrestler has_tags sport\n",
      "Bhaag Milkha Bhaag has_tags sport\n",
      "BASEketball has_tags sport\n",
      "BASEketball has_genre Sport\n",
      "BASEketball has_genre Comedy\n",
      "BASEketball has_tags comedy\n",
      "BASEketball has_tags south park\n",
      "BASEketball has_tags matt stone\n",
      "trey parker has_tags BASEketball\n",
      "david zucker has_tags BASEketball\n",
      "BASEketball starred_actors Yasmine Bleeth\n",
      "BASEketball release_year 1998\n",
      "BASEketball starred_actors Matt Stone\n",
      "Trey Parker starred_actors BASEketball\n",
      "Dian Bachar starred_actors BASEketball\n",
      "David Zucker written_by BASEketball\n",
      "50 First Dates has_tags comedy\n",
      "Drama has_genre The Hi-Lo Country\n",
      "comedy has_tags Summer School\n",
      "1998 release_year Blues Brothers 2000\n",
      "comedy has_tags Smiles of a Summer Night\n",
      "comedy has_tags Matchstick Men\n",
      "comedy has_tags Mystery Men\n",
      "comedy has_tags Real Men\n",
      "Drama has_genre Matchstick Men\n",
      "1998 release_year The Hi-Lo Country\n",
      "1998 release_year A Summer by the River\n",
      "comedy has_tags Grumpier Old Men\n",
      "comedy has_tags Grumpy Old Men\n",
      "comedy has_tags The Men Who Stare at Goats\n",
      "White Men Can't Jump has_tags comedy\n",
      "1998 release_year Safe Men\n",
      "1998 release_year I Still Know What You Did Last Summer\n",
      "comedy has_tags To Be or Not to Be\n",
      "comedy has_tags K-9\n",
      "comedy has_tags RV\n",
      "Bananas has_tags comedy\n",
      "Drama has_genre Midnight\n",
      "comedy has_tags Megamind\n",
      "comedy has_tags The Closet\n",
      "The Croods has_tags comedy\n",
      "comedy has_tags K-9\n",
      "Comedy has_genre K-9\n",
      "Action has_genre K-9\n",
      "Drama has_genre Midnight\n",
      "Comedy has_genre Goats\n",
      "rod daniel has_tags K-9\n",
      "Comedy has_genre Megamind\n",
      "comedy has_tags Megamind\n",
      "Comedy has_genre Midnight\n",
      "comedy has_tags RV\n",
      "Drama has_genre An Education\n",
      "Midnight has_tags paris\n",
      "Machuca has_tags school\n",
      "Comedy has_genre RV\n",
      "Megamind has_tags 3d\n",
      "Megamind has_genre Action\n",
      "RV has_tags vacation\n",
      "Megamind has_tags will ferrell\n",
      "An Education has_tags school\n",
      "Megamind has_tags dreamworks\n",
      "Megamind has_genre Animation\n",
      "Megamind has_tags animated\n",
      "Innocence has_tags school\n",
      "james belushi has_tags K-9\n",
      "Megamind has_tags superhero\n",
      "First Blood has_tags action\n",
      "3d has_tags Men in Black 3\n",
      "Mystery Men has_tags superheroes\n",
      "Men in Black has_tags action\n",
      "Men in Black 3 has_tags action\n",
      "2008 release_year Transporter 3\n",
      "2008 release_year Rambo\n",
      "Wanted release_year 2008\n",
      "2008 release_year Taken\n",
      "Paris release_year 2008\n",
      "Ip Man release_year 2008\n",
      "Quantum of Solace release_year 2008\n",
      "2008 release_year Iron Man\n",
      "Kung Fu Panda release_year 2008\n",
      "Journey to the Center of the Earth release_year 2008\n",
      "Olympus Has Fallen has_tags action\n",
      "action has_tags S.W.A.T.\n",
      "The Net has_tags action\n",
      "3d has_tags Pina\n",
      "3d has_tags Beowulf\n",
      "The A-Team has_tags action\n",
      "The One has_tags action\n",
      "3d has_tags Avatar\n",
      "Wanted has_tags action\n",
      "Sahara has_tags action\n",
      "Men in Black 3 has_tags action\n",
      "Men in Black 3 has_tags 3d\n",
      "superheroes has_tags Mystery Men\n",
      "Action has_genre Men in Black 3\n",
      "action has_tags Men in Black\n",
      "Thriller has_genre First Blood\n",
      "Action has_genre First Blood\n",
      "First Blood has_tags action\n",
      "2008 release_year Rambo\n",
      "2008 release_year Transporter 3\n",
      "2008 release_year Taken\n",
      "2008 release_year Wanted\n",
      "1999 release_year Mystery Men\n",
      "First Blood written_by David Morrell\n",
      "First Blood has_tags sylvester stallone\n",
      "2008 release_year Quantum of Solace\n",
      "2008 release_year Ip Man\n",
      "2008 release_year Iron Man\n",
      "First Blood starred_actors Sylvester Stallone\n",
      "2008 release_year Kung Fu Panda\n",
      "action has_tags Olympus Has Fallen\n",
      "Action has_genre Olympus Has Fallen\n",
      "r has_tags Troy\n",
      "r has_tags Wanted\n",
      "Action has_genre S.W.A.T.\u001b[0m\n",
      "Model decision: NO\n",
      "\u001b[32;1m\u001b[1;3mExploring depth: 9\u001b[0m\n"
     ]
    },
    {
     "data": {
      "application/vnd.jupyter.widget-view+json": {
       "model_id": "f416a7ca3316442eaa0918752e480e96",
       "version_major": 2,
       "version_minor": 0
      },
      "text/plain": [
       "Split strings: 0it [00:00, ?it/s]"
      ]
     },
     "metadata": {},
     "output_type": "display_data"
    },
    {
     "data": {
      "application/vnd.jupyter.widget-view+json": {
       "model_id": "ca3e2c3d477c4bafa1d67fb24683ee86",
       "version_major": 2,
       "version_minor": 0
      },
      "text/plain": [
       "Stem Tokens:   0%|          | 0/56 [00:00<?, ?it/s]"
      ]
     },
     "metadata": {},
     "output_type": "display_data"
    },
    {
     "data": {
      "application/vnd.jupyter.widget-view+json": {
       "model_id": "cc3d0a430c944c8ebb18e7f138d7ebd7",
       "version_major": 2,
       "version_minor": 0
      },
      "text/plain": [
       "BM25S Count Tokens:   0%|          | 0/56 [00:00<?, ?it/s]"
      ]
     },
     "metadata": {},
     "output_type": "display_data"
    },
    {
     "data": {
      "application/vnd.jupyter.widget-view+json": {
       "model_id": "8135e7f4be814fc092b58a69f143f50c",
       "version_major": 2,
       "version_minor": 0
      },
      "text/plain": [
       "BM25S Compute Scores:   0%|          | 0/56 [00:00<?, ?it/s]"
      ]
     },
     "metadata": {},
     "output_type": "display_data"
    },
    {
     "data": {
      "application/vnd.jupyter.widget-view+json": {
       "model_id": "692bee28dcfa4e51a118cba038eaca3e",
       "version_major": 2,
       "version_minor": 0
      },
      "text/plain": [
       "Split strings:   0%|          | 0/1 [00:00<?, ?it/s]"
      ]
     },
     "metadata": {},
     "output_type": "display_data"
    },
    {
     "data": {
      "application/vnd.jupyter.widget-view+json": {
       "model_id": "8746697849cc4a7b874868989e7575e4",
       "version_major": 2,
       "version_minor": 0
      },
      "text/plain": [
       "Stem Tokens:   0%|          | 0/1 [00:00<?, ?it/s]"
      ]
     },
     "metadata": {},
     "output_type": "display_data"
    },
    {
     "data": {
      "application/vnd.jupyter.widget-view+json": {
       "model_id": "2e22b49d77b04ea28f2b4320bebb3f80",
       "version_major": 2,
       "version_minor": 0
      },
      "text/plain": [
       "BM25S Retrieve:   0%|          | 0/1 [00:00<?, ?it/s]"
      ]
     },
     "metadata": {},
     "output_type": "display_data"
    },
    {
     "name": "stdout",
     "output_type": "stream",
     "text": [
      "Checking if the context is sufficient:\n",
      "Full Context:\n",
      "\u001b[32;1m\u001b[1;3molympics has_tags Munich\n",
      "olympics has_tags Miracle\n",
      "olympics has_tags Chariots of Fire\n",
      "olympics has_tags Cool Runnings\n",
      "olympics has_tags The Other Dream Team\n",
      "2008 release_year Asterix at the Olympic Games\n",
      "Lantana has_tags sydney\n",
      "australia has_tags Australia\n",
      "Finding Nemo has_tags sydney\n",
      "Drama has_genre The Country Teacher\n",
      "Drama has_genre Summer Hours\n",
      "australia has_tags $9.99\n",
      "australia has_tags Lantana\n",
      "australia has_tags On the Beach\n",
      "story has_tags Australia\n",
      "Drama has_genre Australia\n",
      "Chopper has_tags australia\n",
      "Drama has_genre Men of Honor\n",
      "Drama has_genre Diamond Men\n",
      "hugh jackman has_tags X-Men\n",
      "nicole kidman has_tags Australia\n",
      "Australia has_tags baz luhrmann\n",
      "hugh jackman has_tags Australia\n",
      "2000 release_year The New Country\n",
      "2000 release_year A Storm in Summer\n",
      "olympics has_tags Munich\n",
      "2008 release_year Australia\n",
      "2000 release_year X-Men\n",
      "Running has_genre Sport\n",
      "Lantana has_tags sydney\n",
      "sydney has_tags Finding Nemo\n",
      "australia has_tags Australia\n",
      "2008 release_year $9.99\n",
      "Drama has_genre Australia\n",
      "story has_tags Australia\n",
      "australia has_tags $9.99\n",
      "australia has_tags Lantana\n",
      "x-men has_tags X-Men\n",
      "Australia has_tags baz luhrmann\n",
      "nicole kidman has_tags Australia\n",
      "hugh jackman has_tags Australia\n",
      "Richard Pearce directed_by Country\n",
      "1984 release_year Country\n",
      "William D. Wittliff written_by Country\n",
      "world war ii has_tags Australia\n",
      "marvel has_tags X-Men\n",
      "franchise has_tags X-Men\n",
      "future has_tags X-Men\n",
      "wolverine has_tags X-Men\n",
      "X-Men has_tags rogue\n",
      "X-Men has_tags rogue\n",
      "BASEketball has_tags sport\n",
      "The Wrestler has_tags sport\n",
      "sport has_tags Bhaag Milkha Bhaag\n",
      "sport has_tags BASEketball\n",
      "The Wrestler has_tags sport\n",
      "Bhaag Milkha Bhaag has_tags sport\n",
      "BASEketball has_tags sport\n",
      "BASEketball has_genre Sport\n",
      "BASEketball has_genre Comedy\n",
      "BASEketball has_tags comedy\n",
      "BASEketball has_tags south park\n",
      "BASEketball has_tags matt stone\n",
      "trey parker has_tags BASEketball\n",
      "david zucker has_tags BASEketball\n",
      "BASEketball starred_actors Yasmine Bleeth\n",
      "BASEketball release_year 1998\n",
      "BASEketball starred_actors Matt Stone\n",
      "Trey Parker starred_actors BASEketball\n",
      "Dian Bachar starred_actors BASEketball\n",
      "David Zucker written_by BASEketball\n",
      "50 First Dates has_tags comedy\n",
      "Drama has_genre The Hi-Lo Country\n",
      "comedy has_tags Summer School\n",
      "1998 release_year Blues Brothers 2000\n",
      "comedy has_tags Smiles of a Summer Night\n",
      "comedy has_tags Matchstick Men\n",
      "comedy has_tags Mystery Men\n",
      "comedy has_tags Real Men\n",
      "Drama has_genre Matchstick Men\n",
      "1998 release_year The Hi-Lo Country\n",
      "1998 release_year A Summer by the River\n",
      "comedy has_tags Grumpier Old Men\n",
      "comedy has_tags Grumpy Old Men\n",
      "comedy has_tags The Men Who Stare at Goats\n",
      "White Men Can't Jump has_tags comedy\n",
      "1998 release_year Safe Men\n",
      "1998 release_year I Still Know What You Did Last Summer\n",
      "comedy has_tags To Be or Not to Be\n",
      "comedy has_tags K-9\n",
      "comedy has_tags RV\n",
      "Bananas has_tags comedy\n",
      "Drama has_genre Midnight\n",
      "comedy has_tags Megamind\n",
      "comedy has_tags The Closet\n",
      "The Croods has_tags comedy\n",
      "comedy has_tags K-9\n",
      "Comedy has_genre K-9\n",
      "Action has_genre K-9\n",
      "Drama has_genre Midnight\n",
      "Comedy has_genre Goats\n",
      "rod daniel has_tags K-9\n",
      "Comedy has_genre Megamind\n",
      "comedy has_tags Megamind\n",
      "Comedy has_genre Midnight\n",
      "comedy has_tags RV\n",
      "Drama has_genre An Education\n",
      "Midnight has_tags paris\n",
      "Machuca has_tags school\n",
      "Comedy has_genre RV\n",
      "Megamind has_tags 3d\n",
      "Megamind has_genre Action\n",
      "RV has_tags vacation\n",
      "Megamind has_tags will ferrell\n",
      "An Education has_tags school\n",
      "Megamind has_tags dreamworks\n",
      "Megamind has_genre Animation\n",
      "Megamind has_tags animated\n",
      "Innocence has_tags school\n",
      "james belushi has_tags K-9\n",
      "Megamind has_tags superhero\n",
      "First Blood has_tags action\n",
      "3d has_tags Men in Black 3\n",
      "Mystery Men has_tags superheroes\n",
      "Men in Black has_tags action\n",
      "Men in Black 3 has_tags action\n",
      "2008 release_year Transporter 3\n",
      "2008 release_year Rambo\n",
      "Wanted release_year 2008\n",
      "2008 release_year Taken\n",
      "Paris release_year 2008\n",
      "Ip Man release_year 2008\n",
      "Quantum of Solace release_year 2008\n",
      "2008 release_year Iron Man\n",
      "Kung Fu Panda release_year 2008\n",
      "Journey to the Center of the Earth release_year 2008\n",
      "Olympus Has Fallen has_tags action\n",
      "action has_tags S.W.A.T.\n",
      "The Net has_tags action\n",
      "3d has_tags Pina\n",
      "3d has_tags Beowulf\n",
      "The A-Team has_tags action\n",
      "The One has_tags action\n",
      "3d has_tags Avatar\n",
      "Wanted has_tags action\n",
      "Sahara has_tags action\n",
      "Men in Black 3 has_tags action\n",
      "Men in Black 3 has_tags 3d\n",
      "superheroes has_tags Mystery Men\n",
      "Action has_genre Men in Black 3\n",
      "action has_tags Men in Black\n",
      "Thriller has_genre First Blood\n",
      "Action has_genre First Blood\n",
      "First Blood has_tags action\n",
      "2008 release_year Rambo\n",
      "2008 release_year Transporter 3\n",
      "2008 release_year Taken\n",
      "2008 release_year Wanted\n",
      "1999 release_year Mystery Men\n",
      "First Blood written_by David Morrell\n",
      "First Blood has_tags sylvester stallone\n",
      "2008 release_year Quantum of Solace\n",
      "2008 release_year Ip Man\n",
      "2008 release_year Iron Man\n",
      "First Blood starred_actors Sylvester Stallone\n",
      "2008 release_year Kung Fu Panda\n",
      "action has_tags Olympus Has Fallen\n",
      "Action has_genre Olympus Has Fallen\n",
      "r has_tags Troy\n",
      "r has_tags Wanted\n",
      "Action has_genre S.W.A.T.\n",
      "r has_tags Troy\n",
      "Nighthawks has_tags stallone\n",
      "action has_tags Troy\n",
      "Troy has_genre Adventure\n",
      "The Warlords has_tags blood\n",
      "epic has_tags Troy\n",
      "homer has_tags Troy\n",
      "epic has_tags The Warlords\n",
      "war has_tags Troy\n",
      "war has_tags The Warlords\n",
      "Rocky has_genre Drama\n",
      "Rocky has_tags stallone\n",
      "Fallen has_genre Crime\n",
      "Black has_genre Drama\n",
      "Fallen has_tags supernatural\n",
      "blood has_tags Daybreakers\n",
      "Fallen has_tags john goodman\n",
      "orlando bloom has_tags Troy\n",
      "Drama has_genre Schindler's List\n",
      "Troy has_tags brad pitt\n",
      "stallone has_tags Judge Dredd\n",
      "Troy has_tags eric bana\n",
      "epic has_tags Schindler's List\n",
      "Crime has_genre Judge Dredd\n",
      "Cop Land has_genre Crime\u001b[0m\n",
      "Model decision: NO\n",
      "\n",
      "\u001b[1m> Finished chain.\u001b[0m\n"
     ]
    },
    {
     "data": {
      "text/plain": [
       "{'query': \"Triathlon has been an Olympic sport since the 2000 Summer Olympics in Sydney, Australia. Which country has won the most medals in the men's event in the first 3 Olympiads to 2008?\",\n",
       " 'result': 'Australia, USA, Germany'}"
      ]
     },
     "execution_count": 38,
     "metadata": {},
     "output_type": "execute_result"
    }
   ],
   "source": [
    "chain = ToGChain.from_llm(\n",
    "    llm=mistral,\n",
    "    graph=metaqa_graph,\n",
    "    verbose=True,\n",
    ")\n",
    "chain.invoke(q)"
   ]
  }
 ],
 "metadata": {
  "kernelspec": {
   "display_name": "Python 3 (ipykernel)",
   "language": "python",
   "name": "python3"
  }
 },
 "nbformat": 4,
 "nbformat_minor": 2
}
