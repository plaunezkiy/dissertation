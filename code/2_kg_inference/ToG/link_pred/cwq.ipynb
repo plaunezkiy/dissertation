{
 "cells": [
  {
   "cell_type": "markdown",
   "metadata": {},
   "source": [
    "## ToG with link predictor and tail selector"
   ]
  },
  {
   "cell_type": "code",
   "execution_count": 24,
   "metadata": {},
   "outputs": [
    {
     "name": "stdout",
     "output_type": "stream",
     "text": [
      "The autoreload extension is already loaded. To reload it, use:\n",
      "  %reload_ext autoreload\n"
     ]
    }
   ],
   "source": [
    "%load_ext autoreload\n",
    "%autoreload 2"
   ]
  },
  {
   "cell_type": "code",
   "execution_count": 9,
   "metadata": {},
   "outputs": [],
   "source": [
    "import torch\n",
    "import pandas as pd\n",
    "from tqdm import tqdm\n",
    "from sentence_transformers import SentenceTransformer\n",
    "from utils.graph import KGraphPreproc\n",
    "from utils.graph.tog_lp import ToGLPChain\n",
    "from utils.llm.mistral import MistralLLM\n",
    "from utils.llm.qwen import Qwen2_5\n",
    "from utils.file import export_results_to_file\n",
    "import ast\n",
    "import os\n",
    "os.environ[\"HF_HOME\"] = \"/models\"\n",
    "os.environ[\"TRANSFORMERS_CACHE\"] = \"/models\"\n",
    "device = torch.device(\"cuda:1\")\n",
    "torch.cuda.set_device(device)\n",
    "torch.set_default_device(device)"
   ]
  },
  {
   "cell_type": "markdown",
   "metadata": {},
   "source": [
    "### ToG Algorithm pseudocode\n",
    "given a list of entities $E^{D-1}$:\n",
    "1. Select all relations $R^D$\n",
    "2. Select top-N relevant $E^{D-1}$-$R^D$-? | ?-$R^D$-$E^{D-1}$\n",
    "3. Extend P by top-N paths\n",
    "4. Decide if enough to answer the question (YES/NO)\n",
    "5. Repeat (NO), return (YES)\n"
   ]
  },
  {
   "cell_type": "markdown",
   "metadata": {},
   "source": [
    "### 0. Init"
   ]
  },
  {
   "cell_type": "markdown",
   "metadata": {},
   "source": [
    "### 2. Select top relevant candidate triplets "
   ]
  },
  {
   "cell_type": "markdown",
   "metadata": {},
   "source": [
    "## QA Tests"
   ]
  },
  {
   "cell_type": "code",
   "execution_count": 4,
   "metadata": {},
   "outputs": [],
   "source": [
    "qwen = Qwen2_5()"
   ]
  },
  {
   "cell_type": "code",
   "execution_count": 5,
   "metadata": {},
   "outputs": [],
   "source": [
    "mistral = MistralLLM()"
   ]
  },
  {
   "cell_type": "code",
   "execution_count": 7,
   "metadata": {},
   "outputs": [],
   "source": [
    "sbert = SentenceTransformer(\"all-mpnet-base-v2\")\n",
    "sbert_cache_path = \"/datasets/FB15k-237/cache/sbert.csv\""
   ]
  },
  {
   "cell_type": "code",
   "execution_count": 8,
   "metadata": {},
   "outputs": [
    {
     "name": "stdout",
     "output_type": "stream",
     "text": [
      "Checking embedding cache\n",
      "Loading embedding cache\n"
     ]
    },
    {
     "name": "stderr",
     "output_type": "stream",
     "text": [
      "329136it [11:43, 468.10it/s]\n"
     ]
    }
   ],
   "source": [
    "fbkb_graph = KGraphPreproc.get_fbkb_graph()\n",
    "\n",
    "fbkb_graph.embed_triplets(\n",
    "    embedding_function=lambda q: sbert.encode(q),\n",
    "    cache_path=sbert_cache_path\n",
    ")"
   ]
  },
  {
   "cell_type": "code",
   "execution_count": 22,
   "metadata": {},
   "outputs": [],
   "source": [
    "def extract_cwq_topic_entities(row):\n",
    "    topic_ids = ast.literal_eval(row[\"topic_ids\"])\n",
    "    topic_entities = []\n",
    "    for topic_id in topic_ids:\n",
    "        if topic_id in fbkb_graph.mid2name:\n",
    "            topic_entities.append(fbkb_graph.mid2name[topic_id])\n",
    "    return topic_entities"
   ]
  },
  {
   "cell_type": "code",
   "execution_count": 11,
   "metadata": {},
   "outputs": [
    {
     "name": "stderr",
     "output_type": "stream",
     "text": [
      "/model/utils/graph/tog_lp.py:236: LangChainDeprecationWarning: The class `LLMChain` was deprecated in LangChain 0.1.17 and will be removed in 1.0. Use :meth:`~RunnableSequence, e.g., `prompt | llm`` instead.\n",
      "  qa_chain = LLMChain(llm=llm, prompt=qa_prompt)\n"
     ]
    }
   ],
   "source": [
    "chain = ToGLPChain.from_llm(\n",
    "    llm=mistral,\n",
    "    link_predictor_llm=qwen,\n",
    "    graph=fbkb_graph,\n",
    "    sbert=sbert,\n",
    "    verbose=False\n",
    ")"
   ]
  },
  {
   "cell_type": "code",
   "execution_count": 12,
   "metadata": {},
   "outputs": [],
   "source": [
    "cwq = pd.read_csv(\"/datasets/CWQ/cwq-1000.csv\", index_col=0)"
   ]
  },
  {
   "cell_type": "code",
   "execution_count": 13,
   "metadata": {},
   "outputs": [],
   "source": [
    "experiment_name = f\"tog-lp-4\"\n",
    "res_path = f\"/datasets/CWQ/results/{experiment_name}.csv\""
   ]
  },
  {
   "cell_type": "code",
   "execution_count": null,
   "metadata": {},
   "outputs": [
    {
     "name": "stderr",
     "output_type": "stream",
     "text": [
      "100%|██████████| 1000/1000 [16:05:23<00:00, 57.92s/it]   \n"
     ]
    },
    {
     "name": "stderr",
     "output_type": "stream",
     "text": [
      "/model/utils/graph/tog_lp.py:128: LangChainDeprecationWarning: The method `Chain.__call__` was deprecated in langchain 0.1.0 and will be removed in 1.0. Use :meth:`~invoke` instead.\n",
      "  answer = self.evaluate_context_chain(\n",
      " 48%|████▊     | 485/1000 [8:27:18<11:45:30, 82.20s/it] "
     ]
    }
   ],
   "source": [
    "results = []\n",
    "id_list = []\n",
    "l = 0\n",
    "if os.path.isfile(res_path):\n",
    "    r_df = pd.read_csv(res_path)\n",
    "    l = len(r_df)\n",
    "    results = list(r_df.Model.values)\n",
    "for c, (i, r) in enumerate(tqdm(list(cwq.iterrows()))):\n",
    "    id_list.append(i)\n",
    "    if c < l:\n",
    "            continue\n",
    "    q = r.question\n",
    "    topic_entities = extract_cwq_topic_entities(r)\n",
    "    response = chain.invoke(\n",
    "        input={\n",
    "            \"query\": q,\n",
    "            \"topic_entities\": topic_entities,\n",
    "    })\n",
    "    answer = response[\"result\"][\"text\"]\n",
    "    depth = response[\"depth\"]\n",
    "    results.append((answer, depth))\n",
    "    if c % 10 == 0:\n",
    "        export_results_to_file(res_path, results, id_list)\n",
    "export_results_to_file(res_path, results, id_list)\n"
   ]
  }
 ],
 "metadata": {
  "kernelspec": {
   "display_name": "Python 3 (ipykernel)",
   "language": "python",
   "name": "python3"
  },
  "language_info": {
   "codemirror_mode": {
    "name": "ipython",
    "version": 3
   },
   "file_extension": ".py",
   "mimetype": "text/x-python",
   "name": "python",
   "nbconvert_exporter": "python",
   "pygments_lexer": "ipython3",
   "version": "3.11.10"
  }
 },
 "nbformat": 4,
 "nbformat_minor": 2
}
