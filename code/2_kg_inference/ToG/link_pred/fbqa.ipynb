{
 "cells": [
  {
   "cell_type": "code",
   "execution_count": 13,
   "metadata": {},
   "outputs": [
    {
     "name": "stdout",
     "output_type": "stream",
     "text": [
      "The autoreload extension is already loaded. To reload it, use:\n",
      "  %reload_ext autoreload\n"
     ]
    }
   ],
   "source": [
    "%load_ext autoreload\n",
    "%autoreload 2"
   ]
  },
  {
   "cell_type": "code",
   "execution_count": 35,
   "metadata": {},
   "outputs": [],
   "source": [
    "import gc\n",
    "import ast\n",
    "import torch\n",
    "import pandas as pd\n",
    "from tqdm import tqdm\n",
    "import networkx as nx\n",
    "from sentence_transformers import SentenceTransformer\n",
    "from utils.preprocessing import preprocess_text\n",
    "from utils.graph import KGraphPreproc\n",
    "from utils.graph.tog_lp import ToGLPChain\n",
    "from utils.llm.mistral import MistralLLM\n",
    "from utils.llm.qwen import Qwen2_5\n",
    "from utils.file import export_results_to_file\n",
    "from utils.link_prediction import extract_predicted_edges\n",
    "from utils.prompt import GRAPH_QA_PROMPT, ENTITY_PROMPT, \\\n",
    "    NO_CONTEXT_PROMPT, EVALUATE_CONTEXT_PROMPT, \\\n",
    "    RERANK_TRIPLETS_PROMPT, PREDICT_EDGE_PROMPT\n",
    "\n",
    "\n",
    "device = torch.device(\"cuda:0\")\n",
    "torch.cuda.set_device(device)\n",
    "torch.set_default_device(device)"
   ]
  },
  {
   "cell_type": "code",
   "execution_count": 29,
   "metadata": {},
   "outputs": [
    {
     "data": {
      "text/plain": [
       "0"
      ]
     },
     "execution_count": 29,
     "metadata": {},
     "output_type": "execute_result"
    }
   ],
   "source": [
    "torch.cuda.empty_cache()\n",
    "gc.collect()"
   ]
  },
  {
   "cell_type": "code",
   "execution_count": 30,
   "metadata": {},
   "outputs": [],
   "source": [
    "qwen = Qwen2_5()"
   ]
  },
  {
   "cell_type": "code",
   "execution_count": 31,
   "metadata": {},
   "outputs": [],
   "source": [
    "mistral = MistralLLM()"
   ]
  },
  {
   "cell_type": "code",
   "execution_count": 41,
   "metadata": {},
   "outputs": [],
   "source": [
    "sbert = SentenceTransformer(\"all-mpnet-base-v2\")\n",
    "sbert_cache_path = \"/datasets/FB15k-237/cache/sbert.csv\""
   ]
  },
  {
   "cell_type": "code",
   "execution_count": 33,
   "metadata": {},
   "outputs": [],
   "source": [
    "fbkb_graph = KGraphPreproc.get_fbkb_graph()"
   ]
  },
  {
   "cell_type": "code",
   "execution_count": 42,
   "metadata": {},
   "outputs": [
    {
     "name": "stdout",
     "output_type": "stream",
     "text": [
      "Checking embedding cache\n",
      "Loading embedding cache\n"
     ]
    },
    {
     "name": "stderr",
     "output_type": "stream",
     "text": [
      "329136it [11:46, 465.60it/s]\n"
     ]
    }
   ],
   "source": [
    "fbkb_graph.embed_triplets(\n",
    "    embedding_function=lambda q: sbert.encode(q),\n",
    "    cache_path=sbert_cache_path\n",
    ")"
   ]
  },
  {
   "cell_type": "code",
   "execution_count": 43,
   "metadata": {},
   "outputs": [
    {
     "name": "stderr",
     "output_type": "stream",
     "text": [
      "/model/utils/graph/tog_lp.py:234: LangChainDeprecationWarning: The class `LLMChain` was deprecated in LangChain 0.1.17 and will be removed in 1.0. Use :meth:`~RunnableSequence, e.g., `prompt | llm`` instead.\n",
      "  qa_chain = LLMChain(llm=llm, prompt=qa_prompt)\n"
     ]
    }
   ],
   "source": [
    "chain = ToGLPChain.from_llm(\n",
    "    llm=mistral,\n",
    "    link_predictor_llm=qwen,\n",
    "    graph=fbkb_graph,\n",
    "    sbert=sbert,\n",
    "    verbose=False\n",
    ")"
   ]
  },
  {
   "cell_type": "code",
   "execution_count": 37,
   "metadata": {},
   "outputs": [],
   "source": [
    "def entity_path_len(entities):\n",
    "    for path in entities:\n",
    "        start = path[0]\n",
    "        for target in path[1:]:\n",
    "            try:\n",
    "                return len(nx.shortest_path(\n",
    "                    fbkb_graph._graph, start, target\n",
    "                ))\n",
    "            except (nx.NodeNotFound, nx.NetworkXNoPath):\n",
    "                continue\n",
    "    return -1"
   ]
  },
  {
   "cell_type": "code",
   "execution_count": 73,
   "metadata": {},
   "outputs": [],
   "source": [
    "fbqa = pd.read_csv(\"/datasets/FreebaseQA/FbQA-eval-1000.csv\", index_col=0)\n",
    "fbqa[\"entities\"] = fbqa[\"entities\"].apply(ast.literal_eval)\n",
    "fbqa[\"hops\"] = fbqa.apply(lambda t: entity_path_len(t[\"entities\"]), axis=1)"
   ]
  },
  {
   "cell_type": "code",
   "execution_count": 71,
   "metadata": {},
   "outputs": [],
   "source": [
    "experiment_name = f\"tog-lp-1\"\n",
    "res_path = f\"/datasets/FreebaseQA/results/{experiment_name}.csv\""
   ]
  },
  {
   "cell_type": "code",
   "execution_count": 62,
   "metadata": {},
   "outputs": [],
   "source": [
    "def extract_fbqa_entities(row):\n",
    "    entities = set(map(lambda t: t[0], row.entities))\n",
    "    return list(filter(None, [fbkb_graph.mid2name.get(ent) for ent in entities]))"
   ]
  },
  {
   "cell_type": "code",
   "execution_count": 78,
   "metadata": {},
   "outputs": [
    {
     "data": {
      "text/html": [
       "<div>\n",
       "<style scoped>\n",
       "    .dataframe tbody tr th:only-of-type {\n",
       "        vertical-align: middle;\n",
       "    }\n",
       "\n",
       "    .dataframe tbody tr th {\n",
       "        vertical-align: top;\n",
       "    }\n",
       "\n",
       "    .dataframe thead th {\n",
       "        text-align: right;\n",
       "    }\n",
       "</style>\n",
       "<table border=\"1\" class=\"dataframe\">\n",
       "  <thead>\n",
       "    <tr style=\"text-align: right;\">\n",
       "      <th></th>\n",
       "      <th>Unnamed: 0</th>\n",
       "      <th>Model</th>\n",
       "    </tr>\n",
       "  </thead>\n",
       "  <tbody>\n",
       "    <tr>\n",
       "      <th>0</th>\n",
       "      <td>2</td>\n",
       "      <td>('Terry Gilliam', 3)</td>\n",
       "    </tr>\n",
       "    <tr>\n",
       "      <th>1</th>\n",
       "      <td>5</td>\n",
       "      <td>('Germany', 1)</td>\n",
       "    </tr>\n",
       "    <tr>\n",
       "      <th>2</th>\n",
       "      <td>6</td>\n",
       "      <td>('Adolf Hitler and Carl Diem', 3)</td>\n",
       "    </tr>\n",
       "    <tr>\n",
       "      <th>3</th>\n",
       "      <td>9</td>\n",
       "      <td>('John Steinbeck', 1)</td>\n",
       "    </tr>\n",
       "    <tr>\n",
       "      <th>4</th>\n",
       "      <td>12</td>\n",
       "      <td>('Dick Fosbury (United States of America)', 1)</td>\n",
       "    </tr>\n",
       "    <tr>\n",
       "      <th>...</th>\n",
       "      <td>...</td>\n",
       "      <td>...</td>\n",
       "    </tr>\n",
       "    <tr>\n",
       "      <th>995</th>\n",
       "      <td>3964</td>\n",
       "      <td>('Woodrow Wilson was the president of the USA ...</td>\n",
       "    </tr>\n",
       "    <tr>\n",
       "      <th>996</th>\n",
       "      <td>3969</td>\n",
       "      <td>('Adam Sandler (4 times)', 1)</td>\n",
       "    </tr>\n",
       "    <tr>\n",
       "      <th>997</th>\n",
       "      <td>3985</td>\n",
       "      <td>('Whitehorse', 1)</td>\n",
       "    </tr>\n",
       "    <tr>\n",
       "      <th>998</th>\n",
       "      <td>3993</td>\n",
       "      <td>('Figure skating', 1)</td>\n",
       "    </tr>\n",
       "    <tr>\n",
       "      <th>999</th>\n",
       "      <td>3994</td>\n",
       "      <td>('Salisbury', 1)</td>\n",
       "    </tr>\n",
       "  </tbody>\n",
       "</table>\n",
       "<p>1000 rows × 2 columns</p>\n",
       "</div>"
      ],
      "text/plain": [
       "     Unnamed: 0                                              Model\n",
       "0             2                               ('Terry Gilliam', 3)\n",
       "1             5                                     ('Germany', 1)\n",
       "2             6                  ('Adolf Hitler and Carl Diem', 3)\n",
       "3             9                              ('John Steinbeck', 1)\n",
       "4            12     ('Dick Fosbury (United States of America)', 1)\n",
       "..          ...                                                ...\n",
       "995        3964  ('Woodrow Wilson was the president of the USA ...\n",
       "996        3969                      ('Adam Sandler (4 times)', 1)\n",
       "997        3985                                  ('Whitehorse', 1)\n",
       "998        3993                              ('Figure skating', 1)\n",
       "999        3994                                   ('Salisbury', 1)\n",
       "\n",
       "[1000 rows x 2 columns]"
      ]
     },
     "execution_count": 78,
     "metadata": {},
     "output_type": "execute_result"
    }
   ],
   "source": [
    "r_df = pd.read_csv(res_path)\n",
    "r_df"
   ]
  },
  {
   "cell_type": "code",
   "execution_count": 75,
   "metadata": {},
   "outputs": [
    {
     "name": "stderr",
     "output_type": "stream",
     "text": [
      "100%|██████████| 1000/1000 [00:00<00:00, 1953564.97it/s]\n"
     ]
    }
   ],
   "source": [
    "results = []\n",
    "id_list = []\n",
    "l = 0\n",
    "if os.path.isfile(res_path):\n",
    "    r_df = pd.read_csv(res_path)\n",
    "    l = len(r_df)\n",
    "    results = list(r_df.Model.values)\n",
    "for c, (i, r) in enumerate(tqdm(list(fbqa.iterrows()))):\n",
    "    id_list.append(i)\n",
    "    if c < l:\n",
    "            continue\n",
    "    q = r.RawQuestion\n",
    "    topic_entities = extract_fbqa_entities(r)\n",
    "    response = chain.invoke(\n",
    "        input={\n",
    "            \"query\": q,\n",
    "            \"topic_entities\": topic_entities\n",
    "    })\n",
    "    answer = response[\"result\"][\"text\"]\n",
    "    depth = response[\"depth\"]\n",
    "    results.append((answer, depth))\n",
    "    if c % 10 == 0:\n",
    "        export_results_to_file(res_path, results, id_list)\n",
    "export_results_to_file(res_path, results, id_list)\n"
   ]
  }
 ],
 "metadata": {
  "kernelspec": {
   "display_name": "Python 3 (ipykernel)",
   "language": "python",
   "name": "python3"
  },
  "language_info": {
   "codemirror_mode": {
    "name": "ipython",
    "version": 3
   },
   "file_extension": ".py",
   "mimetype": "text/x-python",
   "name": "python",
   "nbconvert_exporter": "python",
   "pygments_lexer": "ipython3",
   "version": "3.11.10"
  }
 },
 "nbformat": 4,
 "nbformat_minor": 2
}
