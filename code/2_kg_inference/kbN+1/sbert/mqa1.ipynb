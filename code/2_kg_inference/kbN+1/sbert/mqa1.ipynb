{
 "cells": [
  {
   "cell_type": "code",
   "execution_count": 9,
   "metadata": {},
   "outputs": [
    {
     "name": "stdout",
     "output_type": "stream",
     "text": [
      "The autoreload extension is already loaded. To reload it, use:\n",
      "  %reload_ext autoreload\n"
     ]
    }
   ],
   "source": [
    "%load_ext autoreload\n",
    "%autoreload 2"
   ]
  },
  {
   "cell_type": "code",
   "execution_count": 25,
   "metadata": {},
   "outputs": [],
   "source": [
    "import gc\n",
    "import re\n",
    "import csv\n",
    "import os\n",
    "import gc\n",
    "import torch\n",
    "# set to \"cuda:1\" for running in parallel on both GPUs\n",
    "device = torch.device(\"cuda:1\")\n",
    "torch.cuda.set_device(device)\n",
    "torch.set_default_device(device)\n",
    "import Stemmer\n",
    "import pandas as pd\n",
    "from tqdm import tqdm\n",
    "from utils.graph import KGraphPreproc\n",
    "from utils.graph.chain import GraphChain\n",
    "from utils.llm.mistral import MistralLLM\n",
    "from utils.file import export_results_to_file\n",
    "from utils.prompt import GRAPH_QA_PROMPT, ENTITY_PROMPT"
   ]
  },
  {
   "cell_type": "code",
   "execution_count": null,
   "metadata": {},
   "outputs": [
    {
     "ename": "",
     "evalue": "",
     "output_type": "error",
     "traceback": [
      "\u001b[1;31mThe Kernel crashed while executing code in the current cell or a previous cell. \n",
      "\u001b[1;31mPlease review the code in the cell(s) to identify a possible cause of the failure. \n",
      "\u001b[1;31mClick <a href='https://aka.ms/vscodeJupyterKernelCrash'>here</a> for more info. \n",
      "\u001b[1;31mView Jupyter <a href='command:jupyter.viewOutput'>log</a> for further details."
     ]
    }
   ],
   "source": [
    "gc.collect()\n",
    "torch.cuda.empty_cache()"
   ]
  },
  {
   "cell_type": "code",
   "execution_count": 11,
   "metadata": {},
   "outputs": [],
   "source": [
    "def get_response(prompt):\n",
    "    # global chain\n",
    "    # del mistral\n",
    "    gc.collect()\n",
    "    torch.cuda.empty_cache()\n",
    "    r = chain.invoke(prompt)\n",
    "    return r[\"result\"]\n",
    "\n",
    "\n",
    "def save_results(fpath, data_rows):\n",
    "    with open(fpath, \"w\") as f:\n",
    "        writer = csv.writer(f)\n",
    "        writer.writerow([\"Model\"])\n",
    "        for r in data_rows:\n",
    "            writer.writerow([str(r)])"
   ]
  },
  {
   "cell_type": "code",
   "execution_count": 4,
   "metadata": {},
   "outputs": [],
   "source": [
    "mistral = MistralLLM()"
   ]
  },
  {
   "cell_type": "code",
   "execution_count": 12,
   "metadata": {},
   "outputs": [],
   "source": [
    "metaqa_graph = KGraphPreproc.get_metaqa_graph()\n",
    "\n",
    "chain = GraphChain.from_llm(\n",
    "    llm=mistral,\n",
    "    graph=metaqa_graph,\n",
    "    qa_prompt=GRAPH_QA_PROMPT,\n",
    "    entity_prompt=ENTITY_PROMPT,\n",
    "    verbose=False,\n",
    ")\n",
    "chain.sbert_cache_path = \"/datasets/MetaQA/cache/sbert.csv\"\n"
   ]
  },
  {
   "cell_type": "code",
   "execution_count": 17,
   "metadata": {},
   "outputs": [
    {
     "name": "stdout",
     "output_type": "stream",
     "text": [
      "1hop\n",
      "depth: 1\n"
     ]
    },
    {
     "name": "stderr",
     "output_type": "stream",
     "text": [
      "100%|██████████| 1000/1000 [50:20<00:00,  3.02s/it] \n"
     ]
    },
    {
     "name": "stdout",
     "output_type": "stream",
     "text": [
      "depth: 3\n"
     ]
    },
    {
     "name": "stderr",
     "output_type": "stream",
     "text": [
      "100%|██████████| 1000/1000 [2:47:16<00:00, 10.04s/it] \n"
     ]
    },
    {
     "name": "stdout",
     "output_type": "stream",
     "text": [
      "2hop\n",
      "depth: 1\n"
     ]
    },
    {
     "name": "stderr",
     "output_type": "stream",
     "text": [
      "100%|██████████| 1000/1000 [53:33<00:00,  3.21s/it] \n"
     ]
    },
    {
     "name": "stdout",
     "output_type": "stream",
     "text": [
      "depth: 3\n"
     ]
    },
    {
     "name": "stderr",
     "output_type": "stream",
     "text": [
      "100%|██████████| 1000/1000 [2:32:45<00:00,  9.17s/it] \n"
     ]
    },
    {
     "name": "stdout",
     "output_type": "stream",
     "text": [
      "3hop\n",
      "depth: 1\n"
     ]
    },
    {
     "name": "stderr",
     "output_type": "stream",
     "text": [
      "100%|██████████| 1000/1000 [51:57<00:00,  3.12s/it] \n"
     ]
    },
    {
     "name": "stdout",
     "output_type": "stream",
     "text": [
      "depth: 3\n"
     ]
    },
    {
     "name": "stderr",
     "output_type": "stream",
     "text": [
      "100%|██████████| 1000/1000 [3:36:31<00:00, 12.99s/it] \n"
     ]
    }
   ],
   "source": [
    "for hop in [\"1hop\", \"2hop\", \"3hop\"]:\n",
    "    print(hop)\n",
    "    # load q's\n",
    "    metaqa = pd.read_csv(f\"/datasets/MetaQA/{hop}/test_1000.txt\", header=None, index_col=0)\n",
    "    metaqa.rename(columns={1: \"Question\", 2: \"Answers\"}, inplace=True)\n",
    "\n",
    "\n",
    "    for depth in [1,3]:\n",
    "        print(f\"depth: {depth}\")\n",
    "        # set the depth\n",
    "        chain.exploration_depth = depth\n",
    "        # init experiment\n",
    "        experiment_name = f\"sbert-kb{depth}\"\n",
    "        res_path = f\"/datasets/MetaQA/results/{hop}/{experiment_name}.csv\"\n",
    "        results = []\n",
    "        id_list = []\n",
    "        l = 0\n",
    "        # load if preinit'ed\n",
    "        if os.path.isfile(res_path):\n",
    "            r_df = pd.read_csv(res_path)\n",
    "            l = len(r_df)\n",
    "            results = list(r_df.Model.values)\n",
    "        # run through\n",
    "        for c, (i, r) in enumerate(tqdm(list(metaqa.iterrows()))):\n",
    "            id_list.append(i)\n",
    "            if c < l:\n",
    "                continue\n",
    "            q = r.Question\n",
    "            response = get_response(q)\n",
    "            results.append(response)\n",
    "            # backup every 10 qs\n",
    "            if c % 10 == 0:\n",
    "                export_results_to_file(res_path, results, id_list)\n",
    "        export_results_to_file(res_path, results, id_list)"
   ]
  }
 ],
 "metadata": {
  "kernelspec": {
   "display_name": "Python 3 (ipykernel)",
   "language": "python",
   "name": "python3"
  },
  "language_info": {
   "codemirror_mode": {
    "name": "ipython",
    "version": 3
   },
   "file_extension": ".py",
   "mimetype": "text/x-python",
   "name": "python",
   "nbconvert_exporter": "python",
   "pygments_lexer": "ipython3",
   "version": "3.11.10"
  }
 },
 "nbformat": 4,
 "nbformat_minor": 2
}
