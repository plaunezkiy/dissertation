{
 "cells": [
  {
   "cell_type": "code",
   "execution_count": 13,
   "metadata": {},
   "outputs": [
    {
     "name": "stdout",
     "output_type": "stream",
     "text": [
      "The autoreload extension is already loaded. To reload it, use:\n",
      "  %reload_ext autoreload\n"
     ]
    }
   ],
   "source": [
    "%load_ext autoreload\n",
    "%autoreload 2"
   ]
  },
  {
   "cell_type": "code",
   "execution_count": 2,
   "metadata": {},
   "outputs": [],
   "source": [
    "import pandas as pd\n",
    "import torch\n",
    "# set to \"cuda:1\" for running in parallel on both GPUs\n",
    "device = torch.device(\"cuda:0\")\n",
    "torch.cuda.set_device(device)\n",
    "torch.set_default_device(device)\n",
    "import gc\n",
    "import Stemmer\n",
    "import re\n",
    "from tqdm import tqdm\n",
    "import os\n",
    "import csv\n",
    "import gc\n",
    "from utils.graph import KGraphPreproc\n",
    "from utils.graph.chain import GraphChain\n",
    "from utils.llm.mistral import MistralLLM"
   ]
  },
  {
   "cell_type": "code",
   "execution_count": 3,
   "metadata": {},
   "outputs": [],
   "source": [
    "fbqa = pd.read_json(\"/datasets/FreebaseQA/FreebaseQA-eval.json\")\n",
    "def get_fbqa_data(question_row):\n",
    "    \"\"\"\n",
    "    Takes in a dataset row and returns Q and A as strings\n",
    "    \"\"\"\n",
    "    question = question_row.Questions.get(\"RawQuestion\", None)\n",
    "    parse = question_row.Questions.get(\"Parses\", [None])[0]\n",
    "    if not parse:\n",
    "        print(f\"error in question: {question}\")\n",
    "        return question, None\n",
    "    answer = parse.get(\"Answers\")\n",
    "    return question, answer\n",
    "\n",
    "####### load the graph\n",
    "fbkb_graph = KGraphPreproc.get_fbkb_graph()"
   ]
  },
  {
   "cell_type": "code",
   "execution_count": 4,
   "metadata": {},
   "outputs": [],
   "source": [
    "def get_response(prompt):\n",
    "    global chain\n",
    "    # del mistral\n",
    "    gc.collect()\n",
    "    torch.cuda.empty_cache()\n",
    "    r = chain.invoke(prompt)\n",
    "    return r[\"result\"]\n",
    "\n",
    "def save_results(fpath, data_rows):\n",
    "    with open(fpath, \"w\") as f:\n",
    "        writer = csv.writer(f)\n",
    "        writer.writerow([\"Model\"])\n",
    "        for r in data_rows:\n",
    "            writer.writerow([str(r)])"
   ]
  },
  {
   "cell_type": "code",
   "execution_count": 5,
   "metadata": {},
   "outputs": [],
   "source": [
    "mistral = MistralLLM()"
   ]
  },
  {
   "cell_type": "code",
   "execution_count": 80,
   "metadata": {},
   "outputs": [],
   "source": [
    "from utils.prompt import GRAPH_QA_PROMPT, ENTITY_PROMPT\n",
    "chain = GraphChain.from_llm(\n",
    "    llm=mistral,\n",
    "    graph=fbkb_graph,\n",
    "    qa_prompt=GRAPH_QA_PROMPT,\n",
    "    entity_prompt=ENTITY_PROMPT,\n",
    "    verbose=False,\n",
    ")\n",
    "chain.sbert_cache_path = \"/datasets/FB15k-237/cache/sbert.csv\""
   ]
  },
  {
   "cell_type": "code",
   "execution_count": null,
   "metadata": {},
   "outputs": [
    {
     "name": "stdout",
     "output_type": "stream",
     "text": [
      "depth: 3\n"
     ]
    },
    {
     "name": "stderr",
     "output_type": "stream",
     "text": [
      " 29%|██▉       | 1153/3996 [5:51:23<23:21:29, 29.58s/it]"
     ]
    }
   ],
   "source": [
    "for depth in [3]:\n",
    "    print(f\"depth: {depth}\")\n",
    "    # set the depth\n",
    "    chain.exploration_depth = depth\n",
    "    # init experiment\n",
    "    experiment_name = f\"sbert-kb{depth}\"\n",
    "    res_path = f\"/datasets/FreebaseQA/results/{experiment_name}.csv\"\n",
    "    results = []\n",
    "    l = 0\n",
    "    # load if preinit'ed\n",
    "    if os.path.isfile(res_path):\n",
    "        r_df = pd.read_csv(res_path)\n",
    "        l = len(r_df)\n",
    "        results = list(r_df.Model.values)\n",
    "    # load q's\n",
    "    fbqa = pd.read_json(\"/datasets/FreebaseQA/FreebaseQA-eval.json\")\n",
    "    # run through\n",
    "    for i, r in tqdm(list(fbqa.iterrows())):\n",
    "        if i < l:\n",
    "            continue\n",
    "        q, a = get_fbqa_data(r)\n",
    "        response = get_response(q)\n",
    "        results.append(response)\n",
    "        # backup every 10 qs\n",
    "        if i % 10 == 0:\n",
    "            save_results(res_path, results)\n",
    "    save_results(res_path, results)"
   ]
  },
  {
   "cell_type": "code",
   "execution_count": 48,
   "metadata": {},
   "outputs": [
    {
     "data": {
      "text/plain": [
       "('/m/027rn',\n",
       " '/m/06cx9',\n",
       " {'relation': '/location/country/form_of_government',\n",
       "  'embedding': '[ 6.66760579e-02, -3.34311128e-02, -3.30068283e-02, -6.52218470e-03, 5.99559359e-02, -3.25985216e-02, -5.75441048e-02, 6.32693768e-02, -6.85760332e-03, 3.24052875e-03, 8.03972110e-02, -3.03435866e-02, -2.48321630e-02, -7.18592703e-02, 8.65350850e-03, 3.96894943e-03, -7.39242882e-02, 2.74431258e-02, 6.91422969e-02, 4.06056233e-02, 9.83152539e-02, -5.27970977e-02, -3.25965695e-02, 4.13841102e-03, -2.69966782e-03, 1.98496226e-02, 7.19338134e-02, 3.07799038e-02, -7.80925900e-03, -5.32830767e-02, 8.66608229e-03, 5.83224297e-02, 1.87647864e-02, 1.56855173e-02, 3.83375101e-02, -2.22949795e-02, -1.00411817e-01, -6.11528344e-02, 1.09584071e-01, -1.53645836e-02, -1.01085864e-02, -6.29659966e-02, 9.56393704e-02, 2.75516999e-04, -8.36374760e-02, -2.04921532e-02, 1.38285868e-02, 1.07522964e-01, 1.74823459e-02, 5.19003533e-03, 4.82774638e-02, -1.07315909e-02, -3.85233313e-02, 3.29222418e-02, -2.40317434e-02, 3.85583639e-02, -9.25955698e-02, 1.73308309e-02, -1.16677757e-03, 2.57919878e-02, 8.33742321e-03, 5.60766868e-02, -3.80321033e-02, 2.70821266e-02, -4.01860923e-02, 2.93727629e-02, -6.07967190e-03, -1.04941605e-02, -4.49462235e-02, -1.48539171e-01, 1.99596100e-02, -2.55992431e-02, 5.98947471e-03, 1.14160720e-02, -4.58203778e-02, -1.06254674e-01, -3.98582295e-02, 8.90067816e-02, 2.03196146e-02, 8.12344905e-03, 6.01675268e-03, 9.77118462e-02, 2.04291679e-02, 3.61656062e-02, 4.22637127e-02, 4.95363437e-02, -4.63106148e-02, 1.59908570e-02, 5.74373454e-03, -9.66121182e-02, 1.69949178e-02, 2.39668190e-02, 1.11786224e-01, 9.03553739e-02, -4.58726697e-02, 9.35193151e-02, 5.25635034e-02, 2.57046409e-02, 4.36447002e-02, 6.89238608e-02, 5.27573191e-02, 2.75124274e-02, -2.46231798e-02, 3.75587940e-02, -4.96808663e-02, 2.93331891e-02, -1.71804838e-02, 9.30674523e-02, -1.19842477e-02, -1.36641320e-02, -7.17480034e-02, -2.66966745e-02, -7.16633722e-02, -4.62026149e-02, 1.23341978e-02, -3.26523781e-02, 5.32309301e-02, 4.67357226e-02, 3.68293449e-02, -4.21771482e-02, 1.40460283e-02, -1.00172251e-01, -5.80276102e-02, -1.04988389e-01, 2.44130138e-02, -3.55194397e-02, 5.78339994e-02, -3.27200432e-33, 4.05600518e-02, 3.05504818e-02, -2.48348893e-04, 3.26449163e-02, -4.18158844e-02, 8.15067999e-03, 2.41351919e-03, 5.19607291e-02, -6.47780076e-02, 2.04239376e-02, 7.99981318e-03, -1.27757102e-01, -5.21114841e-02, 1.69709604e-03, 6.39969110e-02, 2.75281314e-02, 1.04040811e-02, 4.00586287e-03, 1.53986216e-02, 7.76680484e-02, 1.63514651e-02, 6.69688657e-02, 5.03181443e-02, 8.87244865e-02, 2.15087347e-02, 8.74020159e-02, -3.05205416e-02, -7.59462416e-02, -3.84799615e-02, 3.01230536e-03, 4.40132767e-02, 5.55648992e-04, -3.94768789e-02, -6.67161942e-02, 6.95201531e-02, -1.55897404e-03, 3.12734321e-02, -1.71824768e-02, -3.94579768e-02, -1.81462858e-02, -2.65821978e-03, -1.21769300e-02, 1.78284682e-02, 5.32364734e-02, 4.65016849e-02, 7.89794326e-02, 2.83352900e-02, 2.77947579e-02, 1.21580832e-01, 3.78917307e-02, 4.53682281e-02, -3.04331258e-03, -1.02941707e-01, -4.42536063e-02, 6.91053867e-02, -1.38471015e-02, -9.24620852e-02, 1.11582287e-01, 1.98198780e-02, -2.77470555e-02, 2.63645556e-02, -1.42680621e-02, -3.51798197e-04, 3.92808608e-04, -4.38045152e-02, -3.08270678e-02, -5.91052137e-02, -2.65397634e-02, 1.54159889e-01, -1.13406114e-01, -2.13895570e-02, -1.48123689e-02, 2.29019709e-02, 1.65204808e-01, 6.15713857e-02, 4.58752923e-02, 1.42505039e-02, -4.15541716e-02, -1.95397269e-02, -4.49395888e-02, -9.08529907e-02, 1.25901662e-02, -5.97219840e-02, 5.73471971e-02, 4.22012620e-02, -3.08647323e-02, -8.88636056e-03, -3.50647159e-02, 9.73986153e-06, -1.22409659e-02, -6.55310526e-02, 4.77191284e-02, -2.97405329e-02, -2.10598595e-02, -2.67015886e-03, 2.16694646e-34, -2.43062396e-02, -1.13363914e-01, -1.36695122e-02, -1.89722348e-02, 3.54335941e-02, 2.86585279e-03, -3.97337116e-02, 3.72205190e-02, 1.04524791e-02, -9.58984136e-04, -1.55892754e-02, -8.37691873e-02, 3.05656083e-02, 3.98223139e-02, -9.61047783e-03, 8.40099826e-02, -3.90635543e-02, -3.84610221e-02, -4.53369394e-02, 1.33831799e-02, -7.36569837e-02, -9.24715307e-03, 5.06003911e-04, 1.79777350e-02, 1.11573972e-02, 2.14639530e-02, -4.57230210e-02, -3.84587757e-02, 1.18401181e-03, -2.89603379e-02, 1.08960010e-02, -3.58298160e-02, -6.75468147e-02, 3.40870582e-02, -1.18567370e-01, 2.98012663e-02, -1.46902613e-02, 4.04856801e-02, 2.56589036e-02, 1.01489024e-02, -3.11872046e-02, -1.09647391e-02, 3.81180048e-02, 7.58292452e-02, -8.37360173e-02, -3.04693710e-02, 7.77105242e-02, -3.94315235e-02, 5.46266558e-03, -5.82877174e-02, -4.18277644e-02, -2.97668315e-02, -1.93491089e-03, -3.05029787e-02, 2.39157099e-02, 1.33162132e-02, -3.62502672e-02, 6.35567158e-02, 6.97583482e-02, -2.67592631e-02, -4.20451537e-03, 3.39399986e-02, -1.01275124e-01, 3.42670083e-02, 2.34744586e-02, -2.03448255e-02, -7.31815165e-03, 4.20393683e-02, 9.28702503e-02, -8.34114198e-03, 4.98039983e-02, -3.74027267e-02, -9.67691466e-02, 5.00110276e-02, 4.63922657e-02, 3.47024575e-02, 5.70993535e-02, -1.07755270e-02, -1.98841281e-02, -4.24863249e-02, -6.00941665e-02, 1.90072099e-03, -7.01237470e-02, -3.62841338e-02, -2.56325305e-02, 3.78750451e-02, 4.07111198e-02, -8.58508870e-02, -2.17896774e-02, 2.88980212e-02, -4.64305207e-02, 7.78362602e-02, -4.73142900e-02, -4.82197292e-02, 3.68169881e-02, -1.81436732e-08, 7.45065287e-02, 3.14830579e-02, -2.70975791e-02, -3.38888988e-02, 4.17596884e-02, -2.01078560e-02, 4.52938266e-02, -1.22570910e-03, 3.18647316e-03, -2.61949617e-02, 2.06957459e-02, -2.01329831e-02, -3.15830372e-02, -5.44519648e-02, -2.37913486e-02, -3.13199349e-02, -4.02876139e-02, 1.68479919e-01, -3.23692858e-02, -4.85095661e-03, -1.51779680e-02, -5.10943942e-02, -2.72013061e-02, -6.77812248e-02, -2.41707042e-02, -3.80749851e-02, -1.83364488e-02, 8.66861492e-02, -3.48304287e-02, -5.65139577e-03, 4.08932678e-02, 8.86868238e-02, -5.91068296e-03, -1.29467875e-01, -1.23126693e-02, 8.99527874e-03, -1.09982444e-03, -1.04058012e-01, 5.32074682e-02, -7.59073496e-02, 2.99558602e-02, 6.06246404e-02, -1.09487213e-02, 2.98933964e-02, 1.78970881e-02, -1.26893520e-01, 6.83118701e-02, -2.54114866e-02, 1.95350777e-02, -6.12282194e-02, -1.15877062e-01, -3.48933898e-02, -4.42262478e-02, 1.78719324e-03, 1.05975363e-02, 1.12863649e-02, 4.94759390e-03, 5.82698956e-02, -6.61068643e-03, -7.01359659e-02, -5.97715825e-02, 3.56753282e-02, -6.04420109e-03, 1.59625113e-02]'})"
      ]
     },
     "execution_count": 48,
     "metadata": {},
     "output_type": "execute_result"
    }
   ],
   "source": [
    "list(fbkb_graph._graph.edges(data=True))[0]"
   ]
  },
  {
   "cell_type": "code",
   "execution_count": 41,
   "metadata": {},
   "outputs": [
    {
     "name": "stderr",
     "output_type": "stream",
     "text": [
      "  0%|          | 0/248611 [00:00<?, ?it/s]"
     ]
    },
    {
     "name": "stderr",
     "output_type": "stream",
     "text": [
      "100%|██████████| 248611/248611 [07:08<00:00, 580.02it/s]\n"
     ]
    }
   ],
   "source": [
    "import csv\n",
    "cache_path = \"/datasets/FB15k-237/cache/sbert.csv\"\n",
    "with open(cache_path, \"w\") as cache_file:\n",
    "    writer = csv.writer(cache_file)\n",
    "    writer.writerow([\"key\", \"embedding\"])\n",
    "    for u,v in tqdm(fbkb_graph._graph.edges()):\n",
    "        embedding = fbkb_graph._graph.edges[u, v].get(\"embedding\", None)\n",
    "        writer.writerow([(u,v), embedding])\n",
    "        "
   ]
  }
 ],
 "metadata": {
  "kernelspec": {
   "display_name": "Python 3 (ipykernel)",
   "language": "python",
   "name": "python3"
  },
  "language_info": {
   "codemirror_mode": {
    "name": "ipython",
    "version": 3
   },
   "file_extension": ".py",
   "mimetype": "text/x-python",
   "name": "python",
   "nbconvert_exporter": "python",
   "pygments_lexer": "ipython3",
   "version": "3.11.10"
  }
 },
 "nbformat": 4,
 "nbformat_minor": 2
}
