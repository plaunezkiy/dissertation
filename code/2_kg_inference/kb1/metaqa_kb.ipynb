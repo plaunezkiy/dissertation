{
 "cells": [
  {
   "cell_type": "code",
   "execution_count": 1,
   "metadata": {},
   "outputs": [],
   "source": [
    "%load_ext autoreload\n",
    "%autoreload 2"
   ]
  },
  {
   "cell_type": "code",
   "execution_count": 1,
   "metadata": {},
   "outputs": [],
   "source": [
    "import pandas as pd\n",
    "import torch\n",
    "import gc\n",
    "import Stemmer\n",
    "import re\n",
    "from utils.preprocessing import preprocess_text"
   ]
  },
  {
   "cell_type": "markdown",
   "metadata": {},
   "source": [
    "### start with 1-hop"
   ]
  },
  {
   "cell_type": "code",
   "execution_count": 2,
   "metadata": {},
   "outputs": [
    {
     "data": {
      "text/html": [
       "<div>\n",
       "<style scoped>\n",
       "    .dataframe tbody tr th:only-of-type {\n",
       "        vertical-align: middle;\n",
       "    }\n",
       "\n",
       "    .dataframe tbody tr th {\n",
       "        vertical-align: top;\n",
       "    }\n",
       "\n",
       "    .dataframe thead th {\n",
       "        text-align: right;\n",
       "    }\n",
       "</style>\n",
       "<table border=\"1\" class=\"dataframe\">\n",
       "  <thead>\n",
       "    <tr style=\"text-align: right;\">\n",
       "      <th></th>\n",
       "      <th>Question</th>\n",
       "      <th>Answers</th>\n",
       "    </tr>\n",
       "  </thead>\n",
       "  <tbody>\n",
       "    <tr>\n",
       "      <th>0</th>\n",
       "      <td>what does [Grégoire Colin] appear in</td>\n",
       "      <td>Before the Rain</td>\n",
       "    </tr>\n",
       "    <tr>\n",
       "      <th>1</th>\n",
       "      <td>[Joe Thomas] appears in which movies</td>\n",
       "      <td>The Inbetweeners Movie|The Inbetweeners 2</td>\n",
       "    </tr>\n",
       "    <tr>\n",
       "      <th>2</th>\n",
       "      <td>what films did [Michelle Trachtenberg] star in</td>\n",
       "      <td>Inspector Gadget|Black Christmas|Ice Princess|...</td>\n",
       "    </tr>\n",
       "    <tr>\n",
       "      <th>3</th>\n",
       "      <td>what does [Helen Mack] star in</td>\n",
       "      <td>The Son of Kong|Kiss and Make-Up|Divorce</td>\n",
       "    </tr>\n",
       "    <tr>\n",
       "      <th>4</th>\n",
       "      <td>what films did [Shahid Kapoor] act in</td>\n",
       "      <td>Haider|Jab We Met|Chance Pe Dance</td>\n",
       "    </tr>\n",
       "  </tbody>\n",
       "</table>\n",
       "</div>"
      ],
      "text/plain": [
       "                                         Question  \\\n",
       "0            what does [Grégoire Colin] appear in   \n",
       "1            [Joe Thomas] appears in which movies   \n",
       "2  what films did [Michelle Trachtenberg] star in   \n",
       "3                  what does [Helen Mack] star in   \n",
       "4           what films did [Shahid Kapoor] act in   \n",
       "\n",
       "                                             Answers  \n",
       "0                                    Before the Rain  \n",
       "1          The Inbetweeners Movie|The Inbetweeners 2  \n",
       "2  Inspector Gadget|Black Christmas|Ice Princess|...  \n",
       "3           The Son of Kong|Kiss and Make-Up|Divorce  \n",
       "4                  Haider|Jab We Met|Chance Pe Dance  "
      ]
     },
     "execution_count": 2,
     "metadata": {},
     "output_type": "execute_result"
    }
   ],
   "source": [
    "metaqa = pd.read_csv(\"/datasets/MetaQA/1hop/qa_test.txt\", sep=\"\\t\", header=None)\n",
    "metaqa.rename(columns={0: \"Question\", 1: \"Answers\"}, inplace=True)\n",
    "metaqa.head()"
   ]
  },
  {
   "cell_type": "code",
   "execution_count": 3,
   "metadata": {},
   "outputs": [
    {
     "name": "stdout",
     "output_type": "stream",
     "text": [
      "43234\n"
     ]
    },
    {
     "data": {
      "text/html": [
       "<div>\n",
       "<style scoped>\n",
       "    .dataframe tbody tr th:only-of-type {\n",
       "        vertical-align: middle;\n",
       "    }\n",
       "\n",
       "    .dataframe tbody tr th {\n",
       "        vertical-align: top;\n",
       "    }\n",
       "\n",
       "    .dataframe thead th {\n",
       "        text-align: right;\n",
       "    }\n",
       "</style>\n",
       "<table border=\"1\" class=\"dataframe\">\n",
       "  <thead>\n",
       "    <tr style=\"text-align: right;\">\n",
       "      <th></th>\n",
       "      <th>id</th>\n",
       "      <th>entity</th>\n",
       "    </tr>\n",
       "  </thead>\n",
       "  <tbody>\n",
       "    <tr>\n",
       "      <th>0</th>\n",
       "      <td>0</td>\n",
       "      <td>Kismet</td>\n",
       "    </tr>\n",
       "    <tr>\n",
       "      <th>1</th>\n",
       "      <td>1</td>\n",
       "      <td>William Dieterle</td>\n",
       "    </tr>\n",
       "    <tr>\n",
       "      <th>2</th>\n",
       "      <td>2</td>\n",
       "      <td>Edward Knoblock</td>\n",
       "    </tr>\n",
       "    <tr>\n",
       "      <th>3</th>\n",
       "      <td>3</td>\n",
       "      <td>Marlene Dietrich</td>\n",
       "    </tr>\n",
       "    <tr>\n",
       "      <th>4</th>\n",
       "      <td>4</td>\n",
       "      <td>Edward Arnold</td>\n",
       "    </tr>\n",
       "  </tbody>\n",
       "</table>\n",
       "</div>"
      ],
      "text/plain": [
       "   id            entity\n",
       "0   0            Kismet\n",
       "1   1  William Dieterle\n",
       "2   2   Edward Knoblock\n",
       "3   3  Marlene Dietrich\n",
       "4   4     Edward Arnold"
      ]
     },
     "execution_count": 3,
     "metadata": {},
     "output_type": "execute_result"
    }
   ],
   "source": [
    "mid2name = pd.read_csv(\"/datasets/MetaQA/KB/kb_entity_dict.txt\", sep=\"\\t\", header=None)\n",
    "mid2name.rename(columns={0: \"id\", 1: \"entity\"}, inplace=True)\n",
    "print(len(mid2name))\n",
    "mid2name.head()"
   ]
  },
  {
   "cell_type": "code",
   "execution_count": 4,
   "metadata": {},
   "outputs": [
    {
     "data": {
      "text/html": [
       "<div>\n",
       "<style scoped>\n",
       "    .dataframe tbody tr th:only-of-type {\n",
       "        vertical-align: middle;\n",
       "    }\n",
       "\n",
       "    .dataframe tbody tr th {\n",
       "        vertical-align: top;\n",
       "    }\n",
       "\n",
       "    .dataframe thead th {\n",
       "        text-align: right;\n",
       "    }\n",
       "</style>\n",
       "<table border=\"1\" class=\"dataframe\">\n",
       "  <thead>\n",
       "    <tr style=\"text-align: right;\">\n",
       "      <th></th>\n",
       "      <th>subject</th>\n",
       "      <th>relation</th>\n",
       "      <th>object</th>\n",
       "    </tr>\n",
       "  </thead>\n",
       "  <tbody>\n",
       "    <tr>\n",
       "      <th>0</th>\n",
       "      <td>Kismet</td>\n",
       "      <td>directed_by</td>\n",
       "      <td>William Dieterle</td>\n",
       "    </tr>\n",
       "    <tr>\n",
       "      <th>1</th>\n",
       "      <td>Kismet</td>\n",
       "      <td>written_by</td>\n",
       "      <td>Edward Knoblock</td>\n",
       "    </tr>\n",
       "    <tr>\n",
       "      <th>2</th>\n",
       "      <td>Kismet</td>\n",
       "      <td>starred_actors</td>\n",
       "      <td>Marlene Dietrich</td>\n",
       "    </tr>\n",
       "    <tr>\n",
       "      <th>3</th>\n",
       "      <td>Kismet</td>\n",
       "      <td>starred_actors</td>\n",
       "      <td>Edward Arnold</td>\n",
       "    </tr>\n",
       "    <tr>\n",
       "      <th>4</th>\n",
       "      <td>Kismet</td>\n",
       "      <td>starred_actors</td>\n",
       "      <td>Ronald Colman</td>\n",
       "    </tr>\n",
       "  </tbody>\n",
       "</table>\n",
       "</div>"
      ],
      "text/plain": [
       "  subject        relation            object\n",
       "0  Kismet     directed_by  William Dieterle\n",
       "1  Kismet      written_by   Edward Knoblock\n",
       "2  Kismet  starred_actors  Marlene Dietrich\n",
       "3  Kismet  starred_actors     Edward Arnold\n",
       "4  Kismet  starred_actors     Ronald Colman"
      ]
     },
     "execution_count": 4,
     "metadata": {},
     "output_type": "execute_result"
    }
   ],
   "source": [
    "metaqa_kb = pd.read_csv(\"/datasets/MetaQA/KB/kb.txt\", sep=\"|\", header=None)\n",
    "metaqa_kb.rename(columns={0: \"subject\", 1: \"relation\", 2: \"object\"}, inplace=True)\n",
    "metaqa_kb.head()"
   ]
  },
  {
   "cell_type": "code",
   "execution_count": 5,
   "metadata": {},
   "outputs": [
    {
     "data": {
      "text/plain": [
       "43234"
      ]
     },
     "execution_count": 5,
     "metadata": {},
     "output_type": "execute_result"
    }
   ],
   "source": [
    "len(set([*metaqa_kb.subject.unique().tolist(), *metaqa_kb.object.unique().tolist()]).intersection(set(mid2name.entity)))"
   ]
  },
  {
   "cell_type": "code",
   "execution_count": null,
   "metadata": {},
   "outputs": [],
   "source": [
    "from langchain_community.graphs.networkx_graph import KnowledgeTriple\n",
    "from utils.graph import KGraphPreproc\n",
    "mqa_graph = KGraphPreproc()\n",
    "for i, r in metaqa_kb.iterrows():\n",
    "    triplet = KnowledgeTriple(\n",
    "        r.subject,\n",
    "        r.relation,\n",
    "        r.object,\n",
    "    )\n",
    "    mqa_graph.add_triple(triplet)"
   ]
  },
  {
   "cell_type": "code",
   "execution_count": null,
   "metadata": {},
   "outputs": [],
   "source": [
    "mqa_graph.generate_preprocessed_nodes()\n",
    "# to account for directional edges (llm will figure it out)\n",
    "mqa_graph._graph = mqa_graph._graph.to_undirected()"
   ]
  },
  {
   "cell_type": "markdown",
   "metadata": {},
   "source": [
    "### Attempt inference with KG"
   ]
  },
  {
   "cell_type": "code",
   "execution_count": 8,
   "metadata": {},
   "outputs": [],
   "source": [
    "from langchain.chains import GraphQAChain\n",
    "from utils.llm.mistral import MistralLLM\n",
    "from utils.prompt import ENTITY_PROMPT, GRAPH_QA_PROMPT"
   ]
  },
  {
   "cell_type": "code",
   "execution_count": 9,
   "metadata": {},
   "outputs": [],
   "source": [
    "mistral = MistralLLM()"
   ]
  },
  {
   "cell_type": "code",
   "execution_count": 10,
   "metadata": {},
   "outputs": [],
   "source": [
    "chain = GraphQAChain.from_llm(\n",
    "    llm=mistral, \n",
    "    graph=mqa_graph,\n",
    "    qa_prompt=GRAPH_QA_PROMPT,\n",
    "    entity_prompt=ENTITY_PROMPT,\n",
    "    verbose=True,\n",
    ")\n"
   ]
  },
  {
   "cell_type": "code",
   "execution_count": 11,
   "metadata": {},
   "outputs": [
    {
     "data": {
      "text/plain": [
       "'[Joe Thomas] appears in which movies'"
      ]
     },
     "execution_count": 11,
     "metadata": {},
     "output_type": "execute_result"
    }
   ],
   "source": [
    "q0 = metaqa.iloc[1]\n",
    "q0.Question"
   ]
  },
  {
   "cell_type": "code",
   "execution_count": 13,
   "metadata": {},
   "outputs": [
    {
     "name": "stdout",
     "output_type": "stream",
     "text": [
      "\n",
      "\n",
      "\u001b[1m> Entering new GraphQAChain chain...\u001b[0m\n",
      "Entities Extracted:\n",
      "\u001b[32;1m\u001b[1;3mJoe Thomas, movies\u001b[0m\n",
      "Full Context:\n",
      "\u001b[32;1m\u001b[1;3mJoe Thomas starred_actors The Inbetweeners 2\n",
      "Joe Thomas starred_actors The Inbetweeners Movie\u001b[0m\n",
      "\n",
      "\u001b[1m> Finished chain.\u001b[0m\n"
     ]
    },
    {
     "data": {
      "text/plain": [
       "{'query': '[Joe Thomas] appears in which movies',\n",
       " 'result': 'The Inbetweeners Movie, The Inbetweeners 2'}"
      ]
     },
     "execution_count": 13,
     "metadata": {},
     "output_type": "execute_result"
    }
   ],
   "source": [
    "chain.invoke(q0.Question)"
   ]
  }
 ],
 "metadata": {
  "kernelspec": {
   "display_name": "Python 3 (ipykernel)",
   "language": "python",
   "name": "python3"
  }
 },
 "nbformat": 4,
 "nbformat_minor": 2
}
