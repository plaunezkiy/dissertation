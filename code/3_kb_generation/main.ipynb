{
 "cells": [
  {
   "cell_type": "code",
   "execution_count": 107,
   "metadata": {},
   "outputs": [],
   "source": [
    "import pandas as pd\n",
    "import re"
   ]
  },
  {
   "cell_type": "code",
   "execution_count": 4,
   "metadata": {},
   "outputs": [
    {
     "data": {
      "text/html": [
       "<div>\n",
       "<style scoped>\n",
       "    .dataframe tbody tr th:only-of-type {\n",
       "        vertical-align: middle;\n",
       "    }\n",
       "\n",
       "    .dataframe tbody tr th {\n",
       "        vertical-align: top;\n",
       "    }\n",
       "\n",
       "    .dataframe thead th {\n",
       "        text-align: right;\n",
       "    }\n",
       "</style>\n",
       "<table border=\"1\" class=\"dataframe\">\n",
       "  <thead>\n",
       "    <tr style=\"text-align: right;\">\n",
       "      <th></th>\n",
       "      <th>fold</th>\n",
       "      <th>source</th>\n",
       "      <th>documentId</th>\n",
       "      <th>documentText</th>\n",
       "      <th>passages</th>\n",
       "    </tr>\n",
       "  </thead>\n",
       "  <tbody>\n",
       "    <tr>\n",
       "      <th>0</th>\n",
       "      <td>3</td>\n",
       "      <td>Diffbot Knowledge Graph</td>\n",
       "      <td>13205</td>\n",
       "      <td>Documents Assist\\n\\nFlorida Cheap Divorce - Si...</td>\n",
       "      <td>[{'passageId': '13205:453:779', 'exhaustivelyA...</td>\n",
       "    </tr>\n",
       "    <tr>\n",
       "      <th>1</th>\n",
       "      <td>2</td>\n",
       "      <td>Diffbot Knowledge Graph</td>\n",
       "      <td>7</td>\n",
       "      <td>Tata Chemicals Europe\\n\\nTata Chemicals Europe...</td>\n",
       "      <td>[{'passageId': '7:23:206', 'exhaustivelyAnnota...</td>\n",
       "    </tr>\n",
       "    <tr>\n",
       "      <th>2</th>\n",
       "      <td>1</td>\n",
       "      <td>Diffbot Knowledge Graph</td>\n",
       "      <td>29726</td>\n",
       "      <td>Morphine\\n\\nMorphine was an American alternati...</td>\n",
       "      <td>[{'passageId': '29726:151:315', 'exhaustivelyA...</td>\n",
       "    </tr>\n",
       "    <tr>\n",
       "      <th>3</th>\n",
       "      <td>4</td>\n",
       "      <td>Diffbot Knowledge Graph</td>\n",
       "      <td>13115</td>\n",
       "      <td>Norman Nadorff\\n\\nNorman J. Nadorff is an inte...</td>\n",
       "      <td>[{'passageId': '13115:1833:1922', 'exhaustivel...</td>\n",
       "    </tr>\n",
       "    <tr>\n",
       "      <th>4</th>\n",
       "      <td>2</td>\n",
       "      <td>DBpedia Abstract</td>\n",
       "      <td>7109</td>\n",
       "      <td>Abdullah bin Mohammed bin Saud Al Thani\\n\\nH.E...</td>\n",
       "      <td>[{'passageId': '7109:41:205', 'exhaustivelyAnn...</td>\n",
       "    </tr>\n",
       "  </tbody>\n",
       "</table>\n",
       "</div>"
      ],
      "text/plain": [
       "   fold                   source  documentId  \\\n",
       "0     3  Diffbot Knowledge Graph       13205   \n",
       "1     2  Diffbot Knowledge Graph           7   \n",
       "2     1  Diffbot Knowledge Graph       29726   \n",
       "3     4  Diffbot Knowledge Graph       13115   \n",
       "4     2         DBpedia Abstract        7109   \n",
       "\n",
       "                                        documentText  \\\n",
       "0  Documents Assist\\n\\nFlorida Cheap Divorce - Si...   \n",
       "1  Tata Chemicals Europe\\n\\nTata Chemicals Europe...   \n",
       "2  Morphine\\n\\nMorphine was an American alternati...   \n",
       "3  Norman Nadorff\\n\\nNorman J. Nadorff is an inte...   \n",
       "4  Abdullah bin Mohammed bin Saud Al Thani\\n\\nH.E...   \n",
       "\n",
       "                                            passages  \n",
       "0  [{'passageId': '13205:453:779', 'exhaustivelyA...  \n",
       "1  [{'passageId': '7:23:206', 'exhaustivelyAnnota...  \n",
       "2  [{'passageId': '29726:151:315', 'exhaustivelyA...  \n",
       "3  [{'passageId': '13115:1833:1922', 'exhaustivel...  \n",
       "4  [{'passageId': '7109:41:205', 'exhaustivelyAnn...  "
      ]
     },
     "execution_count": 4,
     "metadata": {},
     "output_type": "execute_result"
    }
   ],
   "source": [
    "knet = pd.read_json(\"/datasets/KNET/train.json\")\n",
    "knet.head()"
   ]
  },
  {
   "cell_type": "code",
   "execution_count": 10,
   "metadata": {},
   "outputs": [
    {
     "name": "stdout",
     "output_type": "stream",
     "text": [
      "Documents Assist\n",
      "\n",
      "Florida Cheap Divorce - Simple Divorce $280 flat fee - No Court Divorce\n",
      "Established in 2006.\n",
      "After a few years working as an Independent Associate of Legal Shield, formerly known as Pre-Paid Legal, Yamil Fuentes made it her mission to help her clients take advantage of their access to the legal system. After going through her own personal divorce she realized there was a need of affordable divorce services in the State of Florida.\n",
      "When she founded Apex Legal Document Preparation Services she became a Premium Member of the FALDP (Florida Association of Legal Document Preparers) and educated herself on the different types of divorce been offered across the State of Florida and learned from the best in the industry of legal document preparation services.\n",
      "Through her membership she embarked on a journey to learn how to make the divorce process as easy as possible for her clients, making her company the most sought after divorce preparer in Florida touting the following service 'Express Divorce - 30 Days with No Court Hearing'.\n",
      "Apex has now divorced hundreds of people.\n",
      "Passionate about divorcing people in the quickest and less painful manner. She has mastered the art of preparing any type of divorce in the State of Florida. Many of her clients are in the South Florida area but she is not limited to these clients.\n"
     ]
    }
   ],
   "source": [
    "print(knet.iloc[0].documentText)"
   ]
  },
  {
   "cell_type": "code",
   "execution_count": 33,
   "metadata": {},
   "outputs": [
    {
     "data": {
      "text/plain": [
       "[{'passageId': '1756:399:488',\n",
       "  'exhaustivelyAnnotatedProperties': [{'propertyId': '5',\n",
       "    'propertyName': 'DATE_FOUNDED',\n",
       "    'propertyDescription': 'Describes the founding date of a company.'}],\n",
       "  'passageStart': 399,\n",
       "  'passageEnd': 488,\n",
       "  'passageText': 'His passion was coin collecting and he also co-founded the South Shore Coin Club in 1972.',\n",
       "  'facts': [{'factId': '1756:458:479:483:487:5',\n",
       "    'propertyId': '5',\n",
       "    'humanReadable': '<South Shore Coin Club> <DATE_FOUNDED> <1972>',\n",
       "    'annotatedPassage': 'His passion was coin collecting and he also co-founded the <South Shore Coin Club> in <1972>.',\n",
       "    'subjectStart': 458,\n",
       "    'subjectEnd': 479,\n",
       "    'subjectText': 'South Shore Coin Club',\n",
       "    'subjectUri': '',\n",
       "    'objectStart': 483,\n",
       "    'objectEnd': 487,\n",
       "    'objectText': '1972',\n",
       "    'objectUri': ''}]},\n",
       " {'passageId': '1756:299:398',\n",
       "  'exhaustivelyAnnotatedProperties': [{'propertyId': '3',\n",
       "    'propertyName': 'EMPLOYEE_OR_MEMBER_OF',\n",
       "    'propertyDescription': 'Describes the previous/current employer of a person.'}],\n",
       "  'passageStart': 299,\n",
       "  'passageEnd': 398,\n",
       "  'passageText': 'He was a retired Air Force Veteran and later worked for the City of West Allis as a Civil Engineer.',\n",
       "  'facts': [{'factId': '1756:299:301:359:377:3',\n",
       "    'propertyId': '3',\n",
       "    'humanReadable': '<He> <EMPLOYEE_OR_MEMBER_OF> <City of West Allis>',\n",
       "    'annotatedPassage': '<He> was a retired Air Force Veteran and later worked for the <City of West Allis> as a Civil Engineer.',\n",
       "    'subjectStart': 299,\n",
       "    'subjectEnd': 301,\n",
       "    'subjectText': 'He',\n",
       "    'subjectUri': '',\n",
       "    'objectStart': 359,\n",
       "    'objectEnd': 377,\n",
       "    'objectText': 'City of West Allis',\n",
       "    'objectUri': 'http://www.wikidata.org/entity/Q389483'},\n",
       "   {'factId': '1756:299:301:316:325:3',\n",
       "    'propertyId': '3',\n",
       "    'humanReadable': '<He> <EMPLOYEE_OR_MEMBER_OF> <Air Force>',\n",
       "    'annotatedPassage': '<He> was a retired <Air Force> Veteran and later worked for the City of West Allis as a Civil Engineer.',\n",
       "    'subjectStart': 299,\n",
       "    'subjectEnd': 301,\n",
       "    'subjectText': 'He',\n",
       "    'subjectUri': '',\n",
       "    'objectStart': 316,\n",
       "    'objectEnd': 325,\n",
       "    'objectText': 'Air Force',\n",
       "    'objectUri': 'http://www.wikidata.org/entity/Q61883'}]},\n",
       " {'passageId': '1756:200:298',\n",
       "  'exhaustivelyAnnotatedProperties': [{'propertyId': '2',\n",
       "    'propertyName': 'FOUNDED_BY',\n",
       "    'propertyDescription': 'Describes the relationship between an organization and its founder or co-founder.'}],\n",
       "  'passageStart': 200,\n",
       "  'passageEnd': 298,\n",
       "  'passageText': \"Bob's Coins was founded by Robert (Bob) Korsec a graduate of Marquette High School and University.\",\n",
       "  'facts': [{'factId': '1756:200:211:227:246:2',\n",
       "    'propertyId': '2',\n",
       "    'humanReadable': \"<Bob's Coins> <FOUNDED_BY> <Robert (Bob) Korsec>\",\n",
       "    'annotatedPassage': \"<Bob's Coins> was founded by <Robert (Bob) Korsec> a graduate of Marquette High School and University.\",\n",
       "    'subjectStart': 200,\n",
       "    'subjectEnd': 211,\n",
       "    'subjectText': \"Bob's Coins\",\n",
       "    'subjectUri': '',\n",
       "    'objectStart': 227,\n",
       "    'objectEnd': 246,\n",
       "    'objectText': 'Robert (Bob) Korsec',\n",
       "    'objectUri': ''}]}]"
      ]
     },
     "execution_count": 33,
     "metadata": {},
     "output_type": "execute_result"
    }
   ],
   "source": [
    "knet[knet.passages.apply(len) > 2].iloc[0].passages\n",
    "# .passages[0][\"facts\"]"
   ]
  },
  {
   "cell_type": "markdown",
   "metadata": {},
   "source": [
    "## Relations"
   ]
  },
  {
   "cell_type": "code",
   "execution_count": 56,
   "metadata": {},
   "outputs": [
    {
     "data": {
      "text/plain": [
       "0       [[{'propertyId': '9', 'propertyName': 'EDUCATE...\n",
       "1       [[{'propertyId': '1', 'propertyName': 'SUBSIDI...\n",
       "2       [[{'propertyId': '14', 'propertyName': 'DATE_O...\n",
       "3       [[{'propertyId': '10', 'propertyName': 'NATION...\n",
       "4       [[{'propertyId': '10', 'propertyName': 'NATION...\n",
       "                              ...                        \n",
       "3972    [[{'propertyId': '45', 'propertyName': 'POLITI...\n",
       "3973    [[{'propertyId': '10', 'propertyName': 'NATION...\n",
       "3974    [[{'propertyId': '1', 'propertyName': 'SUBSIDI...\n",
       "3975    [[{'propertyId': '14', 'propertyName': 'DATE_O...\n",
       "3976    [[{'propertyId': '5', 'propertyName': 'DATE_FO...\n",
       "Name: passages, Length: 3977, dtype: object"
      ]
     },
     "execution_count": 56,
     "metadata": {},
     "output_type": "execute_result"
    }
   ],
   "source": [
    "relations_df = knet.passages.apply(lambda t: list(map(lambda x: x[\"exhaustivelyAnnotatedProperties\"], t)))\n",
    "relations_df"
   ]
  },
  {
   "cell_type": "code",
   "execution_count": 62,
   "metadata": {},
   "outputs": [],
   "source": [
    "relations = relations_df.apply(lambda r: list(map(lambda x: x[0][\"propertyName\"], r)))"
   ]
  },
  {
   "cell_type": "code",
   "execution_count": 63,
   "metadata": {},
   "outputs": [
    {
     "data": {
      "text/plain": [
       "{'CEO',\n",
       " 'CHILD_OF',\n",
       " 'DATE_FOUNDED',\n",
       " 'DATE_OF_BIRTH',\n",
       " 'DATE_OF_DEATH',\n",
       " 'EDUCATED_AT',\n",
       " 'EMPLOYEE_OR_MEMBER_OF',\n",
       " 'FOUNDED_BY',\n",
       " 'HEADQUARTERS',\n",
       " 'NATIONALITY',\n",
       " 'PLACE_OF_BIRTH',\n",
       " 'PLACE_OF_RESIDENCE',\n",
       " 'POLITICAL_AFFILIATION',\n",
       " 'SPOUSE',\n",
       " 'SUBSIDIARY_OF'}"
      ]
     },
     "execution_count": 63,
     "metadata": {},
     "output_type": "execute_result"
    }
   ],
   "source": [
    "relations = set(sum(relations, []))\n",
    "relations"
   ]
  },
  {
   "cell_type": "markdown",
   "metadata": {},
   "source": [
    "## Eval data"
   ]
  },
  {
   "cell_type": "code",
   "execution_count": 67,
   "metadata": {},
   "outputs": [],
   "source": [
    "import gc\n",
    "import torch\n",
    "from mistral_inference.transformer import Transformer\n",
    "from mistral_common.tokens.tokenizers.mistral import MistralTokenizer\n",
    "\n",
    "from mistral_inference.generate import generate\n",
    "from mistral_common.protocol.instruct.messages import UserMessage\n",
    "from mistral_common.protocol.instruct.request import ChatCompletionRequest"
   ]
  },
  {
   "cell_type": "code",
   "execution_count": 76,
   "metadata": {},
   "outputs": [],
   "source": [
    "model = None\n",
    "tokenizer = None\n",
    "\n",
    "\n",
    "def load_model():\n",
    "    global model, tokenizer\n",
    "    tokenizer = MistralTokenizer.from_file(\"/models/M7B/tokenizer.model.v3\")  # change to extracted tokenizer file\n",
    "    model = Transformer.from_folder(\"/models/M7B\")  # change to extracted model dir\n",
    "\n",
    "\n",
    "\n",
    "def clear_model():\n",
    "    global model, tokenizer\n",
    "    del model, tokenizer\n",
    "    gc.collect()\n",
    "    torch.cuda.empty_cache()\n",
    "\n",
    "\n",
    "def get_response(prompt):\n",
    "    global model, tokenizer\n",
    "    completion_request = ChatCompletionRequest(messages=[UserMessage(content=prompt)])\n",
    "    tokens = tokenizer.encode_chat_completion(completion_request).tokens\n",
    "    out_tokens, _ = generate([tokens], model, max_tokens=1024, temperature=0.35, eos_id=tokenizer.instruct_tokenizer.tokenizer.eos_id)\n",
    "    result = tokenizer.instruct_tokenizer.tokenizer.decode(out_tokens[0])\n",
    "    return result"
   ]
  },
  {
   "cell_type": "code",
   "execution_count": 70,
   "metadata": {},
   "outputs": [],
   "source": [
    "eval_knet = knet[knet.fold == 4]"
   ]
  },
  {
   "cell_type": "code",
   "execution_count": 79,
   "metadata": {},
   "outputs": [
    {
     "name": "stdout",
     "output_type": "stream",
     "text": [
      "Norman Nadorff\n",
      "\n",
      "Norman J. Nadorff is an international energy attorney with more than 30 years of experience working for the law departments of major oil and gas companies. He retired from BP in 2015 after 26 years (including 11 years with ARCO), the last nine of which were in BP Angola. Mr. Nadorff has done E&P legal work in Latin America, Southeast Asia West Africa and elsewhere for Conoco, ARCO and BP, including two expatriate assignments in Indonesia. At ARCO, he wrote the Company's policies on Foreign Corrupt Practices Act, U.S. Anti-boycott laws and U.S. Export Regulations.\n",
      "Mr. Nadorff is also an Adjunct Professor of Law at the University of Houston Law Center and a frequent international lecturer. He has given law classes at University of Texas, University of Miami, Agostinho Neto University (Angola), Chulalongkorn University (Bangkok) and ITAM (Mexico City).\n",
      "Mr. Nadorff is a former Director-at-Large of the Association of International Petroleum Negotiators (\"AIPN\") and a present Member of Board of Advisors of the AIPN-Oxford Press Journal of World Energy Law and Business (\"JWELB\"). He is Co-Editor of a Special JWELB edition titled, \"Sub-Saharan Africa: Comparative Views on Anti-corruption Laws and Enforcement\" as well as co-author of an article appearing therein called, \"Where There's a Will There's a Way: Making Angola's Probity Laws Work\". (Scheduled for publication in June, 2014)\n",
      "In 2006, Mr. Nadorff assisted in the creation of a unique international oil and gas post-graduate program at Angola's national law school, and later helped organize, and taught in, a similar program in Thailand. He holds a Juris Doctor degree from The Ohio State University College of Law, as well as an M.A. in Spanish and Portuguese and a B.A. in Political Science (summa cum laude), both from Saint Louis University. He is a member of Phi Beta Kappa and was a Fulbright Fellow in Law in Brazil (1980-1981).\n"
     ]
    }
   ],
   "source": [
    "print(eval_knet.iloc[0].documentText)"
   ]
  },
  {
   "cell_type": "code",
   "execution_count": 73,
   "metadata": {},
   "outputs": [],
   "source": [
    "RELATION_EXTRACTION_PROMPT = \"\"\"\n",
    "Below you will find a passage text, your task\n",
    "is to extract the entity relation triplets\n",
    "in the following format: <Subject>:<Predicate>:<Object>\n",
    "You should extract and number all possible triplets in a given passage.\n",
    "PASSAGE:\n",
    "{passage}\n",
    "\"\"\""
   ]
  },
  {
   "cell_type": "code",
   "execution_count": 92,
   "metadata": {},
   "outputs": [],
   "source": [
    "load_model()"
   ]
  },
  {
   "cell_type": "code",
   "execution_count": 106,
   "metadata": {},
   "outputs": [],
   "source": [
    "clear_model()"
   ]
  },
  {
   "cell_type": "code",
   "execution_count": 91,
   "metadata": {},
   "outputs": [
    {
     "data": {
      "text/plain": [
       "[{'passageId': '4927:374:480',\n",
       "  'exhaustivelyAnnotatedProperties': [{'propertyId': '2',\n",
       "    'propertyName': 'FOUNDED_BY',\n",
       "    'propertyDescription': 'Describes the relationship between an organization and its founder or co-founder.'},\n",
       "   {'propertyId': '3',\n",
       "    'propertyName': 'EMPLOYEE_OR_MEMBER_OF',\n",
       "    'propertyDescription': 'Describes the previous/current employer of a person.'},\n",
       "   {'propertyId': '4',\n",
       "    'propertyName': 'CEO',\n",
       "    'propertyDescription': 'Describes the relationship between an organization and its CEO.'},\n",
       "   {'propertyId': '5',\n",
       "    'propertyName': 'DATE_FOUNDED',\n",
       "    'propertyDescription': 'Describes the founding date of a company.'}],\n",
       "  'passageStart': 374,\n",
       "  'passageEnd': 480,\n",
       "  'passageText': 'Of Armenian descent, he was the founder and first president of the Armenian Academy of Sciences (1943–47).',\n",
       "  'facts': [{'factId': '4927:395:397:441:469:3',\n",
       "    'propertyId': '3',\n",
       "    'humanReadable': '<he> <EMPLOYEE_OR_MEMBER_OF> <Armenian Academy of Sciences>',\n",
       "    'annotatedPassage': 'Of Armenian descent, <he> was the founder and first president of the <Armenian Academy of Sciences> (1943–47).',\n",
       "    'subjectStart': 395,\n",
       "    'subjectEnd': 397,\n",
       "    'subjectText': 'he',\n",
       "    'subjectUri': 'http://www.wikidata.org/entity/Q1382698',\n",
       "    'objectStart': 441,\n",
       "    'objectEnd': 469,\n",
       "    'objectText': 'Armenian Academy of Sciences',\n",
       "    'objectUri': 'http://www.wikidata.org/entity/Q2379496'},\n",
       "   {'factId': '4927:441:469:471:475:5',\n",
       "    'propertyId': '5',\n",
       "    'humanReadable': '<Armenian Academy of Sciences> <DATE_FOUNDED> <1943>',\n",
       "    'annotatedPassage': 'Of Armenian descent, he was the founder and first president of the <Armenian Academy of Sciences> (<1943>–47).',\n",
       "    'subjectStart': 441,\n",
       "    'subjectEnd': 469,\n",
       "    'subjectText': 'Armenian Academy of Sciences',\n",
       "    'subjectUri': 'http://www.wikidata.org/entity/Q2379496',\n",
       "    'objectStart': 471,\n",
       "    'objectEnd': 475,\n",
       "    'objectText': '1943',\n",
       "    'objectUri': ''},\n",
       "   {'factId': '4927:441:469:395:397:2',\n",
       "    'propertyId': '2',\n",
       "    'humanReadable': '<Armenian Academy of Sciences> <FOUNDED_BY> <he>',\n",
       "    'annotatedPassage': 'Of Armenian descent, <he> was the founder and first president of the <Armenian Academy of Sciences> (1943–47).',\n",
       "    'subjectStart': 441,\n",
       "    'subjectEnd': 469,\n",
       "    'subjectText': 'Armenian Academy of Sciences',\n",
       "    'subjectUri': 'http://www.wikidata.org/entity/Q2379496',\n",
       "    'objectStart': 395,\n",
       "    'objectEnd': 397,\n",
       "    'objectText': 'he',\n",
       "    'objectUri': 'http://www.wikidata.org/entity/Q1382698'}]}]"
      ]
     },
     "execution_count": 91,
     "metadata": {},
     "output_type": "execute_result"
    }
   ],
   "source": [
    "passage = eval_knet.iloc[1]\n",
    "passage.passages"
   ]
  },
  {
   "cell_type": "code",
   "execution_count": 94,
   "metadata": {},
   "outputs": [],
   "source": [
    "output = get_response(RELATION_EXTRACTION_PROMPT.format(passage=passage.documentText))"
   ]
  },
  {
   "cell_type": "code",
   "execution_count": null,
   "metadata": {},
   "outputs": [
    {
     "name": "stdout",
     "output_type": "stream",
     "text": [
      "1. <Joseph Orbeli>:<was born on>:<March 20 (O.S. 8 March) 1887>\n",
      "2. <Joseph Orbeli>:<died on>:<February 2, 1961>\n",
      "3. <Joseph Orbeli>:<was a>:<renowned Soviet orientalist>\n",
      "4. <Joseph Orbeli>:<specialized in>:<medieval history of Southern Caucasus>\n",
      "5. <Joseph Orbeli>:<administered>:<the State Hermitage Museum in Leningrad from 1934 to 1951>\n",
      "6. <Joseph Orbeli>:<was of>:<Armenian descent>\n",
      "7. <Joseph Orbeli>:<was the founder and first president of>:<the Armenian Academy of Sciences (1943–47)>\n",
      "8. <Joseph Orbeli (Armenian name)>:<is>:<Հովսեփ Աբգարի Օրբելի (Hovsep Abgari Orbeli)>\n",
      "9. <Joseph Orbeli (Russian name)>:<is>:<Иосиф Абгарович Орбели (Iosif Abgarovich Orbeli)>\n"
     ]
    }
   ],
   "source": [
    "print(output) "
   ]
  },
  {
   "cell_type": "code",
   "execution_count": 123,
   "metadata": {},
   "outputs": [],
   "source": [
    "def extract_triplet(text):\n",
    "    pattern = re.compile(\"\\d. (.*),?\")\n",
    "    matches = re.findall(pattern, text)\n",
    "    return matches[0].split(\":\")"
   ]
  },
  {
   "cell_type": "code",
   "execution_count": 124,
   "metadata": {},
   "outputs": [
    {
     "data": {
      "text/plain": [
       "[['<Joseph Orbeli>', '<was born on>', '<March 20 (O.S. 8 March) 1887>'],\n",
       " ['<Joseph Orbeli>', '<died on>', '<February 2, 1961>'],\n",
       " ['<Joseph Orbeli>', '<was a>', '<renowned Soviet orientalist>'],\n",
       " ['<Joseph Orbeli>',\n",
       "  '<specialized in>',\n",
       "  '<medieval history of Southern Caucasus>'],\n",
       " ['<Joseph Orbeli>',\n",
       "  '<administered>',\n",
       "  '<the State Hermitage Museum in Leningrad from 1934 to 1951>'],\n",
       " ['<Joseph Orbeli>', '<was of>', '<Armenian descent>'],\n",
       " ['<Joseph Orbeli>',\n",
       "  '<was the founder and first president of>',\n",
       "  '<the Armenian Academy of Sciences (1943–47)>'],\n",
       " ['<Joseph Orbeli (Armenian name)>',\n",
       "  '<is>',\n",
       "  '<Հովսեփ Աբգարի Օրբելի (Hovsep Abgari Orbeli)>'],\n",
       " ['<Joseph Orbeli (Russian name)>',\n",
       "  '<is>',\n",
       "  '<Иосиф Абгарович Орбели (Iosif Abgarovich Orbeli)>']]"
      ]
     },
     "execution_count": 124,
     "metadata": {},
     "output_type": "execute_result"
    }
   ],
   "source": [
    "list(map(extract_triplet, output.split(\"\\n\")))"
   ]
  },
  {
   "cell_type": "code",
   "execution_count": 105,
   "metadata": {},
   "outputs": [
    {
     "data": {
      "text/plain": [
       "['<he> <EMPLOYEE_OR_MEMBER_OF> <Armenian Academy of Sciences>',\n",
       " '<Armenian Academy of Sciences> <DATE_FOUNDED> <1943>',\n",
       " '<Armenian Academy of Sciences> <FOUNDED_BY> <he>']"
      ]
     },
     "execution_count": 105,
     "metadata": {},
     "output_type": "execute_result"
    }
   ],
   "source": [
    "list(map(lambda t: t[\"humanReadable\"], passage.passages[0][\"facts\"]))"
   ]
  }
 ],
 "metadata": {
  "kernelspec": {
   "display_name": "Python 3 (ipykernel)",
   "language": "python",
   "name": "python3"
  }
 },
 "nbformat": 4,
 "nbformat_minor": 2
}
