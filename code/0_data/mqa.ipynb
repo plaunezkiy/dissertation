{
 "cells": [
  {
   "cell_type": "code",
   "execution_count": 78,
   "metadata": {},
   "outputs": [],
   "source": [
    "import pandas as pd\n",
    "import numpy as np"
   ]
  },
  {
   "cell_type": "markdown",
   "metadata": {},
   "source": [
    "## Create a reproducible sample of a 1000 questions in each category"
   ]
  },
  {
   "cell_type": "code",
   "execution_count": 95,
   "metadata": {},
   "outputs": [],
   "source": [
    "hops = [1,2,3]\n",
    "for hop in hops:\n",
    "    mqa = pd.read_csv(f\"/datasets/MetaQA/{hop}hop/qa_test.txt\", sep=\"\\t\", header=None)\n",
    "    np.random.seed(42)\n",
    "    mqa = mqa.sample(n=1000)\n",
    "    mqa.to_csv(f\"/datasets/MetaQA/{hop}hop/test_1000.txt\", header=False)"
   ]
  }
 ],
 "metadata": {
  "kernelspec": {
   "display_name": "Python 3 (ipykernel)",
   "language": "python",
   "name": "python3"
  },
  "language_info": {
   "codemirror_mode": {
    "name": "ipython",
    "version": 3
   },
   "file_extension": ".py",
   "mimetype": "text/x-python",
   "name": "python",
   "nbconvert_exporter": "python",
   "pygments_lexer": "ipython3",
   "version": "3.11.10"
  }
 },
 "nbformat": 4,
 "nbformat_minor": 2
}
