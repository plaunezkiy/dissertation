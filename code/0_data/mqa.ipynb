{
 "cells": [
  {
   "cell_type": "code",
   "execution_count": 74,
   "metadata": {},
   "outputs": [],
   "source": [
    "import pandas as pd\n",
    "import numpy as np\n",
    "from utils.graph import KGraphPreproc\n",
    "import networkx as nx"
   ]
  },
  {
   "cell_type": "code",
   "execution_count": 66,
   "metadata": {},
   "outputs": [],
   "source": [
    "mqa_graph = KGraphPreproc.get_metaqa_graph()"
   ]
  },
  {
   "cell_type": "code",
   "execution_count": 67,
   "metadata": {},
   "outputs": [],
   "source": [
    "import re\n",
    "regex_mqa_topic_entity = re.compile(\"\\[(.*?)\\]\")\n",
    "def extract_mqa_topic_entity(question):\n",
    "    return regex_mqa_topic_entity.findall(question)[0]"
   ]
  },
  {
   "cell_type": "code",
   "execution_count": 68,
   "metadata": {},
   "outputs": [
    {
     "data": {
      "text/html": [
       "<div>\n",
       "<style scoped>\n",
       "    .dataframe tbody tr th:only-of-type {\n",
       "        vertical-align: middle;\n",
       "    }\n",
       "\n",
       "    .dataframe tbody tr th {\n",
       "        vertical-align: top;\n",
       "    }\n",
       "\n",
       "    .dataframe thead th {\n",
       "        text-align: right;\n",
       "    }\n",
       "</style>\n",
       "<table border=\"1\" class=\"dataframe\">\n",
       "  <thead>\n",
       "    <tr style=\"text-align: right;\">\n",
       "      <th></th>\n",
       "      <th>id</th>\n",
       "      <th>hop</th>\n",
       "      <th>Question</th>\n",
       "      <th>topic_entity</th>\n",
       "      <th>Answer</th>\n",
       "    </tr>\n",
       "  </thead>\n",
       "  <tbody>\n",
       "  </tbody>\n",
       "</table>\n",
       "</div>"
      ],
      "text/plain": [
       "Empty DataFrame\n",
       "Columns: [id, hop, Question, topic_entity, Answer]\n",
       "Index: []"
      ]
     },
     "execution_count": 68,
     "metadata": {},
     "output_type": "execute_result"
    }
   ],
   "source": [
    "mqa = pd.DataFrame(columns=[\"id\", \"hop\", \"Question\", \"topic_entity\", \"Answer\"])\n",
    "mqa"
   ]
  },
  {
   "cell_type": "code",
   "execution_count": 69,
   "metadata": {},
   "outputs": [
    {
     "name": "stdout",
     "output_type": "stream",
     "text": [
      "Total unique question-answer pairs: 302779\n"
     ]
    }
   ],
   "source": [
    "hops = [1,2,3]\n",
    "for hop in hops:\n",
    "    test_set_path = f\"/datasets/MetaQA/{hop}hop/qa_test.txt\"\n",
    "    tset = pd.read_csv(test_set_path, sep=\"\\t\", header=None)\n",
    "    tset.rename(columns={0: \"Question\", 1: \"Answer\"}, inplace=True)\n",
    "    tset[\"topic_entity\"] = tset.Question.apply(extract_mqa_topic_entity)\n",
    "    tset.Answer = tset.apply(lambda t: set(t.Answer.lower().split(\"|\")), axis=1)\n",
    "    tset = tset.explode(\"Answer\")\n",
    "    tset.Answer = tset.Answer.apply(preprocess_text)\n",
    "    tset[\"id\"] = tset.apply(lambda r: f\"{hop}-{r.name}\", axis=1)\n",
    "    tset[\"hop\"] = hop\n",
    "    mqa = pd.concat([mqa, tset])\n",
    "mqa.dropna(inplace=True)\n",
    "print(\"Total unique question-answer pairs:\", len(mqa))"
   ]
  },
  {
   "cell_type": "code",
   "execution_count": 70,
   "metadata": {},
   "outputs": [
    {
     "name": "stdout",
     "output_type": "stream",
     "text": [
      "Question with topic entities in graph: 302779\n",
      "Question with answer entities in graph: 302779\n"
     ]
    }
   ],
   "source": [
    "print(\n",
    "    \"Question with topic entities in graph:\",\n",
    "    sum(mqa[\"topic_entity\"].apply(lambda e: mqa_graph.has_node(mqa_graph.name2mid[e])))\n",
    ")\n",
    "print(\n",
    "    \"Question with answer entities in graph:\",\n",
    "    sum(mqa[\"Answer\"].apply(lambda e: mqa_graph.has_node(mqa_graph.preprocessed_nodes[e])))\n",
    ")"
   ]
  },
  {
   "cell_type": "code",
   "execution_count": 71,
   "metadata": {},
   "outputs": [
    {
     "name": "stdout",
     "output_type": "stream",
     "text": [
      "Questions with available paths: 302779\n"
     ]
    }
   ],
   "source": [
    "print(\n",
    "    \"Questions with available paths:\",\n",
    "    sum(mqa.apply(\n",
    "        lambda r: nx.has_path(\n",
    "            mqa_graph._graph,\n",
    "            mqa_graph.name2mid[r.topic_entity],\n",
    "            mqa_graph.preprocessed_nodes[r.Answer]),\n",
    "        axis=1\n",
    "    ))\n",
    ")"
   ]
  },
  {
   "cell_type": "code",
   "execution_count": 76,
   "metadata": {},
   "outputs": [],
   "source": [
    "mqa[\"path\"] = mqa.apply(\n",
    "    lambda r: nx.shortest_path(\n",
    "        mqa_graph._graph,\n",
    "        mqa_graph.name2mid[r[\"topic_entity\"]],\n",
    "        mqa_graph.preprocessed_nodes[r.Answer]\n",
    "    ),\n",
    "    axis=1\n",
    ")"
   ]
  },
  {
   "cell_type": "code",
   "execution_count": 77,
   "metadata": {},
   "outputs": [
    {
     "data": {
      "text/html": [
       "<div>\n",
       "<style scoped>\n",
       "    .dataframe tbody tr th:only-of-type {\n",
       "        vertical-align: middle;\n",
       "    }\n",
       "\n",
       "    .dataframe tbody tr th {\n",
       "        vertical-align: top;\n",
       "    }\n",
       "\n",
       "    .dataframe thead th {\n",
       "        text-align: right;\n",
       "    }\n",
       "</style>\n",
       "<table border=\"1\" class=\"dataframe\">\n",
       "  <thead>\n",
       "    <tr style=\"text-align: right;\">\n",
       "      <th></th>\n",
       "      <th>id</th>\n",
       "      <th>hop</th>\n",
       "      <th>Question</th>\n",
       "      <th>topic_entity</th>\n",
       "      <th>Answer</th>\n",
       "      <th>path</th>\n",
       "    </tr>\n",
       "  </thead>\n",
       "  <tbody>\n",
       "    <tr>\n",
       "      <th>0</th>\n",
       "      <td>1-0</td>\n",
       "      <td>1</td>\n",
       "      <td>what does [Grégoire Colin] appear in</td>\n",
       "      <td>Grégoire Colin</td>\n",
       "      <td>befor the rain</td>\n",
       "      <td>[176, 173, 16, 540, 32794]</td>\n",
       "    </tr>\n",
       "    <tr>\n",
       "      <th>1</th>\n",
       "      <td>1-1</td>\n",
       "      <td>1</td>\n",
       "      <td>[Joe Thomas] appears in which movies</td>\n",
       "      <td>Joe Thomas</td>\n",
       "      <td>the inbetween 2</td>\n",
       "      <td>[20874, 20869]</td>\n",
       "    </tr>\n",
       "    <tr>\n",
       "      <th>1</th>\n",
       "      <td>1-1</td>\n",
       "      <td>1</td>\n",
       "      <td>[Joe Thomas] appears in which movies</td>\n",
       "      <td>Joe Thomas</td>\n",
       "      <td>the inbetween movi</td>\n",
       "      <td>[20874, 40449]</td>\n",
       "    </tr>\n",
       "    <tr>\n",
       "      <th>2</th>\n",
       "      <td>1-2</td>\n",
       "      <td>1</td>\n",
       "      <td>what films did [Michelle Trachtenberg] star in</td>\n",
       "      <td>Michelle Trachtenberg</td>\n",
       "      <td>the scribbler</td>\n",
       "      <td>[17337, 21532]</td>\n",
       "    </tr>\n",
       "    <tr>\n",
       "      <th>2</th>\n",
       "      <td>1-2</td>\n",
       "      <td>1</td>\n",
       "      <td>what films did [Michelle Trachtenberg] star in</td>\n",
       "      <td>Michelle Trachtenberg</td>\n",
       "      <td>inspector gadget</td>\n",
       "      <td>[17337, 42379]</td>\n",
       "    </tr>\n",
       "    <tr>\n",
       "      <th>...</th>\n",
       "      <td>...</td>\n",
       "      <td>...</td>\n",
       "      <td>...</td>\n",
       "      <td>...</td>\n",
       "      <td>...</td>\n",
       "      <td>...</td>\n",
       "    </tr>\n",
       "    <tr>\n",
       "      <th>14272</th>\n",
       "      <td>3-14272</td>\n",
       "      <td>3</td>\n",
       "      <td>the films written by the writer of [A Personal...</td>\n",
       "      <td>A Personal Journey with Martin Scorsese Throug...</td>\n",
       "      <td>sharon stone</td>\n",
       "      <td>[10070, 1170, 27209, 4312]</td>\n",
       "    </tr>\n",
       "    <tr>\n",
       "      <th>14272</th>\n",
       "      <td>3-14272</td>\n",
       "      <td>3</td>\n",
       "      <td>the films written by the writer of [A Personal...</td>\n",
       "      <td>A Personal Journey with Martin Scorsese Throug...</td>\n",
       "      <td>robert de niro</td>\n",
       "      <td>[10070, 1170, 1169, 1174]</td>\n",
       "    </tr>\n",
       "    <tr>\n",
       "      <th>14272</th>\n",
       "      <td>3-14272</td>\n",
       "      <td>3</td>\n",
       "      <td>the films written by the writer of [A Personal...</td>\n",
       "      <td>A Personal Journey with Martin Scorsese Throug...</td>\n",
       "      <td>lionel atwil</td>\n",
       "      <td>[10070, 1170, 41440, 5479]</td>\n",
       "    </tr>\n",
       "    <tr>\n",
       "      <th>14272</th>\n",
       "      <td>3-14272</td>\n",
       "      <td>3</td>\n",
       "      <td>the films written by the writer of [A Personal...</td>\n",
       "      <td>A Personal Journey with Martin Scorsese Throug...</td>\n",
       "      <td>winona ryder</td>\n",
       "      <td>[10070, 1170, 41440, 2607, 2604, 2610]</td>\n",
       "    </tr>\n",
       "    <tr>\n",
       "      <th>14273</th>\n",
       "      <td>3-14273</td>\n",
       "      <td>3</td>\n",
       "      <td>when did the movies release whose writers also...</td>\n",
       "      <td>Parineeta</td>\n",
       "      <td>2009</td>\n",
       "      <td>[5889, 5891, 19115, 163]</td>\n",
       "    </tr>\n",
       "  </tbody>\n",
       "</table>\n",
       "<p>302779 rows × 6 columns</p>\n",
       "</div>"
      ],
      "text/plain": [
       "            id hop                                           Question  \\\n",
       "0          1-0   1               what does [Grégoire Colin] appear in   \n",
       "1          1-1   1               [Joe Thomas] appears in which movies   \n",
       "1          1-1   1               [Joe Thomas] appears in which movies   \n",
       "2          1-2   1     what films did [Michelle Trachtenberg] star in   \n",
       "2          1-2   1     what films did [Michelle Trachtenberg] star in   \n",
       "...        ...  ..                                                ...   \n",
       "14272  3-14272   3  the films written by the writer of [A Personal...   \n",
       "14272  3-14272   3  the films written by the writer of [A Personal...   \n",
       "14272  3-14272   3  the films written by the writer of [A Personal...   \n",
       "14272  3-14272   3  the films written by the writer of [A Personal...   \n",
       "14273  3-14273   3  when did the movies release whose writers also...   \n",
       "\n",
       "                                            topic_entity              Answer  \\\n",
       "0                                         Grégoire Colin      befor the rain   \n",
       "1                                             Joe Thomas     the inbetween 2   \n",
       "1                                             Joe Thomas  the inbetween movi   \n",
       "2                                  Michelle Trachtenberg       the scribbler   \n",
       "2                                  Michelle Trachtenberg    inspector gadget   \n",
       "...                                                  ...                 ...   \n",
       "14272  A Personal Journey with Martin Scorsese Throug...        sharon stone   \n",
       "14272  A Personal Journey with Martin Scorsese Throug...      robert de niro   \n",
       "14272  A Personal Journey with Martin Scorsese Throug...        lionel atwil   \n",
       "14272  A Personal Journey with Martin Scorsese Throug...        winona ryder   \n",
       "14273                                          Parineeta                2009   \n",
       "\n",
       "                                         path  \n",
       "0                  [176, 173, 16, 540, 32794]  \n",
       "1                              [20874, 20869]  \n",
       "1                              [20874, 40449]  \n",
       "2                              [17337, 21532]  \n",
       "2                              [17337, 42379]  \n",
       "...                                       ...  \n",
       "14272              [10070, 1170, 27209, 4312]  \n",
       "14272               [10070, 1170, 1169, 1174]  \n",
       "14272              [10070, 1170, 41440, 5479]  \n",
       "14272  [10070, 1170, 41440, 2607, 2604, 2610]  \n",
       "14273                [5889, 5891, 19115, 163]  \n",
       "\n",
       "[302779 rows x 6 columns]"
      ]
     },
     "execution_count": 77,
     "metadata": {},
     "output_type": "execute_result"
    }
   ],
   "source": [
    "mqa"
   ]
  },
  {
   "cell_type": "code",
   "execution_count": 80,
   "metadata": {},
   "outputs": [],
   "source": [
    "mqa.drop_duplicates([\"Question\", \"topic_entity\", \"Answer\"], inplace=True)"
   ]
  },
  {
   "cell_type": "code",
   "execution_count": 81,
   "metadata": {},
   "outputs": [
    {
     "data": {
      "text/html": [
       "<div>\n",
       "<style scoped>\n",
       "    .dataframe tbody tr th:only-of-type {\n",
       "        vertical-align: middle;\n",
       "    }\n",
       "\n",
       "    .dataframe tbody tr th {\n",
       "        vertical-align: top;\n",
       "    }\n",
       "\n",
       "    .dataframe thead th {\n",
       "        text-align: right;\n",
       "    }\n",
       "</style>\n",
       "<table border=\"1\" class=\"dataframe\">\n",
       "  <thead>\n",
       "    <tr style=\"text-align: right;\">\n",
       "      <th></th>\n",
       "      <th>id</th>\n",
       "      <th>hop</th>\n",
       "      <th>Question</th>\n",
       "      <th>topic_entity</th>\n",
       "      <th>Answer</th>\n",
       "      <th>path</th>\n",
       "    </tr>\n",
       "  </thead>\n",
       "  <tbody>\n",
       "    <tr>\n",
       "      <th>0</th>\n",
       "      <td>1-0</td>\n",
       "      <td>1</td>\n",
       "      <td>what does [Grégoire Colin] appear in</td>\n",
       "      <td>Grégoire Colin</td>\n",
       "      <td>befor the rain</td>\n",
       "      <td>[176, 173, 16, 540, 32794]</td>\n",
       "    </tr>\n",
       "    <tr>\n",
       "      <th>1</th>\n",
       "      <td>1-1</td>\n",
       "      <td>1</td>\n",
       "      <td>[Joe Thomas] appears in which movies</td>\n",
       "      <td>Joe Thomas</td>\n",
       "      <td>the inbetween 2</td>\n",
       "      <td>[20874, 20869]</td>\n",
       "    </tr>\n",
       "    <tr>\n",
       "      <th>1</th>\n",
       "      <td>1-1</td>\n",
       "      <td>1</td>\n",
       "      <td>[Joe Thomas] appears in which movies</td>\n",
       "      <td>Joe Thomas</td>\n",
       "      <td>the inbetween movi</td>\n",
       "      <td>[20874, 40449]</td>\n",
       "    </tr>\n",
       "    <tr>\n",
       "      <th>2</th>\n",
       "      <td>1-2</td>\n",
       "      <td>1</td>\n",
       "      <td>what films did [Michelle Trachtenberg] star in</td>\n",
       "      <td>Michelle Trachtenberg</td>\n",
       "      <td>the scribbler</td>\n",
       "      <td>[17337, 21532]</td>\n",
       "    </tr>\n",
       "    <tr>\n",
       "      <th>2</th>\n",
       "      <td>1-2</td>\n",
       "      <td>1</td>\n",
       "      <td>what films did [Michelle Trachtenberg] star in</td>\n",
       "      <td>Michelle Trachtenberg</td>\n",
       "      <td>inspector gadget</td>\n",
       "      <td>[17337, 42379]</td>\n",
       "    </tr>\n",
       "  </tbody>\n",
       "</table>\n",
       "</div>"
      ],
      "text/plain": [
       "    id hop                                        Question  \\\n",
       "0  1-0   1            what does [Grégoire Colin] appear in   \n",
       "1  1-1   1            [Joe Thomas] appears in which movies   \n",
       "1  1-1   1            [Joe Thomas] appears in which movies   \n",
       "2  1-2   1  what films did [Michelle Trachtenberg] star in   \n",
       "2  1-2   1  what films did [Michelle Trachtenberg] star in   \n",
       "\n",
       "            topic_entity              Answer                        path  \n",
       "0         Grégoire Colin      befor the rain  [176, 173, 16, 540, 32794]  \n",
       "1             Joe Thomas     the inbetween 2              [20874, 20869]  \n",
       "1             Joe Thomas  the inbetween movi              [20874, 40449]  \n",
       "2  Michelle Trachtenberg       the scribbler              [17337, 21532]  \n",
       "2  Michelle Trachtenberg    inspector gadget              [17337, 42379]  "
      ]
     },
     "execution_count": 81,
     "metadata": {},
     "output_type": "execute_result"
    }
   ],
   "source": [
    "mqa.head()"
   ]
  },
  {
   "cell_type": "code",
   "execution_count": 83,
   "metadata": {},
   "outputs": [
    {
     "data": {
      "text/plain": [
       "302522"
      ]
     },
     "execution_count": 83,
     "metadata": {},
     "output_type": "execute_result"
    }
   ],
   "source": [
    "len(mqa)"
   ]
  },
  {
   "cell_type": "markdown",
   "metadata": {},
   "source": [
    "## Create a reproducible sample of a 1000 questions in each category"
   ]
  },
  {
   "cell_type": "code",
   "execution_count": 85,
   "metadata": {},
   "outputs": [],
   "source": [
    "hops = [1,2,3]\n",
    "for hop in hops:\n",
    "    mqa = pd.read_csv(f\"/datasets/MetaQA/{hop}hop/qa_test.txt\", sep=\"\\t\", header=None)\n",
    "    np.random.seed(42)\n",
    "    mqa = mqa.sample(n=1000)\n",
    "    mqa.to_csv(f\"/datasets/MetaQA/{hop}hop/test_1000.txt\", header=False)"
   ]
  }
 ],
 "metadata": {
  "kernelspec": {
   "display_name": "Python 3 (ipykernel)",
   "language": "python",
   "name": "python3"
  },
  "language_info": {
   "codemirror_mode": {
    "name": "ipython",
    "version": 3
   },
   "file_extension": ".py",
   "mimetype": "text/x-python",
   "name": "python",
   "nbconvert_exporter": "python",
   "pygments_lexer": "ipython3",
   "version": "3.11.10"
  }
 },
 "nbformat": 4,
 "nbformat_minor": 2
}
