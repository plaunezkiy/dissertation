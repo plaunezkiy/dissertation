{
 "cells": [
  {
   "cell_type": "code",
   "execution_count": 1,
   "metadata": {},
   "outputs": [],
   "source": [
    "%load_ext autoreload\n",
    "%autoreload 2"
   ]
  },
  {
   "cell_type": "code",
   "execution_count": 16,
   "metadata": {},
   "outputs": [],
   "source": [
    "import gc\n",
    "import re\n",
    "import csv\n",
    "import os\n",
    "import gc\n",
    "import torch\n",
    "# set to \"cuda:1\" for running in parallel on both GPUs\n",
    "device = torch.device(\"cuda:0\")\n",
    "torch.cuda.set_device(device)\n",
    "torch.set_default_device(device)\n",
    "import networkx as nx\n",
    "import Stemmer\n",
    "import pandas as pd\n",
    "from tqdm import tqdm\n",
    "from langchain_community.graphs.networkx_graph import get_entities\n",
    "from utils.preprocessing import preprocess_text\n",
    "from utils.graph import KGraphPreproc\n",
    "from utils.graph.chain import GraphChain\n",
    "from utils.llm.mistral import MistralLLM\n",
    "from utils.prompt import GRAPH_QA_PROMPT, ENTITY_PROMPT\n",
    "from utils.file import export_results_to_file"
   ]
  },
  {
   "cell_type": "markdown",
   "metadata": {},
   "source": [
    "### Load and generate a subset"
   ]
  },
  {
   "cell_type": "code",
   "execution_count": 104,
   "metadata": {},
   "outputs": [
    {
     "name": "stdout",
     "output_type": "stream",
     "text": [
      "3519\n"
     ]
    },
    {
     "data": {
      "text/html": [
       "<div>\n",
       "<style scoped>\n",
       "    .dataframe tbody tr th:only-of-type {\n",
       "        vertical-align: middle;\n",
       "    }\n",
       "\n",
       "    .dataframe tbody tr th {\n",
       "        vertical-align: top;\n",
       "    }\n",
       "\n",
       "    .dataframe thead th {\n",
       "        text-align: right;\n",
       "    }\n",
       "</style>\n",
       "<table border=\"1\" class=\"dataframe\">\n",
       "  <thead>\n",
       "    <tr style=\"text-align: right;\">\n",
       "      <th></th>\n",
       "      <th>ID</th>\n",
       "      <th>answers</th>\n",
       "      <th>composition_answer</th>\n",
       "      <th>compositionality_type</th>\n",
       "      <th>created</th>\n",
       "      <th>machine_question</th>\n",
       "      <th>question</th>\n",
       "      <th>sparql</th>\n",
       "      <th>webqsp_ID</th>\n",
       "      <th>webqsp_question</th>\n",
       "    </tr>\n",
       "  </thead>\n",
       "  <tbody>\n",
       "    <tr>\n",
       "      <th>0</th>\n",
       "      <td>WebQTrn-1430_ac053cda0a7424c48e4809c71171fbed</td>\n",
       "      <td>[{'aliases': [], 'answer': 'Muhammad Zia-ul-Ha...</td>\n",
       "      <td>pakistan</td>\n",
       "      <td>composition</td>\n",
       "      <td>2018-02-12T22:17:21</td>\n",
       "      <td>who was the president of the country that cont...</td>\n",
       "      <td>Who was the president in 1980 of the country t...</td>\n",
       "      <td>PREFIX ns: &lt;http://rdf.freebase.com/ns/&gt;\\nSELE...</td>\n",
       "      <td>WebQTrn-1430</td>\n",
       "      <td>who was the president of pakistan in 1980</td>\n",
       "    </tr>\n",
       "  </tbody>\n",
       "</table>\n",
       "</div>"
      ],
      "text/plain": [
       "                                              ID  \\\n",
       "0  WebQTrn-1430_ac053cda0a7424c48e4809c71171fbed   \n",
       "\n",
       "                                             answers composition_answer  \\\n",
       "0  [{'aliases': [], 'answer': 'Muhammad Zia-ul-Ha...           pakistan   \n",
       "\n",
       "  compositionality_type              created  \\\n",
       "0           composition  2018-02-12T22:17:21   \n",
       "\n",
       "                                    machine_question  \\\n",
       "0  who was the president of the country that cont...   \n",
       "\n",
       "                                            question  \\\n",
       "0  Who was the president in 1980 of the country t...   \n",
       "\n",
       "                                              sparql     webqsp_ID  \\\n",
       "0  PREFIX ns: <http://rdf.freebase.com/ns/>\\nSELE...  WebQTrn-1430   \n",
       "\n",
       "                             webqsp_question  \n",
       "0  who was the president of pakistan in 1980  "
      ]
     },
     "execution_count": 104,
     "metadata": {},
     "output_type": "execute_result"
    }
   ],
   "source": [
    "cwq = pd.read_json(\"/datasets/CWQ/ComplexWebQuestions_dev.json\")\n",
    "print(len(cwq))\n",
    "cwq.head(1)"
   ]
  },
  {
   "cell_type": "markdown",
   "metadata": {},
   "source": [
    "### Extract answer ids"
   ]
  },
  {
   "cell_type": "code",
   "execution_count": 38,
   "metadata": {},
   "outputs": [],
   "source": [
    "def convert_entity(entity, reverse=False):\n",
    "    \"\"\"\n",
    "    converts: m.07j6w into /m/07j6w\n",
    "    reverse does the opposite\n",
    "    \"\"\"\n",
    "    if reverse:\n",
    "        return entity[1:].replace(\"/\", \".\")\n",
    "    return \"/\" + entity.replace(\".\", \"/\")"
   ]
  },
  {
   "cell_type": "code",
   "execution_count": 39,
   "metadata": {},
   "outputs": [],
   "source": [
    "def get_answer_ids(answers):\n",
    "    return list(map(lambda x: convert_entity(x[\"answer_id\"]), answers))"
   ]
  },
  {
   "cell_type": "code",
   "execution_count": 40,
   "metadata": {},
   "outputs": [],
   "source": [
    "def ids_in_graph(id_list):\n",
    "    return any([id_ in fbkb_graph._graph for id_ in id_list])"
   ]
  },
  {
   "cell_type": "markdown",
   "metadata": {},
   "source": [
    "### Counts of questions with at least one answer ids in graph"
   ]
  },
  {
   "cell_type": "code",
   "execution_count": 106,
   "metadata": {},
   "outputs": [],
   "source": [
    "cwq[\"answer_ids\"] = cwq[\"answers\"].apply(lambda x: get_answer_ids(x))"
   ]
  },
  {
   "cell_type": "code",
   "execution_count": 107,
   "metadata": {},
   "outputs": [
    {
     "name": "stdout",
     "output_type": "stream",
     "text": [
      "2227\n"
     ]
    },
    {
     "data": {
      "text/html": [
       "<div>\n",
       "<style scoped>\n",
       "    .dataframe tbody tr th:only-of-type {\n",
       "        vertical-align: middle;\n",
       "    }\n",
       "\n",
       "    .dataframe tbody tr th {\n",
       "        vertical-align: top;\n",
       "    }\n",
       "\n",
       "    .dataframe thead th {\n",
       "        text-align: right;\n",
       "    }\n",
       "</style>\n",
       "<table border=\"1\" class=\"dataframe\">\n",
       "  <thead>\n",
       "    <tr style=\"text-align: right;\">\n",
       "      <th></th>\n",
       "      <th>ID</th>\n",
       "      <th>answers</th>\n",
       "      <th>composition_answer</th>\n",
       "      <th>created</th>\n",
       "      <th>machine_question</th>\n",
       "      <th>question</th>\n",
       "      <th>sparql</th>\n",
       "      <th>webqsp_ID</th>\n",
       "      <th>webqsp_question</th>\n",
       "      <th>answer_ids</th>\n",
       "    </tr>\n",
       "    <tr>\n",
       "      <th>compositionality_type</th>\n",
       "      <th></th>\n",
       "      <th></th>\n",
       "      <th></th>\n",
       "      <th></th>\n",
       "      <th></th>\n",
       "      <th></th>\n",
       "      <th></th>\n",
       "      <th></th>\n",
       "      <th></th>\n",
       "      <th></th>\n",
       "    </tr>\n",
       "  </thead>\n",
       "  <tbody>\n",
       "    <tr>\n",
       "      <th>comparative</th>\n",
       "      <td>124</td>\n",
       "      <td>124</td>\n",
       "      <td>124</td>\n",
       "      <td>124</td>\n",
       "      <td>124</td>\n",
       "      <td>124</td>\n",
       "      <td>124</td>\n",
       "      <td>124</td>\n",
       "      <td>124</td>\n",
       "      <td>124</td>\n",
       "    </tr>\n",
       "    <tr>\n",
       "      <th>composition</th>\n",
       "      <td>926</td>\n",
       "      <td>926</td>\n",
       "      <td>926</td>\n",
       "      <td>926</td>\n",
       "      <td>926</td>\n",
       "      <td>926</td>\n",
       "      <td>926</td>\n",
       "      <td>926</td>\n",
       "      <td>926</td>\n",
       "      <td>926</td>\n",
       "    </tr>\n",
       "    <tr>\n",
       "      <th>conjunction</th>\n",
       "      <td>1070</td>\n",
       "      <td>1070</td>\n",
       "      <td>1070</td>\n",
       "      <td>1070</td>\n",
       "      <td>1070</td>\n",
       "      <td>1070</td>\n",
       "      <td>1070</td>\n",
       "      <td>1070</td>\n",
       "      <td>1070</td>\n",
       "      <td>1070</td>\n",
       "    </tr>\n",
       "    <tr>\n",
       "      <th>superlative</th>\n",
       "      <td>107</td>\n",
       "      <td>107</td>\n",
       "      <td>107</td>\n",
       "      <td>107</td>\n",
       "      <td>107</td>\n",
       "      <td>107</td>\n",
       "      <td>107</td>\n",
       "      <td>107</td>\n",
       "      <td>107</td>\n",
       "      <td>107</td>\n",
       "    </tr>\n",
       "  </tbody>\n",
       "</table>\n",
       "</div>"
      ],
      "text/plain": [
       "                         ID  answers  composition_answer  created  \\\n",
       "compositionality_type                                               \n",
       "comparative             124      124                 124      124   \n",
       "composition             926      926                 926      926   \n",
       "conjunction            1070     1070                1070     1070   \n",
       "superlative             107      107                 107      107   \n",
       "\n",
       "                       machine_question  question  sparql  webqsp_ID  \\\n",
       "compositionality_type                                                  \n",
       "comparative                         124       124     124        124   \n",
       "composition                         926       926     926        926   \n",
       "conjunction                        1070      1070    1070       1070   \n",
       "superlative                         107       107     107        107   \n",
       "\n",
       "                       webqsp_question  answer_ids  \n",
       "compositionality_type                               \n",
       "comparative                        124         124  \n",
       "composition                        926         926  \n",
       "conjunction                       1070        1070  \n",
       "superlative                        107         107  "
      ]
     },
     "execution_count": 107,
     "metadata": {},
     "output_type": "execute_result"
    }
   ],
   "source": [
    "cwq_answer_present = cwq[cwq[\"answer_ids\"].apply(ids_in_graph)]\n",
    "print(len(cwq_answer_present))\n",
    "cwq_answer_present.groupby(\"compositionality_type\").count()"
   ]
  },
  {
   "cell_type": "markdown",
   "metadata": {},
   "source": [
    "### Load the graph and entity extraction chain"
   ]
  },
  {
   "cell_type": "code",
   "execution_count": 87,
   "metadata": {},
   "outputs": [],
   "source": [
    "####### load the graph\n",
    "fbkb_graph = KGraphPreproc.get_fbkb_graph()"
   ]
  },
  {
   "cell_type": "code",
   "execution_count": null,
   "metadata": {},
   "outputs": [],
   "source": [
    "mistral = MistralLLM()"
   ]
  },
  {
   "cell_type": "code",
   "execution_count": null,
   "metadata": {},
   "outputs": [],
   "source": [
    "chain = GraphChain.from_llm(\n",
    "    llm=mistral,\n",
    "    graph=fbkb_graph,\n",
    "    qa_prompt=GRAPH_QA_PROMPT,\n",
    "    entity_prompt=ENTITY_PROMPT,\n",
    "    verbose=False,\n",
    ")"
   ]
  },
  {
   "cell_type": "markdown",
   "metadata": {},
   "source": [
    "### Infer topic entities from the questions"
   ]
  },
  {
   "cell_type": "code",
   "execution_count": 11,
   "metadata": {},
   "outputs": [],
   "source": [
    "def extract_entity(row):\n",
    "    entity_string = chain.entity_extraction_chain.run(row.question)\n",
    "    entities = get_entities(entity_string)\n",
    "    pbar.update(1)\n",
    "    return entities"
   ]
  },
  {
   "cell_type": "code",
   "execution_count": null,
   "metadata": {},
   "outputs": [
    {
     "name": "stderr",
     "output_type": "stream",
     "text": [
      "  2%|▏         | 54/2227 [00:31<21:01,  1.72it/s]\n",
      "100%|██████████| 2227/2227 [22:37<00:00,  1.87it/s] /tmp/ipykernel_23916/692259211.py:2: SettingWithCopyWarning: \n",
      "A value is trying to be set on a copy of a slice from a DataFrame.\n",
      "Try using .loc[row_indexer,col_indexer] = value instead\n",
      "\n",
      "See the caveats in the documentation: https://pandas.pydata.org/pandas-docs/stable/user_guide/indexing.html#returning-a-view-versus-a-copy\n",
      "  cwq_answer_present[\"topic_entities\"] = cwq_answer_present.apply(extract_entity, axis=1)\n"
     ]
    }
   ],
   "source": [
    "pbar = tqdm(total=len(cwq_answer_present))\n",
    "cwq_answer_present[\"topic_entities\"] = cwq_answer_present.apply(extract_entity, axis=1)"
   ]
  },
  {
   "cell_type": "markdown",
   "metadata": {},
   "source": [
    "### Save entities"
   ]
  },
  {
   "cell_type": "code",
   "execution_count": 102,
   "metadata": {},
   "outputs": [],
   "source": [
    "cwq_answer_present[[\"ID\", \"topic_entities\"]].to_csv(\"/datasets/CWQ/topic_entities.csv\")"
   ]
  },
  {
   "cell_type": "markdown",
   "metadata": {},
   "source": [
    "### Load entities"
   ]
  },
  {
   "cell_type": "code",
   "execution_count": 147,
   "metadata": {},
   "outputs": [],
   "source": [
    "topic_ents = pd.read_csv(\"/datasets/CWQ/topic_entities.csv\")\n",
    "# [\"topic_entities\"].values\n",
    "# add \"topic_entities\" fields based on matching ID\n",
    "# into a single column topic_entities\n",
    "cwq_answer_present = cwq_answer_present.merge(topic_ents, on=\"ID\")\n",
    "# topic_ents"
   ]
  },
  {
   "cell_type": "code",
   "execution_count": 72,
   "metadata": {},
   "outputs": [],
   "source": [
    "def entities_to_ids(entities):\n",
    "    mid_list = []\n",
    "    for entity in entities:\n",
    "        proc_entity = preprocess_text(entity)\n",
    "        mid = fbkb_graph.preprocessed_nodes.get(proc_entity, None)\n",
    "        if mid:\n",
    "            mid_list.append(mid)\n",
    "    return mid_list"
   ]
  },
  {
   "cell_type": "code",
   "execution_count": 149,
   "metadata": {},
   "outputs": [],
   "source": [
    "cwq_answer_present[\"topic_ids\"] = cwq_answer_present[\"topic_entities\"].apply(entities_to_ids)"
   ]
  },
  {
   "cell_type": "code",
   "execution_count": 150,
   "metadata": {},
   "outputs": [],
   "source": [
    "cwq_both_present = cwq_answer_present[cwq_answer_present[\"topic_ids\"].apply(lambda x: len(x) > 0)]"
   ]
  },
  {
   "cell_type": "markdown",
   "metadata": {},
   "source": [
    "### Check path present"
   ]
  },
  {
   "cell_type": "code",
   "execution_count": 75,
   "metadata": {},
   "outputs": [],
   "source": [
    "def has_graph_path(row):\n",
    "    for start in row.topic_ids:\n",
    "        for target in row.answer_ids:\n",
    "            try:\n",
    "                if nx.has_path(fbkb_graph._graph, start, target):\n",
    "                    return True\n",
    "            except nx.NodeNotFound:\n",
    "                continue\n",
    "    return False"
   ]
  },
  {
   "cell_type": "code",
   "execution_count": 151,
   "metadata": {},
   "outputs": [
    {
     "name": "stdout",
     "output_type": "stream",
     "text": [
      "2215\n"
     ]
    }
   ],
   "source": [
    "cwq_paths = cwq_both_present[cwq_both_present.apply(has_graph_path, axis=1)]\n",
    "print(len(cwq_paths))"
   ]
  },
  {
   "cell_type": "markdown",
   "metadata": {},
   "source": [
    "## count unique entities"
   ]
  },
  {
   "cell_type": "code",
   "execution_count": 154,
   "metadata": {},
   "outputs": [
    {
     "data": {
      "text/html": [
       "<div>\n",
       "<style scoped>\n",
       "    .dataframe tbody tr th:only-of-type {\n",
       "        vertical-align: middle;\n",
       "    }\n",
       "\n",
       "    .dataframe tbody tr th {\n",
       "        vertical-align: top;\n",
       "    }\n",
       "\n",
       "    .dataframe thead th {\n",
       "        text-align: right;\n",
       "    }\n",
       "</style>\n",
       "<table border=\"1\" class=\"dataframe\">\n",
       "  <thead>\n",
       "    <tr style=\"text-align: right;\">\n",
       "      <th></th>\n",
       "      <th>ID</th>\n",
       "      <th>answers</th>\n",
       "      <th>composition_answer</th>\n",
       "      <th>compositionality_type</th>\n",
       "      <th>created</th>\n",
       "      <th>machine_question</th>\n",
       "      <th>question</th>\n",
       "      <th>sparql</th>\n",
       "      <th>webqsp_ID</th>\n",
       "      <th>webqsp_question</th>\n",
       "      <th>answer_ids</th>\n",
       "      <th>Unnamed: 0_x</th>\n",
       "      <th>topic_entities_x</th>\n",
       "      <th>topic_ids</th>\n",
       "      <th>Unnamed: 0_y</th>\n",
       "      <th>topic_entities_y</th>\n",
       "      <th>Unnamed: 0</th>\n",
       "      <th>topic_entities</th>\n",
       "    </tr>\n",
       "  </thead>\n",
       "  <tbody>\n",
       "    <tr>\n",
       "      <th>0</th>\n",
       "      <td>WebQTest-823_ed31f9dd431831dbd32a06b958c7c97c</td>\n",
       "      <td>[{'aliases': ['Brazilian ', 'República Federat...</td>\n",
       "      <td></td>\n",
       "      <td>conjunction</td>\n",
       "      <td>2018-02-13T04:12:26</td>\n",
       "      <td>what does bolivia border and is the country th...</td>\n",
       "      <td>What country borders Bolivia and contains GoiÃ¡s?</td>\n",
       "      <td>PREFIX ns: &lt;http://rdf.freebase.com/ns/&gt;\\nSELE...</td>\n",
       "      <td>WebQTest-823</td>\n",
       "      <td>what does bolivia border</td>\n",
       "      <td>[/m/015fr]</td>\n",
       "      <td>2</td>\n",
       "      <td>['Brazil']</td>\n",
       "      <td>[/m/0g84t93, /m/0g84t93, /m/0k20s, /m/0g84t93,...</td>\n",
       "      <td>2</td>\n",
       "      <td>['Brazil']</td>\n",
       "      <td>2</td>\n",
       "      <td>['Brazil']</td>\n",
       "    </tr>\n",
       "  </tbody>\n",
       "</table>\n",
       "</div>"
      ],
      "text/plain": [
       "                                              ID  \\\n",
       "0  WebQTest-823_ed31f9dd431831dbd32a06b958c7c97c   \n",
       "\n",
       "                                             answers composition_answer  \\\n",
       "0  [{'aliases': ['Brazilian ', 'República Federat...                      \n",
       "\n",
       "  compositionality_type              created  \\\n",
       "0           conjunction  2018-02-13T04:12:26   \n",
       "\n",
       "                                    machine_question  \\\n",
       "0  what does bolivia border and is the country th...   \n",
       "\n",
       "                                            question  \\\n",
       "0  What country borders Bolivia and contains GoiÃ¡s?   \n",
       "\n",
       "                                              sparql     webqsp_ID  \\\n",
       "0  PREFIX ns: <http://rdf.freebase.com/ns/>\\nSELE...  WebQTest-823   \n",
       "\n",
       "            webqsp_question  answer_ids  Unnamed: 0_x topic_entities_x  \\\n",
       "0  what does bolivia border  [/m/015fr]             2       ['Brazil']   \n",
       "\n",
       "                                           topic_ids  Unnamed: 0_y  \\\n",
       "0  [/m/0g84t93, /m/0g84t93, /m/0k20s, /m/0g84t93,...             2   \n",
       "\n",
       "  topic_entities_y  Unnamed: 0 topic_entities  \n",
       "0       ['Brazil']           2     ['Brazil']  "
      ]
     },
     "execution_count": 154,
     "metadata": {},
     "output_type": "execute_result"
    }
   ],
   "source": [
    "cwq_paths.head(1)"
   ]
  },
  {
   "cell_type": "code",
   "execution_count": 159,
   "metadata": {},
   "outputs": [
    {
     "data": {
      "text/plain": [
       "0                   [/m/015fr]\n",
       "1        [/m/01xssh, /m/03v6t]\n",
       "2                   [/m/0cc56]\n",
       "3                   [/m/0pspl]\n",
       "4                   [/m/06yxd]\n",
       "                 ...          \n",
       "2222               [/m/02rqxc]\n",
       "2223                [/m/0flbm]\n",
       "2224                [/m/0345_]\n",
       "2225    [/m/02hwl5z, /m/0swlx]\n",
       "2226                [/m/03j6c]\n",
       "Name: answer_ids, Length: 2215, dtype: object"
      ]
     },
     "execution_count": 159,
     "metadata": {},
     "output_type": "execute_result"
    }
   ],
   "source": [
    "cwq_paths.answer_ids"
   ]
  },
  {
   "cell_type": "code",
   "execution_count": 160,
   "metadata": {},
   "outputs": [
    {
     "data": {
      "text/plain": [
       "0                                [Brazil]\n",
       "1           [None, Iowa_State_University]\n",
       "2                             [Manhattan]\n",
       "3                 [Georgetown_University]\n",
       "4                        [South_Carolina]\n",
       "                      ...                \n",
       "2222    [Portugal_national_football_team]\n",
       "2223                     [Douglas_County]\n",
       "2224                          [Guatemala]\n",
       "2225              [None, Pashto_language]\n",
       "2226                           [Hinduism]\n",
       "Name: answer_ids, Length: 2215, dtype: object"
      ]
     },
     "execution_count": 160,
     "metadata": {},
     "output_type": "execute_result"
    }
   ],
   "source": [
    "cwq_paths.answer_ids.apply(\n",
    "    lambda a: [fbkb_graph.mid2name.get(x, None) for x in a]\n",
    ")"
   ]
  },
  {
   "cell_type": "code",
   "execution_count": 161,
   "metadata": {},
   "outputs": [
    {
     "name": "stdout",
     "output_type": "stream",
     "text": [
      "3353\n"
     ]
    }
   ],
   "source": [
    "# merge sublists into a single set\n",
    "total_unique_entities = set()\n",
    "cwq_paths.topic_entities.apply(ast.literal_eval).apply(lambda x: total_unique_entities.update(x))\n",
    "cwq_paths.answer_ids.apply(\n",
    "    lambda a: [fbkb_graph.mid2name.get(x, None) for x in a]\n",
    ").apply(lambda x: total_unique_entities.update(x))\n",
    "print(len(total_unique_entities))\n",
    "# = cwq_paths[\"topic_ids\"].apply(lambda x: [item for sublist in x for item in sublist])"
   ]
  },
  {
   "cell_type": "code",
   "execution_count": 136,
   "metadata": {},
   "outputs": [],
   "source": [
    "present_unique_entities = set()"
   ]
  },
  {
   "cell_type": "code",
   "execution_count": 139,
   "metadata": {},
   "outputs": [
    {
     "data": {
      "text/html": [
       "<div>\n",
       "<style scoped>\n",
       "    .dataframe tbody tr th:only-of-type {\n",
       "        vertical-align: middle;\n",
       "    }\n",
       "\n",
       "    .dataframe tbody tr th {\n",
       "        vertical-align: top;\n",
       "    }\n",
       "\n",
       "    .dataframe thead th {\n",
       "        text-align: right;\n",
       "    }\n",
       "</style>\n",
       "<table border=\"1\" class=\"dataframe\">\n",
       "  <thead>\n",
       "    <tr style=\"text-align: right;\">\n",
       "      <th></th>\n",
       "      <th>ID</th>\n",
       "      <th>answers</th>\n",
       "      <th>composition_answer</th>\n",
       "      <th>compositionality_type</th>\n",
       "      <th>created</th>\n",
       "      <th>machine_question</th>\n",
       "      <th>question</th>\n",
       "      <th>sparql</th>\n",
       "      <th>webqsp_ID</th>\n",
       "      <th>webqsp_question</th>\n",
       "      <th>answer_ids</th>\n",
       "      <th>Unnamed: 0</th>\n",
       "      <th>topic_entities</th>\n",
       "      <th>topic_ids</th>\n",
       "    </tr>\n",
       "  </thead>\n",
       "  <tbody>\n",
       "    <tr>\n",
       "      <th>0</th>\n",
       "      <td>WebQTest-823_ed31f9dd431831dbd32a06b958c7c97c</td>\n",
       "      <td>[{'aliases': ['Brazilian ', 'República Federat...</td>\n",
       "      <td></td>\n",
       "      <td>conjunction</td>\n",
       "      <td>2018-02-13T04:12:26</td>\n",
       "      <td>what does bolivia border and is the country th...</td>\n",
       "      <td>What country borders Bolivia and contains GoiÃ¡s?</td>\n",
       "      <td>PREFIX ns: &lt;http://rdf.freebase.com/ns/&gt;\\nSELE...</td>\n",
       "      <td>WebQTest-823</td>\n",
       "      <td>what does bolivia border</td>\n",
       "      <td>[/m/015fr]</td>\n",
       "      <td>2</td>\n",
       "      <td>['Brazil']</td>\n",
       "      <td>[/m/0g84t93, /m/0g84t93, /m/0k20s, /m/0g84t93,...</td>\n",
       "    </tr>\n",
       "  </tbody>\n",
       "</table>\n",
       "</div>"
      ],
      "text/plain": [
       "                                              ID  \\\n",
       "0  WebQTest-823_ed31f9dd431831dbd32a06b958c7c97c   \n",
       "\n",
       "                                             answers composition_answer  \\\n",
       "0  [{'aliases': ['Brazilian ', 'República Federat...                      \n",
       "\n",
       "  compositionality_type              created  \\\n",
       "0           conjunction  2018-02-13T04:12:26   \n",
       "\n",
       "                                    machine_question  \\\n",
       "0  what does bolivia border and is the country th...   \n",
       "\n",
       "                                            question  \\\n",
       "0  What country borders Bolivia and contains GoiÃ¡s?   \n",
       "\n",
       "                                              sparql     webqsp_ID  \\\n",
       "0  PREFIX ns: <http://rdf.freebase.com/ns/>\\nSELE...  WebQTest-823   \n",
       "\n",
       "            webqsp_question  answer_ids  Unnamed: 0 topic_entities  \\\n",
       "0  what does bolivia border  [/m/015fr]           2     ['Brazil']   \n",
       "\n",
       "                                           topic_ids  \n",
       "0  [/m/0g84t93, /m/0g84t93, /m/0k20s, /m/0g84t93,...  "
      ]
     },
     "execution_count": 139,
     "metadata": {},
     "output_type": "execute_result"
    }
   ],
   "source": [
    "cwq_paths.head(1)"
   ]
  },
  {
   "cell_type": "code",
   "execution_count": 141,
   "metadata": {},
   "outputs": [],
   "source": [
    "import ast"
   ]
  },
  {
   "cell_type": "code",
   "execution_count": 146,
   "metadata": {},
   "outputs": [
    {
     "ename": "ValueError",
     "evalue": "malformed node or string: ['Brazil']",
     "output_type": "error",
     "traceback": [
      "\u001b[0;31m---------------------------------------------------------------------------\u001b[0m",
      "\u001b[0;31mValueError\u001b[0m                                Traceback (most recent call last)",
      "Cell \u001b[0;32mIn[146], line 1\u001b[0m\n\u001b[0;32m----> 1\u001b[0m cwq_paths[\u001b[38;5;124m\"\u001b[39m\u001b[38;5;124mtopic_entities\u001b[39m\u001b[38;5;124m\"\u001b[39m] \u001b[38;5;241m=\u001b[39m \u001b[43mcwq_paths\u001b[49m\u001b[43m[\u001b[49m\u001b[38;5;124;43m\"\u001b[39;49m\u001b[38;5;124;43mtopic_entities\u001b[39;49m\u001b[38;5;124;43m\"\u001b[39;49m\u001b[43m]\u001b[49m\u001b[38;5;241;43m.\u001b[39;49m\u001b[43mapply\u001b[49m\u001b[43m(\u001b[49m\u001b[43mast\u001b[49m\u001b[38;5;241;43m.\u001b[39;49m\u001b[43mliteral_eval\u001b[49m\u001b[43m)\u001b[49m\n",
      "File \u001b[0;32m/opt/conda/lib/python3.11/site-packages/pandas/core/series.py:4924\u001b[0m, in \u001b[0;36mSeries.apply\u001b[0;34m(self, func, convert_dtype, args, by_row, **kwargs)\u001b[0m\n\u001b[1;32m   4789\u001b[0m \u001b[38;5;28;01mdef\u001b[39;00m \u001b[38;5;21mapply\u001b[39m(\n\u001b[1;32m   4790\u001b[0m     \u001b[38;5;28mself\u001b[39m,\n\u001b[1;32m   4791\u001b[0m     func: AggFuncType,\n\u001b[0;32m   (...)\u001b[0m\n\u001b[1;32m   4796\u001b[0m     \u001b[38;5;241m*\u001b[39m\u001b[38;5;241m*\u001b[39mkwargs,\n\u001b[1;32m   4797\u001b[0m ) \u001b[38;5;241m-\u001b[39m\u001b[38;5;241m>\u001b[39m DataFrame \u001b[38;5;241m|\u001b[39m Series:\n\u001b[1;32m   4798\u001b[0m \u001b[38;5;250m    \u001b[39m\u001b[38;5;124;03m\"\"\"\u001b[39;00m\n\u001b[1;32m   4799\u001b[0m \u001b[38;5;124;03m    Invoke function on values of Series.\u001b[39;00m\n\u001b[1;32m   4800\u001b[0m \n\u001b[0;32m   (...)\u001b[0m\n\u001b[1;32m   4915\u001b[0m \u001b[38;5;124;03m    dtype: float64\u001b[39;00m\n\u001b[1;32m   4916\u001b[0m \u001b[38;5;124;03m    \"\"\"\u001b[39;00m\n\u001b[1;32m   4917\u001b[0m     \u001b[38;5;28;01mreturn\u001b[39;00m \u001b[43mSeriesApply\u001b[49m\u001b[43m(\u001b[49m\n\u001b[1;32m   4918\u001b[0m \u001b[43m        \u001b[49m\u001b[38;5;28;43mself\u001b[39;49m\u001b[43m,\u001b[49m\n\u001b[1;32m   4919\u001b[0m \u001b[43m        \u001b[49m\u001b[43mfunc\u001b[49m\u001b[43m,\u001b[49m\n\u001b[1;32m   4920\u001b[0m \u001b[43m        \u001b[49m\u001b[43mconvert_dtype\u001b[49m\u001b[38;5;241;43m=\u001b[39;49m\u001b[43mconvert_dtype\u001b[49m\u001b[43m,\u001b[49m\n\u001b[1;32m   4921\u001b[0m \u001b[43m        \u001b[49m\u001b[43mby_row\u001b[49m\u001b[38;5;241;43m=\u001b[39;49m\u001b[43mby_row\u001b[49m\u001b[43m,\u001b[49m\n\u001b[1;32m   4922\u001b[0m \u001b[43m        \u001b[49m\u001b[43margs\u001b[49m\u001b[38;5;241;43m=\u001b[39;49m\u001b[43margs\u001b[49m\u001b[43m,\u001b[49m\n\u001b[1;32m   4923\u001b[0m \u001b[43m        \u001b[49m\u001b[43mkwargs\u001b[49m\u001b[38;5;241;43m=\u001b[39;49m\u001b[43mkwargs\u001b[49m\u001b[43m,\u001b[49m\n\u001b[0;32m-> 4924\u001b[0m \u001b[43m    \u001b[49m\u001b[43m)\u001b[49m\u001b[38;5;241;43m.\u001b[39;49m\u001b[43mapply\u001b[49m\u001b[43m(\u001b[49m\u001b[43m)\u001b[49m\n",
      "File \u001b[0;32m/opt/conda/lib/python3.11/site-packages/pandas/core/apply.py:1427\u001b[0m, in \u001b[0;36mSeriesApply.apply\u001b[0;34m(self)\u001b[0m\n\u001b[1;32m   1424\u001b[0m     \u001b[38;5;28;01mreturn\u001b[39;00m \u001b[38;5;28mself\u001b[39m\u001b[38;5;241m.\u001b[39mapply_compat()\n\u001b[1;32m   1426\u001b[0m \u001b[38;5;66;03m# self.func is Callable\u001b[39;00m\n\u001b[0;32m-> 1427\u001b[0m \u001b[38;5;28;01mreturn\u001b[39;00m \u001b[38;5;28;43mself\u001b[39;49m\u001b[38;5;241;43m.\u001b[39;49m\u001b[43mapply_standard\u001b[49m\u001b[43m(\u001b[49m\u001b[43m)\u001b[49m\n",
      "File \u001b[0;32m/opt/conda/lib/python3.11/site-packages/pandas/core/apply.py:1507\u001b[0m, in \u001b[0;36mSeriesApply.apply_standard\u001b[0;34m(self)\u001b[0m\n\u001b[1;32m   1501\u001b[0m \u001b[38;5;66;03m# row-wise access\u001b[39;00m\n\u001b[1;32m   1502\u001b[0m \u001b[38;5;66;03m# apply doesn't have a `na_action` keyword and for backward compat reasons\u001b[39;00m\n\u001b[1;32m   1503\u001b[0m \u001b[38;5;66;03m# we need to give `na_action=\"ignore\"` for categorical data.\u001b[39;00m\n\u001b[1;32m   1504\u001b[0m \u001b[38;5;66;03m# TODO: remove the `na_action=\"ignore\"` when that default has been changed in\u001b[39;00m\n\u001b[1;32m   1505\u001b[0m \u001b[38;5;66;03m#  Categorical (GH51645).\u001b[39;00m\n\u001b[1;32m   1506\u001b[0m action \u001b[38;5;241m=\u001b[39m \u001b[38;5;124m\"\u001b[39m\u001b[38;5;124mignore\u001b[39m\u001b[38;5;124m\"\u001b[39m \u001b[38;5;28;01mif\u001b[39;00m \u001b[38;5;28misinstance\u001b[39m(obj\u001b[38;5;241m.\u001b[39mdtype, CategoricalDtype) \u001b[38;5;28;01melse\u001b[39;00m \u001b[38;5;28;01mNone\u001b[39;00m\n\u001b[0;32m-> 1507\u001b[0m mapped \u001b[38;5;241m=\u001b[39m \u001b[43mobj\u001b[49m\u001b[38;5;241;43m.\u001b[39;49m\u001b[43m_map_values\u001b[49m\u001b[43m(\u001b[49m\n\u001b[1;32m   1508\u001b[0m \u001b[43m    \u001b[49m\u001b[43mmapper\u001b[49m\u001b[38;5;241;43m=\u001b[39;49m\u001b[43mcurried\u001b[49m\u001b[43m,\u001b[49m\u001b[43m \u001b[49m\u001b[43mna_action\u001b[49m\u001b[38;5;241;43m=\u001b[39;49m\u001b[43maction\u001b[49m\u001b[43m,\u001b[49m\u001b[43m \u001b[49m\u001b[43mconvert\u001b[49m\u001b[38;5;241;43m=\u001b[39;49m\u001b[38;5;28;43mself\u001b[39;49m\u001b[38;5;241;43m.\u001b[39;49m\u001b[43mconvert_dtype\u001b[49m\n\u001b[1;32m   1509\u001b[0m \u001b[43m\u001b[49m\u001b[43m)\u001b[49m\n\u001b[1;32m   1511\u001b[0m \u001b[38;5;28;01mif\u001b[39;00m \u001b[38;5;28mlen\u001b[39m(mapped) \u001b[38;5;129;01mand\u001b[39;00m \u001b[38;5;28misinstance\u001b[39m(mapped[\u001b[38;5;241m0\u001b[39m], ABCSeries):\n\u001b[1;32m   1512\u001b[0m     \u001b[38;5;66;03m# GH#43986 Need to do list(mapped) in order to get treated as nested\u001b[39;00m\n\u001b[1;32m   1513\u001b[0m     \u001b[38;5;66;03m#  See also GH#25959 regarding EA support\u001b[39;00m\n\u001b[1;32m   1514\u001b[0m     \u001b[38;5;28;01mreturn\u001b[39;00m obj\u001b[38;5;241m.\u001b[39m_constructor_expanddim(\u001b[38;5;28mlist\u001b[39m(mapped), index\u001b[38;5;241m=\u001b[39mobj\u001b[38;5;241m.\u001b[39mindex)\n",
      "File \u001b[0;32m/opt/conda/lib/python3.11/site-packages/pandas/core/base.py:921\u001b[0m, in \u001b[0;36mIndexOpsMixin._map_values\u001b[0;34m(self, mapper, na_action, convert)\u001b[0m\n\u001b[1;32m    918\u001b[0m \u001b[38;5;28;01mif\u001b[39;00m \u001b[38;5;28misinstance\u001b[39m(arr, ExtensionArray):\n\u001b[1;32m    919\u001b[0m     \u001b[38;5;28;01mreturn\u001b[39;00m arr\u001b[38;5;241m.\u001b[39mmap(mapper, na_action\u001b[38;5;241m=\u001b[39mna_action)\n\u001b[0;32m--> 921\u001b[0m \u001b[38;5;28;01mreturn\u001b[39;00m \u001b[43malgorithms\u001b[49m\u001b[38;5;241;43m.\u001b[39;49m\u001b[43mmap_array\u001b[49m\u001b[43m(\u001b[49m\u001b[43marr\u001b[49m\u001b[43m,\u001b[49m\u001b[43m \u001b[49m\u001b[43mmapper\u001b[49m\u001b[43m,\u001b[49m\u001b[43m \u001b[49m\u001b[43mna_action\u001b[49m\u001b[38;5;241;43m=\u001b[39;49m\u001b[43mna_action\u001b[49m\u001b[43m,\u001b[49m\u001b[43m \u001b[49m\u001b[43mconvert\u001b[49m\u001b[38;5;241;43m=\u001b[39;49m\u001b[43mconvert\u001b[49m\u001b[43m)\u001b[49m\n",
      "File \u001b[0;32m/opt/conda/lib/python3.11/site-packages/pandas/core/algorithms.py:1743\u001b[0m, in \u001b[0;36mmap_array\u001b[0;34m(arr, mapper, na_action, convert)\u001b[0m\n\u001b[1;32m   1741\u001b[0m values \u001b[38;5;241m=\u001b[39m arr\u001b[38;5;241m.\u001b[39mastype(\u001b[38;5;28mobject\u001b[39m, copy\u001b[38;5;241m=\u001b[39m\u001b[38;5;28;01mFalse\u001b[39;00m)\n\u001b[1;32m   1742\u001b[0m \u001b[38;5;28;01mif\u001b[39;00m na_action \u001b[38;5;129;01mis\u001b[39;00m \u001b[38;5;28;01mNone\u001b[39;00m:\n\u001b[0;32m-> 1743\u001b[0m     \u001b[38;5;28;01mreturn\u001b[39;00m \u001b[43mlib\u001b[49m\u001b[38;5;241;43m.\u001b[39;49m\u001b[43mmap_infer\u001b[49m\u001b[43m(\u001b[49m\u001b[43mvalues\u001b[49m\u001b[43m,\u001b[49m\u001b[43m \u001b[49m\u001b[43mmapper\u001b[49m\u001b[43m,\u001b[49m\u001b[43m \u001b[49m\u001b[43mconvert\u001b[49m\u001b[38;5;241;43m=\u001b[39;49m\u001b[43mconvert\u001b[49m\u001b[43m)\u001b[49m\n\u001b[1;32m   1744\u001b[0m \u001b[38;5;28;01melse\u001b[39;00m:\n\u001b[1;32m   1745\u001b[0m     \u001b[38;5;28;01mreturn\u001b[39;00m lib\u001b[38;5;241m.\u001b[39mmap_infer_mask(\n\u001b[1;32m   1746\u001b[0m         values, mapper, mask\u001b[38;5;241m=\u001b[39misna(values)\u001b[38;5;241m.\u001b[39mview(np\u001b[38;5;241m.\u001b[39muint8), convert\u001b[38;5;241m=\u001b[39mconvert\n\u001b[1;32m   1747\u001b[0m     )\n",
      "File \u001b[0;32mlib.pyx:2972\u001b[0m, in \u001b[0;36mpandas._libs.lib.map_infer\u001b[0;34m()\u001b[0m\n",
      "File \u001b[0;32m/opt/conda/lib/python3.11/ast.py:110\u001b[0m, in \u001b[0;36mliteral_eval\u001b[0;34m(node_or_string)\u001b[0m\n\u001b[1;32m    108\u001b[0m                 \u001b[38;5;28;01mreturn\u001b[39;00m left \u001b[38;5;241m-\u001b[39m right\n\u001b[1;32m    109\u001b[0m     \u001b[38;5;28;01mreturn\u001b[39;00m _convert_signed_num(node)\n\u001b[0;32m--> 110\u001b[0m \u001b[38;5;28;01mreturn\u001b[39;00m \u001b[43m_convert\u001b[49m\u001b[43m(\u001b[49m\u001b[43mnode_or_string\u001b[49m\u001b[43m)\u001b[49m\n",
      "File \u001b[0;32m/opt/conda/lib/python3.11/ast.py:109\u001b[0m, in \u001b[0;36mliteral_eval.<locals>._convert\u001b[0;34m(node)\u001b[0m\n\u001b[1;32m    107\u001b[0m         \u001b[38;5;28;01melse\u001b[39;00m:\n\u001b[1;32m    108\u001b[0m             \u001b[38;5;28;01mreturn\u001b[39;00m left \u001b[38;5;241m-\u001b[39m right\n\u001b[0;32m--> 109\u001b[0m \u001b[38;5;28;01mreturn\u001b[39;00m \u001b[43m_convert_signed_num\u001b[49m\u001b[43m(\u001b[49m\u001b[43mnode\u001b[49m\u001b[43m)\u001b[49m\n",
      "File \u001b[0;32m/opt/conda/lib/python3.11/ast.py:83\u001b[0m, in \u001b[0;36mliteral_eval.<locals>._convert_signed_num\u001b[0;34m(node)\u001b[0m\n\u001b[1;32m     81\u001b[0m     \u001b[38;5;28;01melse\u001b[39;00m:\n\u001b[1;32m     82\u001b[0m         \u001b[38;5;28;01mreturn\u001b[39;00m \u001b[38;5;241m-\u001b[39m operand\n\u001b[0;32m---> 83\u001b[0m \u001b[38;5;28;01mreturn\u001b[39;00m \u001b[43m_convert_num\u001b[49m\u001b[43m(\u001b[49m\u001b[43mnode\u001b[49m\u001b[43m)\u001b[49m\n",
      "File \u001b[0;32m/opt/conda/lib/python3.11/ast.py:74\u001b[0m, in \u001b[0;36mliteral_eval.<locals>._convert_num\u001b[0;34m(node)\u001b[0m\n\u001b[1;32m     72\u001b[0m \u001b[38;5;28;01mdef\u001b[39;00m \u001b[38;5;21m_convert_num\u001b[39m(node):\n\u001b[1;32m     73\u001b[0m     \u001b[38;5;28;01mif\u001b[39;00m \u001b[38;5;129;01mnot\u001b[39;00m \u001b[38;5;28misinstance\u001b[39m(node, Constant) \u001b[38;5;129;01mor\u001b[39;00m \u001b[38;5;28mtype\u001b[39m(node\u001b[38;5;241m.\u001b[39mvalue) \u001b[38;5;129;01mnot\u001b[39;00m \u001b[38;5;129;01min\u001b[39;00m (\u001b[38;5;28mint\u001b[39m, \u001b[38;5;28mfloat\u001b[39m, \u001b[38;5;28mcomplex\u001b[39m):\n\u001b[0;32m---> 74\u001b[0m         \u001b[43m_raise_malformed_node\u001b[49m\u001b[43m(\u001b[49m\u001b[43mnode\u001b[49m\u001b[43m)\u001b[49m\n\u001b[1;32m     75\u001b[0m     \u001b[38;5;28;01mreturn\u001b[39;00m node\u001b[38;5;241m.\u001b[39mvalue\n",
      "File \u001b[0;32m/opt/conda/lib/python3.11/ast.py:71\u001b[0m, in \u001b[0;36mliteral_eval.<locals>._raise_malformed_node\u001b[0;34m(node)\u001b[0m\n\u001b[1;32m     69\u001b[0m \u001b[38;5;28;01mif\u001b[39;00m lno \u001b[38;5;241m:=\u001b[39m \u001b[38;5;28mgetattr\u001b[39m(node, \u001b[38;5;124m'\u001b[39m\u001b[38;5;124mlineno\u001b[39m\u001b[38;5;124m'\u001b[39m, \u001b[38;5;28;01mNone\u001b[39;00m):\n\u001b[1;32m     70\u001b[0m     msg \u001b[38;5;241m+\u001b[39m\u001b[38;5;241m=\u001b[39m \u001b[38;5;124mf\u001b[39m\u001b[38;5;124m'\u001b[39m\u001b[38;5;124m on line \u001b[39m\u001b[38;5;132;01m{\u001b[39;00mlno\u001b[38;5;132;01m}\u001b[39;00m\u001b[38;5;124m'\u001b[39m\n\u001b[0;32m---> 71\u001b[0m \u001b[38;5;28;01mraise\u001b[39;00m \u001b[38;5;167;01mValueError\u001b[39;00m(msg \u001b[38;5;241m+\u001b[39m \u001b[38;5;124mf\u001b[39m\u001b[38;5;124m'\u001b[39m\u001b[38;5;124m: \u001b[39m\u001b[38;5;132;01m{\u001b[39;00mnode\u001b[38;5;132;01m!r}\u001b[39;00m\u001b[38;5;124m'\u001b[39m)\n",
      "\u001b[0;31mValueError\u001b[0m: malformed node or string: ['Brazil']"
     ]
    }
   ],
   "source": [
    "cwq_paths[\"topic_entities\"] = cwq_paths[\"topic_entities\"].apply(ast.literal_eval)\n"
   ]
  },
  {
   "cell_type": "code",
   "execution_count": 137,
   "metadata": {},
   "outputs": [
    {
     "name": "stdout",
     "output_type": "stream",
     "text": [
      "0\n"
     ]
    }
   ],
   "source": [
    "present_unique_entities.update(cwq_paths[\"topic_entities\"].explode().unique())\n",
    "present_unique_entities.update(cwq_paths[\"answer_ids\"].explode().apply(\n",
    "    lambda x: fbkb_graph.mid2name.get(x, None)\n",
    ").unique())\n",
    "\n",
    "print(len(unique_entities))\n"
   ]
  },
  {
   "cell_type": "code",
   "execution_count": 78,
   "metadata": {},
   "outputs": [
    {
     "data": {
      "text/html": [
       "<div>\n",
       "<style scoped>\n",
       "    .dataframe tbody tr th:only-of-type {\n",
       "        vertical-align: middle;\n",
       "    }\n",
       "\n",
       "    .dataframe tbody tr th {\n",
       "        vertical-align: top;\n",
       "    }\n",
       "\n",
       "    .dataframe thead th {\n",
       "        text-align: right;\n",
       "    }\n",
       "</style>\n",
       "<table border=\"1\" class=\"dataframe\">\n",
       "  <thead>\n",
       "    <tr style=\"text-align: right;\">\n",
       "      <th></th>\n",
       "      <th>ID</th>\n",
       "      <th>answers</th>\n",
       "      <th>composition_answer</th>\n",
       "      <th>created</th>\n",
       "      <th>machine_question</th>\n",
       "      <th>question</th>\n",
       "      <th>sparql</th>\n",
       "      <th>webqsp_ID</th>\n",
       "      <th>webqsp_question</th>\n",
       "      <th>answer_ids</th>\n",
       "      <th>Unnamed: 0</th>\n",
       "      <th>topic_entities</th>\n",
       "      <th>topic_ids</th>\n",
       "    </tr>\n",
       "    <tr>\n",
       "      <th>compositionality_type</th>\n",
       "      <th></th>\n",
       "      <th></th>\n",
       "      <th></th>\n",
       "      <th></th>\n",
       "      <th></th>\n",
       "      <th></th>\n",
       "      <th></th>\n",
       "      <th></th>\n",
       "      <th></th>\n",
       "      <th></th>\n",
       "      <th></th>\n",
       "      <th></th>\n",
       "      <th></th>\n",
       "    </tr>\n",
       "  </thead>\n",
       "  <tbody>\n",
       "    <tr>\n",
       "      <th>comparative</th>\n",
       "      <td>120</td>\n",
       "      <td>120</td>\n",
       "      <td>120</td>\n",
       "      <td>120</td>\n",
       "      <td>120</td>\n",
       "      <td>120</td>\n",
       "      <td>120</td>\n",
       "      <td>120</td>\n",
       "      <td>120</td>\n",
       "      <td>120</td>\n",
       "      <td>120</td>\n",
       "      <td>120</td>\n",
       "      <td>120</td>\n",
       "    </tr>\n",
       "    <tr>\n",
       "      <th>composition</th>\n",
       "      <td>818</td>\n",
       "      <td>818</td>\n",
       "      <td>818</td>\n",
       "      <td>818</td>\n",
       "      <td>818</td>\n",
       "      <td>818</td>\n",
       "      <td>818</td>\n",
       "      <td>818</td>\n",
       "      <td>818</td>\n",
       "      <td>818</td>\n",
       "      <td>818</td>\n",
       "      <td>818</td>\n",
       "      <td>818</td>\n",
       "    </tr>\n",
       "    <tr>\n",
       "      <th>conjunction</th>\n",
       "      <td>952</td>\n",
       "      <td>952</td>\n",
       "      <td>952</td>\n",
       "      <td>952</td>\n",
       "      <td>952</td>\n",
       "      <td>952</td>\n",
       "      <td>952</td>\n",
       "      <td>952</td>\n",
       "      <td>952</td>\n",
       "      <td>952</td>\n",
       "      <td>952</td>\n",
       "      <td>952</td>\n",
       "      <td>952</td>\n",
       "    </tr>\n",
       "    <tr>\n",
       "      <th>superlative</th>\n",
       "      <td>100</td>\n",
       "      <td>100</td>\n",
       "      <td>100</td>\n",
       "      <td>100</td>\n",
       "      <td>100</td>\n",
       "      <td>100</td>\n",
       "      <td>100</td>\n",
       "      <td>100</td>\n",
       "      <td>100</td>\n",
       "      <td>100</td>\n",
       "      <td>100</td>\n",
       "      <td>100</td>\n",
       "      <td>100</td>\n",
       "    </tr>\n",
       "  </tbody>\n",
       "</table>\n",
       "</div>"
      ],
      "text/plain": [
       "                        ID  answers  composition_answer  created  \\\n",
       "compositionality_type                                              \n",
       "comparative            120      120                 120      120   \n",
       "composition            818      818                 818      818   \n",
       "conjunction            952      952                 952      952   \n",
       "superlative            100      100                 100      100   \n",
       "\n",
       "                       machine_question  question  sparql  webqsp_ID  \\\n",
       "compositionality_type                                                  \n",
       "comparative                         120       120     120        120   \n",
       "composition                         818       818     818        818   \n",
       "conjunction                         952       952     952        952   \n",
       "superlative                         100       100     100        100   \n",
       "\n",
       "                       webqsp_question  answer_ids  Unnamed: 0  \\\n",
       "compositionality_type                                            \n",
       "comparative                        120         120         120   \n",
       "composition                        818         818         818   \n",
       "conjunction                        952         952         952   \n",
       "superlative                        100         100         100   \n",
       "\n",
       "                       topic_entities  topic_ids  \n",
       "compositionality_type                             \n",
       "comparative                       120        120  \n",
       "composition                       818        818  \n",
       "conjunction                       952        952  \n",
       "superlative                       100        100  "
      ]
     },
     "execution_count": 78,
     "metadata": {},
     "output_type": "execute_result"
    }
   ],
   "source": [
    "cwq_paths.groupby(\"compositionality_type\").count()"
   ]
  },
  {
   "cell_type": "markdown",
   "metadata": {},
   "source": [
    "### Look at number of hops"
   ]
  },
  {
   "cell_type": "code",
   "execution_count": 27,
   "metadata": {},
   "outputs": [],
   "source": [
    "def get_path_len(row):\n",
    "    for start in row.topic_ids:\n",
    "        for target in row.answer_ids:\n",
    "            try:\n",
    "                if nx.has_path(fbkb_graph._graph, start, target):\n",
    "                    return nx.shortest_path_length(fbkb_graph._graph, start, target)\n",
    "            except nx.NodeNotFound:\n",
    "                continue\n",
    "    return -1"
   ]
  },
  {
   "cell_type": "code",
   "execution_count": 29,
   "metadata": {},
   "outputs": [
    {
     "name": "stderr",
     "output_type": "stream",
     "text": [
      "/tmp/ipykernel_3173/1313171908.py:1: SettingWithCopyWarning: \n",
      "A value is trying to be set on a copy of a slice from a DataFrame.\n",
      "Try using .loc[row_indexer,col_indexer] = value instead\n",
      "\n",
      "See the caveats in the documentation: https://pandas.pydata.org/pandas-docs/stable/user_guide/indexing.html#returning-a-view-versus-a-copy\n",
      "  cwq_paths[\"hops\"] = cwq_paths.apply(get_path_len, axis=1)\n"
     ]
    },
    {
     "data": {
      "text/html": [
       "<div>\n",
       "<style scoped>\n",
       "    .dataframe tbody tr th:only-of-type {\n",
       "        vertical-align: middle;\n",
       "    }\n",
       "\n",
       "    .dataframe tbody tr th {\n",
       "        vertical-align: top;\n",
       "    }\n",
       "\n",
       "    .dataframe thead th {\n",
       "        text-align: right;\n",
       "    }\n",
       "</style>\n",
       "<table border=\"1\" class=\"dataframe\">\n",
       "  <thead>\n",
       "    <tr style=\"text-align: right;\">\n",
       "      <th></th>\n",
       "      <th>ID</th>\n",
       "      <th>answers</th>\n",
       "      <th>composition_answer</th>\n",
       "      <th>compositionality_type</th>\n",
       "      <th>created</th>\n",
       "      <th>machine_question</th>\n",
       "      <th>question</th>\n",
       "      <th>sparql</th>\n",
       "      <th>webqsp_ID</th>\n",
       "      <th>webqsp_question</th>\n",
       "      <th>answer_ids</th>\n",
       "      <th>topic_entities</th>\n",
       "      <th>topic_ids</th>\n",
       "      <th>hops</th>\n",
       "    </tr>\n",
       "  </thead>\n",
       "  <tbody>\n",
       "    <tr>\n",
       "      <th>2</th>\n",
       "      <td>WebQTest-823_ed31f9dd431831dbd32a06b958c7c97c</td>\n",
       "      <td>[{'aliases': ['Brazilian ', 'República Federat...</td>\n",
       "      <td></td>\n",
       "      <td>conjunction</td>\n",
       "      <td>2018-02-13T04:12:26</td>\n",
       "      <td>what does bolivia border and is the country th...</td>\n",
       "      <td>What country borders Bolivia and contains GoiÃ¡s?</td>\n",
       "      <td>PREFIX ns: &lt;http://rdf.freebase.com/ns/&gt;\\nSELE...</td>\n",
       "      <td>WebQTest-823</td>\n",
       "      <td>what does bolivia border</td>\n",
       "      <td>[/m/015fr]</td>\n",
       "      <td>['Brazil']</td>\n",
       "      <td>[/m/0g84t93, /m/0g84t93, /m/0k20s, /m/0g84t93,...</td>\n",
       "      <td>5</td>\n",
       "    </tr>\n",
       "    <tr>\n",
       "      <th>10</th>\n",
       "      <td>WebQTest-1081_6118bd42202be020c123831a76c283c6</td>\n",
       "      <td>[{'aliases': ['Simpson College, main campus', ...</td>\n",
       "      <td>george washington carver</td>\n",
       "      <td>composition</td>\n",
       "      <td>2018-02-13T04:38:25</td>\n",
       "      <td>where did the person education institution is ...</td>\n",
       "      <td>What college did the President who attended Mi...</td>\n",
       "      <td>PREFIX ns: &lt;http://rdf.freebase.com/ns/&gt;\\nSELE...</td>\n",
       "      <td>WebQTest-1081</td>\n",
       "      <td>where did george washington carver go to collage</td>\n",
       "      <td>[/m/01xssh, /m/03v6t]</td>\n",
       "      <td>['Minneapolis High School', 'President']</td>\n",
       "      <td>[/m/0g84t93, /m/0g84t93, /m/02lw5z, /m/0g84t93...</td>\n",
       "      <td>5</td>\n",
       "    </tr>\n",
       "    <tr>\n",
       "      <th>12</th>\n",
       "      <td>WebQTrn-2873_143c89d70679c3e5257c93d8e2bc4c67</td>\n",
       "      <td>[{'aliases': ['New York County'], 'answer': 'M...</td>\n",
       "      <td></td>\n",
       "      <td>conjunction</td>\n",
       "      <td>2018-02-13T00:49:15</td>\n",
       "      <td>where does hector camacho live and the locatio...</td>\n",
       "      <td>Where does Hector Camacho live, where the loca...</td>\n",
       "      <td>PREFIX ns: &lt;http://rdf.freebase.com/ns/&gt;\\nSELE...</td>\n",
       "      <td>WebQTrn-2873</td>\n",
       "      <td>where does hector camacho live</td>\n",
       "      <td>[/m/0cc56]</td>\n",
       "      <td>['Hector Camacho', 'UTC-05:00 time zone']</td>\n",
       "      <td>[/m/0g84t93, /m/0g84t93, /m/02lw5z, /m/0g84t93...</td>\n",
       "      <td>5</td>\n",
       "    </tr>\n",
       "    <tr>\n",
       "      <th>13</th>\n",
       "      <td>WebQTest-1508_872253e47dd6ddaa213ff31eeda8783b</td>\n",
       "      <td>[{'aliases': ['Georgetown', 'Georgetown Univer...</td>\n",
       "      <td></td>\n",
       "      <td>conjunction</td>\n",
       "      <td>2018-02-13T05:30:06</td>\n",
       "      <td>when did bill clinton go to college and the lo...</td>\n",
       "      <td>What college did Bill Clinton attend that is i...</td>\n",
       "      <td>PREFIX ns: &lt;http://rdf.freebase.com/ns/&gt;\\nSELE...</td>\n",
       "      <td>WebQTest-1508</td>\n",
       "      <td>when did bill clinton go to college</td>\n",
       "      <td>[/m/0pspl]</td>\n",
       "      <td>['Bill Clinton', 'College', 'Eastern Time Zone']</td>\n",
       "      <td>[/m/0g84t93, /m/0g84t93, /m/0g84t93, /m/0g84t9...</td>\n",
       "      <td>5</td>\n",
       "    </tr>\n",
       "    <tr>\n",
       "      <th>14</th>\n",
       "      <td>WebQTrn-2674_831fb3325644a924d433e2b267f6d238</td>\n",
       "      <td>[{'aliases': ['SC', 'Palmetto State'], 'answer...</td>\n",
       "      <td></td>\n",
       "      <td>conjunction</td>\n",
       "      <td>2018-02-13T00:25:17</td>\n",
       "      <td>where is usc from and is the us state that has...</td>\n",
       "      <td>Which state includes a university that sometim...</td>\n",
       "      <td>PREFIX ns: &lt;http://rdf.freebase.com/ns/&gt;\\nSELE...</td>\n",
       "      <td>WebQTrn-2674</td>\n",
       "      <td>where is usc from</td>\n",
       "      <td>[/m/06yxd]</td>\n",
       "      <td>['USC', 'university', 'state', 'Columbia', 'ci...</td>\n",
       "      <td>[/m/0g84t93, /m/0g84t93, /m/0g84t93, /m/0g84t9...</td>\n",
       "      <td>5</td>\n",
       "    </tr>\n",
       "    <tr>\n",
       "      <th>...</th>\n",
       "      <td>...</td>\n",
       "      <td>...</td>\n",
       "      <td>...</td>\n",
       "      <td>...</td>\n",
       "      <td>...</td>\n",
       "      <td>...</td>\n",
       "      <td>...</td>\n",
       "      <td>...</td>\n",
       "      <td>...</td>\n",
       "      <td>...</td>\n",
       "      <td>...</td>\n",
       "      <td>...</td>\n",
       "      <td>...</td>\n",
       "      <td>...</td>\n",
       "    </tr>\n",
       "    <tr>\n",
       "      <th>3511</th>\n",
       "      <td>WebQTrn-1977_b6077507bbaab84d25fcd56dde6347d7</td>\n",
       "      <td>[{'aliases': ['Portugal Mens Football Team', '...</td>\n",
       "      <td></td>\n",
       "      <td>superlative</td>\n",
       "      <td>2017-10-26T02:02:02</td>\n",
       "      <td>who does cristiano ronaldo play for and is the...</td>\n",
       "      <td>Which of the sports teams for whom Cristiano R...</td>\n",
       "      <td>PREFIX ns: &lt;http://rdf.freebase.com/ns/&gt;\\nSELE...</td>\n",
       "      <td>WebQTrn-1977</td>\n",
       "      <td>who does cristiano ronaldo play for</td>\n",
       "      <td>[/m/02rqxc]</td>\n",
       "      <td>['Cristiano Ronaldo', 'sports teams', 'founded']</td>\n",
       "      <td>[/m/0g84t93, /m/0g84t93, /m/0g84t93, /m/0g84t9...</td>\n",
       "      <td>6</td>\n",
       "    </tr>\n",
       "    <tr>\n",
       "      <th>3513</th>\n",
       "      <td>WebQTrn-1941_f7bece72409e67de63a4c67a8f0bff15</td>\n",
       "      <td>[{'aliases': [], 'answer': 'Douglas County', '...</td>\n",
       "      <td></td>\n",
       "      <td>conjunction</td>\n",
       "      <td>2017-10-26T01:56:45</td>\n",
       "      <td>where is downtown littleton and has industrial...</td>\n",
       "      <td>What county is home to downtown Littleton and ...</td>\n",
       "      <td>PREFIX ns: &lt;http://rdf.freebase.com/ns/&gt;\\nSELE...</td>\n",
       "      <td>WebQTrn-1941</td>\n",
       "      <td>where is downtown littleton</td>\n",
       "      <td>[/m/0flbm]</td>\n",
       "      <td>['Littleton', 'county', 'industrial CO2 emissi...</td>\n",
       "      <td>[/m/0g84t93, /m/0g84t93, /m/02lw5z, /m/0g84t93...</td>\n",
       "      <td>5</td>\n",
       "    </tr>\n",
       "    <tr>\n",
       "      <th>3514</th>\n",
       "      <td>WebQTrn-2150_07cb920cde31205a4fd9196dfc55ac28</td>\n",
       "      <td>[{'aliases': ['Guatemala.'], 'answer': 'Guatem...</td>\n",
       "      <td></td>\n",
       "      <td>conjunction</td>\n",
       "      <td>2017-10-26T02:25:12</td>\n",
       "      <td>what 3 countries does mexico border and the IS...</td>\n",
       "      <td>Which of the 3 countries bordering Mexico has ...</td>\n",
       "      <td>PREFIX ns: &lt;http://rdf.freebase.com/ns/&gt;\\nSELE...</td>\n",
       "      <td>WebQTrn-2150</td>\n",
       "      <td>what 3 countries does mexico border</td>\n",
       "      <td>[/m/0345_]</td>\n",
       "      <td>['United States']</td>\n",
       "      <td>[/m/0g84t93, /m/0g84t93, /m/02lw5z, /m/0g84t93...</td>\n",
       "      <td>6</td>\n",
       "    </tr>\n",
       "    <tr>\n",
       "      <th>3515</th>\n",
       "      <td>WebQTrn-233_e803a6f9f263f7c8e6cfccb60becf497</td>\n",
       "      <td>[{'aliases': ['Madaglashti', 'Badakhshi', 'Far...</td>\n",
       "      <td>afghanistan</td>\n",
       "      <td>composition</td>\n",
       "      <td>2017-10-25T21:38:01</td>\n",
       "      <td>what language people speak in the governmental...</td>\n",
       "      <td>What language is spoken in the politician Moha...</td>\n",
       "      <td>PREFIX ns: &lt;http://rdf.freebase.com/ns/&gt;\\nSELE...</td>\n",
       "      <td>WebQTrn-233</td>\n",
       "      <td>what language people speak in afghanistan</td>\n",
       "      <td>[/m/02hwl5z, /m/0swlx]</td>\n",
       "      <td>['Mohammad Najibullah', 'country', 'language']</td>\n",
       "      <td>[/m/0g84t93, /m/0g84t93, /m/0g84t93, /m/0g84t9...</td>\n",
       "      <td>6</td>\n",
       "    </tr>\n",
       "    <tr>\n",
       "      <th>3517</th>\n",
       "      <td>WebQTrn-836_32d1e3cb0fe98830969482138a79309f</td>\n",
       "      <td>[{'aliases': ['Hindu'], 'answer': 'Hinduism', ...</td>\n",
       "      <td></td>\n",
       "      <td>conjunction</td>\n",
       "      <td>2017-10-25T23:06:50</td>\n",
       "      <td>what are the major religions in uk and the rel...</td>\n",
       "      <td>what is the major religions in uk that believe...</td>\n",
       "      <td>PREFIX ns: &lt;http://rdf.freebase.com/ns/&gt;\\nSELE...</td>\n",
       "      <td>WebQTrn-836</td>\n",
       "      <td>what are the major religions in uk</td>\n",
       "      <td>[/m/03j6c]</td>\n",
       "      <td>['Telangana Talli', 'Religion (in UK)']</td>\n",
       "      <td>[/m/0g84t93, /m/0g84t93, /m/02lw5z, /m/0g84t93...</td>\n",
       "      <td>5</td>\n",
       "    </tr>\n",
       "  </tbody>\n",
       "</table>\n",
       "<p>2215 rows × 14 columns</p>\n",
       "</div>"
      ],
      "text/plain": [
       "                                                  ID  \\\n",
       "2      WebQTest-823_ed31f9dd431831dbd32a06b958c7c97c   \n",
       "10    WebQTest-1081_6118bd42202be020c123831a76c283c6   \n",
       "12     WebQTrn-2873_143c89d70679c3e5257c93d8e2bc4c67   \n",
       "13    WebQTest-1508_872253e47dd6ddaa213ff31eeda8783b   \n",
       "14     WebQTrn-2674_831fb3325644a924d433e2b267f6d238   \n",
       "...                                              ...   \n",
       "3511   WebQTrn-1977_b6077507bbaab84d25fcd56dde6347d7   \n",
       "3513   WebQTrn-1941_f7bece72409e67de63a4c67a8f0bff15   \n",
       "3514   WebQTrn-2150_07cb920cde31205a4fd9196dfc55ac28   \n",
       "3515    WebQTrn-233_e803a6f9f263f7c8e6cfccb60becf497   \n",
       "3517    WebQTrn-836_32d1e3cb0fe98830969482138a79309f   \n",
       "\n",
       "                                                answers  \\\n",
       "2     [{'aliases': ['Brazilian ', 'República Federat...   \n",
       "10    [{'aliases': ['Simpson College, main campus', ...   \n",
       "12    [{'aliases': ['New York County'], 'answer': 'M...   \n",
       "13    [{'aliases': ['Georgetown', 'Georgetown Univer...   \n",
       "14    [{'aliases': ['SC', 'Palmetto State'], 'answer...   \n",
       "...                                                 ...   \n",
       "3511  [{'aliases': ['Portugal Mens Football Team', '...   \n",
       "3513  [{'aliases': [], 'answer': 'Douglas County', '...   \n",
       "3514  [{'aliases': ['Guatemala.'], 'answer': 'Guatem...   \n",
       "3515  [{'aliases': ['Madaglashti', 'Badakhshi', 'Far...   \n",
       "3517  [{'aliases': ['Hindu'], 'answer': 'Hinduism', ...   \n",
       "\n",
       "            composition_answer compositionality_type              created  \\\n",
       "2                                        conjunction  2018-02-13T04:12:26   \n",
       "10    george washington carver           composition  2018-02-13T04:38:25   \n",
       "12                                       conjunction  2018-02-13T00:49:15   \n",
       "13                                       conjunction  2018-02-13T05:30:06   \n",
       "14                                       conjunction  2018-02-13T00:25:17   \n",
       "...                        ...                   ...                  ...   \n",
       "3511                                     superlative  2017-10-26T02:02:02   \n",
       "3513                                     conjunction  2017-10-26T01:56:45   \n",
       "3514                                     conjunction  2017-10-26T02:25:12   \n",
       "3515               afghanistan           composition  2017-10-25T21:38:01   \n",
       "3517                                     conjunction  2017-10-25T23:06:50   \n",
       "\n",
       "                                       machine_question  \\\n",
       "2     what does bolivia border and is the country th...   \n",
       "10    where did the person education institution is ...   \n",
       "12    where does hector camacho live and the locatio...   \n",
       "13    when did bill clinton go to college and the lo...   \n",
       "14    where is usc from and is the us state that has...   \n",
       "...                                                 ...   \n",
       "3511  who does cristiano ronaldo play for and is the...   \n",
       "3513  where is downtown littleton and has industrial...   \n",
       "3514  what 3 countries does mexico border and the IS...   \n",
       "3515  what language people speak in the governmental...   \n",
       "3517  what are the major religions in uk and the rel...   \n",
       "\n",
       "                                               question  \\\n",
       "2     What country borders Bolivia and contains GoiÃ¡s?   \n",
       "10    What college did the President who attended Mi...   \n",
       "12    Where does Hector Camacho live, where the loca...   \n",
       "13    What college did Bill Clinton attend that is i...   \n",
       "14    Which state includes a university that sometim...   \n",
       "...                                                 ...   \n",
       "3511  Which of the sports teams for whom Cristiano R...   \n",
       "3513  What county is home to downtown Littleton and ...   \n",
       "3514  Which of the 3 countries bordering Mexico has ...   \n",
       "3515  What language is spoken in the politician Moha...   \n",
       "3517  what is the major religions in uk that believe...   \n",
       "\n",
       "                                                 sparql      webqsp_ID  \\\n",
       "2     PREFIX ns: <http://rdf.freebase.com/ns/>\\nSELE...   WebQTest-823   \n",
       "10    PREFIX ns: <http://rdf.freebase.com/ns/>\\nSELE...  WebQTest-1081   \n",
       "12    PREFIX ns: <http://rdf.freebase.com/ns/>\\nSELE...   WebQTrn-2873   \n",
       "13    PREFIX ns: <http://rdf.freebase.com/ns/>\\nSELE...  WebQTest-1508   \n",
       "14    PREFIX ns: <http://rdf.freebase.com/ns/>\\nSELE...   WebQTrn-2674   \n",
       "...                                                 ...            ...   \n",
       "3511  PREFIX ns: <http://rdf.freebase.com/ns/>\\nSELE...   WebQTrn-1977   \n",
       "3513  PREFIX ns: <http://rdf.freebase.com/ns/>\\nSELE...   WebQTrn-1941   \n",
       "3514  PREFIX ns: <http://rdf.freebase.com/ns/>\\nSELE...   WebQTrn-2150   \n",
       "3515  PREFIX ns: <http://rdf.freebase.com/ns/>\\nSELE...    WebQTrn-233   \n",
       "3517  PREFIX ns: <http://rdf.freebase.com/ns/>\\nSELE...    WebQTrn-836   \n",
       "\n",
       "                                       webqsp_question  \\\n",
       "2                             what does bolivia border   \n",
       "10    where did george washington carver go to collage   \n",
       "12                      where does hector camacho live   \n",
       "13                 when did bill clinton go to college   \n",
       "14                                   where is usc from   \n",
       "...                                                ...   \n",
       "3511               who does cristiano ronaldo play for   \n",
       "3513                       where is downtown littleton   \n",
       "3514               what 3 countries does mexico border   \n",
       "3515         what language people speak in afghanistan   \n",
       "3517                what are the major religions in uk   \n",
       "\n",
       "                  answer_ids  \\\n",
       "2                 [/m/015fr]   \n",
       "10     [/m/01xssh, /m/03v6t]   \n",
       "12                [/m/0cc56]   \n",
       "13                [/m/0pspl]   \n",
       "14                [/m/06yxd]   \n",
       "...                      ...   \n",
       "3511             [/m/02rqxc]   \n",
       "3513              [/m/0flbm]   \n",
       "3514              [/m/0345_]   \n",
       "3515  [/m/02hwl5z, /m/0swlx]   \n",
       "3517              [/m/03j6c]   \n",
       "\n",
       "                                         topic_entities  \\\n",
       "2                                            ['Brazil']   \n",
       "10             ['Minneapolis High School', 'President']   \n",
       "12            ['Hector Camacho', 'UTC-05:00 time zone']   \n",
       "13     ['Bill Clinton', 'College', 'Eastern Time Zone']   \n",
       "14    ['USC', 'university', 'state', 'Columbia', 'ci...   \n",
       "...                                                 ...   \n",
       "3511   ['Cristiano Ronaldo', 'sports teams', 'founded']   \n",
       "3513  ['Littleton', 'county', 'industrial CO2 emissi...   \n",
       "3514                                  ['United States']   \n",
       "3515     ['Mohammad Najibullah', 'country', 'language']   \n",
       "3517            ['Telangana Talli', 'Religion (in UK)']   \n",
       "\n",
       "                                              topic_ids  hops  \n",
       "2     [/m/0g84t93, /m/0g84t93, /m/0k20s, /m/0g84t93,...     5  \n",
       "10    [/m/0g84t93, /m/0g84t93, /m/02lw5z, /m/0g84t93...     5  \n",
       "12    [/m/0g84t93, /m/0g84t93, /m/02lw5z, /m/0g84t93...     5  \n",
       "13    [/m/0g84t93, /m/0g84t93, /m/0g84t93, /m/0g84t9...     5  \n",
       "14    [/m/0g84t93, /m/0g84t93, /m/0g84t93, /m/0g84t9...     5  \n",
       "...                                                 ...   ...  \n",
       "3511  [/m/0g84t93, /m/0g84t93, /m/0g84t93, /m/0g84t9...     6  \n",
       "3513  [/m/0g84t93, /m/0g84t93, /m/02lw5z, /m/0g84t93...     5  \n",
       "3514  [/m/0g84t93, /m/0g84t93, /m/02lw5z, /m/0g84t93...     6  \n",
       "3515  [/m/0g84t93, /m/0g84t93, /m/0g84t93, /m/0g84t9...     6  \n",
       "3517  [/m/0g84t93, /m/0g84t93, /m/02lw5z, /m/0g84t93...     5  \n",
       "\n",
       "[2215 rows x 14 columns]"
      ]
     },
     "execution_count": 29,
     "metadata": {},
     "output_type": "execute_result"
    }
   ],
   "source": [
    "cwq_paths[\"hops\"] = cwq_paths.apply(get_path_len, axis=1)\n",
    "cwq_paths"
   ]
  },
  {
   "cell_type": "code",
   "execution_count": 31,
   "metadata": {},
   "outputs": [
    {
     "data": {
      "text/plain": [
       "<Axes: ylabel='Frequency'>"
      ]
     },
     "execution_count": 31,
     "metadata": {},
     "output_type": "execute_result"
    },
    {
     "data": {
      "image/png": "[encoded data removed]",
      "text/plain": [
       "<Figure size 640x480 with 1 Axes>"
      ]
     },
     "metadata": {},
     "output_type": "display_data"
    }
   ],
   "source": [
    "cwq_paths[\"hops\"].plot.hist()"
   ]
  },
  {
   "cell_type": "markdown",
   "metadata": {},
   "source": [
    "### Sample"
   ]
  },
  {
   "cell_type": "code",
   "execution_count": 35,
   "metadata": {},
   "outputs": [
    {
     "name": "stderr",
     "output_type": "stream",
     "text": [
      "/tmp/ipykernel_3173/446404923.py:7: DeprecationWarning: DataFrameGroupBy.apply operated on the grouping columns. This behavior is deprecated, and in a future version of pandas the grouping columns will be excluded from the operation. Either pass `include_groups=False` to exclude the groupings or explicitly select the grouping columns after groupby to silence this warning.\n",
      "  cwq_subset = cwq_paths.groupby(\"compositionality_type\", group_keys=False).apply(lambda x: x.sample(n=sample_size[x.name], random_state=42))\n"
     ]
    },
    {
     "data": {
      "text/html": [
       "<div>\n",
       "<style scoped>\n",
       "    .dataframe tbody tr th:only-of-type {\n",
       "        vertical-align: middle;\n",
       "    }\n",
       "\n",
       "    .dataframe tbody tr th {\n",
       "        vertical-align: top;\n",
       "    }\n",
       "\n",
       "    .dataframe thead th {\n",
       "        text-align: right;\n",
       "    }\n",
       "</style>\n",
       "<table border=\"1\" class=\"dataframe\">\n",
       "  <thead>\n",
       "    <tr style=\"text-align: right;\">\n",
       "      <th></th>\n",
       "      <th>ID</th>\n",
       "      <th>answers</th>\n",
       "      <th>composition_answer</th>\n",
       "      <th>compositionality_type</th>\n",
       "      <th>created</th>\n",
       "      <th>machine_question</th>\n",
       "      <th>question</th>\n",
       "      <th>sparql</th>\n",
       "      <th>webqsp_ID</th>\n",
       "      <th>webqsp_question</th>\n",
       "      <th>answer_ids</th>\n",
       "      <th>topic_entities</th>\n",
       "      <th>topic_ids</th>\n",
       "      <th>hops</th>\n",
       "    </tr>\n",
       "  </thead>\n",
       "  <tbody>\n",
       "    <tr>\n",
       "      <th>894</th>\n",
       "      <td>WebQTest-1311_e920e31a99d6b7dfbeef110668d3103d</td>\n",
       "      <td>[{'aliases': ['W. Morris'], 'answer': 'William...</td>\n",
       "      <td></td>\n",
       "      <td>comparative</td>\n",
       "      <td>2017-10-26T10:08:36</td>\n",
       "      <td>what was antoni gaudi inspired by and the pers...</td>\n",
       "      <td>What inspiration of Antoni Gaudi died later th...</td>\n",
       "      <td>PREFIX ns: &lt;http://rdf.freebase.com/ns/&gt;\\nSELE...</td>\n",
       "      <td>WebQTest-1311</td>\n",
       "      <td>what was antoni gaudi inspired by</td>\n",
       "      <td>[/m/08304]</td>\n",
       "      <td>['Antoni Gaudi', 'death date (not explicitly m...</td>\n",
       "      <td>[/m/0g84t93, /m/0g84t93, /m/0g84t93, /m/0g84t9...</td>\n",
       "      <td>5</td>\n",
       "    </tr>\n",
       "    <tr>\n",
       "      <th>1329</th>\n",
       "      <td>WebQTest-1382_b9b879060be6df6cb7cd937a7996f9d9</td>\n",
       "      <td>[{'aliases': ['Brazilian ', 'República Federat...</td>\n",
       "      <td></td>\n",
       "      <td>comparative</td>\n",
       "      <td>2017-10-26T10:25:29</td>\n",
       "      <td>what other countries border argentina and numb...</td>\n",
       "      <td>What country borders Argentina and has an army...</td>\n",
       "      <td>PREFIX ns: &lt;http://rdf.freebase.com/ns/&gt;\\nSELE...</td>\n",
       "      <td>WebQTest-1382</td>\n",
       "      <td>what other countries border argentina</td>\n",
       "      <td>[/m/015fr]</td>\n",
       "      <td>['Chile', 'Brazil']</td>\n",
       "      <td>[/m/0g84t93, /m/0g84t93, /m/02lw5z, /m/0g84t93...</td>\n",
       "      <td>5</td>\n",
       "    </tr>\n",
       "  </tbody>\n",
       "</table>\n",
       "</div>"
      ],
      "text/plain": [
       "                                                  ID  \\\n",
       "894   WebQTest-1311_e920e31a99d6b7dfbeef110668d3103d   \n",
       "1329  WebQTest-1382_b9b879060be6df6cb7cd937a7996f9d9   \n",
       "\n",
       "                                                answers composition_answer  \\\n",
       "894   [{'aliases': ['W. Morris'], 'answer': 'William...                      \n",
       "1329  [{'aliases': ['Brazilian ', 'República Federat...                      \n",
       "\n",
       "     compositionality_type              created  \\\n",
       "894            comparative  2017-10-26T10:08:36   \n",
       "1329           comparative  2017-10-26T10:25:29   \n",
       "\n",
       "                                       machine_question  \\\n",
       "894   what was antoni gaudi inspired by and the pers...   \n",
       "1329  what other countries border argentina and numb...   \n",
       "\n",
       "                                               question  \\\n",
       "894   What inspiration of Antoni Gaudi died later th...   \n",
       "1329  What country borders Argentina and has an army...   \n",
       "\n",
       "                                                 sparql      webqsp_ID  \\\n",
       "894   PREFIX ns: <http://rdf.freebase.com/ns/>\\nSELE...  WebQTest-1311   \n",
       "1329  PREFIX ns: <http://rdf.freebase.com/ns/>\\nSELE...  WebQTest-1382   \n",
       "\n",
       "                            webqsp_question  answer_ids  \\\n",
       "894       what was antoni gaudi inspired by  [/m/08304]   \n",
       "1329  what other countries border argentina  [/m/015fr]   \n",
       "\n",
       "                                         topic_entities  \\\n",
       "894   ['Antoni Gaudi', 'death date (not explicitly m...   \n",
       "1329                                ['Chile', 'Brazil']   \n",
       "\n",
       "                                              topic_ids  hops  \n",
       "894   [/m/0g84t93, /m/0g84t93, /m/0g84t93, /m/0g84t9...     5  \n",
       "1329  [/m/0g84t93, /m/0g84t93, /m/02lw5z, /m/0g84t93...     5  "
      ]
     },
     "execution_count": 35,
     "metadata": {},
     "output_type": "execute_result"
    }
   ],
   "source": [
    "sample_size = {\n",
    "    \"comparative\": 100,\n",
    "    \"composition\": 400,\n",
    "    \"conjunction\": 400,\n",
    "    \"superlative\": 100,\n",
    "}\n",
    "cwq_subset = cwq_paths.groupby(\"compositionality_type\", group_keys=False).apply(lambda x: x.sample(n=sample_size[x.name], random_state=42))\n",
    "cwq_subset.head(2)"
   ]
  },
  {
   "cell_type": "code",
   "execution_count": 34,
   "metadata": {},
   "outputs": [
    {
     "data": {
      "text/plain": [
       "<Axes: ylabel='Frequency'>"
      ]
     },
     "execution_count": 34,
     "metadata": {},
     "output_type": "execute_result"
    },
    {
     "data": {
      "image/png": "[encoded data removed]",
      "text/plain": [
       "<Figure size 640x480 with 1 Axes>"
      ]
     },
     "metadata": {},
     "output_type": "display_data"
    }
   ],
   "source": [
    "cwq_subset[\"hops\"].plot.hist()"
   ]
  },
  {
   "cell_type": "code",
   "execution_count": 205,
   "metadata": {},
   "outputs": [],
   "source": [
    "def extract_answers(answer_list):\n",
    "    return list(map(lambda x: x[\"answer\"], answer_list))"
   ]
  },
  {
   "cell_type": "code",
   "execution_count": 209,
   "metadata": {},
   "outputs": [
    {
     "data": {
      "text/html": [
       "<div>\n",
       "<style scoped>\n",
       "    .dataframe tbody tr th:only-of-type {\n",
       "        vertical-align: middle;\n",
       "    }\n",
       "\n",
       "    .dataframe tbody tr th {\n",
       "        vertical-align: top;\n",
       "    }\n",
       "\n",
       "    .dataframe thead th {\n",
       "        text-align: right;\n",
       "    }\n",
       "</style>\n",
       "<table border=\"1\" class=\"dataframe\">\n",
       "  <thead>\n",
       "    <tr style=\"text-align: right;\">\n",
       "      <th></th>\n",
       "      <th>ID</th>\n",
       "      <th>answers</th>\n",
       "      <th>composition_answer</th>\n",
       "      <th>compositionality_type</th>\n",
       "      <th>created</th>\n",
       "      <th>machine_question</th>\n",
       "      <th>question</th>\n",
       "      <th>sparql</th>\n",
       "      <th>webqsp_ID</th>\n",
       "      <th>webqsp_question</th>\n",
       "      <th>topic_entities</th>\n",
       "      <th>topic_ids</th>\n",
       "      <th>answer_ids</th>\n",
       "      <th>answer_list</th>\n",
       "    </tr>\n",
       "  </thead>\n",
       "  <tbody>\n",
       "    <tr>\n",
       "      <th>894</th>\n",
       "      <td>WebQTest-1311_e920e31a99d6b7dfbeef110668d3103d</td>\n",
       "      <td>[{'aliases': ['W. Morris'], 'answer': 'William...</td>\n",
       "      <td></td>\n",
       "      <td>comparative</td>\n",
       "      <td>2017-10-26T10:08:36</td>\n",
       "      <td>what was antoni gaudi inspired by and the pers...</td>\n",
       "      <td>What inspiration of Antoni Gaudi died later th...</td>\n",
       "      <td>PREFIX ns: &lt;http://rdf.freebase.com/ns/&gt;\\nSELE...</td>\n",
       "      <td>WebQTest-1311</td>\n",
       "      <td>what was antoni gaudi inspired by</td>\n",
       "      <td>['Antoni Gaudi', 'death date (not explicitly m...</td>\n",
       "      <td>[/m/0g84t93, /m/0g84t93, /m/0g84t93, /m/0g84t9...</td>\n",
       "      <td>[/m/08304]</td>\n",
       "      <td>[William Morris]</td>\n",
       "    </tr>\n",
       "  </tbody>\n",
       "</table>\n",
       "</div>"
      ],
      "text/plain": [
       "                                                 ID  \\\n",
       "894  WebQTest-1311_e920e31a99d6b7dfbeef110668d3103d   \n",
       "\n",
       "                                               answers composition_answer  \\\n",
       "894  [{'aliases': ['W. Morris'], 'answer': 'William...                      \n",
       "\n",
       "    compositionality_type              created  \\\n",
       "894           comparative  2017-10-26T10:08:36   \n",
       "\n",
       "                                      machine_question  \\\n",
       "894  what was antoni gaudi inspired by and the pers...   \n",
       "\n",
       "                                              question  \\\n",
       "894  What inspiration of Antoni Gaudi died later th...   \n",
       "\n",
       "                                                sparql      webqsp_ID  \\\n",
       "894  PREFIX ns: <http://rdf.freebase.com/ns/>\\nSELE...  WebQTest-1311   \n",
       "\n",
       "                       webqsp_question  \\\n",
       "894  what was antoni gaudi inspired by   \n",
       "\n",
       "                                        topic_entities  \\\n",
       "894  ['Antoni Gaudi', 'death date (not explicitly m...   \n",
       "\n",
       "                                             topic_ids  answer_ids  \\\n",
       "894  [/m/0g84t93, /m/0g84t93, /m/0g84t93, /m/0g84t9...  [/m/08304]   \n",
       "\n",
       "          answer_list  \n",
       "894  [William Morris]  "
      ]
     },
     "execution_count": 209,
     "metadata": {},
     "output_type": "execute_result"
    }
   ],
   "source": [
    "cwq_subset[\"answer_list\"] = cwq_subset[\"answers\"].apply(extract_answers)\n",
    "cwq_subset.head(1)"
   ]
  },
  {
   "cell_type": "code",
   "execution_count": 210,
   "metadata": {},
   "outputs": [],
   "source": [
    "cwq_subset[[\"ID\", \"compositionality_type\", \"question\", \"answers\", \"topic_ids\", \"answer_ids\"]].to_csv(\"/datasets/CWQ/cwq-1000.csv\")"
   ]
  }
 ],
 "metadata": {
  "kernelspec": {
   "display_name": "Python 3 (ipykernel)",
   "language": "python",
   "name": "python3"
  },
  "language_info": {
   "codemirror_mode": {
    "name": "ipython",
    "version": 3
   },
   "file_extension": ".py",
   "mimetype": "text/x-python",
   "name": "python",
   "nbconvert_exporter": "python",
   "pygments_lexer": "ipython3",
   "version": "3.11.10"
  }
 },
 "nbformat": 4,
 "nbformat_minor": 2
}
