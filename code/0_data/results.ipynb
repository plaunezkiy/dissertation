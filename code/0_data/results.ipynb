{
 "cells": [
  {
   "cell_type": "markdown",
   "metadata": {},
   "source": [
    "### Converts full 14k MQA results into a 1k representative sample"
   ]
  },
  {
   "cell_type": "code",
   "execution_count": 5,
   "metadata": {},
   "outputs": [],
   "source": [
    "%load_ext autoreload\n",
    "%autoreload 2"
   ]
  },
  {
   "cell_type": "code",
   "execution_count": 1,
   "metadata": {},
   "outputs": [],
   "source": [
    "import pandas as pd\n",
    "import os\n",
    "from utils.graph import KGraphPreproc\n",
    "from utils.evaluation import FBQA_Dataset, MetaQA_Dataset, CWQ_Dataset\n",
    "import networkx as nx"
   ]
  },
  {
   "cell_type": "code",
   "execution_count": 2,
   "metadata": {},
   "outputs": [],
   "source": [
    "cwq_eval = CWQ_Dataset()\n",
    "fbqa_eval = FBQA_Dataset()\n",
    "mqa_eval = MetaQA_Dataset()"
   ]
  },
  {
   "cell_type": "code",
   "execution_count": 25,
   "metadata": {},
   "outputs": [
    {
     "name": "stdout",
     "output_type": "stream",
     "text": [
      "CWQ\n",
      "+-----------+------------+\n",
      "| Method    |   Test Set |\n",
      "+===========+============+\n",
      "| bline     |      0.3   |\n",
      "+-----------+------------+\n",
      "| kb-path   |      0.621 |\n",
      "+-----------+------------+\n",
      "| kb1       |      0.291 |\n",
      "+-----------+------------+\n",
      "| kb2       |      0.302 |\n",
      "+-----------+------------+\n",
      "| kb3       |      0.301 |\n",
      "+-----------+------------+\n",
      "| sbert-kb1 |      0.241 |\n",
      "+-----------+------------+\n",
      "| sbert-kb2 |      0.226 |\n",
      "+-----------+------------+\n",
      "| sbert-kb3 |      0.217 |\n",
      "+-----------+------------+\n"
     ]
    }
   ],
   "source": [
    "cwq_eval.tabulate_performance()"
   ]
  },
  {
   "cell_type": "code",
   "execution_count": 11,
   "metadata": {},
   "outputs": [
    {
     "name": "stdout",
     "output_type": "stream",
     "text": [
      "FBQA\n",
      "+-----------+------------+\n",
      "| Method    |   Test Set |\n",
      "+===========+============+\n",
      "| bline     |      0.762 |\n",
      "+-----------+------------+\n",
      "| bline2    |      0.752 |\n",
      "+-----------+------------+\n",
      "| kb-path   |      0.795 |\n",
      "+-----------+------------+\n",
      "| kb1       |      0.737 |\n",
      "+-----------+------------+\n",
      "| kb2       |      0.745 |\n",
      "+-----------+------------+\n",
      "| kb3       |      0.737 |\n",
      "+-----------+------------+\n",
      "| sbert-kb1 |      0.511 |\n",
      "+-----------+------------+\n",
      "| sbert-kb2 |      0.563 |\n",
      "+-----------+------------+\n",
      "| sbert-kb3 |      0.559 |\n",
      "+-----------+------------+\n"
     ]
    }
   ],
   "source": [
    "fbqa_eval.tabulate_performance()"
   ]
  },
  {
   "cell_type": "code",
   "execution_count": 22,
   "metadata": {},
   "outputs": [
    {
     "name": "stdout",
     "output_type": "stream",
     "text": [
      "MetaQA\n",
      "+-----------+----------+--------+--------+\n",
      "| Method    |     1hop |   2hop |   3hop |\n",
      "+===========+==========+========+========+\n",
      "| bline     | 0.388    |  0.222 |  0.398 |\n",
      "+-----------+----------+--------+--------+\n",
      "| bline2    | 0.397    |  0.209 |  0.39  |\n",
      "+-----------+----------+--------+--------+\n",
      "| kb-path   | 0.972    |  0.974 |  0.981 |\n",
      "+-----------+----------+--------+--------+\n",
      "| kb1       | 0.88     |  0.166 |  0.341 |\n",
      "+-----------+----------+--------+--------+\n",
      "| kb2       | 0.841    |  0.739 |  0.358 |\n",
      "+-----------+----------+--------+--------+\n",
      "| kb3       | 0.834835 |  0.185 |  0.319 |\n",
      "+-----------+----------+--------+--------+\n",
      "| sbert-kb1 | 0.854    |  0.168 |  0.356 |\n",
      "+-----------+----------+--------+--------+\n",
      "| sbert-kb2 | 0.86     |  0.733 |  0.357 |\n",
      "+-----------+----------+--------+--------+\n",
      "| sbert-kb3 | 0.801    |  0.514 |  0.313 |\n",
      "+-----------+----------+--------+--------+\n"
     ]
    }
   ],
   "source": [
    "mqa_eval.tabulate_performance()"
   ]
  },
  {
   "cell_type": "code",
   "execution_count": 65,
   "metadata": {},
   "outputs": [
    {
     "data": {
      "text/html": [
       "<div>\n",
       "<style scoped>\n",
       "    .dataframe tbody tr th:only-of-type {\n",
       "        vertical-align: middle;\n",
       "    }\n",
       "\n",
       "    .dataframe tbody tr th {\n",
       "        vertical-align: top;\n",
       "    }\n",
       "\n",
       "    .dataframe thead th {\n",
       "        text-align: right;\n",
       "    }\n",
       "</style>\n",
       "<table border=\"1\" class=\"dataframe\">\n",
       "  <thead>\n",
       "    <tr style=\"text-align: right;\">\n",
       "      <th></th>\n",
       "      <th>Question</th>\n",
       "      <th>Answers</th>\n",
       "    </tr>\n",
       "    <tr>\n",
       "      <th>qid</th>\n",
       "      <th></th>\n",
       "      <th></th>\n",
       "    </tr>\n",
       "  </thead>\n",
       "  <tbody>\n",
       "    <tr>\n",
       "      <th>3710</th>\n",
       "      <td>who is the director that directed [Big Jake]</td>\n",
       "      <td>{george sherman, john wayne}</td>\n",
       "    </tr>\n",
       "    <tr>\n",
       "      <th>5313</th>\n",
       "      <td>what words describe [The Front Page]</td>\n",
       "      <td>{walter matthau, jack lemmon, billy wilder}</td>\n",
       "    </tr>\n",
       "  </tbody>\n",
       "</table>\n",
       "</div>"
      ],
      "text/plain": [
       "                                          Question  \\\n",
       "qid                                                  \n",
       "3710  who is the director that directed [Big Jake]   \n",
       "5313          what words describe [The Front Page]   \n",
       "\n",
       "                                          Answers  \n",
       "qid                                                \n",
       "3710                 {george sherman, john wayne}  \n",
       "5313  {walter matthau, jack lemmon, billy wilder}  "
      ]
     },
     "execution_count": 65,
     "metadata": {},
     "output_type": "execute_result"
    }
   ],
   "source": [
    "mqa_eval.test_sets[\"1hop\"].head(2)"
   ]
  },
  {
   "cell_type": "code",
   "execution_count": 115,
   "metadata": {},
   "outputs": [],
   "source": [
    "hop= \"1hop\""
   ]
  },
  {
   "cell_type": "code",
   "execution_count": 125,
   "metadata": {},
   "outputs": [
    {
     "data": {
      "text/plain": [
       "Question            what does [Walter Steiner] act in\n",
       "Answers     {the great ecstasy of woodcarver steiner}\n",
       "Name: 789, dtype: object"
      ]
     },
     "execution_count": 125,
     "metadata": {},
     "output_type": "execute_result"
    }
   ],
   "source": [
    "mqa_eval.test_sets[hop].loc[789]"
   ]
  },
  {
   "cell_type": "code",
   "execution_count": 58,
   "metadata": {},
   "outputs": [],
   "source": [
    "result_set_paths = [\n",
    "        \"/datasets/MetaQA/results/{hop}/full/bline.csv\",\n",
    "        \"/datasets/MetaQA/results/{hop}/full/bline2.csv\",\n",
    "        \"/datasets/MetaQA/results/{hop}/full/kb1.csv\",\n",
    "        \"/datasets/MetaQA/results/{hop}/full/kb2.csv\",\n",
    "        \"/datasets/MetaQA/results/{hop}/full/kb3.csv\",\n",
    "        \"/datasets/MetaQA/results/{hop}/full/sbert-kb3.csv\",\n",
    "    ]"
   ]
  },
  {
   "cell_type": "code",
   "execution_count": 163,
   "metadata": {},
   "outputs": [
    {
     "data": {
      "text/html": [
       "<div>\n",
       "<style scoped>\n",
       "    .dataframe tbody tr th:only-of-type {\n",
       "        vertical-align: middle;\n",
       "    }\n",
       "\n",
       "    .dataframe tbody tr th {\n",
       "        vertical-align: top;\n",
       "    }\n",
       "\n",
       "    .dataframe thead th {\n",
       "        text-align: right;\n",
       "    }\n",
       "</style>\n",
       "<table border=\"1\" class=\"dataframe\">\n",
       "  <thead>\n",
       "    <tr style=\"text-align: right;\">\n",
       "      <th></th>\n",
       "      <th>Model</th>\n",
       "      <th>Question</th>\n",
       "      <th>Answers</th>\n",
       "    </tr>\n",
       "  </thead>\n",
       "  <tbody>\n",
       "    <tr>\n",
       "      <th>8</th>\n",
       "      <td>German, English, Italian, French, German, Japa...</td>\n",
       "      <td>the movies that share actors with the movie [W...</td>\n",
       "      <td>{german, swedish, french, english}</td>\n",
       "    </tr>\n",
       "    <tr>\n",
       "      <th>14</th>\n",
       "      <td>1963, 1990</td>\n",
       "      <td>when did the movies starred by [Spencer's Moun...</td>\n",
       "      <td>{1942, 1966, 1955, 1952, 1947, 1998, 1981, 195...</td>\n",
       "    </tr>\n",
       "    <tr>\n",
       "      <th>27</th>\n",
       "      <td>Joseph L. Mankiewicz, Cameron Crowe, James McT...</td>\n",
       "      <td>who are the directors of films whose writers a...</td>\n",
       "      <td>{marc webb, michael bay}</td>\n",
       "    </tr>\n",
       "    <tr>\n",
       "      <th>31</th>\n",
       "      <td>1956, 1990, 1975, 1984, 1950</td>\n",
       "      <td>what were the release dates of films starred b...</td>\n",
       "      <td>{1966, 1955, 1953, 1994, 1957, 1972, 1958, 199...</td>\n",
       "    </tr>\n",
       "    <tr>\n",
       "      <th>47</th>\n",
       "      <td>English, Italian, German, Hebrew, Brazilian Po...</td>\n",
       "      <td>the films that share directors with the film [...</td>\n",
       "      <td>{german}</td>\n",
       "    </tr>\n",
       "  </tbody>\n",
       "</table>\n",
       "</div>"
      ],
      "text/plain": [
       "                                                Model  \\\n",
       "8   German, English, Italian, French, German, Japa...   \n",
       "14                                         1963, 1990   \n",
       "27  Joseph L. Mankiewicz, Cameron Crowe, James McT...   \n",
       "31                       1956, 1990, 1975, 1984, 1950   \n",
       "47  English, Italian, German, Hebrew, Brazilian Po...   \n",
       "\n",
       "                                             Question  \\\n",
       "8   the movies that share actors with the movie [W...   \n",
       "14  when did the movies starred by [Spencer's Moun...   \n",
       "27  who are the directors of films whose writers a...   \n",
       "31  what were the release dates of films starred b...   \n",
       "47  the films that share directors with the film [...   \n",
       "\n",
       "                                              Answers  \n",
       "8                  {german, swedish, french, english}  \n",
       "14  {1942, 1966, 1955, 1952, 1947, 1998, 1981, 195...  \n",
       "27                           {marc webb, michael bay}  \n",
       "31  {1966, 1955, 1953, 1994, 1957, 1972, 1958, 199...  \n",
       "47                                           {german}  "
      ]
     },
     "execution_count": 163,
     "metadata": {},
     "output_type": "execute_result"
    }
   ],
   "source": [
    "for hop in mqa_eval.hops:\n",
    "    q_df = mqa_eval.test_sets[hop].copy()\n",
    "    for r_set in result_set_paths:\n",
    "        path = r_set.format(hop=hop)\n",
    "        try:\n",
    "            r_df = pd.read_csv(path)\n",
    "            mg = r_df.merge(q_df, how=\"left\", left_index=True, right_index=True).dropna()\n",
    "            # mg[\"Model\"].to_csv(path.replace(\"/full\", \"\"))\n",
    "        except FileNotFoundError:\n",
    "            continue\n",
    "mg.head()"
   ]
  },
  {
   "cell_type": "code",
   "execution_count": 152,
   "metadata": {},
   "outputs": [
    {
     "data": {
      "text/plain": [
       "0.388"
      ]
     },
     "execution_count": 152,
     "metadata": {},
     "output_type": "execute_result"
    }
   ],
   "source": [
    "for hop in mqa_eval.hops:\n",
    "    q_df = mqa_eval.test_sets[hop].copy()\n",
    "    for r_set in result_set_paths:\n",
    "        path = r_set.format(hop=hop)\n",
    "        try:\n",
    "            r_df = pd.read_csv(path)\n",
    "            mg = r_df.merge(q_df, how=\"left\", left_index=True, right_index=True).dropna()\n",
    "            # mg[\"Model\"].to_csv(path.replace(\"/full\", \"\"))\n",
    "        except FileNotFoundError:\n",
    "            continue\n",
    "        mg.fillna(\"\", inplace=True)\n",
    "        mg[\"Model\"] = mg.apply(lambda t: set(t.Model.lower().split(\"|\")), axis=1)\n",
    "        # # compute rouge-match and correctness\n",
    "        # # print(result_df)\n",
    "        mg[\"rouge-l\"] = mg.apply(lambda t: mqa_eval.get_rouge_score_for_answers(t.Answers, t.Model), axis=1)\n",
    "        mg[\"Correct\"] = mg.apply(lambda t: t[\"rouge-l\"] >= 0.5, axis=1)\n",
    "        break\n",
    "    break\n",
    "mg.Correct.sum() / len(mg)"
   ]
  }
 ],
 "metadata": {
  "kernelspec": {
   "display_name": "Python 3 (ipykernel)",
   "language": "python",
   "name": "python3"
  }
 },
 "nbformat": 4,
 "nbformat_minor": 2
}
